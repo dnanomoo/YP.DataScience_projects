{
 "cells": [
  {
   "cell_type": "markdown",
   "metadata": {},
   "source": [
    "<div style=\"border:solid Blue 2px; padding: 40px\">\n",
    "<h1>  Рекомендация тарифов</h1>\n",
    "    \n",
    "    \n",
    "    Имеются данные о поведении клиентов, которые еще не перешли на тарифы \"Смарт\" и \"Ультра\" - клиенты пользуются архивными тарифами. Необходимо построить модель  которая проанализирует поведение клиента и предложит ему один из новых тарифов.\n",
    "    Предобработка данных не понадобится.\n",
    "\n",
    "    Задача: построить модель с максимально большим значением accuracy. \n",
    "    Нужно довести долю правильных ответов по крайней мере до 0.75. \n",
    "    Проверяем accuracy на тестовой выборке а также проверяем модель на адекватность."
   ]
  },
  {
   "cell_type": "markdown",
   "metadata": {},
   "source": [
    "### Открываем и изучаем файл"
   ]
  },
  {
   "cell_type": "code",
   "execution_count": 1,
   "metadata": {},
   "outputs": [],
   "source": [
    "import pandas as pd\n",
    "import seaborn as sns\n",
    "from sklearn.model_selection import train_test_split\n",
    "from sklearn.ensemble import RandomForestClassifier\n",
    "from sklearn.tree import DecisionTreeClassifier\n",
    "from sklearn.linear_model import LogisticRegression\n",
    "from sklearn.dummy import DummyClassifier\n",
    "from sklearn.metrics import accuracy_score"
   ]
  },
  {
   "cell_type": "code",
   "execution_count": 2,
   "metadata": {},
   "outputs": [],
   "source": [
    "df = pd.read_csv('/datasets/users_behavior.csv')"
   ]
  },
  {
   "cell_type": "code",
   "execution_count": 3,
   "metadata": {},
   "outputs": [
    {
     "name": "stdout",
     "output_type": "stream",
     "text": [
      "<class 'pandas.core.frame.DataFrame'>\n",
      "RangeIndex: 3214 entries, 0 to 3213\n",
      "Data columns (total 5 columns):\n",
      " #   Column    Non-Null Count  Dtype  \n",
      "---  ------    --------------  -----  \n",
      " 0   calls     3214 non-null   float64\n",
      " 1   minutes   3214 non-null   float64\n",
      " 2   messages  3214 non-null   float64\n",
      " 3   mb_used   3214 non-null   float64\n",
      " 4   is_ultra  3214 non-null   int64  \n",
      "dtypes: float64(4), int64(1)\n",
      "memory usage: 125.7 KB\n"
     ]
    }
   ],
   "source": [
    "df.info()"
   ]
  },
  {
   "cell_type": "code",
   "execution_count": 4,
   "metadata": {},
   "outputs": [
    {
     "data": {
      "text/html": [
       "<div>\n",
       "<style scoped>\n",
       "    .dataframe tbody tr th:only-of-type {\n",
       "        vertical-align: middle;\n",
       "    }\n",
       "\n",
       "    .dataframe tbody tr th {\n",
       "        vertical-align: top;\n",
       "    }\n",
       "\n",
       "    .dataframe thead th {\n",
       "        text-align: right;\n",
       "    }\n",
       "</style>\n",
       "<table border=\"1\" class=\"dataframe\">\n",
       "  <thead>\n",
       "    <tr style=\"text-align: right;\">\n",
       "      <th></th>\n",
       "      <th>calls</th>\n",
       "      <th>minutes</th>\n",
       "      <th>messages</th>\n",
       "      <th>mb_used</th>\n",
       "      <th>is_ultra</th>\n",
       "    </tr>\n",
       "  </thead>\n",
       "  <tbody>\n",
       "    <tr>\n",
       "      <th>0</th>\n",
       "      <td>40.0</td>\n",
       "      <td>311.90</td>\n",
       "      <td>83.0</td>\n",
       "      <td>19915.42</td>\n",
       "      <td>0</td>\n",
       "    </tr>\n",
       "    <tr>\n",
       "      <th>1</th>\n",
       "      <td>85.0</td>\n",
       "      <td>516.75</td>\n",
       "      <td>56.0</td>\n",
       "      <td>22696.96</td>\n",
       "      <td>0</td>\n",
       "    </tr>\n",
       "    <tr>\n",
       "      <th>2</th>\n",
       "      <td>77.0</td>\n",
       "      <td>467.66</td>\n",
       "      <td>86.0</td>\n",
       "      <td>21060.45</td>\n",
       "      <td>0</td>\n",
       "    </tr>\n",
       "    <tr>\n",
       "      <th>3</th>\n",
       "      <td>106.0</td>\n",
       "      <td>745.53</td>\n",
       "      <td>81.0</td>\n",
       "      <td>8437.39</td>\n",
       "      <td>1</td>\n",
       "    </tr>\n",
       "    <tr>\n",
       "      <th>4</th>\n",
       "      <td>66.0</td>\n",
       "      <td>418.74</td>\n",
       "      <td>1.0</td>\n",
       "      <td>14502.75</td>\n",
       "      <td>0</td>\n",
       "    </tr>\n",
       "  </tbody>\n",
       "</table>\n",
       "</div>"
      ],
      "text/plain": [
       "   calls  minutes  messages   mb_used  is_ultra\n",
       "0   40.0   311.90      83.0  19915.42         0\n",
       "1   85.0   516.75      56.0  22696.96         0\n",
       "2   77.0   467.66      86.0  21060.45         0\n",
       "3  106.0   745.53      81.0   8437.39         1\n",
       "4   66.0   418.74       1.0  14502.75         0"
      ]
     },
     "execution_count": 4,
     "metadata": {},
     "output_type": "execute_result"
    }
   ],
   "source": [
    "df.head()"
   ]
  },
  {
   "cell_type": "code",
   "execution_count": 5,
   "metadata": {},
   "outputs": [
    {
     "data": {
      "text/html": [
       "<div>\n",
       "<style scoped>\n",
       "    .dataframe tbody tr th:only-of-type {\n",
       "        vertical-align: middle;\n",
       "    }\n",
       "\n",
       "    .dataframe tbody tr th {\n",
       "        vertical-align: top;\n",
       "    }\n",
       "\n",
       "    .dataframe thead th {\n",
       "        text-align: right;\n",
       "    }\n",
       "</style>\n",
       "<table border=\"1\" class=\"dataframe\">\n",
       "  <thead>\n",
       "    <tr style=\"text-align: right;\">\n",
       "      <th></th>\n",
       "      <th>calls</th>\n",
       "      <th>minutes</th>\n",
       "      <th>messages</th>\n",
       "      <th>mb_used</th>\n",
       "      <th>is_ultra</th>\n",
       "    </tr>\n",
       "  </thead>\n",
       "  <tbody>\n",
       "    <tr>\n",
       "      <th>calls</th>\n",
       "      <td>1.000000</td>\n",
       "      <td>0.982083</td>\n",
       "      <td>0.177385</td>\n",
       "      <td>0.286442</td>\n",
       "      <td>0.207122</td>\n",
       "    </tr>\n",
       "    <tr>\n",
       "      <th>minutes</th>\n",
       "      <td>0.982083</td>\n",
       "      <td>1.000000</td>\n",
       "      <td>0.173110</td>\n",
       "      <td>0.280967</td>\n",
       "      <td>0.206955</td>\n",
       "    </tr>\n",
       "    <tr>\n",
       "      <th>messages</th>\n",
       "      <td>0.177385</td>\n",
       "      <td>0.173110</td>\n",
       "      <td>1.000000</td>\n",
       "      <td>0.195721</td>\n",
       "      <td>0.203830</td>\n",
       "    </tr>\n",
       "    <tr>\n",
       "      <th>mb_used</th>\n",
       "      <td>0.286442</td>\n",
       "      <td>0.280967</td>\n",
       "      <td>0.195721</td>\n",
       "      <td>1.000000</td>\n",
       "      <td>0.198568</td>\n",
       "    </tr>\n",
       "    <tr>\n",
       "      <th>is_ultra</th>\n",
       "      <td>0.207122</td>\n",
       "      <td>0.206955</td>\n",
       "      <td>0.203830</td>\n",
       "      <td>0.198568</td>\n",
       "      <td>1.000000</td>\n",
       "    </tr>\n",
       "  </tbody>\n",
       "</table>\n",
       "</div>"
      ],
      "text/plain": [
       "             calls   minutes  messages   mb_used  is_ultra\n",
       "calls     1.000000  0.982083  0.177385  0.286442  0.207122\n",
       "minutes   0.982083  1.000000  0.173110  0.280967  0.206955\n",
       "messages  0.177385  0.173110  1.000000  0.195721  0.203830\n",
       "mb_used   0.286442  0.280967  0.195721  1.000000  0.198568\n",
       "is_ultra  0.207122  0.206955  0.203830  0.198568  1.000000"
      ]
     },
     "execution_count": 5,
     "metadata": {},
     "output_type": "execute_result"
    }
   ],
   "source": [
    "df.corr()"
   ]
  },
  {
   "cell_type": "code",
   "execution_count": 6,
   "metadata": {},
   "outputs": [
    {
     "data": {
      "text/html": [
       "<div>\n",
       "<style scoped>\n",
       "    .dataframe tbody tr th:only-of-type {\n",
       "        vertical-align: middle;\n",
       "    }\n",
       "\n",
       "    .dataframe tbody tr th {\n",
       "        vertical-align: top;\n",
       "    }\n",
       "\n",
       "    .dataframe thead th {\n",
       "        text-align: right;\n",
       "    }\n",
       "</style>\n",
       "<table border=\"1\" class=\"dataframe\">\n",
       "  <thead>\n",
       "    <tr style=\"text-align: right;\">\n",
       "      <th></th>\n",
       "      <th>calls</th>\n",
       "      <th>minutes</th>\n",
       "      <th>messages</th>\n",
       "      <th>mb_used</th>\n",
       "      <th>is_ultra</th>\n",
       "    </tr>\n",
       "  </thead>\n",
       "  <tbody>\n",
       "    <tr>\n",
       "      <th>count</th>\n",
       "      <td>3214.000000</td>\n",
       "      <td>3214.000000</td>\n",
       "      <td>3214.000000</td>\n",
       "      <td>3214.000000</td>\n",
       "      <td>3214.000000</td>\n",
       "    </tr>\n",
       "    <tr>\n",
       "      <th>mean</th>\n",
       "      <td>63.038892</td>\n",
       "      <td>438.208787</td>\n",
       "      <td>38.281269</td>\n",
       "      <td>17207.673836</td>\n",
       "      <td>0.306472</td>\n",
       "    </tr>\n",
       "    <tr>\n",
       "      <th>std</th>\n",
       "      <td>33.236368</td>\n",
       "      <td>234.569872</td>\n",
       "      <td>36.148326</td>\n",
       "      <td>7570.968246</td>\n",
       "      <td>0.461100</td>\n",
       "    </tr>\n",
       "    <tr>\n",
       "      <th>min</th>\n",
       "      <td>0.000000</td>\n",
       "      <td>0.000000</td>\n",
       "      <td>0.000000</td>\n",
       "      <td>0.000000</td>\n",
       "      <td>0.000000</td>\n",
       "    </tr>\n",
       "    <tr>\n",
       "      <th>25%</th>\n",
       "      <td>40.000000</td>\n",
       "      <td>274.575000</td>\n",
       "      <td>9.000000</td>\n",
       "      <td>12491.902500</td>\n",
       "      <td>0.000000</td>\n",
       "    </tr>\n",
       "    <tr>\n",
       "      <th>50%</th>\n",
       "      <td>62.000000</td>\n",
       "      <td>430.600000</td>\n",
       "      <td>30.000000</td>\n",
       "      <td>16943.235000</td>\n",
       "      <td>0.000000</td>\n",
       "    </tr>\n",
       "    <tr>\n",
       "      <th>75%</th>\n",
       "      <td>82.000000</td>\n",
       "      <td>571.927500</td>\n",
       "      <td>57.000000</td>\n",
       "      <td>21424.700000</td>\n",
       "      <td>1.000000</td>\n",
       "    </tr>\n",
       "    <tr>\n",
       "      <th>max</th>\n",
       "      <td>244.000000</td>\n",
       "      <td>1632.060000</td>\n",
       "      <td>224.000000</td>\n",
       "      <td>49745.730000</td>\n",
       "      <td>1.000000</td>\n",
       "    </tr>\n",
       "  </tbody>\n",
       "</table>\n",
       "</div>"
      ],
      "text/plain": [
       "             calls      minutes     messages       mb_used     is_ultra\n",
       "count  3214.000000  3214.000000  3214.000000   3214.000000  3214.000000\n",
       "mean     63.038892   438.208787    38.281269  17207.673836     0.306472\n",
       "std      33.236368   234.569872    36.148326   7570.968246     0.461100\n",
       "min       0.000000     0.000000     0.000000      0.000000     0.000000\n",
       "25%      40.000000   274.575000     9.000000  12491.902500     0.000000\n",
       "50%      62.000000   430.600000    30.000000  16943.235000     0.000000\n",
       "75%      82.000000   571.927500    57.000000  21424.700000     1.000000\n",
       "max     244.000000  1632.060000   224.000000  49745.730000     1.000000"
      ]
     },
     "execution_count": 6,
     "metadata": {},
     "output_type": "execute_result"
    }
   ],
   "source": [
    "df.describe()"
   ]
  },
  {
   "cell_type": "markdown",
   "metadata": {},
   "source": [
    "<div style=\"border:solid Blue 2px; padding: 40px\">\n",
    "    \n",
    "    Ревью: \n",
    "   - Пропусков в данных нет. \n",
    "   - Типы данных также корректные.\n",
    "   - Смотрим на данные целиком с помощью графика"
   ]
  },
  {
   "cell_type": "code",
   "execution_count": 7,
   "metadata": {},
   "outputs": [
    {
     "data": {
      "image/png": "[encoded data removed]",
      "text/plain": [
       "<Figure size 360x360 with 6 Axes>"
      ]
     },
     "metadata": {
      "needs_background": "light"
     },
     "output_type": "display_data"
    }
   ],
   "source": [
    "sns.pairplot(df[['calls', 'minutes']]);"
   ]
  },
  {
   "cell_type": "markdown",
   "metadata": {},
   "source": [
    "    Обнаружили мультиколлинеарность - что может осложнить обучение. \n",
    "    Решить проблему поможет удаление одного из признаков"
   ]
  },
  {
   "cell_type": "markdown",
   "metadata": {},
   "source": [
    "## Деление на выборки"
   ]
  },
  {
   "cell_type": "markdown",
   "metadata": {},
   "source": [
    "<div style=\"border:solid Blue 2px; padding: 40px\">\n",
    "    \n",
    " - Разбиваем данные на три выборки и проверяем их конечные размеры"
   ]
  },
  {
   "cell_type": "code",
   "execution_count": 8,
   "metadata": {},
   "outputs": [],
   "source": [
    "df_2 = df.copy()\n",
    "df_2 = df_2.drop('calls', axis=1)\n",
    "features = df_2.drop('is_ultra', axis=1)\n",
    "target = df_2['is_ultra']"
   ]
  },
  {
   "cell_type": "code",
   "execution_count": 9,
   "metadata": {},
   "outputs": [],
   "source": [
    "features_train, features_tmp, target_train, target_tmp = \\\n",
    "    train_test_split(features, target, test_size=0.4, random_state=12345, stratify=target)\n",
    "features_valid, features_test, target_valid, target_test = \\\n",
    "    train_test_split(features_tmp, target_tmp, test_size=0.5, random_state=12345, stratify=target_tmp)"
   ]
  },
  {
   "cell_type": "code",
   "execution_count": 10,
   "metadata": {},
   "outputs": [],
   "source": [
    "#print(target_valid.shape)\n",
    "#print(features_valid.shape)\n",
    "#print(features_test.shape)"
   ]
  },
  {
   "cell_type": "markdown",
   "metadata": {},
   "source": [
    "- ***features_valid*** - валидационная выборка \n",
    "- ***features_train*** - тренировочная выборка\n",
    "- ***features_test*** - тестовая выборка"
   ]
  },
  {
   "cell_type": "markdown",
   "metadata": {},
   "source": [
    "## Исследуем модели"
   ]
  },
  {
   "cell_type": "markdown",
   "metadata": {},
   "source": [
    "<div style=\"border:solid Blue 2px; padding: 40px\">\n",
    "    \n",
    "    Целевой признак: \n",
    "  - Hаличие у абонента тарифа \"Ультра\" (1- есть, 0- нет). \n",
    "  - Целевой признак категориальный, значит решаем задачу ***классификации*** и рассмотрим для решения этой задачи  несколько моделей машинного обучения."
   ]
  },
  {
   "cell_type": "markdown",
   "metadata": {},
   "source": [
    "### Модель 1: **RandomForestClassifier**"
   ]
  },
  {
   "cell_type": "code",
   "execution_count": 11,
   "metadata": {},
   "outputs": [],
   "source": [
    "n_estimators_count = 0\n",
    "#кол-во деревьев\n",
    "max_depth_count = 0\n",
    "#глубина дерева\n",
    "accuracy_count = 0\n",
    "#качество модели\n",
    "\n",
    "for n_es in range(10, 101, 10):\n",
    "    for max_d in range(2, 16):\n",
    "        model_random_forest = RandomForestClassifier(random_state=12345, max_depth=max_d, n_estimators=n_es)\n",
    "        model_random_forest.fit(features_train, target_train)\n",
    "        pred_random_forest = model_random_forest.predict(features_valid)\n",
    "        accuracy_random_forest = accuracy_score(pred_random_forest, target_valid)\n",
    "        if accuracy_random_forest > accuracy_count:\n",
    "            n_estimators_count = n_es\n",
    "            max_depth_count = max_d\n",
    "            accuracy_count = accuracy_random_forest\n",
    "       "
   ]
  },
  {
   "cell_type": "code",
   "execution_count": 12,
   "metadata": {},
   "outputs": [
    {
     "name": "stdout",
     "output_type": "stream",
     "text": [
      "Качество модели Случайный лес: 0.816\n",
      "Максимальная глубина: 12\n",
      "Кол-во деревьев: 50\n"
     ]
    }
   ],
   "source": [
    "print('Качество модели Случайный лес:', accuracy_count.round(3))\n",
    "print('Максимальная глубина:', max_depth_count)\n",
    "print('Кол-во деревьев:', n_estimators_count)"
   ]
  },
  {
   "cell_type": "markdown",
   "metadata": {},
   "source": [
    "### Модель 2: **DecisionTreeClassifier**"
   ]
  },
  {
   "cell_type": "code",
   "execution_count": 13,
   "metadata": {},
   "outputs": [],
   "source": [
    "#кол-во деревьев\n",
    "dt_depth = 0\n",
    "#качество модели\n",
    "dt_result = 0\n",
    "\n",
    "for depth in range(1, 21):\n",
    "    model_dt = DecisionTreeClassifier(random_state=12345, max_depth=depth)\n",
    "    model_dt.fit(features_train, target_train)\n",
    "    predict_train = model_dt.predict(features_train)\n",
    "    predict_valid = model_dt.predict(features_valid)\n",
    "    train_result = accuracy_score(target_train, predict_train)\n",
    "    valid_result = accuracy_score(target_valid, predict_valid)\n",
    "    if valid_result > dt_result:\n",
    "        dt_depth = depth\n",
    "        dt_result = valid_result"
   ]
  },
  {
   "cell_type": "code",
   "execution_count": 14,
   "metadata": {},
   "outputs": [
    {
     "name": "stdout",
     "output_type": "stream",
     "text": [
      "Качество модели Дерево решений: 0.792\n",
      "Максимальная глубина: 8\n"
     ]
    }
   ],
   "source": [
    "print('Качество модели Дерево решений:', dt_result.round(3))\n",
    "print('Максимальная глубина:', dt_depth)"
   ]
  },
  {
   "cell_type": "markdown",
   "metadata": {},
   "source": [
    "### Модель 3: **LogisticRegression**"
   ]
  },
  {
   "cell_type": "code",
   "execution_count": 15,
   "metadata": {},
   "outputs": [],
   "source": [
    "model_logistic_reg = LogisticRegression()\n",
    "model_logistic_reg.fit(features_train, target_train)\n",
    "pridict_lr = model_logistic_reg.predict(features_valid)\n",
    "accuracy_lr = accuracy_score(pridict_lr, target_valid)"
   ]
  },
  {
   "cell_type": "code",
   "execution_count": 16,
   "metadata": {},
   "outputs": [
    {
     "name": "stdout",
     "output_type": "stream",
     "text": [
      "Качество модели Логистическая регрессия: 0.72\n"
     ]
    }
   ],
   "source": [
    "print('Качество модели Логистическая регрессия:', accuracy_lr.round(2))"
   ]
  },
  {
   "cell_type": "markdown",
   "metadata": {},
   "source": [
    "### **Сравнение точности трех моделей и выявление лучшей**"
   ]
  },
  {
   "cell_type": "code",
   "execution_count": 17,
   "metadata": {},
   "outputs": [
    {
     "name": "stdout",
     "output_type": "stream",
     "text": [
      "Качество модели Случайный лес: 0.816\n",
      "Качество модели Дерево решений: 0.792\n",
      "Качество модели Логистическая регрессия: 0.72\n"
     ]
    }
   ],
   "source": [
    "print('Качество модели Случайный лес:', accuracy_count.round(3))\n",
    "print('Качество модели Дерево решений:', dt_result.round(3))\n",
    "print('Качество модели Логистическая регрессия:', accuracy_lr.round(2))"
   ]
  },
  {
   "cell_type": "markdown",
   "metadata": {},
   "source": [
    "<div style=\"border:solid Blue 2px; padding: 40px\">\n",
    "    Вывод:\n",
    "    \n",
    "   - Разбили данные на выборки\n",
    "   - Обучили модели LogisticRegression, DecisionThreeClassifier, RandomForestClassifier\n",
    "   - Получила оценку качества моделей (accuracy)\n",
    "   - Осуществила подбор гиперпараметров в цикле\n",
    "    \n",
    "    \n",
    "    Исследовав три модели машинного обучения, выяснили что лучший результат принадлежит модели - Random forest."
   ]
  },
  {
   "cell_type": "markdown",
   "metadata": {},
   "source": [
    "## Проверяем модель на тестовой выборке"
   ]
  },
  {
   "cell_type": "markdown",
   "metadata": {},
   "source": [
    "<div style=\"border:solid Blue 2px; padding: 40px\">\n",
    "    \n",
    "    Проверка лучшей модели Random forest на тестовой (оценочной) выборке:"
   ]
  },
  {
   "cell_type": "code",
   "execution_count": 18,
   "metadata": {},
   "outputs": [],
   "source": [
    "predict_test = model_random_forest.predict(features_test)\n",
    "accuracy_test = accuracy_score(predict_test, target_test)"
   ]
  },
  {
   "cell_type": "code",
   "execution_count": 19,
   "metadata": {},
   "outputs": [
    {
     "name": "stdout",
     "output_type": "stream",
     "text": [
      "Результаты модели на тестовой выборке: 0.832\n",
      "Результаты модели на обучающей выборке: 0.7916\n"
     ]
    }
   ],
   "source": [
    "print('Результаты модели на тестовой выборке:', accuracy_test.round(4))\n",
    "print('Результаты модели на обучающей выборке:', dt_result.round(4))"
   ]
  },
  {
   "cell_type": "markdown",
   "metadata": {},
   "source": [
    "<div style=\"border:solid Blue 2px; padding: 40px\">\n",
    "    \n",
    "    Модель Random forest прошла проверку на тестовой выборке с результатом accuracy 0.83 - высокий показатель"
   ]
  },
  {
   "cell_type": "markdown",
   "metadata": {},
   "source": [
    "## Проверяем модель на адекватность"
   ]
  },
  {
   "cell_type": "code",
   "execution_count": 23,
   "metadata": {},
   "outputs": [
    {
     "name": "stdout",
     "output_type": "stream",
     "text": [
      "Адекватность модели DummyClassifier: 0.69\n"
     ]
    }
   ],
   "source": [
    "model_bonus = DummyClassifier(strategy='most_frequent', random_state=1)\n",
    "#константная модель, где по most_frequent будет предсказание\n",
    "model_bonus.fit(features_train, target_train)\n",
    "#обучение\n",
    "model_bonus.predict(features_valid)\n",
    "#предсказание\n",
    "acc = model_bonus.score(features_test, target_test)\n",
    "#считаем\n",
    "print('Адекватность модели DummyClassifier:', acc.round(2))"
   ]
  },
  {
   "cell_type": "markdown",
   "metadata": {},
   "source": [
    "## Вывод"
   ]
  },
  {
   "cell_type": "markdown",
   "metadata": {},
   "source": [
    "<div style=\"border:solid Blue 2px; padding: 40px\">\n",
    "<h1>  Итоговый комментарий </h1>\n",
    "    \n",
    "    - Данные поделили на выборки - тренировочную, валидационную и тестовую. Предобработка не требовалась.\n",
    "    - Построили нужную модель, подобрали гиперпараметры, добились на тренировочной выборке значение accuracy 0.79, а на тестовой 0.83 - что является хорошим показателем качества модели.\n",
    "    - Модель машинного обучения RandomForestClassifier (с параметрами: max_depth_count = 12 и n_estimators_count = 50) можно рекоммендовать для бизнеса в качестве дополнительного инструмента подбора тарифа."
   ]
  }
 ],
 "metadata": {
  "ExecuteTimeLog": [
   {
    "duration": 100,
    "start_time": "2022-09-29T09:21:47.408Z"
   },
   {
    "duration": 348,
    "start_time": "2022-09-29T09:21:52.655Z"
   },
   {
    "duration": 119,
    "start_time": "2022-09-29T09:21:53.586Z"
   },
   {
    "duration": 26,
    "start_time": "2022-09-29T09:22:18.971Z"
   },
   {
    "duration": 11,
    "start_time": "2022-09-29T09:22:48.291Z"
   },
   {
    "duration": 683,
    "start_time": "2022-09-29T09:27:23.149Z"
   },
   {
    "duration": 1042,
    "start_time": "2022-09-29T10:22:59.463Z"
   },
   {
    "duration": 34,
    "start_time": "2022-09-29T10:23:01.411Z"
   },
   {
    "duration": 13,
    "start_time": "2022-09-29T10:23:01.909Z"
   },
   {
    "duration": 24,
    "start_time": "2022-09-29T10:23:06.361Z"
   },
   {
    "duration": 1073,
    "start_time": "2022-10-01T08:12:01.005Z"
   },
   {
    "duration": 78,
    "start_time": "2022-10-01T08:12:03.282Z"
   },
   {
    "duration": 16,
    "start_time": "2022-10-01T08:12:03.577Z"
   },
   {
    "duration": 27,
    "start_time": "2022-10-01T08:12:03.908Z"
   },
   {
    "duration": 93,
    "start_time": "2022-10-01T08:12:04.814Z"
   },
   {
    "duration": 10,
    "start_time": "2022-10-01T08:14:12.867Z"
   },
   {
    "duration": 8,
    "start_time": "2022-10-01T08:20:28.355Z"
   },
   {
    "duration": 3,
    "start_time": "2022-10-01T08:20:39.946Z"
   },
   {
    "duration": 1108,
    "start_time": "2022-10-02T10:06:50.585Z"
   },
   {
    "duration": 79,
    "start_time": "2022-10-02T10:06:51.695Z"
   },
   {
    "duration": 17,
    "start_time": "2022-10-02T10:06:51.805Z"
   },
   {
    "duration": 18,
    "start_time": "2022-10-02T10:06:52.548Z"
   },
   {
    "duration": 3,
    "start_time": "2022-10-02T10:06:58.406Z"
   },
   {
    "duration": 30,
    "start_time": "2022-10-02T11:45:21.285Z"
   },
   {
    "duration": 12,
    "start_time": "2022-10-02T11:45:21.318Z"
   },
   {
    "duration": 12,
    "start_time": "2022-10-02T11:45:29.322Z"
   },
   {
    "duration": 13,
    "start_time": "2022-10-02T11:45:31.374Z"
   },
   {
    "duration": 31,
    "start_time": "2022-10-02T11:45:57.976Z"
   },
   {
    "duration": 7,
    "start_time": "2022-10-02T11:58:39.474Z"
   },
   {
    "duration": 4,
    "start_time": "2022-10-02T12:00:16.504Z"
   },
   {
    "duration": 6,
    "start_time": "2022-10-02T12:00:31.981Z"
   },
   {
    "duration": 3,
    "start_time": "2022-10-02T12:00:42.740Z"
   },
   {
    "duration": 101,
    "start_time": "2022-10-02T12:16:54.226Z"
   },
   {
    "duration": 4,
    "start_time": "2022-10-02T12:17:27.107Z"
   },
   {
    "duration": 3,
    "start_time": "2022-10-02T12:17:34.970Z"
   },
   {
    "duration": 4,
    "start_time": "2022-10-02T12:17:41.796Z"
   },
   {
    "duration": 4,
    "start_time": "2022-10-02T12:18:22.836Z"
   },
   {
    "duration": 3,
    "start_time": "2022-10-02T12:18:24.223Z"
   },
   {
    "duration": 4,
    "start_time": "2022-10-02T12:18:25.640Z"
   },
   {
    "duration": 58,
    "start_time": "2022-10-02T12:20:23.117Z"
   },
   {
    "duration": 16,
    "start_time": "2022-10-02T12:26:47.005Z"
   },
   {
    "duration": 9,
    "start_time": "2022-10-02T12:26:50.989Z"
   },
   {
    "duration": 5,
    "start_time": "2022-10-02T12:27:18.249Z"
   },
   {
    "duration": 5,
    "start_time": "2022-10-02T12:27:24.361Z"
   },
   {
    "duration": 4,
    "start_time": "2022-10-02T12:27:50.805Z"
   },
   {
    "duration": 5,
    "start_time": "2022-10-02T12:30:07.408Z"
   },
   {
    "duration": 4,
    "start_time": "2022-10-02T12:30:08.648Z"
   },
   {
    "duration": 4,
    "start_time": "2022-10-02T12:30:10.009Z"
   },
   {
    "duration": 1239,
    "start_time": "2022-10-03T07:21:54.936Z"
   },
   {
    "duration": 114,
    "start_time": "2022-10-03T07:21:56.804Z"
   },
   {
    "duration": 13,
    "start_time": "2022-10-03T07:21:57.115Z"
   },
   {
    "duration": 19,
    "start_time": "2022-10-03T07:21:57.404Z"
   },
   {
    "duration": 14,
    "start_time": "2022-10-03T07:21:57.752Z"
   },
   {
    "duration": 26,
    "start_time": "2022-10-03T07:21:58.063Z"
   },
   {
    "duration": 9,
    "start_time": "2022-10-03T07:21:59.243Z"
   },
   {
    "duration": 4,
    "start_time": "2022-10-03T07:21:59.612Z"
   },
   {
    "duration": 5,
    "start_time": "2022-10-03T07:22:01.608Z"
   },
   {
    "duration": 4,
    "start_time": "2022-10-03T07:22:01.997Z"
   },
   {
    "duration": 5,
    "start_time": "2022-10-03T07:22:02.370Z"
   },
   {
    "duration": 133,
    "start_time": "2022-10-03T07:22:03.216Z"
   },
   {
    "duration": 18,
    "start_time": "2022-10-03T07:22:57.893Z"
   },
   {
    "duration": 26,
    "start_time": "2022-10-03T07:30:01.163Z"
   },
   {
    "duration": 20,
    "start_time": "2022-10-03T07:30:08.287Z"
   },
   {
    "duration": 4,
    "start_time": "2022-10-03T07:30:14.943Z"
   },
   {
    "duration": 30,
    "start_time": "2022-10-03T07:30:15.685Z"
   },
   {
    "duration": 10,
    "start_time": "2022-10-03T07:30:16.100Z"
   },
   {
    "duration": 11,
    "start_time": "2022-10-03T07:30:16.475Z"
   },
   {
    "duration": 12,
    "start_time": "2022-10-03T07:30:16.782Z"
   },
   {
    "duration": 26,
    "start_time": "2022-10-03T07:30:17.017Z"
   },
   {
    "duration": 7,
    "start_time": "2022-10-03T07:30:17.824Z"
   },
   {
    "duration": 4,
    "start_time": "2022-10-03T07:30:18.030Z"
   },
   {
    "duration": 4,
    "start_time": "2022-10-03T07:30:19.185Z"
   },
   {
    "duration": 4,
    "start_time": "2022-10-03T07:30:19.499Z"
   },
   {
    "duration": 4,
    "start_time": "2022-10-03T07:30:19.827Z"
   },
   {
    "duration": 29,
    "start_time": "2022-10-03T07:30:20.765Z"
   },
   {
    "duration": 23,
    "start_time": "2022-10-03T07:30:47.142Z"
   },
   {
    "duration": 19,
    "start_time": "2022-10-03T07:30:54.385Z"
   },
   {
    "duration": 56,
    "start_time": "2022-10-03T10:03:23.496Z"
   },
   {
    "duration": 1212,
    "start_time": "2022-10-03T10:03:31.144Z"
   },
   {
    "duration": 67,
    "start_time": "2022-10-03T10:03:32.785Z"
   },
   {
    "duration": 12,
    "start_time": "2022-10-03T10:03:32.966Z"
   },
   {
    "duration": 21,
    "start_time": "2022-10-03T10:03:33.432Z"
   },
   {
    "duration": 11,
    "start_time": "2022-10-03T10:03:33.606Z"
   },
   {
    "duration": 24,
    "start_time": "2022-10-03T10:03:33.809Z"
   },
   {
    "duration": 8,
    "start_time": "2022-10-03T10:03:34.797Z"
   },
   {
    "duration": 4,
    "start_time": "2022-10-03T10:03:35.025Z"
   },
   {
    "duration": 6,
    "start_time": "2022-10-03T10:03:36.487Z"
   },
   {
    "duration": 4,
    "start_time": "2022-10-03T10:03:36.813Z"
   },
   {
    "duration": 4,
    "start_time": "2022-10-03T10:03:37.242Z"
   },
   {
    "duration": 76,
    "start_time": "2022-10-03T10:03:38.310Z"
   },
   {
    "duration": 58225,
    "start_time": "2022-10-03T10:04:44.881Z"
   },
   {
    "duration": 3,
    "start_time": "2022-10-03T10:06:36.144Z"
   },
   {
    "duration": 3,
    "start_time": "2022-10-03T10:06:54.108Z"
   },
   {
    "duration": 3,
    "start_time": "2022-10-03T10:07:01.700Z"
   },
   {
    "duration": 4,
    "start_time": "2022-10-03T10:10:26.909Z"
   },
   {
    "duration": 31,
    "start_time": "2022-10-03T10:10:27.310Z"
   },
   {
    "duration": 17,
    "start_time": "2022-10-03T10:10:27.604Z"
   },
   {
    "duration": 12,
    "start_time": "2022-10-03T10:10:27.917Z"
   },
   {
    "duration": 17,
    "start_time": "2022-10-03T10:10:28.204Z"
   },
   {
    "duration": 24,
    "start_time": "2022-10-03T10:10:28.506Z"
   },
   {
    "duration": 8,
    "start_time": "2022-10-03T10:10:29.412Z"
   },
   {
    "duration": 7,
    "start_time": "2022-10-03T10:10:29.712Z"
   },
   {
    "duration": 4,
    "start_time": "2022-10-03T10:10:30.945Z"
   },
   {
    "duration": 5,
    "start_time": "2022-10-03T10:10:31.270Z"
   },
   {
    "duration": 4,
    "start_time": "2022-10-03T10:10:31.577Z"
   },
   {
    "duration": 25025,
    "start_time": "2022-10-03T10:10:32.313Z"
   },
   {
    "duration": 9,
    "start_time": "2022-10-03T10:10:57.340Z"
   },
   {
    "duration": 4,
    "start_time": "2022-10-03T10:11:23.965Z"
   },
   {
    "duration": 4,
    "start_time": "2022-10-03T10:11:42.512Z"
   },
   {
    "duration": 10,
    "start_time": "2022-10-03T10:11:58.324Z"
   },
   {
    "duration": 4,
    "start_time": "2022-10-03T10:12:04.487Z"
   },
   {
    "duration": 3,
    "start_time": "2022-10-03T10:12:20.070Z"
   },
   {
    "duration": 3,
    "start_time": "2022-10-03T10:12:29.946Z"
   },
   {
    "duration": 5,
    "start_time": "2022-10-03T10:13:07.209Z"
   },
   {
    "duration": 4,
    "start_time": "2022-10-03T10:13:39.534Z"
   },
   {
    "duration": 4,
    "start_time": "2022-10-03T10:14:08.685Z"
   },
   {
    "duration": 10,
    "start_time": "2022-10-03T10:28:23.005Z"
   },
   {
    "duration": 17,
    "start_time": "2022-10-03T10:28:35.370Z"
   },
   {
    "duration": 25,
    "start_time": "2022-10-03T10:29:00.903Z"
   },
   {
    "duration": 6,
    "start_time": "2022-10-03T10:29:12.213Z"
   },
   {
    "duration": 47,
    "start_time": "2022-10-03T10:30:57.286Z"
   },
   {
    "duration": 7,
    "start_time": "2022-10-03T10:31:55.664Z"
   },
   {
    "duration": 9,
    "start_time": "2022-10-03T10:39:42.955Z"
   },
   {
    "duration": 206,
    "start_time": "2022-10-03T10:40:12.840Z"
   },
   {
    "duration": 237,
    "start_time": "2022-10-03T10:44:33.572Z"
   },
   {
    "duration": 4,
    "start_time": "2022-10-03T10:44:40.813Z"
   },
   {
    "duration": 4,
    "start_time": "2022-10-03T10:44:49.836Z"
   },
   {
    "duration": 5,
    "start_time": "2022-10-03T10:44:56.986Z"
   },
   {
    "duration": 4,
    "start_time": "2022-10-03T10:45:39.153Z"
   },
   {
    "duration": 4,
    "start_time": "2022-10-03T10:45:49.082Z"
   },
   {
    "duration": 3,
    "start_time": "2022-10-03T10:46:39.341Z"
   },
   {
    "duration": 4,
    "start_time": "2022-10-03T10:47:37.609Z"
   },
   {
    "duration": 345,
    "start_time": "2022-10-03T10:49:03.627Z"
   },
   {
    "duration": 4,
    "start_time": "2022-10-03T10:49:06.556Z"
   },
   {
    "duration": 186,
    "start_time": "2022-10-03T10:49:15.506Z"
   },
   {
    "duration": 4,
    "start_time": "2022-10-03T10:49:17.059Z"
   },
   {
    "duration": 217,
    "start_time": "2022-10-03T10:49:23.019Z"
   },
   {
    "duration": 5,
    "start_time": "2022-10-03T10:49:25.568Z"
   },
   {
    "duration": 163,
    "start_time": "2022-10-03T10:49:37.471Z"
   },
   {
    "duration": 5,
    "start_time": "2022-10-03T10:49:38.617Z"
   },
   {
    "duration": 230,
    "start_time": "2022-10-03T10:49:45.179Z"
   },
   {
    "duration": 4,
    "start_time": "2022-10-03T10:49:46.215Z"
   },
   {
    "duration": 29,
    "start_time": "2022-10-03T10:54:51.097Z"
   },
   {
    "duration": 10,
    "start_time": "2022-10-03T10:55:41.519Z"
   },
   {
    "duration": 4,
    "start_time": "2022-10-03T10:55:50.572Z"
   },
   {
    "duration": 3,
    "start_time": "2022-10-03T10:55:58.416Z"
   },
   {
    "duration": 3,
    "start_time": "2022-10-03T10:56:37.440Z"
   },
   {
    "duration": 4,
    "start_time": "2022-10-03T10:56:42.077Z"
   },
   {
    "duration": 4,
    "start_time": "2022-10-03T10:56:46.490Z"
   },
   {
    "duration": 4,
    "start_time": "2022-10-03T10:58:09.516Z"
   },
   {
    "duration": 11,
    "start_time": "2022-10-03T11:04:53.640Z"
   },
   {
    "duration": 15,
    "start_time": "2022-10-03T11:04:59.216Z"
   },
   {
    "duration": 3,
    "start_time": "2022-10-03T11:06:08.060Z"
   },
   {
    "duration": 11,
    "start_time": "2022-10-03T11:07:04.898Z"
   },
   {
    "duration": 3,
    "start_time": "2022-10-03T11:10:46.946Z"
   },
   {
    "duration": 4,
    "start_time": "2022-10-03T11:10:52.062Z"
   },
   {
    "duration": 29,
    "start_time": "2022-10-03T11:10:52.727Z"
   },
   {
    "duration": 13,
    "start_time": "2022-10-03T11:10:53.096Z"
   },
   {
    "duration": 13,
    "start_time": "2022-10-03T11:10:53.370Z"
   },
   {
    "duration": 12,
    "start_time": "2022-10-03T11:10:53.792Z"
   },
   {
    "duration": 24,
    "start_time": "2022-10-03T11:10:54.208Z"
   },
   {
    "duration": 6,
    "start_time": "2022-10-03T11:10:55.219Z"
   },
   {
    "duration": 3,
    "start_time": "2022-10-03T11:10:55.450Z"
   },
   {
    "duration": 4,
    "start_time": "2022-10-03T11:10:56.433Z"
   },
   {
    "duration": 5,
    "start_time": "2022-10-03T11:10:56.641Z"
   },
   {
    "duration": 4,
    "start_time": "2022-10-03T11:10:56.865Z"
   },
   {
    "duration": 24925,
    "start_time": "2022-10-03T11:10:57.329Z"
   },
   {
    "duration": 4,
    "start_time": "2022-10-03T11:11:22.257Z"
   },
   {
    "duration": 215,
    "start_time": "2022-10-03T11:11:33.738Z"
   },
   {
    "duration": 4,
    "start_time": "2022-10-03T11:11:34.158Z"
   },
   {
    "duration": 27,
    "start_time": "2022-10-03T11:11:39.006Z"
   },
   {
    "duration": 3,
    "start_time": "2022-10-03T11:11:39.457Z"
   },
   {
    "duration": 6,
    "start_time": "2022-10-03T11:11:40.955Z"
   },
   {
    "duration": 18,
    "start_time": "2022-10-03T11:11:46.142Z"
   },
   {
    "duration": 4,
    "start_time": "2022-10-03T11:11:46.613Z"
   },
   {
    "duration": 474,
    "start_time": "2022-10-03T11:14:44.508Z"
   },
   {
    "duration": 6,
    "start_time": "2022-10-03T11:14:57.289Z"
   },
   {
    "duration": 4,
    "start_time": "2022-10-03T11:16:12.879Z"
   },
   {
    "duration": 5,
    "start_time": "2022-10-03T11:16:17.789Z"
   },
   {
    "duration": 9,
    "start_time": "2022-10-03T11:20:57.004Z"
   },
   {
    "duration": 3,
    "start_time": "2022-10-03T13:26:07.992Z"
   },
   {
    "duration": 3,
    "start_time": "2022-10-03T13:26:09.853Z"
   },
   {
    "duration": 5,
    "start_time": "2022-10-03T13:32:21.892Z"
   },
   {
    "duration": 15,
    "start_time": "2022-10-03T13:32:24.701Z"
   },
   {
    "duration": 15,
    "start_time": "2022-10-03T13:32:52.511Z"
   },
   {
    "duration": 3,
    "start_time": "2022-10-03T13:34:14.545Z"
   },
   {
    "duration": 29,
    "start_time": "2022-10-03T13:34:15.760Z"
   },
   {
    "duration": 11,
    "start_time": "2022-10-03T13:34:16.336Z"
   },
   {
    "duration": 12,
    "start_time": "2022-10-03T13:34:16.858Z"
   },
   {
    "duration": 1149,
    "start_time": "2022-10-03T13:34:40.537Z"
   },
   {
    "duration": 32,
    "start_time": "2022-10-03T13:34:47.094Z"
   },
   {
    "duration": 12,
    "start_time": "2022-10-03T13:34:51.038Z"
   },
   {
    "duration": 10,
    "start_time": "2022-10-03T13:34:53.513Z"
   },
   {
    "duration": 18,
    "start_time": "2022-10-03T13:34:53.813Z"
   },
   {
    "duration": 14,
    "start_time": "2022-10-03T13:34:54.140Z"
   },
   {
    "duration": 28,
    "start_time": "2022-10-03T13:34:54.389Z"
   },
   {
    "duration": 120,
    "start_time": "2022-10-03T13:34:55.406Z"
   },
   {
    "duration": 11,
    "start_time": "2022-10-03T13:34:56.198Z"
   },
   {
    "duration": 11,
    "start_time": "2022-10-03T13:35:19.070Z"
   },
   {
    "duration": 4,
    "start_time": "2022-10-03T13:35:36.524Z"
   },
   {
    "duration": 33,
    "start_time": "2022-10-03T13:35:42.271Z"
   },
   {
    "duration": 1541,
    "start_time": "2022-10-03T13:35:59.122Z"
   },
   {
    "duration": 36,
    "start_time": "2022-10-03T13:36:00.665Z"
   },
   {
    "duration": 42,
    "start_time": "2022-10-03T13:36:00.703Z"
   },
   {
    "duration": 31,
    "start_time": "2022-10-03T13:36:01.384Z"
   },
   {
    "duration": 12,
    "start_time": "2022-10-03T13:36:01.642Z"
   },
   {
    "duration": 44,
    "start_time": "2022-10-03T13:36:01.886Z"
   },
   {
    "duration": 7,
    "start_time": "2022-10-03T13:36:03.396Z"
   },
   {
    "duration": 127,
    "start_time": "2022-10-03T13:36:07.702Z"
   },
   {
    "duration": 51,
    "start_time": "2022-10-04T12:04:41.250Z"
   },
   {
    "duration": 1115,
    "start_time": "2022-10-04T12:04:44.350Z"
   },
   {
    "duration": 70,
    "start_time": "2022-10-04T12:04:46.167Z"
   },
   {
    "duration": 14,
    "start_time": "2022-10-04T12:04:46.677Z"
   },
   {
    "duration": 18,
    "start_time": "2022-10-04T12:04:47.250Z"
   },
   {
    "duration": 11,
    "start_time": "2022-10-04T12:04:47.757Z"
   },
   {
    "duration": 25,
    "start_time": "2022-10-04T12:04:48.323Z"
   },
   {
    "duration": 4,
    "start_time": "2022-10-04T12:04:50.028Z"
   },
   {
    "duration": 8,
    "start_time": "2022-10-04T12:04:50.707Z"
   },
   {
    "duration": 84,
    "start_time": "2022-10-04T12:04:51.914Z"
   },
   {
    "duration": 4,
    "start_time": "2022-10-04T12:05:46.098Z"
   },
   {
    "duration": 3,
    "start_time": "2022-10-04T12:06:12.891Z"
   },
   {
    "duration": 9,
    "start_time": "2022-10-04T12:06:23.681Z"
   },
   {
    "duration": 13,
    "start_time": "2022-10-04T12:06:24.087Z"
   },
   {
    "duration": 3,
    "start_time": "2022-10-04T12:06:47.762Z"
   },
   {
    "duration": 3,
    "start_time": "2022-10-04T12:07:24.550Z"
   },
   {
    "duration": 32953,
    "start_time": "2022-10-04T12:07:26.384Z"
   },
   {
    "duration": 4,
    "start_time": "2022-10-04T12:07:59.339Z"
   },
   {
    "duration": 288,
    "start_time": "2022-10-04T12:09:27.950Z"
   },
   {
    "duration": 4,
    "start_time": "2022-10-04T12:09:30.326Z"
   },
   {
    "duration": 438,
    "start_time": "2022-10-04T12:09:34.951Z"
   },
   {
    "duration": 3,
    "start_time": "2022-10-04T12:09:36.951Z"
   },
   {
    "duration": 4,
    "start_time": "2022-10-04T12:09:40.051Z"
   },
   {
    "duration": 25,
    "start_time": "2022-10-04T12:09:52.933Z"
   },
   {
    "duration": 4,
    "start_time": "2022-10-04T12:09:55.332Z"
   },
   {
    "duration": 3,
    "start_time": "2022-10-04T12:10:02.839Z"
   },
   {
    "duration": 2,
    "start_time": "2022-10-04T12:10:04.119Z"
   },
   {
    "duration": 4,
    "start_time": "2022-10-04T12:13:31.693Z"
   },
   {
    "duration": 9,
    "start_time": "2022-10-04T12:16:05.818Z"
   },
   {
    "duration": 4,
    "start_time": "2022-10-04T12:16:13.487Z"
   },
   {
    "duration": 4,
    "start_time": "2022-10-04T12:16:30.198Z"
   },
   {
    "duration": 4,
    "start_time": "2022-10-04T12:16:42.107Z"
   },
   {
    "duration": 2,
    "start_time": "2022-10-04T12:16:58.036Z"
   },
   {
    "duration": 12,
    "start_time": "2022-10-04T12:18:58.098Z"
   },
   {
    "duration": 21893,
    "start_time": "2022-10-04T12:34:21.740Z"
   },
   {
    "duration": 297,
    "start_time": "2022-10-04T12:34:43.637Z"
   },
   {
    "duration": 300,
    "start_time": "2022-10-04T12:34:43.939Z"
   },
   {
    "duration": 294,
    "start_time": "2022-10-04T12:34:44.242Z"
   },
   {
    "duration": 403,
    "start_time": "2022-10-04T12:34:44.637Z"
   },
   {
    "duration": 796,
    "start_time": "2022-10-04T12:34:45.136Z"
   },
   {
    "duration": 97,
    "start_time": "2022-10-04T12:34:45.937Z"
   },
   {
    "duration": 402,
    "start_time": "2022-10-04T12:34:46.040Z"
   },
   {
    "duration": 394,
    "start_time": "2022-10-04T12:34:46.541Z"
   },
   {
    "duration": 440900,
    "start_time": "2022-10-04T12:34:46.939Z"
   },
   {
    "duration": 5,
    "start_time": "2022-10-04T12:42:07.935Z"
   },
   {
    "duration": 5490,
    "start_time": "2022-10-04T12:42:07.944Z"
   },
   {
    "duration": 190,
    "start_time": "2022-10-04T12:42:13.443Z"
   },
   {
    "duration": 997,
    "start_time": "2022-10-04T12:42:13.638Z"
   },
   {
    "duration": 4,
    "start_time": "2022-10-04T12:42:14.736Z"
   },
   {
    "duration": 394,
    "start_time": "2022-10-04T12:42:14.743Z"
   },
   {
    "duration": 697,
    "start_time": "2022-10-04T12:42:15.140Z"
   },
   {
    "duration": 195,
    "start_time": "2022-10-04T12:42:15.841Z"
   },
   {
    "duration": 4,
    "start_time": "2022-10-04T14:10:05.388Z"
   },
   {
    "duration": 31,
    "start_time": "2022-10-04T14:10:05.862Z"
   },
   {
    "duration": 12,
    "start_time": "2022-10-04T14:10:06.279Z"
   },
   {
    "duration": 10,
    "start_time": "2022-10-04T14:10:06.597Z"
   },
   {
    "duration": 11,
    "start_time": "2022-10-04T14:10:06.862Z"
   },
   {
    "duration": 24,
    "start_time": "2022-10-04T14:10:07.105Z"
   },
   {
    "duration": 4,
    "start_time": "2022-10-04T14:10:08.277Z"
   },
   {
    "duration": 9,
    "start_time": "2022-10-04T14:10:08.470Z"
   },
   {
    "duration": 2,
    "start_time": "2022-10-04T14:10:08.688Z"
   },
   {
    "duration": 23899,
    "start_time": "2022-10-04T14:10:10.143Z"
   },
   {
    "duration": 5,
    "start_time": "2022-10-04T14:10:34.044Z"
   },
   {
    "duration": 208,
    "start_time": "2022-10-04T14:10:38.867Z"
   },
   {
    "duration": 3,
    "start_time": "2022-10-04T14:10:39.507Z"
   },
   {
    "duration": 4,
    "start_time": "2022-10-04T14:11:02.885Z"
   },
   {
    "duration": 4,
    "start_time": "2022-10-04T14:11:11.278Z"
   },
   {
    "duration": 37,
    "start_time": "2022-10-04T14:11:21.252Z"
   },
   {
    "duration": 4,
    "start_time": "2022-10-04T14:11:22.757Z"
   },
   {
    "duration": 4,
    "start_time": "2022-10-04T14:12:10.495Z"
   },
   {
    "duration": 5,
    "start_time": "2022-10-04T14:12:18.924Z"
   },
   {
    "duration": 4,
    "start_time": "2022-10-04T14:12:21.760Z"
   },
   {
    "duration": 399,
    "start_time": "2022-10-04T14:13:35.998Z"
   },
   {
    "duration": 4,
    "start_time": "2022-10-04T14:13:38.318Z"
   },
   {
    "duration": 4,
    "start_time": "2022-10-04T14:17:45.146Z"
   },
   {
    "duration": 30,
    "start_time": "2022-10-04T14:17:47.380Z"
   },
   {
    "duration": 11,
    "start_time": "2022-10-04T14:17:48.926Z"
   },
   {
    "duration": 11,
    "start_time": "2022-10-04T14:17:51.002Z"
   },
   {
    "duration": 10,
    "start_time": "2022-10-04T14:17:51.403Z"
   },
   {
    "duration": 14,
    "start_time": "2022-10-04T14:17:51.916Z"
   },
   {
    "duration": 25,
    "start_time": "2022-10-04T14:17:52.346Z"
   },
   {
    "duration": 5,
    "start_time": "2022-10-04T14:17:54.832Z"
   },
   {
    "duration": 11,
    "start_time": "2022-10-04T14:17:55.066Z"
   },
   {
    "duration": 2,
    "start_time": "2022-10-04T14:17:55.604Z"
   },
   {
    "duration": 23782,
    "start_time": "2022-10-04T14:17:57.804Z"
   },
   {
    "duration": 4,
    "start_time": "2022-10-04T14:18:21.589Z"
   },
   {
    "duration": 211,
    "start_time": "2022-10-04T14:18:27.514Z"
   },
   {
    "duration": 4,
    "start_time": "2022-10-04T14:18:27.942Z"
   },
   {
    "duration": 38,
    "start_time": "2022-10-04T14:18:33.545Z"
   },
   {
    "duration": 4,
    "start_time": "2022-10-04T14:18:33.894Z"
   },
   {
    "duration": 5,
    "start_time": "2022-10-04T14:18:35.149Z"
   },
   {
    "duration": 381,
    "start_time": "2022-10-04T14:18:43.588Z"
   },
   {
    "duration": 4,
    "start_time": "2022-10-04T14:18:43.971Z"
   },
   {
    "duration": 459,
    "start_time": "2022-10-04T14:22:05.814Z"
   },
   {
    "duration": 1070,
    "start_time": "2022-10-04T14:22:44.708Z"
   },
   {
    "duration": 930,
    "start_time": "2022-10-04T14:22:50.111Z"
   },
   {
    "duration": 33,
    "start_time": "2022-10-04T14:29:26.235Z"
   },
   {
    "duration": 6,
    "start_time": "2022-10-04T14:29:36.475Z"
   },
   {
    "duration": 10,
    "start_time": "2022-10-04T14:29:39.353Z"
   },
   {
    "duration": 2,
    "start_time": "2022-10-04T14:29:42.869Z"
   },
   {
    "duration": 19772,
    "start_time": "2022-10-04T14:29:52.187Z"
   },
   {
    "duration": 5,
    "start_time": "2022-10-04T14:30:11.962Z"
   },
   {
    "duration": 200,
    "start_time": "2022-10-04T14:30:52.134Z"
   },
   {
    "duration": 4,
    "start_time": "2022-10-04T14:30:52.718Z"
   },
   {
    "duration": 20,
    "start_time": "2022-10-04T14:30:59.762Z"
   },
   {
    "duration": 4,
    "start_time": "2022-10-04T14:31:00.242Z"
   },
   {
    "duration": 4,
    "start_time": "2022-10-04T14:31:04.184Z"
   },
   {
    "duration": 477,
    "start_time": "2022-10-04T14:31:11.722Z"
   },
   {
    "duration": 9,
    "start_time": "2022-10-04T14:31:12.211Z"
   },
   {
    "duration": 1608,
    "start_time": "2022-10-05T08:48:58.709Z"
   },
   {
    "duration": 113,
    "start_time": "2022-10-05T08:49:00.320Z"
   },
   {
    "duration": 12,
    "start_time": "2022-10-05T08:49:00.913Z"
   },
   {
    "duration": 13,
    "start_time": "2022-10-05T08:49:01.109Z"
   },
   {
    "duration": 10,
    "start_time": "2022-10-05T08:49:01.817Z"
   },
   {
    "duration": 22,
    "start_time": "2022-10-05T08:49:02.002Z"
   },
   {
    "duration": 947,
    "start_time": "2022-10-05T08:49:03.047Z"
   },
   {
    "duration": 6,
    "start_time": "2022-10-05T08:51:05.434Z"
   },
   {
    "duration": 11,
    "start_time": "2022-10-05T08:51:06.930Z"
   },
   {
    "duration": 3,
    "start_time": "2022-10-05T08:51:07.551Z"
   },
   {
    "duration": 17890,
    "start_time": "2022-10-05T08:51:33.580Z"
   },
   {
    "duration": 5,
    "start_time": "2022-10-05T08:51:51.472Z"
   },
   {
    "duration": 204,
    "start_time": "2022-10-05T08:51:56.242Z"
   },
   {
    "duration": 4,
    "start_time": "2022-10-05T08:51:56.743Z"
   },
   {
    "duration": 18,
    "start_time": "2022-10-05T08:51:58.983Z"
   },
   {
    "duration": 4,
    "start_time": "2022-10-05T08:51:59.322Z"
   },
   {
    "duration": 3,
    "start_time": "2022-10-05T08:52:00.392Z"
   },
   {
    "duration": 297,
    "start_time": "2022-10-05T08:52:08.061Z"
   },
   {
    "duration": 4,
    "start_time": "2022-10-05T08:52:08.595Z"
   },
   {
    "duration": 2,
    "start_time": "2022-10-05T08:54:46.010Z"
   },
   {
    "duration": 7,
    "start_time": "2022-10-05T08:56:23.708Z"
   },
   {
    "duration": 6,
    "start_time": "2022-10-05T09:00:24.741Z"
   },
   {
    "duration": 6,
    "start_time": "2022-10-05T09:03:02.044Z"
   }
  ],
  "kernelspec": {
   "display_name": "Python 3 (ipykernel)",
   "language": "python",
   "name": "python3"
  },
  "language_info": {
   "codemirror_mode": {
    "name": "ipython",
    "version": 3
   },
   "file_extension": ".py",
   "mimetype": "text/x-python",
   "name": "python",
   "nbconvert_exporter": "python",
   "pygments_lexer": "ipython3",
   "version": "3.9.8"
  },
  "toc": {
   "base_numbering": 1,
   "nav_menu": {},
   "number_sections": true,
   "sideBar": true,
   "skip_h1_title": true,
   "title_cell": "Table of Contents",
   "title_sidebar": "Contents",
   "toc_cell": false,
   "toc_position": {},
   "toc_section_display": true,
   "toc_window_display": true
  }
 },
 "nbformat": 4,
 "nbformat_minor": 2
}
