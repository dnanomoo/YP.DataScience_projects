{
 "cells": [
  {
   "cell_type": "markdown",
   "metadata": {},
   "source": [
    "<div style=\"border:solid Blue 2px; padding: 40px\">\n",
    "<h1>  Прогнозирование заказов такси</h1>\n",
    "    \n",
    "    \n",
    "- Имеются исторические данные о заказах такси в аэропортах. Чтобы привлекать больше водителей в период пиковой нагрузки, нужно спрогнозировать количество заказов такси на следующий час. Необходимо построить модель для такого предсказания.\n",
    "\n",
    "- Значение метрики *RMSE* на тестовой выборке должно быть не больше 48.\n",
    "\n",
    "- Необходимо загрузить данные и выполнить их ресемплирование по одному часу, проанализировать, обучить разные модели с различными гиперпараметрами. Сделать тестовую выборку размером 10% от исходных данных, проверить данные на тестовой выборке и сделать выводы.\n",
    "    \n",
    "    Признаки\n",
    "    - num_orders - кол-во заказов\n",
    "\n"
   ]
  },
  {
   "cell_type": "markdown",
   "metadata": {
    "toc": true
   },
   "source": [
    "<div style=\"border:solid Green 2px; padding: 40px\">\n",
    "\n",
    "<h1>Содержание<span class=\"tocSkip\"></span></h1>\n",
    "<div class=\"toc\"><ul class=\"toc-item\"><li><span><a href=\"#Подготовка\" data-toc-modified-id=\"Подготовка-1\"><span class=\"toc-item-num\">1&nbsp;&nbsp;</span>Подготовка</a></span></li><li><span><a href=\"#Анализ\" data-toc-modified-id=\"Анализ-2\"><span class=\"toc-item-num\">2&nbsp;&nbsp;</span>Анализ</a></span><ul class=\"toc-item\"><li><span><a href=\"#Ресемплирование\" data-toc-modified-id=\"Ресемплирование-2.1\"><span class=\"toc-item-num\">2.1&nbsp;&nbsp;</span>Ресемплирование</a></span></li><li><span><a href=\"#Анализируем-тренды\" data-toc-modified-id=\"Анализируем-тренды-2.2\"><span class=\"toc-item-num\">2.2&nbsp;&nbsp;</span>Анализируем тренды</a></span></li></ul></li><li><span><a href=\"#Обучение\" data-toc-modified-id=\"Обучение-3\"><span class=\"toc-item-num\">3&nbsp;&nbsp;</span>Обучение</a></span><ul class=\"toc-item\"><li><span><a href=\"#LinearRegression\" data-toc-modified-id=\"LinearRegression-3.1\"><span class=\"toc-item-num\">3.1&nbsp;&nbsp;</span>LinearRegression</a></span></li><li><span><a href=\"#RandomForestRegressor\" data-toc-modified-id=\"RandomForestRegressor-3.2\"><span class=\"toc-item-num\">3.2&nbsp;&nbsp;</span>RandomForestRegressor</a></span></li><li><span><a href=\"#CatBoostRegressor\" data-toc-modified-id=\"CatBoostRegressor-3.3\"><span class=\"toc-item-num\">3.3&nbsp;&nbsp;</span>CatBoostRegressor</a></span></li></ul></li><li><span><a href=\"#Тестирование\" data-toc-modified-id=\"Тестирование-4\"><span class=\"toc-item-num\">4&nbsp;&nbsp;</span>Тестирование</a></span><ul class=\"toc-item\"><li><span><a href=\"#TEST-RandomForest\" data-toc-modified-id=\"TEST-RandomForest-4.1\"><span class=\"toc-item-num\">4.1&nbsp;&nbsp;</span>TEST RandomForest</a></span></li><li><span><a href=\"#TEST-CatBoost\" data-toc-modified-id=\"TEST-CatBoost-4.2\"><span class=\"toc-item-num\">4.2&nbsp;&nbsp;</span>TEST CatBoost</a></span></li></ul></li><li><span><a href=\"#Итог\" data-toc-modified-id=\"Итог-5\"><span class=\"toc-item-num\">5&nbsp;&nbsp;</span>Заключение</a></span><ul class=\"toc-item\"><li><span><a href=\"#Итоговый-комментарий\" data-toc-modified-id=\"Итоговый-комментарий-5.1\"><span class=\"toc-item-num\">5.1&nbsp;&nbsp;</span><b>Итоговый комментарий</b></a></span></li></ul></li></ul></div>"
   ]
  },
  {
   "cell_type": "markdown",
   "metadata": {},
   "source": [
    "## Подготовка"
   ]
  },
  {
   "cell_type": "code",
   "execution_count": 1,
   "metadata": {},
   "outputs": [],
   "source": [
    "import pandas as pd\n",
    "import numpy as np\n",
    "import seaborn as sns\n",
    "import matplotlib.pyplot as plt\n",
    "import time\n",
    "\n",
    "#from sklearn.preprocessing import StandardScaler\n",
    "\n",
    "from sklearn.metrics import mean_squared_error\n",
    "from sklearn.model_selection import train_test_split, cross_val_score, GridSearchCV, TimeSeriesSplit\n",
    "from statsmodels.tsa.seasonal import seasonal_decompose\n",
    "\n",
    "\n",
    "from sklearn.linear_model import LinearRegression\n",
    "from sklearn.ensemble import RandomForestRegressor\n",
    "from catboost import CatBoostRegressor\n"
   ]
  },
  {
   "cell_type": "code",
   "execution_count": 2,
   "metadata": {},
   "outputs": [
    {
     "data": {
      "text/html": [
       "<div>\n",
       "<style scoped>\n",
       "    .dataframe tbody tr th:only-of-type {\n",
       "        vertical-align: middle;\n",
       "    }\n",
       "\n",
       "    .dataframe tbody tr th {\n",
       "        vertical-align: top;\n",
       "    }\n",
       "\n",
       "    .dataframe thead th {\n",
       "        text-align: right;\n",
       "    }\n",
       "</style>\n",
       "<table border=\"1\" class=\"dataframe\">\n",
       "  <thead>\n",
       "    <tr style=\"text-align: right;\">\n",
       "      <th></th>\n",
       "      <th>num_orders</th>\n",
       "    </tr>\n",
       "    <tr>\n",
       "      <th>datetime</th>\n",
       "      <th></th>\n",
       "    </tr>\n",
       "  </thead>\n",
       "  <tbody>\n",
       "    <tr>\n",
       "      <th>2018-03-01 00:00:00</th>\n",
       "      <td>9</td>\n",
       "    </tr>\n",
       "    <tr>\n",
       "      <th>2018-03-01 00:10:00</th>\n",
       "      <td>14</td>\n",
       "    </tr>\n",
       "    <tr>\n",
       "      <th>2018-03-01 00:20:00</th>\n",
       "      <td>28</td>\n",
       "    </tr>\n",
       "    <tr>\n",
       "      <th>2018-03-01 00:30:00</th>\n",
       "      <td>20</td>\n",
       "    </tr>\n",
       "    <tr>\n",
       "      <th>2018-03-01 00:40:00</th>\n",
       "      <td>32</td>\n",
       "    </tr>\n",
       "    <tr>\n",
       "      <th>2018-03-01 00:50:00</th>\n",
       "      <td>21</td>\n",
       "    </tr>\n",
       "    <tr>\n",
       "      <th>2018-03-01 01:00:00</th>\n",
       "      <td>7</td>\n",
       "    </tr>\n",
       "    <tr>\n",
       "      <th>2018-03-01 01:10:00</th>\n",
       "      <td>5</td>\n",
       "    </tr>\n",
       "    <tr>\n",
       "      <th>2018-03-01 01:20:00</th>\n",
       "      <td>17</td>\n",
       "    </tr>\n",
       "    <tr>\n",
       "      <th>2018-03-01 01:30:00</th>\n",
       "      <td>12</td>\n",
       "    </tr>\n",
       "  </tbody>\n",
       "</table>\n",
       "</div>"
      ],
      "text/plain": [
       "                     num_orders\n",
       "datetime                       \n",
       "2018-03-01 00:00:00           9\n",
       "2018-03-01 00:10:00          14\n",
       "2018-03-01 00:20:00          28\n",
       "2018-03-01 00:30:00          20\n",
       "2018-03-01 00:40:00          32\n",
       "2018-03-01 00:50:00          21\n",
       "2018-03-01 01:00:00           7\n",
       "2018-03-01 01:10:00           5\n",
       "2018-03-01 01:20:00          17\n",
       "2018-03-01 01:30:00          12"
      ]
     },
     "execution_count": 2,
     "metadata": {},
     "output_type": "execute_result"
    }
   ],
   "source": [
    "data = pd.read_csv('/datasets/taxi.csv', index_col=[0], parse_dates=[0])\n",
    "data.head(10)"
   ]
  },
  {
   "cell_type": "code",
   "execution_count": 3,
   "metadata": {},
   "outputs": [
    {
     "name": "stdout",
     "output_type": "stream",
     "text": [
      "<class 'pandas.core.frame.DataFrame'>\n",
      "DatetimeIndex: 26496 entries, 2018-03-01 00:00:00 to 2018-08-31 23:50:00\n",
      "Data columns (total 1 columns):\n",
      " #   Column      Non-Null Count  Dtype\n",
      "---  ------      --------------  -----\n",
      " 0   num_orders  26496 non-null  int64\n",
      "dtypes: int64(1)\n",
      "memory usage: 414.0 KB\n"
     ]
    }
   ],
   "source": [
    "data.info()"
   ]
  },
  {
   "cell_type": "code",
   "execution_count": 4,
   "metadata": {},
   "outputs": [
    {
     "data": {
      "text/plain": [
       "num_orders    0\n",
       "dtype: int64"
      ]
     },
     "execution_count": 4,
     "metadata": {},
     "output_type": "execute_result"
    }
   ],
   "source": [
    "data.isnull().sum()"
   ]
  },
  {
   "cell_type": "code",
   "execution_count": 5,
   "metadata": {},
   "outputs": [
    {
     "data": {
      "text/html": [
       "<div>\n",
       "<style scoped>\n",
       "    .dataframe tbody tr th:only-of-type {\n",
       "        vertical-align: middle;\n",
       "    }\n",
       "\n",
       "    .dataframe tbody tr th {\n",
       "        vertical-align: top;\n",
       "    }\n",
       "\n",
       "    .dataframe thead th {\n",
       "        text-align: right;\n",
       "    }\n",
       "</style>\n",
       "<table border=\"1\" class=\"dataframe\">\n",
       "  <thead>\n",
       "    <tr style=\"text-align: right;\">\n",
       "      <th></th>\n",
       "      <th>num_orders</th>\n",
       "    </tr>\n",
       "  </thead>\n",
       "  <tbody>\n",
       "    <tr>\n",
       "      <th>count</th>\n",
       "      <td>26496.000000</td>\n",
       "    </tr>\n",
       "    <tr>\n",
       "      <th>mean</th>\n",
       "      <td>14.070463</td>\n",
       "    </tr>\n",
       "    <tr>\n",
       "      <th>std</th>\n",
       "      <td>9.211330</td>\n",
       "    </tr>\n",
       "    <tr>\n",
       "      <th>min</th>\n",
       "      <td>0.000000</td>\n",
       "    </tr>\n",
       "    <tr>\n",
       "      <th>25%</th>\n",
       "      <td>8.000000</td>\n",
       "    </tr>\n",
       "    <tr>\n",
       "      <th>50%</th>\n",
       "      <td>13.000000</td>\n",
       "    </tr>\n",
       "    <tr>\n",
       "      <th>75%</th>\n",
       "      <td>19.000000</td>\n",
       "    </tr>\n",
       "    <tr>\n",
       "      <th>max</th>\n",
       "      <td>119.000000</td>\n",
       "    </tr>\n",
       "  </tbody>\n",
       "</table>\n",
       "</div>"
      ],
      "text/plain": [
       "         num_orders\n",
       "count  26496.000000\n",
       "mean      14.070463\n",
       "std        9.211330\n",
       "min        0.000000\n",
       "25%        8.000000\n",
       "50%       13.000000\n",
       "75%       19.000000\n",
       "max      119.000000"
      ]
     },
     "execution_count": 5,
     "metadata": {},
     "output_type": "execute_result"
    }
   ],
   "source": [
    "data.describe()"
   ]
  },
  {
   "cell_type": "code",
   "execution_count": 6,
   "metadata": {},
   "outputs": [
    {
     "data": {
      "text/plain": [
       "True"
      ]
     },
     "execution_count": 6,
     "metadata": {},
     "output_type": "execute_result"
    }
   ],
   "source": [
    "data.index.is_monotonic"
   ]
  },
  {
   "cell_type": "markdown",
   "metadata": {},
   "source": [
    "<div style=\"border:solid Blue 2px; padding: 40px\">\n",
    "    \n",
    "Ревью: \n",
    "- Пропусков и дубликатов нет\n",
    "- Типы данных корректные\n",
    "- Данные расположены в хронологическом порядке"
   ]
  },
  {
   "cell_type": "markdown",
   "metadata": {},
   "source": [
    "## Анализ"
   ]
  },
  {
   "cell_type": "markdown",
   "metadata": {},
   "source": [
    "### Ресемплирование"
   ]
  },
  {
   "cell_type": "code",
   "execution_count": 7,
   "metadata": {},
   "outputs": [
    {
     "name": "stdout",
     "output_type": "stream",
     "text": [
      "True\n",
      "num_orders    0\n",
      "dtype: int64\n"
     ]
    }
   ],
   "source": [
    "#ресемплируем и проверяем данные\n",
    "\n",
    "data = data.resample('1H').sum()\n",
    "print(data.index.is_monotonic)\n",
    "print(data.isna().sum())"
   ]
  },
  {
   "cell_type": "code",
   "execution_count": 8,
   "metadata": {},
   "outputs": [
    {
     "data": {
      "text/html": [
       "<div>\n",
       "<style scoped>\n",
       "    .dataframe tbody tr th:only-of-type {\n",
       "        vertical-align: middle;\n",
       "    }\n",
       "\n",
       "    .dataframe tbody tr th {\n",
       "        vertical-align: top;\n",
       "    }\n",
       "\n",
       "    .dataframe thead th {\n",
       "        text-align: right;\n",
       "    }\n",
       "</style>\n",
       "<table border=\"1\" class=\"dataframe\">\n",
       "  <thead>\n",
       "    <tr style=\"text-align: right;\">\n",
       "      <th></th>\n",
       "      <th>num_orders</th>\n",
       "    </tr>\n",
       "    <tr>\n",
       "      <th>datetime</th>\n",
       "      <th></th>\n",
       "    </tr>\n",
       "  </thead>\n",
       "  <tbody>\n",
       "    <tr>\n",
       "      <th>2018-03-01 00:00:00</th>\n",
       "      <td>124</td>\n",
       "    </tr>\n",
       "    <tr>\n",
       "      <th>2018-03-01 01:00:00</th>\n",
       "      <td>85</td>\n",
       "    </tr>\n",
       "    <tr>\n",
       "      <th>2018-03-01 02:00:00</th>\n",
       "      <td>71</td>\n",
       "    </tr>\n",
       "    <tr>\n",
       "      <th>2018-03-01 03:00:00</th>\n",
       "      <td>66</td>\n",
       "    </tr>\n",
       "    <tr>\n",
       "      <th>2018-03-01 04:00:00</th>\n",
       "      <td>43</td>\n",
       "    </tr>\n",
       "    <tr>\n",
       "      <th>...</th>\n",
       "      <td>...</td>\n",
       "    </tr>\n",
       "    <tr>\n",
       "      <th>2018-08-31 19:00:00</th>\n",
       "      <td>136</td>\n",
       "    </tr>\n",
       "    <tr>\n",
       "      <th>2018-08-31 20:00:00</th>\n",
       "      <td>154</td>\n",
       "    </tr>\n",
       "    <tr>\n",
       "      <th>2018-08-31 21:00:00</th>\n",
       "      <td>159</td>\n",
       "    </tr>\n",
       "    <tr>\n",
       "      <th>2018-08-31 22:00:00</th>\n",
       "      <td>223</td>\n",
       "    </tr>\n",
       "    <tr>\n",
       "      <th>2018-08-31 23:00:00</th>\n",
       "      <td>205</td>\n",
       "    </tr>\n",
       "  </tbody>\n",
       "</table>\n",
       "<p>4416 rows × 1 columns</p>\n",
       "</div>"
      ],
      "text/plain": [
       "                     num_orders\n",
       "datetime                       \n",
       "2018-03-01 00:00:00         124\n",
       "2018-03-01 01:00:00          85\n",
       "2018-03-01 02:00:00          71\n",
       "2018-03-01 03:00:00          66\n",
       "2018-03-01 04:00:00          43\n",
       "...                         ...\n",
       "2018-08-31 19:00:00         136\n",
       "2018-08-31 20:00:00         154\n",
       "2018-08-31 21:00:00         159\n",
       "2018-08-31 22:00:00         223\n",
       "2018-08-31 23:00:00         205\n",
       "\n",
       "[4416 rows x 1 columns]"
      ]
     },
     "execution_count": 8,
     "metadata": {},
     "output_type": "execute_result"
    }
   ],
   "source": [
    "data"
   ]
  },
  {
   "cell_type": "markdown",
   "metadata": {},
   "source": [
    "### Анализируем тренды"
   ]
  },
  {
   "cell_type": "code",
   "execution_count": 9,
   "metadata": {},
   "outputs": [
    {
     "data": {
      "image/png": "[encoded data removed]",
      "text/plain": [
       "<Figure size 432x288 with 1 Axes>"
      ]
     },
     "metadata": {
      "needs_background": "light"
     },
     "output_type": "display_data"
    }
   ],
   "source": [
    "decomposed_trend = seasonal_decompose(data['num_orders'].resample('1H').sum())\n",
    "decomposed_trend.trend.plot();"
   ]
  },
  {
   "cell_type": "code",
   "execution_count": 10,
   "metadata": {},
   "outputs": [
    {
     "data": {
      "image/png": "[encoded data removed]",
      "text/plain": [
       "<Figure size 1080x504 with 1 Axes>"
      ]
     },
     "metadata": {
      "needs_background": "light"
     },
     "output_type": "display_data"
    }
   ],
   "source": [
    "plt.figure(figsize=(15, 7))\n",
    "plt.plot(data)\n",
    "plt.title('Распределение заказов (кол-во/час)')\n",
    "plt.xlabel('Дата')\n",
    "plt.ylabel('Кол-во заказов')\n",
    "plt.show()"
   ]
  },
  {
   "cell_type": "markdown",
   "metadata": {},
   "source": [
    "    Рассмотрим ближе одну неделю"
   ]
  },
  {
   "cell_type": "code",
   "execution_count": 11,
   "metadata": {},
   "outputs": [
    {
     "data": {
      "image/png": "[encoded data removed]",
      "text/plain": [
       "<Figure size 1080x504 with 1 Axes>"
      ]
     },
     "metadata": {
      "needs_background": "light"
     },
     "output_type": "display_data"
    }
   ],
   "source": [
    "plt.figure(figsize=(15, 7))\n",
    "plt.plot(data['2018-03-10':'2018-03-17'])\n",
    "plt.title('Распределение заказов (кол-во/час)')\n",
    "plt.xlabel('Дата')\n",
    "plt.ylabel('Кол-во заказов')\n",
    "plt.show()"
   ]
  },
  {
   "cell_type": "markdown",
   "metadata": {},
   "source": [
    "    Рассмотрим динамику в одном месяце - а также скользящее среднее"
   ]
  },
  {
   "cell_type": "code",
   "execution_count": 12,
   "metadata": {},
   "outputs": [
    {
     "data": {
      "image/png": "[encoded data removed]",
      "text/plain": [
       "<Figure size 1080x504 with 1 Axes>"
      ]
     },
     "metadata": {
      "needs_background": "light"
     },
     "output_type": "display_data"
    }
   ],
   "source": [
    "plt.figure(figsize=(15, 7))\n",
    "plt.plot(data['2018-03-01':'2018-03-30'])\n",
    "plt.plot(data['2018-03-01':'2018-03-30'].rolling(24).mean(), color='red')\n",
    "plt.title('Распределение заказов (кол-во/час)')\n",
    "plt.legend(['Кол-во заказов в час', 'Скользящее среднее каждые 24 часа'])\n",
    "plt.xlabel('Дата')\n",
    "plt.ylabel('Кол-во заказов')\n",
    "plt.show()"
   ]
  },
  {
   "cell_type": "markdown",
   "metadata": {},
   "source": [
    "    Также рассмотрим одни сутки"
   ]
  },
  {
   "cell_type": "code",
   "execution_count": 13,
   "metadata": {},
   "outputs": [
    {
     "data": {
      "image/png": "[encoded data removed]",
      "text/plain": [
       "<Figure size 1080x504 with 1 Axes>"
      ]
     },
     "metadata": {
      "needs_background": "light"
     },
     "output_type": "display_data"
    }
   ],
   "source": [
    "plt.figure(figsize=(15, 7))\n",
    "plt.plot(data['2018-03-15':'2018-03-16'])\n",
    "plt.title('Распределение заказов в 24 часа')\n",
    "plt.legend(['Кол-во заказов в час'])\n",
    "plt.xlabel('Дата')\n",
    "plt.ylabel('Кол-во заказов')\n",
    "plt.show()"
   ]
  },
  {
   "cell_type": "markdown",
   "metadata": {},
   "source": [
    "<div style=\"border:solid Blue 2px; padding: 40px\">\n",
    "    \n",
    "Вывод: \n",
    "- Провели графический анализ временных рядов, визуальная оценка\n",
    "- Изучив тренды видно что наименьшее кол-во заказов с 0:0 до 6:00 утра. \n",
    "- Кол-во заказов в среднем за 6 месяцев увеличилось (возможно связано с ростом компании)"
   ]
  },
  {
   "cell_type": "markdown",
   "metadata": {},
   "source": [
    "## Обучение"
   ]
  },
  {
   "cell_type": "code",
   "execution_count": 14,
   "metadata": {},
   "outputs": [],
   "source": [
    "def make_features(data, lag, rolling_mean_size):\n",
    "#    data['month'] = data.index.month\n",
    "#    data['day'] = data.index.day\n",
    "    data['dayofweek'] = data.index.dayofweek\n",
    "    data['hour'] = data.index.hour\n",
    "    \n",
    "    for l in range(1, lag + 1):\n",
    "        data[f'lag_{l}'] = data['num_orders'].shift(l)\n",
    "\n",
    "    data['rolling_mean'] = data['num_orders'].shift().rolling(rolling_mean_size).mean()\n",
    "    \n",
    "    data.dropna(inplace=True)"
   ]
  },
  {
   "cell_type": "markdown",
   "metadata": {},
   "source": [
    "<div style=\"border:solid Blue 2px; padding: 40px\">\n",
    "    \n",
    " Примечание\n",
    "    \n",
    "- Факторы года и месяца не подходят - исторически у нас данных меньше года и каждый месяц представлен один раз. \n",
    "- Берем только факторы \n",
    "        - дня недели (есть недельная сезонность); \n",
    "        - часа (есть суточная сезонность); \n",
    "        - параметр lag=1 - параметр авторегрессии (поскольку есть влияние одного вчерашнего дня на сегодняшний)\n",
    "        - rolling - скользящее среднее (ищем тренд по каким по скольки-то точкам) - Работает как линия сглаживания и колебаний и выбросов"
   ]
  },
  {
   "cell_type": "code",
   "execution_count": 15,
   "metadata": {},
   "outputs": [],
   "source": [
    "make_features(data, 3, 24)"
   ]
  },
  {
   "cell_type": "code",
   "execution_count": 16,
   "metadata": {},
   "outputs": [
    {
     "name": "stdout",
     "output_type": "stream",
     "text": [
      "<class 'pandas.core.frame.DataFrame'>\n",
      "DatetimeIndex: 4392 entries, 2018-03-02 00:00:00 to 2018-08-31 23:00:00\n",
      "Freq: H\n",
      "Data columns (total 7 columns):\n",
      " #   Column        Non-Null Count  Dtype  \n",
      "---  ------        --------------  -----  \n",
      " 0   num_orders    4392 non-null   int64  \n",
      " 1   dayofweek     4392 non-null   int64  \n",
      " 2   hour          4392 non-null   int64  \n",
      " 3   lag_1         4392 non-null   float64\n",
      " 4   lag_2         4392 non-null   float64\n",
      " 5   lag_3         4392 non-null   float64\n",
      " 6   rolling_mean  4392 non-null   float64\n",
      "dtypes: float64(4), int64(3)\n",
      "memory usage: 274.5 KB\n"
     ]
    }
   ],
   "source": [
    "data.info()"
   ]
  },
  {
   "cell_type": "code",
   "execution_count": 17,
   "metadata": {},
   "outputs": [],
   "source": [
    "#обязательно указать shuffle=False - что бы избежать перемешивания данных\n",
    "\n",
    "train, test = train_test_split(data, shuffle=False, test_size=0.1)"
   ]
  },
  {
   "cell_type": "code",
   "execution_count": 18,
   "metadata": {},
   "outputs": [],
   "source": [
    "train = train.dropna()"
   ]
  },
  {
   "cell_type": "code",
   "execution_count": 19,
   "metadata": {},
   "outputs": [
    {
     "name": "stdout",
     "output_type": "stream",
     "text": [
      "(3952, 7)\n",
      "(440, 7)\n"
     ]
    }
   ],
   "source": [
    "print(train.shape)\n",
    "print(test.shape)"
   ]
  },
  {
   "cell_type": "code",
   "execution_count": 20,
   "metadata": {},
   "outputs": [],
   "source": [
    "X_train = train.drop(['num_orders'], axis=1)\n",
    "y_train = train['num_orders']\n",
    "X_test = test.drop(['num_orders'], axis=1)\n",
    "y_test = test['num_orders']"
   ]
  },
  {
   "cell_type": "code",
   "execution_count": 21,
   "metadata": {},
   "outputs": [
    {
     "data": {
      "text/html": [
       "<div>\n",
       "<style scoped>\n",
       "    .dataframe tbody tr th:only-of-type {\n",
       "        vertical-align: middle;\n",
       "    }\n",
       "\n",
       "    .dataframe tbody tr th {\n",
       "        vertical-align: top;\n",
       "    }\n",
       "\n",
       "    .dataframe thead th {\n",
       "        text-align: right;\n",
       "    }\n",
       "</style>\n",
       "<table border=\"1\" class=\"dataframe\">\n",
       "  <thead>\n",
       "    <tr style=\"text-align: right;\">\n",
       "      <th></th>\n",
       "      <th>dayofweek</th>\n",
       "      <th>hour</th>\n",
       "      <th>lag_1</th>\n",
       "      <th>lag_2</th>\n",
       "      <th>lag_3</th>\n",
       "      <th>rolling_mean</th>\n",
       "    </tr>\n",
       "    <tr>\n",
       "      <th>datetime</th>\n",
       "      <th></th>\n",
       "      <th></th>\n",
       "      <th></th>\n",
       "      <th></th>\n",
       "      <th></th>\n",
       "      <th></th>\n",
       "    </tr>\n",
       "  </thead>\n",
       "  <tbody>\n",
       "    <tr>\n",
       "      <th>2018-03-02 00:00:00</th>\n",
       "      <td>4</td>\n",
       "      <td>0</td>\n",
       "      <td>58.0</td>\n",
       "      <td>113.0</td>\n",
       "      <td>66.0</td>\n",
       "      <td>56.833333</td>\n",
       "    </tr>\n",
       "    <tr>\n",
       "      <th>2018-03-02 01:00:00</th>\n",
       "      <td>4</td>\n",
       "      <td>1</td>\n",
       "      <td>90.0</td>\n",
       "      <td>58.0</td>\n",
       "      <td>113.0</td>\n",
       "      <td>55.416667</td>\n",
       "    </tr>\n",
       "    <tr>\n",
       "      <th>2018-03-02 02:00:00</th>\n",
       "      <td>4</td>\n",
       "      <td>2</td>\n",
       "      <td>120.0</td>\n",
       "      <td>90.0</td>\n",
       "      <td>58.0</td>\n",
       "      <td>56.875000</td>\n",
       "    </tr>\n",
       "    <tr>\n",
       "      <th>2018-03-02 03:00:00</th>\n",
       "      <td>4</td>\n",
       "      <td>3</td>\n",
       "      <td>75.0</td>\n",
       "      <td>120.0</td>\n",
       "      <td>90.0</td>\n",
       "      <td>57.041667</td>\n",
       "    </tr>\n",
       "    <tr>\n",
       "      <th>2018-03-02 04:00:00</th>\n",
       "      <td>4</td>\n",
       "      <td>4</td>\n",
       "      <td>64.0</td>\n",
       "      <td>75.0</td>\n",
       "      <td>120.0</td>\n",
       "      <td>56.958333</td>\n",
       "    </tr>\n",
       "  </tbody>\n",
       "</table>\n",
       "</div>"
      ],
      "text/plain": [
       "                     dayofweek  hour  lag_1  lag_2  lag_3  rolling_mean\n",
       "datetime                                                               \n",
       "2018-03-02 00:00:00          4     0   58.0  113.0   66.0     56.833333\n",
       "2018-03-02 01:00:00          4     1   90.0   58.0  113.0     55.416667\n",
       "2018-03-02 02:00:00          4     2  120.0   90.0   58.0     56.875000\n",
       "2018-03-02 03:00:00          4     3   75.0  120.0   90.0     57.041667\n",
       "2018-03-02 04:00:00          4     4   64.0   75.0  120.0     56.958333"
      ]
     },
     "metadata": {},
     "output_type": "display_data"
    },
    {
     "data": {
      "text/html": [
       "<div>\n",
       "<style scoped>\n",
       "    .dataframe tbody tr th:only-of-type {\n",
       "        vertical-align: middle;\n",
       "    }\n",
       "\n",
       "    .dataframe tbody tr th {\n",
       "        vertical-align: top;\n",
       "    }\n",
       "\n",
       "    .dataframe thead th {\n",
       "        text-align: right;\n",
       "    }\n",
       "</style>\n",
       "<table border=\"1\" class=\"dataframe\">\n",
       "  <thead>\n",
       "    <tr style=\"text-align: right;\">\n",
       "      <th></th>\n",
       "      <th>dayofweek</th>\n",
       "      <th>hour</th>\n",
       "      <th>lag_1</th>\n",
       "      <th>lag_2</th>\n",
       "      <th>lag_3</th>\n",
       "      <th>rolling_mean</th>\n",
       "    </tr>\n",
       "    <tr>\n",
       "      <th>datetime</th>\n",
       "      <th></th>\n",
       "      <th></th>\n",
       "      <th></th>\n",
       "      <th></th>\n",
       "      <th></th>\n",
       "      <th></th>\n",
       "    </tr>\n",
       "  </thead>\n",
       "  <tbody>\n",
       "    <tr>\n",
       "      <th>2018-08-13 16:00:00</th>\n",
       "      <td>0</td>\n",
       "      <td>16</td>\n",
       "      <td>175.0</td>\n",
       "      <td>102.0</td>\n",
       "      <td>119.0</td>\n",
       "      <td>139.541667</td>\n",
       "    </tr>\n",
       "    <tr>\n",
       "      <th>2018-08-13 17:00:00</th>\n",
       "      <td>0</td>\n",
       "      <td>17</td>\n",
       "      <td>144.0</td>\n",
       "      <td>175.0</td>\n",
       "      <td>102.0</td>\n",
       "      <td>139.166667</td>\n",
       "    </tr>\n",
       "    <tr>\n",
       "      <th>2018-08-13 18:00:00</th>\n",
       "      <td>0</td>\n",
       "      <td>18</td>\n",
       "      <td>152.0</td>\n",
       "      <td>144.0</td>\n",
       "      <td>175.0</td>\n",
       "      <td>140.708333</td>\n",
       "    </tr>\n",
       "    <tr>\n",
       "      <th>2018-08-13 19:00:00</th>\n",
       "      <td>0</td>\n",
       "      <td>19</td>\n",
       "      <td>104.0</td>\n",
       "      <td>152.0</td>\n",
       "      <td>144.0</td>\n",
       "      <td>141.791667</td>\n",
       "    </tr>\n",
       "    <tr>\n",
       "      <th>2018-08-13 20:00:00</th>\n",
       "      <td>0</td>\n",
       "      <td>20</td>\n",
       "      <td>91.0</td>\n",
       "      <td>104.0</td>\n",
       "      <td>152.0</td>\n",
       "      <td>142.166667</td>\n",
       "    </tr>\n",
       "  </tbody>\n",
       "</table>\n",
       "</div>"
      ],
      "text/plain": [
       "                     dayofweek  hour  lag_1  lag_2  lag_3  rolling_mean\n",
       "datetime                                                               \n",
       "2018-08-13 16:00:00          0    16  175.0  102.0  119.0    139.541667\n",
       "2018-08-13 17:00:00          0    17  144.0  175.0  102.0    139.166667\n",
       "2018-08-13 18:00:00          0    18  152.0  144.0  175.0    140.708333\n",
       "2018-08-13 19:00:00          0    19  104.0  152.0  144.0    141.791667\n",
       "2018-08-13 20:00:00          0    20   91.0  104.0  152.0    142.166667"
      ]
     },
     "metadata": {},
     "output_type": "display_data"
    }
   ],
   "source": [
    "display(X_train.head())\n",
    "display(X_test.head())"
   ]
  },
  {
   "cell_type": "markdown",
   "metadata": {},
   "source": [
    "    Запишем функцию метрики rmse"
   ]
  },
  {
   "cell_type": "code",
   "execution_count": 22,
   "metadata": {},
   "outputs": [],
   "source": [
    "#def rmse(y, predictions):\n",
    "#    return (((y_test - predictions)**2).mean())**0.5"
   ]
  },
  {
   "cell_type": "markdown",
   "metadata": {},
   "source": [
    "\n",
    "    Для того что бы не пользоваться встроенными кросс-валидацией, которая не учитывает что у нас временной ряд - уитывать что каждая валидационная часть выборки должна быть позже обучающей при каждом разбиении, будем пользоваться TimeSeriesSplit, GridSearchCV с параметрами gbm, param_grid=param_set, scoring='neg_root_mean_squared_error', n_jobs=-1, cv=tscv и verbose=1. И воспользуемя встроенной метрикой neg_root_mean_squared_error вместо функции rmse"
   ]
  },
  {
   "cell_type": "markdown",
   "metadata": {},
   "source": [
    "### LinearRegression"
   ]
  },
  {
   "cell_type": "code",
   "execution_count": 27,
   "metadata": {},
   "outputs": [],
   "source": [
    "model_LR = LinearRegression()\n",
    "\n",
    "result_LR = cross_val_score(\n",
    "              model_LR,\n",
    "              X_train, \n",
    "              y_train, \n",
    "              cv = TimeSeriesSplit(n_splits=8), \n",
    "              n_jobs = -1, \n",
    "              scoring = 'neg_root_mean_squared_error').mean()"
   ]
  },
  {
   "cell_type": "code",
   "execution_count": 28,
   "metadata": {},
   "outputs": [
    {
     "name": "stdout",
     "output_type": "stream",
     "text": [
      "Значение метрики RMSE на обучающей выборке для LinearRegression -31.288372730010668\n"
     ]
    }
   ],
   "source": [
    "print(f'''Значение метрики RMSE на обучающей выборке для LinearRegression''', result_LR)"
   ]
  },
  {
   "cell_type": "markdown",
   "metadata": {},
   "source": [
    "### RandomForestRegressor"
   ]
  },
  {
   "cell_type": "code",
   "execution_count": 31,
   "metadata": {},
   "outputs": [
    {
     "name": "stdout",
     "output_type": "stream",
     "text": [
      "CPU times: user 17.5 s, sys: 104 ms, total: 17.6 s\n",
      "Wall time: 17.7 s\n"
     ]
    }
   ],
   "source": [
    "%%time\n",
    "\n",
    "model_RF = RandomForestRegressor()\n",
    "\n",
    "parameters = {'n_estimators':[50,100,150],\n",
    "              'max_depth':[5,10]}\n",
    "\n",
    "my_cv=TimeSeriesSplit(n_splits=8).split(X_train)\n",
    "\n",
    "grid_RF = GridSearchCV(model_RF, \n",
    "                    parameters, \n",
    "                    cv=my_cv, \n",
    "                    scoring='neg_root_mean_squared_error', \n",
    "                    n_jobs=-1)\n",
    "grid_RF.fit(X_train, y_train)\n",
    "\n",
    "#-grid_RF.best_score_\n",
    "model_param = grid_RF.best_params_"
   ]
  },
  {
   "cell_type": "code",
   "execution_count": 32,
   "metadata": {},
   "outputs": [
    {
     "name": "stdout",
     "output_type": "stream",
     "text": [
      "{'max_depth': 10, 'n_estimators': 150}\n"
     ]
    }
   ],
   "source": [
    "print(model_param)"
   ]
  },
  {
   "cell_type": "code",
   "execution_count": 33,
   "metadata": {},
   "outputs": [
    {
     "name": "stdout",
     "output_type": "stream",
     "text": [
      "24.66056612103381\n"
     ]
    }
   ],
   "source": [
    "result_RF = -grid_RF.best_score_\n",
    "print(result_RF)"
   ]
  },
  {
   "cell_type": "markdown",
   "metadata": {},
   "source": [
    "### CatBoostRegressor"
   ]
  },
  {
   "cell_type": "code",
   "execution_count": 34,
   "metadata": {},
   "outputs": [
    {
     "name": "stdout",
     "output_type": "stream",
     "text": [
      "CPU times: user 4min 47s, sys: 6.47 s, total: 4min 53s\n",
      "Wall time: 5min 41s\n"
     ]
    },
    {
     "data": {
      "text/plain": [
       "{'depth': 5, 'l2_leaf_reg': 5, 'learning_rate': 0.03}"
      ]
     },
     "execution_count": 34,
     "metadata": {},
     "output_type": "execute_result"
    }
   ],
   "source": [
    "%%time\n",
    "\n",
    "model_CatBoostRegressor = CatBoostRegressor(random_state = 1234, verbose = False)\n",
    "parameters = {'learning_rate': [0.03, 0.1],\n",
    "              'depth': [5, 10],\n",
    "              'l2_leaf_reg': [3, 5]}\n",
    "               \n",
    "my_cv=TimeSeriesSplit(n_splits=8).split(X_train)\n",
    "grid_Cat = GridSearchCV(model_CatBoostRegressor, \n",
    "                        parameters, \n",
    "                        cv=my_cv, \n",
    "                        scoring='neg_root_mean_squared_error', \n",
    "                        n_jobs=-1)\n",
    "grid_Cat.fit(X_train, y_train)\n",
    "\n",
    "#-grid_Cat.best_score_\n",
    "grid_Cat.best_params_"
   ]
  },
  {
   "cell_type": "code",
   "execution_count": 35,
   "metadata": {},
   "outputs": [
    {
     "name": "stdout",
     "output_type": "stream",
     "text": [
      "24.60241344760097\n"
     ]
    }
   ],
   "source": [
    "result_Cat = -grid_Cat.best_score_\n",
    "print(result_Cat)"
   ]
  },
  {
   "cell_type": "markdown",
   "metadata": {},
   "source": [
    "    Результирующая табличка"
   ]
  },
  {
   "cell_type": "code",
   "execution_count": 39,
   "metadata": {},
   "outputs": [],
   "source": [
    "result_models = pd.Series({\n",
    "    \"RMSE LinearRegression\":result_LR,\n",
    "    \"RMSE RandomForest\":result_RF,\n",
    "    'RMSE CatBoost ':result_Cat})"
   ]
  },
  {
   "cell_type": "code",
   "execution_count": 40,
   "metadata": {},
   "outputs": [
    {
     "data": {
      "text/plain": [
       "RMSE LinearRegression   -31.288373\n",
       "RMSE RandomForest        24.660566\n",
       "RMSE CatBoost            24.602413\n",
       "dtype: float64"
      ]
     },
     "execution_count": 40,
     "metadata": {},
     "output_type": "execute_result"
    }
   ],
   "source": [
    "result_models"
   ]
  },
  {
   "cell_type": "markdown",
   "metadata": {},
   "source": [
    "<div style=\"border:solid Blue 2px; padding: 40px\">\n",
    "    \n",
    "- У RandomForest и CatBoost одинаковый результат RMSE, но на обучение у первой модели уходит меньше времени (17.5 s)поэтому выбираем ее."
   ]
  },
  {
   "cell_type": "markdown",
   "metadata": {},
   "source": [
    "## Тестирование"
   ]
  },
  {
   "cell_type": "markdown",
   "metadata": {},
   "source": [
    "### TEST RandomForest"
   ]
  },
  {
   "cell_type": "code",
   "execution_count": 41,
   "metadata": {},
   "outputs": [],
   "source": [
    "model_RF_final = RandomForestRegressor(n_estimators=150, max_depth=10)"
   ]
  },
  {
   "cell_type": "code",
   "execution_count": 42,
   "metadata": {},
   "outputs": [
    {
     "name": "stdout",
     "output_type": "stream",
     "text": [
      "Время обучения итоговой модели: 1.1195032596588135\n",
      "CPU times: user 1.1 s, sys: 11.9 ms, total: 1.12 s\n",
      "Wall time: 1.12 s\n"
     ]
    }
   ],
   "source": [
    "%%time\n",
    "\n",
    "start = time.time()\n",
    "fitted_model = model_RF_final.fit(X_train, y_train)\n",
    "end = time.time()\n",
    "total = end - start\n",
    "print(\"Время обучения итоговой модели:\", total)"
   ]
  },
  {
   "cell_type": "code",
   "execution_count": 43,
   "metadata": {},
   "outputs": [
    {
     "name": "stdout",
     "output_type": "stream",
     "text": [
      "RMSE RandomForest Итоговое: 48.53295991778311\n",
      "Время предсказания RandomForest Итоговое: 0.01925516128540039\n",
      "CPU times: user 22.1 ms, sys: 0 ns, total: 22.1 ms\n",
      "Wall time: 20.4 ms\n"
     ]
    }
   ],
   "source": [
    "%%time\n",
    "\n",
    "start = time.time()\n",
    "predictions_model = fitted_model.predict(X_test) \n",
    "end = time.time()\n",
    "total = end - start\n",
    "rmse_model = (np.sqrt(mean_squared_error(y_test, predictions_model))) \n",
    "\n",
    "print (\"RMSE RandomForest Итоговое:\", rmse_model)\n",
    "print (\"Время предсказания RandomForest Итоговое:\", total)"
   ]
  },
  {
   "cell_type": "code",
   "execution_count": 44,
   "metadata": {},
   "outputs": [
    {
     "data": {
      "image/png": "[encoded data removed]",
      "text/plain": [
       "<Figure size 1152x360 with 1 Axes>"
      ]
     },
     "metadata": {
      "needs_background": "light"
     },
     "output_type": "display_data"
    }
   ],
   "source": [
    "pred = pd.Series(predictions_model)\n",
    "plt.figure(figsize=(16,5))\n",
    "sns.lineplot(x=y_test.index, y=y_test, label='График реальных заказов')\n",
    "sns.lineplot(x=y_test.index, y=pred, label='График предсказанных заказов RandomForestRegressor')\n",
    "\n",
    "plt.legend(loc='upper right')\n",
    "plt.title ('График сравнения реальных данных и предсказанных')\n",
    "\n",
    "plt.xticks(rotation=45)\n",
    "plt.show()"
   ]
  },
  {
   "cell_type": "markdown",
   "metadata": {},
   "source": [
    "<div style=\"border:solid Blue 2px; padding: 40px\">\n",
    "    \n",
    "    \n",
    "- Итоговое RMSE модели RandomForestRegressor на тестовой выборке оказалось 48.5 и как видно из графика этот резльтат нам не подходит. \n",
    "- Пробуем протестировать CatBoost"
   ]
  },
  {
   "cell_type": "markdown",
   "metadata": {},
   "source": [
    "### TEST CatBoost"
   ]
  },
  {
   "cell_type": "code",
   "execution_count": 45,
   "metadata": {},
   "outputs": [],
   "source": [
    "model_CAT_final = CatBoostRegressor(depth=5, l2_leaf_reg=5, learning_rate=0.03)"
   ]
  },
  {
   "cell_type": "code",
   "execution_count": 46,
   "metadata": {},
   "outputs": [
    {
     "name": "stdout",
     "output_type": "stream",
     "text": [
      "0:\tlearn: 38.1552328\ttotal: 1.74ms\tremaining: 1.74s\n",
      "1:\tlearn: 37.6465941\ttotal: 3.5ms\tremaining: 1.75s\n",
      "2:\tlearn: 37.1985301\ttotal: 5.06ms\tremaining: 1.68s\n",
      "3:\tlearn: 36.7078148\ttotal: 6.11ms\tremaining: 1.52s\n",
      "4:\tlearn: 36.2665437\ttotal: 7.33ms\tremaining: 1.46s\n",
      "5:\tlearn: 35.8883816\ttotal: 8.32ms\tremaining: 1.38s\n",
      "6:\tlearn: 35.5294092\ttotal: 9.25ms\tremaining: 1.31s\n",
      "7:\tlearn: 35.1119532\ttotal: 10.3ms\tremaining: 1.28s\n",
      "8:\tlearn: 34.7178807\ttotal: 11.3ms\tremaining: 1.24s\n",
      "9:\tlearn: 34.4171941\ttotal: 12.2ms\tremaining: 1.21s\n",
      "10:\tlearn: 34.0509958\ttotal: 13.6ms\tremaining: 1.22s\n",
      "11:\tlearn: 33.7568813\ttotal: 14.6ms\tremaining: 1.2s\n",
      "12:\tlearn: 33.3841652\ttotal: 15.8ms\tremaining: 1.2s\n",
      "13:\tlearn: 33.0636044\ttotal: 17ms\tremaining: 1.2s\n",
      "14:\tlearn: 32.7552857\ttotal: 18.4ms\tremaining: 1.21s\n",
      "15:\tlearn: 32.4484499\ttotal: 19.3ms\tremaining: 1.19s\n",
      "16:\tlearn: 32.1754937\ttotal: 20.4ms\tremaining: 1.18s\n",
      "17:\tlearn: 31.8757737\ttotal: 21.3ms\tremaining: 1.16s\n",
      "18:\tlearn: 31.6426156\ttotal: 22.2ms\tremaining: 1.15s\n",
      "19:\tlearn: 31.3969184\ttotal: 23.2ms\tremaining: 1.14s\n",
      "20:\tlearn: 31.1156538\ttotal: 24.7ms\tremaining: 1.15s\n",
      "21:\tlearn: 30.8927176\ttotal: 25.7ms\tremaining: 1.14s\n",
      "22:\tlearn: 30.6669427\ttotal: 26.6ms\tremaining: 1.13s\n",
      "23:\tlearn: 30.4163828\ttotal: 27.6ms\tremaining: 1.12s\n",
      "24:\tlearn: 30.2296561\ttotal: 28.5ms\tremaining: 1.11s\n",
      "25:\tlearn: 30.0624828\ttotal: 29.9ms\tremaining: 1.12s\n",
      "26:\tlearn: 29.8908739\ttotal: 31.3ms\tremaining: 1.13s\n",
      "27:\tlearn: 29.6839766\ttotal: 32.6ms\tremaining: 1.13s\n",
      "28:\tlearn: 29.4848156\ttotal: 33.8ms\tremaining: 1.13s\n",
      "29:\tlearn: 29.3197628\ttotal: 34.9ms\tremaining: 1.13s\n",
      "30:\tlearn: 29.1556401\ttotal: 36.1ms\tremaining: 1.13s\n",
      "31:\tlearn: 29.0035485\ttotal: 37.2ms\tremaining: 1.13s\n",
      "32:\tlearn: 28.8461384\ttotal: 38.6ms\tremaining: 1.13s\n",
      "33:\tlearn: 28.7134415\ttotal: 40.1ms\tremaining: 1.14s\n",
      "34:\tlearn: 28.5737156\ttotal: 41.5ms\tremaining: 1.14s\n",
      "35:\tlearn: 28.4581508\ttotal: 42.9ms\tremaining: 1.15s\n",
      "36:\tlearn: 28.3256008\ttotal: 43.9ms\tremaining: 1.14s\n",
      "37:\tlearn: 28.1846347\ttotal: 44.9ms\tremaining: 1.14s\n",
      "38:\tlearn: 28.0786401\ttotal: 45.9ms\tremaining: 1.13s\n",
      "39:\tlearn: 27.9927612\ttotal: 46.9ms\tremaining: 1.13s\n",
      "40:\tlearn: 27.8511864\ttotal: 47.9ms\tremaining: 1.12s\n",
      "41:\tlearn: 27.7420859\ttotal: 48.8ms\tremaining: 1.11s\n",
      "42:\tlearn: 27.6061241\ttotal: 49.8ms\tremaining: 1.11s\n",
      "43:\tlearn: 27.4713648\ttotal: 50.7ms\tremaining: 1.1s\n",
      "44:\tlearn: 27.3473566\ttotal: 51.7ms\tremaining: 1.1s\n",
      "45:\tlearn: 27.2591235\ttotal: 52.7ms\tremaining: 1.09s\n",
      "46:\tlearn: 27.1813133\ttotal: 53.6ms\tremaining: 1.09s\n",
      "47:\tlearn: 27.0868210\ttotal: 54.5ms\tremaining: 1.08s\n",
      "48:\tlearn: 27.0131624\ttotal: 55.6ms\tremaining: 1.08s\n",
      "49:\tlearn: 26.9250996\ttotal: 56.6ms\tremaining: 1.07s\n",
      "50:\tlearn: 26.8400528\ttotal: 57.7ms\tremaining: 1.07s\n",
      "51:\tlearn: 26.7363172\ttotal: 58.7ms\tremaining: 1.07s\n",
      "52:\tlearn: 26.6312883\ttotal: 59.7ms\tremaining: 1.07s\n",
      "53:\tlearn: 26.5420548\ttotal: 60.7ms\tremaining: 1.06s\n",
      "54:\tlearn: 26.4667620\ttotal: 61.8ms\tremaining: 1.06s\n",
      "55:\tlearn: 26.3772161\ttotal: 62.8ms\tremaining: 1.06s\n",
      "56:\tlearn: 26.3126520\ttotal: 63.8ms\tremaining: 1.06s\n",
      "57:\tlearn: 26.2516602\ttotal: 64.9ms\tremaining: 1.05s\n",
      "58:\tlearn: 26.1891092\ttotal: 65.9ms\tremaining: 1.05s\n",
      "59:\tlearn: 26.1257814\ttotal: 66.9ms\tremaining: 1.05s\n",
      "60:\tlearn: 26.0874330\ttotal: 67.9ms\tremaining: 1.04s\n",
      "61:\tlearn: 26.0303254\ttotal: 68.9ms\tremaining: 1.04s\n",
      "62:\tlearn: 25.9538908\ttotal: 69.9ms\tremaining: 1.04s\n",
      "63:\tlearn: 25.9112740\ttotal: 70.9ms\tremaining: 1.04s\n",
      "64:\tlearn: 25.8611923\ttotal: 71.8ms\tremaining: 1.03s\n",
      "65:\tlearn: 25.8097295\ttotal: 72.8ms\tremaining: 1.03s\n",
      "66:\tlearn: 25.7455127\ttotal: 73.7ms\tremaining: 1.03s\n",
      "67:\tlearn: 25.6929577\ttotal: 74.7ms\tremaining: 1.02s\n",
      "68:\tlearn: 25.6506461\ttotal: 75.6ms\tremaining: 1.02s\n",
      "69:\tlearn: 25.5831456\ttotal: 76.5ms\tremaining: 1.02s\n",
      "70:\tlearn: 25.5362995\ttotal: 77.6ms\tremaining: 1.01s\n",
      "71:\tlearn: 25.4688899\ttotal: 78.6ms\tremaining: 1.01s\n",
      "72:\tlearn: 25.4396929\ttotal: 79.5ms\tremaining: 1.01s\n",
      "73:\tlearn: 25.3997747\ttotal: 80.5ms\tremaining: 1.01s\n",
      "74:\tlearn: 25.3594428\ttotal: 81.5ms\tremaining: 1s\n",
      "75:\tlearn: 25.3162300\ttotal: 82.5ms\tremaining: 1s\n",
      "76:\tlearn: 25.2666355\ttotal: 83.4ms\tremaining: 1s\n",
      "77:\tlearn: 25.2616666\ttotal: 84.3ms\tremaining: 996ms\n",
      "78:\tlearn: 25.2063341\ttotal: 85.3ms\tremaining: 994ms\n",
      "79:\tlearn: 25.2018226\ttotal: 86ms\tremaining: 989ms\n",
      "80:\tlearn: 25.1975366\ttotal: 86.9ms\tremaining: 986ms\n",
      "81:\tlearn: 25.1365989\ttotal: 87.9ms\tremaining: 984ms\n",
      "82:\tlearn: 25.0918233\ttotal: 88.8ms\tremaining: 981ms\n",
      "83:\tlearn: 25.0615744\ttotal: 89.7ms\tremaining: 978ms\n",
      "84:\tlearn: 25.0309144\ttotal: 90.6ms\tremaining: 976ms\n",
      "85:\tlearn: 24.9984936\ttotal: 91.6ms\tremaining: 973ms\n",
      "86:\tlearn: 24.9623877\ttotal: 92.5ms\tremaining: 971ms\n",
      "87:\tlearn: 24.9348749\ttotal: 93.4ms\tremaining: 968ms\n",
      "88:\tlearn: 24.8844277\ttotal: 94.5ms\tremaining: 967ms\n",
      "89:\tlearn: 24.8501702\ttotal: 95.4ms\tremaining: 965ms\n",
      "90:\tlearn: 24.8098372\ttotal: 96.4ms\tremaining: 963ms\n",
      "91:\tlearn: 24.8058016\ttotal: 97.1ms\tremaining: 958ms\n",
      "92:\tlearn: 24.8017364\ttotal: 98ms\tremaining: 956ms\n",
      "93:\tlearn: 24.7631196\ttotal: 98.9ms\tremaining: 953ms\n",
      "94:\tlearn: 24.7591012\ttotal: 99.8ms\tremaining: 951ms\n",
      "95:\tlearn: 24.7549689\ttotal: 101ms\tremaining: 949ms\n",
      "96:\tlearn: 24.7511366\ttotal: 101ms\tremaining: 945ms\n",
      "97:\tlearn: 24.7473415\ttotal: 102ms\tremaining: 939ms\n",
      "98:\tlearn: 24.7431287\ttotal: 103ms\tremaining: 936ms\n",
      "99:\tlearn: 24.7099626\ttotal: 104ms\tremaining: 934ms\n",
      "100:\tlearn: 24.7055292\ttotal: 105ms\tremaining: 932ms\n",
      "101:\tlearn: 24.6767211\ttotal: 106ms\tremaining: 930ms\n",
      "102:\tlearn: 24.6510389\ttotal: 107ms\tremaining: 930ms\n",
      "103:\tlearn: 24.6374621\ttotal: 108ms\tremaining: 927ms\n",
      "104:\tlearn: 24.6338826\ttotal: 108ms\tremaining: 923ms\n",
      "105:\tlearn: 24.5859602\ttotal: 109ms\tremaining: 921ms\n",
      "106:\tlearn: 24.5653304\ttotal: 110ms\tremaining: 919ms\n",
      "107:\tlearn: 24.5614519\ttotal: 111ms\tremaining: 917ms\n",
      "108:\tlearn: 24.5575423\ttotal: 112ms\tremaining: 915ms\n",
      "109:\tlearn: 24.5541181\ttotal: 113ms\tremaining: 911ms\n",
      "110:\tlearn: 24.5219004\ttotal: 113ms\tremaining: 909ms\n",
      "111:\tlearn: 24.5181674\ttotal: 115ms\tremaining: 911ms\n",
      "112:\tlearn: 24.5147782\ttotal: 116ms\tremaining: 912ms\n",
      "113:\tlearn: 24.4897165\ttotal: 118ms\tremaining: 914ms\n",
      "114:\tlearn: 24.4861305\ttotal: 119ms\tremaining: 915ms\n",
      "115:\tlearn: 24.4827110\ttotal: 120ms\tremaining: 916ms\n",
      "116:\tlearn: 24.4473267\ttotal: 122ms\tremaining: 918ms\n",
      "117:\tlearn: 24.4437961\ttotal: 123ms\tremaining: 920ms\n",
      "118:\tlearn: 24.4044334\ttotal: 124ms\tremaining: 922ms\n",
      "119:\tlearn: 24.3649621\ttotal: 126ms\tremaining: 922ms\n",
      "120:\tlearn: 24.3402865\ttotal: 127ms\tremaining: 923ms\n",
      "121:\tlearn: 24.3157289\ttotal: 128ms\tremaining: 924ms\n",
      "122:\tlearn: 24.3121741\ttotal: 130ms\tremaining: 924ms\n",
      "123:\tlearn: 24.2870692\ttotal: 131ms\tremaining: 926ms\n",
      "124:\tlearn: 24.2476247\ttotal: 132ms\tremaining: 926ms\n",
      "125:\tlearn: 24.2441027\ttotal: 133ms\tremaining: 924ms\n",
      "126:\tlearn: 24.2178935\ttotal: 134ms\tremaining: 923ms\n",
      "127:\tlearn: 24.2143570\ttotal: 135ms\tremaining: 921ms\n",
      "128:\tlearn: 24.2111334\ttotal: 136ms\tremaining: 919ms\n",
      "129:\tlearn: 24.1830959\ttotal: 137ms\tremaining: 917ms\n",
      "130:\tlearn: 24.1576069\ttotal: 138ms\tremaining: 915ms\n",
      "131:\tlearn: 24.1303033\ttotal: 139ms\tremaining: 913ms\n",
      "132:\tlearn: 24.1022732\ttotal: 140ms\tremaining: 912ms\n",
      "133:\tlearn: 24.0940544\ttotal: 141ms\tremaining: 911ms\n",
      "134:\tlearn: 24.0771998\ttotal: 142ms\tremaining: 909ms\n",
      "135:\tlearn: 24.0742635\ttotal: 143ms\tremaining: 907ms\n",
      "136:\tlearn: 24.0482086\ttotal: 144ms\tremaining: 905ms\n",
      "137:\tlearn: 24.0127929\ttotal: 145ms\tremaining: 903ms\n",
      "138:\tlearn: 24.0098445\ttotal: 146ms\tremaining: 902ms\n",
      "139:\tlearn: 23.9865007\ttotal: 147ms\tremaining: 901ms\n",
      "140:\tlearn: 23.9691759\ttotal: 148ms\tremaining: 899ms\n",
      "141:\tlearn: 23.9637886\ttotal: 149ms\tremaining: 898ms\n",
      "142:\tlearn: 23.9610362\ttotal: 149ms\tremaining: 896ms\n",
      "143:\tlearn: 23.9581503\ttotal: 150ms\tremaining: 894ms\n",
      "144:\tlearn: 23.9551026\ttotal: 151ms\tremaining: 892ms\n",
      "145:\tlearn: 23.9326849\ttotal: 152ms\tremaining: 890ms\n",
      "146:\tlearn: 23.9180986\ttotal: 153ms\tremaining: 888ms\n",
      "147:\tlearn: 23.8946726\ttotal: 154ms\tremaining: 887ms\n",
      "148:\tlearn: 23.8920646\ttotal: 155ms\tremaining: 884ms\n",
      "149:\tlearn: 23.8546593\ttotal: 156ms\tremaining: 882ms\n",
      "150:\tlearn: 23.8318803\ttotal: 157ms\tremaining: 880ms\n",
      "151:\tlearn: 23.7953295\ttotal: 158ms\tremaining: 879ms\n",
      "152:\tlearn: 23.7730473\ttotal: 158ms\tremaining: 877ms\n",
      "153:\tlearn: 23.7478208\ttotal: 160ms\tremaining: 877ms\n",
      "154:\tlearn: 23.7452324\ttotal: 161ms\tremaining: 876ms\n",
      "155:\tlearn: 23.7414611\ttotal: 162ms\tremaining: 874ms\n",
      "156:\tlearn: 23.7192193\ttotal: 162ms\tremaining: 872ms\n",
      "157:\tlearn: 23.7165082\ttotal: 163ms\tremaining: 870ms\n",
      "158:\tlearn: 23.7019189\ttotal: 164ms\tremaining: 869ms\n",
      "159:\tlearn: 23.6865583\ttotal: 165ms\tremaining: 867ms\n",
      "160:\tlearn: 23.6615317\ttotal: 166ms\tremaining: 866ms\n",
      "161:\tlearn: 23.6434634\ttotal: 167ms\tremaining: 864ms\n",
      "162:\tlearn: 23.6347545\ttotal: 168ms\tremaining: 863ms\n",
      "163:\tlearn: 23.6171310\ttotal: 169ms\tremaining: 861ms\n",
      "164:\tlearn: 23.5876598\ttotal: 170ms\tremaining: 860ms\n",
      "165:\tlearn: 23.5679593\ttotal: 171ms\tremaining: 858ms\n",
      "166:\tlearn: 23.5660438\ttotal: 172ms\tremaining: 856ms\n",
      "167:\tlearn: 23.5637233\ttotal: 173ms\tremaining: 855ms\n",
      "168:\tlearn: 23.5616913\ttotal: 174ms\tremaining: 853ms\n",
      "169:\tlearn: 23.5593055\ttotal: 175ms\tremaining: 852ms\n",
      "170:\tlearn: 23.5345656\ttotal: 175ms\tremaining: 851ms\n",
      "171:\tlearn: 23.5167176\ttotal: 176ms\tremaining: 849ms\n",
      "172:\tlearn: 23.4963727\ttotal: 177ms\tremaining: 847ms\n",
      "173:\tlearn: 23.4789460\ttotal: 178ms\tremaining: 846ms\n",
      "174:\tlearn: 23.4597453\ttotal: 179ms\tremaining: 844ms\n",
      "175:\tlearn: 23.4386613\ttotal: 180ms\tremaining: 843ms\n",
      "176:\tlearn: 23.4362551\ttotal: 181ms\tremaining: 841ms\n",
      "177:\tlearn: 23.4271473\ttotal: 182ms\tremaining: 840ms\n",
      "178:\tlearn: 23.4249162\ttotal: 183ms\tremaining: 839ms\n",
      "179:\tlearn: 23.4157435\ttotal: 184ms\tremaining: 837ms\n",
      "180:\tlearn: 23.4055457\ttotal: 185ms\tremaining: 835ms\n",
      "181:\tlearn: 23.3808230\ttotal: 186ms\tremaining: 834ms\n",
      "182:\tlearn: 23.3719871\ttotal: 186ms\tremaining: 833ms\n",
      "183:\tlearn: 23.3541695\ttotal: 187ms\tremaining: 831ms\n",
      "184:\tlearn: 23.3281848\ttotal: 188ms\tremaining: 830ms\n",
      "185:\tlearn: 23.3258094\ttotal: 189ms\tremaining: 829ms\n",
      "186:\tlearn: 23.3236913\ttotal: 190ms\tremaining: 828ms\n",
      "187:\tlearn: 23.3061716\ttotal: 191ms\tremaining: 826ms\n",
      "188:\tlearn: 23.3038188\ttotal: 192ms\tremaining: 825ms\n",
      "189:\tlearn: 23.2866732\ttotal: 194ms\tremaining: 825ms\n",
      "190:\tlearn: 23.2671880\ttotal: 194ms\tremaining: 823ms\n",
      "191:\tlearn: 23.2650716\ttotal: 195ms\tremaining: 822ms\n",
      "192:\tlearn: 23.2388910\ttotal: 196ms\tremaining: 820ms\n",
      "193:\tlearn: 23.2369143\ttotal: 197ms\tremaining: 817ms\n",
      "194:\tlearn: 23.2347311\ttotal: 198ms\tremaining: 816ms\n",
      "195:\tlearn: 23.2258023\ttotal: 199ms\tremaining: 814ms\n",
      "196:\tlearn: 23.2142413\ttotal: 199ms\tremaining: 813ms\n",
      "197:\tlearn: 23.1882975\ttotal: 200ms\tremaining: 812ms\n",
      "198:\tlearn: 23.1680016\ttotal: 201ms\tremaining: 810ms\n",
      "199:\tlearn: 23.1636484\ttotal: 202ms\tremaining: 809ms\n",
      "200:\tlearn: 23.1614342\ttotal: 203ms\tremaining: 808ms\n",
      "201:\tlearn: 23.1593720\ttotal: 204ms\tremaining: 806ms\n",
      "202:\tlearn: 23.1349008\ttotal: 205ms\tremaining: 805ms\n",
      "203:\tlearn: 23.1259867\ttotal: 206ms\tremaining: 803ms\n",
      "204:\tlearn: 23.1090840\ttotal: 207ms\tremaining: 802ms\n",
      "205:\tlearn: 23.0937186\ttotal: 208ms\tremaining: 801ms\n",
      "206:\tlearn: 23.0785160\ttotal: 209ms\tremaining: 800ms\n",
      "207:\tlearn: 23.0743999\ttotal: 210ms\tremaining: 800ms\n",
      "208:\tlearn: 23.0580769\ttotal: 211ms\tremaining: 799ms\n",
      "209:\tlearn: 23.0326350\ttotal: 212ms\tremaining: 797ms\n",
      "210:\tlearn: 23.0136617\ttotal: 213ms\tremaining: 796ms\n",
      "211:\tlearn: 23.0037336\ttotal: 214ms\tremaining: 795ms\n",
      "212:\tlearn: 22.9938918\ttotal: 215ms\tremaining: 794ms\n",
      "213:\tlearn: 22.9921347\ttotal: 216ms\tremaining: 792ms\n",
      "214:\tlearn: 22.9770611\ttotal: 217ms\tremaining: 791ms\n",
      "215:\tlearn: 22.9746189\ttotal: 218ms\tremaining: 790ms\n",
      "216:\tlearn: 22.9676783\ttotal: 219ms\tremaining: 789ms\n",
      "217:\tlearn: 22.9526400\ttotal: 220ms\tremaining: 787ms\n",
      "218:\tlearn: 22.9404040\ttotal: 220ms\tremaining: 786ms\n",
      "219:\tlearn: 22.9387622\ttotal: 221ms\tremaining: 784ms\n",
      "220:\tlearn: 22.9336138\ttotal: 222ms\tremaining: 783ms\n",
      "221:\tlearn: 22.9279566\ttotal: 223ms\tremaining: 781ms\n",
      "222:\tlearn: 22.9163794\ttotal: 224ms\tremaining: 780ms\n",
      "223:\tlearn: 22.9143930\ttotal: 225ms\tremaining: 779ms\n",
      "224:\tlearn: 22.9056010\ttotal: 226ms\tremaining: 778ms\n",
      "225:\tlearn: 22.8813432\ttotal: 227ms\tremaining: 778ms\n",
      "226:\tlearn: 22.8797315\ttotal: 228ms\tremaining: 777ms\n",
      "227:\tlearn: 22.8671413\ttotal: 229ms\tremaining: 776ms\n",
      "228:\tlearn: 22.8399502\ttotal: 231ms\tremaining: 776ms\n",
      "229:\tlearn: 22.8384494\ttotal: 231ms\tremaining: 774ms\n",
      "230:\tlearn: 22.8369414\ttotal: 232ms\tremaining: 773ms\n",
      "231:\tlearn: 22.8354360\ttotal: 233ms\tremaining: 772ms\n",
      "232:\tlearn: 22.8337727\ttotal: 234ms\tremaining: 771ms\n",
      "233:\tlearn: 22.8198095\ttotal: 235ms\tremaining: 770ms\n",
      "234:\tlearn: 22.8182172\ttotal: 236ms\tremaining: 768ms\n",
      "235:\tlearn: 22.8167639\ttotal: 237ms\tremaining: 768ms\n",
      "236:\tlearn: 22.8153334\ttotal: 238ms\tremaining: 767ms\n",
      "237:\tlearn: 22.8103205\ttotal: 239ms\tremaining: 766ms\n",
      "238:\tlearn: 22.8086893\ttotal: 240ms\tremaining: 765ms\n",
      "239:\tlearn: 22.8007275\ttotal: 241ms\tremaining: 764ms\n",
      "240:\tlearn: 22.7876407\ttotal: 243ms\tremaining: 764ms\n",
      "241:\tlearn: 22.7861855\ttotal: 244ms\tremaining: 763ms\n",
      "242:\tlearn: 22.7659588\ttotal: 245ms\tremaining: 762ms\n",
      "243:\tlearn: 22.7437765\ttotal: 246ms\tremaining: 762ms\n",
      "244:\tlearn: 22.7320771\ttotal: 247ms\tremaining: 761ms\n",
      "245:\tlearn: 22.7149207\ttotal: 248ms\tremaining: 760ms\n",
      "246:\tlearn: 22.6954382\ttotal: 249ms\tremaining: 759ms\n",
      "247:\tlearn: 22.6809209\ttotal: 250ms\tremaining: 758ms\n",
      "248:\tlearn: 22.6691170\ttotal: 251ms\tremaining: 757ms\n",
      "249:\tlearn: 22.6668203\ttotal: 252ms\tremaining: 756ms\n",
      "250:\tlearn: 22.6401929\ttotal: 253ms\tremaining: 755ms\n",
      "251:\tlearn: 22.6382449\ttotal: 254ms\tremaining: 754ms\n",
      "252:\tlearn: 22.6369065\ttotal: 255ms\tremaining: 752ms\n",
      "253:\tlearn: 22.6112194\ttotal: 256ms\tremaining: 751ms\n",
      "254:\tlearn: 22.6082480\ttotal: 257ms\tremaining: 750ms\n",
      "255:\tlearn: 22.6015117\ttotal: 258ms\tremaining: 749ms\n",
      "256:\tlearn: 22.5983668\ttotal: 259ms\tremaining: 748ms\n",
      "257:\tlearn: 22.5819139\ttotal: 260ms\tremaining: 747ms\n",
      "258:\tlearn: 22.5700893\ttotal: 261ms\tremaining: 746ms\n",
      "259:\tlearn: 22.5497651\ttotal: 262ms\tremaining: 746ms\n",
      "260:\tlearn: 22.5303755\ttotal: 263ms\tremaining: 745ms\n",
      "261:\tlearn: 22.5291025\ttotal: 264ms\tremaining: 744ms\n",
      "262:\tlearn: 22.5270752\ttotal: 265ms\tremaining: 742ms\n",
      "263:\tlearn: 22.5258312\ttotal: 266ms\tremaining: 741ms\n",
      "264:\tlearn: 22.5034852\ttotal: 267ms\tremaining: 740ms\n",
      "265:\tlearn: 22.4825932\ttotal: 268ms\tremaining: 739ms\n",
      "266:\tlearn: 22.4672074\ttotal: 269ms\tremaining: 739ms\n",
      "267:\tlearn: 22.4642871\ttotal: 270ms\tremaining: 737ms\n",
      "268:\tlearn: 22.4608623\ttotal: 271ms\tremaining: 736ms\n",
      "269:\tlearn: 22.4507144\ttotal: 272ms\tremaining: 736ms\n",
      "270:\tlearn: 22.4469292\ttotal: 273ms\tremaining: 734ms\n",
      "271:\tlearn: 22.4336678\ttotal: 274ms\tremaining: 734ms\n",
      "272:\tlearn: 22.4223996\ttotal: 275ms\tremaining: 733ms\n",
      "273:\tlearn: 22.4054438\ttotal: 276ms\tremaining: 733ms\n",
      "274:\tlearn: 22.4042602\ttotal: 278ms\tremaining: 732ms\n",
      "275:\tlearn: 22.4030951\ttotal: 279ms\tremaining: 731ms\n",
      "276:\tlearn: 22.4018213\ttotal: 279ms\tremaining: 730ms\n",
      "277:\tlearn: 22.4002895\ttotal: 281ms\tremaining: 729ms\n",
      "278:\tlearn: 22.3989175\ttotal: 282ms\tremaining: 729ms\n",
      "279:\tlearn: 22.3974138\ttotal: 283ms\tremaining: 729ms\n",
      "280:\tlearn: 22.3961450\ttotal: 285ms\tremaining: 729ms\n",
      "281:\tlearn: 22.3917851\ttotal: 286ms\tremaining: 728ms\n",
      "282:\tlearn: 22.3860679\ttotal: 287ms\tremaining: 727ms\n",
      "283:\tlearn: 22.3850093\ttotal: 287ms\tremaining: 725ms\n",
      "284:\tlearn: 22.3839671\ttotal: 289ms\tremaining: 724ms\n",
      "285:\tlearn: 22.3827733\ttotal: 289ms\tremaining: 723ms\n",
      "286:\tlearn: 22.3708552\ttotal: 290ms\tremaining: 721ms\n",
      "287:\tlearn: 22.3636776\ttotal: 291ms\tremaining: 720ms\n",
      "288:\tlearn: 22.3625314\ttotal: 292ms\tremaining: 719ms\n",
      "289:\tlearn: 22.3591909\ttotal: 293ms\tremaining: 718ms\n",
      "290:\tlearn: 22.3581856\ttotal: 294ms\tremaining: 717ms\n",
      "291:\tlearn: 22.3492425\ttotal: 295ms\tremaining: 716ms\n",
      "292:\tlearn: 22.3481397\ttotal: 296ms\tremaining: 714ms\n",
      "293:\tlearn: 22.3471660\ttotal: 297ms\tremaining: 713ms\n",
      "294:\tlearn: 22.3455505\ttotal: 298ms\tremaining: 712ms\n",
      "295:\tlearn: 22.3251011\ttotal: 299ms\tremaining: 711ms\n",
      "296:\tlearn: 22.3239275\ttotal: 300ms\tremaining: 710ms\n",
      "297:\tlearn: 22.3229223\ttotal: 301ms\tremaining: 709ms\n",
      "298:\tlearn: 22.3149875\ttotal: 302ms\tremaining: 708ms\n",
      "299:\tlearn: 22.3140547\ttotal: 303ms\tremaining: 707ms\n",
      "300:\tlearn: 22.2925016\ttotal: 304ms\tremaining: 706ms\n",
      "301:\tlearn: 22.2916031\ttotal: 305ms\tremaining: 705ms\n",
      "302:\tlearn: 22.2826718\ttotal: 306ms\tremaining: 704ms\n",
      "303:\tlearn: 22.2768767\ttotal: 307ms\tremaining: 704ms\n",
      "304:\tlearn: 22.2684332\ttotal: 309ms\tremaining: 703ms\n",
      "305:\tlearn: 22.2669662\ttotal: 310ms\tremaining: 702ms\n",
      "306:\tlearn: 22.2658130\ttotal: 311ms\tremaining: 701ms\n",
      "307:\tlearn: 22.2609742\ttotal: 311ms\tremaining: 700ms\n",
      "308:\tlearn: 22.2600450\ttotal: 312ms\tremaining: 699ms\n",
      "309:\tlearn: 22.2441087\ttotal: 313ms\tremaining: 698ms\n",
      "310:\tlearn: 22.2432835\ttotal: 314ms\tremaining: 696ms\n",
      "311:\tlearn: 22.2380140\ttotal: 315ms\tremaining: 695ms\n",
      "312:\tlearn: 22.2371622\ttotal: 316ms\tremaining: 693ms\n",
      "313:\tlearn: 22.2361870\ttotal: 317ms\tremaining: 693ms\n",
      "314:\tlearn: 22.2352879\ttotal: 318ms\tremaining: 692ms\n",
      "315:\tlearn: 22.2343277\ttotal: 319ms\tremaining: 691ms\n",
      "316:\tlearn: 22.2333396\ttotal: 320ms\tremaining: 690ms\n",
      "317:\tlearn: 22.2325687\ttotal: 321ms\tremaining: 688ms\n",
      "318:\tlearn: 22.2137511\ttotal: 322ms\tremaining: 687ms\n",
      "319:\tlearn: 22.2127626\ttotal: 323ms\tremaining: 686ms\n",
      "320:\tlearn: 22.2053707\ttotal: 324ms\tremaining: 685ms\n",
      "321:\tlearn: 22.2045190\ttotal: 325ms\tremaining: 684ms\n",
      "322:\tlearn: 22.2037770\ttotal: 325ms\tremaining: 682ms\n",
      "323:\tlearn: 22.2030009\ttotal: 326ms\tremaining: 680ms\n",
      "324:\tlearn: 22.2019428\ttotal: 327ms\tremaining: 679ms\n",
      "325:\tlearn: 22.2011426\ttotal: 328ms\tremaining: 678ms\n",
      "326:\tlearn: 22.1973522\ttotal: 329ms\tremaining: 677ms\n",
      "327:\tlearn: 22.1830214\ttotal: 330ms\tremaining: 676ms\n",
      "328:\tlearn: 22.1820979\ttotal: 331ms\tremaining: 675ms\n",
      "329:\tlearn: 22.1812017\ttotal: 332ms\tremaining: 673ms\n",
      "330:\tlearn: 22.1802820\ttotal: 333ms\tremaining: 672ms\n",
      "331:\tlearn: 22.1728990\ttotal: 334ms\tremaining: 671ms\n",
      "332:\tlearn: 22.1623086\ttotal: 335ms\tremaining: 670ms\n",
      "333:\tlearn: 22.1582660\ttotal: 336ms\tremaining: 669ms\n",
      "334:\tlearn: 22.1497383\ttotal: 336ms\tremaining: 668ms\n",
      "335:\tlearn: 22.1490625\ttotal: 337ms\tremaining: 667ms\n",
      "336:\tlearn: 22.1428499\ttotal: 338ms\tremaining: 666ms\n",
      "337:\tlearn: 22.1421062\ttotal: 339ms\tremaining: 665ms\n",
      "338:\tlearn: 22.1414543\ttotal: 340ms\tremaining: 663ms\n",
      "339:\tlearn: 22.1174215\ttotal: 341ms\tremaining: 662ms\n",
      "340:\tlearn: 22.1167048\ttotal: 342ms\tremaining: 661ms\n",
      "341:\tlearn: 22.1003327\ttotal: 343ms\tremaining: 660ms\n",
      "342:\tlearn: 22.0852636\ttotal: 344ms\tremaining: 659ms\n",
      "343:\tlearn: 22.0844480\ttotal: 345ms\tremaining: 658ms\n",
      "344:\tlearn: 22.0734952\ttotal: 346ms\tremaining: 657ms\n",
      "345:\tlearn: 22.0608718\ttotal: 347ms\tremaining: 655ms\n",
      "346:\tlearn: 22.0601329\ttotal: 348ms\tremaining: 654ms\n",
      "347:\tlearn: 22.0592932\ttotal: 349ms\tremaining: 653ms\n",
      "348:\tlearn: 22.0584272\ttotal: 350ms\tremaining: 652ms\n",
      "349:\tlearn: 22.0434156\ttotal: 351ms\tremaining: 651ms\n",
      "350:\tlearn: 22.0425928\ttotal: 351ms\tremaining: 650ms\n",
      "351:\tlearn: 22.0278049\ttotal: 352ms\tremaining: 649ms\n",
      "352:\tlearn: 22.0270065\ttotal: 353ms\tremaining: 647ms\n",
      "353:\tlearn: 22.0258066\ttotal: 354ms\tremaining: 646ms\n",
      "354:\tlearn: 22.0227612\ttotal: 355ms\tremaining: 645ms\n",
      "355:\tlearn: 22.0221931\ttotal: 356ms\tremaining: 643ms\n",
      "356:\tlearn: 22.0080214\ttotal: 357ms\tremaining: 643ms\n",
      "357:\tlearn: 22.0007755\ttotal: 358ms\tremaining: 641ms\n",
      "358:\tlearn: 21.9861430\ttotal: 359ms\tremaining: 640ms\n",
      "359:\tlearn: 21.9855904\ttotal: 359ms\tremaining: 639ms\n",
      "360:\tlearn: 21.9718119\ttotal: 360ms\tremaining: 638ms\n",
      "361:\tlearn: 21.9572819\ttotal: 361ms\tremaining: 637ms\n",
      "362:\tlearn: 21.9498806\ttotal: 362ms\tremaining: 635ms\n",
      "363:\tlearn: 21.9493417\ttotal: 363ms\tremaining: 634ms\n",
      "364:\tlearn: 21.9485094\ttotal: 364ms\tremaining: 632ms\n",
      "365:\tlearn: 21.9381276\ttotal: 365ms\tremaining: 631ms\n",
      "366:\tlearn: 21.9376003\ttotal: 365ms\tremaining: 630ms\n",
      "367:\tlearn: 21.9249228\ttotal: 366ms\tremaining: 629ms\n",
      "368:\tlearn: 21.9126742\ttotal: 367ms\tremaining: 628ms\n",
      "369:\tlearn: 21.9119605\ttotal: 368ms\tremaining: 627ms\n",
      "370:\tlearn: 21.9094327\ttotal: 369ms\tremaining: 626ms\n",
      "371:\tlearn: 21.9008281\ttotal: 370ms\tremaining: 624ms\n",
      "372:\tlearn: 21.9001412\ttotal: 371ms\tremaining: 623ms\n",
      "373:\tlearn: 21.8917825\ttotal: 372ms\tremaining: 622ms\n",
      "374:\tlearn: 21.8748597\ttotal: 373ms\tremaining: 622ms\n",
      "375:\tlearn: 21.8743705\ttotal: 374ms\tremaining: 620ms\n",
      "376:\tlearn: 21.8736296\ttotal: 375ms\tremaining: 619ms\n",
      "377:\tlearn: 21.8728637\ttotal: 375ms\tremaining: 618ms\n",
      "378:\tlearn: 21.8722053\ttotal: 376ms\tremaining: 617ms\n",
      "379:\tlearn: 21.8609064\ttotal: 377ms\tremaining: 616ms\n",
      "380:\tlearn: 21.8509180\ttotal: 378ms\tremaining: 615ms\n",
      "381:\tlearn: 21.8485400\ttotal: 379ms\tremaining: 613ms\n",
      "382:\tlearn: 21.8380151\ttotal: 380ms\tremaining: 612ms\n",
      "383:\tlearn: 21.8369348\ttotal: 381ms\tremaining: 611ms\n",
      "384:\tlearn: 21.8146914\ttotal: 382ms\tremaining: 610ms\n",
      "385:\tlearn: 21.8085119\ttotal: 383ms\tremaining: 609ms\n",
      "386:\tlearn: 21.7941046\ttotal: 384ms\tremaining: 608ms\n",
      "387:\tlearn: 21.7813173\ttotal: 385ms\tremaining: 607ms\n",
      "388:\tlearn: 21.7730441\ttotal: 386ms\tremaining: 606ms\n",
      "389:\tlearn: 21.7518920\ttotal: 387ms\tremaining: 605ms\n",
      "390:\tlearn: 21.7512585\ttotal: 388ms\tremaining: 604ms\n",
      "391:\tlearn: 21.7496906\ttotal: 389ms\tremaining: 603ms\n",
      "392:\tlearn: 21.7385426\ttotal: 390ms\tremaining: 602ms\n",
      "393:\tlearn: 21.7187231\ttotal: 391ms\tremaining: 601ms\n",
      "394:\tlearn: 21.7123208\ttotal: 392ms\tremaining: 600ms\n",
      "395:\tlearn: 21.7021872\ttotal: 393ms\tremaining: 599ms\n",
      "396:\tlearn: 21.6834881\ttotal: 394ms\tremaining: 598ms\n",
      "397:\tlearn: 21.6675218\ttotal: 395ms\tremaining: 597ms\n",
      "398:\tlearn: 21.6479237\ttotal: 396ms\tremaining: 596ms\n",
      "399:\tlearn: 21.6352340\ttotal: 397ms\tremaining: 595ms\n",
      "400:\tlearn: 21.6347862\ttotal: 398ms\tremaining: 594ms\n",
      "401:\tlearn: 21.6190851\ttotal: 399ms\tremaining: 593ms\n",
      "402:\tlearn: 21.6040057\ttotal: 400ms\tremaining: 593ms\n",
      "403:\tlearn: 21.6034139\ttotal: 401ms\tremaining: 591ms\n",
      "404:\tlearn: 21.5957976\ttotal: 402ms\tremaining: 590ms\n",
      "405:\tlearn: 21.5883740\ttotal: 403ms\tremaining: 589ms\n",
      "406:\tlearn: 21.5773244\ttotal: 404ms\tremaining: 588ms\n",
      "407:\tlearn: 21.5719058\ttotal: 405ms\tremaining: 587ms\n",
      "408:\tlearn: 21.5598747\ttotal: 406ms\tremaining: 586ms\n",
      "409:\tlearn: 21.5434629\ttotal: 407ms\tremaining: 586ms\n",
      "410:\tlearn: 21.5364767\ttotal: 408ms\tremaining: 585ms\n",
      "411:\tlearn: 21.5274029\ttotal: 409ms\tremaining: 584ms\n",
      "412:\tlearn: 21.5265738\ttotal: 410ms\tremaining: 582ms\n",
      "413:\tlearn: 21.5160680\ttotal: 411ms\tremaining: 581ms\n",
      "414:\tlearn: 21.5104454\ttotal: 412ms\tremaining: 580ms\n",
      "415:\tlearn: 21.4955827\ttotal: 413ms\tremaining: 579ms\n",
      "416:\tlearn: 21.4951136\ttotal: 414ms\tremaining: 578ms\n",
      "417:\tlearn: 21.4945572\ttotal: 415ms\tremaining: 577ms\n",
      "418:\tlearn: 21.4939959\ttotal: 415ms\tremaining: 576ms\n",
      "419:\tlearn: 21.4797003\ttotal: 416ms\tremaining: 575ms\n",
      "420:\tlearn: 21.4690438\ttotal: 417ms\tremaining: 574ms\n",
      "421:\tlearn: 21.4667326\ttotal: 418ms\tremaining: 573ms\n",
      "422:\tlearn: 21.4485140\ttotal: 419ms\tremaining: 572ms\n",
      "423:\tlearn: 21.4336982\ttotal: 420ms\tremaining: 571ms\n",
      "424:\tlearn: 21.4196210\ttotal: 421ms\tremaining: 570ms\n",
      "425:\tlearn: 21.4123603\ttotal: 422ms\tremaining: 569ms\n",
      "426:\tlearn: 21.3951342\ttotal: 423ms\tremaining: 568ms\n",
      "427:\tlearn: 21.3862482\ttotal: 424ms\tremaining: 567ms\n",
      "428:\tlearn: 21.3721547\ttotal: 425ms\tremaining: 566ms\n",
      "429:\tlearn: 21.3603700\ttotal: 426ms\tremaining: 565ms\n",
      "430:\tlearn: 21.3433408\ttotal: 427ms\tremaining: 564ms\n",
      "431:\tlearn: 21.3318065\ttotal: 428ms\tremaining: 563ms\n",
      "432:\tlearn: 21.3232806\ttotal: 429ms\tremaining: 562ms\n",
      "433:\tlearn: 21.3102445\ttotal: 430ms\tremaining: 561ms\n",
      "434:\tlearn: 21.3009711\ttotal: 431ms\tremaining: 560ms\n",
      "435:\tlearn: 21.2844959\ttotal: 432ms\tremaining: 559ms\n",
      "436:\tlearn: 21.2749800\ttotal: 433ms\tremaining: 558ms\n",
      "437:\tlearn: 21.2620943\ttotal: 434ms\tremaining: 557ms\n",
      "438:\tlearn: 21.2553563\ttotal: 435ms\tremaining: 556ms\n",
      "439:\tlearn: 21.2548399\ttotal: 436ms\tremaining: 555ms\n",
      "440:\tlearn: 21.2484252\ttotal: 437ms\tremaining: 554ms\n",
      "441:\tlearn: 21.2346503\ttotal: 438ms\tremaining: 553ms\n",
      "442:\tlearn: 21.2212773\ttotal: 439ms\tremaining: 552ms\n",
      "443:\tlearn: 21.2126348\ttotal: 440ms\tremaining: 551ms\n",
      "444:\tlearn: 21.2038679\ttotal: 441ms\tremaining: 550ms\n",
      "445:\tlearn: 21.2035001\ttotal: 442ms\tremaining: 549ms\n",
      "446:\tlearn: 21.1886927\ttotal: 443ms\tremaining: 548ms\n",
      "447:\tlearn: 21.1777221\ttotal: 444ms\tremaining: 547ms\n",
      "448:\tlearn: 21.1689686\ttotal: 445ms\tremaining: 546ms\n",
      "449:\tlearn: 21.1684600\ttotal: 446ms\tremaining: 545ms\n",
      "450:\tlearn: 21.1519893\ttotal: 447ms\tremaining: 544ms\n",
      "451:\tlearn: 21.1383375\ttotal: 448ms\tremaining: 543ms\n",
      "452:\tlearn: 21.1292947\ttotal: 448ms\tremaining: 542ms\n",
      "453:\tlearn: 21.1205608\ttotal: 449ms\tremaining: 540ms\n",
      "454:\tlearn: 21.1093433\ttotal: 450ms\tremaining: 539ms\n",
      "455:\tlearn: 21.1016163\ttotal: 451ms\tremaining: 538ms\n",
      "456:\tlearn: 21.0887530\ttotal: 452ms\tremaining: 537ms\n",
      "457:\tlearn: 21.0794750\ttotal: 453ms\tremaining: 536ms\n",
      "458:\tlearn: 21.0718868\ttotal: 454ms\tremaining: 535ms\n",
      "459:\tlearn: 21.0611492\ttotal: 455ms\tremaining: 534ms\n",
      "460:\tlearn: 21.0604218\ttotal: 456ms\tremaining: 533ms\n",
      "461:\tlearn: 21.0530850\ttotal: 457ms\tremaining: 532ms\n",
      "462:\tlearn: 21.0486677\ttotal: 458ms\tremaining: 531ms\n",
      "463:\tlearn: 21.0397143\ttotal: 459ms\tremaining: 530ms\n",
      "464:\tlearn: 21.0315833\ttotal: 460ms\tremaining: 529ms\n",
      "465:\tlearn: 21.0254559\ttotal: 461ms\tremaining: 528ms\n",
      "466:\tlearn: 21.0173662\ttotal: 462ms\tremaining: 527ms\n",
      "467:\tlearn: 21.0071776\ttotal: 463ms\tremaining: 526ms\n",
      "468:\tlearn: 21.0004573\ttotal: 464ms\tremaining: 525ms\n",
      "469:\tlearn: 20.9889569\ttotal: 465ms\tremaining: 524ms\n",
      "470:\tlearn: 20.9838477\ttotal: 466ms\tremaining: 523ms\n",
      "471:\tlearn: 20.9834686\ttotal: 467ms\tremaining: 522ms\n",
      "472:\tlearn: 20.9773219\ttotal: 468ms\tremaining: 521ms\n",
      "473:\tlearn: 20.9644107\ttotal: 469ms\tremaining: 520ms\n",
      "474:\tlearn: 20.9640627\ttotal: 470ms\tremaining: 519ms\n",
      "475:\tlearn: 20.9501907\ttotal: 471ms\tremaining: 518ms\n",
      "476:\tlearn: 20.9422056\ttotal: 472ms\tremaining: 517ms\n",
      "477:\tlearn: 20.9347733\ttotal: 473ms\tremaining: 516ms\n",
      "478:\tlearn: 20.9304570\ttotal: 474ms\tremaining: 515ms\n",
      "479:\tlearn: 20.9198329\ttotal: 475ms\tremaining: 515ms\n",
      "480:\tlearn: 20.9047563\ttotal: 476ms\tremaining: 514ms\n",
      "481:\tlearn: 20.8953094\ttotal: 477ms\tremaining: 513ms\n",
      "482:\tlearn: 20.8827909\ttotal: 478ms\tremaining: 512ms\n",
      "483:\tlearn: 20.8723521\ttotal: 479ms\tremaining: 511ms\n",
      "484:\tlearn: 20.8634988\ttotal: 480ms\tremaining: 510ms\n",
      "485:\tlearn: 20.8563886\ttotal: 481ms\tremaining: 509ms\n",
      "486:\tlearn: 20.8527971\ttotal: 482ms\tremaining: 508ms\n",
      "487:\tlearn: 20.8494979\ttotal: 483ms\tremaining: 507ms\n",
      "488:\tlearn: 20.8413374\ttotal: 484ms\tremaining: 506ms\n",
      "489:\tlearn: 20.8317399\ttotal: 485ms\tremaining: 505ms\n",
      "490:\tlearn: 20.8215193\ttotal: 486ms\tremaining: 504ms\n",
      "491:\tlearn: 20.8125735\ttotal: 487ms\tremaining: 503ms\n",
      "492:\tlearn: 20.8062510\ttotal: 488ms\tremaining: 502ms\n",
      "493:\tlearn: 20.7971730\ttotal: 489ms\tremaining: 501ms\n",
      "494:\tlearn: 20.7923256\ttotal: 490ms\tremaining: 500ms\n",
      "495:\tlearn: 20.7838933\ttotal: 491ms\tremaining: 499ms\n",
      "496:\tlearn: 20.7754756\ttotal: 492ms\tremaining: 498ms\n",
      "497:\tlearn: 20.7671681\ttotal: 493ms\tremaining: 497ms\n",
      "498:\tlearn: 20.7587443\ttotal: 494ms\tremaining: 496ms\n",
      "499:\tlearn: 20.7492070\ttotal: 495ms\tremaining: 495ms\n",
      "500:\tlearn: 20.7407893\ttotal: 496ms\tremaining: 494ms\n",
      "501:\tlearn: 20.7280242\ttotal: 497ms\tremaining: 493ms\n",
      "502:\tlearn: 20.7164829\ttotal: 498ms\tremaining: 492ms\n",
      "503:\tlearn: 20.7119761\ttotal: 499ms\tremaining: 491ms\n",
      "504:\tlearn: 20.7037336\ttotal: 500ms\tremaining: 490ms\n",
      "505:\tlearn: 20.6970466\ttotal: 501ms\tremaining: 489ms\n",
      "506:\tlearn: 20.6863988\ttotal: 502ms\tremaining: 488ms\n",
      "507:\tlearn: 20.6759105\ttotal: 503ms\tremaining: 487ms\n",
      "508:\tlearn: 20.6695378\ttotal: 504ms\tremaining: 486ms\n",
      "509:\tlearn: 20.6614363\ttotal: 505ms\tremaining: 485ms\n",
      "510:\tlearn: 20.6557617\ttotal: 506ms\tremaining: 484ms\n",
      "511:\tlearn: 20.6445567\ttotal: 507ms\tremaining: 483ms\n",
      "512:\tlearn: 20.6399189\ttotal: 508ms\tremaining: 482ms\n",
      "513:\tlearn: 20.6300540\ttotal: 509ms\tremaining: 481ms\n",
      "514:\tlearn: 20.6234692\ttotal: 510ms\tremaining: 480ms\n",
      "515:\tlearn: 20.6174943\ttotal: 511ms\tremaining: 479ms\n",
      "516:\tlearn: 20.6040021\ttotal: 512ms\tremaining: 478ms\n",
      "517:\tlearn: 20.5990518\ttotal: 513ms\tremaining: 477ms\n",
      "518:\tlearn: 20.5944841\ttotal: 514ms\tremaining: 477ms\n",
      "519:\tlearn: 20.5887010\ttotal: 515ms\tremaining: 476ms\n",
      "520:\tlearn: 20.5843142\ttotal: 516ms\tremaining: 475ms\n",
      "521:\tlearn: 20.5732432\ttotal: 517ms\tremaining: 474ms\n",
      "522:\tlearn: 20.5624556\ttotal: 518ms\tremaining: 472ms\n",
      "523:\tlearn: 20.5544623\ttotal: 519ms\tremaining: 471ms\n",
      "524:\tlearn: 20.5482262\ttotal: 520ms\tremaining: 471ms\n",
      "525:\tlearn: 20.5423598\ttotal: 521ms\tremaining: 469ms\n",
      "526:\tlearn: 20.5344503\ttotal: 522ms\tremaining: 468ms\n",
      "527:\tlearn: 20.5272478\ttotal: 523ms\tremaining: 467ms\n",
      "528:\tlearn: 20.5267965\ttotal: 524ms\tremaining: 466ms\n",
      "529:\tlearn: 20.5158185\ttotal: 525ms\tremaining: 465ms\n",
      "530:\tlearn: 20.5069972\ttotal: 526ms\tremaining: 464ms\n",
      "531:\tlearn: 20.5040355\ttotal: 527ms\tremaining: 463ms\n",
      "532:\tlearn: 20.4983581\ttotal: 528ms\tremaining: 462ms\n",
      "533:\tlearn: 20.4897792\ttotal: 529ms\tremaining: 461ms\n",
      "534:\tlearn: 20.4783475\ttotal: 530ms\tremaining: 460ms\n",
      "535:\tlearn: 20.4728853\ttotal: 531ms\tremaining: 459ms\n",
      "536:\tlearn: 20.4628779\ttotal: 532ms\tremaining: 458ms\n",
      "537:\tlearn: 20.4555410\ttotal: 533ms\tremaining: 457ms\n",
      "538:\tlearn: 20.4479816\ttotal: 534ms\tremaining: 456ms\n",
      "539:\tlearn: 20.4371915\ttotal: 535ms\tremaining: 456ms\n",
      "540:\tlearn: 20.4309759\ttotal: 536ms\tremaining: 455ms\n",
      "541:\tlearn: 20.4248359\ttotal: 537ms\tremaining: 454ms\n",
      "542:\tlearn: 20.4192800\ttotal: 538ms\tremaining: 453ms\n",
      "543:\tlearn: 20.4125526\ttotal: 539ms\tremaining: 452ms\n",
      "544:\tlearn: 20.4086409\ttotal: 540ms\tremaining: 451ms\n",
      "545:\tlearn: 20.4080552\ttotal: 541ms\tremaining: 450ms\n",
      "546:\tlearn: 20.4027055\ttotal: 542ms\tremaining: 449ms\n",
      "547:\tlearn: 20.4004009\ttotal: 543ms\tremaining: 448ms\n",
      "548:\tlearn: 20.3918951\ttotal: 544ms\tremaining: 447ms\n",
      "549:\tlearn: 20.3855725\ttotal: 545ms\tremaining: 446ms\n",
      "550:\tlearn: 20.3758543\ttotal: 546ms\tremaining: 445ms\n",
      "551:\tlearn: 20.3708679\ttotal: 547ms\tremaining: 444ms\n",
      "552:\tlearn: 20.3658824\ttotal: 548ms\tremaining: 443ms\n",
      "553:\tlearn: 20.3575550\ttotal: 548ms\tremaining: 442ms\n",
      "554:\tlearn: 20.3515243\ttotal: 550ms\tremaining: 441ms\n",
      "555:\tlearn: 20.3446142\ttotal: 550ms\tremaining: 440ms\n",
      "556:\tlearn: 20.3363007\ttotal: 551ms\tremaining: 439ms\n",
      "557:\tlearn: 20.3274800\ttotal: 552ms\tremaining: 438ms\n",
      "558:\tlearn: 20.3269165\ttotal: 553ms\tremaining: 436ms\n",
      "559:\tlearn: 20.3206580\ttotal: 554ms\tremaining: 435ms\n",
      "560:\tlearn: 20.3137560\ttotal: 555ms\tremaining: 434ms\n",
      "561:\tlearn: 20.3131994\ttotal: 556ms\tremaining: 433ms\n",
      "562:\tlearn: 20.3013049\ttotal: 557ms\tremaining: 432ms\n",
      "563:\tlearn: 20.2973655\ttotal: 558ms\tremaining: 431ms\n",
      "564:\tlearn: 20.2900125\ttotal: 559ms\tremaining: 430ms\n",
      "565:\tlearn: 20.2895843\ttotal: 560ms\tremaining: 429ms\n",
      "566:\tlearn: 20.2861121\ttotal: 561ms\tremaining: 428ms\n",
      "567:\tlearn: 20.2781063\ttotal: 562ms\tremaining: 427ms\n",
      "568:\tlearn: 20.2740715\ttotal: 563ms\tremaining: 426ms\n",
      "569:\tlearn: 20.2736247\ttotal: 564ms\tremaining: 425ms\n",
      "570:\tlearn: 20.2673062\ttotal: 565ms\tremaining: 424ms\n",
      "571:\tlearn: 20.2567824\ttotal: 565ms\tremaining: 423ms\n",
      "572:\tlearn: 20.2498365\ttotal: 566ms\tremaining: 422ms\n",
      "573:\tlearn: 20.2448732\ttotal: 567ms\tremaining: 421ms\n",
      "574:\tlearn: 20.2376496\ttotal: 568ms\tremaining: 420ms\n",
      "575:\tlearn: 20.2333481\ttotal: 569ms\tremaining: 419ms\n",
      "576:\tlearn: 20.2222589\ttotal: 570ms\tremaining: 418ms\n",
      "577:\tlearn: 20.2132219\ttotal: 571ms\tremaining: 417ms\n",
      "578:\tlearn: 20.2036105\ttotal: 572ms\tremaining: 416ms\n",
      "579:\tlearn: 20.1976207\ttotal: 573ms\tremaining: 415ms\n",
      "580:\tlearn: 20.1972270\ttotal: 574ms\tremaining: 414ms\n",
      "581:\tlearn: 20.1907735\ttotal: 575ms\tremaining: 413ms\n",
      "582:\tlearn: 20.1857201\ttotal: 576ms\tremaining: 412ms\n",
      "583:\tlearn: 20.1804825\ttotal: 577ms\tremaining: 411ms\n",
      "584:\tlearn: 20.1766565\ttotal: 578ms\tremaining: 410ms\n",
      "585:\tlearn: 20.1709780\ttotal: 579ms\tremaining: 409ms\n",
      "586:\tlearn: 20.1704765\ttotal: 580ms\tremaining: 408ms\n",
      "587:\tlearn: 20.1630584\ttotal: 581ms\tremaining: 407ms\n",
      "588:\tlearn: 20.1563919\ttotal: 582ms\tremaining: 406ms\n",
      "589:\tlearn: 20.1439527\ttotal: 583ms\tremaining: 405ms\n",
      "590:\tlearn: 20.1434291\ttotal: 584ms\tremaining: 404ms\n",
      "591:\tlearn: 20.1337914\ttotal: 585ms\tremaining: 403ms\n",
      "592:\tlearn: 20.1334132\ttotal: 586ms\tremaining: 402ms\n",
      "593:\tlearn: 20.1250002\ttotal: 587ms\tremaining: 401ms\n",
      "594:\tlearn: 20.1245711\ttotal: 588ms\tremaining: 400ms\n",
      "595:\tlearn: 20.1157151\ttotal: 589ms\tremaining: 399ms\n",
      "596:\tlearn: 20.1110752\ttotal: 590ms\tremaining: 398ms\n",
      "597:\tlearn: 20.1070956\ttotal: 591ms\tremaining: 397ms\n",
      "598:\tlearn: 20.1005873\ttotal: 592ms\tremaining: 396ms\n",
      "599:\tlearn: 20.1000805\ttotal: 593ms\tremaining: 395ms\n",
      "600:\tlearn: 20.0971246\ttotal: 594ms\tremaining: 394ms\n",
      "601:\tlearn: 20.0877360\ttotal: 595ms\tremaining: 393ms\n",
      "602:\tlearn: 20.0792025\ttotal: 596ms\tremaining: 392ms\n",
      "603:\tlearn: 20.0701887\ttotal: 597ms\tremaining: 391ms\n",
      "604:\tlearn: 20.0655219\ttotal: 598ms\tremaining: 390ms\n",
      "605:\tlearn: 20.0650215\ttotal: 599ms\tremaining: 389ms\n",
      "606:\tlearn: 20.0585090\ttotal: 600ms\tremaining: 388ms\n",
      "607:\tlearn: 20.0520526\ttotal: 601ms\tremaining: 387ms\n",
      "608:\tlearn: 20.0449314\ttotal: 602ms\tremaining: 386ms\n",
      "609:\tlearn: 20.0389230\ttotal: 603ms\tremaining: 385ms\n",
      "610:\tlearn: 20.0321229\ttotal: 604ms\tremaining: 384ms\n",
      "611:\tlearn: 20.0268131\ttotal: 605ms\tremaining: 383ms\n",
      "612:\tlearn: 20.0264442\ttotal: 606ms\tremaining: 383ms\n",
      "613:\tlearn: 20.0177919\ttotal: 607ms\tremaining: 382ms\n",
      "614:\tlearn: 20.0098976\ttotal: 608ms\tremaining: 381ms\n",
      "615:\tlearn: 20.0077463\ttotal: 609ms\tremaining: 380ms\n",
      "616:\tlearn: 20.0073896\ttotal: 610ms\tremaining: 379ms\n",
      "617:\tlearn: 20.0035631\ttotal: 611ms\tremaining: 378ms\n",
      "618:\tlearn: 19.9951514\ttotal: 612ms\tremaining: 377ms\n",
      "619:\tlearn: 19.9865942\ttotal: 613ms\tremaining: 376ms\n",
      "620:\tlearn: 19.9796454\ttotal: 614ms\tremaining: 375ms\n",
      "621:\tlearn: 19.9728033\ttotal: 615ms\tremaining: 374ms\n",
      "622:\tlearn: 19.9675339\ttotal: 616ms\tremaining: 373ms\n",
      "623:\tlearn: 19.9668576\ttotal: 617ms\tremaining: 372ms\n",
      "624:\tlearn: 19.9665236\ttotal: 618ms\tremaining: 371ms\n",
      "625:\tlearn: 19.9621215\ttotal: 619ms\tremaining: 370ms\n",
      "626:\tlearn: 19.9572997\ttotal: 620ms\tremaining: 369ms\n",
      "627:\tlearn: 19.9544020\ttotal: 621ms\tremaining: 368ms\n",
      "628:\tlearn: 19.9540494\ttotal: 622ms\tremaining: 367ms\n",
      "629:\tlearn: 19.9456964\ttotal: 623ms\tremaining: 366ms\n",
      "630:\tlearn: 19.9432188\ttotal: 624ms\tremaining: 365ms\n",
      "631:\tlearn: 19.9400781\ttotal: 625ms\tremaining: 364ms\n",
      "632:\tlearn: 19.9338581\ttotal: 626ms\tremaining: 363ms\n",
      "633:\tlearn: 19.9281561\ttotal: 627ms\tremaining: 362ms\n",
      "634:\tlearn: 19.9278033\ttotal: 629ms\tremaining: 361ms\n",
      "635:\tlearn: 19.9256725\ttotal: 630ms\tremaining: 361ms\n",
      "636:\tlearn: 19.9194189\ttotal: 631ms\tremaining: 360ms\n",
      "637:\tlearn: 19.9190239\ttotal: 632ms\tremaining: 359ms\n",
      "638:\tlearn: 19.9186992\ttotal: 633ms\tremaining: 358ms\n",
      "639:\tlearn: 19.9108609\ttotal: 634ms\tremaining: 357ms\n",
      "640:\tlearn: 19.9077599\ttotal: 635ms\tremaining: 356ms\n",
      "641:\tlearn: 19.9074501\ttotal: 636ms\tremaining: 355ms\n",
      "642:\tlearn: 19.9041869\ttotal: 637ms\tremaining: 354ms\n",
      "643:\tlearn: 19.9021586\ttotal: 638ms\tremaining: 353ms\n",
      "644:\tlearn: 19.8998390\ttotal: 639ms\tremaining: 352ms\n",
      "645:\tlearn: 19.8995064\ttotal: 640ms\tremaining: 351ms\n",
      "646:\tlearn: 19.8905350\ttotal: 641ms\tremaining: 350ms\n",
      "647:\tlearn: 19.8859336\ttotal: 642ms\tremaining: 349ms\n",
      "648:\tlearn: 19.8786712\ttotal: 643ms\tremaining: 348ms\n",
      "649:\tlearn: 19.8721803\ttotal: 644ms\tremaining: 347ms\n",
      "650:\tlearn: 19.8661990\ttotal: 645ms\tremaining: 346ms\n",
      "651:\tlearn: 19.8617406\ttotal: 646ms\tremaining: 345ms\n",
      "652:\tlearn: 19.8614112\ttotal: 647ms\tremaining: 344ms\n",
      "653:\tlearn: 19.8572653\ttotal: 648ms\tremaining: 343ms\n",
      "654:\tlearn: 19.8535165\ttotal: 649ms\tremaining: 342ms\n",
      "655:\tlearn: 19.8472402\ttotal: 650ms\tremaining: 341ms\n",
      "656:\tlearn: 19.8438954\ttotal: 651ms\tremaining: 340ms\n",
      "657:\tlearn: 19.8415209\ttotal: 652ms\tremaining: 339ms\n",
      "658:\tlearn: 19.8337312\ttotal: 653ms\tremaining: 338ms\n",
      "659:\tlearn: 19.8266696\ttotal: 654ms\tremaining: 337ms\n",
      "660:\tlearn: 19.8218585\ttotal: 656ms\tremaining: 336ms\n",
      "661:\tlearn: 19.8159454\ttotal: 657ms\tremaining: 335ms\n",
      "662:\tlearn: 19.8156353\ttotal: 658ms\tremaining: 334ms\n",
      "663:\tlearn: 19.8140323\ttotal: 658ms\tremaining: 333ms\n",
      "664:\tlearn: 19.8055393\ttotal: 659ms\tremaining: 332ms\n",
      "665:\tlearn: 19.8051777\ttotal: 660ms\tremaining: 331ms\n",
      "666:\tlearn: 19.7961856\ttotal: 661ms\tremaining: 330ms\n",
      "667:\tlearn: 19.7870881\ttotal: 663ms\tremaining: 329ms\n",
      "668:\tlearn: 19.7773556\ttotal: 664ms\tremaining: 328ms\n",
      "669:\tlearn: 19.7717324\ttotal: 665ms\tremaining: 327ms\n",
      "670:\tlearn: 19.7650548\ttotal: 666ms\tremaining: 326ms\n",
      "671:\tlearn: 19.7591932\ttotal: 667ms\tremaining: 326ms\n",
      "672:\tlearn: 19.7550047\ttotal: 668ms\tremaining: 325ms\n",
      "673:\tlearn: 19.7530171\ttotal: 669ms\tremaining: 324ms\n",
      "674:\tlearn: 19.7420649\ttotal: 670ms\tremaining: 323ms\n",
      "675:\tlearn: 19.7362496\ttotal: 671ms\tremaining: 322ms\n",
      "676:\tlearn: 19.7249731\ttotal: 672ms\tremaining: 321ms\n",
      "677:\tlearn: 19.7221436\ttotal: 674ms\tremaining: 320ms\n",
      "678:\tlearn: 19.7190596\ttotal: 675ms\tremaining: 319ms\n",
      "679:\tlearn: 19.7126138\ttotal: 676ms\tremaining: 318ms\n",
      "680:\tlearn: 19.7087107\ttotal: 677ms\tremaining: 317ms\n",
      "681:\tlearn: 19.7050266\ttotal: 678ms\tremaining: 316ms\n",
      "682:\tlearn: 19.6998423\ttotal: 679ms\tremaining: 315ms\n",
      "683:\tlearn: 19.6977867\ttotal: 680ms\tremaining: 314ms\n",
      "684:\tlearn: 19.6950145\ttotal: 681ms\tremaining: 313ms\n",
      "685:\tlearn: 19.6908434\ttotal: 682ms\tremaining: 312ms\n",
      "686:\tlearn: 19.6872906\ttotal: 683ms\tremaining: 311ms\n",
      "687:\tlearn: 19.6800534\ttotal: 684ms\tremaining: 310ms\n",
      "688:\tlearn: 19.6760669\ttotal: 685ms\tremaining: 309ms\n",
      "689:\tlearn: 19.6716503\ttotal: 686ms\tremaining: 308ms\n",
      "690:\tlearn: 19.6669079\ttotal: 687ms\tremaining: 307ms\n",
      "691:\tlearn: 19.6635475\ttotal: 688ms\tremaining: 306ms\n",
      "692:\tlearn: 19.6564594\ttotal: 689ms\tremaining: 305ms\n",
      "693:\tlearn: 19.6493402\ttotal: 690ms\tremaining: 304ms\n",
      "694:\tlearn: 19.6455860\ttotal: 691ms\tremaining: 303ms\n",
      "695:\tlearn: 19.6436748\ttotal: 692ms\tremaining: 302ms\n",
      "696:\tlearn: 19.6363440\ttotal: 693ms\tremaining: 301ms\n",
      "697:\tlearn: 19.6360754\ttotal: 694ms\tremaining: 300ms\n",
      "698:\tlearn: 19.6320757\ttotal: 695ms\tremaining: 299ms\n",
      "699:\tlearn: 19.6283969\ttotal: 696ms\tremaining: 298ms\n",
      "700:\tlearn: 19.6219402\ttotal: 697ms\tremaining: 297ms\n",
      "701:\tlearn: 19.6156189\ttotal: 698ms\tremaining: 296ms\n",
      "702:\tlearn: 19.6092033\ttotal: 699ms\tremaining: 295ms\n",
      "703:\tlearn: 19.6055736\ttotal: 700ms\tremaining: 295ms\n",
      "704:\tlearn: 19.6002265\ttotal: 701ms\tremaining: 294ms\n",
      "705:\tlearn: 19.5934883\ttotal: 702ms\tremaining: 293ms\n",
      "706:\tlearn: 19.5906324\ttotal: 703ms\tremaining: 291ms\n",
      "707:\tlearn: 19.5859512\ttotal: 704ms\tremaining: 290ms\n",
      "708:\tlearn: 19.5822757\ttotal: 705ms\tremaining: 289ms\n",
      "709:\tlearn: 19.5769456\ttotal: 706ms\tremaining: 288ms\n",
      "710:\tlearn: 19.5765579\ttotal: 707ms\tremaining: 287ms\n",
      "711:\tlearn: 19.5724364\ttotal: 708ms\tremaining: 286ms\n",
      "712:\tlearn: 19.5720667\ttotal: 709ms\tremaining: 285ms\n",
      "713:\tlearn: 19.5717915\ttotal: 710ms\tremaining: 284ms\n",
      "714:\tlearn: 19.5657546\ttotal: 711ms\tremaining: 283ms\n",
      "715:\tlearn: 19.5632341\ttotal: 712ms\tremaining: 282ms\n",
      "716:\tlearn: 19.5553756\ttotal: 713ms\tremaining: 281ms\n",
      "717:\tlearn: 19.5502013\ttotal: 714ms\tremaining: 280ms\n",
      "718:\tlearn: 19.5405526\ttotal: 715ms\tremaining: 279ms\n",
      "719:\tlearn: 19.5369457\ttotal: 716ms\tremaining: 278ms\n",
      "720:\tlearn: 19.5308027\ttotal: 717ms\tremaining: 278ms\n",
      "721:\tlearn: 19.5248900\ttotal: 718ms\tremaining: 277ms\n",
      "722:\tlearn: 19.5189527\ttotal: 719ms\tremaining: 275ms\n",
      "723:\tlearn: 19.5143876\ttotal: 720ms\tremaining: 274ms\n",
      "724:\tlearn: 19.5141130\ttotal: 721ms\tremaining: 273ms\n",
      "725:\tlearn: 19.5115480\ttotal: 722ms\tremaining: 272ms\n",
      "726:\tlearn: 19.5038623\ttotal: 723ms\tremaining: 271ms\n",
      "727:\tlearn: 19.5013885\ttotal: 724ms\tremaining: 270ms\n",
      "728:\tlearn: 19.4981489\ttotal: 725ms\tremaining: 269ms\n",
      "729:\tlearn: 19.4928606\ttotal: 726ms\tremaining: 268ms\n",
      "730:\tlearn: 19.4906501\ttotal: 727ms\tremaining: 267ms\n",
      "731:\tlearn: 19.4845776\ttotal: 728ms\tremaining: 266ms\n",
      "732:\tlearn: 19.4798875\ttotal: 729ms\tremaining: 265ms\n",
      "733:\tlearn: 19.4795576\ttotal: 730ms\tremaining: 264ms\n",
      "734:\tlearn: 19.4754127\ttotal: 731ms\tremaining: 263ms\n",
      "735:\tlearn: 19.4733951\ttotal: 732ms\tremaining: 262ms\n",
      "736:\tlearn: 19.4718254\ttotal: 733ms\tremaining: 261ms\n",
      "737:\tlearn: 19.4687888\ttotal: 734ms\tremaining: 260ms\n",
      "738:\tlearn: 19.4659359\ttotal: 735ms\tremaining: 259ms\n",
      "739:\tlearn: 19.4618060\ttotal: 736ms\tremaining: 258ms\n",
      "740:\tlearn: 19.4525050\ttotal: 737ms\tremaining: 257ms\n",
      "741:\tlearn: 19.4466087\ttotal: 738ms\tremaining: 256ms\n",
      "742:\tlearn: 19.4384939\ttotal: 739ms\tremaining: 255ms\n",
      "743:\tlearn: 19.4381343\ttotal: 740ms\tremaining: 254ms\n",
      "744:\tlearn: 19.4363109\ttotal: 741ms\tremaining: 253ms\n",
      "745:\tlearn: 19.4336317\ttotal: 742ms\tremaining: 253ms\n",
      "746:\tlearn: 19.4284894\ttotal: 743ms\tremaining: 252ms\n",
      "747:\tlearn: 19.4237467\ttotal: 744ms\tremaining: 251ms\n",
      "748:\tlearn: 19.4235421\ttotal: 745ms\tremaining: 250ms\n",
      "749:\tlearn: 19.4187983\ttotal: 746ms\tremaining: 249ms\n",
      "750:\tlearn: 19.4138425\ttotal: 746ms\tremaining: 248ms\n",
      "751:\tlearn: 19.4107851\ttotal: 747ms\tremaining: 247ms\n",
      "752:\tlearn: 19.4084178\ttotal: 748ms\tremaining: 245ms\n",
      "753:\tlearn: 19.4032560\ttotal: 749ms\tremaining: 245ms\n",
      "754:\tlearn: 19.3986359\ttotal: 750ms\tremaining: 243ms\n",
      "755:\tlearn: 19.3964238\ttotal: 751ms\tremaining: 242ms\n",
      "756:\tlearn: 19.3938860\ttotal: 752ms\tremaining: 241ms\n",
      "757:\tlearn: 19.3885509\ttotal: 753ms\tremaining: 240ms\n",
      "758:\tlearn: 19.3861137\ttotal: 754ms\tremaining: 239ms\n",
      "759:\tlearn: 19.3801609\ttotal: 755ms\tremaining: 238ms\n",
      "760:\tlearn: 19.3722223\ttotal: 756ms\tremaining: 237ms\n",
      "761:\tlearn: 19.3681350\ttotal: 757ms\tremaining: 236ms\n",
      "762:\tlearn: 19.3678489\ttotal: 758ms\tremaining: 235ms\n",
      "763:\tlearn: 19.3605297\ttotal: 759ms\tremaining: 234ms\n",
      "764:\tlearn: 19.3582418\ttotal: 760ms\tremaining: 233ms\n",
      "765:\tlearn: 19.3542697\ttotal: 761ms\tremaining: 232ms\n",
      "766:\tlearn: 19.3490630\ttotal: 762ms\tremaining: 231ms\n",
      "767:\tlearn: 19.3487634\ttotal: 763ms\tremaining: 230ms\n",
      "768:\tlearn: 19.3460078\ttotal: 764ms\tremaining: 229ms\n",
      "769:\tlearn: 19.3388430\ttotal: 765ms\tremaining: 228ms\n",
      "770:\tlearn: 19.3323889\ttotal: 766ms\tremaining: 227ms\n",
      "771:\tlearn: 19.3303093\ttotal: 767ms\tremaining: 226ms\n",
      "772:\tlearn: 19.3300923\ttotal: 768ms\tremaining: 225ms\n",
      "773:\tlearn: 19.3223966\ttotal: 769ms\tremaining: 224ms\n",
      "774:\tlearn: 19.3168120\ttotal: 769ms\tremaining: 223ms\n",
      "775:\tlearn: 19.3131358\ttotal: 770ms\tremaining: 222ms\n",
      "776:\tlearn: 19.3096873\ttotal: 771ms\tremaining: 221ms\n",
      "777:\tlearn: 19.3054976\ttotal: 772ms\tremaining: 220ms\n",
      "778:\tlearn: 19.3053038\ttotal: 773ms\tremaining: 219ms\n",
      "779:\tlearn: 19.3002614\ttotal: 774ms\tremaining: 218ms\n",
      "780:\tlearn: 19.2951044\ttotal: 775ms\tremaining: 217ms\n",
      "781:\tlearn: 19.2915172\ttotal: 776ms\tremaining: 216ms\n",
      "782:\tlearn: 19.2871260\ttotal: 777ms\tremaining: 215ms\n",
      "783:\tlearn: 19.2842262\ttotal: 778ms\tremaining: 214ms\n",
      "784:\tlearn: 19.2780336\ttotal: 779ms\tremaining: 213ms\n",
      "785:\tlearn: 19.2736787\ttotal: 780ms\tremaining: 212ms\n",
      "786:\tlearn: 19.2688615\ttotal: 781ms\tremaining: 211ms\n",
      "787:\tlearn: 19.2650443\ttotal: 782ms\tremaining: 210ms\n",
      "788:\tlearn: 19.2585948\ttotal: 783ms\tremaining: 209ms\n",
      "789:\tlearn: 19.2583437\ttotal: 784ms\tremaining: 208ms\n",
      "790:\tlearn: 19.2533359\ttotal: 785ms\tremaining: 208ms\n",
      "791:\tlearn: 19.2493889\ttotal: 786ms\tremaining: 207ms\n",
      "792:\tlearn: 19.2456938\ttotal: 787ms\tremaining: 206ms\n",
      "793:\tlearn: 19.2433303\ttotal: 789ms\tremaining: 205ms\n",
      "794:\tlearn: 19.2362503\ttotal: 790ms\tremaining: 204ms\n",
      "795:\tlearn: 19.2327152\ttotal: 791ms\tremaining: 203ms\n",
      "796:\tlearn: 19.2274156\ttotal: 792ms\tremaining: 202ms\n",
      "797:\tlearn: 19.2257818\ttotal: 793ms\tremaining: 201ms\n",
      "798:\tlearn: 19.2190439\ttotal: 794ms\tremaining: 200ms\n",
      "799:\tlearn: 19.2139605\ttotal: 795ms\tremaining: 199ms\n",
      "800:\tlearn: 19.2090646\ttotal: 796ms\tremaining: 198ms\n",
      "801:\tlearn: 19.2044880\ttotal: 797ms\tremaining: 197ms\n",
      "802:\tlearn: 19.1999186\ttotal: 798ms\tremaining: 196ms\n",
      "803:\tlearn: 19.1959325\ttotal: 799ms\tremaining: 195ms\n",
      "804:\tlearn: 19.1901026\ttotal: 800ms\tremaining: 194ms\n",
      "805:\tlearn: 19.1898975\ttotal: 801ms\tremaining: 193ms\n",
      "806:\tlearn: 19.1852841\ttotal: 802ms\tremaining: 192ms\n",
      "807:\tlearn: 19.1772342\ttotal: 803ms\tremaining: 191ms\n",
      "808:\tlearn: 19.1769614\ttotal: 804ms\tremaining: 190ms\n",
      "809:\tlearn: 19.1733036\ttotal: 805ms\tremaining: 189ms\n",
      "810:\tlearn: 19.1706936\ttotal: 806ms\tremaining: 188ms\n",
      "811:\tlearn: 19.1670875\ttotal: 807ms\tremaining: 187ms\n",
      "812:\tlearn: 19.1640873\ttotal: 808ms\tremaining: 186ms\n",
      "813:\tlearn: 19.1563700\ttotal: 809ms\tremaining: 185ms\n",
      "814:\tlearn: 19.1560800\ttotal: 810ms\tremaining: 184ms\n",
      "815:\tlearn: 19.1524662\ttotal: 811ms\tremaining: 183ms\n",
      "816:\tlearn: 19.1501788\ttotal: 812ms\tremaining: 182ms\n",
      "817:\tlearn: 19.1440285\ttotal: 813ms\tremaining: 181ms\n",
      "818:\tlearn: 19.1405903\ttotal: 814ms\tremaining: 180ms\n",
      "819:\tlearn: 19.1395942\ttotal: 815ms\tremaining: 179ms\n",
      "820:\tlearn: 19.1381519\ttotal: 816ms\tremaining: 178ms\n",
      "821:\tlearn: 19.1332208\ttotal: 817ms\tremaining: 177ms\n",
      "822:\tlearn: 19.1330175\ttotal: 818ms\tremaining: 176ms\n",
      "823:\tlearn: 19.1309636\ttotal: 818ms\tremaining: 175ms\n",
      "824:\tlearn: 19.1285217\ttotal: 820ms\tremaining: 174ms\n",
      "825:\tlearn: 19.1250563\ttotal: 821ms\tremaining: 173ms\n",
      "826:\tlearn: 19.1223934\ttotal: 822ms\tremaining: 172ms\n",
      "827:\tlearn: 19.1212555\ttotal: 823ms\tremaining: 171ms\n",
      "828:\tlearn: 19.1158712\ttotal: 824ms\tremaining: 170ms\n",
      "829:\tlearn: 19.1096193\ttotal: 825ms\tremaining: 169ms\n",
      "830:\tlearn: 19.1091957\ttotal: 826ms\tremaining: 168ms\n",
      "831:\tlearn: 19.1071408\ttotal: 827ms\tremaining: 167ms\n",
      "832:\tlearn: 19.1041287\ttotal: 828ms\tremaining: 166ms\n",
      "833:\tlearn: 19.1012714\ttotal: 829ms\tremaining: 165ms\n",
      "834:\tlearn: 19.0986605\ttotal: 830ms\tremaining: 164ms\n",
      "835:\tlearn: 19.0956798\ttotal: 831ms\tremaining: 163ms\n",
      "836:\tlearn: 19.0911741\ttotal: 832ms\tremaining: 162ms\n",
      "837:\tlearn: 19.0876373\ttotal: 833ms\tremaining: 161ms\n",
      "838:\tlearn: 19.0844531\ttotal: 834ms\tremaining: 160ms\n",
      "839:\tlearn: 19.0798756\ttotal: 835ms\tremaining: 159ms\n",
      "840:\tlearn: 19.0765935\ttotal: 836ms\tremaining: 158ms\n",
      "841:\tlearn: 19.0713930\ttotal: 837ms\tremaining: 157ms\n",
      "842:\tlearn: 19.0682674\ttotal: 839ms\tremaining: 156ms\n",
      "843:\tlearn: 19.0660592\ttotal: 840ms\tremaining: 155ms\n",
      "844:\tlearn: 19.0633066\ttotal: 841ms\tremaining: 154ms\n",
      "845:\tlearn: 19.0590690\ttotal: 842ms\tremaining: 153ms\n",
      "846:\tlearn: 19.0571135\ttotal: 843ms\tremaining: 152ms\n",
      "847:\tlearn: 19.0525169\ttotal: 844ms\tremaining: 151ms\n",
      "848:\tlearn: 19.0464049\ttotal: 845ms\tremaining: 150ms\n",
      "849:\tlearn: 19.0452759\ttotal: 846ms\tremaining: 149ms\n",
      "850:\tlearn: 19.0402561\ttotal: 847ms\tremaining: 148ms\n",
      "851:\tlearn: 19.0378136\ttotal: 848ms\tremaining: 147ms\n",
      "852:\tlearn: 19.0313658\ttotal: 849ms\tremaining: 146ms\n",
      "853:\tlearn: 19.0267675\ttotal: 850ms\tremaining: 145ms\n",
      "854:\tlearn: 19.0222848\ttotal: 851ms\tremaining: 144ms\n",
      "855:\tlearn: 19.0216074\ttotal: 852ms\tremaining: 143ms\n",
      "856:\tlearn: 19.0200145\ttotal: 853ms\tremaining: 142ms\n",
      "857:\tlearn: 19.0126456\ttotal: 854ms\tremaining: 141ms\n",
      "858:\tlearn: 19.0068448\ttotal: 855ms\tremaining: 140ms\n",
      "859:\tlearn: 19.0028117\ttotal: 856ms\tremaining: 139ms\n",
      "860:\tlearn: 18.9974882\ttotal: 857ms\tremaining: 138ms\n",
      "861:\tlearn: 18.9936885\ttotal: 858ms\tremaining: 137ms\n",
      "862:\tlearn: 18.9901950\ttotal: 859ms\tremaining: 136ms\n",
      "863:\tlearn: 18.9898694\ttotal: 860ms\tremaining: 135ms\n",
      "864:\tlearn: 18.9857108\ttotal: 861ms\tremaining: 134ms\n",
      "865:\tlearn: 18.9844550\ttotal: 862ms\tremaining: 133ms\n",
      "866:\tlearn: 18.9827255\ttotal: 863ms\tremaining: 132ms\n",
      "867:\tlearn: 18.9749295\ttotal: 864ms\tremaining: 131ms\n",
      "868:\tlearn: 18.9727300\ttotal: 865ms\tremaining: 130ms\n",
      "869:\tlearn: 18.9658329\ttotal: 866ms\tremaining: 129ms\n",
      "870:\tlearn: 18.9617283\ttotal: 867ms\tremaining: 128ms\n",
      "871:\tlearn: 18.9582035\ttotal: 868ms\tremaining: 127ms\n",
      "872:\tlearn: 18.9552365\ttotal: 869ms\tremaining: 126ms\n",
      "873:\tlearn: 18.9520874\ttotal: 870ms\tremaining: 125ms\n",
      "874:\tlearn: 18.9508404\ttotal: 871ms\tremaining: 124ms\n",
      "875:\tlearn: 18.9493711\ttotal: 872ms\tremaining: 123ms\n",
      "876:\tlearn: 18.9442283\ttotal: 873ms\tremaining: 122ms\n",
      "877:\tlearn: 18.9413616\ttotal: 874ms\tremaining: 121ms\n",
      "878:\tlearn: 18.9389465\ttotal: 875ms\tremaining: 120ms\n",
      "879:\tlearn: 18.9371107\ttotal: 876ms\tremaining: 119ms\n",
      "880:\tlearn: 18.9368657\ttotal: 877ms\tremaining: 118ms\n",
      "881:\tlearn: 18.9324215\ttotal: 878ms\tremaining: 117ms\n",
      "882:\tlearn: 18.9272203\ttotal: 879ms\tremaining: 116ms\n",
      "883:\tlearn: 18.9257164\ttotal: 880ms\tremaining: 115ms\n",
      "884:\tlearn: 18.9254437\ttotal: 881ms\tremaining: 114ms\n",
      "885:\tlearn: 18.9185263\ttotal: 882ms\tremaining: 113ms\n",
      "886:\tlearn: 18.9142419\ttotal: 883ms\tremaining: 113ms\n",
      "887:\tlearn: 18.9099011\ttotal: 884ms\tremaining: 112ms\n",
      "888:\tlearn: 18.9043953\ttotal: 885ms\tremaining: 111ms\n",
      "889:\tlearn: 18.8993819\ttotal: 886ms\tremaining: 110ms\n",
      "890:\tlearn: 18.8947589\ttotal: 887ms\tremaining: 109ms\n",
      "891:\tlearn: 18.8920306\ttotal: 888ms\tremaining: 108ms\n",
      "892:\tlearn: 18.8851079\ttotal: 889ms\tremaining: 107ms\n",
      "893:\tlearn: 18.8802851\ttotal: 891ms\tremaining: 106ms\n",
      "894:\tlearn: 18.8782513\ttotal: 892ms\tremaining: 105ms\n",
      "895:\tlearn: 18.8731043\ttotal: 894ms\tremaining: 104ms\n",
      "896:\tlearn: 18.8689673\ttotal: 895ms\tremaining: 103ms\n",
      "897:\tlearn: 18.8633969\ttotal: 896ms\tremaining: 102ms\n",
      "898:\tlearn: 18.8632349\ttotal: 897ms\tremaining: 101ms\n",
      "899:\tlearn: 18.8585990\ttotal: 898ms\tremaining: 99.7ms\n",
      "900:\tlearn: 18.8548702\ttotal: 899ms\tremaining: 98.7ms\n",
      "901:\tlearn: 18.8522990\ttotal: 900ms\tremaining: 97.7ms\n",
      "902:\tlearn: 18.8458944\ttotal: 900ms\tremaining: 96.7ms\n",
      "903:\tlearn: 18.8410254\ttotal: 901ms\tremaining: 95.7ms\n",
      "904:\tlearn: 18.8367498\ttotal: 902ms\tremaining: 94.7ms\n",
      "905:\tlearn: 18.8323410\ttotal: 903ms\tremaining: 93.7ms\n",
      "906:\tlearn: 18.8254690\ttotal: 905ms\tremaining: 92.8ms\n",
      "907:\tlearn: 18.8217262\ttotal: 907ms\tremaining: 91.9ms\n",
      "908:\tlearn: 18.8186774\ttotal: 908ms\tremaining: 90.9ms\n",
      "909:\tlearn: 18.8135881\ttotal: 910ms\tremaining: 90ms\n",
      "910:\tlearn: 18.8099221\ttotal: 911ms\tremaining: 89ms\n",
      "911:\tlearn: 18.8069404\ttotal: 912ms\tremaining: 88ms\n",
      "912:\tlearn: 18.8009232\ttotal: 914ms\tremaining: 87.1ms\n",
      "913:\tlearn: 18.7962338\ttotal: 915ms\tremaining: 86.1ms\n",
      "914:\tlearn: 18.7943755\ttotal: 916ms\tremaining: 85.1ms\n",
      "915:\tlearn: 18.7917128\ttotal: 918ms\tremaining: 84.1ms\n",
      "916:\tlearn: 18.7901281\ttotal: 919ms\tremaining: 83.2ms\n",
      "917:\tlearn: 18.7882616\ttotal: 920ms\tremaining: 82.2ms\n",
      "918:\tlearn: 18.7789691\ttotal: 922ms\tremaining: 81.2ms\n",
      "919:\tlearn: 18.7749529\ttotal: 923ms\tremaining: 80.3ms\n",
      "920:\tlearn: 18.7700459\ttotal: 925ms\tremaining: 79.3ms\n",
      "921:\tlearn: 18.7698411\ttotal: 926ms\tremaining: 78.3ms\n",
      "922:\tlearn: 18.7650870\ttotal: 927ms\tremaining: 77.3ms\n",
      "923:\tlearn: 18.7595495\ttotal: 928ms\tremaining: 76.4ms\n",
      "924:\tlearn: 18.7555036\ttotal: 930ms\tremaining: 75.4ms\n",
      "925:\tlearn: 18.7551935\ttotal: 931ms\tremaining: 74.4ms\n",
      "926:\tlearn: 18.7501889\ttotal: 932ms\tremaining: 73.4ms\n",
      "927:\tlearn: 18.7465481\ttotal: 933ms\tremaining: 72.4ms\n",
      "928:\tlearn: 18.7437968\ttotal: 934ms\tremaining: 71.4ms\n",
      "929:\tlearn: 18.7402414\ttotal: 935ms\tremaining: 70.4ms\n",
      "930:\tlearn: 18.7384684\ttotal: 937ms\tremaining: 69.4ms\n",
      "931:\tlearn: 18.7362575\ttotal: 938ms\tremaining: 68.4ms\n",
      "932:\tlearn: 18.7299330\ttotal: 939ms\tremaining: 67.4ms\n",
      "933:\tlearn: 18.7240134\ttotal: 941ms\tremaining: 66.5ms\n",
      "934:\tlearn: 18.7208767\ttotal: 942ms\tremaining: 65.5ms\n",
      "935:\tlearn: 18.7181186\ttotal: 943ms\tremaining: 64.5ms\n",
      "936:\tlearn: 18.7166125\ttotal: 944ms\tremaining: 63.5ms\n",
      "937:\tlearn: 18.7131995\ttotal: 946ms\tremaining: 62.5ms\n",
      "938:\tlearn: 18.7111083\ttotal: 947ms\tremaining: 61.5ms\n",
      "939:\tlearn: 18.7086050\ttotal: 948ms\tremaining: 60.5ms\n",
      "940:\tlearn: 18.7083029\ttotal: 950ms\tremaining: 59.5ms\n",
      "941:\tlearn: 18.7059803\ttotal: 951ms\tremaining: 58.6ms\n",
      "942:\tlearn: 18.7031483\ttotal: 953ms\tremaining: 57.6ms\n",
      "943:\tlearn: 18.6980061\ttotal: 954ms\tremaining: 56.6ms\n",
      "944:\tlearn: 18.6956888\ttotal: 955ms\tremaining: 55.6ms\n",
      "945:\tlearn: 18.6931359\ttotal: 957ms\tremaining: 54.6ms\n",
      "946:\tlearn: 18.6869037\ttotal: 958ms\tremaining: 53.6ms\n",
      "947:\tlearn: 18.6832586\ttotal: 960ms\tremaining: 52.6ms\n",
      "948:\tlearn: 18.6771361\ttotal: 961ms\tremaining: 51.6ms\n",
      "949:\tlearn: 18.6730612\ttotal: 962ms\tremaining: 50.7ms\n",
      "950:\tlearn: 18.6677816\ttotal: 963ms\tremaining: 49.6ms\n",
      "951:\tlearn: 18.6636271\ttotal: 965ms\tremaining: 48.6ms\n",
      "952:\tlearn: 18.6593597\ttotal: 966ms\tremaining: 47.6ms\n",
      "953:\tlearn: 18.6543777\ttotal: 967ms\tremaining: 46.6ms\n",
      "954:\tlearn: 18.6505467\ttotal: 969ms\tremaining: 45.6ms\n",
      "955:\tlearn: 18.6503503\ttotal: 969ms\tremaining: 44.6ms\n",
      "956:\tlearn: 18.6482023\ttotal: 971ms\tremaining: 43.6ms\n",
      "957:\tlearn: 18.6435041\ttotal: 972ms\tremaining: 42.6ms\n",
      "958:\tlearn: 18.6388289\ttotal: 974ms\tremaining: 41.6ms\n",
      "959:\tlearn: 18.6349653\ttotal: 975ms\tremaining: 40.6ms\n",
      "960:\tlearn: 18.6325741\ttotal: 977ms\tremaining: 39.6ms\n",
      "961:\tlearn: 18.6294142\ttotal: 978ms\tremaining: 38.6ms\n",
      "962:\tlearn: 18.6292814\ttotal: 979ms\tremaining: 37.6ms\n",
      "963:\tlearn: 18.6248895\ttotal: 980ms\tremaining: 36.6ms\n",
      "964:\tlearn: 18.6207191\ttotal: 982ms\tremaining: 35.6ms\n",
      "965:\tlearn: 18.6172577\ttotal: 984ms\tremaining: 34.6ms\n",
      "966:\tlearn: 18.6149094\ttotal: 985ms\tremaining: 33.6ms\n",
      "967:\tlearn: 18.6103016\ttotal: 986ms\tremaining: 32.6ms\n",
      "968:\tlearn: 18.6068759\ttotal: 987ms\tremaining: 31.6ms\n",
      "969:\tlearn: 18.6054191\ttotal: 988ms\tremaining: 30.6ms\n",
      "970:\tlearn: 18.6023164\ttotal: 990ms\tremaining: 29.6ms\n",
      "971:\tlearn: 18.5996595\ttotal: 991ms\tremaining: 28.5ms\n",
      "972:\tlearn: 18.5958905\ttotal: 992ms\tremaining: 27.5ms\n",
      "973:\tlearn: 18.5899020\ttotal: 993ms\tremaining: 26.5ms\n",
      "974:\tlearn: 18.5869448\ttotal: 994ms\tremaining: 25.5ms\n",
      "975:\tlearn: 18.5825199\ttotal: 995ms\tremaining: 24.5ms\n",
      "976:\tlearn: 18.5804911\ttotal: 997ms\tremaining: 23.5ms\n",
      "977:\tlearn: 18.5745601\ttotal: 998ms\tremaining: 22.5ms\n",
      "978:\tlearn: 18.5744469\ttotal: 999ms\tremaining: 21.4ms\n",
      "979:\tlearn: 18.5723659\ttotal: 1s\tremaining: 20.4ms\n",
      "980:\tlearn: 18.5692007\ttotal: 1s\tremaining: 19.4ms\n",
      "981:\tlearn: 18.5631159\ttotal: 1s\tremaining: 18.4ms\n",
      "982:\tlearn: 18.5615005\ttotal: 1s\tremaining: 17.4ms\n",
      "983:\tlearn: 18.5589190\ttotal: 1.01s\tremaining: 16.4ms\n",
      "984:\tlearn: 18.5556100\ttotal: 1.01s\tremaining: 15.3ms\n",
      "985:\tlearn: 18.5527501\ttotal: 1.01s\tremaining: 14.3ms\n",
      "986:\tlearn: 18.5506451\ttotal: 1.01s\tremaining: 13.3ms\n",
      "987:\tlearn: 18.5452677\ttotal: 1.01s\tremaining: 12.3ms\n",
      "988:\tlearn: 18.5433928\ttotal: 1.01s\tremaining: 11.3ms\n",
      "989:\tlearn: 18.5398626\ttotal: 1.01s\tremaining: 10.2ms\n",
      "990:\tlearn: 18.5367265\ttotal: 1.01s\tremaining: 9.22ms\n",
      "991:\tlearn: 18.5342805\ttotal: 1.02s\tremaining: 8.2ms\n",
      "992:\tlearn: 18.5341717\ttotal: 1.02s\tremaining: 7.17ms\n",
      "993:\tlearn: 18.5296482\ttotal: 1.02s\tremaining: 6.15ms\n",
      "994:\tlearn: 18.5248401\ttotal: 1.02s\tremaining: 5.13ms\n",
      "995:\tlearn: 18.5208746\ttotal: 1.02s\tremaining: 4.11ms\n",
      "996:\tlearn: 18.5166581\ttotal: 1.02s\tremaining: 3.08ms\n",
      "997:\tlearn: 18.5111300\ttotal: 1.02s\tremaining: 2.05ms\n",
      "998:\tlearn: 18.5073112\ttotal: 1.03s\tremaining: 1.03ms\n",
      "999:\tlearn: 18.5037950\ttotal: 1.03s\tremaining: 0us\n",
      "Время обучения итоговой модели: 1.7367496490478516\n",
      "CPU times: user 1.2 s, sys: 77.4 ms, total: 1.28 s\n",
      "Wall time: 1.74 s\n"
     ]
    }
   ],
   "source": [
    "%%time\n",
    "\n",
    "start = time.time()\n",
    "fitted_model = model_CAT_final.fit(X_train, y_train)\n",
    "end = time.time()\n",
    "total = end - start\n",
    "print(\"Время обучения итоговой модели:\", total)"
   ]
  },
  {
   "cell_type": "code",
   "execution_count": 47,
   "metadata": {},
   "outputs": [
    {
     "name": "stdout",
     "output_type": "stream",
     "text": [
      "RMSE CatBoostRegressor Итоговое: 48.53295991778311\n",
      "Время предсказания CatBoostRegressor Итоговое: 0.002118349075317383\n",
      "CPU times: user 609 µs, sys: 3.85 ms, total: 4.46 ms\n",
      "Wall time: 2.91 ms\n"
     ]
    }
   ],
   "source": [
    "%%time\n",
    "\n",
    "start = time.time()\n",
    "predictions_model_Cat = fitted_model.predict(X_test) \n",
    "end = time.time()\n",
    "total = end - start\n",
    "rmse_model = (np.sqrt(mean_squared_error(y_test, predictions_model))) \n",
    "\n",
    "print (\"RMSE CatBoostRegressor Итоговое:\", rmse_model)\n",
    "print (\"Время предсказания CatBoostRegressor Итоговое:\", total)"
   ]
  },
  {
   "cell_type": "code",
   "execution_count": 48,
   "metadata": {},
   "outputs": [
    {
     "data": {
      "image/png": "[encoded data removed]",
      "text/plain": [
       "<Figure size 1152x360 with 1 Axes>"
      ]
     },
     "metadata": {
      "needs_background": "light"
     },
     "output_type": "display_data"
    }
   ],
   "source": [
    "pred = pd.Series(predictions_model_Cat)\n",
    "plt.figure(figsize=(16,5))\n",
    "sns.lineplot(x=y_test.index, y=y_test, label='График реальных заказов')\n",
    "sns.lineplot(x=y_test.index, y=pred, label='График предсказанных заказов CatBoostRegressor')\n",
    "\n",
    "plt.legend(loc='upper right')\n",
    "plt.title ('График сравнения реальных данных и предсказанных')\n",
    "\n",
    "plt.xticks(rotation=45)\n",
    "plt.show()"
   ]
  },
  {
   "cell_type": "markdown",
   "metadata": {},
   "source": [
    "<div style=\"border:solid Blue 2px; padding: 40px\">\n",
    "    \n",
    "    \n",
    "- Итоговое RMSE модели CatBoostRegressor на тестовой выборке оказалось 48.5 - Тот же результат что и у модели выше.\n",
    "Выбор в пользу модели CatBoost поскольку время на обучение и предсказание тратиться меньше."
   ]
  },
  {
   "cell_type": "markdown",
   "metadata": {},
   "source": [
    "## Заключение"
   ]
  },
  {
   "cell_type": "markdown",
   "metadata": {},
   "source": [
    "<div style=\"border:solid Blue 2px; padding: 40px\">\n",
    "\n",
    "<h3><b>Итоговый комментарий</b></h3> \n",
    "    \n",
    "    - Провели предподготовку данных, анализ, ресемплирование\n",
    "    - Обучили три модели \n",
    "            - LinearRegression, \n",
    "            - RandomForestRegressor, \n",
    "            - CatBoostRegressor\n",
    "    - RMSE рекомендуемой модели CatBoostRegressor на тестовой выборке 47 (требование не более 48)\n",
    "    \n",
    "    Время обучения итоговой модели CatBoostRegressor: 1.7 с\n",
    "    Время предсказания на тестовой выборке 0.002 с"
   ]
  }
 ],
 "metadata": {
  "ExecuteTimeLog": [
   {
    "duration": 2508,
    "start_time": "2023-02-26T13:09:34.715Z"
   },
   {
    "duration": 199,
    "start_time": "2023-02-26T13:10:04.482Z"
   },
   {
    "duration": 54,
    "start_time": "2023-02-26T13:11:30.762Z"
   },
   {
    "duration": 7,
    "start_time": "2023-02-26T13:12:03.942Z"
   },
   {
    "duration": 22,
    "start_time": "2023-02-26T13:12:11.364Z"
   },
   {
    "duration": 47,
    "start_time": "2023-02-26T13:12:21.800Z"
   },
   {
    "duration": 113,
    "start_time": "2023-02-26T13:12:54.570Z"
   },
   {
    "duration": 13,
    "start_time": "2023-02-26T13:12:59.136Z"
   },
   {
    "duration": 8,
    "start_time": "2023-02-26T13:13:03.418Z"
   },
   {
    "duration": 6,
    "start_time": "2023-02-26T13:13:08.167Z"
   },
   {
    "duration": 6,
    "start_time": "2023-02-26T13:13:20.504Z"
   },
   {
    "duration": 15,
    "start_time": "2023-02-26T13:14:16.083Z"
   },
   {
    "duration": 12,
    "start_time": "2023-02-26T13:14:41.818Z"
   },
   {
    "duration": 10,
    "start_time": "2023-02-26T13:14:47.612Z"
   },
   {
    "duration": 10,
    "start_time": "2023-02-26T13:15:36.326Z"
   },
   {
    "duration": 9,
    "start_time": "2023-02-26T13:15:43.654Z"
   },
   {
    "duration": 12,
    "start_time": "2023-02-26T13:15:51.348Z"
   },
   {
    "duration": 8,
    "start_time": "2023-02-26T13:19:04.902Z"
   },
   {
    "duration": 12,
    "start_time": "2023-02-26T13:19:05.233Z"
   },
   {
    "duration": 11,
    "start_time": "2023-02-26T13:19:18.560Z"
   },
   {
    "duration": 85,
    "start_time": "2023-02-26T13:19:45.118Z"
   },
   {
    "duration": 762,
    "start_time": "2023-02-26T13:19:49.128Z"
   },
   {
    "duration": 1223,
    "start_time": "2023-02-26T13:20:19.476Z"
   },
   {
    "duration": 272,
    "start_time": "2023-02-26T13:23:12.570Z"
   },
   {
    "duration": 268,
    "start_time": "2023-02-26T13:23:39.868Z"
   },
   {
    "duration": 14,
    "start_time": "2023-02-26T13:25:26.105Z"
   },
   {
    "duration": 780,
    "start_time": "2023-02-26T13:25:35.030Z"
   },
   {
    "duration": 4,
    "start_time": "2023-02-26T13:25:52.673Z"
   },
   {
    "duration": 12,
    "start_time": "2023-02-26T13:26:52.866Z"
   },
   {
    "duration": 9,
    "start_time": "2023-02-26T13:27:17.938Z"
   },
   {
    "duration": 13,
    "start_time": "2023-02-26T13:27:26.587Z"
   },
   {
    "duration": 65,
    "start_time": "2023-02-26T13:27:32.345Z"
   },
   {
    "duration": 276,
    "start_time": "2023-02-26T13:27:35.840Z"
   },
   {
    "duration": 252,
    "start_time": "2023-02-26T13:28:55.867Z"
   },
   {
    "duration": 221,
    "start_time": "2023-02-26T13:29:05.774Z"
   },
   {
    "duration": 13,
    "start_time": "2023-02-26T13:30:00.322Z"
   },
   {
    "duration": 247,
    "start_time": "2023-02-26T13:30:09.364Z"
   },
   {
    "duration": 407,
    "start_time": "2023-02-26T13:30:29.096Z"
   },
   {
    "duration": 50,
    "start_time": "2023-02-26T13:30:59.675Z"
   },
   {
    "duration": 253,
    "start_time": "2023-02-26T13:31:12.786Z"
   },
   {
    "duration": 226,
    "start_time": "2023-02-26T13:31:22.491Z"
   },
   {
    "duration": 340,
    "start_time": "2023-02-26T13:32:37.682Z"
   },
   {
    "duration": 362,
    "start_time": "2023-02-26T13:33:08.962Z"
   },
   {
    "duration": 237,
    "start_time": "2023-02-26T13:34:46.211Z"
   },
   {
    "duration": 5,
    "start_time": "2023-02-26T15:43:35.886Z"
   },
   {
    "duration": 150,
    "start_time": "2023-02-26T15:43:36.056Z"
   },
   {
    "duration": 12,
    "start_time": "2023-02-26T15:43:36.221Z"
   },
   {
    "duration": 7,
    "start_time": "2023-02-26T15:43:36.381Z"
   },
   {
    "duration": 14,
    "start_time": "2023-02-26T15:43:36.526Z"
   },
   {
    "duration": 10,
    "start_time": "2023-02-26T15:43:37.482Z"
   },
   {
    "duration": 10,
    "start_time": "2023-02-26T15:43:37.673Z"
   },
   {
    "duration": 3,
    "start_time": "2023-02-26T15:43:37.829Z"
   },
   {
    "duration": 228,
    "start_time": "2023-02-26T15:43:38.034Z"
   },
   {
    "duration": 220,
    "start_time": "2023-02-26T15:43:38.293Z"
   },
   {
    "duration": 225,
    "start_time": "2023-02-26T15:43:39.459Z"
   },
   {
    "duration": 306,
    "start_time": "2023-02-26T15:43:39.890Z"
   },
   {
    "duration": 235,
    "start_time": "2023-02-26T15:44:30.362Z"
   },
   {
    "duration": 266,
    "start_time": "2023-02-26T15:47:39.574Z"
   },
   {
    "duration": 233,
    "start_time": "2023-02-26T15:48:40.659Z"
   },
   {
    "duration": 328,
    "start_time": "2023-02-26T15:49:06.765Z"
   },
   {
    "duration": 4,
    "start_time": "2023-02-26T15:49:53.688Z"
   },
   {
    "duration": 20,
    "start_time": "2023-02-26T15:50:08.505Z"
   },
   {
    "duration": 11,
    "start_time": "2023-02-26T15:50:22.429Z"
   },
   {
    "duration": 13,
    "start_time": "2023-02-26T15:50:30.796Z"
   },
   {
    "duration": 4,
    "start_time": "2023-02-26T15:53:31.128Z"
   },
   {
    "duration": 12,
    "start_time": "2023-02-26T15:53:32.075Z"
   },
   {
    "duration": 11,
    "start_time": "2023-02-26T15:53:32.922Z"
   },
   {
    "duration": 6,
    "start_time": "2023-02-26T15:55:42.627Z"
   },
   {
    "duration": 7,
    "start_time": "2023-02-26T15:55:43.290Z"
   },
   {
    "duration": 6,
    "start_time": "2023-02-26T15:56:13.753Z"
   },
   {
    "duration": 14,
    "start_time": "2023-02-26T15:56:56.248Z"
   },
   {
    "duration": 4,
    "start_time": "2023-02-26T15:57:24.269Z"
   },
   {
    "duration": 4,
    "start_time": "2023-02-26T15:57:32.251Z"
   },
   {
    "duration": 19,
    "start_time": "2023-02-26T15:58:03.817Z"
   },
   {
    "duration": 15,
    "start_time": "2023-02-26T15:58:15.001Z"
   },
   {
    "duration": 5,
    "start_time": "2023-02-26T15:59:19.337Z"
   },
   {
    "duration": 17,
    "start_time": "2023-02-26T16:01:43.423Z"
   },
   {
    "duration": 43,
    "start_time": "2023-02-26T16:02:25.276Z"
   },
   {
    "duration": 537,
    "start_time": "2023-02-26T16:03:27.260Z"
   },
   {
    "duration": 32,
    "start_time": "2023-02-26T16:04:39.489Z"
   },
   {
    "duration": 25,
    "start_time": "2023-02-26T16:05:04.075Z"
   },
   {
    "duration": 32,
    "start_time": "2023-02-26T16:08:09.089Z"
   },
   {
    "duration": 74,
    "start_time": "2023-02-26T16:08:47.246Z"
   },
   {
    "duration": 30,
    "start_time": "2023-02-26T16:09:06.381Z"
   },
   {
    "duration": 3,
    "start_time": "2023-02-26T16:11:03.946Z"
   },
   {
    "duration": 446,
    "start_time": "2023-02-26T16:11:09.900Z"
   },
   {
    "duration": 10,
    "start_time": "2023-02-26T16:12:16.994Z"
   },
   {
    "duration": 289,
    "start_time": "2023-02-26T16:12:18.550Z"
   },
   {
    "duration": 9213,
    "start_time": "2023-02-26T16:12:47.566Z"
   },
   {
    "duration": 49,
    "start_time": "2023-02-26T16:13:25.108Z"
   },
   {
    "duration": 19940,
    "start_time": "2023-02-26T16:14:43.270Z"
   },
   {
    "duration": 687,
    "start_time": "2023-02-26T16:17:36.585Z"
   },
   {
    "duration": 698,
    "start_time": "2023-02-26T16:17:46.816Z"
   },
   {
    "duration": 727,
    "start_time": "2023-02-26T16:18:13.455Z"
   },
   {
    "duration": 671,
    "start_time": "2023-02-26T16:18:43.921Z"
   },
   {
    "duration": 11,
    "start_time": "2023-02-26T16:22:00.450Z"
   },
   {
    "duration": 11,
    "start_time": "2023-02-26T16:24:21.531Z"
   },
   {
    "duration": 5,
    "start_time": "2023-02-26T16:24:35.952Z"
   },
   {
    "duration": 4,
    "start_time": "2023-02-26T16:24:41.907Z"
   },
   {
    "duration": 9281,
    "start_time": "2023-02-26T16:25:22.161Z"
   },
   {
    "duration": 6,
    "start_time": "2023-02-26T16:26:08.676Z"
   },
   {
    "duration": 12,
    "start_time": "2023-02-26T16:26:28.233Z"
   },
   {
    "duration": 11,
    "start_time": "2023-02-26T16:27:08.579Z"
   },
   {
    "duration": 29,
    "start_time": "2023-02-26T16:27:27.616Z"
   },
   {
    "duration": 267,
    "start_time": "2023-02-26T16:27:33.875Z"
   },
   {
    "duration": 281,
    "start_time": "2023-02-26T16:27:59.234Z"
   },
   {
    "duration": 318,
    "start_time": "2023-02-26T16:28:57.536Z"
   },
   {
    "duration": 337,
    "start_time": "2023-02-26T16:29:08.977Z"
   },
   {
    "duration": 307,
    "start_time": "2023-02-26T16:30:15.690Z"
   },
   {
    "duration": 3,
    "start_time": "2023-02-26T16:30:56.574Z"
   },
   {
    "duration": 1643,
    "start_time": "2023-02-26T16:31:07.450Z"
   },
   {
    "duration": 61,
    "start_time": "2023-02-26T16:31:09.095Z"
   },
   {
    "duration": 15,
    "start_time": "2023-02-26T16:31:09.159Z"
   },
   {
    "duration": 18,
    "start_time": "2023-02-26T16:31:09.176Z"
   },
   {
    "duration": 56,
    "start_time": "2023-02-26T16:31:09.197Z"
   },
   {
    "duration": 6,
    "start_time": "2023-02-26T16:31:09.255Z"
   },
   {
    "duration": 37,
    "start_time": "2023-02-26T16:31:09.263Z"
   },
   {
    "duration": 20,
    "start_time": "2023-02-26T16:31:09.303Z"
   },
   {
    "duration": 11,
    "start_time": "2023-02-26T16:31:09.325Z"
   },
   {
    "duration": 259,
    "start_time": "2023-02-26T16:31:09.339Z"
   },
   {
    "duration": 402,
    "start_time": "2023-02-26T16:31:09.599Z"
   },
   {
    "duration": 215,
    "start_time": "2023-02-26T16:31:10.002Z"
   },
   {
    "duration": 301,
    "start_time": "2023-02-26T16:31:10.219Z"
   },
   {
    "duration": 228,
    "start_time": "2023-02-26T16:31:10.524Z"
   },
   {
    "duration": 4,
    "start_time": "2023-02-26T16:31:10.754Z"
   },
   {
    "duration": 25,
    "start_time": "2023-02-26T16:31:10.760Z"
   },
   {
    "duration": 11,
    "start_time": "2023-02-26T16:31:10.787Z"
   },
   {
    "duration": 5,
    "start_time": "2023-02-26T16:31:10.800Z"
   },
   {
    "duration": 10,
    "start_time": "2023-02-26T16:31:10.806Z"
   },
   {
    "duration": 28,
    "start_time": "2023-02-26T16:31:10.817Z"
   },
   {
    "duration": 15,
    "start_time": "2023-02-26T16:31:10.846Z"
   },
   {
    "duration": 48,
    "start_time": "2023-02-26T16:31:10.862Z"
   },
   {
    "duration": 2,
    "start_time": "2023-02-26T16:31:10.912Z"
   },
   {
    "duration": 12,
    "start_time": "2023-02-26T16:31:10.916Z"
   },
   {
    "duration": 210,
    "start_time": "2023-02-26T16:31:10.930Z"
   },
   {
    "duration": 9157,
    "start_time": "2023-02-26T16:31:11.146Z"
   },
   {
    "duration": 19528,
    "start_time": "2023-02-26T16:31:20.304Z"
   },
   {
    "duration": 3,
    "start_time": "2023-02-26T16:31:39.834Z"
   },
   {
    "duration": 8942,
    "start_time": "2023-02-26T16:31:39.839Z"
   },
   {
    "duration": 7,
    "start_time": "2023-02-26T16:31:48.783Z"
   },
   {
    "duration": 427,
    "start_time": "2023-02-26T16:31:48.792Z"
   },
   {
    "duration": 309,
    "start_time": "2023-02-26T16:33:38.155Z"
   },
   {
    "duration": 298,
    "start_time": "2023-02-26T16:33:51.661Z"
   },
   {
    "duration": 5,
    "start_time": "2023-02-26T16:34:37.698Z"
   },
   {
    "duration": 4,
    "start_time": "2023-02-26T16:34:54.356Z"
   },
   {
    "duration": 52,
    "start_time": "2023-02-26T16:35:06.411Z"
   },
   {
    "duration": 11,
    "start_time": "2023-02-26T16:35:07.005Z"
   },
   {
    "duration": 8,
    "start_time": "2023-02-26T16:35:08.016Z"
   },
   {
    "duration": 13,
    "start_time": "2023-02-26T16:35:08.343Z"
   },
   {
    "duration": 6,
    "start_time": "2023-02-26T16:35:08.951Z"
   },
   {
    "duration": 12,
    "start_time": "2023-02-26T16:36:47.480Z"
   },
   {
    "duration": 7,
    "start_time": "2023-02-26T16:36:54.663Z"
   },
   {
    "duration": 9,
    "start_time": "2023-02-26T16:38:17.795Z"
   },
   {
    "duration": 229,
    "start_time": "2023-02-26T16:41:33.346Z"
   },
   {
    "duration": 160,
    "start_time": "2023-02-26T16:49:01.271Z"
   },
   {
    "duration": 235,
    "start_time": "2023-02-26T16:49:27.301Z"
   },
   {
    "duration": 215,
    "start_time": "2023-02-26T16:49:54.976Z"
   },
   {
    "duration": 308,
    "start_time": "2023-02-26T16:52:44.359Z"
   },
   {
    "duration": 2682,
    "start_time": "2023-02-27T04:23:26.288Z"
   },
   {
    "duration": 52,
    "start_time": "2023-02-27T04:23:28.972Z"
   },
   {
    "duration": 11,
    "start_time": "2023-02-27T04:26:15.614Z"
   },
   {
    "duration": 6,
    "start_time": "2023-02-27T04:26:16.118Z"
   },
   {
    "duration": 12,
    "start_time": "2023-02-27T04:26:17.200Z"
   },
   {
    "duration": 19,
    "start_time": "2023-02-27T04:26:17.214Z"
   },
   {
    "duration": 5,
    "start_time": "2023-02-27T04:48:01.830Z"
   },
   {
    "duration": 49,
    "start_time": "2023-02-27T04:48:02.289Z"
   },
   {
    "duration": 10,
    "start_time": "2023-02-27T04:48:02.995Z"
   },
   {
    "duration": 6,
    "start_time": "2023-02-27T04:48:03.153Z"
   },
   {
    "duration": 13,
    "start_time": "2023-02-27T04:48:03.302Z"
   },
   {
    "duration": 4,
    "start_time": "2023-02-27T04:48:03.451Z"
   },
   {
    "duration": 11,
    "start_time": "2023-02-27T04:48:04.213Z"
   },
   {
    "duration": 9,
    "start_time": "2023-02-27T04:48:04.347Z"
   },
   {
    "duration": 237,
    "start_time": "2023-02-27T04:48:04.654Z"
   },
   {
    "duration": 390,
    "start_time": "2023-02-27T04:48:04.893Z"
   },
   {
    "duration": 213,
    "start_time": "2023-02-27T04:48:05.285Z"
   },
   {
    "duration": 284,
    "start_time": "2023-02-27T04:48:05.501Z"
   },
   {
    "duration": 240,
    "start_time": "2023-02-27T04:48:05.787Z"
   },
   {
    "duration": 4,
    "start_time": "2023-02-27T04:48:07.272Z"
   },
   {
    "duration": 17,
    "start_time": "2023-02-27T04:51:00.493Z"
   },
   {
    "duration": 13,
    "start_time": "2023-02-27T04:51:01.263Z"
   },
   {
    "duration": 5,
    "start_time": "2023-02-27T04:51:01.436Z"
   },
   {
    "duration": 8,
    "start_time": "2023-02-27T04:51:01.870Z"
   },
   {
    "duration": 3,
    "start_time": "2023-02-27T04:51:05.982Z"
   },
   {
    "duration": 6,
    "start_time": "2023-02-27T04:51:33.348Z"
   },
   {
    "duration": 32,
    "start_time": "2023-02-27T04:51:33.809Z"
   },
   {
    "duration": 3,
    "start_time": "2023-02-27T04:51:42.232Z"
   },
   {
    "duration": 11,
    "start_time": "2023-02-27T04:51:42.782Z"
   },
   {
    "duration": 66,
    "start_time": "2023-02-27T04:53:17.769Z"
   },
   {
    "duration": 53,
    "start_time": "2023-02-27T05:34:45.120Z"
   },
   {
    "duration": 1705,
    "start_time": "2023-02-27T17:57:43.160Z"
   },
   {
    "duration": 141,
    "start_time": "2023-02-27T17:57:44.867Z"
   },
   {
    "duration": 13,
    "start_time": "2023-02-27T17:57:45.010Z"
   },
   {
    "duration": 38,
    "start_time": "2023-02-27T17:57:45.025Z"
   },
   {
    "duration": 50,
    "start_time": "2023-02-27T17:57:45.065Z"
   },
   {
    "duration": 27,
    "start_time": "2023-02-27T17:57:45.117Z"
   },
   {
    "duration": 12,
    "start_time": "2023-02-27T17:57:45.833Z"
   },
   {
    "duration": 10,
    "start_time": "2023-02-27T17:57:46.023Z"
   },
   {
    "duration": 231,
    "start_time": "2023-02-27T17:57:46.508Z"
   },
   {
    "duration": 401,
    "start_time": "2023-02-27T17:57:46.774Z"
   },
   {
    "duration": 229,
    "start_time": "2023-02-27T17:57:47.200Z"
   },
   {
    "duration": 283,
    "start_time": "2023-02-27T17:57:47.609Z"
   },
   {
    "duration": 245,
    "start_time": "2023-02-27T17:57:48.007Z"
   },
   {
    "duration": 7,
    "start_time": "2023-02-27T17:57:49.306Z"
   },
   {
    "duration": 18,
    "start_time": "2023-02-27T17:57:50.923Z"
   },
   {
    "duration": 12,
    "start_time": "2023-02-27T17:57:51.804Z"
   },
   {
    "duration": 5,
    "start_time": "2023-02-27T17:57:51.974Z"
   },
   {
    "duration": 305,
    "start_time": "2023-02-27T18:01:26.258Z"
   },
   {
    "duration": 4,
    "start_time": "2023-02-27T18:01:36.795Z"
   },
   {
    "duration": 53,
    "start_time": "2023-02-27T18:01:37.593Z"
   },
   {
    "duration": 12,
    "start_time": "2023-02-27T18:01:38.974Z"
   },
   {
    "duration": 6,
    "start_time": "2023-02-27T18:01:39.205Z"
   },
   {
    "duration": 14,
    "start_time": "2023-02-27T18:01:39.406Z"
   },
   {
    "duration": 4,
    "start_time": "2023-02-27T18:01:39.623Z"
   },
   {
    "duration": 10,
    "start_time": "2023-02-27T18:01:40.741Z"
   },
   {
    "duration": 10,
    "start_time": "2023-02-27T18:01:40.973Z"
   },
   {
    "duration": 208,
    "start_time": "2023-02-27T18:01:41.440Z"
   },
   {
    "duration": 204,
    "start_time": "2023-02-27T18:01:41.891Z"
   },
   {
    "duration": 214,
    "start_time": "2023-02-27T18:01:42.826Z"
   },
   {
    "duration": 274,
    "start_time": "2023-02-27T18:01:43.643Z"
   },
   {
    "duration": 221,
    "start_time": "2023-02-27T18:01:45.579Z"
   },
   {
    "duration": 5,
    "start_time": "2023-02-27T18:01:49.292Z"
   },
   {
    "duration": 21,
    "start_time": "2023-02-27T18:01:50.558Z"
   },
   {
    "duration": 10,
    "start_time": "2023-02-27T18:02:01.538Z"
   },
   {
    "duration": 11,
    "start_time": "2023-02-27T18:02:04.654Z"
   },
   {
    "duration": 6,
    "start_time": "2023-02-27T18:02:07.335Z"
   },
   {
    "duration": 6,
    "start_time": "2023-02-27T18:02:08.011Z"
   },
   {
    "duration": 5,
    "start_time": "2023-02-27T18:02:08.693Z"
   },
   {
    "duration": 6,
    "start_time": "2023-02-27T18:02:12.840Z"
   },
   {
    "duration": 35,
    "start_time": "2023-02-27T18:02:13.556Z"
   },
   {
    "duration": 4,
    "start_time": "2023-02-27T18:02:19.318Z"
   },
   {
    "duration": 3,
    "start_time": "2023-02-27T18:02:20.633Z"
   },
   {
    "duration": 121,
    "start_time": "2023-02-27T18:10:36.192Z"
   },
   {
    "duration": 4,
    "start_time": "2023-02-27T18:10:57.459Z"
   },
   {
    "duration": 11,
    "start_time": "2023-02-27T18:11:16.576Z"
   },
   {
    "duration": 12,
    "start_time": "2023-02-27T18:11:55.036Z"
   },
   {
    "duration": 13,
    "start_time": "2023-02-27T18:12:04.280Z"
   },
   {
    "duration": 71,
    "start_time": "2023-02-27T18:13:43.970Z"
   },
   {
    "duration": 18,
    "start_time": "2023-02-27T18:13:49.401Z"
   },
   {
    "duration": 14,
    "start_time": "2023-02-27T18:13:59.208Z"
   },
   {
    "duration": 12,
    "start_time": "2023-02-27T18:15:54.201Z"
   },
   {
    "duration": 13,
    "start_time": "2023-02-27T18:16:23.206Z"
   },
   {
    "duration": 12,
    "start_time": "2023-02-27T18:22:34.005Z"
   },
   {
    "duration": 29,
    "start_time": "2023-02-27T18:23:44.587Z"
   },
   {
    "duration": 24,
    "start_time": "2023-02-27T18:23:59.215Z"
   },
   {
    "duration": 38031,
    "start_time": "2023-02-27T18:28:08.992Z"
   },
   {
    "duration": 3,
    "start_time": "2023-02-27T18:28:47.025Z"
   },
   {
    "duration": 39161,
    "start_time": "2023-02-27T18:32:07.214Z"
   },
   {
    "duration": 39616,
    "start_time": "2023-02-27T18:33:01.048Z"
   },
   {
    "duration": 39165,
    "start_time": "2023-02-27T18:34:57.061Z"
   },
   {
    "duration": 39444,
    "start_time": "2023-02-27T18:37:55.672Z"
   },
   {
    "duration": 37958,
    "start_time": "2023-02-27T19:12:51.984Z"
   },
   {
    "duration": 20,
    "start_time": "2023-02-27T19:14:09.497Z"
   },
   {
    "duration": 19,
    "start_time": "2023-02-27T19:15:37.483Z"
   },
   {
    "duration": 20,
    "start_time": "2023-02-27T19:18:00.647Z"
   },
   {
    "duration": 38288,
    "start_time": "2023-02-27T19:18:17.245Z"
   },
   {
    "duration": 5,
    "start_time": "2023-02-27T19:18:56.405Z"
   },
   {
    "duration": 158856,
    "start_time": "2023-02-27T19:20:38.321Z"
   },
   {
    "duration": 13,
    "start_time": "2023-02-27T19:25:42.383Z"
   },
   {
    "duration": 1902,
    "start_time": "2023-02-27T19:28:54.136Z"
   },
   {
    "duration": 11896,
    "start_time": "2023-02-27T19:30:05.846Z"
   },
   {
    "duration": 165256,
    "start_time": "2023-02-27T19:31:51.775Z"
   },
   {
    "duration": 82,
    "start_time": "2023-02-27T19:35:18.164Z"
   },
   {
    "duration": 19191,
    "start_time": "2023-02-27T19:35:36.280Z"
   },
   {
    "duration": 7833,
    "start_time": "2023-02-27T19:36:26.778Z"
   },
   {
    "duration": 123305,
    "start_time": "2023-02-27T19:36:50.304Z"
   },
   {
    "duration": 6,
    "start_time": "2023-02-27T19:38:53.613Z"
   },
   {
    "duration": 495766,
    "start_time": "2023-02-27T19:39:32.100Z"
   },
   {
    "duration": 4,
    "start_time": "2023-02-27T19:47:47.869Z"
   },
   {
    "duration": 27,
    "start_time": "2023-02-27T19:47:47.875Z"
   },
   {
    "duration": 16,
    "start_time": "2023-02-27T19:47:47.905Z"
   },
   {
    "duration": 3,
    "start_time": "2023-02-27T19:48:50.682Z"
   },
   {
    "duration": 1475,
    "start_time": "2023-02-27T19:53:28.848Z"
   },
   {
    "duration": 61,
    "start_time": "2023-02-27T19:53:31.383Z"
   },
   {
    "duration": 12,
    "start_time": "2023-02-27T19:53:32.885Z"
   },
   {
    "duration": 6,
    "start_time": "2023-02-27T19:53:33.080Z"
   },
   {
    "duration": 13,
    "start_time": "2023-02-27T19:53:33.219Z"
   },
   {
    "duration": 5,
    "start_time": "2023-02-27T19:53:33.383Z"
   },
   {
    "duration": 11,
    "start_time": "2023-02-27T19:53:34.235Z"
   },
   {
    "duration": 10,
    "start_time": "2023-02-27T19:53:34.420Z"
   },
   {
    "duration": 288,
    "start_time": "2023-02-27T19:53:34.780Z"
   },
   {
    "duration": 460,
    "start_time": "2023-02-27T19:53:35.071Z"
   },
   {
    "duration": 235,
    "start_time": "2023-02-27T19:53:35.534Z"
   },
   {
    "duration": 293,
    "start_time": "2023-02-27T19:53:35.771Z"
   },
   {
    "duration": 209,
    "start_time": "2023-02-27T19:53:36.083Z"
   },
   {
    "duration": 4,
    "start_time": "2023-02-27T19:53:37.030Z"
   },
   {
    "duration": 19,
    "start_time": "2023-02-27T19:53:37.977Z"
   },
   {
    "duration": 12,
    "start_time": "2023-02-27T19:53:38.332Z"
   },
   {
    "duration": 6,
    "start_time": "2023-02-27T19:53:38.533Z"
   },
   {
    "duration": 6,
    "start_time": "2023-02-27T19:53:38.717Z"
   },
   {
    "duration": 4,
    "start_time": "2023-02-27T19:53:38.917Z"
   },
   {
    "duration": 5,
    "start_time": "2023-02-27T19:53:39.576Z"
   },
   {
    "duration": 20,
    "start_time": "2023-02-27T19:53:39.731Z"
   },
   {
    "duration": 3,
    "start_time": "2023-02-27T19:53:40.523Z"
   },
   {
    "duration": 2,
    "start_time": "2023-02-27T19:53:41.195Z"
   },
   {
    "duration": 2,
    "start_time": "2023-02-27T19:53:42.219Z"
   },
   {
    "duration": 3195,
    "start_time": "2023-02-27T19:53:42.381Z"
   },
   {
    "duration": 3,
    "start_time": "2023-02-27T19:53:48.320Z"
   },
   {
    "duration": 93111,
    "start_time": "2023-02-27T19:53:48.528Z"
   },
   {
    "duration": 3,
    "start_time": "2023-02-27T19:55:21.641Z"
   },
   {
    "duration": 22064,
    "start_time": "2023-02-27T19:55:21.646Z"
   },
   {
    "duration": 28,
    "start_time": "2023-02-27T19:55:43.712Z"
   },
   {
    "duration": 451,
    "start_time": "2023-02-27T19:55:55.256Z"
   },
   {
    "duration": 216,
    "start_time": "2023-02-27T19:57:43.235Z"
   },
   {
    "duration": 20,
    "start_time": "2023-02-27T19:58:24.497Z"
   },
   {
    "duration": 235,
    "start_time": "2023-02-27T19:58:40.935Z"
   },
   {
    "duration": 223,
    "start_time": "2023-02-27T19:59:52.834Z"
   },
   {
    "duration": 201,
    "start_time": "2023-02-27T20:00:37.454Z"
   },
   {
    "duration": 226,
    "start_time": "2023-02-27T20:02:10.592Z"
   },
   {
    "duration": 290,
    "start_time": "2023-02-27T20:08:05.402Z"
   },
   {
    "duration": 412,
    "start_time": "2023-02-27T20:08:28.872Z"
   },
   {
    "duration": 315,
    "start_time": "2023-02-27T20:08:47.395Z"
   },
   {
    "duration": 295,
    "start_time": "2023-02-27T20:09:12.236Z"
   },
   {
    "duration": 321,
    "start_time": "2023-02-27T20:09:29.612Z"
   },
   {
    "duration": 12,
    "start_time": "2023-02-27T20:13:20.488Z"
   },
   {
    "duration": 11,
    "start_time": "2023-02-27T20:13:25.257Z"
   },
   {
    "duration": 5,
    "start_time": "2023-02-27T20:13:36.718Z"
   },
   {
    "duration": 7,
    "start_time": "2023-02-27T20:13:37.270Z"
   },
   {
    "duration": 7,
    "start_time": "2023-02-27T20:13:37.738Z"
   },
   {
    "duration": 7,
    "start_time": "2023-02-27T20:13:42.318Z"
   },
   {
    "duration": 28,
    "start_time": "2023-02-27T20:13:42.774Z"
   },
   {
    "duration": 4,
    "start_time": "2023-02-27T20:13:43.576Z"
   },
   {
    "duration": 3,
    "start_time": "2023-02-27T20:13:45.359Z"
   },
   {
    "duration": 3,
    "start_time": "2023-02-27T20:13:47.452Z"
   },
   {
    "duration": 3614,
    "start_time": "2023-02-27T20:13:48.750Z"
   },
   {
    "duration": 3,
    "start_time": "2023-02-27T20:13:56.363Z"
   },
   {
    "duration": 99132,
    "start_time": "2023-02-27T20:13:56.817Z"
   },
   {
    "duration": 3,
    "start_time": "2023-02-27T20:15:49.919Z"
   },
   {
    "duration": 22894,
    "start_time": "2023-02-27T20:15:50.456Z"
   },
   {
    "duration": 22,
    "start_time": "2023-02-27T20:16:19.657Z"
   },
   {
    "duration": 314,
    "start_time": "2023-02-27T20:16:26.366Z"
   },
   {
    "duration": 71,
    "start_time": "2023-02-27T20:19:59.275Z"
   },
   {
    "duration": 4,
    "start_time": "2023-02-27T20:20:12.999Z"
   },
   {
    "duration": 6,
    "start_time": "2023-02-27T20:25:02.950Z"
   },
   {
    "duration": 13,
    "start_time": "2023-02-27T20:25:05.436Z"
   },
   {
    "duration": 12,
    "start_time": "2023-02-27T20:25:08.002Z"
   },
   {
    "duration": 5,
    "start_time": "2023-02-27T20:25:12.687Z"
   },
   {
    "duration": 6,
    "start_time": "2023-02-27T20:25:13.207Z"
   },
   {
    "duration": 4,
    "start_time": "2023-02-27T20:25:13.691Z"
   },
   {
    "duration": 6,
    "start_time": "2023-02-27T20:25:16.850Z"
   },
   {
    "duration": 22,
    "start_time": "2023-02-27T20:25:18.001Z"
   },
   {
    "duration": 3,
    "start_time": "2023-02-27T20:25:22.330Z"
   },
   {
    "duration": 4798,
    "start_time": "2023-02-28T07:19:21.359Z"
   },
   {
    "duration": 70,
    "start_time": "2023-02-28T07:19:26.159Z"
   },
   {
    "duration": 15,
    "start_time": "2023-02-28T07:19:26.231Z"
   },
   {
    "duration": 9,
    "start_time": "2023-02-28T07:19:26.249Z"
   },
   {
    "duration": 38,
    "start_time": "2023-02-28T07:19:26.260Z"
   },
   {
    "duration": 14,
    "start_time": "2023-02-28T07:19:26.303Z"
   },
   {
    "duration": 28,
    "start_time": "2023-02-28T07:19:26.319Z"
   },
   {
    "duration": 15,
    "start_time": "2023-02-28T07:19:26.349Z"
   },
   {
    "duration": 344,
    "start_time": "2023-02-28T07:19:26.367Z"
   },
   {
    "duration": 392,
    "start_time": "2023-02-28T07:19:26.713Z"
   },
   {
    "duration": 244,
    "start_time": "2023-02-28T07:19:27.106Z"
   },
   {
    "duration": 319,
    "start_time": "2023-02-28T07:19:27.353Z"
   },
   {
    "duration": 257,
    "start_time": "2023-02-28T07:19:27.674Z"
   },
   {
    "duration": 4,
    "start_time": "2023-02-28T07:19:27.933Z"
   },
   {
    "duration": 10,
    "start_time": "2023-02-28T07:19:28.729Z"
   },
   {
    "duration": 15,
    "start_time": "2023-02-28T07:19:29.420Z"
   },
   {
    "duration": 5,
    "start_time": "2023-02-28T07:19:29.610Z"
   },
   {
    "duration": 7,
    "start_time": "2023-02-28T07:19:29.771Z"
   },
   {
    "duration": 3,
    "start_time": "2023-02-28T07:19:29.956Z"
   },
   {
    "duration": 7,
    "start_time": "2023-02-28T07:19:30.359Z"
   },
   {
    "duration": 26,
    "start_time": "2023-02-28T07:19:30.631Z"
   },
   {
    "duration": 5,
    "start_time": "2023-02-28T07:19:31.335Z"
   },
   {
    "duration": 2,
    "start_time": "2023-02-28T07:19:31.788Z"
   },
   {
    "duration": 2,
    "start_time": "2023-02-28T07:19:33.078Z"
   },
   {
    "duration": 3747,
    "start_time": "2023-02-28T07:19:33.270Z"
   },
   {
    "duration": 4,
    "start_time": "2023-02-28T07:20:45.784Z"
   },
   {
    "duration": 4,
    "start_time": "2023-02-28T07:20:47.321Z"
   },
   {
    "duration": 384542,
    "start_time": "2023-02-28T07:20:48.223Z"
   },
   {
    "duration": 95,
    "start_time": "2023-02-28T07:27:42.756Z"
   },
   {
    "duration": 15,
    "start_time": "2023-02-28T07:27:48.175Z"
   },
   {
    "duration": 16,
    "start_time": "2023-02-28T07:28:23.477Z"
   },
   {
    "duration": 11,
    "start_time": "2023-02-28T07:28:37.958Z"
   },
   {
    "duration": 367314,
    "start_time": "2023-02-28T07:28:46.514Z"
   },
   {
    "duration": 34524,
    "start_time": "2023-02-28T07:35:23.366Z"
   },
   {
    "duration": 18699,
    "start_time": "2023-02-28T07:36:29.253Z"
   },
   {
    "duration": 9,
    "start_time": "2023-02-28T07:37:37.990Z"
   },
   {
    "duration": 11,
    "start_time": "2023-02-28T07:40:54.933Z"
   },
   {
    "duration": 364,
    "start_time": "2023-02-28T07:41:04.616Z"
   },
   {
    "duration": 398,
    "start_time": "2023-02-28T07:41:15.973Z"
   },
   {
    "duration": 342,
    "start_time": "2023-02-28T07:41:31.118Z"
   },
   {
    "duration": 1706,
    "start_time": "2023-02-28T08:12:49.383Z"
   },
   {
    "duration": 156,
    "start_time": "2023-02-28T08:12:51.091Z"
   },
   {
    "duration": 12,
    "start_time": "2023-02-28T08:12:52.679Z"
   },
   {
    "duration": 6,
    "start_time": "2023-02-28T08:12:52.899Z"
   },
   {
    "duration": 13,
    "start_time": "2023-02-28T08:12:53.091Z"
   },
   {
    "duration": 4,
    "start_time": "2023-02-28T08:12:53.262Z"
   },
   {
    "duration": 11,
    "start_time": "2023-02-28T08:12:54.117Z"
   },
   {
    "duration": 10,
    "start_time": "2023-02-28T08:12:54.321Z"
   },
   {
    "duration": 210,
    "start_time": "2023-02-28T08:12:54.647Z"
   },
   {
    "duration": 357,
    "start_time": "2023-02-28T08:12:54.859Z"
   },
   {
    "duration": 196,
    "start_time": "2023-02-28T08:12:55.217Z"
   },
   {
    "duration": 270,
    "start_time": "2023-02-28T08:12:55.607Z"
   },
   {
    "duration": 207,
    "start_time": "2023-02-28T08:12:56.230Z"
   },
   {
    "duration": 3,
    "start_time": "2023-02-28T08:12:58.150Z"
   },
   {
    "duration": 10,
    "start_time": "2023-02-28T08:13:02.702Z"
   },
   {
    "duration": 10,
    "start_time": "2023-02-28T08:13:06.983Z"
   },
   {
    "duration": 5,
    "start_time": "2023-02-28T08:13:10.913Z"
   },
   {
    "duration": 8,
    "start_time": "2023-02-28T08:13:11.171Z"
   },
   {
    "duration": 3,
    "start_time": "2023-02-28T08:13:11.384Z"
   },
   {
    "duration": 4,
    "start_time": "2023-02-28T08:13:13.940Z"
   },
   {
    "duration": 16,
    "start_time": "2023-02-28T08:13:14.142Z"
   },
   {
    "duration": 2,
    "start_time": "2023-02-28T08:13:16.707Z"
   },
   {
    "duration": 2,
    "start_time": "2023-02-28T08:13:27.270Z"
   },
   {
    "duration": 3,
    "start_time": "2023-02-28T08:15:02.424Z"
   },
   {
    "duration": 111,
    "start_time": "2023-02-28T08:15:51.787Z"
   },
   {
    "duration": 224,
    "start_time": "2023-02-28T08:16:07.613Z"
   },
   {
    "duration": 5,
    "start_time": "2023-02-28T08:17:15.506Z"
   },
   {
    "duration": 17388,
    "start_time": "2023-02-28T08:18:39.730Z"
   },
   {
    "duration": 4,
    "start_time": "2023-02-28T08:19:14.657Z"
   },
   {
    "duration": 323298,
    "start_time": "2023-02-28T08:21:43.088Z"
   },
   {
    "duration": 4,
    "start_time": "2023-02-28T08:27:06.388Z"
   },
   {
    "duration": 6,
    "start_time": "2023-02-28T08:27:06.393Z"
   },
   {
    "duration": 13,
    "start_time": "2023-02-28T08:27:06.400Z"
   },
   {
    "duration": 39,
    "start_time": "2023-02-28T08:29:57.236Z"
   },
   {
    "duration": 3,
    "start_time": "2023-02-28T08:29:58.917Z"
   },
   {
    "duration": 19,
    "start_time": "2023-02-28T08:30:08.624Z"
   },
   {
    "duration": 17008,
    "start_time": "2023-02-28T08:30:11.471Z"
   },
   {
    "duration": 3,
    "start_time": "2023-02-28T08:30:28.480Z"
   },
   {
    "duration": 12,
    "start_time": "2023-02-28T08:31:50.347Z"
   },
   {
    "duration": 3,
    "start_time": "2023-02-28T08:33:59.542Z"
   },
   {
    "duration": 12,
    "start_time": "2023-02-28T08:34:50.658Z"
   },
   {
    "duration": 9,
    "start_time": "2023-02-28T08:36:50.226Z"
   },
   {
    "duration": 346180,
    "start_time": "2023-02-28T08:36:55.853Z"
   },
   {
    "duration": 3,
    "start_time": "2023-02-28T08:42:42.035Z"
   },
   {
    "duration": 20,
    "start_time": "2023-02-28T08:42:42.041Z"
   },
   {
    "duration": 7,
    "start_time": "2023-02-28T08:42:42.063Z"
   },
   {
    "duration": 2,
    "start_time": "2023-02-28T08:59:02.406Z"
   },
   {
    "duration": 7443,
    "start_time": "2023-02-28T09:03:45.180Z"
   },
   {
    "duration": 4,
    "start_time": "2023-02-28T09:04:01.635Z"
   },
   {
    "duration": 17496,
    "start_time": "2023-02-28T09:04:05.291Z"
   },
   {
    "duration": 3,
    "start_time": "2023-02-28T09:04:26.602Z"
   },
   {
    "duration": 3,
    "start_time": "2023-02-28T09:04:29.734Z"
   },
   {
    "duration": 5499,
    "start_time": "2023-02-28T09:05:25.961Z"
   },
   {
    "duration": 9,
    "start_time": "2023-02-28T09:05:31.461Z"
   },
   {
    "duration": 320335,
    "start_time": "2023-02-28T09:05:36.213Z"
   },
   {
    "duration": 3,
    "start_time": "2023-02-28T09:10:56.550Z"
   },
   {
    "duration": 10,
    "start_time": "2023-02-28T09:10:56.555Z"
   },
   {
    "duration": 54,
    "start_time": "2023-02-28T09:12:20.117Z"
   },
   {
    "duration": 3,
    "start_time": "2023-02-28T09:14:05.896Z"
   },
   {
    "duration": 12,
    "start_time": "2023-02-28T09:14:48.394Z"
   },
   {
    "duration": 14,
    "start_time": "2023-02-28T09:14:52.537Z"
   },
   {
    "duration": 2,
    "start_time": "2023-02-28T09:16:13.926Z"
   },
   {
    "duration": 1111,
    "start_time": "2023-02-28T09:16:15.442Z"
   },
   {
    "duration": 24,
    "start_time": "2023-02-28T09:16:26.324Z"
   },
   {
    "duration": 3,
    "start_time": "2023-02-28T09:16:44.997Z"
   },
   {
    "duration": 765,
    "start_time": "2023-02-28T09:16:46.039Z"
   },
   {
    "duration": 17,
    "start_time": "2023-02-28T09:16:47.884Z"
   },
   {
    "duration": 406,
    "start_time": "2023-02-28T09:17:01.384Z"
   },
   {
    "duration": 402,
    "start_time": "2023-02-28T09:17:09.391Z"
   },
   {
    "duration": 321,
    "start_time": "2023-02-28T09:17:32.845Z"
   },
   {
    "duration": 296,
    "start_time": "2023-02-28T09:17:45.309Z"
   },
   {
    "duration": 3,
    "start_time": "2023-02-28T09:19:38.081Z"
   },
   {
    "duration": 3,
    "start_time": "2023-02-28T09:20:02.277Z"
   },
   {
    "duration": 1709,
    "start_time": "2023-02-28T09:20:03.364Z"
   },
   {
    "duration": 7,
    "start_time": "2023-02-28T09:22:25.692Z"
   },
   {
    "duration": 8,
    "start_time": "2023-02-28T09:23:06.584Z"
   },
   {
    "duration": 342,
    "start_time": "2023-02-28T09:23:08.620Z"
   },
   {
    "duration": 310,
    "start_time": "2023-02-28T09:24:08.138Z"
   },
   {
    "duration": 298,
    "start_time": "2023-02-28T09:24:21.420Z"
   },
   {
    "duration": 40,
    "start_time": "2023-02-28T09:29:50.292Z"
   },
   {
    "duration": 1420,
    "start_time": "2023-02-28T09:33:00.736Z"
   },
   {
    "duration": 52,
    "start_time": "2023-02-28T09:33:02.159Z"
   },
   {
    "duration": 12,
    "start_time": "2023-02-28T09:33:02.212Z"
   },
   {
    "duration": 8,
    "start_time": "2023-02-28T09:33:02.225Z"
   },
   {
    "duration": 20,
    "start_time": "2023-02-28T09:33:02.235Z"
   },
   {
    "duration": 9,
    "start_time": "2023-02-28T09:33:02.256Z"
   },
   {
    "duration": 34,
    "start_time": "2023-02-28T09:33:02.267Z"
   },
   {
    "duration": 18,
    "start_time": "2023-02-28T09:33:02.303Z"
   },
   {
    "duration": 259,
    "start_time": "2023-02-28T09:33:02.323Z"
   },
   {
    "duration": 391,
    "start_time": "2023-02-28T09:33:02.584Z"
   },
   {
    "duration": 223,
    "start_time": "2023-02-28T09:33:02.977Z"
   },
   {
    "duration": 272,
    "start_time": "2023-02-28T09:33:03.202Z"
   },
   {
    "duration": 223,
    "start_time": "2023-02-28T09:33:03.476Z"
   },
   {
    "duration": 5,
    "start_time": "2023-02-28T09:33:03.702Z"
   },
   {
    "duration": 18,
    "start_time": "2023-02-28T09:33:03.708Z"
   },
   {
    "duration": 20,
    "start_time": "2023-02-28T09:33:03.728Z"
   },
   {
    "duration": 5,
    "start_time": "2023-02-28T09:33:03.750Z"
   },
   {
    "duration": 7,
    "start_time": "2023-02-28T09:33:03.756Z"
   },
   {
    "duration": 4,
    "start_time": "2023-02-28T09:33:03.764Z"
   },
   {
    "duration": 7,
    "start_time": "2023-02-28T09:33:03.769Z"
   },
   {
    "duration": 22,
    "start_time": "2023-02-28T09:33:03.778Z"
   },
   {
    "duration": 3,
    "start_time": "2023-02-28T09:33:03.802Z"
   },
   {
    "duration": 34,
    "start_time": "2023-02-28T09:33:03.806Z"
   },
   {
    "duration": 2,
    "start_time": "2023-02-28T09:33:03.842Z"
   },
   {
    "duration": 5,
    "start_time": "2023-02-28T09:33:03.846Z"
   },
   {
    "duration": 115,
    "start_time": "2023-02-28T09:33:03.853Z"
   },
   {
    "duration": 0,
    "start_time": "2023-02-28T09:33:03.970Z"
   },
   {
    "duration": 0,
    "start_time": "2023-02-28T09:33:03.971Z"
   },
   {
    "duration": 0,
    "start_time": "2023-02-28T09:33:03.973Z"
   },
   {
    "duration": 0,
    "start_time": "2023-02-28T09:33:03.974Z"
   },
   {
    "duration": 0,
    "start_time": "2023-02-28T09:33:03.976Z"
   },
   {
    "duration": 0,
    "start_time": "2023-02-28T09:33:03.978Z"
   },
   {
    "duration": 0,
    "start_time": "2023-02-28T09:33:03.979Z"
   },
   {
    "duration": 0,
    "start_time": "2023-02-28T09:33:03.981Z"
   },
   {
    "duration": 0,
    "start_time": "2023-02-28T09:33:03.982Z"
   },
   {
    "duration": 0,
    "start_time": "2023-02-28T09:33:03.984Z"
   },
   {
    "duration": 0,
    "start_time": "2023-02-28T09:33:03.985Z"
   },
   {
    "duration": 0,
    "start_time": "2023-02-28T09:33:03.986Z"
   },
   {
    "duration": 0,
    "start_time": "2023-02-28T09:33:03.987Z"
   },
   {
    "duration": 0,
    "start_time": "2023-02-28T09:33:03.988Z"
   },
   {
    "duration": 0,
    "start_time": "2023-02-28T09:33:03.989Z"
   },
   {
    "duration": 0,
    "start_time": "2023-02-28T09:33:03.989Z"
   },
   {
    "duration": 0,
    "start_time": "2023-02-28T09:33:03.991Z"
   },
   {
    "duration": 0,
    "start_time": "2023-02-28T09:33:03.992Z"
   },
   {
    "duration": 0,
    "start_time": "2023-02-28T09:33:03.993Z"
   },
   {
    "duration": 0,
    "start_time": "2023-02-28T09:33:03.994Z"
   },
   {
    "duration": 39,
    "start_time": "2023-02-28T09:33:38.153Z"
   },
   {
    "duration": 3,
    "start_time": "2023-02-28T09:33:40.675Z"
   },
   {
    "duration": 5,
    "start_time": "2023-02-28T09:33:46.053Z"
   },
   {
    "duration": 3,
    "start_time": "2023-02-28T09:33:46.219Z"
   },
   {
    "duration": 17672,
    "start_time": "2023-02-28T09:33:46.532Z"
   },
   {
    "duration": 4,
    "start_time": "2023-02-28T09:34:04.206Z"
   },
   {
    "duration": 10,
    "start_time": "2023-02-28T09:34:04.211Z"
   },
   {
    "duration": 341739,
    "start_time": "2023-02-28T09:34:04.222Z"
   },
   {
    "duration": 4,
    "start_time": "2023-02-28T09:39:45.963Z"
   },
   {
    "duration": 5,
    "start_time": "2023-02-28T09:39:45.969Z"
   },
   {
    "duration": 13,
    "start_time": "2023-02-28T09:39:45.976Z"
   },
   {
    "duration": 16,
    "start_time": "2023-02-28T09:39:45.991Z"
   },
   {
    "duration": 0,
    "start_time": "2023-02-28T09:39:46.009Z"
   },
   {
    "duration": 0,
    "start_time": "2023-02-28T09:39:46.011Z"
   },
   {
    "duration": 0,
    "start_time": "2023-02-28T09:39:46.012Z"
   },
   {
    "duration": 0,
    "start_time": "2023-02-28T09:39:46.013Z"
   },
   {
    "duration": 0,
    "start_time": "2023-02-28T09:39:46.014Z"
   },
   {
    "duration": 0,
    "start_time": "2023-02-28T09:39:46.016Z"
   },
   {
    "duration": 0,
    "start_time": "2023-02-28T09:39:46.016Z"
   },
   {
    "duration": 0,
    "start_time": "2023-02-28T09:39:46.017Z"
   },
   {
    "duration": 0,
    "start_time": "2023-02-28T09:39:46.018Z"
   },
   {
    "duration": 3,
    "start_time": "2023-02-28T09:40:13.941Z"
   },
   {
    "duration": 5,
    "start_time": "2023-02-28T09:40:15.337Z"
   },
   {
    "duration": 2,
    "start_time": "2023-02-28T09:40:19.357Z"
   },
   {
    "duration": 1124,
    "start_time": "2023-02-28T09:40:19.537Z"
   },
   {
    "duration": 24,
    "start_time": "2023-02-28T09:40:20.662Z"
   },
   {
    "duration": 304,
    "start_time": "2023-02-28T09:40:20.688Z"
   },
   {
    "duration": 2,
    "start_time": "2023-02-28T09:40:20.994Z"
   },
   {
    "duration": 1744,
    "start_time": "2023-02-28T09:40:20.999Z"
   },
   {
    "duration": 8,
    "start_time": "2023-02-28T09:40:22.745Z"
   },
   {
    "duration": 313,
    "start_time": "2023-02-28T09:40:22.755Z"
   }
  ],
  "kernelspec": {
   "display_name": "Python 3 (ipykernel)",
   "language": "python",
   "name": "python3"
  },
  "language_info": {
   "codemirror_mode": {
    "name": "ipython",
    "version": 3
   },
   "file_extension": ".py",
   "mimetype": "text/x-python",
   "name": "python",
   "nbconvert_exporter": "python",
   "pygments_lexer": "ipython3",
   "version": "3.9.8"
  },
  "toc": {
   "base_numbering": 1,
   "nav_menu": {},
   "number_sections": true,
   "sideBar": true,
   "skip_h1_title": true,
   "title_cell": "Содержание",
   "title_sidebar": "Contents",
   "toc_cell": true,
   "toc_position": {},
   "toc_section_display": true,
   "toc_window_display": true
  }
 },
 "nbformat": 4,
 "nbformat_minor": 2
}
