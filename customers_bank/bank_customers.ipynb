{
 "cells": [
  {
   "cell_type": "markdown",
   "metadata": {},
   "source": [
    "<div style=\"border:solid Blue 2px; padding: 40px\">\n",
    "<h1> Прогноз оттока клиентов банка </h1>\n",
    "\n",
    "- Из банка стали уходить клиенты. По немногу каждый месяц. Банковские маркетологи посчитали: сохранять текущих клиентов дешевле, чем привлекать новых.\n",
    "    - Нужно спрогнозировать, уйдёт клиент из банка в ближайшее время или нет. в распоряжении исторические данные о поведении клиентов и расторжении договоров с банком. \n",
    "\n",
    "    ***Задача*** построить модель для задачи классификации с предельно большим значением F1-меры и нужно довести метрику до 0.59\n",
    "    Дополнительно измеримерять AUC-ROC. Подобрать гиперпараметры"
   ]
  },
  {
   "cell_type": "markdown",
   "metadata": {},
   "source": [
    "<div style=\"border:solid Green 2px; padding: 40px\">\n",
    "<h1> Признаки </h1>\n",
    "    \n",
    " - RowNumber — индекс строки в данных\n",
    " - CustomerId — уникальный идентификатор клиента\n",
    " - Surname — фамилия\n",
    " - CreditScore — кредитный рейтинг\n",
    " - Geography — страна проживания\n",
    " - Gender — пол\n",
    " - Age — возраст\n",
    " - Tenure — сколько лет человек является клиентом банка\n",
    " - Balance — баланс на счёте\n",
    " - NumOfProducts — количество продуктов банка, используемых клиентом\n",
    " - HasCrCard — наличие кредитной карты\n",
    " - IsActiveMember — активность клиента\n",
    " - EstimatedSalary — предполагаемая зарплата\n",
    " \n",
    "  Целевой признак \n",
    " - Exited — факт ухода клиента\n",
    " \n",
    " Источник данных: [https://www.kaggle.com/barelydedicated/bank-customer-churn-modeling](https://www.kaggle.com/barelydedicated/bank-customer-churn-modeling)"
   ]
  },
  {
   "cell_type": "markdown",
   "metadata": {},
   "source": [
    "## Подготовка данных"
   ]
  },
  {
   "cell_type": "code",
   "execution_count": 1,
   "metadata": {},
   "outputs": [],
   "source": [
    "import pandas as pd\n",
    "from sklearn.model_selection import train_test_split\n",
    "from sklearn.linear_model import LinearRegression\n",
    "from sklearn.linear_model import LogisticRegression\n",
    "from sklearn.tree import DecisionTreeClassifier\n",
    "from sklearn.ensemble import RandomForestRegressor\n",
    "from sklearn.ensemble import RandomForestClassifier\n",
    "from sklearn.metrics import mean_absolute_error\n",
    "from sklearn.metrics import f1_score\n",
    "from sklearn.metrics import roc_auc_score\n",
    "from sklearn.utils import shuffle\n",
    "from sklearn.model_selection import GridSearchCV\n",
    "from sklearn.preprocessing import StandardScaler"
   ]
  },
  {
   "cell_type": "code",
   "execution_count": 2,
   "metadata": {},
   "outputs": [],
   "source": [
    "data = pd.read_csv('/datasets/Churn.csv')"
   ]
  },
  {
   "cell_type": "code",
   "execution_count": 3,
   "metadata": {},
   "outputs": [
    {
     "data": {
      "text/plain": [
       "(10000, 14)"
      ]
     },
     "execution_count": 3,
     "metadata": {},
     "output_type": "execute_result"
    }
   ],
   "source": [
    "data.shape"
   ]
  },
  {
   "cell_type": "code",
   "execution_count": 4,
   "metadata": {},
   "outputs": [
    {
     "data": {
      "text/html": [
       "<div>\n",
       "<style scoped>\n",
       "    .dataframe tbody tr th:only-of-type {\n",
       "        vertical-align: middle;\n",
       "    }\n",
       "\n",
       "    .dataframe tbody tr th {\n",
       "        vertical-align: top;\n",
       "    }\n",
       "\n",
       "    .dataframe thead th {\n",
       "        text-align: right;\n",
       "    }\n",
       "</style>\n",
       "<table border=\"1\" class=\"dataframe\">\n",
       "  <thead>\n",
       "    <tr style=\"text-align: right;\">\n",
       "      <th></th>\n",
       "      <th>RowNumber</th>\n",
       "      <th>CustomerId</th>\n",
       "      <th>Surname</th>\n",
       "      <th>CreditScore</th>\n",
       "      <th>Geography</th>\n",
       "      <th>Gender</th>\n",
       "      <th>Age</th>\n",
       "      <th>Tenure</th>\n",
       "      <th>Balance</th>\n",
       "      <th>NumOfProducts</th>\n",
       "      <th>HasCrCard</th>\n",
       "      <th>IsActiveMember</th>\n",
       "      <th>EstimatedSalary</th>\n",
       "      <th>Exited</th>\n",
       "    </tr>\n",
       "  </thead>\n",
       "  <tbody>\n",
       "    <tr>\n",
       "      <th>0</th>\n",
       "      <td>1</td>\n",
       "      <td>15634602</td>\n",
       "      <td>Hargrave</td>\n",
       "      <td>619</td>\n",
       "      <td>France</td>\n",
       "      <td>Female</td>\n",
       "      <td>42</td>\n",
       "      <td>2.0</td>\n",
       "      <td>0.00</td>\n",
       "      <td>1</td>\n",
       "      <td>1</td>\n",
       "      <td>1</td>\n",
       "      <td>101348.88</td>\n",
       "      <td>1</td>\n",
       "    </tr>\n",
       "    <tr>\n",
       "      <th>1</th>\n",
       "      <td>2</td>\n",
       "      <td>15647311</td>\n",
       "      <td>Hill</td>\n",
       "      <td>608</td>\n",
       "      <td>Spain</td>\n",
       "      <td>Female</td>\n",
       "      <td>41</td>\n",
       "      <td>1.0</td>\n",
       "      <td>83807.86</td>\n",
       "      <td>1</td>\n",
       "      <td>0</td>\n",
       "      <td>1</td>\n",
       "      <td>112542.58</td>\n",
       "      <td>0</td>\n",
       "    </tr>\n",
       "    <tr>\n",
       "      <th>2</th>\n",
       "      <td>3</td>\n",
       "      <td>15619304</td>\n",
       "      <td>Onio</td>\n",
       "      <td>502</td>\n",
       "      <td>France</td>\n",
       "      <td>Female</td>\n",
       "      <td>42</td>\n",
       "      <td>8.0</td>\n",
       "      <td>159660.80</td>\n",
       "      <td>3</td>\n",
       "      <td>1</td>\n",
       "      <td>0</td>\n",
       "      <td>113931.57</td>\n",
       "      <td>1</td>\n",
       "    </tr>\n",
       "    <tr>\n",
       "      <th>3</th>\n",
       "      <td>4</td>\n",
       "      <td>15701354</td>\n",
       "      <td>Boni</td>\n",
       "      <td>699</td>\n",
       "      <td>France</td>\n",
       "      <td>Female</td>\n",
       "      <td>39</td>\n",
       "      <td>1.0</td>\n",
       "      <td>0.00</td>\n",
       "      <td>2</td>\n",
       "      <td>0</td>\n",
       "      <td>0</td>\n",
       "      <td>93826.63</td>\n",
       "      <td>0</td>\n",
       "    </tr>\n",
       "    <tr>\n",
       "      <th>4</th>\n",
       "      <td>5</td>\n",
       "      <td>15737888</td>\n",
       "      <td>Mitchell</td>\n",
       "      <td>850</td>\n",
       "      <td>Spain</td>\n",
       "      <td>Female</td>\n",
       "      <td>43</td>\n",
       "      <td>2.0</td>\n",
       "      <td>125510.82</td>\n",
       "      <td>1</td>\n",
       "      <td>1</td>\n",
       "      <td>1</td>\n",
       "      <td>79084.10</td>\n",
       "      <td>0</td>\n",
       "    </tr>\n",
       "  </tbody>\n",
       "</table>\n",
       "</div>"
      ],
      "text/plain": [
       "   RowNumber  CustomerId   Surname  CreditScore Geography  Gender  Age  \\\n",
       "0          1    15634602  Hargrave          619    France  Female   42   \n",
       "1          2    15647311      Hill          608     Spain  Female   41   \n",
       "2          3    15619304      Onio          502    France  Female   42   \n",
       "3          4    15701354      Boni          699    France  Female   39   \n",
       "4          5    15737888  Mitchell          850     Spain  Female   43   \n",
       "\n",
       "   Tenure    Balance  NumOfProducts  HasCrCard  IsActiveMember  \\\n",
       "0     2.0       0.00              1          1               1   \n",
       "1     1.0   83807.86              1          0               1   \n",
       "2     8.0  159660.80              3          1               0   \n",
       "3     1.0       0.00              2          0               0   \n",
       "4     2.0  125510.82              1          1               1   \n",
       "\n",
       "   EstimatedSalary  Exited  \n",
       "0        101348.88       1  \n",
       "1        112542.58       0  \n",
       "2        113931.57       1  \n",
       "3         93826.63       0  \n",
       "4         79084.10       0  "
      ]
     },
     "execution_count": 4,
     "metadata": {},
     "output_type": "execute_result"
    }
   ],
   "source": [
    "data.head()"
   ]
  },
  {
   "cell_type": "code",
   "execution_count": 5,
   "metadata": {},
   "outputs": [
    {
     "data": {
      "text/plain": [
       "RowNumber            0\n",
       "CustomerId           0\n",
       "Surname              0\n",
       "CreditScore          0\n",
       "Geography            0\n",
       "Gender               0\n",
       "Age                  0\n",
       "Tenure             909\n",
       "Balance              0\n",
       "NumOfProducts        0\n",
       "HasCrCard            0\n",
       "IsActiveMember       0\n",
       "EstimatedSalary      0\n",
       "Exited               0\n",
       "dtype: int64"
      ]
     },
     "execution_count": 5,
     "metadata": {},
     "output_type": "execute_result"
    }
   ],
   "source": [
    "data.isna().sum()"
   ]
  },
  {
   "cell_type": "code",
   "execution_count": 6,
   "metadata": {},
   "outputs": [
    {
     "name": "stdout",
     "output_type": "stream",
     "text": [
      "<class 'pandas.core.frame.DataFrame'>\n",
      "RangeIndex: 10000 entries, 0 to 9999\n",
      "Data columns (total 14 columns):\n",
      " #   Column           Non-Null Count  Dtype  \n",
      "---  ------           --------------  -----  \n",
      " 0   RowNumber        10000 non-null  int64  \n",
      " 1   CustomerId       10000 non-null  int64  \n",
      " 2   Surname          10000 non-null  object \n",
      " 3   CreditScore      10000 non-null  int64  \n",
      " 4   Geography        10000 non-null  object \n",
      " 5   Gender           10000 non-null  object \n",
      " 6   Age              10000 non-null  int64  \n",
      " 7   Tenure           9091 non-null   float64\n",
      " 8   Balance          10000 non-null  float64\n",
      " 9   NumOfProducts    10000 non-null  int64  \n",
      " 10  HasCrCard        10000 non-null  int64  \n",
      " 11  IsActiveMember   10000 non-null  int64  \n",
      " 12  EstimatedSalary  10000 non-null  float64\n",
      " 13  Exited           10000 non-null  int64  \n",
      "dtypes: float64(3), int64(8), object(3)\n",
      "memory usage: 1.1+ MB\n"
     ]
    }
   ],
   "source": [
    "data.info()"
   ]
  },
  {
   "cell_type": "code",
   "execution_count": 7,
   "metadata": {},
   "outputs": [],
   "source": [
    "data.Tenure = data.Tenure.fillna(data.Tenure.median())"
   ]
  },
  {
   "cell_type": "code",
   "execution_count": 8,
   "metadata": {
    "scrolled": true
   },
   "outputs": [
    {
     "data": {
      "text/plain": [
       "array([ 2.,  1.,  8.,  7.,  4.,  6.,  3., 10.,  5.,  9.,  0.])"
      ]
     },
     "execution_count": 8,
     "metadata": {},
     "output_type": "execute_result"
    }
   ],
   "source": [
    "data.Tenure.unique()"
   ]
  },
  {
   "cell_type": "markdown",
   "metadata": {},
   "source": [
    "<div style=\"border:solid Blue 2px; padding: 40px\">\n",
    "<h3> Ревью </h3>   \n",
    " \n",
    "   - Открыли и просмотрели данные. Типы данных корректные, но имеются пропуски в колонке Tenure \n",
    "   - Пропуски в этой колонке можно заполнить заглушками (плейсхолдер), медианой (сгруппированной по возрасту, полу или стране) или медианным значением по колонке - выбрали последнее."
   ]
  },
  {
   "cell_type": "markdown",
   "metadata": {},
   "source": [
    "### Подготовка тренировочной, валидационной и тестовой выборок"
   ]
  },
  {
   "cell_type": "code",
   "execution_count": 9,
   "metadata": {},
   "outputs": [],
   "source": [
    "target = data['Exited']\n",
    "features = data.drop(['Exited', 'Surname', 'RowNumber', 'CustomerId'], axis=1)\n",
    "\n",
    "features_train, features_test, target_train, target_test = train_test_split(\n",
    "    features, target, test_size=0.25, random_state=12345) \n",
    "\n",
    "features_valid, features_test, target_valid, target_test = train_test_split(\n",
    "    features_test, target_test, test_size=0.5, random_state=12345)\n",
    "\n",
    "features_train = pd.get_dummies(features_train, drop_first=True)\n",
    "features_valid = pd.get_dummies(features_valid, drop_first=True)\n",
    "features_test = pd.get_dummies(features_test, drop_first=True)\n",
    "\n",
    "scaler = StandardScaler()\n",
    "scaler.fit(features_train) \n",
    "features_train = scaler.transform(features_train)\n",
    "features_valid = scaler.transform(features_valid) \n",
    "features_test = scaler.transform(features_test)"
   ]
  },
  {
   "cell_type": "code",
   "execution_count": 10,
   "metadata": {},
   "outputs": [],
   "source": [
    "features_train = pd.DataFrame(features_train, index=target_train.index)"
   ]
  },
  {
   "cell_type": "code",
   "execution_count": 11,
   "metadata": {},
   "outputs": [],
   "source": [
    "features_valid = pd.DataFrame(features_valid, index=target_valid.index)"
   ]
  },
  {
   "cell_type": "code",
   "execution_count": 12,
   "metadata": {},
   "outputs": [],
   "source": [
    "features_test = pd.DataFrame(features_test, index=target_test.index)"
   ]
  },
  {
   "cell_type": "markdown",
   "metadata": {},
   "source": [
    "    Провели предподготовку данных. Проверяем размеры выборок"
   ]
  },
  {
   "cell_type": "code",
   "execution_count": 13,
   "metadata": {},
   "outputs": [
    {
     "data": {
      "text/plain": [
       "(7500, 11)"
      ]
     },
     "execution_count": 13,
     "metadata": {},
     "output_type": "execute_result"
    }
   ],
   "source": [
    "features_train.shape"
   ]
  },
  {
   "cell_type": "code",
   "execution_count": 14,
   "metadata": {},
   "outputs": [
    {
     "data": {
      "text/plain": [
       "(7500,)"
      ]
     },
     "execution_count": 14,
     "metadata": {},
     "output_type": "execute_result"
    }
   ],
   "source": [
    "target_train.shape"
   ]
  },
  {
   "cell_type": "markdown",
   "metadata": {},
   "source": [
    "## Исследование задачи"
   ]
  },
  {
   "cell_type": "markdown",
   "metadata": {},
   "source": [
    "<div style=\"border:solid Blue 2px; padding: 40px\">\n",
    "\n",
    "     Изучим и обучим модели из библиотеки sklearn:"
   ]
  },
  {
   "cell_type": "markdown",
   "metadata": {},
   "source": [
    "**2.1 LogisticRegression**"
   ]
  },
  {
   "cell_type": "code",
   "execution_count": 15,
   "metadata": {},
   "outputs": [
    {
     "name": "stdout",
     "output_type": "stream",
     "text": [
      "F1 score 0.2960893854748603\n",
      "ROC AUC LR: 0.7668473424480219\n",
      "CPU times: user 47.3 ms, sys: 70 ms, total: 117 ms\n",
      "Wall time: 22 ms\n"
     ]
    }
   ],
   "source": [
    "%%time\n",
    "\n",
    "model_1 = LogisticRegression(penalty='l2', random_state=12345)\n",
    "model_1.fit(features_train, target_train)\n",
    "predictions = model_1.predict(features_valid)\n",
    "\n",
    "\n",
    "print(\"F1 score\", f1_score(target_valid, predictions))\n",
    "print('ROC AUC LR:', roc_auc_score(target_valid, model_1.predict_proba(features_valid)[:, 1]))"
   ]
  },
  {
   "cell_type": "markdown",
   "metadata": {},
   "source": [
    "**2.2 DecisionTreeClassifier**"
   ]
  },
  {
   "cell_type": "markdown",
   "metadata": {},
   "source": [
    "<div style=\"border:solid Blue 2px; padding: 40px\">\n",
    "\n",
    "    Для DecisionTree, RandomForest лучше всего подбирать параметры путем автоподбора с классом GridSearchCV c кросс-валидацией"
   ]
  },
  {
   "cell_type": "code",
   "execution_count": 18,
   "metadata": {},
   "outputs": [
    {
     "name": "stdout",
     "output_type": "stream",
     "text": [
      "CPU times: user 55.3 s, sys: 89 ms, total: 55.4 s\n",
      "Wall time: 55.5 s\n"
     ]
    }
   ],
   "source": [
    "%%time\n",
    "\n",
    "clf_dt = DecisionTreeClassifier()\n",
    "parametrs = {'criterion': ['entropy'],\n",
    "             'max_depth': range(1, 10, 2),\n",
    "             'min_samples_split': range(2, 30, 2),\n",
    "             'min_samples_leaf': range(1, 20, 2)}\n",
    "\n",
    "search_param = GridSearchCV(clf_dt, parametrs, cv=5) \n",
    "search_param.fit(features_train, target_train)\n",
    "\n",
    "best_tree = search_param.best_estimator_"
   ]
  },
  {
   "cell_type": "code",
   "execution_count": 19,
   "metadata": {},
   "outputs": [
    {
     "data": {
      "text/plain": [
       "DecisionTreeClassifier(criterion='entropy', max_depth=7, min_samples_leaf=9,\n",
       "                       min_samples_split=26)"
      ]
     },
     "execution_count": 19,
     "metadata": {},
     "output_type": "execute_result"
    }
   ],
   "source": [
    "best_tree"
   ]
  },
  {
   "cell_type": "code",
   "execution_count": 16,
   "metadata": {},
   "outputs": [
    {
     "name": "stdout",
     "output_type": "stream",
     "text": [
      "F1 0.5621890547263682\n",
      "ROC AUC Dtc: 0.8558561682095376\n"
     ]
    }
   ],
   "source": [
    "model_2 = DecisionTreeClassifier(\n",
    "    criterion='entropy', \n",
    "    max_depth=7, \n",
    "    min_samples_split=26,\n",
    "    min_samples_leaf=9,\n",
    "    random_state=12345    \n",
    ")\n",
    "model_2.fit(features_train, target_train)\n",
    "predictions = model_2.predict(features_valid)\n",
    "\n",
    "print(\"F1\", f1_score(target_valid, predictions))\n",
    "print('ROC AUC Dtc:', roc_auc_score(target_valid, model_2.predict_proba(features_valid)[:, 1]))"
   ]
  },
  {
   "cell_type": "markdown",
   "metadata": {},
   "source": [
    "    \n",
    "    F1 мера равняется 0.56 а требуется не менее 0.59. \n",
    "    Перспективно, но смотрим дальше."
   ]
  },
  {
   "cell_type": "markdown",
   "metadata": {},
   "source": [
    "**2.3 RandomForest**"
   ]
  },
  {
   "cell_type": "code",
   "execution_count": 49,
   "metadata": {},
   "outputs": [
    {
     "name": "stdout",
     "output_type": "stream",
     "text": [
      "CPU times: user 10min 46s, sys: 4.94 s, total: 10min 51s\n",
      "Wall time: 10min 51s\n"
     ]
    }
   ],
   "source": [
    "%%time\n",
    "\n",
    "clf_rf = RandomForestClassifier()\n",
    "parametrs = { \n",
    "    'n_estimators': range(10, 110, 10),\n",
    "    'criterion': ['gini'],\n",
    "    'max_depth': range(2, 10, 2),\n",
    "    'min_samples_split': range(2, 10, 2),\n",
    "    'min_samples_leaf': range(2, 10, 2)\n",
    "}\n",
    "\n",
    "search_param = GridSearchCV(clf_rf, parametrs, cv=5) \n",
    "search_param.fit(features_train, target_train)\n",
    "\n",
    "best_forest = search_param.best_estimator_"
   ]
  },
  {
   "cell_type": "code",
   "execution_count": 50,
   "metadata": {},
   "outputs": [
    {
     "data": {
      "text/plain": [
       "RandomForestClassifier(max_depth=8, min_samples_leaf=8, min_samples_split=6,\n",
       "                       n_estimators=50)"
      ]
     },
     "execution_count": 50,
     "metadata": {},
     "output_type": "execute_result"
    }
   ],
   "source": [
    "best_forest"
   ]
  },
  {
   "cell_type": "code",
   "execution_count": 17,
   "metadata": {},
   "outputs": [
    {
     "name": "stdout",
     "output_type": "stream",
     "text": [
      "F1 0.585\n",
      "ROC AUC Rf: 0.8681028272485274\n",
      "CPU times: user 312 ms, sys: 2.99 ms, total: 315 ms\n",
      "Wall time: 315 ms\n"
     ]
    }
   ],
   "source": [
    "%%time\n",
    "\n",
    "model_3 = RandomForestClassifier(\n",
    "    criterion='gini', \n",
    "    n_estimators=50,\n",
    "    max_depth=8, \n",
    "    min_samples_leaf=8,\n",
    "    min_samples_split=6,\n",
    "    random_state=12345    \n",
    ")\n",
    "model_3.fit(features_train, target_train)\n",
    "predictions = model_3.predict(features_valid)\n",
    "\n",
    "print(\"F1\", f1_score(target_valid, predictions))\n",
    "print('ROC AUC Rf:', roc_auc_score(target_valid, model_3.predict_proba(features_valid)[:, 1]))"
   ]
  },
  {
   "cell_type": "markdown",
   "metadata": {},
   "source": [
    "<div style=\"border:solid Blue 2px; padding: 40px\">\n",
    "    \n",
    "        AucRoc метрика у Дерева и Леса сравнялась, а F-мера разлиается - судя по ней, вторая модель качественнее. Самой перспективной в предсказывании целевого признака (уход клиентов банка) показала себя модель RandomForestClassifier"
   ]
  },
  {
   "cell_type": "markdown",
   "metadata": {},
   "source": [
    "## Борьба с дисбалансом"
   ]
  },
  {
   "cell_type": "markdown",
   "metadata": {},
   "source": [
    "<div style=\"border:solid Blue 2px; padding: 40px\">\n",
    "    \n",
    "    Рассмотрим способы борьбы с дисбалансом классов путем понижения, увеличения и балансирования."
   ]
  },
  {
   "cell_type": "markdown",
   "metadata": {},
   "source": [
    "### Функция понижение классов downsample"
   ]
  },
  {
   "cell_type": "code",
   "execution_count": 18,
   "metadata": {},
   "outputs": [],
   "source": [
    "def downsample(features_train, target_train, fraction):\n",
    "    features_zeros = features_train[target_train == 0]\n",
    "    features_ones = features_train[target_train == 1]\n",
    "    target_zeros = target_train[target_train == 0]\n",
    "    target_ones = target_train[target_train == 1]\n",
    "\n",
    "    features_downsampled = pd.concat(\n",
    "        [features_zeros.sample(frac=fraction, random_state=12345)] + [features_ones])\n",
    "    target_downsampled = pd.concat(\n",
    "        [target_zeros.sample(frac=fraction, random_state=12345)] + [target_ones])\n",
    "    \n",
    "    features_downsampled, target_downsampled = shuffle(\n",
    "        features_downsampled, target_downsampled, random_state=12345)\n",
    "    \n",
    "    return features_downsampled, target_downsampled\n",
    "\n",
    "features_downsampled, target_downsampled = downsample(features_train, target_train, 0.1)\n"
   ]
  },
  {
   "cell_type": "markdown",
   "metadata": {},
   "source": [
    "<div style=\"border:solid Blue 2px; padding: 40px\">\n",
    "    \n",
    "    Борьба с дисбалансом путем увеличении выборки и перемешивания upsampling и shuffle. Создадим функцию для увеличения редких классов"
   ]
  },
  {
   "cell_type": "markdown",
   "metadata": {},
   "source": [
    "### Функция увеличение классов upsample"
   ]
  },
  {
   "cell_type": "code",
   "execution_count": 19,
   "metadata": {},
   "outputs": [],
   "source": [
    "def upsample(features_train, target_train, repeat):\n",
    "    features_zeros = features_train[target_train == 0]\n",
    "    features_ones = features_train[target_train == 1]\n",
    "    target_zeros = target_train[target_train == 0]\n",
    "    target_ones = target_train[target_train == 1]\n",
    "\n",
    "    features_upsampled = pd.concat([features_zeros] + [features_ones] * repeat)\n",
    "    target_upsampled = pd.concat([target_zeros] + [target_ones] * repeat)\n",
    "    \n",
    "    features_upsampled, target_upsampled = shuffle(\n",
    "        features_upsampled, target_upsampled, random_state=12345)\n",
    "    \n",
    "    return features_upsampled, target_upsampled\n",
    "\n",
    "features_upsampled, target_upsampled = upsample(features_train, target_train, 12)"
   ]
  },
  {
   "cell_type": "markdown",
   "metadata": {},
   "source": [
    "<div style=\"border:solid Blue 2px; padding: 40px\">\n",
    "    \n",
    "    Протестируем увеличенные и уменьшенные выборки на трех моделях."
   ]
  },
  {
   "cell_type": "markdown",
   "metadata": {},
   "source": [
    "***LogisticRegression***"
   ]
  },
  {
   "cell_type": "code",
   "execution_count": 21,
   "metadata": {},
   "outputs": [
    {
     "name": "stdout",
     "output_type": "stream",
     "text": [
      "F1: 0.4039247751430907\n",
      "ROC AUC LR_1: 0.7725218717856853\n"
     ]
    }
   ],
   "source": [
    "model_lr_balance = LogisticRegression(random_state=12345, solver='liblinear')\n",
    "model_lr_balance.fit(features_upsampled, target_upsampled)\n",
    "predicted_valid_lr = model_lr_balance.predict(features_valid)\n",
    "\n",
    "print(\"F1:\", f1_score(target_valid, predicted_valid_lr))\n",
    "print('ROC AUC LR_1:', roc_auc_score(target_valid, model_lr_balance.predict_proba(features_valid)[:, 1]))"
   ]
  },
  {
   "cell_type": "code",
   "execution_count": 23,
   "metadata": {},
   "outputs": [
    {
     "name": "stdout",
     "output_type": "stream",
     "text": [
      "F1: 0.4197530864197531\n",
      "ROC AUC LR_1: 0.7708923226276191\n"
     ]
    }
   ],
   "source": [
    "model_lr_balance.fit(features_downsampled, target_downsampled)\n",
    "predicted_valid_lr = model_lr_balance.predict(features_valid)\n",
    "\n",
    "print(\"F1:\", f1_score(target_valid, predicted_valid_lr))\n",
    "print('ROC AUC LR_1:', roc_auc_score(target_valid, model_lr_balance.predict_proba(features_valid)[:, 1]))"
   ]
  },
  {
   "cell_type": "code",
   "execution_count": 24,
   "metadata": {},
   "outputs": [
    {
     "name": "stdout",
     "output_type": "stream",
     "text": [
      "F1: 0.5112582781456954\n",
      "ROC AUC LR_1: 0.7706727379892981\n"
     ]
    }
   ],
   "source": [
    "model_lr_balance = LogisticRegression(random_state=12345, solver='liblinear', class_weight='balanced')\n",
    "model_lr_balance.fit(features_train, target_train)\n",
    "predicted_valid_lr = model_lr_balance.predict(features_valid)\n",
    "\n",
    "print(\"F1:\", f1_score(target_valid, predicted_valid_lr))\n",
    "print('ROC AUC LR_1:', roc_auc_score(target_valid, model_lr_balance.predict_proba(features_valid)[:, 1]))"
   ]
  },
  {
   "cell_type": "markdown",
   "metadata": {},
   "source": [
    "<div style=\"border:solid Blue 2px; padding: 40px\">\n",
    "    \n",
    "- Обучение Логистической модели на увеличенной выборке features_upsampled, при валидировании, дает 40% правильных ответов\n",
    "- На уменьшенной features_downsampled 41%\n",
    "- Баланс классов прописанный в атрибуте class_weight='balanced' значительно улучшает предсказание по сравнению с дредыдущими способами борьбы с дисбалансом и повышает качество модели до 51%"
   ]
  },
  {
   "cell_type": "markdown",
   "metadata": {},
   "source": [
    "***DecisionTreeClassifier***"
   ]
  },
  {
   "cell_type": "code",
   "execution_count": 25,
   "metadata": {},
   "outputs": [
    {
     "name": "stdout",
     "output_type": "stream",
     "text": [
      "F1: 0.482\n",
      "ROC AUC DTC: 0.8577149329111142\n"
     ]
    }
   ],
   "source": [
    "model_dt_balance = DecisionTreeClassifier(\n",
    "    criterion='entropy', \n",
    "    max_depth=7, \n",
    "    min_samples_split=26,\n",
    "    min_samples_leaf=9,    \n",
    ")\n",
    "model_dt_balance.fit(features_upsampled, target_upsampled)\n",
    "predicted_valid_dt = model_dt_balance.predict(features_valid)\n",
    "\n",
    "print(\"F1:\", f1_score(target_valid, predicted_valid_dt))\n",
    "print('ROC AUC DTC:', roc_auc_score(target_valid, model_dt_balance.predict_proba(features_valid)[:, 1]))"
   ]
  },
  {
   "cell_type": "markdown",
   "metadata": {},
   "source": [
    "После увеличения выборки f1 score cнизился\n"
   ]
  },
  {
   "cell_type": "code",
   "execution_count": 26,
   "metadata": {},
   "outputs": [
    {
     "name": "stdout",
     "output_type": "stream",
     "text": [
      "F1: 0.5044843049327354\n",
      "ROC AUC DTC: 0.8108297602675081\n"
     ]
    }
   ],
   "source": [
    "model_dt_balance.fit(features_downsampled, target_downsampled)\n",
    "predicted_valid_dt = model_dt_balance.predict(features_valid)\n",
    "\n",
    "print(\"F1:\", f1_score(target_valid, predicted_valid_dt))\n",
    "print('ROC AUC DTC:', roc_auc_score(target_valid, model_dt_balance.predict_proba(features_valid)[:, 1]))"
   ]
  },
  {
   "cell_type": "markdown",
   "metadata": {},
   "source": [
    "После уменишения выборки f1 score стал лучше"
   ]
  },
  {
   "cell_type": "code",
   "execution_count": 27,
   "metadata": {},
   "outputs": [
    {
     "name": "stdout",
     "output_type": "stream",
     "text": [
      "F1: 0.5437665782493369\n",
      "ROC AUC DTC: 0.8109742238453508\n"
     ]
    }
   ],
   "source": [
    "model_dt_balance = DecisionTreeClassifier(\n",
    "    criterion='entropy', \n",
    "    max_depth=7, \n",
    "    min_samples_split=26,\n",
    "    min_samples_leaf=9,\n",
    "    class_weight='balanced',\n",
    "    random_state=12345    \n",
    ")\n",
    "model_dt_balance.fit(features_downsampled, target_downsampled)\n",
    "predicted_valid_dt = model_dt_balance.predict(features_valid)\n",
    "\n",
    "print(\"F1:\", f1_score(target_valid, predicted_valid_dt))\n",
    "print('ROC AUC DTC:', roc_auc_score(target_valid, model_dt_balance.predict_proba(features_valid)[:, 1]))"
   ]
  },
  {
   "cell_type": "markdown",
   "metadata": {},
   "source": [
    "<div style=\"border:solid Blue 2px; padding: 40px\">     \n",
    "\n",
    "- Обучение Дерева решений на увеличенной выборке features_upsampled, при валидировании, дает 48% правильных ответов\n",
    "- На уменьшенной features_downsampled 50%\n",
    "- Баланс классов прописанный в атрибуте class_weight='balanced' и с обучением на downsample выборке значительно улучшает предсказание по сравнению с предыдущими способами борьбы с дисбалансом и повышает качество модели до 54%"
   ]
  },
  {
   "cell_type": "markdown",
   "metadata": {},
   "source": [
    "***RandomForestClassifier***"
   ]
  },
  {
   "cell_type": "code",
   "execution_count": 28,
   "metadata": {},
   "outputs": [
    {
     "name": "stdout",
     "output_type": "stream",
     "text": [
      "F1: 0.4883955600403633\n",
      "ROC AUC RF: 0.8670241658673015\n"
     ]
    }
   ],
   "source": [
    "model_rf_balanced = RandomForestClassifier(\n",
    "    criterion='gini', \n",
    "    n_estimators=50,\n",
    "    max_depth=8, \n",
    "    min_samples_leaf=8,\n",
    "    min_samples_split=6,\n",
    "    random_state=12345      \n",
    ")\n",
    "model_rf_balanced.fit(features_upsampled, target_upsampled)\n",
    "predicted_valid_rf = model_rf_balanced.predict(features_valid)\n",
    "\n",
    "print(\"F1:\", f1_score(target_valid, predicted_valid_rf))\n",
    "print('ROC AUC RF:', roc_auc_score(target_valid, model_rf_balanced.predict_proba(features_valid)[:, 1]))"
   ]
  },
  {
   "cell_type": "code",
   "execution_count": 29,
   "metadata": {},
   "outputs": [
    {
     "name": "stdout",
     "output_type": "stream",
     "text": [
      "F1: 0.47058823529411764\n",
      "ROC AUC RF: 0.8625014927903044\n"
     ]
    }
   ],
   "source": [
    "model_rf_balanced.fit(features_downsampled, target_downsampled)\n",
    "predicted_valid_rf = model_rf_balanced.predict(features_valid)\n",
    "\n",
    "print(\"F1:\", f1_score(target_valid, predicted_valid_rf))\n",
    "print('ROC AUC RF:', roc_auc_score(target_valid, model_rf_balanced.predict_proba(features_valid)[:, 1]))"
   ]
  },
  {
   "cell_type": "code",
   "execution_count": 30,
   "metadata": {},
   "outputs": [
    {
     "name": "stdout",
     "output_type": "stream",
     "text": [
      "F1: 0.639871382636656\n",
      "ROC AUC RF: 0.8703487543387228\n"
     ]
    }
   ],
   "source": [
    "model_rf_best = RandomForestClassifier(\n",
    "    criterion='gini',  \n",
    "    n_estimators=50,\n",
    "    max_depth=8, \n",
    "    min_samples_leaf=8,\n",
    "    min_samples_split=6,  \n",
    "    class_weight='balanced',\n",
    "    random_state=12345    \n",
    ")\n",
    "model_rf_best.fit(features_upsampled, target_upsampled)\n",
    "predicted_valid_rf = model_rf_best.predict(features_valid)\n",
    "\n",
    "print(\"F1:\", f1_score(target_valid, predicted_valid_rf))\n",
    "print('ROC AUC RF:', roc_auc_score(target_valid, model_rf_best.predict_proba(features_valid)[:, 1]))"
   ]
  },
  {
   "cell_type": "markdown",
   "metadata": {},
   "source": [
    "<div style=\"border:solid Blue 2px; padding: 40px\">    \n",
    "    \n",
    "- Обучение модели Случайного леса на увеличенной выборке features_upsampled, при валидировании, дает 48% правильных ответов, как и у дерева\n",
    "- На уменьшенной features_downsampled 47%\n",
    "- Баланс классов прописанный в атрибуте class_weight='balanced' и обучение на upsampled выборке значительно улучшает предсказание по сравнению с предыдущими способами борьбы с дисбалансом и повышает качество модели до 63%"
   ]
  },
  {
   "cell_type": "markdown",
   "metadata": {},
   "source": [
    "## Тестирование модели"
   ]
  },
  {
   "cell_type": "markdown",
   "metadata": {},
   "source": [
    "***Тестируем RandomForest***"
   ]
  },
  {
   "cell_type": "code",
   "execution_count": 31,
   "metadata": {},
   "outputs": [],
   "source": [
    "predict_test = model_rf_best.predict(features_test)"
   ]
  },
  {
   "cell_type": "code",
   "execution_count": 32,
   "metadata": {},
   "outputs": [
    {
     "name": "stdout",
     "output_type": "stream",
     "text": [
      "F1: 0.6341463414634146\n",
      "ROC AUC RF: 0.8589445747624203\n"
     ]
    }
   ],
   "source": [
    "print(\"F1:\", f1_score(target_test, predict_test))\n",
    "print('ROC AUC RF:', roc_auc_score(target_test, model_rf_best.predict_proba(features_test)[:, 1]))"
   ]
  },
  {
   "cell_type": "markdown",
   "metadata": {},
   "source": [
    "<div style=\"border:solid Blue 2px; padding: 40px\">\n",
    "<h1>  Итоговый комментарий </h1>\n",
    "\n",
    "- Получилась хорошая модель с требуемым значением, цель довести метрику до 0.59 - получилось 0.63, а также метрика roc_auc 0.85- высокий показатель.\n",
    "\n",
    "- Выполнена предподготовка данных, заполнены пропуски в данных tenure\n",
    "\n",
    "- Выполнена разбивка данных на тренировочную, валидационную и тестовую выборки, а далее преобразование данных (что-бы избежать утечки).\n",
    "    \n",
    "- Обучено три модели LogisticRegression, DecisionTreeClassifier, RandomForestClassifier   \n",
    "    \n",
    "- Применение класса GridSearchCV для подбора оптимальных параметров модели\n",
    "    \n",
    "- Изучены метрики F1 score и auc_roc в сравнении\n",
    "- Реализовано три метода борьбы с дисбалансом downsampling, class_weight и upsampling\n",
    "    \n",
    "- В итоге лучшей моделью стал ***RandomForest***, на нем была обучена тестовая выборка где финальная метрика f1 была равна 0.63, а auc_roc 0.85."
   ]
  }
 ],
 "metadata": {
  "ExecuteTimeLog": [
   {
    "duration": 1119,
    "start_time": "2022-11-29T15:34:10.341Z"
   },
   {
    "duration": 83,
    "start_time": "2022-11-29T15:35:21.752Z"
   },
   {
    "duration": 95,
    "start_time": "2022-11-29T15:35:30.634Z"
   },
   {
    "duration": 8,
    "start_time": "2022-11-29T15:35:35.774Z"
   },
   {
    "duration": 14,
    "start_time": "2022-11-29T15:35:48.379Z"
   },
   {
    "duration": 15,
    "start_time": "2022-11-29T15:39:39.844Z"
   },
   {
    "duration": 12,
    "start_time": "2022-11-29T15:44:08.818Z"
   },
   {
    "duration": 41,
    "start_time": "2022-11-29T15:44:21.877Z"
   },
   {
    "duration": 7,
    "start_time": "2022-11-29T15:44:37.357Z"
   },
   {
    "duration": 6,
    "start_time": "2022-11-29T15:45:54.214Z"
   },
   {
    "duration": 6,
    "start_time": "2022-11-29T15:46:18.691Z"
   },
   {
    "duration": 45,
    "start_time": "2022-11-29T17:50:31.543Z"
   },
   {
    "duration": 1166,
    "start_time": "2022-11-29T17:50:36.029Z"
   },
   {
    "duration": 218,
    "start_time": "2022-11-29T17:50:37.784Z"
   },
   {
    "duration": 8,
    "start_time": "2022-11-29T17:50:38.496Z"
   },
   {
    "duration": 17,
    "start_time": "2022-11-29T17:50:39.046Z"
   },
   {
    "duration": 7,
    "start_time": "2022-11-29T17:50:42.260Z"
   },
   {
    "duration": 5,
    "start_time": "2022-11-29T17:50:45.109Z"
   },
   {
    "duration": 5,
    "start_time": "2022-11-29T17:53:37.691Z"
   },
   {
    "duration": 4,
    "start_time": "2022-11-29T17:53:50.943Z"
   },
   {
    "duration": 4,
    "start_time": "2022-11-29T17:53:59.836Z"
   },
   {
    "duration": 3,
    "start_time": "2022-11-29T17:56:04.654Z"
   },
   {
    "duration": 17,
    "start_time": "2022-11-29T17:56:14.263Z"
   },
   {
    "duration": 191,
    "start_time": "2022-11-29T17:57:17.908Z"
   },
   {
    "duration": 17,
    "start_time": "2022-11-29T17:57:26.531Z"
   },
   {
    "duration": 4,
    "start_time": "2022-11-29T17:58:20.065Z"
   },
   {
    "duration": 6,
    "start_time": "2022-11-29T17:58:23.873Z"
   },
   {
    "duration": 4,
    "start_time": "2022-11-29T17:58:44.372Z"
   },
   {
    "duration": 6,
    "start_time": "2022-11-29T17:58:46.474Z"
   },
   {
    "duration": 6,
    "start_time": "2022-11-29T17:58:59.498Z"
   },
   {
    "duration": 97,
    "start_time": "2022-11-29T18:00:17.484Z"
   },
   {
    "duration": 66,
    "start_time": "2022-11-29T18:00:30.355Z"
   },
   {
    "duration": 2,
    "start_time": "2022-11-29T18:01:00.438Z"
   },
   {
    "duration": 3,
    "start_time": "2022-11-29T18:01:02.341Z"
   },
   {
    "duration": 20,
    "start_time": "2022-11-29T18:01:35.146Z"
   },
   {
    "duration": 3,
    "start_time": "2022-11-29T18:02:02.138Z"
   },
   {
    "duration": 37,
    "start_time": "2022-11-29T18:02:02.600Z"
   },
   {
    "duration": 4,
    "start_time": "2022-11-29T18:02:03.116Z"
   },
   {
    "duration": 14,
    "start_time": "2022-11-29T18:02:03.667Z"
   },
   {
    "duration": 8,
    "start_time": "2022-11-29T18:02:04.228Z"
   },
   {
    "duration": 5,
    "start_time": "2022-11-29T18:02:04.995Z"
   },
   {
    "duration": 14,
    "start_time": "2022-11-29T18:02:06.535Z"
   },
   {
    "duration": 8,
    "start_time": "2022-11-29T18:03:18.778Z"
   },
   {
    "duration": 19,
    "start_time": "2022-11-29T18:03:32.228Z"
   },
   {
    "duration": 8,
    "start_time": "2022-11-29T18:04:33.067Z"
   },
   {
    "duration": 15,
    "start_time": "2022-11-29T18:04:36.569Z"
   },
   {
    "duration": 6,
    "start_time": "2022-11-29T18:04:56.137Z"
   },
   {
    "duration": 9,
    "start_time": "2022-11-29T18:06:08.427Z"
   },
   {
    "duration": 16,
    "start_time": "2022-11-29T18:06:14.807Z"
   },
   {
    "duration": 88,
    "start_time": "2022-11-29T18:07:25.537Z"
   },
   {
    "duration": 8,
    "start_time": "2022-11-29T18:08:05.647Z"
   },
   {
    "duration": 9,
    "start_time": "2022-11-29T18:08:07.830Z"
   },
   {
    "duration": 84,
    "start_time": "2022-11-29T18:08:13.527Z"
   },
   {
    "duration": 15,
    "start_time": "2022-11-29T18:08:31.106Z"
   },
   {
    "duration": 8,
    "start_time": "2022-11-29T18:09:30.171Z"
   },
   {
    "duration": 11,
    "start_time": "2022-11-29T18:09:33.136Z"
   },
   {
    "duration": 27,
    "start_time": "2022-11-29T18:09:35.190Z"
   },
   {
    "duration": 81,
    "start_time": "2022-11-29T18:09:38.320Z"
   },
   {
    "duration": 8,
    "start_time": "2022-11-29T18:09:52.717Z"
   },
   {
    "duration": 10,
    "start_time": "2022-11-29T18:09:55.936Z"
   },
   {
    "duration": 3,
    "start_time": "2022-11-29T18:10:03.496Z"
   },
   {
    "duration": 39,
    "start_time": "2022-11-29T18:10:04.047Z"
   },
   {
    "duration": 3,
    "start_time": "2022-11-29T18:10:04.418Z"
   },
   {
    "duration": 14,
    "start_time": "2022-11-29T18:10:04.735Z"
   },
   {
    "duration": 7,
    "start_time": "2022-11-29T18:10:05.160Z"
   },
   {
    "duration": 5,
    "start_time": "2022-11-29T18:10:05.554Z"
   },
   {
    "duration": 7,
    "start_time": "2022-11-29T18:10:05.958Z"
   },
   {
    "duration": 9,
    "start_time": "2022-11-29T18:10:07.434Z"
   },
   {
    "duration": 17,
    "start_time": "2022-11-29T18:10:08.482Z"
   },
   {
    "duration": 117,
    "start_time": "2022-11-29T18:10:10.414Z"
   },
   {
    "duration": 6,
    "start_time": "2022-11-29T18:10:49.504Z"
   },
   {
    "duration": 8,
    "start_time": "2022-11-29T18:10:50.061Z"
   },
   {
    "duration": 6,
    "start_time": "2022-11-29T18:10:50.641Z"
   },
   {
    "duration": 86,
    "start_time": "2022-11-29T18:10:51.282Z"
   },
   {
    "duration": 14,
    "start_time": "2022-11-29T18:11:09.261Z"
   },
   {
    "duration": 84,
    "start_time": "2022-11-29T18:11:10.356Z"
   },
   {
    "duration": 20,
    "start_time": "2022-11-29T18:11:32.305Z"
   },
   {
    "duration": 7,
    "start_time": "2022-11-29T18:11:39.261Z"
   },
   {
    "duration": 4,
    "start_time": "2022-11-29T18:11:45.765Z"
   },
   {
    "duration": 17,
    "start_time": "2022-11-29T18:11:47.014Z"
   },
   {
    "duration": 6,
    "start_time": "2022-11-29T18:11:47.565Z"
   },
   {
    "duration": 13,
    "start_time": "2022-11-29T18:12:28.230Z"
   },
   {
    "duration": 6,
    "start_time": "2022-11-29T18:12:30.762Z"
   },
   {
    "duration": 86,
    "start_time": "2022-11-29T18:12:58.972Z"
   },
   {
    "duration": 5,
    "start_time": "2022-11-29T18:13:34.521Z"
   },
   {
    "duration": 5,
    "start_time": "2022-11-29T18:13:45.060Z"
   },
   {
    "duration": 5,
    "start_time": "2022-11-29T18:13:48.946Z"
   },
   {
    "duration": 5,
    "start_time": "2022-11-29T18:13:50.644Z"
   },
   {
    "duration": 6,
    "start_time": "2022-11-29T18:13:52.119Z"
   },
   {
    "duration": 3,
    "start_time": "2022-11-29T18:16:36.852Z"
   },
   {
    "duration": 41,
    "start_time": "2022-11-29T18:16:36.857Z"
   },
   {
    "duration": 4,
    "start_time": "2022-11-29T18:16:36.901Z"
   },
   {
    "duration": 16,
    "start_time": "2022-11-29T18:16:36.907Z"
   },
   {
    "duration": 12,
    "start_time": "2022-11-29T18:16:36.925Z"
   },
   {
    "duration": 21,
    "start_time": "2022-11-29T18:16:36.939Z"
   },
   {
    "duration": 8,
    "start_time": "2022-11-29T18:16:36.962Z"
   },
   {
    "duration": 16,
    "start_time": "2022-11-29T18:16:36.972Z"
   },
   {
    "duration": 7,
    "start_time": "2022-11-29T18:16:36.990Z"
   },
   {
    "duration": 101,
    "start_time": "2022-11-29T18:16:36.999Z"
   },
   {
    "duration": 14,
    "start_time": "2022-11-29T18:17:49.618Z"
   },
   {
    "duration": 8,
    "start_time": "2022-11-29T18:18:51.832Z"
   },
   {
    "duration": 5,
    "start_time": "2022-11-29T18:18:59.302Z"
   },
   {
    "duration": 16,
    "start_time": "2022-11-29T18:19:05.256Z"
   },
   {
    "duration": 6,
    "start_time": "2022-11-29T18:19:13.004Z"
   },
   {
    "duration": 4,
    "start_time": "2022-11-29T18:19:30.445Z"
   },
   {
    "duration": 6,
    "start_time": "2022-11-29T18:19:39.529Z"
   },
   {
    "duration": 5,
    "start_time": "2022-11-29T18:19:44.322Z"
   },
   {
    "duration": 12,
    "start_time": "2022-11-29T18:19:53.900Z"
   },
   {
    "duration": 15,
    "start_time": "2022-11-29T18:19:59.755Z"
   },
   {
    "duration": 14,
    "start_time": "2022-11-29T18:20:18.887Z"
   },
   {
    "duration": 14,
    "start_time": "2022-11-29T18:20:21.104Z"
   },
   {
    "duration": 6,
    "start_time": "2022-11-29T18:20:26.086Z"
   },
   {
    "duration": 134,
    "start_time": "2022-11-29T18:20:35.321Z"
   },
   {
    "duration": 11,
    "start_time": "2022-11-29T18:21:15.669Z"
   },
   {
    "duration": 6,
    "start_time": "2022-11-29T18:24:54.827Z"
   },
   {
    "duration": 172,
    "start_time": "2022-11-29T18:25:34.289Z"
   },
   {
    "duration": 157,
    "start_time": "2022-11-29T18:27:00.398Z"
   },
   {
    "duration": 80,
    "start_time": "2022-11-29T18:30:04.844Z"
   },
   {
    "duration": 18,
    "start_time": "2022-11-29T18:30:50.650Z"
   },
   {
    "duration": 636,
    "start_time": "2022-11-29T18:30:59.370Z"
   },
   {
    "duration": 3,
    "start_time": "2022-11-29T18:36:56.726Z"
   },
   {
    "duration": 3,
    "start_time": "2022-11-29T18:43:39.030Z"
   },
   {
    "duration": 62539,
    "start_time": "2022-11-29T18:46:13.198Z"
   },
   {
    "duration": 67411,
    "start_time": "2022-11-29T18:47:53.146Z"
   },
   {
    "duration": 6,
    "start_time": "2022-11-29T18:49:05.620Z"
   },
   {
    "duration": 36,
    "start_time": "2022-11-29T18:52:32.101Z"
   },
   {
    "duration": 7,
    "start_time": "2022-11-29T18:54:06.788Z"
   },
   {
    "duration": 6,
    "start_time": "2022-11-29T18:58:08.786Z"
   },
   {
    "duration": 181,
    "start_time": "2022-11-29T18:58:20.971Z"
   },
   {
    "duration": 15,
    "start_time": "2022-11-29T18:58:22.895Z"
   },
   {
    "duration": 3,
    "start_time": "2022-11-29T18:58:53.464Z"
   },
   {
    "duration": 1163,
    "start_time": "2022-12-01T12:09:08.766Z"
   },
   {
    "duration": 84,
    "start_time": "2022-12-01T12:09:11.995Z"
   },
   {
    "duration": 8,
    "start_time": "2022-12-01T12:09:12.172Z"
   },
   {
    "duration": 17,
    "start_time": "2022-12-01T12:09:12.353Z"
   },
   {
    "duration": 8,
    "start_time": "2022-12-01T12:09:12.510Z"
   },
   {
    "duration": 5,
    "start_time": "2022-12-01T12:09:15.663Z"
   },
   {
    "duration": 14,
    "start_time": "2022-12-01T12:09:18.150Z"
   },
   {
    "duration": 14,
    "start_time": "2022-12-01T12:09:20.445Z"
   },
   {
    "duration": 15,
    "start_time": "2022-12-01T12:09:34.173Z"
   },
   {
    "duration": 21,
    "start_time": "2022-12-01T12:09:35.228Z"
   },
   {
    "duration": 139,
    "start_time": "2022-12-01T12:09:40.818Z"
   },
   {
    "duration": 144,
    "start_time": "2022-12-01T12:09:58.154Z"
   },
   {
    "duration": 1089,
    "start_time": "2022-12-01T15:38:25.662Z"
   },
   {
    "duration": 104,
    "start_time": "2022-12-01T15:38:28.000Z"
   },
   {
    "duration": 9,
    "start_time": "2022-12-01T15:38:28.455Z"
   },
   {
    "duration": 21,
    "start_time": "2022-12-01T15:38:33.490Z"
   },
   {
    "duration": 7,
    "start_time": "2022-12-01T15:38:35.759Z"
   },
   {
    "duration": 5,
    "start_time": "2022-12-01T15:38:58.178Z"
   },
   {
    "duration": 6,
    "start_time": "2022-12-01T15:39:07.594Z"
   },
   {
    "duration": 16,
    "start_time": "2022-12-01T15:39:17.342Z"
   },
   {
    "duration": 18,
    "start_time": "2022-12-01T15:39:19.469Z"
   },
   {
    "duration": 558,
    "start_time": "2022-12-01T15:39:54.337Z"
   },
   {
    "duration": 3,
    "start_time": "2022-12-01T15:41:36.503Z"
   },
   {
    "duration": 68525,
    "start_time": "2022-12-01T15:41:53.487Z"
   },
   {
    "duration": 6,
    "start_time": "2022-12-01T15:43:08.618Z"
   },
   {
    "duration": 41,
    "start_time": "2022-12-01T15:44:05.147Z"
   },
   {
    "duration": 6,
    "start_time": "2022-12-01T15:44:13.932Z"
   },
   {
    "duration": 50,
    "start_time": "2022-12-01T15:44:30.892Z"
   },
   {
    "duration": 6,
    "start_time": "2022-12-01T15:44:35.210Z"
   },
   {
    "duration": 75,
    "start_time": "2022-12-01T15:45:39.265Z"
   },
   {
    "duration": 257,
    "start_time": "2022-12-01T15:45:48.542Z"
   },
   {
    "duration": 4,
    "start_time": "2022-12-01T15:49:46.446Z"
   },
   {
    "duration": 128484,
    "start_time": "2022-12-01T15:50:05.774Z"
   },
   {
    "duration": 36,
    "start_time": "2022-12-01T15:53:36.720Z"
   },
   {
    "duration": 25,
    "start_time": "2022-12-01T15:54:01.966Z"
   },
   {
    "duration": 22074,
    "start_time": "2022-12-01T15:54:10.066Z"
   },
   {
    "duration": 196959,
    "start_time": "2022-12-01T15:55:06.000Z"
   },
   {
    "duration": 4,
    "start_time": "2022-12-01T15:59:07.788Z"
   },
   {
    "duration": 4,
    "start_time": "2022-12-01T15:59:28.341Z"
   },
   {
    "duration": 46,
    "start_time": "2022-12-01T16:01:23.880Z"
   },
   {
    "duration": 31,
    "start_time": "2022-12-01T16:01:31.278Z"
   },
   {
    "duration": 48,
    "start_time": "2022-12-01T16:01:38.758Z"
   },
   {
    "duration": 42,
    "start_time": "2022-12-01T16:08:29.882Z"
   },
   {
    "duration": 19,
    "start_time": "2022-12-01T16:11:57.998Z"
   },
   {
    "duration": 73,
    "start_time": "2022-12-01T16:13:12.000Z"
   },
   {
    "duration": 42,
    "start_time": "2022-12-01T16:17:14.159Z"
   },
   {
    "duration": 1033,
    "start_time": "2022-12-03T16:53:40.723Z"
   },
   {
    "duration": 160,
    "start_time": "2022-12-03T16:53:41.758Z"
   },
   {
    "duration": 9,
    "start_time": "2022-12-03T16:53:41.919Z"
   },
   {
    "duration": 17,
    "start_time": "2022-12-03T16:53:41.930Z"
   },
   {
    "duration": 8,
    "start_time": "2022-12-03T16:53:42.032Z"
   },
   {
    "duration": 4,
    "start_time": "2022-12-03T16:53:42.586Z"
   },
   {
    "duration": 16,
    "start_time": "2022-12-03T16:53:42.764Z"
   },
   {
    "duration": 15,
    "start_time": "2022-12-03T16:53:43.162Z"
   },
   {
    "duration": 20,
    "start_time": "2022-12-03T16:53:44.065Z"
   },
   {
    "duration": 664733,
    "start_time": "2022-12-03T16:53:53.610Z"
   },
   {
    "duration": 12,
    "start_time": "2022-12-03T17:04:58.347Z"
   },
   {
    "duration": 94635,
    "start_time": "2022-12-03T17:05:55.266Z"
   },
   {
    "duration": 4,
    "start_time": "2022-12-03T17:07:29.903Z"
   },
   {
    "duration": 114,
    "start_time": "2022-12-03T17:08:57.673Z"
   },
   {
    "duration": 5,
    "start_time": "2022-12-03T17:10:38.182Z"
   },
   {
    "duration": 4,
    "start_time": "2022-12-03T17:22:36.896Z"
   },
   {
    "duration": 35,
    "start_time": "2022-12-03T17:23:22.200Z"
   },
   {
    "duration": 91,
    "start_time": "2022-12-03T17:23:52.198Z"
   },
   {
    "duration": 16,
    "start_time": "2022-12-03T17:25:08.944Z"
   },
   {
    "duration": 47,
    "start_time": "2022-12-03T17:25:15.727Z"
   },
   {
    "duration": 183,
    "start_time": "2022-12-03T17:26:24.999Z"
   },
   {
    "duration": 234,
    "start_time": "2022-12-03T17:26:44.346Z"
   },
   {
    "duration": 19,
    "start_time": "2022-12-03T17:27:10.253Z"
   },
   {
    "duration": 59,
    "start_time": "2022-12-03T17:28:43.144Z"
   },
   {
    "duration": 69,
    "start_time": "2022-12-03T17:28:59.473Z"
   },
   {
    "duration": 191,
    "start_time": "2022-12-03T17:29:46.832Z"
   },
   {
    "duration": 8,
    "start_time": "2022-12-03T17:40:49.153Z"
   },
   {
    "duration": 4,
    "start_time": "2022-12-03T17:41:14.670Z"
   },
   {
    "duration": 3,
    "start_time": "2022-12-03T17:41:21.707Z"
   },
   {
    "duration": 4,
    "start_time": "2022-12-03T17:41:30.606Z"
   },
   {
    "duration": 4,
    "start_time": "2022-12-03T17:41:43.404Z"
   },
   {
    "duration": 4,
    "start_time": "2022-12-03T17:42:22.855Z"
   },
   {
    "duration": 76,
    "start_time": "2022-12-03T17:43:08.942Z"
   },
   {
    "duration": 189,
    "start_time": "2022-12-03T17:43:56.097Z"
   },
   {
    "duration": 75,
    "start_time": "2022-12-03T17:45:05.931Z"
   },
   {
    "duration": 61,
    "start_time": "2022-12-03T17:45:57.497Z"
   },
   {
    "duration": 1133,
    "start_time": "2022-12-06T07:25:10.469Z"
   },
   {
    "duration": 87,
    "start_time": "2022-12-06T07:25:12.010Z"
   },
   {
    "duration": 8,
    "start_time": "2022-12-06T07:25:12.209Z"
   },
   {
    "duration": 15,
    "start_time": "2022-12-06T07:25:12.409Z"
   },
   {
    "duration": 7,
    "start_time": "2022-12-06T07:25:12.984Z"
   },
   {
    "duration": 4,
    "start_time": "2022-12-06T07:25:13.524Z"
   },
   {
    "duration": 15,
    "start_time": "2022-12-06T07:25:14.359Z"
   },
   {
    "duration": 16,
    "start_time": "2022-12-06T07:25:14.502Z"
   },
   {
    "duration": 46,
    "start_time": "2022-12-06T07:25:16.549Z"
   },
   {
    "duration": 278,
    "start_time": "2022-12-06T07:25:21.026Z"
   },
   {
    "duration": 78,
    "start_time": "2022-12-06T08:35:18.520Z"
   },
   {
    "duration": 10,
    "start_time": "2022-12-06T08:46:56.952Z"
   },
   {
    "duration": 19,
    "start_time": "2022-12-06T08:47:02.989Z"
   },
   {
    "duration": 9,
    "start_time": "2022-12-06T08:47:08.406Z"
   },
   {
    "duration": 4,
    "start_time": "2022-12-06T08:47:12.038Z"
   },
   {
    "duration": 59,
    "start_time": "2022-12-06T08:47:38.567Z"
   },
   {
    "duration": 52,
    "start_time": "2022-12-06T08:53:58.882Z"
   },
   {
    "duration": 4,
    "start_time": "2022-12-06T11:04:01.687Z"
   },
   {
    "duration": 1260,
    "start_time": "2022-12-06T16:22:57.077Z"
   },
   {
    "duration": 5,
    "start_time": "2022-12-06T16:23:18.387Z"
   },
   {
    "duration": 12,
    "start_time": "2022-12-06T16:36:50.885Z"
   },
   {
    "duration": 10,
    "start_time": "2022-12-06T16:37:30.410Z"
   },
   {
    "duration": 13,
    "start_time": "2022-12-06T16:37:42.507Z"
   },
   {
    "duration": 101,
    "start_time": "2022-12-06T16:37:49.426Z"
   },
   {
    "duration": 9,
    "start_time": "2022-12-06T16:37:49.648Z"
   },
   {
    "duration": 16,
    "start_time": "2022-12-06T16:37:49.848Z"
   },
   {
    "duration": 9,
    "start_time": "2022-12-06T16:37:50.047Z"
   },
   {
    "duration": 4,
    "start_time": "2022-12-06T16:37:52.148Z"
   },
   {
    "duration": 16,
    "start_time": "2022-12-06T16:37:52.352Z"
   },
   {
    "duration": 16,
    "start_time": "2022-12-06T16:37:52.974Z"
   },
   {
    "duration": 128,
    "start_time": "2022-12-06T16:38:09.509Z"
   },
   {
    "duration": 4,
    "start_time": "2022-12-06T16:38:42.417Z"
   },
   {
    "duration": 14,
    "start_time": "2022-12-06T16:38:43.101Z"
   },
   {
    "duration": 15,
    "start_time": "2022-12-06T16:38:43.900Z"
   },
   {
    "duration": 102,
    "start_time": "2022-12-06T16:38:45.835Z"
   },
   {
    "duration": 30,
    "start_time": "2022-12-06T16:39:30.327Z"
   },
   {
    "duration": 7,
    "start_time": "2022-12-06T16:39:38.779Z"
   },
   {
    "duration": 17,
    "start_time": "2022-12-06T16:39:41.454Z"
   },
   {
    "duration": 14,
    "start_time": "2022-12-06T16:40:26.317Z"
   },
   {
    "duration": 3,
    "start_time": "2022-12-06T16:41:14.912Z"
   },
   {
    "duration": 46,
    "start_time": "2022-12-06T16:41:46.954Z"
   },
   {
    "duration": 3,
    "start_time": "2022-12-07T12:22:42.370Z"
   },
   {
    "duration": 53,
    "start_time": "2022-12-07T12:30:38.891Z"
   },
   {
    "duration": 1129,
    "start_time": "2022-12-07T12:30:47.391Z"
   },
   {
    "duration": 74,
    "start_time": "2022-12-07T12:31:26.264Z"
   },
   {
    "duration": 11,
    "start_time": "2022-12-07T12:31:29.648Z"
   },
   {
    "duration": 86,
    "start_time": "2022-12-07T12:31:35.913Z"
   },
   {
    "duration": 8,
    "start_time": "2022-12-07T12:31:36.229Z"
   },
   {
    "duration": 20,
    "start_time": "2022-12-07T12:31:36.603Z"
   },
   {
    "duration": 11,
    "start_time": "2022-12-07T12:31:37.132Z"
   },
   {
    "duration": 5,
    "start_time": "2022-12-07T12:31:37.645Z"
   },
   {
    "duration": 21,
    "start_time": "2022-12-07T12:31:39.647Z"
   },
   {
    "duration": 3,
    "start_time": "2022-12-07T12:31:40.427Z"
   },
   {
    "duration": 503,
    "start_time": "2022-12-07T12:31:41.681Z"
   },
   {
    "duration": 25,
    "start_time": "2022-12-07T12:31:50.179Z"
   },
   {
    "duration": 95,
    "start_time": "2022-12-07T12:31:54.694Z"
   },
   {
    "duration": 49,
    "start_time": "2022-12-07T12:31:56.780Z"
   },
   {
    "duration": 4,
    "start_time": "2022-12-07T12:32:32.358Z"
   },
   {
    "duration": 53,
    "start_time": "2022-12-07T12:32:42.253Z"
   },
   {
    "duration": 126,
    "start_time": "2022-12-07T12:32:49.556Z"
   },
   {
    "duration": 77,
    "start_time": "2022-12-07T12:34:25.036Z"
   },
   {
    "duration": 69,
    "start_time": "2022-12-07T12:34:50.973Z"
   },
   {
    "duration": 80,
    "start_time": "2022-12-07T12:34:58.822Z"
   },
   {
    "duration": 60,
    "start_time": "2022-12-07T12:35:17.071Z"
   },
   {
    "duration": 59,
    "start_time": "2022-12-07T12:35:37.433Z"
   },
   {
    "duration": 189,
    "start_time": "2022-12-07T12:35:42.694Z"
   },
   {
    "duration": 181,
    "start_time": "2022-12-07T12:36:43.162Z"
   },
   {
    "duration": 204,
    "start_time": "2022-12-07T12:36:47.174Z"
   },
   {
    "duration": 49,
    "start_time": "2022-12-07T12:37:13.587Z"
   },
   {
    "duration": 72,
    "start_time": "2022-12-07T12:37:22.079Z"
   },
   {
    "duration": 134,
    "start_time": "2022-12-07T12:41:50.549Z"
   },
   {
    "duration": 69,
    "start_time": "2022-12-07T12:44:03.315Z"
   },
   {
    "duration": 46,
    "start_time": "2022-12-07T12:44:31.887Z"
   },
   {
    "duration": 99,
    "start_time": "2022-12-07T12:45:48.221Z"
   },
   {
    "duration": 4,
    "start_time": "2022-12-07T12:46:11.567Z"
   },
   {
    "duration": 38,
    "start_time": "2022-12-07T12:46:12.074Z"
   },
   {
    "duration": 4,
    "start_time": "2022-12-07T12:46:12.367Z"
   },
   {
    "duration": 13,
    "start_time": "2022-12-07T12:46:12.625Z"
   },
   {
    "duration": 8,
    "start_time": "2022-12-07T12:46:13.199Z"
   },
   {
    "duration": 4,
    "start_time": "2022-12-07T12:46:15.493Z"
   },
   {
    "duration": 14,
    "start_time": "2022-12-07T12:46:15.769Z"
   },
   {
    "duration": 3,
    "start_time": "2022-12-07T12:46:17.182Z"
   },
   {
    "duration": 41,
    "start_time": "2022-12-07T12:48:03.437Z"
   },
   {
    "duration": 47,
    "start_time": "2022-12-07T12:49:19.418Z"
   },
   {
    "duration": 114,
    "start_time": "2022-12-07T12:50:10.563Z"
   },
   {
    "duration": 3356,
    "start_time": "2022-12-07T12:51:04.034Z"
   },
   {
    "duration": 432,
    "start_time": "2022-12-07T12:51:29.353Z"
   },
   {
    "duration": 194,
    "start_time": "2022-12-07T12:51:49.890Z"
   },
   {
    "duration": 59,
    "start_time": "2022-12-07T12:53:27.359Z"
   },
   {
    "duration": 4,
    "start_time": "2022-12-07T12:54:15.183Z"
   },
   {
    "duration": 50,
    "start_time": "2022-12-07T12:54:15.189Z"
   },
   {
    "duration": 4,
    "start_time": "2022-12-07T12:54:15.242Z"
   },
   {
    "duration": 30,
    "start_time": "2022-12-07T12:54:15.248Z"
   },
   {
    "duration": 11,
    "start_time": "2022-12-07T12:54:15.280Z"
   },
   {
    "duration": 11,
    "start_time": "2022-12-07T12:54:15.293Z"
   },
   {
    "duration": 21,
    "start_time": "2022-12-07T12:54:15.307Z"
   },
   {
    "duration": 3,
    "start_time": "2022-12-07T12:54:15.329Z"
   },
   {
    "duration": 1652,
    "start_time": "2022-12-07T12:54:15.334Z"
   },
   {
    "duration": 289,
    "start_time": "2022-12-07T12:54:16.988Z"
   },
   {
    "duration": 18078,
    "start_time": "2022-12-07T12:54:17.280Z"
   },
   {
    "duration": 9,
    "start_time": "2022-12-07T12:54:35.360Z"
   },
   {
    "duration": 0,
    "start_time": "2022-12-07T12:54:35.371Z"
   },
   {
    "duration": 0,
    "start_time": "2022-12-07T12:54:35.372Z"
   },
   {
    "duration": 0,
    "start_time": "2022-12-07T12:54:35.373Z"
   },
   {
    "duration": 0,
    "start_time": "2022-12-07T12:54:35.374Z"
   },
   {
    "duration": 0,
    "start_time": "2022-12-07T12:54:35.375Z"
   },
   {
    "duration": 0,
    "start_time": "2022-12-07T12:54:35.377Z"
   },
   {
    "duration": 0,
    "start_time": "2022-12-07T12:54:35.378Z"
   },
   {
    "duration": 0,
    "start_time": "2022-12-07T12:54:35.380Z"
   },
   {
    "duration": 0,
    "start_time": "2022-12-07T12:54:35.382Z"
   },
   {
    "duration": 0,
    "start_time": "2022-12-07T12:54:35.385Z"
   },
   {
    "duration": 0,
    "start_time": "2022-12-07T12:54:35.386Z"
   },
   {
    "duration": 0,
    "start_time": "2022-12-07T12:54:35.387Z"
   },
   {
    "duration": 0,
    "start_time": "2022-12-07T12:54:35.388Z"
   },
   {
    "duration": 0,
    "start_time": "2022-12-07T12:54:35.389Z"
   },
   {
    "duration": 0,
    "start_time": "2022-12-07T12:54:35.390Z"
   },
   {
    "duration": 0,
    "start_time": "2022-12-07T12:54:35.392Z"
   },
   {
    "duration": 0,
    "start_time": "2022-12-07T12:54:35.393Z"
   },
   {
    "duration": 0,
    "start_time": "2022-12-07T12:54:35.394Z"
   },
   {
    "duration": 0,
    "start_time": "2022-12-07T12:54:35.395Z"
   },
   {
    "duration": 1091,
    "start_time": "2022-12-07T12:55:47.300Z"
   },
   {
    "duration": 42,
    "start_time": "2022-12-07T12:55:48.393Z"
   },
   {
    "duration": 9,
    "start_time": "2022-12-07T12:55:48.437Z"
   },
   {
    "duration": 19,
    "start_time": "2022-12-07T12:55:48.448Z"
   },
   {
    "duration": 8,
    "start_time": "2022-12-07T12:55:48.469Z"
   },
   {
    "duration": 14,
    "start_time": "2022-12-07T12:55:48.478Z"
   },
   {
    "duration": 18,
    "start_time": "2022-12-07T12:55:48.493Z"
   },
   {
    "duration": 2,
    "start_time": "2022-12-07T12:55:48.513Z"
   },
   {
    "duration": 263,
    "start_time": "2022-12-07T12:55:48.517Z"
   },
   {
    "duration": 26,
    "start_time": "2022-12-07T12:55:48.875Z"
   },
   {
    "duration": 69603,
    "start_time": "2022-12-07T12:55:48.903Z"
   },
   {
    "duration": 6,
    "start_time": "2022-12-07T12:56:58.507Z"
   },
   {
    "duration": 64,
    "start_time": "2022-12-07T12:56:58.514Z"
   },
   {
    "duration": 5,
    "start_time": "2022-12-07T12:56:58.580Z"
   },
   {
    "duration": 46,
    "start_time": "2022-12-07T12:56:58.587Z"
   },
   {
    "duration": 94694,
    "start_time": "2022-12-07T12:56:58.634Z"
   },
   {
    "duration": 3,
    "start_time": "2022-12-07T12:58:33.330Z"
   },
   {
    "duration": 123,
    "start_time": "2022-12-07T12:58:33.335Z"
   },
   {
    "duration": 5,
    "start_time": "2022-12-07T12:58:33.460Z"
   },
   {
    "duration": 116,
    "start_time": "2022-12-07T12:58:33.466Z"
   },
   {
    "duration": 19,
    "start_time": "2022-12-07T12:58:33.584Z"
   },
   {
    "duration": 274,
    "start_time": "2022-12-07T12:58:33.605Z"
   },
   {
    "duration": 196,
    "start_time": "2022-12-07T12:58:33.881Z"
   },
   {
    "duration": 149,
    "start_time": "2022-12-07T12:58:34.082Z"
   },
   {
    "duration": 77,
    "start_time": "2022-12-07T12:58:34.233Z"
   },
   {
    "duration": 109,
    "start_time": "2022-12-07T12:58:34.312Z"
   },
   {
    "duration": 0,
    "start_time": "2022-12-07T12:58:34.422Z"
   },
   {
    "duration": 0,
    "start_time": "2022-12-07T12:58:34.424Z"
   },
   {
    "duration": 0,
    "start_time": "2022-12-07T12:58:34.425Z"
   },
   {
    "duration": 0,
    "start_time": "2022-12-07T12:58:34.425Z"
   },
   {
    "duration": 0,
    "start_time": "2022-12-07T12:58:34.426Z"
   },
   {
    "duration": 166,
    "start_time": "2022-12-07T12:59:16.394Z"
   },
   {
    "duration": 6,
    "start_time": "2022-12-07T12:59:21.307Z"
   },
   {
    "duration": 107,
    "start_time": "2022-12-07T12:59:28.272Z"
   },
   {
    "duration": 33,
    "start_time": "2022-12-07T13:00:44.778Z"
   },
   {
    "duration": 152,
    "start_time": "2022-12-07T13:00:51.322Z"
   },
   {
    "duration": 7,
    "start_time": "2022-12-07T13:00:54.200Z"
   },
   {
    "duration": 148,
    "start_time": "2022-12-07T13:00:56.804Z"
   },
   {
    "duration": 232,
    "start_time": "2022-12-07T13:01:25.557Z"
   },
   {
    "duration": 31,
    "start_time": "2022-12-07T13:01:34.081Z"
   },
   {
    "duration": 224,
    "start_time": "2022-12-07T13:02:20.553Z"
   },
   {
    "duration": 42,
    "start_time": "2022-12-07T13:02:40.389Z"
   },
   {
    "duration": 6,
    "start_time": "2022-12-07T13:02:42.768Z"
   },
   {
    "duration": 153,
    "start_time": "2022-12-07T13:03:20.791Z"
   },
   {
    "duration": 6,
    "start_time": "2022-12-07T13:03:27.209Z"
   },
   {
    "duration": 164,
    "start_time": "2022-12-07T13:03:35.293Z"
   },
   {
    "duration": 11,
    "start_time": "2022-12-07T13:05:43.656Z"
   },
   {
    "duration": 28,
    "start_time": "2022-12-07T13:06:17.520Z"
   },
   {
    "duration": 342,
    "start_time": "2022-12-07T13:06:46.940Z"
   },
   {
    "duration": 79,
    "start_time": "2022-12-07T13:08:12.344Z"
   },
   {
    "duration": 326,
    "start_time": "2022-12-07T13:11:44.824Z"
   },
   {
    "duration": 277,
    "start_time": "2022-12-07T13:12:00.204Z"
   },
   {
    "duration": 271,
    "start_time": "2022-12-07T13:12:55.610Z"
   },
   {
    "duration": 277,
    "start_time": "2022-12-07T13:14:08.807Z"
   },
   {
    "duration": 75,
    "start_time": "2022-12-07T13:16:38.161Z"
   },
   {
    "duration": 83,
    "start_time": "2022-12-07T13:17:33.964Z"
   },
   {
    "duration": 66,
    "start_time": "2022-12-07T13:18:11.028Z"
   },
   {
    "duration": 98,
    "start_time": "2022-12-07T13:18:36.161Z"
   },
   {
    "duration": 148,
    "start_time": "2022-12-07T13:21:59.262Z"
   },
   {
    "duration": 340,
    "start_time": "2022-12-07T13:22:05.094Z"
   },
   {
    "duration": 312,
    "start_time": "2022-12-07T13:22:23.539Z"
   },
   {
    "duration": 1290,
    "start_time": "2022-12-07T13:23:03.104Z"
   },
   {
    "duration": 43,
    "start_time": "2022-12-07T13:23:04.397Z"
   },
   {
    "duration": 10,
    "start_time": "2022-12-07T13:23:04.442Z"
   },
   {
    "duration": 44,
    "start_time": "2022-12-07T13:23:04.454Z"
   },
   {
    "duration": 21,
    "start_time": "2022-12-07T13:23:04.501Z"
   },
   {
    "duration": 6,
    "start_time": "2022-12-07T13:23:04.524Z"
   },
   {
    "duration": 20,
    "start_time": "2022-12-07T13:23:04.531Z"
   },
   {
    "duration": 9,
    "start_time": "2022-12-07T13:23:04.553Z"
   },
   {
    "duration": 427,
    "start_time": "2022-12-07T13:23:04.563Z"
   },
   {
    "duration": 79992,
    "start_time": "2022-12-07T13:23:04.999Z"
   },
   {
    "duration": 8,
    "start_time": "2022-12-07T13:24:24.998Z"
   },
   {
    "duration": 50,
    "start_time": "2022-12-07T13:24:25.008Z"
   },
   {
    "duration": 21,
    "start_time": "2022-12-07T13:24:25.061Z"
   },
   {
    "duration": 58,
    "start_time": "2022-12-07T13:24:25.086Z"
   },
   {
    "duration": 104726,
    "start_time": "2022-12-07T13:24:25.146Z"
   },
   {
    "duration": 12,
    "start_time": "2022-12-07T13:26:09.880Z"
   },
   {
    "duration": 192,
    "start_time": "2022-12-07T13:26:09.899Z"
   },
   {
    "duration": 8,
    "start_time": "2022-12-07T13:26:10.094Z"
   },
   {
    "duration": 65,
    "start_time": "2022-12-07T13:26:10.104Z"
   },
   {
    "duration": 25,
    "start_time": "2022-12-07T13:26:10.171Z"
   },
   {
    "duration": 298,
    "start_time": "2022-12-07T13:26:10.199Z"
   },
   {
    "duration": 0,
    "start_time": "2022-12-07T13:26:10.498Z"
   },
   {
    "duration": 0,
    "start_time": "2022-12-07T13:26:10.503Z"
   },
   {
    "duration": 0,
    "start_time": "2022-12-07T13:26:10.506Z"
   },
   {
    "duration": 0,
    "start_time": "2022-12-07T13:26:10.507Z"
   },
   {
    "duration": 0,
    "start_time": "2022-12-07T13:26:10.508Z"
   },
   {
    "duration": 275,
    "start_time": "2022-12-07T13:26:33.925Z"
   },
   {
    "duration": 92,
    "start_time": "2022-12-07T13:27:25.379Z"
   },
   {
    "duration": 112,
    "start_time": "2022-12-07T13:27:50.769Z"
   },
   {
    "duration": 71,
    "start_time": "2022-12-07T13:28:27.709Z"
   },
   {
    "duration": 338,
    "start_time": "2022-12-07T13:28:45.744Z"
   },
   {
    "duration": 259,
    "start_time": "2022-12-07T13:29:33.801Z"
   },
   {
    "duration": 415,
    "start_time": "2022-12-07T13:30:02.094Z"
   },
   {
    "duration": 5,
    "start_time": "2022-12-07T13:32:43.417Z"
   },
   {
    "duration": 7,
    "start_time": "2022-12-07T13:32:47.154Z"
   },
   {
    "duration": 4,
    "start_time": "2022-12-07T13:32:57.716Z"
   },
   {
    "duration": 161,
    "start_time": "2022-12-07T13:33:27.911Z"
   },
   {
    "duration": 37,
    "start_time": "2022-12-07T13:34:06.677Z"
   },
   {
    "duration": 27,
    "start_time": "2022-12-07T13:35:39.901Z"
   },
   {
    "duration": 7,
    "start_time": "2022-12-07T13:36:55.746Z"
   },
   {
    "duration": 4,
    "start_time": "2022-12-07T13:36:56.761Z"
   },
   {
    "duration": 195,
    "start_time": "2022-12-07T13:37:06.526Z"
   },
   {
    "duration": 23,
    "start_time": "2022-12-07T13:37:08.210Z"
   },
   {
    "duration": 32,
    "start_time": "2022-12-07T13:37:09.130Z"
   },
   {
    "duration": 1183,
    "start_time": "2022-12-08T16:36:41.819Z"
   },
   {
    "duration": 90,
    "start_time": "2022-12-08T16:36:44.343Z"
   },
   {
    "duration": 8,
    "start_time": "2022-12-08T16:36:46.238Z"
   },
   {
    "duration": 15,
    "start_time": "2022-12-08T16:36:46.555Z"
   },
   {
    "duration": 8,
    "start_time": "2022-12-08T16:36:48.420Z"
   },
   {
    "duration": 13,
    "start_time": "2022-12-08T16:36:51.086Z"
   },
   {
    "duration": 4,
    "start_time": "2022-12-08T16:36:57.522Z"
   },
   {
    "duration": 136,
    "start_time": "2022-12-08T16:40:50.531Z"
   },
   {
    "duration": 4,
    "start_time": "2022-12-08T16:41:06.929Z"
   },
   {
    "duration": 13,
    "start_time": "2022-12-08T16:41:23.341Z"
   },
   {
    "duration": 5,
    "start_time": "2022-12-08T16:41:33.915Z"
   },
   {
    "duration": 1138,
    "start_time": "2022-12-08T16:42:13.850Z"
   },
   {
    "duration": 40,
    "start_time": "2022-12-08T16:42:17.636Z"
   },
   {
    "duration": 8,
    "start_time": "2022-12-08T16:42:18.073Z"
   },
   {
    "duration": 16,
    "start_time": "2022-12-08T16:42:18.614Z"
   },
   {
    "duration": 12,
    "start_time": "2022-12-08T16:42:19.243Z"
   },
   {
    "duration": 13,
    "start_time": "2022-12-08T16:42:26.295Z"
   },
   {
    "duration": 5,
    "start_time": "2022-12-08T16:42:27.959Z"
   },
   {
    "duration": 6,
    "start_time": "2022-12-08T16:44:33.149Z"
   },
   {
    "duration": 5,
    "start_time": "2022-12-08T16:44:37.379Z"
   },
   {
    "duration": 103,
    "start_time": "2022-12-08T16:46:26.837Z"
   },
   {
    "duration": 6,
    "start_time": "2022-12-08T16:47:20.801Z"
   },
   {
    "duration": 9,
    "start_time": "2022-12-08T16:47:21.742Z"
   },
   {
    "duration": 13,
    "start_time": "2022-12-08T16:47:22.521Z"
   },
   {
    "duration": 57,
    "start_time": "2022-12-08T16:48:01.586Z"
   },
   {
    "duration": 54,
    "start_time": "2022-12-08T16:48:47.133Z"
   },
   {
    "duration": 76,
    "start_time": "2022-12-08T16:55:06.005Z"
   },
   {
    "duration": 10,
    "start_time": "2022-12-08T16:55:50.634Z"
   },
   {
    "duration": 68,
    "start_time": "2022-12-08T16:55:54.431Z"
   },
   {
    "duration": 4,
    "start_time": "2022-12-08T16:56:32.757Z"
   },
   {
    "duration": 6,
    "start_time": "2022-12-08T16:56:34.060Z"
   },
   {
    "duration": 9,
    "start_time": "2022-12-08T16:56:34.964Z"
   },
   {
    "duration": 64,
    "start_time": "2022-12-08T16:56:37.618Z"
   },
   {
    "duration": 46,
    "start_time": "2022-12-08T16:59:39.957Z"
   },
   {
    "duration": 50,
    "start_time": "2022-12-08T17:00:55.556Z"
   },
   {
    "duration": 51,
    "start_time": "2022-12-09T18:39:52.999Z"
   },
   {
    "duration": 1159,
    "start_time": "2022-12-09T18:39:58.140Z"
   },
   {
    "duration": 99,
    "start_time": "2022-12-09T18:40:01.807Z"
   },
   {
    "duration": 10,
    "start_time": "2022-12-09T18:40:02.288Z"
   },
   {
    "duration": 23,
    "start_time": "2022-12-09T18:40:04.433Z"
   },
   {
    "duration": 8,
    "start_time": "2022-12-09T18:40:05.524Z"
   },
   {
    "duration": 14,
    "start_time": "2022-12-09T18:40:10.926Z"
   },
   {
    "duration": 6,
    "start_time": "2022-12-09T18:40:14.624Z"
   },
   {
    "duration": 6,
    "start_time": "2022-12-09T18:40:15.932Z"
   },
   {
    "duration": 5,
    "start_time": "2022-12-09T18:40:34.758Z"
   },
   {
    "duration": 6,
    "start_time": "2022-12-09T18:40:35.731Z"
   },
   {
    "duration": 5,
    "start_time": "2022-12-09T18:41:02.869Z"
   },
   {
    "duration": 6,
    "start_time": "2022-12-09T18:41:04.592Z"
   },
   {
    "duration": 5,
    "start_time": "2022-12-09T18:41:27.709Z"
   },
   {
    "duration": 5,
    "start_time": "2022-12-09T18:41:33.520Z"
   },
   {
    "duration": 4,
    "start_time": "2022-12-09T18:41:38.611Z"
   },
   {
    "duration": 6,
    "start_time": "2022-12-09T18:41:40.563Z"
   },
   {
    "duration": 11,
    "start_time": "2022-12-09T18:41:47.775Z"
   },
   {
    "duration": 2,
    "start_time": "2022-12-09T18:41:56.742Z"
   },
   {
    "duration": 16,
    "start_time": "2022-12-09T18:41:59.679Z"
   },
   {
    "duration": 4,
    "start_time": "2022-12-09T18:42:16.875Z"
   },
   {
    "duration": 6,
    "start_time": "2022-12-09T18:42:18.879Z"
   },
   {
    "duration": 10,
    "start_time": "2022-12-09T18:42:19.797Z"
   },
   {
    "duration": 18,
    "start_time": "2022-12-09T18:42:22.255Z"
   },
   {
    "duration": 111,
    "start_time": "2022-12-09T18:42:34.451Z"
   },
   {
    "duration": 68,
    "start_time": "2022-12-09T18:42:44.428Z"
   },
   {
    "duration": 4,
    "start_time": "2022-12-09T18:43:14.259Z"
   },
   {
    "duration": 6,
    "start_time": "2022-12-09T18:43:15.692Z"
   },
   {
    "duration": 9,
    "start_time": "2022-12-09T18:43:16.422Z"
   },
   {
    "duration": 17,
    "start_time": "2022-12-09T18:43:18.832Z"
   },
   {
    "duration": 67,
    "start_time": "2022-12-09T18:43:21.235Z"
   },
   {
    "duration": 14120,
    "start_time": "2022-12-09T18:43:39.224Z"
   },
   {
    "duration": 10,
    "start_time": "2022-12-09T18:44:28.530Z"
   },
   {
    "duration": 16,
    "start_time": "2022-12-09T18:44:32.324Z"
   },
   {
    "duration": 66,
    "start_time": "2022-12-09T18:44:38.296Z"
   },
   {
    "duration": 8,
    "start_time": "2022-12-09T18:45:00.852Z"
   },
   {
    "duration": 17,
    "start_time": "2022-12-09T18:45:04.064Z"
   },
   {
    "duration": 63,
    "start_time": "2022-12-09T18:45:25.385Z"
   },
   {
    "duration": 1110,
    "start_time": "2022-12-09T18:45:55.054Z"
   },
   {
    "duration": 44,
    "start_time": "2022-12-09T18:45:58.068Z"
   },
   {
    "duration": 8,
    "start_time": "2022-12-09T18:45:58.284Z"
   },
   {
    "duration": 16,
    "start_time": "2022-12-09T18:45:58.470Z"
   },
   {
    "duration": 8,
    "start_time": "2022-12-09T18:45:58.709Z"
   },
   {
    "duration": 15,
    "start_time": "2022-12-09T18:46:01.298Z"
   },
   {
    "duration": 5,
    "start_time": "2022-12-09T18:46:04.005Z"
   },
   {
    "duration": 5,
    "start_time": "2022-12-09T18:46:04.455Z"
   },
   {
    "duration": 4,
    "start_time": "2022-12-09T18:46:07.318Z"
   },
   {
    "duration": 6,
    "start_time": "2022-12-09T18:46:08.954Z"
   },
   {
    "duration": 11,
    "start_time": "2022-12-09T18:46:09.304Z"
   },
   {
    "duration": 18,
    "start_time": "2022-12-09T18:46:12.245Z"
   },
   {
    "duration": 155,
    "start_time": "2022-12-09T18:46:15.663Z"
   },
   {
    "duration": 13,
    "start_time": "2022-12-09T18:47:40.070Z"
   },
   {
    "duration": 4,
    "start_time": "2022-12-09T18:47:51.819Z"
   },
   {
    "duration": 6,
    "start_time": "2022-12-09T18:47:53.546Z"
   },
   {
    "duration": 9,
    "start_time": "2022-12-09T18:47:55.888Z"
   },
   {
    "duration": 18,
    "start_time": "2022-12-09T18:47:58.921Z"
   },
   {
    "duration": 60,
    "start_time": "2022-12-09T18:48:02.929Z"
   },
   {
    "duration": 15108,
    "start_time": "2022-12-09T18:48:19.033Z"
   },
   {
    "duration": 10,
    "start_time": "2022-12-09T18:51:54.338Z"
   },
   {
    "duration": 18,
    "start_time": "2022-12-09T18:51:58.358Z"
   },
   {
    "duration": 27,
    "start_time": "2022-12-09T18:52:36.190Z"
   },
   {
    "duration": 7,
    "start_time": "2022-12-09T18:53:28.434Z"
   },
   {
    "duration": 13,
    "start_time": "2022-12-09T18:53:29.521Z"
   },
   {
    "duration": 4,
    "start_time": "2022-12-09T18:54:04.083Z"
   },
   {
    "duration": 17,
    "start_time": "2022-12-09T18:54:04.678Z"
   },
   {
    "duration": 11,
    "start_time": "2022-12-09T18:54:14.029Z"
   },
   {
    "duration": 19,
    "start_time": "2022-12-09T18:54:23.099Z"
   },
   {
    "duration": 7,
    "start_time": "2022-12-09T18:54:38.764Z"
   },
   {
    "duration": 50,
    "start_time": "2022-12-09T18:54:43.807Z"
   },
   {
    "duration": 68121,
    "start_time": "2022-12-09T18:55:09.528Z"
   },
   {
    "duration": 6,
    "start_time": "2022-12-09T18:56:17.655Z"
   },
   {
    "duration": 16,
    "start_time": "2022-12-09T18:58:35.676Z"
   },
   {
    "duration": 4,
    "start_time": "2022-12-09T18:58:45.006Z"
   },
   {
    "duration": 4,
    "start_time": "2022-12-09T18:59:00.956Z"
   },
   {
    "duration": 121,
    "start_time": "2022-12-09T18:59:13.235Z"
   },
   {
    "duration": 55,
    "start_time": "2022-12-09T19:00:00.559Z"
   },
   {
    "duration": 8586,
    "start_time": "2022-12-09T19:00:15.577Z"
   },
   {
    "duration": 268,
    "start_time": "2022-12-09T19:00:53.998Z"
   },
   {
    "duration": 255,
    "start_time": "2022-12-09T19:01:07.901Z"
   },
   {
    "duration": 258,
    "start_time": "2022-12-09T19:02:03.801Z"
   },
   {
    "duration": 473,
    "start_time": "2022-12-09T19:02:14.689Z"
   },
   {
    "duration": 16354,
    "start_time": "2022-12-09T19:04:23.951Z"
   },
   {
    "duration": 24029,
    "start_time": "2022-12-09T19:05:13.670Z"
   },
   {
    "duration": 4,
    "start_time": "2022-12-09T19:05:37.702Z"
   },
   {
    "duration": 37,
    "start_time": "2022-12-09T19:06:25.279Z"
   },
   {
    "duration": 70808,
    "start_time": "2022-12-09T19:09:01.672Z"
   },
   {
    "duration": 8,
    "start_time": "2022-12-09T19:10:12.482Z"
   },
   {
    "duration": 3197614,
    "start_time": "2022-12-09T19:10:34.934Z"
   },
   {
    "duration": 9,
    "start_time": "2022-12-09T20:03:52.551Z"
   },
   {
    "duration": 444630,
    "start_time": "2022-12-09T20:04:03.652Z"
   },
   {
    "duration": 8,
    "start_time": "2022-12-09T20:11:28.284Z"
   },
   {
    "duration": 156007,
    "start_time": "2022-12-09T20:11:43.081Z"
   },
   {
    "duration": 5,
    "start_time": "2022-12-09T20:14:19.090Z"
   },
   {
    "duration": 276,
    "start_time": "2022-12-09T20:16:27.239Z"
   },
   {
    "duration": 430296,
    "start_time": "2022-12-09T20:16:45.523Z"
   },
   {
    "duration": 4,
    "start_time": "2022-12-09T20:23:55.821Z"
   },
   {
    "duration": 649,
    "start_time": "2022-12-09T20:24:13.295Z"
   },
   {
    "duration": 764,
    "start_time": "2022-12-09T20:24:54.624Z"
   },
   {
    "duration": 727,
    "start_time": "2022-12-09T20:25:09.703Z"
   },
   {
    "duration": 847,
    "start_time": "2022-12-09T20:25:15.632Z"
   },
   {
    "duration": 1466,
    "start_time": "2022-12-09T20:25:30.894Z"
   },
   {
    "duration": 712,
    "start_time": "2022-12-09T20:25:47.879Z"
   },
   {
    "duration": 796,
    "start_time": "2022-12-09T20:25:54.370Z"
   },
   {
    "duration": 76047,
    "start_time": "2022-12-09T20:26:34.233Z"
   },
   {
    "duration": 4,
    "start_time": "2022-12-09T20:27:50.282Z"
   },
   {
    "duration": 39,
    "start_time": "2022-12-09T20:28:03.049Z"
   },
   {
    "duration": 18,
    "start_time": "2022-12-09T20:28:20.701Z"
   },
   {
    "duration": 246,
    "start_time": "2022-12-09T20:28:28.113Z"
   },
   {
    "duration": 12,
    "start_time": "2022-12-09T20:31:16.461Z"
   },
   {
    "duration": 19,
    "start_time": "2022-12-09T20:31:20.501Z"
   },
   {
    "duration": 38,
    "start_time": "2022-12-09T20:31:49.619Z"
   },
   {
    "duration": 11,
    "start_time": "2022-12-09T20:32:51.282Z"
   },
   {
    "duration": 16,
    "start_time": "2022-12-09T20:33:00.040Z"
   },
   {
    "duration": 4,
    "start_time": "2022-12-09T20:33:06.261Z"
   },
   {
    "duration": 106,
    "start_time": "2022-12-09T20:33:22.650Z"
   },
   {
    "duration": 16,
    "start_time": "2022-12-09T20:34:53.443Z"
   },
   {
    "duration": 59,
    "start_time": "2022-12-09T20:34:57.703Z"
   },
   {
    "duration": 58,
    "start_time": "2022-12-09T20:35:40.309Z"
   },
   {
    "duration": 25,
    "start_time": "2022-12-09T20:36:11.186Z"
   },
   {
    "duration": 50,
    "start_time": "2022-12-09T20:36:52.398Z"
   },
   {
    "duration": 1228,
    "start_time": "2022-12-09T20:38:02.163Z"
   },
   {
    "duration": 319,
    "start_time": "2022-12-09T20:38:42.512Z"
   },
   {
    "duration": 50,
    "start_time": "2022-12-09T20:39:23.749Z"
   },
   {
    "duration": 109,
    "start_time": "2022-12-09T20:41:03.454Z"
   },
   {
    "duration": 46,
    "start_time": "2022-12-09T20:43:25.527Z"
   },
   {
    "duration": 41,
    "start_time": "2022-12-09T20:43:30.184Z"
   },
   {
    "duration": 10,
    "start_time": "2022-12-09T20:43:45.895Z"
   },
   {
    "duration": 71,
    "start_time": "2022-12-09T20:43:54.609Z"
   },
   {
    "duration": 25,
    "start_time": "2022-12-09T20:44:15.896Z"
   },
   {
    "duration": 1234,
    "start_time": "2022-12-09T20:44:46.342Z"
   },
   {
    "duration": 1262,
    "start_time": "2022-12-09T20:47:12.475Z"
   },
   {
    "duration": 673,
    "start_time": "2022-12-09T20:47:25.638Z"
   },
   {
    "duration": 18,
    "start_time": "2022-12-09T20:47:58.361Z"
   },
   {
    "duration": 233,
    "start_time": "2022-12-09T20:48:15.324Z"
   },
   {
    "duration": 33,
    "start_time": "2022-12-09T20:48:27.933Z"
   },
   {
    "duration": 9,
    "start_time": "2022-12-09T20:48:29.635Z"
   },
   {
    "duration": 39,
    "start_time": "2022-12-09T20:49:17.985Z"
   },
   {
    "duration": 42,
    "start_time": "2022-12-09T20:52:57.649Z"
   },
   {
    "duration": 48,
    "start_time": "2022-12-09T20:53:47.508Z"
   },
   {
    "duration": 32,
    "start_time": "2022-12-09T21:07:07.625Z"
   },
   {
    "duration": 41,
    "start_time": "2022-12-09T21:07:09.417Z"
   },
   {
    "duration": 58,
    "start_time": "2022-12-09T21:08:12.790Z"
   },
   {
    "duration": 53,
    "start_time": "2022-12-10T06:56:01.555Z"
   },
   {
    "duration": 1147,
    "start_time": "2022-12-10T06:57:08.588Z"
   },
   {
    "duration": 93,
    "start_time": "2022-12-10T06:57:09.737Z"
   },
   {
    "duration": 10,
    "start_time": "2022-12-10T06:57:09.831Z"
   },
   {
    "duration": 21,
    "start_time": "2022-12-10T06:57:09.844Z"
   },
   {
    "duration": 8,
    "start_time": "2022-12-10T06:57:09.867Z"
   },
   {
    "duration": 27,
    "start_time": "2022-12-10T06:57:09.876Z"
   },
   {
    "duration": 4,
    "start_time": "2022-12-10T06:57:09.905Z"
   },
   {
    "duration": 10,
    "start_time": "2022-12-10T06:57:09.910Z"
   },
   {
    "duration": 4,
    "start_time": "2022-12-10T06:57:09.936Z"
   },
   {
    "duration": 26,
    "start_time": "2022-12-10T06:57:09.942Z"
   },
   {
    "duration": 13,
    "start_time": "2022-12-10T06:57:09.971Z"
   },
   {
    "duration": 19,
    "start_time": "2022-12-10T06:57:09.986Z"
   },
   {
    "duration": 28,
    "start_time": "2022-12-10T06:57:10.007Z"
   },
   {
    "duration": 4,
    "start_time": "2022-12-10T06:57:23.664Z"
   },
   {
    "duration": 54,
    "start_time": "2022-12-10T06:57:23.670Z"
   },
   {
    "duration": 4,
    "start_time": "2022-12-10T06:57:23.726Z"
   },
   {
    "duration": 28,
    "start_time": "2022-12-10T06:57:23.732Z"
   },
   {
    "duration": 15,
    "start_time": "2022-12-10T06:57:23.762Z"
   },
   {
    "duration": 13,
    "start_time": "2022-12-10T06:57:23.778Z"
   },
   {
    "duration": 6,
    "start_time": "2022-12-10T06:57:23.793Z"
   },
   {
    "duration": 14,
    "start_time": "2022-12-10T06:57:23.800Z"
   },
   {
    "duration": 5,
    "start_time": "2022-12-10T06:58:57.020Z"
   },
   {
    "duration": 11,
    "start_time": "2022-12-10T07:00:14.118Z"
   },
   {
    "duration": 17,
    "start_time": "2022-12-10T07:00:22.110Z"
   },
   {
    "duration": 19,
    "start_time": "2022-12-10T07:00:47.240Z"
   },
   {
    "duration": 16,
    "start_time": "2022-12-10T07:00:48.801Z"
   },
   {
    "duration": 11,
    "start_time": "2022-12-10T07:00:53.828Z"
   },
   {
    "duration": 1179,
    "start_time": "2022-12-10T15:43:43.560Z"
   },
   {
    "duration": 100,
    "start_time": "2022-12-10T15:43:46.717Z"
   },
   {
    "duration": 8,
    "start_time": "2022-12-10T15:43:46.819Z"
   },
   {
    "duration": 19,
    "start_time": "2022-12-10T15:43:46.989Z"
   },
   {
    "duration": 8,
    "start_time": "2022-12-10T15:43:49.308Z"
   },
   {
    "duration": 23,
    "start_time": "2022-12-10T15:43:50.072Z"
   },
   {
    "duration": 4,
    "start_time": "2022-12-10T15:43:52.797Z"
   },
   {
    "duration": 6,
    "start_time": "2022-12-10T15:43:54.749Z"
   },
   {
    "duration": 137,
    "start_time": "2022-12-10T15:44:03.382Z"
   },
   {
    "duration": 7,
    "start_time": "2022-12-10T15:44:40.065Z"
   },
   {
    "duration": 46,
    "start_time": "2022-12-10T15:44:43.903Z"
   },
   {
    "duration": 101,
    "start_time": "2022-12-10T15:45:21.395Z"
   },
   {
    "duration": 5,
    "start_time": "2022-12-10T15:47:06.154Z"
   },
   {
    "duration": 4,
    "start_time": "2022-12-10T15:47:06.893Z"
   },
   {
    "duration": 369534,
    "start_time": "2022-12-10T15:48:46.192Z"
   },
   {
    "duration": 5,
    "start_time": "2022-12-10T15:54:55.728Z"
   },
   {
    "duration": 403,
    "start_time": "2022-12-10T15:59:20.745Z"
   },
   {
    "duration": 55882,
    "start_time": "2022-12-10T15:59:53.910Z"
   },
   {
    "duration": 5,
    "start_time": "2022-12-10T16:00:49.796Z"
   },
   {
    "duration": 32,
    "start_time": "2022-12-10T16:01:39.807Z"
   },
   {
    "duration": 23,
    "start_time": "2022-12-10T16:02:37.542Z"
   },
   {
    "duration": 18,
    "start_time": "2022-12-10T16:03:06.493Z"
   },
   {
    "duration": 9,
    "start_time": "2022-12-10T16:03:34.237Z"
   },
   {
    "duration": 1239,
    "start_time": "2022-12-10T16:04:01.667Z"
   },
   {
    "duration": 47,
    "start_time": "2022-12-10T16:04:04.747Z"
   },
   {
    "duration": 9,
    "start_time": "2022-12-10T16:04:05.205Z"
   },
   {
    "duration": 22,
    "start_time": "2022-12-10T16:04:05.462Z"
   },
   {
    "duration": 9,
    "start_time": "2022-12-10T16:04:07.275Z"
   },
   {
    "duration": 20,
    "start_time": "2022-12-10T16:04:07.651Z"
   },
   {
    "duration": 11,
    "start_time": "2022-12-10T16:04:09.882Z"
   },
   {
    "duration": 5,
    "start_time": "2022-12-10T16:04:10.095Z"
   },
   {
    "duration": 45,
    "start_time": "2022-12-10T16:04:16.580Z"
   },
   {
    "duration": 4,
    "start_time": "2022-12-10T16:04:26.915Z"
   },
   {
    "duration": 3,
    "start_time": "2022-12-10T16:04:27.551Z"
   },
   {
    "duration": 87,
    "start_time": "2022-12-10T16:04:31.008Z"
   },
   {
    "duration": 50,
    "start_time": "2022-12-10T16:04:39.248Z"
   },
   {
    "duration": 400,
    "start_time": "2022-12-10T16:04:43.610Z"
   },
   {
    "duration": 137,
    "start_time": "2022-12-10T16:05:07.775Z"
   },
   {
    "duration": 10,
    "start_time": "2022-12-10T16:06:26.304Z"
   },
   {
    "duration": 1167,
    "start_time": "2022-12-12T08:18:13.517Z"
   },
   {
    "duration": 106,
    "start_time": "2022-12-12T08:18:16.149Z"
   },
   {
    "duration": 8,
    "start_time": "2022-12-12T08:18:16.330Z"
   },
   {
    "duration": 18,
    "start_time": "2022-12-12T08:18:16.589Z"
   },
   {
    "duration": 7,
    "start_time": "2022-12-12T08:18:18.601Z"
   },
   {
    "duration": 13,
    "start_time": "2022-12-12T08:18:18.940Z"
   },
   {
    "duration": 5,
    "start_time": "2022-12-12T08:18:19.326Z"
   },
   {
    "duration": 5,
    "start_time": "2022-12-12T08:18:20.485Z"
   },
   {
    "duration": 35,
    "start_time": "2022-12-12T08:18:23.641Z"
   },
   {
    "duration": 4,
    "start_time": "2022-12-12T08:18:29.335Z"
   },
   {
    "duration": 4,
    "start_time": "2022-12-12T08:18:29.715Z"
   },
   {
    "duration": 56,
    "start_time": "2022-12-12T08:18:33.272Z"
   },
   {
    "duration": 92,
    "start_time": "2022-12-12T08:18:46.722Z"
   },
   {
    "duration": 33,
    "start_time": "2022-12-12T08:18:51.512Z"
   },
   {
    "duration": 364,
    "start_time": "2022-12-12T08:19:04.983Z"
   },
   {
    "duration": 16,
    "start_time": "2022-12-12T08:19:15.649Z"
   },
   {
    "duration": 1106,
    "start_time": "2022-12-13T08:12:41.043Z"
   },
   {
    "duration": 159,
    "start_time": "2022-12-13T08:12:42.674Z"
   },
   {
    "duration": 8,
    "start_time": "2022-12-13T08:12:42.998Z"
   },
   {
    "duration": 15,
    "start_time": "2022-12-13T08:12:43.606Z"
   },
   {
    "duration": 10,
    "start_time": "2022-12-13T08:12:45.123Z"
   },
   {
    "duration": 13,
    "start_time": "2022-12-13T08:12:45.471Z"
   },
   {
    "duration": 5,
    "start_time": "2022-12-13T08:12:47.069Z"
   },
   {
    "duration": 10,
    "start_time": "2022-12-13T08:12:47.286Z"
   },
   {
    "duration": 36,
    "start_time": "2022-12-13T08:12:51.337Z"
   },
   {
    "duration": 4,
    "start_time": "2022-12-13T08:13:09.689Z"
   },
   {
    "duration": 15,
    "start_time": "2022-12-13T08:13:38.316Z"
   },
   {
    "duration": 3,
    "start_time": "2022-12-13T08:13:46.815Z"
   },
   {
    "duration": 4,
    "start_time": "2022-12-13T08:14:05.409Z"
   },
   {
    "duration": 3,
    "start_time": "2022-12-13T08:14:19.208Z"
   },
   {
    "duration": 3,
    "start_time": "2022-12-13T08:14:24.629Z"
   },
   {
    "duration": 4,
    "start_time": "2022-12-13T08:14:25.146Z"
   },
   {
    "duration": 173,
    "start_time": "2022-12-13T08:14:28.637Z"
   },
   {
    "duration": 55468,
    "start_time": "2022-12-13T08:14:32.086Z"
   },
   {
    "duration": 4,
    "start_time": "2022-12-13T08:15:27.556Z"
   },
   {
    "duration": 32,
    "start_time": "2022-12-13T08:15:48.795Z"
   },
   {
    "duration": 321129,
    "start_time": "2022-12-13T08:15:58.794Z"
   },
   {
    "duration": 4,
    "start_time": "2022-12-13T08:21:19.925Z"
   },
   {
    "duration": 407,
    "start_time": "2022-12-13T08:26:55.800Z"
   },
   {
    "duration": 102,
    "start_time": "2022-12-13T08:27:06.580Z"
   },
   {
    "duration": 17,
    "start_time": "2022-12-13T08:27:30.494Z"
   },
   {
    "duration": 35,
    "start_time": "2022-12-13T08:42:26.198Z"
   },
   {
    "duration": 25,
    "start_time": "2022-12-13T08:52:18.147Z"
   },
   {
    "duration": 1141,
    "start_time": "2022-12-13T16:07:37.807Z"
   },
   {
    "duration": 105,
    "start_time": "2022-12-13T16:07:41.224Z"
   },
   {
    "duration": 8,
    "start_time": "2022-12-13T16:07:41.409Z"
   },
   {
    "duration": 14,
    "start_time": "2022-12-13T16:07:41.594Z"
   },
   {
    "duration": 8,
    "start_time": "2022-12-13T16:07:41.811Z"
   },
   {
    "duration": 13,
    "start_time": "2022-12-13T16:07:44.262Z"
   },
   {
    "duration": 5,
    "start_time": "2022-12-13T16:07:44.634Z"
   },
   {
    "duration": 4,
    "start_time": "2022-12-13T16:07:44.843Z"
   },
   {
    "duration": 35,
    "start_time": "2022-12-13T16:07:50.594Z"
   },
   {
    "duration": 3,
    "start_time": "2022-12-13T16:07:51.023Z"
   },
   {
    "duration": 3,
    "start_time": "2022-12-13T16:07:51.375Z"
   },
   {
    "duration": 3,
    "start_time": "2022-12-13T16:07:51.682Z"
   },
   {
    "duration": 4,
    "start_time": "2022-12-13T16:07:57.553Z"
   },
   {
    "duration": 12,
    "start_time": "2022-12-13T16:07:57.561Z"
   },
   {
    "duration": 243,
    "start_time": "2022-12-13T16:08:10.379Z"
   },
   {
    "duration": 36,
    "start_time": "2022-12-13T16:08:16.050Z"
   },
   {
    "duration": 432,
    "start_time": "2022-12-13T16:08:21.737Z"
   },
   {
    "duration": 125,
    "start_time": "2022-12-13T16:08:26.219Z"
   },
   {
    "duration": 33,
    "start_time": "2022-12-13T16:08:36.555Z"
   },
   {
    "duration": 17,
    "start_time": "2022-12-13T16:12:47.792Z"
   },
   {
    "duration": 19,
    "start_time": "2022-12-13T16:22:58.470Z"
   },
   {
    "duration": 4,
    "start_time": "2022-12-13T16:56:43.796Z"
   },
   {
    "duration": 4,
    "start_time": "2022-12-13T16:56:57.894Z"
   },
   {
    "duration": 4,
    "start_time": "2022-12-13T17:09:30.150Z"
   },
   {
    "duration": 3,
    "start_time": "2022-12-13T17:09:31.567Z"
   },
   {
    "duration": 4,
    "start_time": "2022-12-13T17:09:32.410Z"
   },
   {
    "duration": 64,
    "start_time": "2022-12-13T17:09:38.269Z"
   },
   {
    "duration": 4,
    "start_time": "2022-12-13T17:09:53.599Z"
   },
   {
    "duration": 41,
    "start_time": "2022-12-13T17:09:54.848Z"
   },
   {
    "duration": 3,
    "start_time": "2022-12-13T17:09:55.307Z"
   },
   {
    "duration": 15,
    "start_time": "2022-12-13T17:09:56.063Z"
   },
   {
    "duration": 1106,
    "start_time": "2022-12-13T17:10:50.923Z"
   },
   {
    "duration": 42,
    "start_time": "2022-12-13T17:10:53.597Z"
   },
   {
    "duration": 8,
    "start_time": "2022-12-13T17:10:54.071Z"
   },
   {
    "duration": 15,
    "start_time": "2022-12-13T17:10:54.297Z"
   },
   {
    "duration": 9,
    "start_time": "2022-12-13T17:10:54.605Z"
   },
   {
    "duration": 12,
    "start_time": "2022-12-13T17:10:55.479Z"
   },
   {
    "duration": 5,
    "start_time": "2022-12-13T17:10:56.092Z"
   },
   {
    "duration": 5,
    "start_time": "2022-12-13T17:10:56.334Z"
   },
   {
    "duration": 38,
    "start_time": "2022-12-13T17:10:58.385Z"
   },
   {
    "duration": 4,
    "start_time": "2022-12-13T17:10:59.487Z"
   },
   {
    "duration": 2,
    "start_time": "2022-12-13T17:11:00.169Z"
   },
   {
    "duration": 3,
    "start_time": "2022-12-13T17:11:00.528Z"
   },
   {
    "duration": 4,
    "start_time": "2022-12-13T17:11:07.103Z"
   },
   {
    "duration": 4,
    "start_time": "2022-12-13T17:11:07.790Z"
   },
   {
    "duration": 51,
    "start_time": "2022-12-13T17:11:11.068Z"
   },
   {
    "duration": 34,
    "start_time": "2022-12-13T17:11:18.315Z"
   },
   {
    "duration": 416,
    "start_time": "2022-12-13T17:11:21.931Z"
   },
   {
    "duration": 11,
    "start_time": "2022-12-13T17:11:25.960Z"
   },
   {
    "duration": 15,
    "start_time": "2022-12-13T17:11:28.557Z"
   },
   {
    "duration": 4,
    "start_time": "2022-12-13T17:11:29.604Z"
   },
   {
    "duration": 63,
    "start_time": "2022-12-13T17:11:34.556Z"
   },
   {
    "duration": 66,
    "start_time": "2022-12-13T17:11:48.851Z"
   },
   {
    "duration": 69,
    "start_time": "2022-12-13T17:11:55.350Z"
   },
   {
    "duration": 51,
    "start_time": "2022-12-13T17:12:01.256Z"
   },
   {
    "duration": 21,
    "start_time": "2022-12-13T17:12:05.454Z"
   },
   {
    "duration": 23,
    "start_time": "2022-12-13T17:12:09.804Z"
   },
   {
    "duration": 944,
    "start_time": "2022-12-13T17:13:04.958Z"
   },
   {
    "duration": 279,
    "start_time": "2022-12-13T17:13:16.908Z"
   },
   {
    "duration": 977,
    "start_time": "2022-12-13T17:13:21.839Z"
   },
   {
    "duration": 417,
    "start_time": "2022-12-13T17:14:19.236Z"
   },
   {
    "duration": 13,
    "start_time": "2022-12-13T17:15:21.187Z"
   },
   {
    "duration": 3,
    "start_time": "2022-12-13T17:15:23.446Z"
   },
   {
    "duration": 45,
    "start_time": "2022-12-13T17:15:40.891Z"
   },
   {
    "duration": 41,
    "start_time": "2022-12-13T17:15:44.277Z"
   },
   {
    "duration": 52,
    "start_time": "2022-12-13T17:15:52.896Z"
   },
   {
    "duration": 21,
    "start_time": "2022-12-13T17:15:58.535Z"
   },
   {
    "duration": 24,
    "start_time": "2022-12-13T17:16:02.095Z"
   },
   {
    "duration": 329,
    "start_time": "2022-12-13T17:16:05.510Z"
   },
   {
    "duration": 989,
    "start_time": "2022-12-13T17:16:15.273Z"
   },
   {
    "duration": 137,
    "start_time": "2022-12-13T17:16:54.020Z"
   },
   {
    "duration": 24,
    "start_time": "2022-12-13T17:17:00.780Z"
   },
   {
    "duration": 25,
    "start_time": "2022-12-13T17:17:04.460Z"
   },
   {
    "duration": 52,
    "start_time": "2022-12-13T17:17:36.172Z"
   },
   {
    "duration": 59,
    "start_time": "2022-12-13T17:20:07.411Z"
   },
   {
    "duration": 22,
    "start_time": "2022-12-13T17:20:13.896Z"
   },
   {
    "duration": 23,
    "start_time": "2022-12-13T17:20:26.470Z"
   },
   {
    "duration": 139395,
    "start_time": "2022-12-13T17:20:45.696Z"
   },
   {
    "duration": 9,
    "start_time": "2022-12-13T17:23:05.093Z"
   },
   {
    "duration": 651648,
    "start_time": "2022-12-13T17:23:11.764Z"
   },
   {
    "duration": 5,
    "start_time": "2022-12-13T17:34:03.414Z"
   },
   {
    "duration": 302,
    "start_time": "2022-12-13T17:35:38.120Z"
   },
   {
    "duration": 945,
    "start_time": "2022-12-13T17:37:29.600Z"
   },
   {
    "duration": 298,
    "start_time": "2022-12-13T17:37:36.686Z"
   },
   {
    "duration": 721,
    "start_time": "2022-12-13T17:38:13.521Z"
   },
   {
    "duration": 204,
    "start_time": "2022-12-13T17:38:19.504Z"
   },
   {
    "duration": 699,
    "start_time": "2022-12-13T17:38:40.331Z"
   },
   {
    "duration": 1124,
    "start_time": "2022-12-14T10:31:51.515Z"
   },
   {
    "duration": 89,
    "start_time": "2022-12-14T10:31:53.560Z"
   },
   {
    "duration": 9,
    "start_time": "2022-12-14T10:31:53.757Z"
   },
   {
    "duration": 15,
    "start_time": "2022-12-14T10:31:54.012Z"
   },
   {
    "duration": 8,
    "start_time": "2022-12-14T10:31:54.350Z"
   },
   {
    "duration": 14,
    "start_time": "2022-12-14T10:31:54.796Z"
   },
   {
    "duration": 5,
    "start_time": "2022-12-14T10:31:55.296Z"
   },
   {
    "duration": 4,
    "start_time": "2022-12-14T10:31:56.903Z"
   },
   {
    "duration": 35,
    "start_time": "2022-12-14T10:31:59.629Z"
   },
   {
    "duration": 4,
    "start_time": "2022-12-14T10:32:01.275Z"
   },
   {
    "duration": 3,
    "start_time": "2022-12-14T10:32:01.537Z"
   },
   {
    "duration": 3,
    "start_time": "2022-12-14T10:32:01.736Z"
   },
   {
    "duration": 4,
    "start_time": "2022-12-14T10:32:09.091Z"
   },
   {
    "duration": 4,
    "start_time": "2022-12-14T10:32:09.321Z"
   },
   {
    "duration": 26,
    "start_time": "2022-12-14T10:32:12.664Z"
   },
   {
    "duration": 43,
    "start_time": "2022-12-14T10:32:18.985Z"
   },
   {
    "duration": 319,
    "start_time": "2022-12-14T10:32:23.078Z"
   },
   {
    "duration": 12,
    "start_time": "2022-12-14T10:32:31.651Z"
   },
   {
    "duration": 16,
    "start_time": "2022-12-14T10:32:39.590Z"
   },
   {
    "duration": 4,
    "start_time": "2022-12-14T10:32:40.056Z"
   },
   {
    "duration": 85,
    "start_time": "2022-12-14T10:32:44.195Z"
   },
   {
    "duration": 242,
    "start_time": "2022-12-14T10:32:52.024Z"
   },
   {
    "duration": 19,
    "start_time": "2022-12-14T10:33:08.988Z"
   },
   {
    "duration": 23,
    "start_time": "2022-12-14T10:33:20.630Z"
   },
   {
    "duration": 59,
    "start_time": "2022-12-14T10:35:15.076Z"
   },
   {
    "duration": 19,
    "start_time": "2022-12-14T10:35:35.555Z"
   },
   {
    "duration": 23,
    "start_time": "2022-12-14T10:35:57.105Z"
   },
   {
    "duration": 709,
    "start_time": "2022-12-14T10:36:32.121Z"
   },
   {
    "duration": 160,
    "start_time": "2022-12-14T10:36:56.352Z"
   },
   {
    "duration": 661,
    "start_time": "2022-12-14T10:37:14.467Z"
   },
   {
    "duration": 20,
    "start_time": "2022-12-14T10:38:44.900Z"
   },
   {
    "duration": 26,
    "start_time": "2022-12-14T10:38:47.163Z"
   },
   {
    "duration": 61,
    "start_time": "2022-12-14T10:48:44.177Z"
   }
  ],
  "kernelspec": {
   "display_name": "Python 3 (ipykernel)",
   "language": "python",
   "name": "python3"
  },
  "language_info": {
   "codemirror_mode": {
    "name": "ipython",
    "version": 3
   },
   "file_extension": ".py",
   "mimetype": "text/x-python",
   "name": "python",
   "nbconvert_exporter": "python",
   "pygments_lexer": "ipython3",
   "version": "3.9.8"
  },
  "toc": {
   "base_numbering": 1,
   "nav_menu": {},
   "number_sections": true,
   "sideBar": true,
   "skip_h1_title": true,
   "title_cell": "Содержание",
   "title_sidebar": "Contents",
   "toc_cell": true,
   "toc_position": {
    "height": "calc(100% - 180px)",
    "left": "10px",
    "top": "150px",
    "width": "165px"
   },
   "toc_section_display": true,
   "toc_window_display": true
  }
 },
 "nbformat": 4,
 "nbformat_minor": 2
}
