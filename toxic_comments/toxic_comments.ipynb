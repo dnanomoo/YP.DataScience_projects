{
 "cells": [
  {
   "cell_type": "markdown",
   "metadata": {},
   "source": [
    "<div style=\"border:solid Blue 2px; padding: 40px\">\n",
    "<h1> Проект для интернет-магазина</h1>\n",
    "\n",
    "Интернет-магазин запускает новый сервис. Теперь пользователи могут редактировать и дополнять описания товаров, как в вики-сообществах. То есть клиенты предлагают свои правки и комментируют изменения других. Магазину нужен инструмент, который будет искать токсичные комментарии и отправлять их на модерацию. \n",
    "\n",
    "Обучим модель классифицировать комментарии на позитивные и негативные. Имеется набор данных с разметкой о токсичности правок.\n",
    "\n",
    "Необходимо построить модель со значением метрики качества *F1* не меньше 0.75. \n"
   ]
  },
  {
   "cell_type": "markdown",
   "metadata": {},
   "source": [
    "<div style=\"border:solid Green 2px; padding: 40px\">\n",
    "<h1> Описание данных</h1>\n",
    "\n",
    "- Данные находятся в файле `toxic_comments.csv`. \n",
    "- ***text*** - содержит текст комментария\n",
    "- ***toxic*** — целевой признак"
   ]
  },
  {
   "cell_type": "code",
   "execution_count": 1,
   "metadata": {},
   "outputs": [],
   "source": [
    "import pandas as pd\n",
    "import re\n",
    "import time\n",
    "import matplotlib.pyplot as plt\n",
    "from sklearn.feature_extraction.text import TfidfVectorizer\n",
    "from pymystem3 import Mystem\n",
    "\n",
    "from sklearn.linear_model import LogisticRegression\n",
    "from sklearn.tree import DecisionTreeClassifier\n",
    "\n",
    "from sklearn.model_selection import GridSearchCV\n",
    "from sklearn.model_selection import train_test_split\n",
    "from sklearn.metrics import f1_score\n",
    "\n",
    "from numpy.random import RandomState\n",
    "RANDOM_STATE = 1234"
   ]
  },
  {
   "cell_type": "code",
   "execution_count": 2,
   "metadata": {},
   "outputs": [],
   "source": [
    "import nltk\n",
    "from nltk.stem import WordNetLemmatizer \n",
    "from nltk.corpus import stopwords"
   ]
  },
  {
   "cell_type": "markdown",
   "metadata": {},
   "source": [
    "## Подготовка"
   ]
  },
  {
   "cell_type": "code",
   "execution_count": 3,
   "metadata": {},
   "outputs": [],
   "source": [
    "data = pd.read_csv('/datasets/toxic_comments.csv', encoding='UTF-8')"
   ]
  },
  {
   "cell_type": "code",
   "execution_count": 4,
   "metadata": {},
   "outputs": [
    {
     "data": {
      "text/html": [
       "<div>\n",
       "<style scoped>\n",
       "    .dataframe tbody tr th:only-of-type {\n",
       "        vertical-align: middle;\n",
       "    }\n",
       "\n",
       "    .dataframe tbody tr th {\n",
       "        vertical-align: top;\n",
       "    }\n",
       "\n",
       "    .dataframe thead th {\n",
       "        text-align: right;\n",
       "    }\n",
       "</style>\n",
       "<table border=\"1\" class=\"dataframe\">\n",
       "  <thead>\n",
       "    <tr style=\"text-align: right;\">\n",
       "      <th></th>\n",
       "      <th>Unnamed: 0</th>\n",
       "      <th>text</th>\n",
       "      <th>toxic</th>\n",
       "    </tr>\n",
       "  </thead>\n",
       "  <tbody>\n",
       "    <tr>\n",
       "      <th>0</th>\n",
       "      <td>0</td>\n",
       "      <td>Explanation\\nWhy the edits made under my usern...</td>\n",
       "      <td>0</td>\n",
       "    </tr>\n",
       "    <tr>\n",
       "      <th>1</th>\n",
       "      <td>1</td>\n",
       "      <td>D'aww! He matches this background colour I'm s...</td>\n",
       "      <td>0</td>\n",
       "    </tr>\n",
       "    <tr>\n",
       "      <th>2</th>\n",
       "      <td>2</td>\n",
       "      <td>Hey man, I'm really not trying to edit war. It...</td>\n",
       "      <td>0</td>\n",
       "    </tr>\n",
       "    <tr>\n",
       "      <th>3</th>\n",
       "      <td>3</td>\n",
       "      <td>\"\\nMore\\nI can't make any real suggestions on ...</td>\n",
       "      <td>0</td>\n",
       "    </tr>\n",
       "    <tr>\n",
       "      <th>4</th>\n",
       "      <td>4</td>\n",
       "      <td>You, sir, are my hero. Any chance you remember...</td>\n",
       "      <td>0</td>\n",
       "    </tr>\n",
       "  </tbody>\n",
       "</table>\n",
       "</div>"
      ],
      "text/plain": [
       "   Unnamed: 0                                               text  toxic\n",
       "0           0  Explanation\\nWhy the edits made under my usern...      0\n",
       "1           1  D'aww! He matches this background colour I'm s...      0\n",
       "2           2  Hey man, I'm really not trying to edit war. It...      0\n",
       "3           3  \"\\nMore\\nI can't make any real suggestions on ...      0\n",
       "4           4  You, sir, are my hero. Any chance you remember...      0"
      ]
     },
     "execution_count": 4,
     "metadata": {},
     "output_type": "execute_result"
    }
   ],
   "source": [
    "data.head()"
   ]
  },
  {
   "cell_type": "code",
   "execution_count": 5,
   "metadata": {},
   "outputs": [
    {
     "data": {
      "text/plain": [
       "(159292, 3)"
      ]
     },
     "execution_count": 5,
     "metadata": {},
     "output_type": "execute_result"
    }
   ],
   "source": [
    "data.shape"
   ]
  },
  {
   "cell_type": "code",
   "execution_count": 6,
   "metadata": {},
   "outputs": [
    {
     "data": {
      "image/png": "[encoded data removed]",
      "text/plain": [
       "<Figure size 432x288 with 1 Axes>"
      ]
     },
     "metadata": {},
     "output_type": "display_data"
    }
   ],
   "source": [
    "data['toxic'].value_counts().plot(kind='pie', autopct='%1.1f%%');"
   ]
  },
  {
   "cell_type": "markdown",
   "metadata": {},
   "source": [
    "<div style=\"border:solid Blue 2px; padding: 40px\">\n",
    "    \n",
    "    \n",
    "- Загрузили данные\n",
    "- Токсичных комментариев 10% от общего кол-ва комментариев."
   ]
  },
  {
   "cell_type": "markdown",
   "metadata": {},
   "source": [
    "### Подготовка текста"
   ]
  },
  {
   "cell_type": "code",
   "execution_count": 7,
   "metadata": {},
   "outputs": [
    {
     "data": {
      "text/plain": [
       "0    Explanation\\nWhy the edits made under my usern...\n",
       "1    D'aww! He matches this background colour I'm s...\n",
       "2    Hey man, I'm really not trying to edit war. It...\n",
       "3    \"\\nMore\\nI can't make any real suggestions on ...\n",
       "4    You, sir, are my hero. Any chance you remember...\n",
       "Name: text, dtype: object"
      ]
     },
     "execution_count": 7,
     "metadata": {},
     "output_type": "execute_result"
    }
   ],
   "source": [
    "data['text'].head()"
   ]
  },
  {
   "cell_type": "markdown",
   "metadata": {},
   "source": [
    "<div style=\"border:solid Blue 2px; padding: 40px\">    \n",
    "    Приводим к нижнему регистру и убираем лижние пробелы, элементы"
   ]
  },
  {
   "cell_type": "code",
   "execution_count": 8,
   "metadata": {},
   "outputs": [],
   "source": [
    "m = Mystem()\n",
    "\n",
    "def prepare_text(text):    \n",
    "    text = text.lower()\n",
    "    c_text = re.sub(r'[^a-zA-Z]', ' ', text) \n",
    "    return \" \".join(c_text.split())"
   ]
  },
  {
   "cell_type": "code",
   "execution_count": 9,
   "metadata": {},
   "outputs": [],
   "source": [
    "data['text'] = data['text'].apply(prepare_text)"
   ]
  },
  {
   "cell_type": "code",
   "execution_count": 10,
   "metadata": {},
   "outputs": [
    {
     "data": {
      "text/plain": [
       "0    explanation why the edits made under my userna...\n",
       "1    d aww he matches this background colour i m se...\n",
       "2    hey man i m really not trying to edit war it s...\n",
       "3    more i can t make any real suggestions on impr...\n",
       "4    you sir are my hero any chance you remember wh...\n",
       "Name: text, dtype: object"
      ]
     },
     "execution_count": 10,
     "metadata": {},
     "output_type": "execute_result"
    }
   ],
   "source": [
    "data['text'].head()"
   ]
  },
  {
   "cell_type": "markdown",
   "metadata": {},
   "source": [
    "<div style=\"border:solid Blue 2px; padding: 40px\">\n",
    "    \n",
    "    Далее разбиваем на токены и лемматизируем:\n",
    "        - Токенизация (tokenization) — разбиение текста на токены: слова, фразы или символы\n",
    "        - Лемматизация (lemmatization) — приведение слова к начальной форме (лемме)"
   ]
  },
  {
   "cell_type": "code",
   "execution_count": 11,
   "metadata": {},
   "outputs": [],
   "source": [
    "w_tokenizer = nltk.tokenize.WhitespaceTokenizer()\n",
    "lemmatizer = nltk.stem.WordNetLemmatizer()\n",
    "\n",
    "def lemmatize_text(text):\n",
    "    x = [lemmatizer.lemmatize(w) for w in w_tokenizer.tokenize(text)]\n",
    "    return \" \".join(x)"
   ]
  },
  {
   "cell_type": "code",
   "execution_count": 12,
   "metadata": {},
   "outputs": [],
   "source": [
    "data['lemm_text'] = data['text'].apply(prepare_text)\n",
    "data['lemm_text'] = data['lemm_text'].apply(lemmatize_text)"
   ]
  },
  {
   "cell_type": "code",
   "execution_count": 13,
   "metadata": {},
   "outputs": [
    {
     "data": {
      "text/plain": [
       "0    explanation why the edits made under my userna...\n",
       "1    d aww he match this background colour i m seem...\n",
       "2    hey man i m really not trying to edit war it s...\n",
       "3    more i can t make any real suggestion on impro...\n",
       "4    you sir are my hero any chance you remember wh...\n",
       "Name: lemm_text, dtype: object"
      ]
     },
     "execution_count": 13,
     "metadata": {},
     "output_type": "execute_result"
    }
   ],
   "source": [
    "data['lemm_text'].head()"
   ]
  },
  {
   "cell_type": "markdown",
   "metadata": {},
   "source": [
    "## Обучение"
   ]
  },
  {
   "cell_type": "markdown",
   "metadata": {},
   "source": [
    "<div style=\"border:solid Blue 2px; padding: 40px\">\n",
    "    \n",
    "- Добавим стоп-слова (на английском языке) - т.к все комментарии на англ не используем приведение к юникоду\n",
    "- Воспользуемся векторайзером TfidfVectorizer"
   ]
  },
  {
   "cell_type": "code",
   "execution_count": 14,
   "metadata": {},
   "outputs": [
    {
     "name": "stderr",
     "output_type": "stream",
     "text": [
      "[nltk_data] Downloading package stopwords to /home/jovyan/nltk_data...\n",
      "[nltk_data]   Package stopwords is already up-to-date!\n"
     ]
    }
   ],
   "source": [
    "nltk.download('stopwords')\n",
    "stopwords = set(stopwords.words('english'))"
   ]
  },
  {
   "cell_type": "code",
   "execution_count": 15,
   "metadata": {},
   "outputs": [],
   "source": [
    "count_tf_idf = TfidfVectorizer(stop_words=stopwords)"
   ]
  },
  {
   "cell_type": "markdown",
   "metadata": {},
   "source": [
    "<div style=\"border:solid Blue 2px; padding: 40px\">\n",
    "    \n",
    "    Разделим на тренировочную и тестовую выборки"
   ]
  },
  {
   "cell_type": "code",
   "execution_count": 16,
   "metadata": {},
   "outputs": [],
   "source": [
    "X = data.drop('toxic', axis=1)\n",
    "y = data['toxic']\n",
    "\n",
    "X_train, X_test, y_train, y_test = train_test_split(X, y, test_size=0.25, random_state=1234)"
   ]
  },
  {
   "cell_type": "code",
   "execution_count": 17,
   "metadata": {},
   "outputs": [
    {
     "name": "stdout",
     "output_type": "stream",
     "text": [
      "(119469, 3)\n",
      "(39823, 3)\n",
      "(119469,)\n",
      "(39823,)\n"
     ]
    }
   ],
   "source": [
    "print(X_train.shape)\n",
    "print(X_test.shape)\n",
    "print(y_train.shape)\n",
    "print(y_test.shape)"
   ]
  },
  {
   "cell_type": "markdown",
   "metadata": {},
   "source": [
    "<div style=\"border:solid Blue 2px; padding: 40px\">\n",
    "    \n",
    "    Перезапишем выборки - тренировочную обучим и трансформируем, тестовую только трансформируем(!)"
   ]
  },
  {
   "cell_type": "code",
   "execution_count": 18,
   "metadata": {},
   "outputs": [],
   "source": [
    "corpus_train = X_train['lemm_text']\n",
    "corpus_test = X_test['lemm_text']"
   ]
  },
  {
   "cell_type": "code",
   "execution_count": 19,
   "metadata": {},
   "outputs": [],
   "source": [
    "# убрала приведение к типу"
   ]
  },
  {
   "cell_type": "code",
   "execution_count": 20,
   "metadata": {},
   "outputs": [],
   "source": [
    "X_train = count_tf_idf.fit_transform(corpus_train)\n",
    "X_test = count_tf_idf.transform(corpus_test)"
   ]
  },
  {
   "cell_type": "code",
   "execution_count": 21,
   "metadata": {},
   "outputs": [
    {
     "data": {
      "text/plain": [
       "(119469, 133654)"
      ]
     },
     "execution_count": 21,
     "metadata": {},
     "output_type": "execute_result"
    }
   ],
   "source": [
    "X_train.shape"
   ]
  },
  {
   "cell_type": "code",
   "execution_count": 22,
   "metadata": {},
   "outputs": [
    {
     "data": {
      "text/plain": [
       "(39823, 133654)"
      ]
     },
     "execution_count": 22,
     "metadata": {},
     "output_type": "execute_result"
    }
   ],
   "source": [
    "X_test.shape"
   ]
  },
  {
   "cell_type": "markdown",
   "metadata": {},
   "source": [
    "### LogisticRegression"
   ]
  },
  {
   "cell_type": "code",
   "execution_count": 23,
   "metadata": {},
   "outputs": [
    {
     "name": "stdout",
     "output_type": "stream",
     "text": [
      "0.7483247286398665\n",
      "{'solver': 'liblinear'}\n",
      "CPU times: user 35.9 s, sys: 35.3 s, total: 1min 11s\n",
      "Wall time: 1min 11s\n"
     ]
    }
   ],
   "source": [
    "%%time\n",
    "\n",
    "model_LR = LogisticRegression (random_state=RANDOM_STATE, class_weight='balanced')\n",
    "params = {\n",
    "    'solver':['liblinear']\n",
    "}\n",
    "gs = GridSearchCV(model_LR, \n",
    "                  params, \n",
    "                  cv=5, \n",
    "                  scoring='f1', \n",
    "                  verbose=False).fit(X_train, y_train)\n",
    "\n",
    "F1_score_LR = gs.best_score_\n",
    "print(F1_score_LR)\n",
    "print(gs.best_params_)"
   ]
  },
  {
   "cell_type": "markdown",
   "metadata": {},
   "source": [
    "### DecisionTreeClassifier"
   ]
  },
  {
   "cell_type": "code",
   "execution_count": 24,
   "metadata": {},
   "outputs": [
    {
     "name": "stdout",
     "output_type": "stream",
     "text": [
      "0.6069448864566079\n",
      "{'criterion': 'gini', 'max_depth': 12}\n",
      "CPU times: user 7min 18s, sys: 377 ms, total: 7min 19s\n",
      "Wall time: 7min 20s\n"
     ]
    }
   ],
   "source": [
    "%%time\n",
    "\n",
    "model_DT = DecisionTreeClassifier(random_state=RANDOM_STATE)\n",
    "params = {\n",
    "   'criterion':['gini', 'entropy'],        \n",
    "   'max_depth':[3, 12, 3]\n",
    "}\n",
    "gs_dt = GridSearchCV(model_DT, \n",
    "                     params, \n",
    "                     cv=5, \n",
    "                     scoring='f1', \n",
    "                     verbose=False).fit(X_train, y_train)\n",
    "\n",
    "F1_score_DT = gs_dt.best_score_\n",
    "print (F1_score_DT)\n",
    "print(gs_dt.best_params_)"
   ]
  },
  {
   "cell_type": "markdown",
   "metadata": {},
   "source": [
    "<div style=\"border:solid Blue 2px; padding: 40px\">     \n",
    "     \n",
    "- Лучшая модель LogisticRegression с метрикой F1 score равной 74.6\n",
    "- Далее тестируем на выборке и посмотрим итоговый F1"
   ]
  },
  {
   "cell_type": "markdown",
   "metadata": {},
   "source": [
    "## Тестирование лучшей модели"
   ]
  },
  {
   "cell_type": "code",
   "execution_count": 25,
   "metadata": {},
   "outputs": [
    {
     "name": "stdout",
     "output_type": "stream",
     "text": [
      "TEST LogisticRegression:  0.7521591778725266\n"
     ]
    }
   ],
   "source": [
    "model_test = gs.best_estimator_\n",
    "model_test.fit(X_train, y_train)\n",
    "predictions = model_test.predict(X_test)\n",
    "print('TEST LogisticRegression: ', f1_score(predictions, y_test))"
   ]
  },
  {
   "cell_type": "markdown",
   "metadata": {},
   "source": [
    "## Выводы"
   ]
  },
  {
   "cell_type": "markdown",
   "metadata": {},
   "source": [
    "<div style=\"border:solid Blue 2px; padding: 40px\">\n",
    "\n",
    "<h3><b>Итоговый комментарий</b></h3> \n",
    "\n",
    "- Проведена предобработка данных и загрузка необходимых библиотек\n",
    "- Обучили две модели LinearRegressor и DecisionTreeClassifier\n",
    "- F1 итоговой модели LinearRegressor на тестовой выборке 0.75 (что и требовалось)\n",
    "\n",
    "    Время обучения и предсказания LinearRegressor: 67 s"
   ]
  }
 ],
 "metadata": {
  "ExecuteTimeLog": [
   {
    "duration": 2342,
    "start_time": "2023-03-09T10:27:20.325Z"
   },
   {
    "duration": 4,
    "start_time": "2023-03-09T10:28:02.903Z"
   },
   {
    "duration": 7,
    "start_time": "2023-03-09T10:28:04.466Z"
   },
   {
    "duration": 2814,
    "start_time": "2023-03-09T10:28:30.623Z"
   },
   {
    "duration": 109,
    "start_time": "2023-03-09T10:28:42.702Z"
   },
   {
    "duration": 889,
    "start_time": "2023-03-09T10:28:50.722Z"
   },
   {
    "duration": 7,
    "start_time": "2023-03-09T10:28:54.336Z"
   },
   {
    "duration": 4,
    "start_time": "2023-03-09T10:29:00.835Z"
   },
   {
    "duration": 13,
    "start_time": "2023-03-09T10:29:54.197Z"
   },
   {
    "duration": 7,
    "start_time": "2023-03-09T10:30:00.827Z"
   },
   {
    "duration": 155,
    "start_time": "2023-03-09T10:30:03.690Z"
   },
   {
    "duration": 151,
    "start_time": "2023-03-09T10:30:11.313Z"
   },
   {
    "duration": 22,
    "start_time": "2023-03-09T10:30:19.371Z"
   },
   {
    "duration": 7,
    "start_time": "2023-03-09T10:30:25.867Z"
   },
   {
    "duration": 107,
    "start_time": "2023-03-09T10:30:49.842Z"
   },
   {
    "duration": 87,
    "start_time": "2023-03-09T10:30:57.325Z"
   },
   {
    "duration": 88,
    "start_time": "2023-03-09T10:32:00.408Z"
   },
   {
    "duration": 85,
    "start_time": "2023-03-09T10:32:22.973Z"
   },
   {
    "duration": 5,
    "start_time": "2023-03-09T10:35:39.709Z"
   },
   {
    "duration": 5,
    "start_time": "2023-03-09T10:35:48.094Z"
   },
   {
    "duration": 15,
    "start_time": "2023-03-09T10:36:02.404Z"
   },
   {
    "duration": 6,
    "start_time": "2023-03-09T10:36:31.348Z"
   },
   {
    "duration": 14,
    "start_time": "2023-03-09T10:36:44.305Z"
   },
   {
    "duration": 5300,
    "start_time": "2023-03-09T10:36:59.937Z"
   },
   {
    "duration": 5,
    "start_time": "2023-03-09T10:37:37.707Z"
   },
   {
    "duration": 9,
    "start_time": "2023-03-09T10:38:45.374Z"
   },
   {
    "duration": 4279,
    "start_time": "2023-03-09T10:38:45.926Z"
   },
   {
    "duration": 5,
    "start_time": "2023-03-09T10:38:50.208Z"
   },
   {
    "duration": 4,
    "start_time": "2023-03-09T10:40:21.163Z"
   },
   {
    "duration": 4747,
    "start_time": "2023-03-09T10:41:41.472Z"
   },
   {
    "duration": 5,
    "start_time": "2023-03-09T10:42:42.834Z"
   },
   {
    "duration": 4699,
    "start_time": "2023-03-09T10:42:49.400Z"
   },
   {
    "duration": 5,
    "start_time": "2023-03-09T10:44:26.210Z"
   },
   {
    "duration": 4018,
    "start_time": "2023-03-09T10:44:28.481Z"
   },
   {
    "duration": 3,
    "start_time": "2023-03-09T10:52:04.210Z"
   },
   {
    "duration": 3986,
    "start_time": "2023-03-09T10:52:07.741Z"
   },
   {
    "duration": 46757,
    "start_time": "2023-03-09T10:52:19.684Z"
   },
   {
    "duration": 6,
    "start_time": "2023-03-09T10:53:34.946Z"
   },
   {
    "duration": 17,
    "start_time": "2023-03-09T10:55:17.272Z"
   },
   {
    "duration": 11,
    "start_time": "2023-03-09T10:55:35.723Z"
   },
   {
    "duration": 12,
    "start_time": "2023-03-09T10:56:15.827Z"
   },
   {
    "duration": 3,
    "start_time": "2023-03-09T10:57:13.378Z"
   },
   {
    "duration": 13,
    "start_time": "2023-03-09T10:57:21.926Z"
   },
   {
    "duration": 12,
    "start_time": "2023-03-09T10:58:28.314Z"
   },
   {
    "duration": 3,
    "start_time": "2023-03-09T10:58:46.583Z"
   },
   {
    "duration": 5,
    "start_time": "2023-03-09T10:58:54.799Z"
   },
   {
    "duration": 14,
    "start_time": "2023-03-09T10:59:06.832Z"
   },
   {
    "duration": 16,
    "start_time": "2023-03-09T10:59:32.990Z"
   },
   {
    "duration": 4,
    "start_time": "2023-03-09T11:01:55.405Z"
   },
   {
    "duration": 13,
    "start_time": "2023-03-09T11:02:00.552Z"
   },
   {
    "duration": 3,
    "start_time": "2023-03-09T11:02:07.857Z"
   },
   {
    "duration": 17,
    "start_time": "2023-03-09T11:02:08.910Z"
   },
   {
    "duration": 18,
    "start_time": "2023-03-09T11:02:41.497Z"
   },
   {
    "duration": 72,
    "start_time": "2023-03-09T11:04:15.669Z"
   },
   {
    "duration": 17,
    "start_time": "2023-03-09T11:06:26.783Z"
   },
   {
    "duration": 3,
    "start_time": "2023-03-09T11:07:24.366Z"
   },
   {
    "duration": 12,
    "start_time": "2023-03-09T11:07:37.367Z"
   },
   {
    "duration": 19,
    "start_time": "2023-03-09T11:07:44.093Z"
   },
   {
    "duration": 3,
    "start_time": "2023-03-09T11:08:59.871Z"
   },
   {
    "duration": 65,
    "start_time": "2023-03-09T11:09:00.767Z"
   },
   {
    "duration": 18,
    "start_time": "2023-03-09T11:09:01.592Z"
   },
   {
    "duration": 1809,
    "start_time": "2023-03-09T11:09:30.940Z"
   },
   {
    "duration": 258,
    "start_time": "2023-03-09T11:09:32.752Z"
   },
   {
    "duration": 915,
    "start_time": "2023-03-09T11:09:33.011Z"
   },
   {
    "duration": 14,
    "start_time": "2023-03-09T11:09:33.928Z"
   },
   {
    "duration": 5,
    "start_time": "2023-03-09T11:09:33.945Z"
   },
   {
    "duration": 219,
    "start_time": "2023-03-09T11:09:33.952Z"
   },
   {
    "duration": 7,
    "start_time": "2023-03-09T11:09:34.173Z"
   },
   {
    "duration": 43,
    "start_time": "2023-03-09T11:09:34.182Z"
   },
   {
    "duration": 4897,
    "start_time": "2023-03-09T11:09:34.228Z"
   },
   {
    "duration": 6,
    "start_time": "2023-03-09T11:09:39.127Z"
   },
   {
    "duration": 5,
    "start_time": "2023-03-09T11:09:39.135Z"
   },
   {
    "duration": 47408,
    "start_time": "2023-03-09T11:09:39.141Z"
   },
   {
    "duration": 7,
    "start_time": "2023-03-09T11:10:26.551Z"
   },
   {
    "duration": 165,
    "start_time": "2023-03-09T11:10:26.562Z"
   },
   {
    "duration": 3,
    "start_time": "2023-03-09T11:10:26.729Z"
   },
   {
    "duration": 88,
    "start_time": "2023-03-09T11:10:26.733Z"
   },
   {
    "duration": 173,
    "start_time": "2023-03-09T11:10:26.823Z"
   },
   {
    "duration": 5,
    "start_time": "2023-03-09T11:10:52.096Z"
   },
   {
    "duration": 5,
    "start_time": "2023-03-09T11:11:19.559Z"
   },
   {
    "duration": 59,
    "start_time": "2023-03-09T11:16:01.270Z"
   },
   {
    "duration": 8,
    "start_time": "2023-03-09T11:16:01.988Z"
   },
   {
    "duration": 1110,
    "start_time": "2023-03-09T11:16:05.715Z"
   },
   {
    "duration": 1122,
    "start_time": "2023-03-09T11:16:20.414Z"
   },
   {
    "duration": 15,
    "start_time": "2023-03-09T11:16:35.820Z"
   },
   {
    "duration": 4,
    "start_time": "2023-03-09T12:34:42.376Z"
   },
   {
    "duration": 3,
    "start_time": "2023-03-09T12:34:43.006Z"
   },
   {
    "duration": 837,
    "start_time": "2023-03-09T12:34:43.183Z"
   },
   {
    "duration": 8,
    "start_time": "2023-03-09T12:34:44.022Z"
   },
   {
    "duration": 13,
    "start_time": "2023-03-09T12:34:44.031Z"
   },
   {
    "duration": 127,
    "start_time": "2023-03-09T12:34:44.046Z"
   },
   {
    "duration": 6,
    "start_time": "2023-03-09T12:34:44.279Z"
   },
   {
    "duration": 3,
    "start_time": "2023-03-09T12:34:44.464Z"
   },
   {
    "duration": 4520,
    "start_time": "2023-03-09T12:34:44.636Z"
   },
   {
    "duration": 6,
    "start_time": "2023-03-09T12:34:49.158Z"
   },
   {
    "duration": 13,
    "start_time": "2023-03-09T12:34:49.165Z"
   },
   {
    "duration": 38637,
    "start_time": "2023-03-09T12:34:49.180Z"
   },
   {
    "duration": 5,
    "start_time": "2023-03-09T12:35:27.819Z"
   },
   {
    "duration": 166,
    "start_time": "2023-03-09T12:35:27.826Z"
   },
   {
    "duration": 3,
    "start_time": "2023-03-09T12:35:27.994Z"
   },
   {
    "duration": 39,
    "start_time": "2023-03-09T12:35:27.999Z"
   },
   {
    "duration": 4,
    "start_time": "2023-03-09T12:35:28.040Z"
   },
   {
    "duration": 39,
    "start_time": "2023-03-09T12:35:28.047Z"
   },
   {
    "duration": 15,
    "start_time": "2023-03-09T12:35:32.179Z"
   },
   {
    "duration": 75,
    "start_time": "2023-03-09T12:37:18.224Z"
   },
   {
    "duration": 4,
    "start_time": "2023-03-09T12:37:18.970Z"
   },
   {
    "duration": 160,
    "start_time": "2023-03-09T12:37:19.479Z"
   },
   {
    "duration": 15,
    "start_time": "2023-03-09T12:37:20.120Z"
   },
   {
    "duration": 30,
    "start_time": "2023-03-09T12:38:17.188Z"
   },
   {
    "duration": 1498,
    "start_time": "2023-03-10T09:13:09.800Z"
   },
   {
    "duration": 161,
    "start_time": "2023-03-10T09:13:12.747Z"
   },
   {
    "duration": 3600,
    "start_time": "2023-03-10T09:13:12.910Z"
   },
   {
    "duration": 12,
    "start_time": "2023-03-10T09:13:16.512Z"
   },
   {
    "duration": 32,
    "start_time": "2023-03-10T09:13:16.526Z"
   },
   {
    "duration": 173,
    "start_time": "2023-03-10T09:13:16.561Z"
   },
   {
    "duration": 17,
    "start_time": "2023-03-10T09:13:16.740Z"
   },
   {
    "duration": 12,
    "start_time": "2023-03-10T09:13:16.759Z"
   },
   {
    "duration": 4139,
    "start_time": "2023-03-10T09:13:16.773Z"
   },
   {
    "duration": 5,
    "start_time": "2023-03-10T09:13:20.914Z"
   },
   {
    "duration": 6,
    "start_time": "2023-03-10T09:13:20.920Z"
   },
   {
    "duration": 40830,
    "start_time": "2023-03-10T09:13:20.928Z"
   },
   {
    "duration": 5,
    "start_time": "2023-03-10T09:14:01.759Z"
   },
   {
    "duration": 177,
    "start_time": "2023-03-10T09:14:01.766Z"
   },
   {
    "duration": 3,
    "start_time": "2023-03-10T09:14:05.101Z"
   },
   {
    "duration": 69,
    "start_time": "2023-03-10T09:14:05.516Z"
   },
   {
    "duration": 4,
    "start_time": "2023-03-10T09:14:06.216Z"
   },
   {
    "duration": 36,
    "start_time": "2023-03-10T09:14:08.533Z"
   },
   {
    "duration": 187,
    "start_time": "2023-03-10T09:14:08.730Z"
   },
   {
    "duration": 4,
    "start_time": "2023-03-10T09:14:57.363Z"
   },
   {
    "duration": 4,
    "start_time": "2023-03-10T09:14:58.240Z"
   },
   {
    "duration": 66,
    "start_time": "2023-03-10T09:14:59.437Z"
   },
   {
    "duration": 4,
    "start_time": "2023-03-10T09:14:59.891Z"
   },
   {
    "duration": 45,
    "start_time": "2023-03-10T09:15:00.311Z"
   },
   {
    "duration": 7192,
    "start_time": "2023-03-10T09:15:00.940Z"
   },
   {
    "duration": 4,
    "start_time": "2023-03-10T09:17:04.403Z"
   },
   {
    "duration": 4,
    "start_time": "2023-03-10T09:17:12.262Z"
   },
   {
    "duration": 13,
    "start_time": "2023-03-10T09:18:45.570Z"
   },
   {
    "duration": 11,
    "start_time": "2023-03-10T09:19:00.904Z"
   },
   {
    "duration": 8699,
    "start_time": "2023-03-10T09:19:10.664Z"
   },
   {
    "duration": 40785,
    "start_time": "2023-03-10T09:19:27.571Z"
   },
   {
    "duration": 28,
    "start_time": "2023-03-10T09:22:25.372Z"
   },
   {
    "duration": 192,
    "start_time": "2023-03-10T09:22:33.742Z"
   },
   {
    "duration": 153,
    "start_time": "2023-03-10T09:22:48.524Z"
   },
   {
    "duration": 279867,
    "start_time": "2023-03-10T09:23:28.597Z"
   },
   {
    "duration": 0,
    "start_time": "2023-03-10T09:28:08.484Z"
   },
   {
    "duration": 60409,
    "start_time": "2023-03-10T09:28:40.800Z"
   },
   {
    "duration": 92,
    "start_time": "2023-03-10T09:29:41.212Z"
   },
   {
    "duration": 4,
    "start_time": "2023-03-10T09:35:35.471Z"
   },
   {
    "duration": 6,
    "start_time": "2023-03-10T09:36:00.666Z"
   },
   {
    "duration": 67922,
    "start_time": "2023-03-10T09:36:31.146Z"
   },
   {
    "duration": 66,
    "start_time": "2023-03-10T09:37:49.502Z"
   },
   {
    "duration": 19,
    "start_time": "2023-03-10T09:38:07.738Z"
   },
   {
    "duration": 81,
    "start_time": "2023-03-10T09:38:12.756Z"
   },
   {
    "duration": 101,
    "start_time": "2023-03-10T09:38:17.497Z"
   },
   {
    "duration": 5,
    "start_time": "2023-03-10T09:38:45.067Z"
   },
   {
    "duration": 51,
    "start_time": "2023-03-10T09:38:49.476Z"
   },
   {
    "duration": 278207,
    "start_time": "2023-03-10T09:38:57.095Z"
   },
   {
    "duration": 8,
    "start_time": "2023-03-10T09:46:48.840Z"
   },
   {
    "duration": 0,
    "start_time": "2023-03-10T09:57:17.336Z"
   },
   {
    "duration": 724380,
    "start_time": "2023-03-10T09:59:08.414Z"
   },
   {
    "duration": 526782,
    "start_time": "2023-03-10T10:11:36.295Z"
   },
   {
    "duration": 12747,
    "start_time": "2023-03-10T10:20:37.261Z"
   },
   {
    "duration": 4,
    "start_time": "2023-03-10T10:21:40.584Z"
   },
   {
    "duration": 4,
    "start_time": "2023-03-10T10:21:42.779Z"
   },
   {
    "duration": 4,
    "start_time": "2023-03-10T10:24:19.291Z"
   },
   {
    "duration": 3,
    "start_time": "2023-03-10T10:24:40.504Z"
   },
   {
    "duration": 1701,
    "start_time": "2023-03-11T12:17:28.671Z"
   },
   {
    "duration": 192,
    "start_time": "2023-03-11T12:17:30.917Z"
   },
   {
    "duration": 3252,
    "start_time": "2023-03-11T12:17:31.718Z"
   },
   {
    "duration": 13,
    "start_time": "2023-03-11T12:17:34.972Z"
   },
   {
    "duration": 18,
    "start_time": "2023-03-11T12:17:34.987Z"
   },
   {
    "duration": 246,
    "start_time": "2023-03-11T12:17:35.008Z"
   },
   {
    "duration": 6,
    "start_time": "2023-03-11T12:17:35.257Z"
   },
   {
    "duration": 24,
    "start_time": "2023-03-11T12:17:35.265Z"
   },
   {
    "duration": 5373,
    "start_time": "2023-03-11T12:17:35.291Z"
   },
   {
    "duration": 6,
    "start_time": "2023-03-11T12:17:40.666Z"
   },
   {
    "duration": 6,
    "start_time": "2023-03-11T12:17:40.674Z"
   },
   {
    "duration": 48490,
    "start_time": "2023-03-11T12:17:40.682Z"
   },
   {
    "duration": 6,
    "start_time": "2023-03-11T12:18:29.174Z"
   },
   {
    "duration": 489,
    "start_time": "2023-03-11T12:18:29.182Z"
   },
   {
    "duration": 3,
    "start_time": "2023-03-11T12:18:29.675Z"
   },
   {
    "duration": 90,
    "start_time": "2023-03-11T12:18:29.681Z"
   },
   {
    "duration": 6,
    "start_time": "2023-03-11T12:18:29.774Z"
   },
   {
    "duration": 4,
    "start_time": "2023-03-11T12:23:46.354Z"
   },
   {
    "duration": 3,
    "start_time": "2023-03-11T12:23:47.098Z"
   },
   {
    "duration": 7897,
    "start_time": "2023-03-11T12:23:47.452Z"
   },
   {
    "duration": 4,
    "start_time": "2023-03-11T12:23:59.865Z"
   },
   {
    "duration": 26,
    "start_time": "2023-03-11T12:23:59.872Z"
   },
   {
    "duration": 71386,
    "start_time": "2023-03-11T12:24:21.782Z"
   },
   {
    "duration": 440741,
    "start_time": "2023-03-11T12:25:33.172Z"
   },
   {
    "duration": 15844,
    "start_time": "2023-03-11T12:34:49.705Z"
   }
  ],
  "kernelspec": {
   "display_name": "Python 3 (ipykernel)",
   "language": "python",
   "name": "python3"
  },
  "language_info": {
   "codemirror_mode": {
    "name": "ipython",
    "version": 3
   },
   "file_extension": ".py",
   "mimetype": "text/x-python",
   "name": "python",
   "nbconvert_exporter": "python",
   "pygments_lexer": "ipython3",
   "version": "3.9.8"
  },
  "toc": {
   "base_numbering": 1,
   "nav_menu": {},
   "number_sections": true,
   "sideBar": true,
   "skip_h1_title": true,
   "title_cell": "Содержание",
   "title_sidebar": "Contents",
   "toc_cell": true,
   "toc_position": {
    "height": "calc(100% - 180px)",
    "left": "10px",
    "top": "150px",
    "width": "302.391px"
   },
   "toc_section_display": true,
   "toc_window_display": false
  }
 },
 "nbformat": 4,
 "nbformat_minor": 2
}
