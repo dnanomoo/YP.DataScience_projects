{
 "cells": [
  {
   "cell_type": "markdown",
   "metadata": {},
   "source": [
    "<div style=\"border:solid Blue 2px; padding: 40px\">\n",
    "<h1> Планирование рекламной кампании на будущий год</h1>\n",
    "     \n",
    "    \n",
    " - Из открытых источников доступны исторические данные о продажах игр, оценки пользователей и экспертов, жанры и платформы (например, Xbox или PlayStation). Необходимо выявить определяющие успешность игры закономерности. Это позволит сделать ставку на потенциально популярный продукт и спланировать рекламные кампании.\n",
    "     \n",
    " - Перед нами данные до 2016 года. Представим, что сейчас декабрь 2016 г., и мы планируем кампанию на 2017-й. Неважно, прогнозируете ли вы продажи на 2017 год по данным 2016-го или же 2027-й — по данным 2026 года.\n",
    "\n",
    "- В наборе данных попадается аббревиатура ESRB (Entertainment Software Rating Board) — это ассоциация, определяющая возрастной рейтинг компьютерных игр. ESRB оценивает игровой контент и присваивает ему подходящую возрастную категорию, например, «Для взрослых», «Для детей младшего возраста» или «Для подростков». \n",
    "    \n",
    "- Посмотрим и оценим сколько игр и на каких основных площадках они выпускались, популярность отдельных жарнов для разных стран и возрастов - зная это попробуем спрогнозировать спрос на будущий год.\n",
    "    \n",
    "</div>"
   ]
  },
  {
   "cell_type": "markdown",
   "metadata": {},
   "source": [
    "<div style=\"border:solid Green 2px; padding: 40px\">\n",
    "<h1>Описание данных</h1>\n",
    "\n",
    "    \n",
    " - Name — название игры\n",
    " - Platform — платформа\n",
    " - Year_of_Release — год выпуска\n",
    " - Genre — жанр игры\n",
    " - NA_sales — продажи в Северной Америке (миллионы проданных копий)\n",
    " - EU_sales — продажи в Европе (миллионы проданных копий)\n",
    " - JP_sales — продажи в Японии (миллионы проданных копий)\n",
    " - Other_sales — продажи в других странах (миллионы проданных копий)\n",
    " - Critic_Score — оценка критиков (максимум 100)\n",
    " - User_Score — оценка пользователей (максимум 10)\n",
    " - Rating — рейтинг от организации ESRB (англ. Entertainment Software Rating Board). \n",
    " \n",
    "(Эта ассоциация определяет рейтинг компьютерных игр и присваивает им подходящую возрастную категорию.)\n",
    "</div>"
   ]
  },
  {
   "cell_type": "code",
   "execution_count": 1,
   "metadata": {},
   "outputs": [],
   "source": [
    "import pandas as pd\n",
    "import matplotlib.pyplot as plt\n",
    "import numpy as np\n",
    "import plotly.express as px\n",
    "import seaborn as sns\n",
    "import scipy.stats as st"
   ]
  },
  {
   "cell_type": "code",
   "execution_count": 2,
   "metadata": {},
   "outputs": [
    {
     "data": {
      "text/html": [
       "<div>\n",
       "<style scoped>\n",
       "    .dataframe tbody tr th:only-of-type {\n",
       "        vertical-align: middle;\n",
       "    }\n",
       "\n",
       "    .dataframe tbody tr th {\n",
       "        vertical-align: top;\n",
       "    }\n",
       "\n",
       "    .dataframe thead th {\n",
       "        text-align: right;\n",
       "    }\n",
       "</style>\n",
       "<table border=\"1\" class=\"dataframe\">\n",
       "  <thead>\n",
       "    <tr style=\"text-align: right;\">\n",
       "      <th></th>\n",
       "      <th>Name</th>\n",
       "      <th>Platform</th>\n",
       "      <th>Year_of_Release</th>\n",
       "      <th>Genre</th>\n",
       "      <th>NA_sales</th>\n",
       "      <th>EU_sales</th>\n",
       "      <th>JP_sales</th>\n",
       "      <th>Other_sales</th>\n",
       "      <th>Critic_Score</th>\n",
       "      <th>User_Score</th>\n",
       "      <th>Rating</th>\n",
       "    </tr>\n",
       "  </thead>\n",
       "  <tbody>\n",
       "    <tr>\n",
       "      <th>0</th>\n",
       "      <td>Wii Sports</td>\n",
       "      <td>Wii</td>\n",
       "      <td>2006.0</td>\n",
       "      <td>Sports</td>\n",
       "      <td>41.36</td>\n",
       "      <td>28.96</td>\n",
       "      <td>3.77</td>\n",
       "      <td>8.45</td>\n",
       "      <td>76.0</td>\n",
       "      <td>8</td>\n",
       "      <td>E</td>\n",
       "    </tr>\n",
       "    <tr>\n",
       "      <th>1</th>\n",
       "      <td>Super Mario Bros.</td>\n",
       "      <td>NES</td>\n",
       "      <td>1985.0</td>\n",
       "      <td>Platform</td>\n",
       "      <td>29.08</td>\n",
       "      <td>3.58</td>\n",
       "      <td>6.81</td>\n",
       "      <td>0.77</td>\n",
       "      <td>NaN</td>\n",
       "      <td>NaN</td>\n",
       "      <td>NaN</td>\n",
       "    </tr>\n",
       "    <tr>\n",
       "      <th>2</th>\n",
       "      <td>Mario Kart Wii</td>\n",
       "      <td>Wii</td>\n",
       "      <td>2008.0</td>\n",
       "      <td>Racing</td>\n",
       "      <td>15.68</td>\n",
       "      <td>12.76</td>\n",
       "      <td>3.79</td>\n",
       "      <td>3.29</td>\n",
       "      <td>82.0</td>\n",
       "      <td>8.3</td>\n",
       "      <td>E</td>\n",
       "    </tr>\n",
       "    <tr>\n",
       "      <th>3</th>\n",
       "      <td>Wii Sports Resort</td>\n",
       "      <td>Wii</td>\n",
       "      <td>2009.0</td>\n",
       "      <td>Sports</td>\n",
       "      <td>15.61</td>\n",
       "      <td>10.93</td>\n",
       "      <td>3.28</td>\n",
       "      <td>2.95</td>\n",
       "      <td>80.0</td>\n",
       "      <td>8</td>\n",
       "      <td>E</td>\n",
       "    </tr>\n",
       "    <tr>\n",
       "      <th>4</th>\n",
       "      <td>Pokemon Red/Pokemon Blue</td>\n",
       "      <td>GB</td>\n",
       "      <td>1996.0</td>\n",
       "      <td>Role-Playing</td>\n",
       "      <td>11.27</td>\n",
       "      <td>8.89</td>\n",
       "      <td>10.22</td>\n",
       "      <td>1.00</td>\n",
       "      <td>NaN</td>\n",
       "      <td>NaN</td>\n",
       "      <td>NaN</td>\n",
       "    </tr>\n",
       "    <tr>\n",
       "      <th>5</th>\n",
       "      <td>Tetris</td>\n",
       "      <td>GB</td>\n",
       "      <td>1989.0</td>\n",
       "      <td>Puzzle</td>\n",
       "      <td>23.20</td>\n",
       "      <td>2.26</td>\n",
       "      <td>4.22</td>\n",
       "      <td>0.58</td>\n",
       "      <td>NaN</td>\n",
       "      <td>NaN</td>\n",
       "      <td>NaN</td>\n",
       "    </tr>\n",
       "    <tr>\n",
       "      <th>6</th>\n",
       "      <td>New Super Mario Bros.</td>\n",
       "      <td>DS</td>\n",
       "      <td>2006.0</td>\n",
       "      <td>Platform</td>\n",
       "      <td>11.28</td>\n",
       "      <td>9.14</td>\n",
       "      <td>6.50</td>\n",
       "      <td>2.88</td>\n",
       "      <td>89.0</td>\n",
       "      <td>8.5</td>\n",
       "      <td>E</td>\n",
       "    </tr>\n",
       "    <tr>\n",
       "      <th>7</th>\n",
       "      <td>Wii Play</td>\n",
       "      <td>Wii</td>\n",
       "      <td>2006.0</td>\n",
       "      <td>Misc</td>\n",
       "      <td>13.96</td>\n",
       "      <td>9.18</td>\n",
       "      <td>2.93</td>\n",
       "      <td>2.84</td>\n",
       "      <td>58.0</td>\n",
       "      <td>6.6</td>\n",
       "      <td>E</td>\n",
       "    </tr>\n",
       "    <tr>\n",
       "      <th>8</th>\n",
       "      <td>New Super Mario Bros. Wii</td>\n",
       "      <td>Wii</td>\n",
       "      <td>2009.0</td>\n",
       "      <td>Platform</td>\n",
       "      <td>14.44</td>\n",
       "      <td>6.94</td>\n",
       "      <td>4.70</td>\n",
       "      <td>2.24</td>\n",
       "      <td>87.0</td>\n",
       "      <td>8.4</td>\n",
       "      <td>E</td>\n",
       "    </tr>\n",
       "    <tr>\n",
       "      <th>9</th>\n",
       "      <td>Duck Hunt</td>\n",
       "      <td>NES</td>\n",
       "      <td>1984.0</td>\n",
       "      <td>Shooter</td>\n",
       "      <td>26.93</td>\n",
       "      <td>0.63</td>\n",
       "      <td>0.28</td>\n",
       "      <td>0.47</td>\n",
       "      <td>NaN</td>\n",
       "      <td>NaN</td>\n",
       "      <td>NaN</td>\n",
       "    </tr>\n",
       "  </tbody>\n",
       "</table>\n",
       "</div>"
      ],
      "text/plain": [
       "                        Name Platform  Year_of_Release         Genre  \\\n",
       "0                 Wii Sports      Wii           2006.0        Sports   \n",
       "1          Super Mario Bros.      NES           1985.0      Platform   \n",
       "2             Mario Kart Wii      Wii           2008.0        Racing   \n",
       "3          Wii Sports Resort      Wii           2009.0        Sports   \n",
       "4   Pokemon Red/Pokemon Blue       GB           1996.0  Role-Playing   \n",
       "5                     Tetris       GB           1989.0        Puzzle   \n",
       "6      New Super Mario Bros.       DS           2006.0      Platform   \n",
       "7                   Wii Play      Wii           2006.0          Misc   \n",
       "8  New Super Mario Bros. Wii      Wii           2009.0      Platform   \n",
       "9                  Duck Hunt      NES           1984.0       Shooter   \n",
       "\n",
       "   NA_sales  EU_sales  JP_sales  Other_sales  Critic_Score User_Score Rating  \n",
       "0     41.36     28.96      3.77         8.45          76.0          8      E  \n",
       "1     29.08      3.58      6.81         0.77           NaN        NaN    NaN  \n",
       "2     15.68     12.76      3.79         3.29          82.0        8.3      E  \n",
       "3     15.61     10.93      3.28         2.95          80.0          8      E  \n",
       "4     11.27      8.89     10.22         1.00           NaN        NaN    NaN  \n",
       "5     23.20      2.26      4.22         0.58           NaN        NaN    NaN  \n",
       "6     11.28      9.14      6.50         2.88          89.0        8.5      E  \n",
       "7     13.96      9.18      2.93         2.84          58.0        6.6      E  \n",
       "8     14.44      6.94      4.70         2.24          87.0        8.4      E  \n",
       "9     26.93      0.63      0.28         0.47           NaN        NaN    NaN  "
      ]
     },
     "execution_count": 2,
     "metadata": {},
     "output_type": "execute_result"
    }
   ],
   "source": [
    "data = pd.read_csv('/datasets/games.csv')\n",
    "data.head(10)"
   ]
  },
  {
   "cell_type": "code",
   "execution_count": 3,
   "metadata": {},
   "outputs": [
    {
     "data": {
      "text/html": [
       "<div>\n",
       "<style scoped>\n",
       "    .dataframe tbody tr th:only-of-type {\n",
       "        vertical-align: middle;\n",
       "    }\n",
       "\n",
       "    .dataframe tbody tr th {\n",
       "        vertical-align: top;\n",
       "    }\n",
       "\n",
       "    .dataframe thead th {\n",
       "        text-align: right;\n",
       "    }\n",
       "</style>\n",
       "<table border=\"1\" class=\"dataframe\">\n",
       "  <thead>\n",
       "    <tr style=\"text-align: right;\">\n",
       "      <th></th>\n",
       "      <th>Name</th>\n",
       "      <th>Platform</th>\n",
       "      <th>Year_of_Release</th>\n",
       "      <th>Genre</th>\n",
       "      <th>NA_sales</th>\n",
       "      <th>EU_sales</th>\n",
       "      <th>JP_sales</th>\n",
       "      <th>Other_sales</th>\n",
       "      <th>Critic_Score</th>\n",
       "      <th>User_Score</th>\n",
       "      <th>Rating</th>\n",
       "    </tr>\n",
       "  </thead>\n",
       "  <tbody>\n",
       "    <tr>\n",
       "      <th>16710</th>\n",
       "      <td>Samurai Warriors: Sanada Maru</td>\n",
       "      <td>PS3</td>\n",
       "      <td>2016.0</td>\n",
       "      <td>Action</td>\n",
       "      <td>0.00</td>\n",
       "      <td>0.00</td>\n",
       "      <td>0.01</td>\n",
       "      <td>0.0</td>\n",
       "      <td>NaN</td>\n",
       "      <td>NaN</td>\n",
       "      <td>NaN</td>\n",
       "    </tr>\n",
       "    <tr>\n",
       "      <th>16711</th>\n",
       "      <td>LMA Manager 2007</td>\n",
       "      <td>X360</td>\n",
       "      <td>2006.0</td>\n",
       "      <td>Sports</td>\n",
       "      <td>0.00</td>\n",
       "      <td>0.01</td>\n",
       "      <td>0.00</td>\n",
       "      <td>0.0</td>\n",
       "      <td>NaN</td>\n",
       "      <td>NaN</td>\n",
       "      <td>NaN</td>\n",
       "    </tr>\n",
       "    <tr>\n",
       "      <th>16712</th>\n",
       "      <td>Haitaka no Psychedelica</td>\n",
       "      <td>PSV</td>\n",
       "      <td>2016.0</td>\n",
       "      <td>Adventure</td>\n",
       "      <td>0.00</td>\n",
       "      <td>0.00</td>\n",
       "      <td>0.01</td>\n",
       "      <td>0.0</td>\n",
       "      <td>NaN</td>\n",
       "      <td>NaN</td>\n",
       "      <td>NaN</td>\n",
       "    </tr>\n",
       "    <tr>\n",
       "      <th>16713</th>\n",
       "      <td>Spirits &amp; Spells</td>\n",
       "      <td>GBA</td>\n",
       "      <td>2003.0</td>\n",
       "      <td>Platform</td>\n",
       "      <td>0.01</td>\n",
       "      <td>0.00</td>\n",
       "      <td>0.00</td>\n",
       "      <td>0.0</td>\n",
       "      <td>NaN</td>\n",
       "      <td>NaN</td>\n",
       "      <td>NaN</td>\n",
       "    </tr>\n",
       "    <tr>\n",
       "      <th>16714</th>\n",
       "      <td>Winning Post 8 2016</td>\n",
       "      <td>PSV</td>\n",
       "      <td>2016.0</td>\n",
       "      <td>Simulation</td>\n",
       "      <td>0.00</td>\n",
       "      <td>0.00</td>\n",
       "      <td>0.01</td>\n",
       "      <td>0.0</td>\n",
       "      <td>NaN</td>\n",
       "      <td>NaN</td>\n",
       "      <td>NaN</td>\n",
       "    </tr>\n",
       "  </tbody>\n",
       "</table>\n",
       "</div>"
      ],
      "text/plain": [
       "                                Name Platform  Year_of_Release       Genre  \\\n",
       "16710  Samurai Warriors: Sanada Maru      PS3           2016.0      Action   \n",
       "16711               LMA Manager 2007     X360           2006.0      Sports   \n",
       "16712        Haitaka no Psychedelica      PSV           2016.0   Adventure   \n",
       "16713               Spirits & Spells      GBA           2003.0    Platform   \n",
       "16714            Winning Post 8 2016      PSV           2016.0  Simulation   \n",
       "\n",
       "       NA_sales  EU_sales  JP_sales  Other_sales  Critic_Score User_Score  \\\n",
       "16710      0.00      0.00      0.01          0.0           NaN        NaN   \n",
       "16711      0.00      0.01      0.00          0.0           NaN        NaN   \n",
       "16712      0.00      0.00      0.01          0.0           NaN        NaN   \n",
       "16713      0.01      0.00      0.00          0.0           NaN        NaN   \n",
       "16714      0.00      0.00      0.01          0.0           NaN        NaN   \n",
       "\n",
       "      Rating  \n",
       "16710    NaN  \n",
       "16711    NaN  \n",
       "16712    NaN  \n",
       "16713    NaN  \n",
       "16714    NaN  "
      ]
     },
     "execution_count": 3,
     "metadata": {},
     "output_type": "execute_result"
    }
   ],
   "source": [
    "data.tail()"
   ]
  },
  {
   "cell_type": "code",
   "execution_count": 4,
   "metadata": {},
   "outputs": [
    {
     "data": {
      "text/html": [
       "<div>\n",
       "<style scoped>\n",
       "    .dataframe tbody tr th:only-of-type {\n",
       "        vertical-align: middle;\n",
       "    }\n",
       "\n",
       "    .dataframe tbody tr th {\n",
       "        vertical-align: top;\n",
       "    }\n",
       "\n",
       "    .dataframe thead th {\n",
       "        text-align: right;\n",
       "    }\n",
       "</style>\n",
       "<table border=\"1\" class=\"dataframe\">\n",
       "  <thead>\n",
       "    <tr style=\"text-align: right;\">\n",
       "      <th></th>\n",
       "      <th>Name</th>\n",
       "      <th>Platform</th>\n",
       "      <th>Year_of_Release</th>\n",
       "      <th>Genre</th>\n",
       "      <th>NA_sales</th>\n",
       "      <th>EU_sales</th>\n",
       "      <th>JP_sales</th>\n",
       "      <th>Other_sales</th>\n",
       "      <th>Critic_Score</th>\n",
       "      <th>User_Score</th>\n",
       "      <th>Rating</th>\n",
       "    </tr>\n",
       "  </thead>\n",
       "  <tbody>\n",
       "    <tr>\n",
       "      <th>4701</th>\n",
       "      <td>Cars: Race-O-Rama</td>\n",
       "      <td>PSP</td>\n",
       "      <td>2009.0</td>\n",
       "      <td>Racing</td>\n",
       "      <td>0.29</td>\n",
       "      <td>0.07</td>\n",
       "      <td>0.00</td>\n",
       "      <td>0.06</td>\n",
       "      <td>NaN</td>\n",
       "      <td>tbd</td>\n",
       "      <td>E</td>\n",
       "    </tr>\n",
       "    <tr>\n",
       "      <th>11602</th>\n",
       "      <td>Sub Rebellion</td>\n",
       "      <td>PS2</td>\n",
       "      <td>2002.0</td>\n",
       "      <td>Simulation</td>\n",
       "      <td>0.04</td>\n",
       "      <td>0.03</td>\n",
       "      <td>0.00</td>\n",
       "      <td>0.01</td>\n",
       "      <td>71.0</td>\n",
       "      <td>tbd</td>\n",
       "      <td>T</td>\n",
       "    </tr>\n",
       "    <tr>\n",
       "      <th>12861</th>\n",
       "      <td>Shining Force III: Scenario 2</td>\n",
       "      <td>SAT</td>\n",
       "      <td>1998.0</td>\n",
       "      <td>Strategy</td>\n",
       "      <td>0.00</td>\n",
       "      <td>0.00</td>\n",
       "      <td>0.05</td>\n",
       "      <td>0.00</td>\n",
       "      <td>NaN</td>\n",
       "      <td>NaN</td>\n",
       "      <td>NaN</td>\n",
       "    </tr>\n",
       "    <tr>\n",
       "      <th>5601</th>\n",
       "      <td>My Baby: First Steps</td>\n",
       "      <td>DS</td>\n",
       "      <td>2009.0</td>\n",
       "      <td>Simulation</td>\n",
       "      <td>0.27</td>\n",
       "      <td>0.03</td>\n",
       "      <td>0.00</td>\n",
       "      <td>0.02</td>\n",
       "      <td>NaN</td>\n",
       "      <td>tbd</td>\n",
       "      <td>E</td>\n",
       "    </tr>\n",
       "    <tr>\n",
       "      <th>14527</th>\n",
       "      <td>Take On Helicopters</td>\n",
       "      <td>PC</td>\n",
       "      <td>2011.0</td>\n",
       "      <td>Simulation</td>\n",
       "      <td>0.00</td>\n",
       "      <td>0.02</td>\n",
       "      <td>0.00</td>\n",
       "      <td>0.01</td>\n",
       "      <td>70.0</td>\n",
       "      <td>6.7</td>\n",
       "      <td>T</td>\n",
       "    </tr>\n",
       "  </tbody>\n",
       "</table>\n",
       "</div>"
      ],
      "text/plain": [
       "                                Name Platform  Year_of_Release       Genre  \\\n",
       "4701               Cars: Race-O-Rama      PSP           2009.0      Racing   \n",
       "11602                  Sub Rebellion      PS2           2002.0  Simulation   \n",
       "12861  Shining Force III: Scenario 2      SAT           1998.0    Strategy   \n",
       "5601            My Baby: First Steps       DS           2009.0  Simulation   \n",
       "14527            Take On Helicopters       PC           2011.0  Simulation   \n",
       "\n",
       "       NA_sales  EU_sales  JP_sales  Other_sales  Critic_Score User_Score  \\\n",
       "4701       0.29      0.07      0.00         0.06           NaN        tbd   \n",
       "11602      0.04      0.03      0.00         0.01          71.0        tbd   \n",
       "12861      0.00      0.00      0.05         0.00           NaN        NaN   \n",
       "5601       0.27      0.03      0.00         0.02           NaN        tbd   \n",
       "14527      0.00      0.02      0.00         0.01          70.0        6.7   \n",
       "\n",
       "      Rating  \n",
       "4701       E  \n",
       "11602      T  \n",
       "12861    NaN  \n",
       "5601       E  \n",
       "14527      T  "
      ]
     },
     "execution_count": 4,
     "metadata": {},
     "output_type": "execute_result"
    }
   ],
   "source": [
    "data.sample(5)"
   ]
  },
  {
   "cell_type": "code",
   "execution_count": 5,
   "metadata": {},
   "outputs": [
    {
     "name": "stdout",
     "output_type": "stream",
     "text": [
      "<class 'pandas.core.frame.DataFrame'>\n",
      "RangeIndex: 16715 entries, 0 to 16714\n",
      "Data columns (total 11 columns):\n",
      " #   Column           Non-Null Count  Dtype  \n",
      "---  ------           --------------  -----  \n",
      " 0   Name             16713 non-null  object \n",
      " 1   Platform         16715 non-null  object \n",
      " 2   Year_of_Release  16446 non-null  float64\n",
      " 3   Genre            16713 non-null  object \n",
      " 4   NA_sales         16715 non-null  float64\n",
      " 5   EU_sales         16715 non-null  float64\n",
      " 6   JP_sales         16715 non-null  float64\n",
      " 7   Other_sales      16715 non-null  float64\n",
      " 8   Critic_Score     8137 non-null   float64\n",
      " 9   User_Score       10014 non-null  object \n",
      " 10  Rating           9949 non-null   object \n",
      "dtypes: float64(6), object(5)\n",
      "memory usage: 1.4+ MB\n"
     ]
    }
   ],
   "source": [
    "data.info()"
   ]
  },
  {
   "cell_type": "code",
   "execution_count": 6,
   "metadata": {},
   "outputs": [
    {
     "data": {
      "text/plain": [
       "Name                  2\n",
       "Platform              0\n",
       "Year_of_Release     269\n",
       "Genre                 2\n",
       "NA_sales              0\n",
       "EU_sales              0\n",
       "JP_sales              0\n",
       "Other_sales           0\n",
       "Critic_Score       8578\n",
       "User_Score         6701\n",
       "Rating             6766\n",
       "dtype: int64"
      ]
     },
     "execution_count": 6,
     "metadata": {},
     "output_type": "execute_result"
    }
   ],
   "source": [
    "data.isna().sum()"
   ]
  },
  {
   "cell_type": "code",
   "execution_count": 7,
   "metadata": {},
   "outputs": [
    {
     "data": {
      "text/plain": [
       "0"
      ]
     },
     "execution_count": 7,
     "metadata": {},
     "output_type": "execute_result"
    }
   ],
   "source": [
    "data.duplicated().sum()"
   ]
  },
  {
   "cell_type": "code",
   "execution_count": 8,
   "metadata": {},
   "outputs": [
    {
     "data": {
      "image/png": "[encoded data removed]",
      "text/plain": [
       "<Figure size 720x504 with 6 Axes>"
      ]
     },
     "metadata": {
      "needs_background": "light"
     },
     "output_type": "display_data"
    }
   ],
   "source": [
    "data.hist(figsize=(10, 7));"
   ]
  },
  {
   "cell_type": "markdown",
   "metadata": {},
   "source": [
    "**Резюме:** построим графики для общей картины. Мы видим пропуски в столбцах Оценки критиков, Оценки пользователей и Рейтинг. Данные в колонке Года выпуска нужно перевести в date64. Дубликатов нет."
   ]
  },
  {
   "cell_type": "markdown",
   "metadata": {},
   "source": [
    "## Обработка данных"
   ]
  },
  {
   "cell_type": "markdown",
   "metadata": {},
   "source": [
    "**Переименовываем столбцы**"
   ]
  },
  {
   "cell_type": "code",
   "execution_count": 9,
   "metadata": {},
   "outputs": [],
   "source": [
    "data.columns = [x.lower() for x in data.columns]"
   ]
  },
  {
   "cell_type": "code",
   "execution_count": 10,
   "metadata": {},
   "outputs": [
    {
     "data": {
      "text/html": [
       "<div>\n",
       "<style scoped>\n",
       "    .dataframe tbody tr th:only-of-type {\n",
       "        vertical-align: middle;\n",
       "    }\n",
       "\n",
       "    .dataframe tbody tr th {\n",
       "        vertical-align: top;\n",
       "    }\n",
       "\n",
       "    .dataframe thead th {\n",
       "        text-align: right;\n",
       "    }\n",
       "</style>\n",
       "<table border=\"1\" class=\"dataframe\">\n",
       "  <thead>\n",
       "    <tr style=\"text-align: right;\">\n",
       "      <th></th>\n",
       "      <th>name</th>\n",
       "      <th>platform</th>\n",
       "      <th>year_of_release</th>\n",
       "      <th>genre</th>\n",
       "      <th>na_sales</th>\n",
       "      <th>eu_sales</th>\n",
       "      <th>jp_sales</th>\n",
       "      <th>other_sales</th>\n",
       "      <th>critic_score</th>\n",
       "      <th>user_score</th>\n",
       "      <th>rating</th>\n",
       "    </tr>\n",
       "  </thead>\n",
       "  <tbody>\n",
       "    <tr>\n",
       "      <th>12431</th>\n",
       "      <td>Strike Force Bowling</td>\n",
       "      <td>GC</td>\n",
       "      <td>2005.0</td>\n",
       "      <td>Sports</td>\n",
       "      <td>0.05</td>\n",
       "      <td>0.01</td>\n",
       "      <td>0.0</td>\n",
       "      <td>0.0</td>\n",
       "      <td>47.0</td>\n",
       "      <td>tbd</td>\n",
       "      <td>E</td>\n",
       "    </tr>\n",
       "  </tbody>\n",
       "</table>\n",
       "</div>"
      ],
      "text/plain": [
       "                       name platform  year_of_release   genre  na_sales  \\\n",
       "12431  Strike Force Bowling       GC           2005.0  Sports      0.05   \n",
       "\n",
       "       eu_sales  jp_sales  other_sales  critic_score user_score rating  \n",
       "12431      0.01       0.0          0.0          47.0        tbd      E  "
      ]
     },
     "execution_count": 10,
     "metadata": {},
     "output_type": "execute_result"
    }
   ],
   "source": [
    "data.sample()"
   ]
  },
  {
   "cell_type": "markdown",
   "metadata": {},
   "source": [
    "**Замена типов данных**"
   ]
  },
  {
   "cell_type": "code",
   "execution_count": 11,
   "metadata": {},
   "outputs": [],
   "source": [
    "data.loc[data['user_score'] =='tbd', 'user_score'] = np.nan\n",
    "data['user_score'] = data['user_score'].astype(float)"
   ]
  },
  {
   "cell_type": "code",
   "execution_count": 12,
   "metadata": {},
   "outputs": [],
   "source": [
    "data['year_of_release'] = data['year_of_release'].astype('Int64')"
   ]
  },
  {
   "cell_type": "markdown",
   "metadata": {},
   "source": [
    "**Обработка пропусков**"
   ]
  },
  {
   "cell_type": "code",
   "execution_count": 13,
   "metadata": {},
   "outputs": [
    {
     "data": {
      "text/plain": [
       "name                  2\n",
       "platform              0\n",
       "year_of_release     269\n",
       "genre                 2\n",
       "na_sales              0\n",
       "eu_sales              0\n",
       "jp_sales              0\n",
       "other_sales           0\n",
       "critic_score       8578\n",
       "user_score         9125\n",
       "rating             6766\n",
       "dtype: int64"
      ]
     },
     "execution_count": 13,
     "metadata": {},
     "output_type": "execute_result"
    }
   ],
   "source": [
    "data.isna().sum()"
   ]
  },
  {
   "cell_type": "markdown",
   "metadata": {},
   "source": [
    "**Примичание**: В данном случае пропуски внутри ***жанра*** или ***рейтинга*** не подлежат заполнению. Поскольку в внутри каждого жанра на каждой платформе есть как очень успешные так и безнадежно провальные по оценкам критиков, а рейтинги не подчиняются каким-либо закономерностям, поэтому оставляем как есть."
   ]
  },
  {
   "cell_type": "markdown",
   "metadata": {},
   "source": [
    "<div style=\"border:solid Blue 2px; padding: 40px\">\n",
    "    \n",
    "   \n",
    "***Вывод***\n",
    "    \n",
    " - Привели названия столбцов к нижнему регистру по pep8, \n",
    " - В оценке пользователя заменили аббревиатуру ToBeDeterninated на np.nan \n",
    " - Также заменили тип данных в этом столбце на число с плавающей точкой. \n",
    " - Есть существенное число пропусков в столбцах оценка критиков, оценка пользователей и возрастной рейтинг. Эти данные заполнению не подлежат, так как носят индивидуальный характер."
   ]
  },
  {
   "cell_type": "markdown",
   "metadata": {},
   "source": [
    "## Исследовательский анализ"
   ]
  },
  {
   "cell_type": "markdown",
   "metadata": {},
   "source": [
    "**Исследуем суммарные продажи во всех регионах**"
   ]
  },
  {
   "cell_type": "code",
   "execution_count": 18,
   "metadata": {},
   "outputs": [],
   "source": [
    "data['total_sale_game'] = data[['na_sales', 'eu_sales', 'jp_sales', 'other_sales']].sum(axis=1)"
   ]
  },
  {
   "cell_type": "markdown",
   "metadata": {},
   "source": [
    "### **Игры по годам выпуска**"
   ]
  },
  {
   "cell_type": "code",
   "execution_count": 19,
   "metadata": {},
   "outputs": [
    {
     "data": {
      "image/png": "[encoded data removed]",
      "text/plain": [
       "<Figure size 432x288 with 1 Axes>"
      ]
     },
     "metadata": {
      "needs_background": "light"
     },
     "output_type": "display_data"
    }
   ],
   "source": [
    "data['year_of_release'].where(data['year_of_release'] != 0).hist(bins=100);"
   ]
  },
  {
   "cell_type": "code",
   "execution_count": 20,
   "metadata": {},
   "outputs": [
    {
     "data": {
      "text/plain": [
       "2008    1427\n",
       "2009    1426\n",
       "2010    1255\n",
       "2007    1197\n",
       "2011    1136\n",
       "2006    1006\n",
       "2005     939\n",
       "2002     829\n",
       "2003     775\n",
       "2004     762\n",
       "2012     653\n",
       "Name: year_of_release, dtype: Int64"
      ]
     },
     "execution_count": 20,
     "metadata": {},
     "output_type": "execute_result"
    }
   ],
   "source": [
    "data['year_of_release'].value_counts().head(11)"
   ]
  },
  {
   "cell_type": "markdown",
   "metadata": {},
   "source": [
    "    Наибольшее число игр выпущены в период с 2006 по 2011 годы"
   ]
  },
  {
   "cell_type": "markdown",
   "metadata": {},
   "source": [
    "### **Продажи по игровым платформам**"
   ]
  },
  {
   "cell_type": "code",
   "execution_count": 21,
   "metadata": {},
   "outputs": [
    {
     "data": {
      "text/html": [
       "<div>\n",
       "<style scoped>\n",
       "    .dataframe tbody tr th:only-of-type {\n",
       "        vertical-align: middle;\n",
       "    }\n",
       "\n",
       "    .dataframe tbody tr th {\n",
       "        vertical-align: top;\n",
       "    }\n",
       "\n",
       "    .dataframe thead th {\n",
       "        text-align: right;\n",
       "    }\n",
       "</style>\n",
       "<table border=\"1\" class=\"dataframe\">\n",
       "  <thead>\n",
       "    <tr style=\"text-align: right;\">\n",
       "      <th></th>\n",
       "      <th>total_sale_game</th>\n",
       "    </tr>\n",
       "    <tr>\n",
       "      <th>platform</th>\n",
       "      <th></th>\n",
       "    </tr>\n",
       "  </thead>\n",
       "  <tbody>\n",
       "    <tr>\n",
       "      <th>PS2</th>\n",
       "      <td>2161</td>\n",
       "    </tr>\n",
       "    <tr>\n",
       "      <th>DS</th>\n",
       "      <td>2151</td>\n",
       "    </tr>\n",
       "    <tr>\n",
       "      <th>PS3</th>\n",
       "      <td>1331</td>\n",
       "    </tr>\n",
       "    <tr>\n",
       "      <th>Wii</th>\n",
       "      <td>1320</td>\n",
       "    </tr>\n",
       "    <tr>\n",
       "      <th>X360</th>\n",
       "      <td>1262</td>\n",
       "    </tr>\n",
       "    <tr>\n",
       "      <th>PSP</th>\n",
       "      <td>1209</td>\n",
       "    </tr>\n",
       "    <tr>\n",
       "      <th>PS</th>\n",
       "      <td>1197</td>\n",
       "    </tr>\n",
       "    <tr>\n",
       "      <th>PC</th>\n",
       "      <td>974</td>\n",
       "    </tr>\n",
       "    <tr>\n",
       "      <th>XB</th>\n",
       "      <td>824</td>\n",
       "    </tr>\n",
       "    <tr>\n",
       "      <th>GBA</th>\n",
       "      <td>822</td>\n",
       "    </tr>\n",
       "    <tr>\n",
       "      <th>GC</th>\n",
       "      <td>556</td>\n",
       "    </tr>\n",
       "  </tbody>\n",
       "</table>\n",
       "</div>"
      ],
      "text/plain": [
       "          total_sale_game\n",
       "platform                 \n",
       "PS2                  2161\n",
       "DS                   2151\n",
       "PS3                  1331\n",
       "Wii                  1320\n",
       "X360                 1262\n",
       "PSP                  1209\n",
       "PS                   1197\n",
       "PC                    974\n",
       "XB                    824\n",
       "GBA                   822\n",
       "GC                    556"
      ]
     },
     "execution_count": 21,
     "metadata": {},
     "output_type": "execute_result"
    }
   ],
   "source": [
    "sum_platform_sale = data.pivot_table(index='platform', values='total_sale_game', aggfunc='count')\n",
    "sum_platform_sale.sort_values(by='total_sale_game', ascending=False).head(11)"
   ]
  },
  {
   "cell_type": "markdown",
   "metadata": {},
   "source": [
    "    Топ 10 платформ с наибольшим числом игровых продаж"
   ]
  },
  {
   "cell_type": "markdown",
   "metadata": {},
   "source": [
    "### **За какой срок появлялись и исчезали новые платформы**"
   ]
  },
  {
   "cell_type": "code",
   "execution_count": 22,
   "metadata": {},
   "outputs": [
    {
     "data": {
      "image/png": "[encoded data removed]",
      "text/plain": [
       "<Figure size 432x288 with 1 Axes>"
      ]
     },
     "metadata": {
      "needs_background": "light"
     },
     "output_type": "display_data"
    }
   ],
   "source": [
    "data[data['platform']=='PS2'].groupby('year_of_release')['total_sale_game'].sum().plot();"
   ]
  },
  {
   "cell_type": "markdown",
   "metadata": {},
   "source": [
    "    PlayStation 2 появился в 00-х и достиг пика популярности в 2004 году и почти пропал к 10-му году."
   ]
  },
  {
   "cell_type": "code",
   "execution_count": 23,
   "metadata": {},
   "outputs": [
    {
     "data": {
      "image/png": "[encoded data removed]",
      "text/plain": [
       "<Figure size 432x288 with 1 Axes>"
      ]
     },
     "metadata": {
      "needs_background": "light"
     },
     "output_type": "display_data"
    }
   ],
   "source": [
    "data[data['platform']=='X360'].groupby('year_of_release')['total_sale_game'].sum().plot();"
   ]
  },
  {
   "cell_type": "markdown",
   "metadata": {},
   "source": [
    "    XBox 360 прожил на рынке 10 лет и пик популярности пришелся на 2010 год."
   ]
  },
  {
   "cell_type": "code",
   "execution_count": 24,
   "metadata": {},
   "outputs": [
    {
     "data": {
      "image/png": "[encoded data removed]",
      "text/plain": [
       "<Figure size 432x288 with 1 Axes>"
      ]
     },
     "metadata": {
      "needs_background": "light"
     },
     "output_type": "display_data"
    }
   ],
   "source": [
    "data[data['platform']=='GB'].groupby('year_of_release')['total_sale_game'].sum().plot();"
   ]
  },
  {
   "cell_type": "markdown",
   "metadata": {},
   "source": [
    "    У GameBoy популярность скачет как на американских горках (расцвет продаж с 88 - 90-й)"
   ]
  },
  {
   "cell_type": "code",
   "execution_count": 25,
   "metadata": {},
   "outputs": [
    {
     "data": {
      "image/png": "[encoded data removed]",
      "text/plain": [
       "<Figure size 432x288 with 1 Axes>"
      ]
     },
     "metadata": {
      "needs_background": "light"
     },
     "output_type": "display_data"
    }
   ],
   "source": [
    "data[data['platform']=='Wii'].groupby('year_of_release')['total_sale_game'].sum().plot();"
   ]
  },
  {
   "cell_type": "markdown",
   "metadata": {},
   "source": [
    "    Nintendo wii можно сказать прожил на рынке 6 лет, после 2012 года продажи больше не поднимались"
   ]
  },
  {
   "cell_type": "markdown",
   "metadata": {},
   "source": [
    "<div style=\"border:solid Blue 2px; padding: 40px\">    \n",
    "\n",
    "***Вывод:*** \n",
    "    \n",
    "- В среднем срок жизни игровой платформы на рынке 10 лет. Это связано с тем что игровой рынок очень динамичен с точки зрения выпуска и новых игр и новых платформ (новое покаление выпускается раз в 5-7 лет)\n",
    "       \n",
    "- Самый пиковый актуальный период нового релиза составляет в среднем 2-3 года. За это время тренды еще не отмирают, а значит мы может опитаться на данные последних лет для дальнейшей аналитической работы и прогнозирования\n"
   ]
  },
  {
   "cell_type": "markdown",
   "metadata": {},
   "source": [
    "**Актуальный период** 2012-2016 год"
   ]
  },
  {
   "cell_type": "code",
   "execution_count": 26,
   "metadata": {},
   "outputs": [],
   "source": [
    "data = data.query('year_of_release >= 2012')"
   ]
  },
  {
   "cell_type": "code",
   "execution_count": 27,
   "metadata": {},
   "outputs": [
    {
     "data": {
      "text/plain": [
       "<IntegerArray>\n",
       "[2013, 2015, 2012, 2014, 2016]\n",
       "Length: 5, dtype: Int64"
      ]
     },
     "execution_count": 27,
     "metadata": {},
     "output_type": "execute_result"
    }
   ],
   "source": [
    "data['year_of_release'].unique()"
   ]
  },
  {
   "cell_type": "code",
   "execution_count": 28,
   "metadata": {},
   "outputs": [
    {
     "name": "stdout",
     "output_type": "stream",
     "text": [
      "<class 'pandas.core.frame.DataFrame'>\n",
      "Int64Index: 2886 entries, 16 to 16714\n",
      "Data columns (total 12 columns):\n",
      " #   Column           Non-Null Count  Dtype  \n",
      "---  ------           --------------  -----  \n",
      " 0   name             2886 non-null   object \n",
      " 1   platform         2886 non-null   object \n",
      " 2   year_of_release  2886 non-null   Int64  \n",
      " 3   genre            2886 non-null   object \n",
      " 4   na_sales         2886 non-null   float64\n",
      " 5   eu_sales         2886 non-null   float64\n",
      " 6   jp_sales         2886 non-null   float64\n",
      " 7   other_sales      2886 non-null   float64\n",
      " 8   critic_score     1312 non-null   float64\n",
      " 9   user_score       1531 non-null   float64\n",
      " 10  rating           1611 non-null   object \n",
      " 11  total_sale_game  2886 non-null   float64\n",
      "dtypes: Int64(1), float64(7), object(4)\n",
      "memory usage: 295.9+ KB\n"
     ]
    }
   ],
   "source": [
    "data.info()"
   ]
  },
  {
   "cell_type": "code",
   "execution_count": 29,
   "metadata": {},
   "outputs": [
    {
     "data": {
      "text/plain": [
       "0"
      ]
     },
     "execution_count": 29,
     "metadata": {},
     "output_type": "execute_result"
    }
   ],
   "source": [
    "data.duplicated().sum()"
   ]
  },
  {
   "cell_type": "markdown",
   "metadata": {},
   "source": [
    "### **Игры с наибольшими суммарными продажами**"
   ]
  },
  {
   "cell_type": "code",
   "execution_count": 30,
   "metadata": {},
   "outputs": [
    {
     "data": {
      "text/html": [
       "<div>\n",
       "<style scoped>\n",
       "    .dataframe tbody tr th:only-of-type {\n",
       "        vertical-align: middle;\n",
       "    }\n",
       "\n",
       "    .dataframe tbody tr th {\n",
       "        vertical-align: top;\n",
       "    }\n",
       "\n",
       "    .dataframe thead th {\n",
       "        text-align: right;\n",
       "    }\n",
       "</style>\n",
       "<table border=\"1\" class=\"dataframe\">\n",
       "  <thead>\n",
       "    <tr style=\"text-align: right;\">\n",
       "      <th></th>\n",
       "      <th>name</th>\n",
       "      <th>platform</th>\n",
       "      <th>total_sale_game</th>\n",
       "      <th>year_of_release</th>\n",
       "      <th>genre</th>\n",
       "      <th>rating</th>\n",
       "    </tr>\n",
       "  </thead>\n",
       "  <tbody>\n",
       "    <tr>\n",
       "      <th>16</th>\n",
       "      <td>Grand Theft Auto V</td>\n",
       "      <td>PS3</td>\n",
       "      <td>21.05</td>\n",
       "      <td>2013</td>\n",
       "      <td>Action</td>\n",
       "      <td>M</td>\n",
       "    </tr>\n",
       "    <tr>\n",
       "      <th>23</th>\n",
       "      <td>Grand Theft Auto V</td>\n",
       "      <td>X360</td>\n",
       "      <td>16.27</td>\n",
       "      <td>2013</td>\n",
       "      <td>Action</td>\n",
       "      <td>M</td>\n",
       "    </tr>\n",
       "    <tr>\n",
       "      <th>31</th>\n",
       "      <td>Call of Duty: Black Ops 3</td>\n",
       "      <td>PS4</td>\n",
       "      <td>14.63</td>\n",
       "      <td>2015</td>\n",
       "      <td>Shooter</td>\n",
       "      <td>NaN</td>\n",
       "    </tr>\n",
       "    <tr>\n",
       "      <th>33</th>\n",
       "      <td>Pokemon X/Pokemon Y</td>\n",
       "      <td>3DS</td>\n",
       "      <td>14.60</td>\n",
       "      <td>2013</td>\n",
       "      <td>Role-Playing</td>\n",
       "      <td>NaN</td>\n",
       "    </tr>\n",
       "    <tr>\n",
       "      <th>34</th>\n",
       "      <td>Call of Duty: Black Ops II</td>\n",
       "      <td>PS3</td>\n",
       "      <td>13.79</td>\n",
       "      <td>2012</td>\n",
       "      <td>Shooter</td>\n",
       "      <td>M</td>\n",
       "    </tr>\n",
       "    <tr>\n",
       "      <th>35</th>\n",
       "      <td>Call of Duty: Black Ops II</td>\n",
       "      <td>X360</td>\n",
       "      <td>13.68</td>\n",
       "      <td>2012</td>\n",
       "      <td>Shooter</td>\n",
       "      <td>M</td>\n",
       "    </tr>\n",
       "    <tr>\n",
       "      <th>42</th>\n",
       "      <td>Grand Theft Auto V</td>\n",
       "      <td>PS4</td>\n",
       "      <td>12.62</td>\n",
       "      <td>2014</td>\n",
       "      <td>Action</td>\n",
       "      <td>M</td>\n",
       "    </tr>\n",
       "    <tr>\n",
       "      <th>47</th>\n",
       "      <td>Pokemon Omega Ruby/Pokemon Alpha Sapphire</td>\n",
       "      <td>3DS</td>\n",
       "      <td>11.68</td>\n",
       "      <td>2014</td>\n",
       "      <td>Role-Playing</td>\n",
       "      <td>NaN</td>\n",
       "    </tr>\n",
       "    <tr>\n",
       "      <th>60</th>\n",
       "      <td>Call of Duty: Ghosts</td>\n",
       "      <td>X360</td>\n",
       "      <td>10.24</td>\n",
       "      <td>2013</td>\n",
       "      <td>Shooter</td>\n",
       "      <td>M</td>\n",
       "    </tr>\n",
       "    <tr>\n",
       "      <th>62</th>\n",
       "      <td>New Super Mario Bros. 2</td>\n",
       "      <td>3DS</td>\n",
       "      <td>9.90</td>\n",
       "      <td>2012</td>\n",
       "      <td>Platform</td>\n",
       "      <td>E</td>\n",
       "    </tr>\n",
       "  </tbody>\n",
       "</table>\n",
       "</div>"
      ],
      "text/plain": [
       "                                         name platform  total_sale_game  \\\n",
       "16                         Grand Theft Auto V      PS3            21.05   \n",
       "23                         Grand Theft Auto V     X360            16.27   \n",
       "31                  Call of Duty: Black Ops 3      PS4            14.63   \n",
       "33                        Pokemon X/Pokemon Y      3DS            14.60   \n",
       "34                 Call of Duty: Black Ops II      PS3            13.79   \n",
       "35                 Call of Duty: Black Ops II     X360            13.68   \n",
       "42                         Grand Theft Auto V      PS4            12.62   \n",
       "47  Pokemon Omega Ruby/Pokemon Alpha Sapphire      3DS            11.68   \n",
       "60                       Call of Duty: Ghosts     X360            10.24   \n",
       "62                    New Super Mario Bros. 2      3DS             9.90   \n",
       "\n",
       "    year_of_release         genre rating  \n",
       "16             2013        Action      M  \n",
       "23             2013        Action      M  \n",
       "31             2015       Shooter    NaN  \n",
       "33             2013  Role-Playing    NaN  \n",
       "34             2012       Shooter      M  \n",
       "35             2012       Shooter      M  \n",
       "42             2014        Action      M  \n",
       "47             2014  Role-Playing    NaN  \n",
       "60             2013       Shooter      M  \n",
       "62             2012      Platform      E  "
      ]
     },
     "execution_count": 30,
     "metadata": {},
     "output_type": "execute_result"
    }
   ],
   "source": [
    "data.sort_values('total_sale_game', ascending=False)[['name', 'platform', 'total_sale_game', 'year_of_release', 'genre', 'rating']].head(10)"
   ]
  },
  {
   "cell_type": "markdown",
   "metadata": {},
   "source": [
    "    Топ 10 игр с самыми высокими суммарными продажами"
   ]
  },
  {
   "cell_type": "markdown",
   "metadata": {},
   "source": [
    "### Выберите несколько потенциально прибыльных платформ."
   ]
  },
  {
   "cell_type": "code",
   "execution_count": 31,
   "metadata": {},
   "outputs": [
    {
     "data": {
      "text/plain": [
       "16     PS3\n",
       "23    X360\n",
       "31     PS4\n",
       "33     3DS\n",
       "Name: platform, dtype: object"
      ]
     },
     "execution_count": 31,
     "metadata": {},
     "output_type": "execute_result"
    }
   ],
   "source": [
    "data.sort_values('total_sale_game', ascending=False)['platform'].head(4)"
   ]
  },
  {
   "cell_type": "markdown",
   "metadata": {},
   "source": [
    "    Платформы PS3, PS4, X360, 3DS являются лидерами продаж актуального периода. Рассмотрим популярность на графиках:"
   ]
  },
  {
   "cell_type": "markdown",
   "metadata": {},
   "source": [
    "    PlayStation 4"
   ]
  },
  {
   "cell_type": "code",
   "execution_count": 32,
   "metadata": {},
   "outputs": [
    {
     "data": {
      "image/png": "[encoded data removed]",
      "text/plain": [
       "<Figure size 432x288 with 1 Axes>"
      ]
     },
     "metadata": {
      "needs_background": "light"
     },
     "output_type": "display_data"
    }
   ],
   "source": [
    "data[data['platform']=='PS4'].groupby('year_of_release')['total_sale_game'].sum().plot();"
   ]
  },
  {
   "cell_type": "markdown",
   "metadata": {},
   "source": [
    "    Nintendo 3DS"
   ]
  },
  {
   "cell_type": "code",
   "execution_count": 33,
   "metadata": {},
   "outputs": [
    {
     "data": {
      "image/png": "[encoded data removed]",
      "text/plain": [
       "<Figure size 432x288 with 1 Axes>"
      ]
     },
     "metadata": {
      "needs_background": "light"
     },
     "output_type": "display_data"
    }
   ],
   "source": [
    "data[data['platform']=='3DS'].groupby('year_of_release')['total_sale_game'].sum().plot();"
   ]
  },
  {
   "cell_type": "markdown",
   "metadata": {},
   "source": [
    "    XBox One"
   ]
  },
  {
   "cell_type": "code",
   "execution_count": 34,
   "metadata": {},
   "outputs": [
    {
     "data": {
      "image/png": "[encoded data removed]",
      "text/plain": [
       "<Figure size 432x288 with 1 Axes>"
      ]
     },
     "metadata": {
      "needs_background": "light"
     },
     "output_type": "display_data"
    }
   ],
   "source": [
    "data[data['platform']=='XOne'].groupby('year_of_release')['total_sale_game'].sum().plot();"
   ]
  },
  {
   "cell_type": "markdown",
   "metadata": {},
   "source": [
    "    PlayStation 3"
   ]
  },
  {
   "cell_type": "code",
   "execution_count": 35,
   "metadata": {},
   "outputs": [
    {
     "data": {
      "image/png": "[encoded data removed]",
      "text/plain": [
       "<Figure size 432x288 with 1 Axes>"
      ]
     },
     "metadata": {
      "needs_background": "light"
     },
     "output_type": "display_data"
    }
   ],
   "source": [
    "data[data['platform']=='PS3'].groupby('year_of_release')['total_sale_game'].sum().plot();"
   ]
  },
  {
   "cell_type": "markdown",
   "metadata": {},
   "source": [
    "<div style=\"border:solid Blue 2px; padding: 40px\">\n",
    "    \n",
    "     В предшествующем 2016 году наибольшими продажами обладали игры на платформе PS4, 3DS, XOne, но потенциально прибыльными можно назвать только две XOne и PS4 которые еще не отыграли свой 10-ти летний рыночный срок."
   ]
  },
  {
   "cell_type": "markdown",
   "metadata": {},
   "source": [
    "### Построем график «ящик с усами» по глобальным продажам игр в разбивке по платформам"
   ]
  },
  {
   "cell_type": "code",
   "execution_count": 3,
   "metadata": {},
   "outputs": [],
   "source": [
    "#data.boxplot('total_sale_game', by='platform', figsize=(15, 8))"
   ]
  },
  {
   "cell_type": "code",
   "execution_count": 37,
   "metadata": {},
   "outputs": [
    {
     "data": {
      "text/plain": [
       "(0.0, 2.0)"
      ]
     },
     "execution_count": 37,
     "metadata": {},
     "output_type": "execute_result"
    },
    {
     "data": {
      "image/png": "[encoded data removed]",
      "text/plain": [
       "<Figure size 432x288 with 1 Axes>"
      ]
     },
     "metadata": {
      "needs_background": "light"
     },
     "output_type": "display_data"
    }
   ],
   "source": [
    "data.query('platform == \"XOne\"').boxplot('total_sale_game');\n",
    "plt.ylim(0,2)\n"
   ]
  },
  {
   "cell_type": "code",
   "execution_count": 38,
   "metadata": {},
   "outputs": [
    {
     "data": {
      "text/plain": [
       "(0.0, 2.0)"
      ]
     },
     "execution_count": 38,
     "metadata": {},
     "output_type": "execute_result"
    },
    {
     "data": {
      "image/png": "[encoded data removed]",
      "text/plain": [
       "<Figure size 432x288 with 1 Axes>"
      ]
     },
     "metadata": {
      "needs_background": "light"
     },
     "output_type": "display_data"
    }
   ],
   "source": [
    "data.query('platform == \"PS4\"').boxplot('total_sale_game');\n",
    "plt.ylim(0,2)"
   ]
  },
  {
   "cell_type": "code",
   "execution_count": 39,
   "metadata": {},
   "outputs": [
    {
     "data": {
      "text/plain": [
       "(0.0, 2.0)"
      ]
     },
     "execution_count": 39,
     "metadata": {},
     "output_type": "execute_result"
    },
    {
     "data": {
      "image/png": "[encoded data removed]",
      "text/plain": [
       "<Figure size 432x288 with 1 Axes>"
      ]
     },
     "metadata": {
      "needs_background": "light"
     },
     "output_type": "display_data"
    }
   ],
   "source": [
    "data.query('platform == \"PS3\"').boxplot('total_sale_game');\n",
    "plt.ylim(0,2)"
   ]
  },
  {
   "cell_type": "code",
   "execution_count": 40,
   "metadata": {},
   "outputs": [
    {
     "data": {
      "text/plain": [
       "(0.0, 1.0)"
      ]
     },
     "execution_count": 40,
     "metadata": {},
     "output_type": "execute_result"
    },
    {
     "data": {
      "image/png": "[encoded data removed]",
      "text/plain": [
       "<Figure size 432x288 with 1 Axes>"
      ]
     },
     "metadata": {
      "needs_background": "light"
     },
     "output_type": "display_data"
    }
   ],
   "source": [
    "data.query('platform == \"3DS\"').boxplot('total_sale_game');\n",
    "plt.ylim(0,1)"
   ]
  },
  {
   "cell_type": "markdown",
   "metadata": {},
   "source": [
    "<div style=\"border:solid Blue 2px; padding: 40px\">\n",
    "    \n",
    "-  Продажи всех актуальных платформ являются неоднородными что и показывает межквартильный размах, медиана у трех платформ на одном уровне. Но 3DS явно уступает в продажах платформам выше, медиана яано ниже, и верхний квартиль расположен вполовину ниже."
   ]
  },
  {
   "cell_type": "markdown",
   "metadata": {},
   "source": [
    " ### Как влияют на продажи внутри одной платформы оценки критиков и пользователей. \n",
    "     Соотнесем выводы с продажами игр на других платформах."
   ]
  },
  {
   "cell_type": "markdown",
   "metadata": {},
   "source": [
    "    Рассмотрим на примере PlayStation4 и Xbox One"
   ]
  },
  {
   "cell_type": "code",
   "execution_count": 43,
   "metadata": {},
   "outputs": [
    {
     "data": {
      "image/png": "[encoded data removed]",
      "text/plain": [
       "<Figure size 432x288 with 1 Axes>"
      ]
     },
     "metadata": {
      "needs_background": "light"
     },
     "output_type": "display_data"
    }
   ],
   "source": [
    "sns.scatterplot(data = data[data['platform']=='XOne'], y='total_sale_game', x='user_score', alpha=0.6);"
   ]
  },
  {
   "cell_type": "code",
   "execution_count": 44,
   "metadata": {},
   "outputs": [
    {
     "data": {
      "image/png": "[encoded data removed]",
      "text/plain": [
       "<Figure size 432x288 with 1 Axes>"
      ]
     },
     "metadata": {
      "needs_background": "light"
     },
     "output_type": "display_data"
    }
   ],
   "source": [
    "sns.scatterplot(data = data[data['platform']=='XOne'], y='total_sale_game', x='critic_score', alpha=0.6);"
   ]
  },
  {
   "cell_type": "code",
   "execution_count": 45,
   "metadata": {},
   "outputs": [
    {
     "data": {
      "image/png": "[encoded data removed]",
      "text/plain": [
       "<Figure size 432x288 with 1 Axes>"
      ]
     },
     "metadata": {
      "needs_background": "light"
     },
     "output_type": "display_data"
    }
   ],
   "source": [
    "sns.scatterplot(data = data[data['platform']=='PS4'], y='total_sale_game', x='user_score', alpha=0.6);"
   ]
  },
  {
   "cell_type": "code",
   "execution_count": 46,
   "metadata": {},
   "outputs": [
    {
     "data": {
      "image/png": "[encoded data removed]",
      "text/plain": [
       "<Figure size 432x288 with 1 Axes>"
      ]
     },
     "metadata": {
      "needs_background": "light"
     },
     "output_type": "display_data"
    }
   ],
   "source": [
    "sns.scatterplot(data = data[data['platform']=='PS4'], y='total_sale_game', x='critic_score', alpha=0.6);"
   ]
  },
  {
   "cell_type": "markdown",
   "metadata": {},
   "source": [
    " <div style=\"border:solid Blue 2px; padding: 40px\">\n",
    "    \n",
    " - Из графиков видно что - Чем больше оценка критиков и пользователей тем больше продаж."
   ]
  },
  {
   "cell_type": "markdown",
   "metadata": {},
   "source": [
    "**Корреляция**"
   ]
  },
  {
   "cell_type": "code",
   "execution_count": 47,
   "metadata": {},
   "outputs": [
    {
     "data": {
      "text/html": [
       "<div>\n",
       "<style scoped>\n",
       "    .dataframe tbody tr th:only-of-type {\n",
       "        vertical-align: middle;\n",
       "    }\n",
       "\n",
       "    .dataframe tbody tr th {\n",
       "        vertical-align: top;\n",
       "    }\n",
       "\n",
       "    .dataframe thead th {\n",
       "        text-align: right;\n",
       "    }\n",
       "</style>\n",
       "<table border=\"1\" class=\"dataframe\">\n",
       "  <thead>\n",
       "    <tr style=\"text-align: right;\">\n",
       "      <th></th>\n",
       "      <th>critic_score</th>\n",
       "      <th>total_sale_game</th>\n",
       "    </tr>\n",
       "    <tr>\n",
       "      <th>platform</th>\n",
       "      <th></th>\n",
       "      <th></th>\n",
       "    </tr>\n",
       "  </thead>\n",
       "  <tbody>\n",
       "    <tr>\n",
       "      <th>PS4</th>\n",
       "      <td>18167.0</td>\n",
       "      <td>314.14</td>\n",
       "    </tr>\n",
       "    <tr>\n",
       "      <th>PS3</th>\n",
       "      <td>15315.0</td>\n",
       "      <td>288.79</td>\n",
       "    </tr>\n",
       "    <tr>\n",
       "      <th>PC</th>\n",
       "      <td>15016.0</td>\n",
       "      <td>62.65</td>\n",
       "    </tr>\n",
       "    <tr>\n",
       "      <th>XOne</th>\n",
       "      <td>12392.0</td>\n",
       "      <td>159.32</td>\n",
       "    </tr>\n",
       "    <tr>\n",
       "      <th>X360</th>\n",
       "      <td>12119.0</td>\n",
       "      <td>236.54</td>\n",
       "    </tr>\n",
       "    <tr>\n",
       "      <th>PSV</th>\n",
       "      <td>7632.0</td>\n",
       "      <td>49.18</td>\n",
       "    </tr>\n",
       "    <tr>\n",
       "      <th>3DS</th>\n",
       "      <td>7261.0</td>\n",
       "      <td>194.61</td>\n",
       "    </tr>\n",
       "    <tr>\n",
       "      <th>WiiU</th>\n",
       "      <td>6366.0</td>\n",
       "      <td>82.19</td>\n",
       "    </tr>\n",
       "    <tr>\n",
       "      <th>Wii</th>\n",
       "      <td>381.0</td>\n",
       "      <td>35.37</td>\n",
       "    </tr>\n",
       "    <tr>\n",
       "      <th>DS</th>\n",
       "      <td>80.0</td>\n",
       "      <td>12.55</td>\n",
       "    </tr>\n",
       "    <tr>\n",
       "      <th>PSP</th>\n",
       "      <td>74.0</td>\n",
       "      <td>11.19</td>\n",
       "    </tr>\n",
       "  </tbody>\n",
       "</table>\n",
       "</div>"
      ],
      "text/plain": [
       "          critic_score  total_sale_game\n",
       "platform                               \n",
       "PS4            18167.0           314.14\n",
       "PS3            15315.0           288.79\n",
       "PC             15016.0            62.65\n",
       "XOne           12392.0           159.32\n",
       "X360           12119.0           236.54\n",
       "PSV             7632.0            49.18\n",
       "3DS             7261.0           194.61\n",
       "WiiU            6366.0            82.19\n",
       "Wii              381.0            35.37\n",
       "DS                80.0            12.55\n",
       "PSP               74.0            11.19"
      ]
     },
     "execution_count": 47,
     "metadata": {},
     "output_type": "execute_result"
    }
   ],
   "source": [
    "data.pivot_table(index='platform', values=['critic_score','total_sale_game'], aggfunc='sum').sort_values('critic_score', ascending=False)"
   ]
  },
  {
   "cell_type": "code",
   "execution_count": 48,
   "metadata": {},
   "outputs": [
    {
     "data": {
      "text/html": [
       "<div>\n",
       "<style scoped>\n",
       "    .dataframe tbody tr th:only-of-type {\n",
       "        vertical-align: middle;\n",
       "    }\n",
       "\n",
       "    .dataframe tbody tr th {\n",
       "        vertical-align: top;\n",
       "    }\n",
       "\n",
       "    .dataframe thead th {\n",
       "        text-align: right;\n",
       "    }\n",
       "</style>\n",
       "<table border=\"1\" class=\"dataframe\">\n",
       "  <thead>\n",
       "    <tr style=\"text-align: right;\">\n",
       "      <th></th>\n",
       "      <th>year_of_release</th>\n",
       "      <th>na_sales</th>\n",
       "      <th>eu_sales</th>\n",
       "      <th>jp_sales</th>\n",
       "      <th>other_sales</th>\n",
       "      <th>critic_score</th>\n",
       "      <th>user_score</th>\n",
       "      <th>total_sale_game</th>\n",
       "    </tr>\n",
       "  </thead>\n",
       "  <tbody>\n",
       "    <tr>\n",
       "      <th>year_of_release</th>\n",
       "      <td>1.000000</td>\n",
       "      <td>-0.092848</td>\n",
       "      <td>-0.053163</td>\n",
       "      <td>-0.063587</td>\n",
       "      <td>-0.057375</td>\n",
       "      <td>0.014969</td>\n",
       "      <td>-0.019996</td>\n",
       "      <td>-0.083488</td>\n",
       "    </tr>\n",
       "    <tr>\n",
       "      <th>na_sales</th>\n",
       "      <td>-0.092848</td>\n",
       "      <td>1.000000</td>\n",
       "      <td>0.767484</td>\n",
       "      <td>0.271010</td>\n",
       "      <td>0.792277</td>\n",
       "      <td>0.290240</td>\n",
       "      <td>-0.014217</td>\n",
       "      <td>0.920981</td>\n",
       "    </tr>\n",
       "    <tr>\n",
       "      <th>eu_sales</th>\n",
       "      <td>-0.053163</td>\n",
       "      <td>0.767484</td>\n",
       "      <td>1.000000</td>\n",
       "      <td>0.265134</td>\n",
       "      <td>0.936906</td>\n",
       "      <td>0.283254</td>\n",
       "      <td>-0.022042</td>\n",
       "      <td>0.927487</td>\n",
       "    </tr>\n",
       "    <tr>\n",
       "      <th>jp_sales</th>\n",
       "      <td>-0.063587</td>\n",
       "      <td>0.271010</td>\n",
       "      <td>0.265134</td>\n",
       "      <td>1.000000</td>\n",
       "      <td>0.203078</td>\n",
       "      <td>0.116596</td>\n",
       "      <td>0.163980</td>\n",
       "      <td>0.450363</td>\n",
       "    </tr>\n",
       "    <tr>\n",
       "      <th>other_sales</th>\n",
       "      <td>-0.057375</td>\n",
       "      <td>0.792277</td>\n",
       "      <td>0.936906</td>\n",
       "      <td>0.203078</td>\n",
       "      <td>1.000000</td>\n",
       "      <td>0.272509</td>\n",
       "      <td>-0.010909</td>\n",
       "      <td>0.909525</td>\n",
       "    </tr>\n",
       "    <tr>\n",
       "      <th>critic_score</th>\n",
       "      <td>0.014969</td>\n",
       "      <td>0.290240</td>\n",
       "      <td>0.283254</td>\n",
       "      <td>0.116596</td>\n",
       "      <td>0.272509</td>\n",
       "      <td>1.000000</td>\n",
       "      <td>0.517727</td>\n",
       "      <td>0.308197</td>\n",
       "    </tr>\n",
       "    <tr>\n",
       "      <th>user_score</th>\n",
       "      <td>-0.019996</td>\n",
       "      <td>-0.014217</td>\n",
       "      <td>-0.022042</td>\n",
       "      <td>0.163980</td>\n",
       "      <td>-0.010909</td>\n",
       "      <td>0.517727</td>\n",
       "      <td>1.000000</td>\n",
       "      <td>0.004429</td>\n",
       "    </tr>\n",
       "    <tr>\n",
       "      <th>total_sale_game</th>\n",
       "      <td>-0.083488</td>\n",
       "      <td>0.920981</td>\n",
       "      <td>0.927487</td>\n",
       "      <td>0.450363</td>\n",
       "      <td>0.909525</td>\n",
       "      <td>0.308197</td>\n",
       "      <td>0.004429</td>\n",
       "      <td>1.000000</td>\n",
       "    </tr>\n",
       "  </tbody>\n",
       "</table>\n",
       "</div>"
      ],
      "text/plain": [
       "                 year_of_release  na_sales  eu_sales  jp_sales  other_sales  \\\n",
       "year_of_release         1.000000 -0.092848 -0.053163 -0.063587    -0.057375   \n",
       "na_sales               -0.092848  1.000000  0.767484  0.271010     0.792277   \n",
       "eu_sales               -0.053163  0.767484  1.000000  0.265134     0.936906   \n",
       "jp_sales               -0.063587  0.271010  0.265134  1.000000     0.203078   \n",
       "other_sales            -0.057375  0.792277  0.936906  0.203078     1.000000   \n",
       "critic_score            0.014969  0.290240  0.283254  0.116596     0.272509   \n",
       "user_score             -0.019996 -0.014217 -0.022042  0.163980    -0.010909   \n",
       "total_sale_game        -0.083488  0.920981  0.927487  0.450363     0.909525   \n",
       "\n",
       "                 critic_score  user_score  total_sale_game  \n",
       "year_of_release      0.014969   -0.019996        -0.083488  \n",
       "na_sales             0.290240   -0.014217         0.920981  \n",
       "eu_sales             0.283254   -0.022042         0.927487  \n",
       "jp_sales             0.116596    0.163980         0.450363  \n",
       "other_sales          0.272509   -0.010909         0.909525  \n",
       "critic_score         1.000000    0.517727         0.308197  \n",
       "user_score           0.517727    1.000000         0.004429  \n",
       "total_sale_game      0.308197    0.004429         1.000000  "
      ]
     },
     "execution_count": 48,
     "metadata": {},
     "output_type": "execute_result"
    }
   ],
   "source": [
    "data.corr()"
   ]
  },
  {
   "cell_type": "code",
   "execution_count": 49,
   "metadata": {},
   "outputs": [
    {
     "data": {
      "image/png": "[encoded data removed]",
      "text/plain": [
       "<Figure size 864x720 with 64 Axes>"
      ]
     },
     "metadata": {
      "needs_background": "light"
     },
     "output_type": "display_data"
    }
   ],
   "source": [
    "pd.plotting.scatter_matrix(data, figsize=(12, 10));"
   ]
  },
  {
   "cell_type": "markdown",
   "metadata": {},
   "source": [
    "<div style=\"border:solid Blue 2px; padding: 40px\">\n",
    "    \n",
    "***Вывод:*** \n",
    "    \n",
    "- Изучив матрицу корреляции можно сказать продажи в Японии, Америке и Европе влияют друг на друга. \n",
    "- Оценки критиков и пользователей взаимосвязаны."
   ]
  },
  {
   "cell_type": "markdown",
   "metadata": {},
   "source": [
    "### Посмотрим на общее распределение игр по жанрам."
   ]
  },
  {
   "cell_type": "markdown",
   "metadata": {},
   "source": [
    "    Количество игр каждого жанра или выручка не лучшие индикаторы успешности (скорее просто показатель объема рынка) - поэтому возьмем медианные продажи как показатель что бы получить представление об успешности жанра"
   ]
  },
  {
   "cell_type": "code",
   "execution_count": 50,
   "metadata": {},
   "outputs": [
    {
     "data": {
      "image/png": "[encoded data removed]",
      "text/plain": [
       "<Figure size 720x504 with 1 Axes>"
      ]
     },
     "metadata": {
      "needs_background": "light"
     },
     "output_type": "display_data"
    }
   ],
   "source": [
    "data['genre'].hist(figsize=(10, 7), bins=40);"
   ]
  },
  {
   "cell_type": "markdown",
   "metadata": {},
   "source": [
    "    Самыми популярными на рынке (по медиане продаж) последние года являются:\n",
    "  - Экшн, \n",
    "  - Ролевая игра \n",
    "  - Приключения\n",
    "  \n",
    "        Провальными можно считать жанры Паззл, Стратегия и Симуляция"
   ]
  },
  {
   "cell_type": "code",
   "execution_count": 51,
   "metadata": {},
   "outputs": [
    {
     "data": {
      "text/html": [
       "<div>\n",
       "<style scoped>\n",
       "    .dataframe tbody tr th:only-of-type {\n",
       "        vertical-align: middle;\n",
       "    }\n",
       "\n",
       "    .dataframe tbody tr th {\n",
       "        vertical-align: top;\n",
       "    }\n",
       "\n",
       "    .dataframe thead th {\n",
       "        text-align: right;\n",
       "    }\n",
       "</style>\n",
       "<table border=\"1\" class=\"dataframe\">\n",
       "  <thead>\n",
       "    <tr style=\"text-align: right;\">\n",
       "      <th></th>\n",
       "      <th>total_sale_game</th>\n",
       "    </tr>\n",
       "    <tr>\n",
       "      <th>genre</th>\n",
       "      <th></th>\n",
       "    </tr>\n",
       "  </thead>\n",
       "  <tbody>\n",
       "    <tr>\n",
       "      <th>Shooter</th>\n",
       "      <td>0.440</td>\n",
       "    </tr>\n",
       "    <tr>\n",
       "      <th>Sports</th>\n",
       "      <td>0.240</td>\n",
       "    </tr>\n",
       "    <tr>\n",
       "      <th>Platform</th>\n",
       "      <td>0.210</td>\n",
       "    </tr>\n",
       "    <tr>\n",
       "      <th>Role-Playing</th>\n",
       "      <td>0.140</td>\n",
       "    </tr>\n",
       "    <tr>\n",
       "      <th>Racing</th>\n",
       "      <td>0.140</td>\n",
       "    </tr>\n",
       "    <tr>\n",
       "      <th>Fighting</th>\n",
       "      <td>0.130</td>\n",
       "    </tr>\n",
       "    <tr>\n",
       "      <th>Action</th>\n",
       "      <td>0.120</td>\n",
       "    </tr>\n",
       "    <tr>\n",
       "      <th>Misc</th>\n",
       "      <td>0.120</td>\n",
       "    </tr>\n",
       "    <tr>\n",
       "      <th>Simulation</th>\n",
       "      <td>0.120</td>\n",
       "    </tr>\n",
       "    <tr>\n",
       "      <th>Strategy</th>\n",
       "      <td>0.080</td>\n",
       "    </tr>\n",
       "    <tr>\n",
       "      <th>Puzzle</th>\n",
       "      <td>0.045</td>\n",
       "    </tr>\n",
       "    <tr>\n",
       "      <th>Adventure</th>\n",
       "      <td>0.030</td>\n",
       "    </tr>\n",
       "  </tbody>\n",
       "</table>\n",
       "</div>"
      ],
      "text/plain": [
       "              total_sale_game\n",
       "genre                        \n",
       "Shooter                 0.440\n",
       "Sports                  0.240\n",
       "Platform                0.210\n",
       "Role-Playing            0.140\n",
       "Racing                  0.140\n",
       "Fighting                0.130\n",
       "Action                  0.120\n",
       "Misc                    0.120\n",
       "Simulation              0.120\n",
       "Strategy                0.080\n",
       "Puzzle                  0.045\n",
       "Adventure               0.030"
      ]
     },
     "execution_count": 51,
     "metadata": {},
     "output_type": "execute_result"
    }
   ],
   "source": [
    "data.pivot_table(index='genre', values='total_sale_game', aggfunc='median').sort_values('total_sale_game', ascending=False)"
   ]
  },
  {
   "cell_type": "markdown",
   "metadata": {},
   "source": [
    "    Самые успешные в выручке игры (по медиане) жанра :\n",
    "   - Шутер, \n",
    "   - Спорт,\n",
    "   - Платформер.\n",
    "   \n",
    "           Провальные здесь также отмечены Паззл, Стратегия, Симуляция а также Приключения."
   ]
  },
  {
   "cell_type": "markdown",
   "metadata": {},
   "source": [
    "## Портрет пользователя"
   ]
  },
  {
   "cell_type": "code",
   "execution_count": 52,
   "metadata": {},
   "outputs": [
    {
     "data": {
      "text/html": [
       "<div>\n",
       "<style scoped>\n",
       "    .dataframe tbody tr th:only-of-type {\n",
       "        vertical-align: middle;\n",
       "    }\n",
       "\n",
       "    .dataframe tbody tr th {\n",
       "        vertical-align: top;\n",
       "    }\n",
       "\n",
       "    .dataframe thead th {\n",
       "        text-align: right;\n",
       "    }\n",
       "</style>\n",
       "<table border=\"1\" class=\"dataframe\">\n",
       "  <thead>\n",
       "    <tr style=\"text-align: right;\">\n",
       "      <th></th>\n",
       "      <th>name</th>\n",
       "      <th>platform</th>\n",
       "      <th>year_of_release</th>\n",
       "      <th>genre</th>\n",
       "      <th>na_sales</th>\n",
       "      <th>eu_sales</th>\n",
       "      <th>jp_sales</th>\n",
       "      <th>other_sales</th>\n",
       "      <th>critic_score</th>\n",
       "      <th>user_score</th>\n",
       "      <th>rating</th>\n",
       "      <th>total_sale_game</th>\n",
       "    </tr>\n",
       "  </thead>\n",
       "  <tbody>\n",
       "    <tr>\n",
       "      <th>16</th>\n",
       "      <td>Grand Theft Auto V</td>\n",
       "      <td>PS3</td>\n",
       "      <td>2013</td>\n",
       "      <td>Action</td>\n",
       "      <td>7.02</td>\n",
       "      <td>9.09</td>\n",
       "      <td>0.98</td>\n",
       "      <td>3.96</td>\n",
       "      <td>97.0</td>\n",
       "      <td>8.2</td>\n",
       "      <td>M</td>\n",
       "      <td>21.05</td>\n",
       "    </tr>\n",
       "    <tr>\n",
       "      <th>23</th>\n",
       "      <td>Grand Theft Auto V</td>\n",
       "      <td>X360</td>\n",
       "      <td>2013</td>\n",
       "      <td>Action</td>\n",
       "      <td>9.66</td>\n",
       "      <td>5.14</td>\n",
       "      <td>0.06</td>\n",
       "      <td>1.41</td>\n",
       "      <td>97.0</td>\n",
       "      <td>8.1</td>\n",
       "      <td>M</td>\n",
       "      <td>16.27</td>\n",
       "    </tr>\n",
       "    <tr>\n",
       "      <th>31</th>\n",
       "      <td>Call of Duty: Black Ops 3</td>\n",
       "      <td>PS4</td>\n",
       "      <td>2015</td>\n",
       "      <td>Shooter</td>\n",
       "      <td>6.03</td>\n",
       "      <td>5.86</td>\n",
       "      <td>0.36</td>\n",
       "      <td>2.38</td>\n",
       "      <td>NaN</td>\n",
       "      <td>NaN</td>\n",
       "      <td>NaN</td>\n",
       "      <td>14.63</td>\n",
       "    </tr>\n",
       "    <tr>\n",
       "      <th>33</th>\n",
       "      <td>Pokemon X/Pokemon Y</td>\n",
       "      <td>3DS</td>\n",
       "      <td>2013</td>\n",
       "      <td>Role-Playing</td>\n",
       "      <td>5.28</td>\n",
       "      <td>4.19</td>\n",
       "      <td>4.35</td>\n",
       "      <td>0.78</td>\n",
       "      <td>NaN</td>\n",
       "      <td>NaN</td>\n",
       "      <td>NaN</td>\n",
       "      <td>14.60</td>\n",
       "    </tr>\n",
       "    <tr>\n",
       "      <th>34</th>\n",
       "      <td>Call of Duty: Black Ops II</td>\n",
       "      <td>PS3</td>\n",
       "      <td>2012</td>\n",
       "      <td>Shooter</td>\n",
       "      <td>4.99</td>\n",
       "      <td>5.73</td>\n",
       "      <td>0.65</td>\n",
       "      <td>2.42</td>\n",
       "      <td>83.0</td>\n",
       "      <td>5.3</td>\n",
       "      <td>M</td>\n",
       "      <td>13.79</td>\n",
       "    </tr>\n",
       "  </tbody>\n",
       "</table>\n",
       "</div>"
      ],
      "text/plain": [
       "                          name platform  year_of_release         genre  \\\n",
       "16          Grand Theft Auto V      PS3             2013        Action   \n",
       "23          Grand Theft Auto V     X360             2013        Action   \n",
       "31   Call of Duty: Black Ops 3      PS4             2015       Shooter   \n",
       "33         Pokemon X/Pokemon Y      3DS             2013  Role-Playing   \n",
       "34  Call of Duty: Black Ops II      PS3             2012       Shooter   \n",
       "\n",
       "    na_sales  eu_sales  jp_sales  other_sales  critic_score  user_score  \\\n",
       "16      7.02      9.09      0.98         3.96          97.0         8.2   \n",
       "23      9.66      5.14      0.06         1.41          97.0         8.1   \n",
       "31      6.03      5.86      0.36         2.38           NaN         NaN   \n",
       "33      5.28      4.19      4.35         0.78           NaN         NaN   \n",
       "34      4.99      5.73      0.65         2.42          83.0         5.3   \n",
       "\n",
       "   rating  total_sale_game  \n",
       "16      M            21.05  \n",
       "23      M            16.27  \n",
       "31    NaN            14.63  \n",
       "33    NaN            14.60  \n",
       "34      M            13.79  "
      ]
     },
     "execution_count": 52,
     "metadata": {},
     "output_type": "execute_result"
    }
   ],
   "source": [
    "data.head()"
   ]
  },
  {
   "cell_type": "markdown",
   "metadata": {},
   "source": [
    "### Для пользователя из Америки"
   ]
  },
  {
   "cell_type": "code",
   "execution_count": 53,
   "metadata": {},
   "outputs": [
    {
     "data": {
      "image/png": "[encoded data removed]",
      "text/plain": [
       "<Figure size 432x288 with 1 Axes>"
      ]
     },
     "metadata": {},
     "output_type": "display_data"
    }
   ],
   "source": [
    "data.pivot_table(index='platform', values='na_sales', aggfunc='sum').sort_values('na_sales', ascending=False).head().plot(y='na_sales', kind='pie');"
   ]
  },
  {
   "cell_type": "code",
   "execution_count": 54,
   "metadata": {},
   "outputs": [
    {
     "data": {
      "image/png": "[encoded data removed]",
      "text/plain": [
       "<Figure size 432x288 with 1 Axes>"
      ]
     },
     "metadata": {},
     "output_type": "display_data"
    }
   ],
   "source": [
    "data.pivot_table(index='genre', values='na_sales', aggfunc='sum').sort_values('na_sales', ascending=False).head().plot(y='na_sales', kind='pie');"
   ]
  },
  {
   "cell_type": "code",
   "execution_count": 55,
   "metadata": {},
   "outputs": [
    {
     "data": {
      "image/png": "[encoded data removed]",
      "text/plain": [
       "<Figure size 432x288 with 1 Axes>"
      ]
     },
     "metadata": {},
     "output_type": "display_data"
    }
   ],
   "source": [
    "data.pivot_table(index='rating', values='na_sales', aggfunc='sum').sort_values('na_sales', ascending=False).head().plot(y='na_sales', kind='pie');"
   ]
  },
  {
   "cell_type": "markdown",
   "metadata": {},
   "source": [
    "<div style=\"border:solid Blue 2px; padding: 40px\">\n",
    "    \n",
    "Американцы предпочитают:\n",
    "- Xbox 360\n",
    "- Экшн\n",
    "- rating M (17+)"
   ]
  },
  {
   "cell_type": "markdown",
   "metadata": {},
   "source": [
    "### Для пользователя из Японии"
   ]
  },
  {
   "cell_type": "code",
   "execution_count": 56,
   "metadata": {},
   "outputs": [
    {
     "data": {
      "image/png": "[encoded data removed]",
      "text/plain": [
       "<Figure size 432x288 with 1 Axes>"
      ]
     },
     "metadata": {},
     "output_type": "display_data"
    }
   ],
   "source": [
    "data.pivot_table(index='platform', values='jp_sales', aggfunc='sum').sort_values('jp_sales', ascending=False).head().plot(y='jp_sales', kind='pie');"
   ]
  },
  {
   "cell_type": "code",
   "execution_count": 57,
   "metadata": {},
   "outputs": [
    {
     "data": {
      "image/png": "[encoded data removed]",
      "text/plain": [
       "<Figure size 432x288 with 1 Axes>"
      ]
     },
     "metadata": {},
     "output_type": "display_data"
    }
   ],
   "source": [
    "data.pivot_table(index='genre', values='jp_sales', aggfunc='sum').sort_values('jp_sales', ascending=False).head().plot(y='jp_sales', kind='pie');"
   ]
  },
  {
   "cell_type": "code",
   "execution_count": 58,
   "metadata": {},
   "outputs": [
    {
     "data": {
      "image/png": "[encoded data removed]",
      "text/plain": [
       "<Figure size 432x288 with 1 Axes>"
      ]
     },
     "metadata": {},
     "output_type": "display_data"
    }
   ],
   "source": [
    "data.pivot_table(index='rating', values='jp_sales', aggfunc='sum').sort_values('jp_sales', ascending=False).head().plot(y='jp_sales', kind='pie');"
   ]
  },
  {
   "cell_type": "markdown",
   "metadata": {},
   "source": [
    "<div style=\"border:solid Blue 2px; padding: 40px\">\n",
    "\n",
    "Японцы предпочитают: \n",
    "- NintendoDS \n",
    "- Ролевая игра \n",
    "- для всех возрастных категорий rating E и тинейджеров T(13+)"
   ]
  },
  {
   "cell_type": "markdown",
   "metadata": {},
   "source": [
    "### Для пользователя из Европы"
   ]
  },
  {
   "cell_type": "code",
   "execution_count": 59,
   "metadata": {},
   "outputs": [
    {
     "data": {
      "image/png": "[encoded data removed]",
      "text/plain": [
       "<Figure size 432x288 with 1 Axes>"
      ]
     },
     "metadata": {},
     "output_type": "display_data"
    }
   ],
   "source": [
    "data.pivot_table(index='platform', values='eu_sales', aggfunc='sum').sort_values('eu_sales', ascending=False).head().plot(y='eu_sales', kind='pie');"
   ]
  },
  {
   "cell_type": "code",
   "execution_count": 60,
   "metadata": {},
   "outputs": [
    {
     "data": {
      "image/png": "[encoded data removed]",
      "text/plain": [
       "<Figure size 432x288 with 1 Axes>"
      ]
     },
     "metadata": {},
     "output_type": "display_data"
    }
   ],
   "source": [
    "data.pivot_table(index='genre', values='eu_sales', aggfunc='sum').sort_values('eu_sales', ascending=False).head().plot(y='eu_sales', kind='pie');"
   ]
  },
  {
   "cell_type": "code",
   "execution_count": 61,
   "metadata": {},
   "outputs": [
    {
     "data": {
      "image/png": "[encoded data removed]",
      "text/plain": [
       "<Figure size 432x288 with 1 Axes>"
      ]
     },
     "metadata": {},
     "output_type": "display_data"
    }
   ],
   "source": [
    "data.pivot_table(index='rating', values='eu_sales', aggfunc='sum').sort_values('eu_sales', ascending=False).head().plot(y='eu_sales', kind='pie');"
   ]
  },
  {
   "cell_type": "markdown",
   "metadata": {},
   "source": [
    "<div style=\"border:solid Blue 2px; padding: 40px\">\n",
    "Европейцы предпочитают:\n",
    "    \n",
    "- PlayStation4 \n",
    "- Экшн \n",
    "- rating M (17+) "
   ]
  },
  {
   "cell_type": "markdown",
   "metadata": {},
   "source": [
    "## Гипотезы"
   ]
  },
  {
   "cell_type": "code",
   "execution_count": 62,
   "metadata": {},
   "outputs": [],
   "source": [
    "data['user_score'] = data['user_score'].fillna(0)"
   ]
  },
  {
   "cell_type": "code",
   "execution_count": 63,
   "metadata": {},
   "outputs": [],
   "source": [
    "data = data.query('user_score != 0.0')"
   ]
  },
  {
   "cell_type": "code",
   "execution_count": 64,
   "metadata": {},
   "outputs": [
    {
     "data": {
      "text/html": [
       "<div>\n",
       "<style scoped>\n",
       "    .dataframe tbody tr th:only-of-type {\n",
       "        vertical-align: middle;\n",
       "    }\n",
       "\n",
       "    .dataframe tbody tr th {\n",
       "        vertical-align: top;\n",
       "    }\n",
       "\n",
       "    .dataframe thead th {\n",
       "        text-align: right;\n",
       "    }\n",
       "</style>\n",
       "<table border=\"1\" class=\"dataframe\">\n",
       "  <thead>\n",
       "    <tr style=\"text-align: right;\">\n",
       "      <th></th>\n",
       "      <th>name</th>\n",
       "      <th>platform</th>\n",
       "      <th>year_of_release</th>\n",
       "      <th>genre</th>\n",
       "      <th>na_sales</th>\n",
       "      <th>eu_sales</th>\n",
       "      <th>jp_sales</th>\n",
       "      <th>other_sales</th>\n",
       "      <th>critic_score</th>\n",
       "      <th>user_score</th>\n",
       "      <th>rating</th>\n",
       "      <th>total_sale_game</th>\n",
       "    </tr>\n",
       "  </thead>\n",
       "  <tbody>\n",
       "    <tr>\n",
       "      <th>6547</th>\n",
       "      <td>Tokyo Jungle</td>\n",
       "      <td>PS3</td>\n",
       "      <td>2012</td>\n",
       "      <td>Action</td>\n",
       "      <td>0.00</td>\n",
       "      <td>0.00</td>\n",
       "      <td>0.26</td>\n",
       "      <td>0.00</td>\n",
       "      <td>74.0</td>\n",
       "      <td>8.4</td>\n",
       "      <td>T</td>\n",
       "      <td>0.26</td>\n",
       "    </tr>\n",
       "    <tr>\n",
       "      <th>1613</th>\n",
       "      <td>FIFA Street</td>\n",
       "      <td>PS3</td>\n",
       "      <td>2012</td>\n",
       "      <td>Sports</td>\n",
       "      <td>0.12</td>\n",
       "      <td>0.89</td>\n",
       "      <td>0.00</td>\n",
       "      <td>0.23</td>\n",
       "      <td>76.0</td>\n",
       "      <td>6.4</td>\n",
       "      <td>E</td>\n",
       "      <td>1.24</td>\n",
       "    </tr>\n",
       "    <tr>\n",
       "      <th>8059</th>\n",
       "      <td>LEGO Harry Potter: Years 5-7</td>\n",
       "      <td>PSV</td>\n",
       "      <td>2012</td>\n",
       "      <td>Action</td>\n",
       "      <td>0.07</td>\n",
       "      <td>0.07</td>\n",
       "      <td>0.00</td>\n",
       "      <td>0.03</td>\n",
       "      <td>64.0</td>\n",
       "      <td>6.8</td>\n",
       "      <td>E10+</td>\n",
       "      <td>0.17</td>\n",
       "    </tr>\n",
       "    <tr>\n",
       "      <th>8251</th>\n",
       "      <td>The Secret World</td>\n",
       "      <td>PC</td>\n",
       "      <td>2012</td>\n",
       "      <td>Role-Playing</td>\n",
       "      <td>0.07</td>\n",
       "      <td>0.08</td>\n",
       "      <td>0.00</td>\n",
       "      <td>0.02</td>\n",
       "      <td>74.0</td>\n",
       "      <td>8.2</td>\n",
       "      <td>M</td>\n",
       "      <td>0.17</td>\n",
       "    </tr>\n",
       "    <tr>\n",
       "      <th>10491</th>\n",
       "      <td>Blades of Time</td>\n",
       "      <td>X360</td>\n",
       "      <td>2012</td>\n",
       "      <td>Action</td>\n",
       "      <td>0.07</td>\n",
       "      <td>0.02</td>\n",
       "      <td>0.00</td>\n",
       "      <td>0.01</td>\n",
       "      <td>52.0</td>\n",
       "      <td>6.5</td>\n",
       "      <td>M</td>\n",
       "      <td>0.10</td>\n",
       "    </tr>\n",
       "  </tbody>\n",
       "</table>\n",
       "</div>"
      ],
      "text/plain": [
       "                               name platform  year_of_release         genre  \\\n",
       "6547                   Tokyo Jungle      PS3             2012        Action   \n",
       "1613                    FIFA Street      PS3             2012        Sports   \n",
       "8059   LEGO Harry Potter: Years 5-7      PSV             2012        Action   \n",
       "8251               The Secret World       PC             2012  Role-Playing   \n",
       "10491                Blades of Time     X360             2012        Action   \n",
       "\n",
       "       na_sales  eu_sales  jp_sales  other_sales  critic_score  user_score  \\\n",
       "6547       0.00      0.00      0.26         0.00          74.0         8.4   \n",
       "1613       0.12      0.89      0.00         0.23          76.0         6.4   \n",
       "8059       0.07      0.07      0.00         0.03          64.0         6.8   \n",
       "8251       0.07      0.08      0.00         0.02          74.0         8.2   \n",
       "10491      0.07      0.02      0.00         0.01          52.0         6.5   \n",
       "\n",
       "      rating  total_sale_game  \n",
       "6547       T             0.26  \n",
       "1613       E             1.24  \n",
       "8059    E10+             0.17  \n",
       "8251       M             0.17  \n",
       "10491      M             0.10  "
      ]
     },
     "execution_count": 64,
     "metadata": {},
     "output_type": "execute_result"
    }
   ],
   "source": [
    "data.sample(5)"
   ]
  },
  {
   "cell_type": "markdown",
   "metadata": {},
   "source": [
    "  \n",
    "    H0 - Средние пользовательские рейтинги платформ Xbox One и PS4 равны\n",
    "    H1 - Средние пользовательские рейтинги платформ Xbox One и PS4 не равны\n"
   ]
  },
  {
   "cell_type": "markdown",
   "metadata": {},
   "source": [
    "### 1.Средние пользовательские рейтинги платформ Xbox One и PS одинаковые;"
   ]
  },
  {
   "cell_type": "code",
   "execution_count": 65,
   "metadata": {},
   "outputs": [],
   "source": [
    "alpha = 0.05\n",
    "\n",
    "\n",
    "result = st.ttest_ind(\n",
    "    data[data['platform']=='X360']['user_score'],\n",
    "    data[data['platform']=='PS4']['user_score'],\n",
    "    equal_var=False)\n"
   ]
  },
  {
   "cell_type": "code",
   "execution_count": 66,
   "metadata": {},
   "outputs": [
    {
     "data": {
      "text/plain": [
       "0.0001414683515144136"
      ]
     },
     "execution_count": 66,
     "metadata": {},
     "output_type": "execute_result"
    }
   ],
   "source": [
    "result.pvalue"
   ]
  },
  {
   "cell_type": "markdown",
   "metadata": {},
   "source": [
    "     Подтверждаем нулевую гипотезу. "
   ]
  },
  {
   "cell_type": "markdown",
   "metadata": {},
   "source": [
    "### 2.Средние пользовательские рейтинги жанров Action (экшен-игры) и Sports (спортивные соревнования) разные."
   ]
  },
  {
   "cell_type": "markdown",
   "metadata": {},
   "source": [
    "  \n",
    "    H0 - Средние пользовательские рейтинги жанров Action и Sports разные\n",
    "    H1 - Средние пользовательские рейтинги платформ Action и Sports одинаковые"
   ]
  },
  {
   "cell_type": "code",
   "execution_count": 67,
   "metadata": {},
   "outputs": [],
   "source": [
    "alpha = 0.05\n",
    "\n",
    "\n",
    "result = st.ttest_ind(\n",
    "    data[data['genre']=='Action']['user_score'],\n",
    "    data[data['genre']=='Sports']['user_score'],\n",
    "    equal_var=False)\n"
   ]
  },
  {
   "cell_type": "code",
   "execution_count": 68,
   "metadata": {},
   "outputs": [
    {
     "name": "stdout",
     "output_type": "stream",
     "text": [
      "4.24307776572644e-20\n"
     ]
    }
   ],
   "source": [
    "print(result.pvalue)"
   ]
  },
  {
   "cell_type": "markdown",
   "metadata": {},
   "source": [
    "    Подтверждаем альтернативную гипотезу."
   ]
  },
  {
   "cell_type": "markdown",
   "metadata": {},
   "source": [
    "<div style=\"border:solid Blue 2px; padding: 40px\">\n",
    "<h1> Результат</h1>\n",
    "     \n",
    "    \n",
    "- Предообработка данных включала в себя изменение некоторых типов данных (оценка пользователей - float, год релиза - int); название колонок привели в нижний регистр по pep8; далее добавили колонку по суммарным продажам total_sale_game, определили срок жизни игровой платформы(в среднем 10 лет); затем (по гистограмме) отфильтровали датасет по актуальному периоду, я выбрала 2012-2016 год. Теперь датасет может отвечать на более детальные вопросы.\n",
    "       \n",
    "- Проведя исследовательский анализ данных по магазину \"Стримчик\" выяснились определяющие успешность игры закономерности:\n",
    "- Игра на платформе PlayStation4 и Xbox One (судя по гистограмме у американцев равнозначное отношение к xOne и x360)\n",
    "- Игра в жанре Action являются самыми распрастраненными на рынке, но shooter, sport, platformer успешнее. (также средние пользовательские рейтинги игр в жанре экшн и спорт - одинаковые)\n",
    "- Игра с возрастной категорией \"M\" интересуют пользователей больше.\n",
    "- Если ориентироваться на японский рынок видеоигр - в таком случае нужно отдать предпочтение платформе NintendoDS, жанру  Role-play для всех возрастных категорий. \n",
    "    \n",
    "Итог : \n",
    "-  В 2017 году можно сделать ставку на Shooter судя по медианной успешности жанра, (если не брать в расчет продажи в Японии - они не так сильно влияют на тотальные продажи по миру) \n",
    "- игру на платформе PS4 или XboxOne (поскольку гипотеза об одинаковом пользовательском рейтинге этих двух платформ подтвердилась), \n",
    "- возрастная категория может быть M и/или Е.\n",
    "</div> "
   ]
  }
 ],
 "metadata": {
  "ExecuteTimeLog": [
   {
    "duration": 494,
    "start_time": "2022-09-05T08:16:06.495Z"
   },
   {
    "duration": 480,
    "start_time": "2022-09-05T08:16:30.986Z"
   },
   {
    "duration": 58,
    "start_time": "2022-09-05T08:17:02.531Z"
   },
   {
    "duration": 93,
    "start_time": "2022-09-05T08:17:09.715Z"
   },
   {
    "duration": 72,
    "start_time": "2022-09-05T08:17:19.647Z"
   },
   {
    "duration": 21,
    "start_time": "2022-09-05T08:17:41.573Z"
   },
   {
    "duration": 14,
    "start_time": "2022-09-05T08:25:52.364Z"
   },
   {
    "duration": 22,
    "start_time": "2022-09-05T08:26:04.281Z"
   },
   {
    "duration": 3,
    "start_time": "2022-09-05T08:26:21.989Z"
   },
   {
    "duration": 67,
    "start_time": "2022-09-05T08:26:22.379Z"
   },
   {
    "duration": 20,
    "start_time": "2022-09-05T08:26:22.871Z"
   },
   {
    "duration": 16,
    "start_time": "2022-09-05T08:26:23.350Z"
   },
   {
    "duration": 18,
    "start_time": "2022-09-05T08:26:23.811Z"
   },
   {
    "duration": 559,
    "start_time": "2022-09-05T08:26:49.944Z"
   },
   {
    "duration": 812,
    "start_time": "2022-09-05T08:26:53.534Z"
   },
   {
    "duration": 731,
    "start_time": "2022-09-05T08:27:14.924Z"
   },
   {
    "duration": 9,
    "start_time": "2022-09-05T08:30:45.756Z"
   },
   {
    "duration": 11,
    "start_time": "2022-09-05T08:31:01.855Z"
   },
   {
    "duration": 13,
    "start_time": "2022-09-05T08:31:19.965Z"
   },
   {
    "duration": 17,
    "start_time": "2022-09-05T08:31:26.837Z"
   },
   {
    "duration": 11,
    "start_time": "2022-09-05T08:31:57.345Z"
   },
   {
    "duration": 18,
    "start_time": "2022-09-05T08:32:10.827Z"
   },
   {
    "duration": 12,
    "start_time": "2022-09-05T08:45:37.906Z"
   },
   {
    "duration": 9,
    "start_time": "2022-09-05T08:45:43.271Z"
   },
   {
    "duration": 9,
    "start_time": "2022-09-05T08:50:41.341Z"
   },
   {
    "duration": 9,
    "start_time": "2022-09-05T08:51:24.945Z"
   },
   {
    "duration": 10,
    "start_time": "2022-09-05T08:51:33.305Z"
   },
   {
    "duration": 10,
    "start_time": "2022-09-05T08:53:29.985Z"
   },
   {
    "duration": 8,
    "start_time": "2022-09-05T08:57:36.828Z"
   },
   {
    "duration": 10,
    "start_time": "2022-09-05T08:57:44.359Z"
   },
   {
    "duration": 5,
    "start_time": "2022-09-05T08:57:58.650Z"
   },
   {
    "duration": 8,
    "start_time": "2022-09-05T08:58:30.119Z"
   },
   {
    "duration": 3,
    "start_time": "2022-09-05T08:58:34.923Z"
   },
   {
    "duration": 4,
    "start_time": "2022-09-05T08:58:43.865Z"
   },
   {
    "duration": 10,
    "start_time": "2022-09-05T08:59:33.519Z"
   },
   {
    "duration": 11,
    "start_time": "2022-09-05T08:59:41.239Z"
   },
   {
    "duration": 5,
    "start_time": "2022-09-05T08:59:49.109Z"
   },
   {
    "duration": 16,
    "start_time": "2022-09-05T08:59:57.010Z"
   },
   {
    "duration": 4,
    "start_time": "2022-09-05T09:01:10.926Z"
   },
   {
    "duration": 15,
    "start_time": "2022-09-05T09:01:11.824Z"
   },
   {
    "duration": 3,
    "start_time": "2022-09-05T09:01:27.347Z"
   },
   {
    "duration": 72,
    "start_time": "2022-09-05T09:01:28.269Z"
   },
   {
    "duration": 16,
    "start_time": "2022-09-05T09:01:29.326Z"
   },
   {
    "duration": 25,
    "start_time": "2022-09-05T09:01:30.002Z"
   },
   {
    "duration": 19,
    "start_time": "2022-09-05T09:01:30.786Z"
   },
   {
    "duration": 12,
    "start_time": "2022-09-05T09:01:31.355Z"
   },
   {
    "duration": 17,
    "start_time": "2022-09-05T09:01:31.818Z"
   },
   {
    "duration": 698,
    "start_time": "2022-09-05T09:01:32.425Z"
   },
   {
    "duration": 3,
    "start_time": "2022-09-05T09:01:33.787Z"
   },
   {
    "duration": 30,
    "start_time": "2022-09-05T09:01:34.400Z"
   },
   {
    "duration": 1250,
    "start_time": "2022-09-05T09:03:53.405Z"
   },
   {
    "duration": 9,
    "start_time": "2022-09-05T09:05:41.019Z"
   },
   {
    "duration": 22,
    "start_time": "2022-09-05T09:06:08.095Z"
   },
   {
    "duration": 8,
    "start_time": "2022-09-05T09:09:06.010Z"
   },
   {
    "duration": 11,
    "start_time": "2022-09-05T09:09:32.459Z"
   },
   {
    "duration": 8,
    "start_time": "2022-09-05T09:10:59.744Z"
   },
   {
    "duration": 3,
    "start_time": "2022-09-05T09:11:38.172Z"
   },
   {
    "duration": 16,
    "start_time": "2022-09-05T09:11:41.488Z"
   },
   {
    "duration": 19,
    "start_time": "2022-09-05T09:12:01.471Z"
   },
   {
    "duration": 12,
    "start_time": "2022-09-05T09:12:29.549Z"
   },
   {
    "duration": 16,
    "start_time": "2022-09-05T09:13:00.499Z"
   },
   {
    "duration": 13,
    "start_time": "2022-09-05T09:14:30.202Z"
   },
   {
    "duration": 13,
    "start_time": "2022-09-05T09:14:38.778Z"
   },
   {
    "duration": 11,
    "start_time": "2022-09-05T09:15:14.900Z"
   },
   {
    "duration": 12,
    "start_time": "2022-09-05T09:15:25.044Z"
   },
   {
    "duration": 14,
    "start_time": "2022-09-05T09:16:23.819Z"
   },
   {
    "duration": 5,
    "start_time": "2022-09-05T09:18:10.592Z"
   },
   {
    "duration": 23,
    "start_time": "2022-09-05T09:18:21.520Z"
   },
   {
    "duration": 13,
    "start_time": "2022-09-05T09:18:50.943Z"
   },
   {
    "duration": 16,
    "start_time": "2022-09-05T09:18:58.989Z"
   },
   {
    "duration": 6,
    "start_time": "2022-09-05T09:19:00.304Z"
   },
   {
    "duration": 14,
    "start_time": "2022-09-05T09:19:00.798Z"
   },
   {
    "duration": 15,
    "start_time": "2022-09-05T09:20:40.325Z"
   },
   {
    "duration": 10,
    "start_time": "2022-09-05T09:21:15.155Z"
   },
   {
    "duration": 7,
    "start_time": "2022-09-05T09:26:55.932Z"
   },
   {
    "duration": 12,
    "start_time": "2022-09-05T09:33:18.778Z"
   },
   {
    "duration": 12,
    "start_time": "2022-09-05T09:33:36.069Z"
   },
   {
    "duration": 10,
    "start_time": "2022-09-05T09:33:54.467Z"
   },
   {
    "duration": 9,
    "start_time": "2022-09-05T09:37:31.489Z"
   },
   {
    "duration": 68,
    "start_time": "2022-09-05T09:37:38.789Z"
   },
   {
    "duration": 52,
    "start_time": "2022-09-05T09:37:45.720Z"
   },
   {
    "duration": 19,
    "start_time": "2022-09-05T10:13:02.600Z"
   },
   {
    "duration": 4,
    "start_time": "2022-09-05T10:13:17.078Z"
   },
   {
    "duration": 6,
    "start_time": "2022-09-05T10:13:41.071Z"
   },
   {
    "duration": 5,
    "start_time": "2022-09-05T10:13:54.477Z"
   },
   {
    "duration": 8,
    "start_time": "2022-09-05T10:14:03.519Z"
   },
   {
    "duration": 4,
    "start_time": "2022-09-05T10:14:09.753Z"
   },
   {
    "duration": 7,
    "start_time": "2022-09-05T10:14:25.199Z"
   },
   {
    "duration": 4,
    "start_time": "2022-09-05T10:17:44.876Z"
   },
   {
    "duration": 7,
    "start_time": "2022-09-05T10:17:46.638Z"
   },
   {
    "duration": 7,
    "start_time": "2022-09-05T10:18:06.406Z"
   },
   {
    "duration": 11,
    "start_time": "2022-09-05T10:18:21.324Z"
   },
   {
    "duration": 8,
    "start_time": "2022-09-05T10:18:25.462Z"
   },
   {
    "duration": 5,
    "start_time": "2022-09-05T10:18:26.510Z"
   },
   {
    "duration": 14,
    "start_time": "2022-09-05T10:18:40.385Z"
   },
   {
    "duration": 3,
    "start_time": "2022-09-05T10:18:50.213Z"
   },
   {
    "duration": 5,
    "start_time": "2022-09-05T10:18:50.729Z"
   },
   {
    "duration": 65,
    "start_time": "2022-09-05T10:19:09.014Z"
   },
   {
    "duration": 609,
    "start_time": "2022-09-05T10:19:13.344Z"
   },
   {
    "duration": 68,
    "start_time": "2022-09-05T10:19:13.955Z"
   },
   {
    "duration": 13,
    "start_time": "2022-09-05T10:19:14.573Z"
   },
   {
    "duration": 15,
    "start_time": "2022-09-05T10:19:14.937Z"
   },
   {
    "duration": 15,
    "start_time": "2022-09-05T10:19:15.257Z"
   },
   {
    "duration": 10,
    "start_time": "2022-09-05T10:19:15.624Z"
   },
   {
    "duration": 16,
    "start_time": "2022-09-05T10:19:16.060Z"
   },
   {
    "duration": 646,
    "start_time": "2022-09-05T10:19:16.518Z"
   },
   {
    "duration": 4,
    "start_time": "2022-09-05T10:19:18.423Z"
   },
   {
    "duration": 15,
    "start_time": "2022-09-05T10:19:18.725Z"
   },
   {
    "duration": 5,
    "start_time": "2022-09-05T10:19:19.623Z"
   },
   {
    "duration": 14,
    "start_time": "2022-09-05T10:19:20.332Z"
   },
   {
    "duration": 11,
    "start_time": "2022-09-05T10:19:21.143Z"
   },
   {
    "duration": 3,
    "start_time": "2022-09-05T10:19:21.541Z"
   },
   {
    "duration": 6,
    "start_time": "2022-09-05T10:19:22.141Z"
   },
   {
    "duration": 7,
    "start_time": "2022-09-05T10:20:12.469Z"
   },
   {
    "duration": 5,
    "start_time": "2022-09-05T10:20:16.310Z"
   },
   {
    "duration": 5,
    "start_time": "2022-09-05T10:21:27.611Z"
   },
   {
    "duration": 6,
    "start_time": "2022-09-05T10:21:28.292Z"
   },
   {
    "duration": 696,
    "start_time": "2022-09-05T10:21:47.694Z"
   },
   {
    "duration": 77,
    "start_time": "2022-09-05T10:21:48.391Z"
   },
   {
    "duration": 18,
    "start_time": "2022-09-05T10:21:49.034Z"
   },
   {
    "duration": 16,
    "start_time": "2022-09-05T10:21:49.233Z"
   },
   {
    "duration": 16,
    "start_time": "2022-09-05T10:21:49.511Z"
   },
   {
    "duration": 13,
    "start_time": "2022-09-05T10:21:49.849Z"
   },
   {
    "duration": 16,
    "start_time": "2022-09-05T10:21:50.173Z"
   },
   {
    "duration": 663,
    "start_time": "2022-09-05T10:21:50.532Z"
   },
   {
    "duration": 3,
    "start_time": "2022-09-05T10:21:51.978Z"
   },
   {
    "duration": 15,
    "start_time": "2022-09-05T10:21:52.240Z"
   },
   {
    "duration": 5,
    "start_time": "2022-09-05T10:21:53.154Z"
   },
   {
    "duration": 13,
    "start_time": "2022-09-05T10:21:53.587Z"
   },
   {
    "duration": 12,
    "start_time": "2022-09-05T10:21:54.740Z"
   },
   {
    "duration": 3,
    "start_time": "2022-09-05T10:21:55.361Z"
   },
   {
    "duration": 6,
    "start_time": "2022-09-05T10:21:56.166Z"
   },
   {
    "duration": 70,
    "start_time": "2022-09-05T10:39:56.794Z"
   },
   {
    "duration": 18,
    "start_time": "2022-09-05T10:42:47.322Z"
   },
   {
    "duration": 6,
    "start_time": "2022-09-05T10:42:49.642Z"
   },
   {
    "duration": 15,
    "start_time": "2022-09-05T10:43:03.454Z"
   },
   {
    "duration": 9,
    "start_time": "2022-09-05T10:43:53.120Z"
   },
   {
    "duration": 6,
    "start_time": "2022-09-05T10:43:58.625Z"
   },
   {
    "duration": 15,
    "start_time": "2022-09-05T10:44:01.021Z"
   },
   {
    "duration": 733,
    "start_time": "2022-09-05T10:44:48.438Z"
   },
   {
    "duration": 71,
    "start_time": "2022-09-05T10:44:50.204Z"
   },
   {
    "duration": 19,
    "start_time": "2022-09-05T10:44:50.432Z"
   },
   {
    "duration": 17,
    "start_time": "2022-09-05T10:44:50.666Z"
   },
   {
    "duration": 16,
    "start_time": "2022-09-05T10:44:50.919Z"
   },
   {
    "duration": 8,
    "start_time": "2022-09-05T10:44:51.343Z"
   },
   {
    "duration": 18,
    "start_time": "2022-09-05T10:44:51.563Z"
   },
   {
    "duration": 619,
    "start_time": "2022-09-05T10:44:51.815Z"
   },
   {
    "duration": 4,
    "start_time": "2022-09-05T10:44:54.536Z"
   },
   {
    "duration": 14,
    "start_time": "2022-09-05T10:44:54.774Z"
   },
   {
    "duration": 5,
    "start_time": "2022-09-05T10:44:55.442Z"
   },
   {
    "duration": 14,
    "start_time": "2022-09-05T10:44:55.757Z"
   },
   {
    "duration": 9,
    "start_time": "2022-09-05T10:44:56.539Z"
   },
   {
    "duration": 6,
    "start_time": "2022-09-05T10:44:57.236Z"
   },
   {
    "duration": 16,
    "start_time": "2022-09-05T10:44:57.767Z"
   },
   {
    "duration": 25,
    "start_time": "2022-09-05T10:45:16.236Z"
   },
   {
    "duration": 2,
    "start_time": "2022-09-05T10:45:35.677Z"
   },
   {
    "duration": 73,
    "start_time": "2022-09-05T10:45:36.122Z"
   },
   {
    "duration": 17,
    "start_time": "2022-09-05T10:45:36.446Z"
   },
   {
    "duration": 16,
    "start_time": "2022-09-05T10:45:36.837Z"
   },
   {
    "duration": 15,
    "start_time": "2022-09-05T10:45:37.121Z"
   },
   {
    "duration": 13,
    "start_time": "2022-09-05T10:45:37.470Z"
   },
   {
    "duration": 16,
    "start_time": "2022-09-05T10:45:37.818Z"
   },
   {
    "duration": 685,
    "start_time": "2022-09-05T10:45:38.218Z"
   },
   {
    "duration": 3,
    "start_time": "2022-09-05T10:45:39.477Z"
   },
   {
    "duration": 14,
    "start_time": "2022-09-05T10:45:39.886Z"
   },
   {
    "duration": 5,
    "start_time": "2022-09-05T10:45:40.473Z"
   },
   {
    "duration": 14,
    "start_time": "2022-09-05T10:45:40.821Z"
   },
   {
    "duration": 13,
    "start_time": "2022-09-05T10:45:41.551Z"
   },
   {
    "duration": 3,
    "start_time": "2022-09-05T10:45:42.181Z"
   },
   {
    "duration": 18,
    "start_time": "2022-09-05T10:45:42.625Z"
   },
   {
    "duration": 5,
    "start_time": "2022-09-05T10:49:27.687Z"
   },
   {
    "duration": 17,
    "start_time": "2022-09-05T10:49:29.830Z"
   },
   {
    "duration": 82,
    "start_time": "2022-09-05T10:50:01.920Z"
   },
   {
    "duration": 17,
    "start_time": "2022-09-05T10:50:15.368Z"
   },
   {
    "duration": 17,
    "start_time": "2022-09-05T10:50:46.469Z"
   },
   {
    "duration": 17,
    "start_time": "2022-09-05T10:50:56.959Z"
   },
   {
    "duration": 659,
    "start_time": "2022-09-05T10:51:10.804Z"
   },
   {
    "duration": 74,
    "start_time": "2022-09-05T10:51:11.465Z"
   },
   {
    "duration": 15,
    "start_time": "2022-09-05T10:51:11.557Z"
   },
   {
    "duration": 19,
    "start_time": "2022-09-05T10:51:11.787Z"
   },
   {
    "duration": 15,
    "start_time": "2022-09-05T10:51:12.024Z"
   },
   {
    "duration": 9,
    "start_time": "2022-09-05T10:51:12.250Z"
   },
   {
    "duration": 16,
    "start_time": "2022-09-05T10:51:12.468Z"
   },
   {
    "duration": 628,
    "start_time": "2022-09-05T10:51:12.694Z"
   },
   {
    "duration": 3,
    "start_time": "2022-09-05T10:51:13.576Z"
   },
   {
    "duration": 13,
    "start_time": "2022-09-05T10:51:13.807Z"
   },
   {
    "duration": 6,
    "start_time": "2022-09-05T10:51:14.220Z"
   },
   {
    "duration": 13,
    "start_time": "2022-09-05T10:51:14.438Z"
   },
   {
    "duration": 10,
    "start_time": "2022-09-05T10:51:14.885Z"
   },
   {
    "duration": 93,
    "start_time": "2022-09-05T10:51:15.094Z"
   },
   {
    "duration": 17,
    "start_time": "2022-09-05T10:51:15.327Z"
   },
   {
    "duration": 5,
    "start_time": "2022-09-05T11:03:25.810Z"
   },
   {
    "duration": 17,
    "start_time": "2022-09-05T11:03:28.229Z"
   },
   {
    "duration": 47,
    "start_time": "2022-09-05T13:44:43.905Z"
   },
   {
    "duration": 722,
    "start_time": "2022-09-05T13:44:49.925Z"
   },
   {
    "duration": 119,
    "start_time": "2022-09-05T13:44:50.649Z"
   },
   {
    "duration": 12,
    "start_time": "2022-09-05T13:44:50.770Z"
   },
   {
    "duration": 16,
    "start_time": "2022-09-05T13:44:50.783Z"
   },
   {
    "duration": 16,
    "start_time": "2022-09-05T13:44:50.801Z"
   },
   {
    "duration": 7,
    "start_time": "2022-09-05T13:44:50.819Z"
   },
   {
    "duration": 21,
    "start_time": "2022-09-05T13:44:50.828Z"
   },
   {
    "duration": 558,
    "start_time": "2022-09-05T13:44:50.850Z"
   },
   {
    "duration": 3,
    "start_time": "2022-09-05T13:44:51.410Z"
   },
   {
    "duration": 16,
    "start_time": "2022-09-05T13:44:51.414Z"
   },
   {
    "duration": 15,
    "start_time": "2022-09-05T13:44:51.432Z"
   },
   {
    "duration": 18,
    "start_time": "2022-09-05T13:44:51.449Z"
   },
   {
    "duration": 11,
    "start_time": "2022-09-05T13:44:51.469Z"
   },
   {
    "duration": 14,
    "start_time": "2022-09-05T13:44:51.482Z"
   },
   {
    "duration": 29,
    "start_time": "2022-09-05T13:44:51.497Z"
   },
   {
    "duration": 7,
    "start_time": "2022-09-05T13:44:51.528Z"
   },
   {
    "duration": 36,
    "start_time": "2022-09-05T13:46:20.097Z"
   },
   {
    "duration": 21,
    "start_time": "2022-09-05T13:46:26.638Z"
   },
   {
    "duration": 5,
    "start_time": "2022-09-05T13:46:50.340Z"
   },
   {
    "duration": 15,
    "start_time": "2022-09-05T13:46:54.206Z"
   },
   {
    "duration": 15,
    "start_time": "2022-09-05T13:46:58.714Z"
   },
   {
    "duration": 3,
    "start_time": "2022-09-05T13:50:04.175Z"
   },
   {
    "duration": 5,
    "start_time": "2022-09-05T13:55:20.979Z"
   },
   {
    "duration": 6,
    "start_time": "2022-09-05T13:55:34.079Z"
   },
   {
    "duration": 4,
    "start_time": "2022-09-05T13:57:23.064Z"
   },
   {
    "duration": 5,
    "start_time": "2022-09-05T13:57:24.778Z"
   },
   {
    "duration": 151,
    "start_time": "2022-09-05T14:00:05.613Z"
   },
   {
    "duration": 183,
    "start_time": "2022-09-05T14:00:25.044Z"
   },
   {
    "duration": 20,
    "start_time": "2022-09-05T14:00:47.523Z"
   },
   {
    "duration": 673,
    "start_time": "2022-09-05T14:01:20.956Z"
   },
   {
    "duration": 68,
    "start_time": "2022-09-05T14:01:21.634Z"
   },
   {
    "duration": 13,
    "start_time": "2022-09-05T14:01:22.287Z"
   },
   {
    "duration": 15,
    "start_time": "2022-09-05T14:01:22.488Z"
   },
   {
    "duration": 13,
    "start_time": "2022-09-05T14:01:22.724Z"
   },
   {
    "duration": 9,
    "start_time": "2022-09-05T14:01:22.933Z"
   },
   {
    "duration": 15,
    "start_time": "2022-09-05T14:01:23.146Z"
   },
   {
    "duration": 560,
    "start_time": "2022-09-05T14:01:23.356Z"
   },
   {
    "duration": 3,
    "start_time": "2022-09-05T14:01:24.198Z"
   },
   {
    "duration": 14,
    "start_time": "2022-09-05T14:01:24.380Z"
   },
   {
    "duration": 2,
    "start_time": "2022-09-05T14:01:24.817Z"
   },
   {
    "duration": 2,
    "start_time": "2022-09-05T14:01:25.027Z"
   },
   {
    "duration": 9,
    "start_time": "2022-09-05T14:01:25.578Z"
   },
   {
    "duration": 7,
    "start_time": "2022-09-05T14:01:26.070Z"
   },
   {
    "duration": 15,
    "start_time": "2022-09-05T14:01:26.434Z"
   },
   {
    "duration": 2,
    "start_time": "2022-09-05T14:01:27.027Z"
   },
   {
    "duration": 3,
    "start_time": "2022-09-05T14:01:28.755Z"
   },
   {
    "duration": 5,
    "start_time": "2022-09-05T14:01:29.253Z"
   },
   {
    "duration": 145,
    "start_time": "2022-09-05T14:01:32.292Z"
   },
   {
    "duration": 626,
    "start_time": "2022-09-05T14:02:31.697Z"
   },
   {
    "duration": 69,
    "start_time": "2022-09-05T14:02:32.324Z"
   },
   {
    "duration": 25,
    "start_time": "2022-09-05T14:02:32.395Z"
   },
   {
    "duration": 27,
    "start_time": "2022-09-05T14:02:32.423Z"
   },
   {
    "duration": 20,
    "start_time": "2022-09-05T14:02:32.452Z"
   },
   {
    "duration": 8,
    "start_time": "2022-09-05T14:02:32.473Z"
   },
   {
    "duration": 22,
    "start_time": "2022-09-05T14:02:32.483Z"
   },
   {
    "duration": 593,
    "start_time": "2022-09-05T14:02:32.506Z"
   },
   {
    "duration": 3,
    "start_time": "2022-09-05T14:02:33.101Z"
   },
   {
    "duration": 16,
    "start_time": "2022-09-05T14:02:33.106Z"
   },
   {
    "duration": 4,
    "start_time": "2022-09-05T14:02:33.124Z"
   },
   {
    "duration": 6,
    "start_time": "2022-09-05T14:02:33.130Z"
   },
   {
    "duration": 12,
    "start_time": "2022-09-05T14:02:33.138Z"
   },
   {
    "duration": 7,
    "start_time": "2022-09-05T14:02:33.153Z"
   },
   {
    "duration": 38,
    "start_time": "2022-09-05T14:02:33.161Z"
   },
   {
    "duration": 15,
    "start_time": "2022-09-05T14:02:33.201Z"
   },
   {
    "duration": 8,
    "start_time": "2022-09-05T14:02:33.217Z"
   },
   {
    "duration": 8,
    "start_time": "2022-09-05T14:02:33.226Z"
   },
   {
    "duration": 141,
    "start_time": "2022-09-05T14:02:33.236Z"
   },
   {
    "duration": 249,
    "start_time": "2022-09-05T14:02:46.362Z"
   },
   {
    "duration": 126,
    "start_time": "2022-09-05T14:03:18.662Z"
   },
   {
    "duration": 78,
    "start_time": "2022-09-05T14:04:30.153Z"
   },
   {
    "duration": 35,
    "start_time": "2022-09-05T14:04:40.508Z"
   },
   {
    "duration": 12,
    "start_time": "2022-09-05T14:04:48.646Z"
   },
   {
    "duration": 15,
    "start_time": "2022-09-05T14:04:54.160Z"
   },
   {
    "duration": 176,
    "start_time": "2022-09-05T14:05:18.876Z"
   },
   {
    "duration": 18,
    "start_time": "2022-09-05T14:05:23.267Z"
   },
   {
    "duration": 195,
    "start_time": "2022-09-05T14:06:32.546Z"
   },
   {
    "duration": 129,
    "start_time": "2022-09-05T14:06:43.128Z"
   },
   {
    "duration": 5,
    "start_time": "2022-09-05T14:07:08.687Z"
   },
   {
    "duration": 10,
    "start_time": "2022-09-05T14:07:22.178Z"
   },
   {
    "duration": 10,
    "start_time": "2022-09-05T14:07:49.739Z"
   },
   {
    "duration": 7,
    "start_time": "2022-09-05T14:08:33.113Z"
   },
   {
    "duration": 122,
    "start_time": "2022-09-05T14:41:27.890Z"
   },
   {
    "duration": 270,
    "start_time": "2022-09-05T14:42:09.682Z"
   },
   {
    "duration": 328,
    "start_time": "2022-09-05T14:42:20.270Z"
   },
   {
    "duration": 239,
    "start_time": "2022-09-05T14:42:35.614Z"
   },
   {
    "duration": 248,
    "start_time": "2022-09-05T14:42:47.925Z"
   },
   {
    "duration": 290,
    "start_time": "2022-09-05T14:42:56.256Z"
   },
   {
    "duration": 321,
    "start_time": "2022-09-05T14:43:01.854Z"
   },
   {
    "duration": 8,
    "start_time": "2022-09-05T14:43:25.589Z"
   },
   {
    "duration": 209,
    "start_time": "2022-09-05T14:44:05.245Z"
   },
   {
    "duration": 18,
    "start_time": "2022-09-05T14:44:16.248Z"
   },
   {
    "duration": 7,
    "start_time": "2022-09-05T14:44:34.297Z"
   },
   {
    "duration": 119,
    "start_time": "2022-09-05T14:45:35.618Z"
   },
   {
    "duration": 108,
    "start_time": "2022-09-05T14:45:51.919Z"
   },
   {
    "duration": 119,
    "start_time": "2022-09-05T14:45:56.849Z"
   },
   {
    "duration": 8,
    "start_time": "2022-09-05T14:46:01.603Z"
   },
   {
    "duration": 23,
    "start_time": "2022-09-05T14:47:28.429Z"
   },
   {
    "duration": 22,
    "start_time": "2022-09-05T14:48:07.660Z"
   },
   {
    "duration": 24,
    "start_time": "2022-09-05T14:48:40.775Z"
   },
   {
    "duration": 14,
    "start_time": "2022-09-05T14:49:00.709Z"
   },
   {
    "duration": 10,
    "start_time": "2022-09-05T15:02:55.833Z"
   },
   {
    "duration": 8,
    "start_time": "2022-09-05T15:02:59.664Z"
   },
   {
    "duration": 10,
    "start_time": "2022-09-05T15:03:03.519Z"
   },
   {
    "duration": 34,
    "start_time": "2022-09-05T15:03:05.322Z"
   },
   {
    "duration": 7,
    "start_time": "2022-09-05T15:03:05.959Z"
   },
   {
    "duration": 21,
    "start_time": "2022-09-05T15:03:15.518Z"
   },
   {
    "duration": 4,
    "start_time": "2022-09-05T15:03:17.275Z"
   },
   {
    "duration": 7,
    "start_time": "2022-09-05T15:03:33.220Z"
   },
   {
    "duration": 27,
    "start_time": "2022-09-05T15:04:18.003Z"
   },
   {
    "duration": 21,
    "start_time": "2022-09-05T15:04:29.414Z"
   },
   {
    "duration": 22,
    "start_time": "2022-09-05T15:05:21.953Z"
   },
   {
    "duration": 23,
    "start_time": "2022-09-05T15:06:12.239Z"
   },
   {
    "duration": 8,
    "start_time": "2022-09-05T15:08:35.808Z"
   },
   {
    "duration": 11,
    "start_time": "2022-09-05T15:08:59.358Z"
   },
   {
    "duration": 9,
    "start_time": "2022-09-05T15:09:08.789Z"
   },
   {
    "duration": 9,
    "start_time": "2022-09-05T15:09:10.004Z"
   },
   {
    "duration": 46,
    "start_time": "2022-09-05T17:46:52.998Z"
   },
   {
    "duration": 787,
    "start_time": "2022-09-05T17:46:58.547Z"
   },
   {
    "duration": 112,
    "start_time": "2022-09-05T17:46:59.336Z"
   },
   {
    "duration": 15,
    "start_time": "2022-09-05T17:46:59.450Z"
   },
   {
    "duration": 15,
    "start_time": "2022-09-05T17:46:59.591Z"
   },
   {
    "duration": 15,
    "start_time": "2022-09-05T17:46:59.828Z"
   },
   {
    "duration": 9,
    "start_time": "2022-09-05T17:47:00.032Z"
   },
   {
    "duration": 15,
    "start_time": "2022-09-05T17:47:00.221Z"
   },
   {
    "duration": 623,
    "start_time": "2022-09-05T17:47:00.414Z"
   },
   {
    "duration": 4,
    "start_time": "2022-09-05T17:47:01.257Z"
   },
   {
    "duration": 12,
    "start_time": "2022-09-05T17:47:01.470Z"
   },
   {
    "duration": 3,
    "start_time": "2022-09-05T17:47:01.905Z"
   },
   {
    "duration": 3,
    "start_time": "2022-09-05T17:47:02.101Z"
   },
   {
    "duration": 9,
    "start_time": "2022-09-05T17:47:02.525Z"
   },
   {
    "duration": 7,
    "start_time": "2022-09-05T17:47:02.731Z"
   },
   {
    "duration": 16,
    "start_time": "2022-09-05T17:47:02.944Z"
   },
   {
    "duration": 3,
    "start_time": "2022-09-05T17:47:03.179Z"
   },
   {
    "duration": 4,
    "start_time": "2022-09-05T17:47:03.592Z"
   },
   {
    "duration": 5,
    "start_time": "2022-09-05T17:47:03.799Z"
   },
   {
    "duration": 123,
    "start_time": "2022-09-05T17:47:04.463Z"
   },
   {
    "duration": 6,
    "start_time": "2022-09-05T17:47:04.667Z"
   },
   {
    "duration": 3,
    "start_time": "2022-09-05T17:47:10.734Z"
   },
   {
    "duration": 37,
    "start_time": "2022-09-05T17:47:13.539Z"
   },
   {
    "duration": 11,
    "start_time": "2022-09-05T17:48:04.815Z"
   },
   {
    "duration": 7,
    "start_time": "2022-09-05T17:48:36.598Z"
   },
   {
    "duration": 10,
    "start_time": "2022-09-05T17:48:41.941Z"
   },
   {
    "duration": 241,
    "start_time": "2022-09-05T17:50:10.998Z"
   },
   {
    "duration": 119,
    "start_time": "2022-09-05T17:50:20.514Z"
   },
   {
    "duration": 167,
    "start_time": "2022-09-05T17:50:25.863Z"
   },
   {
    "duration": 252,
    "start_time": "2022-09-05T17:50:41.195Z"
   },
   {
    "duration": 373,
    "start_time": "2022-09-05T17:50:56.611Z"
   },
   {
    "duration": 222,
    "start_time": "2022-09-05T17:51:04.320Z"
   },
   {
    "duration": 327,
    "start_time": "2022-09-05T17:52:20.187Z"
   },
   {
    "duration": 7,
    "start_time": "2022-09-05T17:52:20.789Z"
   },
   {
    "duration": 10,
    "start_time": "2022-09-05T17:52:25.101Z"
   },
   {
    "duration": 10,
    "start_time": "2022-09-05T17:52:28.569Z"
   },
   {
    "duration": 9,
    "start_time": "2022-09-05T17:53:04.093Z"
   },
   {
    "duration": 26,
    "start_time": "2022-09-05T17:53:07.816Z"
   },
   {
    "duration": 7,
    "start_time": "2022-09-05T17:53:26.508Z"
   },
   {
    "duration": 17,
    "start_time": "2022-09-05T17:53:29.363Z"
   },
   {
    "duration": 686,
    "start_time": "2022-09-05T17:53:52.650Z"
   },
   {
    "duration": 66,
    "start_time": "2022-09-05T17:53:53.338Z"
   },
   {
    "duration": 14,
    "start_time": "2022-09-05T17:53:53.601Z"
   },
   {
    "duration": 15,
    "start_time": "2022-09-05T17:53:54.056Z"
   },
   {
    "duration": 17,
    "start_time": "2022-09-05T17:53:54.261Z"
   },
   {
    "duration": 11,
    "start_time": "2022-09-05T17:53:54.571Z"
   },
   {
    "duration": 17,
    "start_time": "2022-09-05T17:53:55.034Z"
   },
   {
    "duration": 645,
    "start_time": "2022-09-05T17:53:55.431Z"
   },
   {
    "duration": 3,
    "start_time": "2022-09-05T17:53:57.768Z"
   },
   {
    "duration": 13,
    "start_time": "2022-09-05T17:53:58.135Z"
   },
   {
    "duration": 3,
    "start_time": "2022-09-05T17:53:58.914Z"
   },
   {
    "duration": 2,
    "start_time": "2022-09-05T17:53:59.343Z"
   },
   {
    "duration": 12,
    "start_time": "2022-09-05T17:53:59.960Z"
   },
   {
    "duration": 10,
    "start_time": "2022-09-05T17:54:00.383Z"
   },
   {
    "duration": 17,
    "start_time": "2022-09-05T17:54:00.688Z"
   },
   {
    "duration": 75,
    "start_time": "2022-09-05T17:54:16.522Z"
   },
   {
    "duration": 3,
    "start_time": "2022-09-05T17:55:40.983Z"
   },
   {
    "duration": 4,
    "start_time": "2022-09-05T17:55:48.636Z"
   },
   {
    "duration": 88,
    "start_time": "2022-09-05T17:56:24.358Z"
   },
   {
    "duration": 11,
    "start_time": "2022-09-05T17:57:47.369Z"
   },
   {
    "duration": 802,
    "start_time": "2022-09-06T05:32:58.107Z"
   },
   {
    "duration": 125,
    "start_time": "2022-09-06T05:32:59.604Z"
   },
   {
    "duration": 12,
    "start_time": "2022-09-06T05:32:59.922Z"
   },
   {
    "duration": 17,
    "start_time": "2022-09-06T05:33:00.243Z"
   },
   {
    "duration": 15,
    "start_time": "2022-09-06T05:33:00.505Z"
   },
   {
    "duration": 10,
    "start_time": "2022-09-06T05:33:00.738Z"
   },
   {
    "duration": 15,
    "start_time": "2022-09-06T05:33:00.974Z"
   },
   {
    "duration": 588,
    "start_time": "2022-09-06T05:33:01.441Z"
   },
   {
    "duration": 4,
    "start_time": "2022-09-06T05:33:05.229Z"
   },
   {
    "duration": 12,
    "start_time": "2022-09-06T05:33:05.553Z"
   },
   {
    "duration": 3,
    "start_time": "2022-09-06T05:33:13.226Z"
   },
   {
    "duration": 2,
    "start_time": "2022-09-06T05:33:13.489Z"
   },
   {
    "duration": 9,
    "start_time": "2022-09-06T05:33:15.353Z"
   },
   {
    "duration": 10,
    "start_time": "2022-09-06T05:33:16.590Z"
   },
   {
    "duration": 20,
    "start_time": "2022-09-06T05:33:19.065Z"
   },
   {
    "duration": 4,
    "start_time": "2022-09-06T05:33:28.921Z"
   },
   {
    "duration": 5,
    "start_time": "2022-09-06T05:33:29.584Z"
   },
   {
    "duration": 6,
    "start_time": "2022-09-06T05:33:30.010Z"
   },
   {
    "duration": 270,
    "start_time": "2022-09-06T05:33:45.174Z"
   },
   {
    "duration": 6,
    "start_time": "2022-09-06T05:33:46.665Z"
   },
   {
    "duration": 81,
    "start_time": "2022-09-06T05:33:53.039Z"
   },
   {
    "duration": 215,
    "start_time": "2022-09-06T05:34:42.067Z"
   },
   {
    "duration": 199,
    "start_time": "2022-09-06T05:34:59.447Z"
   },
   {
    "duration": 3,
    "start_time": "2022-09-06T05:36:35.144Z"
   },
   {
    "duration": 76,
    "start_time": "2022-09-06T05:36:35.708Z"
   },
   {
    "duration": 18,
    "start_time": "2022-09-06T05:36:36.052Z"
   },
   {
    "duration": 14,
    "start_time": "2022-09-06T05:36:36.409Z"
   },
   {
    "duration": 21,
    "start_time": "2022-09-06T05:36:36.651Z"
   },
   {
    "duration": 8,
    "start_time": "2022-09-06T05:36:36.911Z"
   },
   {
    "duration": 21,
    "start_time": "2022-09-06T05:36:37.144Z"
   },
   {
    "duration": 567,
    "start_time": "2022-09-06T05:36:37.369Z"
   },
   {
    "duration": 3,
    "start_time": "2022-09-06T05:36:38.368Z"
   },
   {
    "duration": 12,
    "start_time": "2022-09-06T05:36:38.608Z"
   },
   {
    "duration": 228,
    "start_time": "2022-09-06T05:36:39.447Z"
   },
   {
    "duration": 16,
    "start_time": "2022-09-06T05:36:57.752Z"
   },
   {
    "duration": 7,
    "start_time": "2022-09-06T05:38:54.762Z"
   },
   {
    "duration": 11,
    "start_time": "2022-09-06T05:38:57.238Z"
   },
   {
    "duration": 27,
    "start_time": "2022-09-06T05:39:08.986Z"
   },
   {
    "duration": 3,
    "start_time": "2022-09-06T05:39:29.821Z"
   },
   {
    "duration": 19,
    "start_time": "2022-09-06T05:39:31.814Z"
   },
   {
    "duration": 11,
    "start_time": "2022-09-06T05:39:35.733Z"
   },
   {
    "duration": 800,
    "start_time": "2022-09-06T05:39:52.342Z"
   },
   {
    "duration": 70,
    "start_time": "2022-09-06T05:39:53.146Z"
   },
   {
    "duration": 18,
    "start_time": "2022-09-06T05:39:53.803Z"
   },
   {
    "duration": 22,
    "start_time": "2022-09-06T05:39:54.157Z"
   },
   {
    "duration": 18,
    "start_time": "2022-09-06T05:39:55.223Z"
   },
   {
    "duration": 14,
    "start_time": "2022-09-06T05:39:59.729Z"
   },
   {
    "duration": 20,
    "start_time": "2022-09-06T05:40:01.935Z"
   },
   {
    "duration": 981,
    "start_time": "2022-09-06T05:40:02.434Z"
   },
   {
    "duration": 3,
    "start_time": "2022-09-06T05:40:06.164Z"
   },
   {
    "duration": 19,
    "start_time": "2022-09-06T05:40:06.536Z"
   },
   {
    "duration": 1804,
    "start_time": "2022-09-06T05:40:59.039Z"
   },
   {
    "duration": 6,
    "start_time": "2022-09-06T05:42:15.545Z"
   },
   {
    "duration": 22,
    "start_time": "2022-09-06T05:42:18.578Z"
   },
   {
    "duration": 804,
    "start_time": "2022-09-06T05:42:38.606Z"
   },
   {
    "duration": 73,
    "start_time": "2022-09-06T05:42:39.678Z"
   },
   {
    "duration": 15,
    "start_time": "2022-09-06T05:42:40.425Z"
   },
   {
    "duration": 14,
    "start_time": "2022-09-06T05:42:40.715Z"
   },
   {
    "duration": 20,
    "start_time": "2022-09-06T05:42:41.065Z"
   },
   {
    "duration": 14,
    "start_time": "2022-09-06T05:42:41.437Z"
   },
   {
    "duration": 27,
    "start_time": "2022-09-06T05:42:41.864Z"
   },
   {
    "duration": 556,
    "start_time": "2022-09-06T05:42:42.223Z"
   },
   {
    "duration": 4,
    "start_time": "2022-09-06T05:42:43.478Z"
   },
   {
    "duration": 13,
    "start_time": "2022-09-06T05:42:43.702Z"
   },
   {
    "duration": 7,
    "start_time": "2022-09-06T05:42:44.959Z"
   },
   {
    "duration": 28,
    "start_time": "2022-09-06T05:42:45.597Z"
   },
   {
    "duration": 3,
    "start_time": "2022-09-06T05:43:36.446Z"
   },
   {
    "duration": 71,
    "start_time": "2022-09-06T05:43:36.939Z"
   },
   {
    "duration": 13,
    "start_time": "2022-09-06T05:43:37.308Z"
   },
   {
    "duration": 13,
    "start_time": "2022-09-06T05:43:37.740Z"
   },
   {
    "duration": 13,
    "start_time": "2022-09-06T05:43:38.118Z"
   },
   {
    "duration": 10,
    "start_time": "2022-09-06T05:43:38.538Z"
   },
   {
    "duration": 19,
    "start_time": "2022-09-06T05:43:38.920Z"
   },
   {
    "duration": 572,
    "start_time": "2022-09-06T05:43:39.232Z"
   },
   {
    "duration": 4,
    "start_time": "2022-09-06T05:43:40.750Z"
   },
   {
    "duration": 11,
    "start_time": "2022-09-06T05:43:40.980Z"
   },
   {
    "duration": 5,
    "start_time": "2022-09-06T05:43:41.741Z"
   },
   {
    "duration": 28,
    "start_time": "2022-09-06T05:43:42.161Z"
   },
   {
    "duration": 6,
    "start_time": "2022-09-06T05:43:59.280Z"
   },
   {
    "duration": 6,
    "start_time": "2022-09-06T05:44:22.781Z"
   },
   {
    "duration": 13,
    "start_time": "2022-09-06T05:51:33.485Z"
   },
   {
    "duration": 119,
    "start_time": "2022-09-06T05:51:45.039Z"
   },
   {
    "duration": 283,
    "start_time": "2022-09-06T05:52:01.130Z"
   },
   {
    "duration": 10,
    "start_time": "2022-09-06T05:52:09.240Z"
   },
   {
    "duration": 190,
    "start_time": "2022-09-06T05:52:54.061Z"
   },
   {
    "duration": 113,
    "start_time": "2022-09-06T05:53:07.974Z"
   },
   {
    "duration": 64,
    "start_time": "2022-09-06T05:57:22.340Z"
   },
   {
    "duration": 13,
    "start_time": "2022-09-06T05:57:24.525Z"
   },
   {
    "duration": 14,
    "start_time": "2022-09-06T05:57:24.823Z"
   },
   {
    "duration": 18,
    "start_time": "2022-09-06T05:57:25.771Z"
   },
   {
    "duration": 730,
    "start_time": "2022-09-06T05:57:41.214Z"
   },
   {
    "duration": 14,
    "start_time": "2022-09-06T05:57:48.725Z"
   },
   {
    "duration": 13,
    "start_time": "2022-09-06T05:57:49.383Z"
   },
   {
    "duration": 14,
    "start_time": "2022-09-06T05:57:49.746Z"
   },
   {
    "duration": 16,
    "start_time": "2022-09-06T05:57:50.141Z"
   },
   {
    "duration": 562,
    "start_time": "2022-09-06T05:57:50.543Z"
   },
   {
    "duration": 4,
    "start_time": "2022-09-06T05:57:52.077Z"
   },
   {
    "duration": 12,
    "start_time": "2022-09-06T05:57:52.282Z"
   },
   {
    "duration": 7,
    "start_time": "2022-09-06T05:57:53.787Z"
   },
   {
    "duration": 7,
    "start_time": "2022-09-06T05:58:09.169Z"
   },
   {
    "duration": 7,
    "start_time": "2022-09-06T05:59:25.098Z"
   },
   {
    "duration": 8,
    "start_time": "2022-09-06T05:59:32.937Z"
   },
   {
    "duration": 7,
    "start_time": "2022-09-06T05:59:35.643Z"
   },
   {
    "duration": 10,
    "start_time": "2022-09-06T05:59:41.573Z"
   },
   {
    "duration": 6,
    "start_time": "2022-09-06T06:00:01.566Z"
   },
   {
    "duration": 12,
    "start_time": "2022-09-06T06:00:05.525Z"
   },
   {
    "duration": 3,
    "start_time": "2022-09-06T06:00:19.797Z"
   },
   {
    "duration": 63,
    "start_time": "2022-09-06T06:00:20.167Z"
   },
   {
    "duration": 12,
    "start_time": "2022-09-06T06:00:20.454Z"
   },
   {
    "duration": 13,
    "start_time": "2022-09-06T06:00:20.831Z"
   },
   {
    "duration": 15,
    "start_time": "2022-09-06T06:00:21.126Z"
   },
   {
    "duration": 10,
    "start_time": "2022-09-06T06:00:21.449Z"
   },
   {
    "duration": 16,
    "start_time": "2022-09-06T06:00:21.767Z"
   },
   {
    "duration": 615,
    "start_time": "2022-09-06T06:00:22.121Z"
   },
   {
    "duration": 3,
    "start_time": "2022-09-06T06:00:23.486Z"
   },
   {
    "duration": 11,
    "start_time": "2022-09-06T06:00:23.826Z"
   },
   {
    "duration": 7,
    "start_time": "2022-09-06T06:00:24.525Z"
   },
   {
    "duration": 8,
    "start_time": "2022-09-06T06:00:25.459Z"
   },
   {
    "duration": 9,
    "start_time": "2022-09-06T06:00:26.169Z"
   },
   {
    "duration": 6,
    "start_time": "2022-09-06T06:00:26.827Z"
   },
   {
    "duration": 6,
    "start_time": "2022-09-06T06:00:27.548Z"
   },
   {
    "duration": 11,
    "start_time": "2022-09-06T06:00:28.189Z"
   },
   {
    "duration": 9,
    "start_time": "2022-09-06T06:00:31.057Z"
   },
   {
    "duration": 14,
    "start_time": "2022-09-06T06:00:36.591Z"
   },
   {
    "duration": 4,
    "start_time": "2022-09-06T06:01:26.833Z"
   },
   {
    "duration": 15,
    "start_time": "2022-09-06T06:01:28.589Z"
   },
   {
    "duration": 6,
    "start_time": "2022-09-06T06:01:45.987Z"
   },
   {
    "duration": 7,
    "start_time": "2022-09-06T06:01:52.525Z"
   },
   {
    "duration": 6,
    "start_time": "2022-09-06T06:01:59.380Z"
   },
   {
    "duration": 7,
    "start_time": "2022-09-06T06:02:15.071Z"
   },
   {
    "duration": 6,
    "start_time": "2022-09-06T06:02:23.085Z"
   },
   {
    "duration": 9,
    "start_time": "2022-09-06T06:03:54.562Z"
   },
   {
    "duration": 11,
    "start_time": "2022-09-06T06:04:11.461Z"
   },
   {
    "duration": 8,
    "start_time": "2022-09-06T06:07:11.583Z"
   },
   {
    "duration": 4,
    "start_time": "2022-09-06T06:07:35.740Z"
   },
   {
    "duration": 76,
    "start_time": "2022-09-06T06:07:36.134Z"
   },
   {
    "duration": 13,
    "start_time": "2022-09-06T06:07:36.494Z"
   },
   {
    "duration": 14,
    "start_time": "2022-09-06T06:07:36.785Z"
   },
   {
    "duration": 14,
    "start_time": "2022-09-06T06:07:37.026Z"
   },
   {
    "duration": 10,
    "start_time": "2022-09-06T06:07:37.261Z"
   },
   {
    "duration": 18,
    "start_time": "2022-09-06T06:07:37.498Z"
   },
   {
    "duration": 532,
    "start_time": "2022-09-06T06:07:37.756Z"
   },
   {
    "duration": 4,
    "start_time": "2022-09-06T06:07:39.147Z"
   },
   {
    "duration": 13,
    "start_time": "2022-09-06T06:07:39.496Z"
   },
   {
    "duration": 12,
    "start_time": "2022-09-06T06:07:40.263Z"
   },
   {
    "duration": 6,
    "start_time": "2022-09-06T06:07:40.529Z"
   },
   {
    "duration": 7,
    "start_time": "2022-09-06T06:07:41.277Z"
   },
   {
    "duration": 3,
    "start_time": "2022-09-06T06:07:44.553Z"
   },
   {
    "duration": 9,
    "start_time": "2022-09-06T06:07:50.564Z"
   },
   {
    "duration": 147,
    "start_time": "2022-09-06T06:07:59.962Z"
   },
   {
    "duration": 132,
    "start_time": "2022-09-06T06:08:05.443Z"
   },
   {
    "duration": 111,
    "start_time": "2022-09-06T06:08:19.834Z"
   },
   {
    "duration": 9,
    "start_time": "2022-09-06T06:08:31.837Z"
   },
   {
    "duration": 9,
    "start_time": "2022-09-06T06:08:31.945Z"
   },
   {
    "duration": 12,
    "start_time": "2022-09-06T06:08:58.164Z"
   },
   {
    "duration": 20,
    "start_time": "2022-09-06T06:10:46.371Z"
   },
   {
    "duration": 4,
    "start_time": "2022-09-06T06:10:56.539Z"
   },
   {
    "duration": 7,
    "start_time": "2022-09-06T06:11:32.673Z"
   },
   {
    "duration": 7,
    "start_time": "2022-09-06T06:11:32.865Z"
   },
   {
    "duration": 13,
    "start_time": "2022-09-06T06:12:09.241Z"
   },
   {
    "duration": 7,
    "start_time": "2022-09-06T06:12:19.090Z"
   },
   {
    "duration": 15,
    "start_time": "2022-09-06T06:12:19.587Z"
   },
   {
    "duration": 3,
    "start_time": "2022-09-06T06:12:22.168Z"
   },
   {
    "duration": 11,
    "start_time": "2022-09-06T06:12:32.629Z"
   },
   {
    "duration": 12,
    "start_time": "2022-09-06T06:25:18.471Z"
   },
   {
    "duration": 18,
    "start_time": "2022-09-06T06:25:34.598Z"
   },
   {
    "duration": 1426,
    "start_time": "2022-09-06T06:25:37.642Z"
   },
   {
    "duration": 5,
    "start_time": "2022-09-06T06:25:46.599Z"
   },
   {
    "duration": 15,
    "start_time": "2022-09-06T06:27:34.969Z"
   },
   {
    "duration": 20,
    "start_time": "2022-09-06T06:27:44.414Z"
   },
   {
    "duration": 5,
    "start_time": "2022-09-06T06:27:46.792Z"
   },
   {
    "duration": 865,
    "start_time": "2022-09-06T06:28:47.218Z"
   },
   {
    "duration": 983,
    "start_time": "2022-09-06T06:29:07.333Z"
   },
   {
    "duration": 1006,
    "start_time": "2022-09-06T06:30:55.318Z"
   },
   {
    "duration": 11,
    "start_time": "2022-09-06T06:31:31.784Z"
   },
   {
    "duration": 11,
    "start_time": "2022-09-06T06:34:55.708Z"
   },
   {
    "duration": 31,
    "start_time": "2022-09-06T06:40:31.236Z"
   },
   {
    "duration": 6,
    "start_time": "2022-09-06T06:42:35.938Z"
   },
   {
    "duration": 8,
    "start_time": "2022-09-06T06:42:38.477Z"
   },
   {
    "duration": 5,
    "start_time": "2022-09-06T06:43:36.789Z"
   },
   {
    "duration": 6,
    "start_time": "2022-09-06T06:43:54.188Z"
   },
   {
    "duration": 17,
    "start_time": "2022-09-06T06:45:05.232Z"
   },
   {
    "duration": 4,
    "start_time": "2022-09-06T06:45:08.439Z"
   },
   {
    "duration": 5,
    "start_time": "2022-09-06T06:45:19.708Z"
   },
   {
    "duration": 2,
    "start_time": "2022-09-06T06:47:05.265Z"
   },
   {
    "duration": 4,
    "start_time": "2022-09-06T06:47:30.581Z"
   },
   {
    "duration": 7,
    "start_time": "2022-09-06T06:47:43.720Z"
   },
   {
    "duration": 7,
    "start_time": "2022-09-06T06:47:50.997Z"
   },
   {
    "duration": 12,
    "start_time": "2022-09-06T06:49:35.031Z"
   },
   {
    "duration": 15,
    "start_time": "2022-09-06T06:49:52.466Z"
   },
   {
    "duration": 15,
    "start_time": "2022-09-06T06:50:01.317Z"
   },
   {
    "duration": 14,
    "start_time": "2022-09-06T06:50:17.912Z"
   },
   {
    "duration": 14,
    "start_time": "2022-09-06T06:50:26.212Z"
   },
   {
    "duration": 13,
    "start_time": "2022-09-06T06:50:32.858Z"
   },
   {
    "duration": 14,
    "start_time": "2022-09-06T06:50:43.729Z"
   },
   {
    "duration": 20,
    "start_time": "2022-09-06T06:50:59.878Z"
   },
   {
    "duration": 18,
    "start_time": "2022-09-06T06:51:07.198Z"
   },
   {
    "duration": 10,
    "start_time": "2022-09-06T06:51:30.615Z"
   },
   {
    "duration": 14,
    "start_time": "2022-09-06T06:51:41.145Z"
   },
   {
    "duration": 18,
    "start_time": "2022-09-06T06:51:46.468Z"
   },
   {
    "duration": 258,
    "start_time": "2022-09-06T06:52:28.116Z"
   },
   {
    "duration": 147,
    "start_time": "2022-09-06T06:52:44.420Z"
   },
   {
    "duration": 235,
    "start_time": "2022-09-06T06:53:05.017Z"
   },
   {
    "duration": 156,
    "start_time": "2022-09-06T06:53:11.920Z"
   },
   {
    "duration": 5,
    "start_time": "2022-09-06T06:53:44.817Z"
   },
   {
    "duration": 6,
    "start_time": "2022-09-06T06:53:47.317Z"
   },
   {
    "duration": 7,
    "start_time": "2022-09-06T06:53:53.533Z"
   },
   {
    "duration": 251,
    "start_time": "2022-09-06T06:53:54.140Z"
   },
   {
    "duration": 7,
    "start_time": "2022-09-06T06:53:54.394Z"
   },
   {
    "duration": 141,
    "start_time": "2022-09-06T06:53:55.896Z"
   },
   {
    "duration": 12,
    "start_time": "2022-09-06T06:54:15.832Z"
   },
   {
    "duration": 21,
    "start_time": "2022-09-06T06:54:58.421Z"
   },
   {
    "duration": 14,
    "start_time": "2022-09-06T06:55:04.060Z"
   },
   {
    "duration": 13,
    "start_time": "2022-09-06T06:55:27.522Z"
   },
   {
    "duration": 15,
    "start_time": "2022-09-06T06:55:43.461Z"
   },
   {
    "duration": 14,
    "start_time": "2022-09-06T06:55:58.317Z"
   },
   {
    "duration": 12,
    "start_time": "2022-09-06T06:56:15.371Z"
   },
   {
    "duration": 185,
    "start_time": "2022-09-06T06:56:22.162Z"
   },
   {
    "duration": 13,
    "start_time": "2022-09-06T06:56:34.132Z"
   },
   {
    "duration": 13,
    "start_time": "2022-09-06T06:56:42.215Z"
   },
   {
    "duration": 13,
    "start_time": "2022-09-06T06:56:55.425Z"
   },
   {
    "duration": 15,
    "start_time": "2022-09-06T06:57:03.822Z"
   },
   {
    "duration": 14,
    "start_time": "2022-09-06T06:57:13.255Z"
   },
   {
    "duration": 13,
    "start_time": "2022-09-06T06:57:19.454Z"
   },
   {
    "duration": 14,
    "start_time": "2022-09-06T06:57:33.115Z"
   },
   {
    "duration": 14,
    "start_time": "2022-09-06T06:57:48.716Z"
   },
   {
    "duration": 14,
    "start_time": "2022-09-06T06:57:53.413Z"
   },
   {
    "duration": 14,
    "start_time": "2022-09-06T06:58:44.903Z"
   },
   {
    "duration": 130,
    "start_time": "2022-09-06T07:00:10.717Z"
   },
   {
    "duration": 7,
    "start_time": "2022-09-06T07:01:35.818Z"
   },
   {
    "duration": 152,
    "start_time": "2022-09-06T07:01:38.776Z"
   },
   {
    "duration": 132,
    "start_time": "2022-09-06T07:01:50.296Z"
   },
   {
    "duration": 143,
    "start_time": "2022-09-06T07:02:00.673Z"
   },
   {
    "duration": 222,
    "start_time": "2022-09-06T07:02:34.589Z"
   },
   {
    "duration": 201,
    "start_time": "2022-09-06T07:03:03.919Z"
   },
   {
    "duration": 130,
    "start_time": "2022-09-06T07:03:25.878Z"
   },
   {
    "duration": 105,
    "start_time": "2022-09-06T07:03:31.993Z"
   },
   {
    "duration": 121,
    "start_time": "2022-09-06T07:03:41.040Z"
   },
   {
    "duration": 227,
    "start_time": "2022-09-06T07:03:50.313Z"
   },
   {
    "duration": 1674,
    "start_time": "2022-09-06T07:04:33.317Z"
   },
   {
    "duration": 1604,
    "start_time": "2022-09-06T07:04:50.616Z"
   },
   {
    "duration": 7,
    "start_time": "2022-09-06T07:05:05.893Z"
   },
   {
    "duration": 7,
    "start_time": "2022-09-06T07:05:48.387Z"
   },
   {
    "duration": 594,
    "start_time": "2022-09-06T07:06:08.893Z"
   },
   {
    "duration": 75,
    "start_time": "2022-09-06T07:06:10.236Z"
   },
   {
    "duration": 13,
    "start_time": "2022-09-06T07:06:10.585Z"
   },
   {
    "duration": 14,
    "start_time": "2022-09-06T07:06:10.932Z"
   },
   {
    "duration": 13,
    "start_time": "2022-09-06T07:06:11.347Z"
   },
   {
    "duration": 9,
    "start_time": "2022-09-06T07:06:11.948Z"
   },
   {
    "duration": 14,
    "start_time": "2022-09-06T07:06:12.495Z"
   },
   {
    "duration": 552,
    "start_time": "2022-09-06T07:06:13.027Z"
   },
   {
    "duration": 4,
    "start_time": "2022-09-06T07:06:15.475Z"
   },
   {
    "duration": 18,
    "start_time": "2022-09-06T07:06:15.683Z"
   },
   {
    "duration": 86,
    "start_time": "2022-09-06T07:06:16.489Z"
   },
   {
    "duration": 9,
    "start_time": "2022-09-06T07:06:20.439Z"
   },
   {
    "duration": 12,
    "start_time": "2022-09-06T07:06:40.080Z"
   },
   {
    "duration": 9,
    "start_time": "2022-09-06T07:06:41.532Z"
   },
   {
    "duration": 8,
    "start_time": "2022-09-06T07:06:42.321Z"
   },
   {
    "duration": 14,
    "start_time": "2022-09-06T07:06:42.780Z"
   },
   {
    "duration": 9,
    "start_time": "2022-09-06T07:06:43.410Z"
   },
   {
    "duration": 3,
    "start_time": "2022-09-06T07:06:43.983Z"
   },
   {
    "duration": 5,
    "start_time": "2022-09-06T07:06:49.781Z"
   },
   {
    "duration": 290,
    "start_time": "2022-09-06T07:06:50.395Z"
   },
   {
    "duration": 209,
    "start_time": "2022-09-06T07:07:02.517Z"
   },
   {
    "duration": 4,
    "start_time": "2022-09-06T07:07:08.791Z"
   },
   {
    "duration": 24,
    "start_time": "2022-09-06T07:10:13.210Z"
   },
   {
    "duration": 27,
    "start_time": "2022-09-06T07:10:35.936Z"
   },
   {
    "duration": 27,
    "start_time": "2022-09-06T07:11:00.523Z"
   },
   {
    "duration": 19,
    "start_time": "2022-09-06T07:11:55.327Z"
   },
   {
    "duration": 4,
    "start_time": "2022-09-06T07:12:02.249Z"
   },
   {
    "duration": 29,
    "start_time": "2022-09-06T07:12:16.627Z"
   },
   {
    "duration": 21,
    "start_time": "2022-09-06T07:12:39.389Z"
   },
   {
    "duration": 25,
    "start_time": "2022-09-06T07:13:01.634Z"
   },
   {
    "duration": 19,
    "start_time": "2022-09-06T07:13:26.828Z"
   },
   {
    "duration": 9,
    "start_time": "2022-09-06T07:14:33.249Z"
   },
   {
    "duration": 1135,
    "start_time": "2022-09-06T07:14:53.017Z"
   },
   {
    "duration": 12,
    "start_time": "2022-09-06T07:15:00.450Z"
   },
   {
    "duration": 12,
    "start_time": "2022-09-06T07:16:31.566Z"
   },
   {
    "duration": 12,
    "start_time": "2022-09-06T07:17:16.287Z"
   },
   {
    "duration": 11,
    "start_time": "2022-09-06T07:17:49.034Z"
   },
   {
    "duration": 8,
    "start_time": "2022-09-06T07:18:04.818Z"
   },
   {
    "duration": 10,
    "start_time": "2022-09-06T07:18:11.443Z"
   },
   {
    "duration": 10,
    "start_time": "2022-09-06T07:18:26.090Z"
   },
   {
    "duration": 3,
    "start_time": "2022-09-06T07:18:32.106Z"
   },
   {
    "duration": 63,
    "start_time": "2022-09-06T07:18:32.641Z"
   },
   {
    "duration": 12,
    "start_time": "2022-09-06T07:18:32.973Z"
   },
   {
    "duration": 13,
    "start_time": "2022-09-06T07:18:33.329Z"
   },
   {
    "duration": 16,
    "start_time": "2022-09-06T07:18:33.569Z"
   },
   {
    "duration": 9,
    "start_time": "2022-09-06T07:18:33.946Z"
   },
   {
    "duration": 15,
    "start_time": "2022-09-06T07:18:34.347Z"
   },
   {
    "duration": 540,
    "start_time": "2022-09-06T07:18:35.268Z"
   },
   {
    "duration": 3,
    "start_time": "2022-09-06T07:18:37.925Z"
   },
   {
    "duration": 12,
    "start_time": "2022-09-06T07:18:38.180Z"
   },
   {
    "duration": 12,
    "start_time": "2022-09-06T07:18:39.719Z"
   },
   {
    "duration": 7,
    "start_time": "2022-09-06T07:21:45.487Z"
   },
   {
    "duration": 7,
    "start_time": "2022-09-06T07:22:03.937Z"
   },
   {
    "duration": 624,
    "start_time": "2022-09-06T07:22:19.149Z"
   },
   {
    "duration": 68,
    "start_time": "2022-09-06T07:22:19.775Z"
   },
   {
    "duration": 16,
    "start_time": "2022-09-06T07:22:20.330Z"
   },
   {
    "duration": 13,
    "start_time": "2022-09-06T07:22:20.625Z"
   },
   {
    "duration": 14,
    "start_time": "2022-09-06T07:22:20.870Z"
   },
   {
    "duration": 9,
    "start_time": "2022-09-06T07:22:21.147Z"
   },
   {
    "duration": 17,
    "start_time": "2022-09-06T07:22:21.525Z"
   },
   {
    "duration": 543,
    "start_time": "2022-09-06T07:22:22.073Z"
   },
   {
    "duration": 3,
    "start_time": "2022-09-06T07:22:23.567Z"
   },
   {
    "duration": 12,
    "start_time": "2022-09-06T07:22:23.784Z"
   },
   {
    "duration": 9,
    "start_time": "2022-09-06T07:22:24.825Z"
   },
   {
    "duration": 19,
    "start_time": "2022-09-06T07:23:04.865Z"
   },
   {
    "duration": 101,
    "start_time": "2022-09-06T07:24:12.776Z"
   },
   {
    "duration": 83,
    "start_time": "2022-09-06T07:24:28.481Z"
   },
   {
    "duration": 54,
    "start_time": "2022-09-06T07:26:59.700Z"
   },
   {
    "duration": 667,
    "start_time": "2022-09-06T07:27:03.433Z"
   },
   {
    "duration": 68,
    "start_time": "2022-09-06T07:27:04.104Z"
   },
   {
    "duration": 16,
    "start_time": "2022-09-06T07:27:04.781Z"
   },
   {
    "duration": 15,
    "start_time": "2022-09-06T07:27:04.967Z"
   },
   {
    "duration": 17,
    "start_time": "2022-09-06T07:27:05.180Z"
   },
   {
    "duration": 9,
    "start_time": "2022-09-06T07:27:05.418Z"
   },
   {
    "duration": 15,
    "start_time": "2022-09-06T07:27:05.612Z"
   },
   {
    "duration": 605,
    "start_time": "2022-09-06T07:27:06.124Z"
   },
   {
    "duration": 4,
    "start_time": "2022-09-06T07:27:06.978Z"
   },
   {
    "duration": 12,
    "start_time": "2022-09-06T07:27:07.341Z"
   },
   {
    "duration": 715,
    "start_time": "2022-09-06T07:27:38.977Z"
   },
   {
    "duration": 90,
    "start_time": "2022-09-06T07:27:39.695Z"
   },
   {
    "duration": 18,
    "start_time": "2022-09-06T07:27:39.787Z"
   },
   {
    "duration": 33,
    "start_time": "2022-09-06T07:27:39.807Z"
   },
   {
    "duration": 32,
    "start_time": "2022-09-06T07:27:39.842Z"
   },
   {
    "duration": 10,
    "start_time": "2022-09-06T07:27:39.966Z"
   },
   {
    "duration": 24,
    "start_time": "2022-09-06T07:27:40.442Z"
   },
   {
    "duration": 589,
    "start_time": "2022-09-06T07:27:40.624Z"
   },
   {
    "duration": 3,
    "start_time": "2022-09-06T07:27:41.431Z"
   },
   {
    "duration": 18,
    "start_time": "2022-09-06T07:27:41.643Z"
   },
   {
    "duration": 7,
    "start_time": "2022-09-06T07:27:42.298Z"
   },
   {
    "duration": 30,
    "start_time": "2022-09-06T07:27:42.773Z"
   },
   {
    "duration": 7,
    "start_time": "2022-09-06T07:27:59.371Z"
   },
   {
    "duration": 8,
    "start_time": "2022-09-06T07:28:40.313Z"
   },
   {
    "duration": 15,
    "start_time": "2022-09-06T07:28:41.629Z"
   },
   {
    "duration": 9,
    "start_time": "2022-09-06T07:28:46.994Z"
   },
   {
    "duration": 3,
    "start_time": "2022-09-06T07:28:47.530Z"
   },
   {
    "duration": 6,
    "start_time": "2022-09-06T07:28:51.839Z"
   },
   {
    "duration": 325,
    "start_time": "2022-09-06T07:28:53.680Z"
   },
   {
    "duration": 102,
    "start_time": "2022-09-06T07:28:55.287Z"
   },
   {
    "duration": 27,
    "start_time": "2022-09-06T07:29:03.127Z"
   },
   {
    "duration": 18,
    "start_time": "2022-09-06T07:29:46.949Z"
   },
   {
    "duration": 22,
    "start_time": "2022-09-06T07:30:20.798Z"
   },
   {
    "duration": 19,
    "start_time": "2022-09-06T07:30:32.377Z"
   },
   {
    "duration": 18,
    "start_time": "2022-09-06T07:30:41.035Z"
   },
   {
    "duration": 5,
    "start_time": "2022-09-06T07:31:16.155Z"
   },
   {
    "duration": 33,
    "start_time": "2022-09-06T07:31:24.128Z"
   },
   {
    "duration": 6,
    "start_time": "2022-09-06T07:31:57.087Z"
   },
   {
    "duration": 17,
    "start_time": "2022-09-06T07:33:04.872Z"
   },
   {
    "duration": 16,
    "start_time": "2022-09-06T07:33:21.990Z"
   },
   {
    "duration": 6,
    "start_time": "2022-09-06T07:33:53.897Z"
   },
   {
    "duration": 9,
    "start_time": "2022-09-06T07:34:24.522Z"
   },
   {
    "duration": 6,
    "start_time": "2022-09-06T07:49:27.554Z"
   },
   {
    "duration": 16,
    "start_time": "2022-09-06T07:49:33.646Z"
   },
   {
    "duration": 12,
    "start_time": "2022-09-06T07:49:42.745Z"
   },
   {
    "duration": 13,
    "start_time": "2022-09-06T07:50:02.433Z"
   },
   {
    "duration": 18,
    "start_time": "2022-09-06T07:50:42.035Z"
   },
   {
    "duration": 13,
    "start_time": "2022-09-06T07:50:51.561Z"
   },
   {
    "duration": 776,
    "start_time": "2022-09-06T11:31:11.382Z"
   },
   {
    "duration": 123,
    "start_time": "2022-09-06T11:31:12.724Z"
   },
   {
    "duration": 19,
    "start_time": "2022-09-06T11:31:13.123Z"
   },
   {
    "duration": 14,
    "start_time": "2022-09-06T11:31:13.566Z"
   },
   {
    "duration": 14,
    "start_time": "2022-09-06T11:31:13.971Z"
   },
   {
    "duration": 8,
    "start_time": "2022-09-06T11:31:14.379Z"
   },
   {
    "duration": 15,
    "start_time": "2022-09-06T11:31:14.828Z"
   },
   {
    "duration": 531,
    "start_time": "2022-09-06T11:31:15.204Z"
   },
   {
    "duration": 3,
    "start_time": "2022-09-06T11:31:16.783Z"
   },
   {
    "duration": 10,
    "start_time": "2022-09-06T11:31:17.136Z"
   },
   {
    "duration": 4,
    "start_time": "2022-09-06T11:31:18.024Z"
   },
   {
    "duration": 4,
    "start_time": "2022-09-06T11:31:18.534Z"
   },
   {
    "duration": 10,
    "start_time": "2022-09-06T11:31:19.766Z"
   },
   {
    "duration": 7,
    "start_time": "2022-09-06T11:31:25.871Z"
   },
   {
    "duration": 14,
    "start_time": "2022-09-06T11:31:28.284Z"
   },
   {
    "duration": 16,
    "start_time": "2022-09-06T11:32:57.784Z"
   },
   {
    "duration": 14,
    "start_time": "2022-09-06T11:33:00.979Z"
   },
   {
    "duration": 1,
    "start_time": "2022-09-06T11:33:13.084Z"
   },
   {
    "duration": 13,
    "start_time": "2022-09-06T11:33:13.663Z"
   },
   {
    "duration": 535,
    "start_time": "2022-09-06T11:33:29.771Z"
   },
   {
    "duration": 68,
    "start_time": "2022-09-06T11:33:30.308Z"
   },
   {
    "duration": 12,
    "start_time": "2022-09-06T11:33:30.871Z"
   },
   {
    "duration": 12,
    "start_time": "2022-09-06T11:33:31.042Z"
   },
   {
    "duration": 12,
    "start_time": "2022-09-06T11:33:31.263Z"
   },
   {
    "duration": 9,
    "start_time": "2022-09-06T11:33:31.438Z"
   },
   {
    "duration": 14,
    "start_time": "2022-09-06T11:33:31.625Z"
   },
   {
    "duration": 534,
    "start_time": "2022-09-06T11:33:31.824Z"
   },
   {
    "duration": 7,
    "start_time": "2022-09-06T11:33:33.410Z"
   },
   {
    "duration": 11,
    "start_time": "2022-09-06T11:33:33.932Z"
   },
   {
    "duration": 2,
    "start_time": "2022-09-06T11:33:42.681Z"
   },
   {
    "duration": 8,
    "start_time": "2022-09-06T11:33:43.586Z"
   },
   {
    "duration": 78,
    "start_time": "2022-09-06T11:33:44.425Z"
   },
   {
    "duration": 7,
    "start_time": "2022-09-06T11:34:27.793Z"
   },
   {
    "duration": 7,
    "start_time": "2022-09-06T11:35:05.724Z"
   },
   {
    "duration": 2,
    "start_time": "2022-09-06T11:35:28.825Z"
   },
   {
    "duration": 63,
    "start_time": "2022-09-06T11:35:30.029Z"
   },
   {
    "duration": 11,
    "start_time": "2022-09-06T11:35:30.367Z"
   },
   {
    "duration": 13,
    "start_time": "2022-09-06T11:35:30.672Z"
   },
   {
    "duration": 12,
    "start_time": "2022-09-06T11:35:30.865Z"
   },
   {
    "duration": 8,
    "start_time": "2022-09-06T11:35:31.079Z"
   },
   {
    "duration": 14,
    "start_time": "2022-09-06T11:35:31.295Z"
   },
   {
    "duration": 545,
    "start_time": "2022-09-06T11:35:31.524Z"
   },
   {
    "duration": 3,
    "start_time": "2022-09-06T11:35:32.373Z"
   },
   {
    "duration": 15,
    "start_time": "2022-09-06T11:35:32.587Z"
   },
   {
    "duration": 8,
    "start_time": "2022-09-06T11:35:33.724Z"
   },
   {
    "duration": 19,
    "start_time": "2022-09-06T11:35:45.887Z"
   },
   {
    "duration": 600,
    "start_time": "2022-09-06T11:36:20.288Z"
   },
   {
    "duration": 74,
    "start_time": "2022-09-06T11:36:20.889Z"
   },
   {
    "duration": 12,
    "start_time": "2022-09-06T11:36:21.473Z"
   },
   {
    "duration": 14,
    "start_time": "2022-09-06T11:36:21.668Z"
   },
   {
    "duration": 12,
    "start_time": "2022-09-06T11:36:21.861Z"
   },
   {
    "duration": 8,
    "start_time": "2022-09-06T11:36:22.069Z"
   },
   {
    "duration": 15,
    "start_time": "2022-09-06T11:36:22.248Z"
   },
   {
    "duration": 541,
    "start_time": "2022-09-06T11:36:22.439Z"
   },
   {
    "duration": 3,
    "start_time": "2022-09-06T11:36:23.245Z"
   },
   {
    "duration": 13,
    "start_time": "2022-09-06T11:36:23.429Z"
   },
   {
    "duration": 7,
    "start_time": "2022-09-06T11:36:23.956Z"
   },
   {
    "duration": 7,
    "start_time": "2022-09-06T11:36:28.331Z"
   },
   {
    "duration": 15,
    "start_time": "2022-09-06T11:36:31.640Z"
   },
   {
    "duration": 3,
    "start_time": "2022-09-06T11:36:34.191Z"
   },
   {
    "duration": 13,
    "start_time": "2022-09-06T11:36:34.576Z"
   },
   {
    "duration": 16,
    "start_time": "2022-09-06T11:36:58.365Z"
   },
   {
    "duration": 14,
    "start_time": "2022-09-06T11:37:04.624Z"
   },
   {
    "duration": 8,
    "start_time": "2022-09-06T11:37:05.140Z"
   },
   {
    "duration": 2,
    "start_time": "2022-09-06T11:37:05.694Z"
   },
   {
    "duration": 5,
    "start_time": "2022-09-06T11:37:13.132Z"
   },
   {
    "duration": 248,
    "start_time": "2022-09-06T11:37:14.230Z"
   },
   {
    "duration": 6,
    "start_time": "2022-09-06T11:37:17.751Z"
   },
   {
    "duration": 13,
    "start_time": "2022-09-06T11:37:19.824Z"
   },
   {
    "duration": 14,
    "start_time": "2022-09-06T11:37:33.033Z"
   },
   {
    "duration": 13,
    "start_time": "2022-09-06T11:37:39.227Z"
   },
   {
    "duration": 12,
    "start_time": "2022-09-06T11:37:43.881Z"
   },
   {
    "duration": 3,
    "start_time": "2022-09-06T11:39:58.992Z"
   },
   {
    "duration": 7,
    "start_time": "2022-09-06T11:43:33.145Z"
   },
   {
    "duration": 5,
    "start_time": "2022-09-06T11:43:42.066Z"
   },
   {
    "duration": 7,
    "start_time": "2022-09-06T11:44:03.962Z"
   },
   {
    "duration": 6,
    "start_time": "2022-09-06T11:44:18.227Z"
   },
   {
    "duration": 6,
    "start_time": "2022-09-06T11:44:28.837Z"
   },
   {
    "duration": 6,
    "start_time": "2022-09-06T11:44:38.784Z"
   },
   {
    "duration": 6,
    "start_time": "2022-09-06T11:44:44.623Z"
   },
   {
    "duration": 15,
    "start_time": "2022-09-06T11:46:23.927Z"
   },
   {
    "duration": 5,
    "start_time": "2022-09-06T11:46:26.137Z"
   },
   {
    "duration": 6,
    "start_time": "2022-09-06T11:46:41.224Z"
   },
   {
    "duration": 6,
    "start_time": "2022-09-06T11:46:51.023Z"
   },
   {
    "duration": 76,
    "start_time": "2022-09-06T11:47:05.295Z"
   },
   {
    "duration": 15,
    "start_time": "2022-09-06T11:47:46.323Z"
   },
   {
    "duration": 6,
    "start_time": "2022-09-06T11:47:53.591Z"
   },
   {
    "duration": 7,
    "start_time": "2022-09-06T11:48:37.286Z"
   },
   {
    "duration": 5,
    "start_time": "2022-09-06T11:48:39.273Z"
   },
   {
    "duration": 9,
    "start_time": "2022-09-06T11:49:20.589Z"
   },
   {
    "duration": 11,
    "start_time": "2022-09-06T11:49:24.725Z"
   },
   {
    "duration": 10,
    "start_time": "2022-09-06T11:49:30.624Z"
   },
   {
    "duration": 5,
    "start_time": "2022-09-06T11:50:49.733Z"
   },
   {
    "duration": 10,
    "start_time": "2022-09-06T11:50:52.728Z"
   },
   {
    "duration": 6,
    "start_time": "2022-09-06T11:51:16.343Z"
   },
   {
    "duration": 8,
    "start_time": "2022-09-06T11:52:20.396Z"
   },
   {
    "duration": 5,
    "start_time": "2022-09-06T11:52:56.845Z"
   },
   {
    "duration": 5,
    "start_time": "2022-09-06T11:53:04.862Z"
   },
   {
    "duration": 3,
    "start_time": "2022-09-06T11:53:19.718Z"
   },
   {
    "duration": 22,
    "start_time": "2022-09-06T12:01:56.623Z"
   },
   {
    "duration": 25,
    "start_time": "2022-09-06T12:05:23.501Z"
   },
   {
    "duration": 19,
    "start_time": "2022-09-06T12:05:36.844Z"
   },
   {
    "duration": 46,
    "start_time": "2022-09-06T12:05:46.977Z"
   },
   {
    "duration": 22,
    "start_time": "2022-09-06T12:05:54.531Z"
   },
   {
    "duration": 12,
    "start_time": "2022-09-06T12:12:12.292Z"
   },
   {
    "duration": 6,
    "start_time": "2022-09-06T12:14:54.324Z"
   },
   {
    "duration": 628,
    "start_time": "2022-09-06T13:20:33.605Z"
   },
   {
    "duration": 66,
    "start_time": "2022-09-06T13:20:34.726Z"
   },
   {
    "duration": 12,
    "start_time": "2022-09-06T13:20:34.942Z"
   },
   {
    "duration": 12,
    "start_time": "2022-09-06T13:20:35.144Z"
   },
   {
    "duration": 12,
    "start_time": "2022-09-06T13:20:35.334Z"
   },
   {
    "duration": 8,
    "start_time": "2022-09-06T13:20:35.526Z"
   },
   {
    "duration": 13,
    "start_time": "2022-09-06T13:20:35.710Z"
   },
   {
    "duration": 501,
    "start_time": "2022-09-06T13:20:35.912Z"
   },
   {
    "duration": 3,
    "start_time": "2022-09-06T13:20:36.743Z"
   },
   {
    "duration": 10,
    "start_time": "2022-09-06T13:20:36.930Z"
   },
   {
    "duration": 7,
    "start_time": "2022-09-06T13:20:37.398Z"
   },
   {
    "duration": 5,
    "start_time": "2022-09-06T13:20:37.631Z"
   },
   {
    "duration": 7,
    "start_time": "2022-09-06T13:20:38.792Z"
   },
   {
    "duration": 15,
    "start_time": "2022-09-06T13:20:39.909Z"
   },
   {
    "duration": 7,
    "start_time": "2022-09-06T13:20:40.419Z"
   },
   {
    "duration": 7,
    "start_time": "2022-09-06T13:20:41.298Z"
   },
   {
    "duration": 6,
    "start_time": "2022-09-06T13:21:12.435Z"
   },
   {
    "duration": 6,
    "start_time": "2022-09-06T13:21:18.297Z"
   },
   {
    "duration": 2,
    "start_time": "2022-09-06T13:21:18.570Z"
   },
   {
    "duration": 235,
    "start_time": "2022-09-06T13:21:19.784Z"
   },
   {
    "duration": 6,
    "start_time": "2022-09-06T13:21:21.034Z"
   },
   {
    "duration": 13,
    "start_time": "2022-09-06T13:21:26.136Z"
   },
   {
    "duration": 11,
    "start_time": "2022-09-06T13:21:29.490Z"
   },
   {
    "duration": 11,
    "start_time": "2022-09-06T13:21:31.194Z"
   },
   {
    "duration": 12,
    "start_time": "2022-09-06T13:22:00.091Z"
   },
   {
    "duration": 14,
    "start_time": "2022-09-06T13:22:58.303Z"
   },
   {
    "duration": 15,
    "start_time": "2022-09-06T13:24:36.915Z"
   },
   {
    "duration": 6,
    "start_time": "2022-09-06T13:26:57.013Z"
   },
   {
    "duration": 4,
    "start_time": "2022-09-06T13:27:12.966Z"
   },
   {
    "duration": 4,
    "start_time": "2022-09-06T13:27:22.169Z"
   },
   {
    "duration": 5,
    "start_time": "2022-09-06T13:27:26.097Z"
   },
   {
    "duration": 5,
    "start_time": "2022-09-06T13:27:29.927Z"
   },
   {
    "duration": 5,
    "start_time": "2022-09-06T13:27:33.696Z"
   },
   {
    "duration": 14,
    "start_time": "2022-09-06T13:29:13.415Z"
   },
   {
    "duration": 52,
    "start_time": "2022-09-06T13:31:01.496Z"
   },
   {
    "duration": 14,
    "start_time": "2022-09-06T13:31:08.138Z"
   },
   {
    "duration": 140,
    "start_time": "2022-09-06T13:32:24.307Z"
   },
   {
    "duration": 165,
    "start_time": "2022-09-06T13:32:46.714Z"
   },
   {
    "duration": 140,
    "start_time": "2022-09-06T13:32:58.450Z"
   },
   {
    "duration": 130,
    "start_time": "2022-09-06T13:33:06.987Z"
   },
   {
    "duration": 142,
    "start_time": "2022-09-06T13:33:16.033Z"
   },
   {
    "duration": 164,
    "start_time": "2022-09-06T13:33:39.397Z"
   },
   {
    "duration": 12,
    "start_time": "2022-09-06T13:35:42.450Z"
   },
   {
    "duration": 2,
    "start_time": "2022-09-06T13:36:58.434Z"
   },
   {
    "duration": 12,
    "start_time": "2022-09-06T13:37:58.960Z"
   },
   {
    "duration": 13,
    "start_time": "2022-09-06T13:38:04.394Z"
   },
   {
    "duration": 2,
    "start_time": "2022-09-06T13:38:54.416Z"
   },
   {
    "duration": 48,
    "start_time": "2022-09-06T13:38:57.459Z"
   },
   {
    "duration": 80,
    "start_time": "2022-09-06T13:40:22.815Z"
   },
   {
    "duration": 14,
    "start_time": "2022-09-06T13:40:45.642Z"
   },
   {
    "duration": 52,
    "start_time": "2022-09-06T13:41:26.487Z"
   },
   {
    "duration": 54,
    "start_time": "2022-09-06T13:42:23.044Z"
   },
   {
    "duration": 232,
    "start_time": "2022-09-06T13:42:34.113Z"
   },
   {
    "duration": 187,
    "start_time": "2022-09-06T13:42:42.982Z"
   },
   {
    "duration": 274,
    "start_time": "2022-09-06T13:43:16.810Z"
   },
   {
    "duration": 148,
    "start_time": "2022-09-06T13:43:22.861Z"
   },
   {
    "duration": 172,
    "start_time": "2022-09-06T13:43:29.381Z"
   },
   {
    "duration": 176,
    "start_time": "2022-09-06T13:43:36.445Z"
   },
   {
    "duration": 110,
    "start_time": "2022-09-06T13:45:21.339Z"
   },
   {
    "duration": 8,
    "start_time": "2022-09-06T13:49:53.424Z"
   },
   {
    "duration": 2636,
    "start_time": "2022-09-06T13:50:23.803Z"
   },
   {
    "duration": 84,
    "start_time": "2022-09-06T13:51:09.201Z"
   },
   {
    "duration": 92,
    "start_time": "2022-09-06T13:51:19.189Z"
   },
   {
    "duration": 100,
    "start_time": "2022-09-06T13:51:27.090Z"
   },
   {
    "duration": 367,
    "start_time": "2022-09-06T13:52:37.873Z"
   },
   {
    "duration": 16,
    "start_time": "2022-09-06T13:53:56.276Z"
   },
   {
    "duration": 938,
    "start_time": "2022-09-06T13:55:23.466Z"
   },
   {
    "duration": 302,
    "start_time": "2022-09-06T13:55:33.927Z"
   },
   {
    "duration": 1285,
    "start_time": "2022-09-06T13:55:55.151Z"
   },
   {
    "duration": 7,
    "start_time": "2022-09-06T13:56:07.279Z"
   },
   {
    "duration": 8,
    "start_time": "2022-09-06T13:56:12.824Z"
   },
   {
    "duration": 301,
    "start_time": "2022-09-06T13:56:38.611Z"
   },
   {
    "duration": 47,
    "start_time": "2022-09-06T13:57:07.885Z"
   },
   {
    "duration": 259,
    "start_time": "2022-09-06T13:57:13.512Z"
   },
   {
    "duration": 14,
    "start_time": "2022-09-06T13:57:32.847Z"
   },
   {
    "duration": 24,
    "start_time": "2022-09-06T13:58:11.576Z"
   },
   {
    "duration": 17,
    "start_time": "2022-09-06T13:58:18.574Z"
   },
   {
    "duration": 91,
    "start_time": "2022-09-06T14:01:44.452Z"
   },
   {
    "duration": 86,
    "start_time": "2022-09-06T14:02:17.447Z"
   },
   {
    "duration": 90,
    "start_time": "2022-09-06T14:02:24.015Z"
   },
   {
    "duration": 93,
    "start_time": "2022-09-06T14:02:34.291Z"
   },
   {
    "duration": 8,
    "start_time": "2022-09-06T14:06:46.117Z"
   },
   {
    "duration": 9,
    "start_time": "2022-09-06T14:07:05.157Z"
   },
   {
    "duration": 36,
    "start_time": "2022-09-06T14:07:14.230Z"
   },
   {
    "duration": 2,
    "start_time": "2022-09-06T14:07:56.976Z"
   },
   {
    "duration": 7,
    "start_time": "2022-09-06T14:08:01.860Z"
   },
   {
    "duration": 8,
    "start_time": "2022-09-06T14:08:44.545Z"
   },
   {
    "duration": 808,
    "start_time": "2022-09-07T13:30:47.704Z"
   },
   {
    "duration": 127,
    "start_time": "2022-09-07T13:30:48.515Z"
   },
   {
    "duration": 15,
    "start_time": "2022-09-07T13:30:49.331Z"
   },
   {
    "duration": 16,
    "start_time": "2022-09-07T13:30:49.760Z"
   },
   {
    "duration": 18,
    "start_time": "2022-09-07T13:30:50.319Z"
   },
   {
    "duration": 11,
    "start_time": "2022-09-07T13:30:54.452Z"
   },
   {
    "duration": 17,
    "start_time": "2022-09-07T13:30:54.946Z"
   },
   {
    "duration": 579,
    "start_time": "2022-09-07T13:30:55.633Z"
   },
   {
    "duration": 4,
    "start_time": "2022-09-07T13:30:58.406Z"
   },
   {
    "duration": 14,
    "start_time": "2022-09-07T13:30:58.828Z"
   },
   {
    "duration": 11,
    "start_time": "2022-09-07T13:30:59.837Z"
   },
   {
    "duration": 8,
    "start_time": "2022-09-07T13:31:00.518Z"
   },
   {
    "duration": 8,
    "start_time": "2022-09-07T13:31:02.013Z"
   },
   {
    "duration": 18,
    "start_time": "2022-09-07T13:31:03.252Z"
   },
   {
    "duration": 9,
    "start_time": "2022-09-07T13:31:04.693Z"
   },
   {
    "duration": 12,
    "start_time": "2022-09-07T13:31:05.902Z"
   },
   {
    "duration": 7,
    "start_time": "2022-09-07T13:31:32.852Z"
   },
   {
    "duration": 2,
    "start_time": "2022-09-07T13:31:33.988Z"
   },
   {
    "duration": 306,
    "start_time": "2022-09-07T13:31:35.012Z"
   },
   {
    "duration": 6,
    "start_time": "2022-09-07T13:31:37.781Z"
   },
   {
    "duration": 16,
    "start_time": "2022-09-07T13:31:39.497Z"
   },
   {
    "duration": 14,
    "start_time": "2022-09-07T13:31:41.724Z"
   },
   {
    "duration": 17,
    "start_time": "2022-09-07T13:31:42.779Z"
   },
   {
    "duration": 5,
    "start_time": "2022-09-07T13:31:44.990Z"
   },
   {
    "duration": 17,
    "start_time": "2022-09-07T13:31:49.576Z"
   },
   {
    "duration": 18,
    "start_time": "2022-09-07T13:31:55.842Z"
   },
   {
    "duration": 73,
    "start_time": "2022-09-07T13:34:40.836Z"
   },
   {
    "duration": 8,
    "start_time": "2022-09-07T13:34:47.494Z"
   },
   {
    "duration": 115,
    "start_time": "2022-09-07T13:37:18.649Z"
   },
   {
    "duration": 117,
    "start_time": "2022-09-07T13:37:24.995Z"
   },
   {
    "duration": 108,
    "start_time": "2022-09-07T13:41:58.554Z"
   },
   {
    "duration": 119,
    "start_time": "2022-09-07T13:42:21.640Z"
   },
   {
    "duration": 123,
    "start_time": "2022-09-07T13:42:48.823Z"
   },
   {
    "duration": 130,
    "start_time": "2022-09-07T13:43:27.555Z"
   },
   {
    "duration": 105,
    "start_time": "2022-09-07T13:44:20.157Z"
   },
   {
    "duration": 12,
    "start_time": "2022-09-07T13:47:15.992Z"
   },
   {
    "duration": 140,
    "start_time": "2022-09-07T13:47:29.749Z"
   },
   {
    "duration": 17,
    "start_time": "2022-09-07T13:54:38.759Z"
   },
   {
    "duration": 107,
    "start_time": "2022-09-07T13:54:59.175Z"
   },
   {
    "duration": 117,
    "start_time": "2022-09-07T13:55:22.245Z"
   },
   {
    "duration": 191,
    "start_time": "2022-09-07T13:56:23.081Z"
   },
   {
    "duration": 117,
    "start_time": "2022-09-07T13:56:48.343Z"
   },
   {
    "duration": 19,
    "start_time": "2022-09-07T13:57:05.499Z"
   },
   {
    "duration": 19,
    "start_time": "2022-09-07T13:57:13.208Z"
   },
   {
    "duration": 18,
    "start_time": "2022-09-07T13:57:22.215Z"
   },
   {
    "duration": 138,
    "start_time": "2022-09-07T13:57:39.017Z"
   },
   {
    "duration": 32,
    "start_time": "2022-09-07T13:58:51.337Z"
   },
   {
    "duration": 142,
    "start_time": "2022-09-07T13:59:04.574Z"
   },
   {
    "duration": 28,
    "start_time": "2022-09-07T13:59:27.183Z"
   },
   {
    "duration": 133,
    "start_time": "2022-09-07T13:59:37.612Z"
   },
   {
    "duration": 116,
    "start_time": "2022-09-07T13:59:49.436Z"
   },
   {
    "duration": 28,
    "start_time": "2022-09-07T14:00:03.496Z"
   },
   {
    "duration": 129,
    "start_time": "2022-09-07T14:00:15.791Z"
   },
   {
    "duration": 125,
    "start_time": "2022-09-07T14:00:32.246Z"
   },
   {
    "duration": 171,
    "start_time": "2022-09-07T14:05:59.772Z"
   },
   {
    "duration": 564,
    "start_time": "2022-09-07T14:06:18.356Z"
   },
   {
    "duration": 173,
    "start_time": "2022-09-07T14:06:58.250Z"
   },
   {
    "duration": 106,
    "start_time": "2022-09-07T14:07:38.079Z"
   },
   {
    "duration": 59,
    "start_time": "2022-09-07T14:08:47.902Z"
   },
   {
    "duration": 152,
    "start_time": "2022-09-07T14:08:52.293Z"
   },
   {
    "duration": 195,
    "start_time": "2022-09-07T14:09:26.329Z"
   },
   {
    "duration": 18,
    "start_time": "2022-09-07T14:18:41.964Z"
   },
   {
    "duration": 18,
    "start_time": "2022-09-07T14:19:25.437Z"
   },
   {
    "duration": 80,
    "start_time": "2022-09-07T14:19:56.144Z"
   },
   {
    "duration": 20,
    "start_time": "2022-09-07T14:20:09.216Z"
   },
   {
    "duration": 10,
    "start_time": "2022-09-07T14:22:08.460Z"
   },
   {
    "duration": 20,
    "start_time": "2022-09-07T14:22:20.300Z"
   },
   {
    "duration": 4771,
    "start_time": "2022-09-07T14:24:38.625Z"
   },
   {
    "duration": 3353,
    "start_time": "2022-09-07T14:26:28.676Z"
   },
   {
    "duration": 3212,
    "start_time": "2022-09-07T14:27:14.423Z"
   },
   {
    "duration": 18,
    "start_time": "2022-09-07T14:28:27.504Z"
   },
   {
    "duration": 139,
    "start_time": "2022-09-07T14:34:49.832Z"
   },
   {
    "duration": 131,
    "start_time": "2022-09-07T14:35:42.513Z"
   },
   {
    "duration": 207,
    "start_time": "2022-09-07T14:38:08.706Z"
   },
   {
    "duration": 135,
    "start_time": "2022-09-07T14:38:47.968Z"
   },
   {
    "duration": 488,
    "start_time": "2022-09-07T14:45:20.354Z"
   },
   {
    "duration": 157,
    "start_time": "2022-09-07T14:46:38.573Z"
   },
   {
    "duration": 136,
    "start_time": "2022-09-07T14:46:47.162Z"
   },
   {
    "duration": 222,
    "start_time": "2022-09-07T14:47:25.756Z"
   },
   {
    "duration": 163,
    "start_time": "2022-09-07T14:48:09.145Z"
   },
   {
    "duration": 179,
    "start_time": "2022-09-07T14:48:41.225Z"
   },
   {
    "duration": 144,
    "start_time": "2022-09-07T14:48:52.912Z"
   },
   {
    "duration": 142,
    "start_time": "2022-09-07T14:50:18.466Z"
   },
   {
    "duration": 1521,
    "start_time": "2022-09-07T16:16:08.672Z"
   },
   {
    "duration": 509,
    "start_time": "2022-09-07T16:16:10.857Z"
   },
   {
    "duration": 14,
    "start_time": "2022-09-07T16:16:11.368Z"
   },
   {
    "duration": 20,
    "start_time": "2022-09-07T16:16:11.495Z"
   },
   {
    "duration": 16,
    "start_time": "2022-09-07T16:16:11.792Z"
   },
   {
    "duration": 10,
    "start_time": "2022-09-07T16:16:11.994Z"
   },
   {
    "duration": 15,
    "start_time": "2022-09-07T16:16:12.200Z"
   },
   {
    "duration": 619,
    "start_time": "2022-09-07T16:16:12.374Z"
   },
   {
    "duration": 3,
    "start_time": "2022-09-07T16:16:13.156Z"
   },
   {
    "duration": 18,
    "start_time": "2022-09-07T16:16:13.345Z"
   },
   {
    "duration": 8,
    "start_time": "2022-09-07T16:16:13.738Z"
   },
   {
    "duration": 6,
    "start_time": "2022-09-07T16:16:13.931Z"
   },
   {
    "duration": 9,
    "start_time": "2022-09-07T16:16:14.325Z"
   },
   {
    "duration": 17,
    "start_time": "2022-09-07T16:16:14.771Z"
   },
   {
    "duration": 8,
    "start_time": "2022-09-07T16:16:20.023Z"
   },
   {
    "duration": 8,
    "start_time": "2022-09-07T16:16:21.194Z"
   },
   {
    "duration": 20,
    "start_time": "2022-09-07T16:17:31.519Z"
   },
   {
    "duration": 9,
    "start_time": "2022-09-07T16:17:52.235Z"
   },
   {
    "duration": 103,
    "start_time": "2022-09-07T16:17:58.879Z"
   },
   {
    "duration": 18,
    "start_time": "2022-09-07T16:18:04.814Z"
   },
   {
    "duration": 6,
    "start_time": "2022-09-07T16:18:15.400Z"
   },
   {
    "duration": 9,
    "start_time": "2022-09-07T16:18:26.165Z"
   },
   {
    "duration": 7,
    "start_time": "2022-09-07T16:18:50.977Z"
   },
   {
    "duration": 4,
    "start_time": "2022-09-07T16:26:01.381Z"
   },
   {
    "duration": 12,
    "start_time": "2022-09-07T16:26:31.965Z"
   },
   {
    "duration": 9,
    "start_time": "2022-09-07T16:26:38.679Z"
   },
   {
    "duration": 21,
    "start_time": "2022-09-07T16:27:46.602Z"
   },
   {
    "duration": 16,
    "start_time": "2022-09-07T16:29:39.280Z"
   },
   {
    "duration": 17,
    "start_time": "2022-09-07T16:30:21.090Z"
   },
   {
    "duration": 16,
    "start_time": "2022-09-07T16:30:41.652Z"
   },
   {
    "duration": 15,
    "start_time": "2022-09-07T16:30:48.515Z"
   },
   {
    "duration": 16,
    "start_time": "2022-09-07T16:31:13.188Z"
   },
   {
    "duration": 14,
    "start_time": "2022-09-07T16:31:30.336Z"
   },
   {
    "duration": 15,
    "start_time": "2022-09-07T16:34:46.252Z"
   },
   {
    "duration": 16,
    "start_time": "2022-09-07T16:35:03.367Z"
   },
   {
    "duration": 14,
    "start_time": "2022-09-07T16:35:30.648Z"
   },
   {
    "duration": 15,
    "start_time": "2022-09-07T16:36:30.119Z"
   },
   {
    "duration": 14,
    "start_time": "2022-09-07T16:36:46.209Z"
   },
   {
    "duration": 15,
    "start_time": "2022-09-07T16:37:03.725Z"
   },
   {
    "duration": 15,
    "start_time": "2022-09-07T16:37:15.289Z"
   },
   {
    "duration": 14,
    "start_time": "2022-09-07T16:37:37.857Z"
   },
   {
    "duration": 15,
    "start_time": "2022-09-07T16:38:22.407Z"
   },
   {
    "duration": 3,
    "start_time": "2022-09-07T17:12:05.280Z"
   },
   {
    "duration": 1409,
    "start_time": "2022-09-07T17:16:25.752Z"
   },
   {
    "duration": 24,
    "start_time": "2022-09-07T17:16:36.561Z"
   },
   {
    "duration": 1161,
    "start_time": "2022-09-07T17:17:25.115Z"
   },
   {
    "duration": 1296,
    "start_time": "2022-09-07T17:18:19.888Z"
   },
   {
    "duration": 3,
    "start_time": "2022-09-07T17:18:24.020Z"
   },
   {
    "duration": 76,
    "start_time": "2022-09-07T17:18:24.025Z"
   },
   {
    "duration": 15,
    "start_time": "2022-09-07T17:18:24.103Z"
   },
   {
    "duration": 16,
    "start_time": "2022-09-07T17:18:24.120Z"
   },
   {
    "duration": 43,
    "start_time": "2022-09-07T17:18:24.139Z"
   },
   {
    "duration": 8,
    "start_time": "2022-09-07T17:18:24.184Z"
   },
   {
    "duration": 15,
    "start_time": "2022-09-07T17:18:24.194Z"
   },
   {
    "duration": 664,
    "start_time": "2022-09-07T17:18:24.210Z"
   },
   {
    "duration": 7,
    "start_time": "2022-09-07T17:18:24.880Z"
   },
   {
    "duration": 15,
    "start_time": "2022-09-07T17:18:24.890Z"
   },
   {
    "duration": 8,
    "start_time": "2022-09-07T17:18:24.907Z"
   },
   {
    "duration": 7,
    "start_time": "2022-09-07T17:18:24.917Z"
   },
   {
    "duration": 10,
    "start_time": "2022-09-07T17:18:24.925Z"
   },
   {
    "duration": 22,
    "start_time": "2022-09-07T17:18:24.967Z"
   },
   {
    "duration": 8,
    "start_time": "2022-09-07T17:18:24.991Z"
   },
   {
    "duration": 9,
    "start_time": "2022-09-07T17:18:25.001Z"
   },
   {
    "duration": 6,
    "start_time": "2022-09-07T17:18:25.012Z"
   },
   {
    "duration": 3,
    "start_time": "2022-09-07T17:18:25.020Z"
   },
   {
    "duration": 304,
    "start_time": "2022-09-07T17:18:25.025Z"
   },
   {
    "duration": 6,
    "start_time": "2022-09-07T17:18:25.331Z"
   },
   {
    "duration": 38,
    "start_time": "2022-09-07T17:18:25.339Z"
   },
   {
    "duration": 133,
    "start_time": "2022-09-07T17:18:25.380Z"
   },
   {
    "duration": 151,
    "start_time": "2022-09-07T17:18:25.515Z"
   },
   {
    "duration": 232,
    "start_time": "2022-09-07T17:18:25.670Z"
   },
   {
    "duration": 141,
    "start_time": "2022-09-07T17:18:25.905Z"
   },
   {
    "duration": 36,
    "start_time": "2022-09-07T17:18:26.048Z"
   },
   {
    "duration": 22,
    "start_time": "2022-09-07T17:18:26.086Z"
   },
   {
    "duration": 25,
    "start_time": "2022-09-07T17:18:26.110Z"
   },
   {
    "duration": 150,
    "start_time": "2022-09-07T17:18:26.138Z"
   },
   {
    "duration": 128,
    "start_time": "2022-09-07T17:18:26.289Z"
   },
   {
    "duration": 187,
    "start_time": "2022-09-07T17:18:26.418Z"
   },
   {
    "duration": 672,
    "start_time": "2022-09-07T17:18:26.607Z"
   },
   {
    "duration": 233,
    "start_time": "2022-09-07T17:18:27.281Z"
   },
   {
    "duration": 174,
    "start_time": "2022-09-07T17:18:27.516Z"
   },
   {
    "duration": 176,
    "start_time": "2022-09-07T17:18:27.691Z"
   },
   {
    "duration": 162,
    "start_time": "2022-09-07T17:18:27.874Z"
   },
   {
    "duration": 42,
    "start_time": "2022-09-07T17:18:28.038Z"
   },
   {
    "duration": 16,
    "start_time": "2022-09-07T17:18:28.082Z"
   },
   {
    "duration": 5706,
    "start_time": "2022-09-07T17:18:28.099Z"
   },
   {
    "duration": 238,
    "start_time": "2022-09-07T17:18:33.807Z"
   },
   {
    "duration": 36,
    "start_time": "2022-09-07T17:18:34.049Z"
   },
   {
    "duration": 16,
    "start_time": "2022-09-07T17:18:34.086Z"
   },
   {
    "duration": 14,
    "start_time": "2022-09-07T17:18:34.104Z"
   },
   {
    "duration": 15,
    "start_time": "2022-09-07T17:18:34.119Z"
   },
   {
    "duration": 48,
    "start_time": "2022-09-07T17:18:34.135Z"
   },
   {
    "duration": 15,
    "start_time": "2022-09-07T17:18:34.187Z"
   },
   {
    "duration": 18,
    "start_time": "2022-09-07T17:18:34.204Z"
   },
   {
    "duration": 16,
    "start_time": "2022-09-07T17:18:34.224Z"
   },
   {
    "duration": 14,
    "start_time": "2022-09-07T17:18:34.242Z"
   },
   {
    "duration": 27,
    "start_time": "2022-09-07T17:18:34.258Z"
   },
   {
    "duration": 9,
    "start_time": "2022-09-07T17:18:34.287Z"
   },
   {
    "duration": 3,
    "start_time": "2022-09-07T17:18:45.544Z"
   },
   {
    "duration": 4,
    "start_time": "2022-09-07T17:19:03.815Z"
   },
   {
    "duration": 12,
    "start_time": "2022-09-07T17:20:00.122Z"
   },
   {
    "duration": 5,
    "start_time": "2022-09-07T17:20:03.336Z"
   },
   {
    "duration": 12,
    "start_time": "2022-09-07T17:20:22.245Z"
   },
   {
    "duration": 5,
    "start_time": "2022-09-07T17:20:24.465Z"
   },
   {
    "duration": 8,
    "start_time": "2022-09-07T17:20:30.532Z"
   },
   {
    "duration": 4,
    "start_time": "2022-09-07T17:20:32.445Z"
   },
   {
    "duration": 11,
    "start_time": "2022-09-07T17:21:08.125Z"
   },
   {
    "duration": 5,
    "start_time": "2022-09-07T17:21:17.081Z"
   },
   {
    "duration": 1329,
    "start_time": "2022-09-07T18:17:22.308Z"
   },
   {
    "duration": 78,
    "start_time": "2022-09-07T18:17:23.639Z"
   },
   {
    "duration": 16,
    "start_time": "2022-09-07T18:17:24.239Z"
   },
   {
    "duration": 16,
    "start_time": "2022-09-07T18:17:24.396Z"
   },
   {
    "duration": 15,
    "start_time": "2022-09-07T18:17:24.599Z"
   },
   {
    "duration": 10,
    "start_time": "2022-09-07T18:17:24.831Z"
   },
   {
    "duration": 16,
    "start_time": "2022-09-07T18:17:24.979Z"
   },
   {
    "duration": 636,
    "start_time": "2022-09-07T18:17:25.185Z"
   },
   {
    "duration": 3,
    "start_time": "2022-09-07T18:17:27.665Z"
   },
   {
    "duration": 16,
    "start_time": "2022-09-07T18:17:27.670Z"
   },
   {
    "duration": 10,
    "start_time": "2022-09-07T18:17:28.550Z"
   },
   {
    "duration": 7,
    "start_time": "2022-09-07T18:18:33.482Z"
   },
   {
    "duration": 9,
    "start_time": "2022-09-07T18:18:34.196Z"
   },
   {
    "duration": 20,
    "start_time": "2022-09-07T18:18:35.420Z"
   },
   {
    "duration": 8,
    "start_time": "2022-09-07T18:18:38.369Z"
   },
   {
    "duration": 114,
    "start_time": "2022-09-07T18:18:39.343Z"
   },
   {
    "duration": 16,
    "start_time": "2022-09-07T18:18:50.523Z"
   },
   {
    "duration": 3,
    "start_time": "2022-09-07T18:19:05.315Z"
   },
   {
    "duration": 12,
    "start_time": "2022-09-07T18:19:07.785Z"
   },
   {
    "duration": 22,
    "start_time": "2022-09-07T18:19:08.654Z"
   },
   {
    "duration": 9,
    "start_time": "2022-09-07T18:19:09.347Z"
   },
   {
    "duration": 23,
    "start_time": "2022-09-07T18:19:11.015Z"
   },
   {
    "duration": 1303,
    "start_time": "2022-09-07T18:19:25.192Z"
   },
   {
    "duration": 71,
    "start_time": "2022-09-07T18:19:27.117Z"
   },
   {
    "duration": 14,
    "start_time": "2022-09-07T18:19:27.317Z"
   },
   {
    "duration": 22,
    "start_time": "2022-09-07T18:19:27.513Z"
   },
   {
    "duration": 15,
    "start_time": "2022-09-07T18:19:27.700Z"
   },
   {
    "duration": 10,
    "start_time": "2022-09-07T18:19:27.891Z"
   },
   {
    "duration": 16,
    "start_time": "2022-09-07T18:19:28.063Z"
   },
   {
    "duration": 639,
    "start_time": "2022-09-07T18:19:28.241Z"
   },
   {
    "duration": 4,
    "start_time": "2022-09-07T18:19:29.005Z"
   },
   {
    "duration": 13,
    "start_time": "2022-09-07T18:19:29.184Z"
   },
   {
    "duration": 9,
    "start_time": "2022-09-07T18:19:29.580Z"
   },
   {
    "duration": 2,
    "start_time": "2022-09-07T18:19:30.342Z"
   },
   {
    "duration": 9,
    "start_time": "2022-09-07T18:19:31.289Z"
   },
   {
    "duration": 18,
    "start_time": "2022-09-07T18:19:33.020Z"
   },
   {
    "duration": 9,
    "start_time": "2022-09-07T18:19:34.349Z"
   },
   {
    "duration": 5,
    "start_time": "2022-09-07T18:19:35.293Z"
   },
   {
    "duration": 15,
    "start_time": "2022-09-07T18:19:36.534Z"
   },
   {
    "duration": 9,
    "start_time": "2022-09-07T18:20:37.281Z"
   },
   {
    "duration": 5,
    "start_time": "2022-09-07T18:20:37.720Z"
   },
   {
    "duration": 9,
    "start_time": "2022-09-07T18:20:38.013Z"
   },
   {
    "duration": 6,
    "start_time": "2022-09-07T18:20:38.432Z"
   },
   {
    "duration": 3,
    "start_time": "2022-09-07T18:20:38.821Z"
   },
   {
    "duration": 270,
    "start_time": "2022-09-07T18:20:40.674Z"
   },
   {
    "duration": 8,
    "start_time": "2022-09-07T18:20:40.945Z"
   },
   {
    "duration": 16,
    "start_time": "2022-09-07T18:20:42.658Z"
   },
   {
    "duration": 123,
    "start_time": "2022-09-07T18:20:44.486Z"
   },
   {
    "duration": 139,
    "start_time": "2022-09-07T18:20:45.482Z"
   },
   {
    "duration": 204,
    "start_time": "2022-09-07T18:20:46.111Z"
   },
   {
    "duration": 136,
    "start_time": "2022-09-07T18:20:48.222Z"
   },
   {
    "duration": 18,
    "start_time": "2022-09-07T18:20:52.179Z"
   },
   {
    "duration": 20,
    "start_time": "2022-09-07T18:20:54.215Z"
   },
   {
    "duration": 24,
    "start_time": "2022-09-07T18:20:55.979Z"
   },
   {
    "duration": 134,
    "start_time": "2022-09-07T18:20:56.205Z"
   },
   {
    "duration": 119,
    "start_time": "2022-09-07T18:20:57.049Z"
   },
   {
    "duration": 124,
    "start_time": "2022-09-07T18:20:58.532Z"
   },
   {
    "duration": 521,
    "start_time": "2022-09-07T18:20:59.883Z"
   },
   {
    "duration": 149,
    "start_time": "2022-09-07T18:21:08.403Z"
   },
   {
    "duration": 149,
    "start_time": "2022-09-07T18:21:09.343Z"
   },
   {
    "duration": 178,
    "start_time": "2022-09-07T18:21:11.743Z"
   },
   {
    "duration": 148,
    "start_time": "2022-09-07T18:21:12.542Z"
   },
   {
    "duration": 23,
    "start_time": "2022-09-07T18:21:14.272Z"
   },
   {
    "duration": 18,
    "start_time": "2022-09-07T18:21:15.216Z"
   },
   {
    "duration": 5280,
    "start_time": "2022-09-07T18:21:15.838Z"
   },
   {
    "duration": 247,
    "start_time": "2022-09-07T18:21:21.121Z"
   },
   {
    "duration": 17,
    "start_time": "2022-09-07T18:21:23.745Z"
   },
   {
    "duration": 16,
    "start_time": "2022-09-07T18:21:44.027Z"
   },
   {
    "duration": 15,
    "start_time": "2022-09-07T18:21:44.622Z"
   },
   {
    "duration": 15,
    "start_time": "2022-09-07T18:21:45.444Z"
   },
   {
    "duration": 19,
    "start_time": "2022-09-07T18:23:01.541Z"
   },
   {
    "duration": 16,
    "start_time": "2022-09-07T18:23:02.529Z"
   },
   {
    "duration": 20,
    "start_time": "2022-09-07T18:23:02.879Z"
   },
   {
    "duration": 16,
    "start_time": "2022-09-07T18:23:11.107Z"
   },
   {
    "duration": 20,
    "start_time": "2022-09-07T18:23:11.869Z"
   },
   {
    "duration": 18,
    "start_time": "2022-09-07T18:23:13.554Z"
   },
   {
    "duration": 8,
    "start_time": "2022-09-07T18:24:00.678Z"
   },
   {
    "duration": 4,
    "start_time": "2022-09-07T18:24:01.144Z"
   },
   {
    "duration": 8,
    "start_time": "2022-09-07T18:24:14.493Z"
   },
   {
    "duration": 5,
    "start_time": "2022-09-07T18:24:14.930Z"
   },
   {
    "duration": 4,
    "start_time": "2022-09-07T18:26:07.942Z"
   },
   {
    "duration": 4,
    "start_time": "2022-09-07T18:26:44.573Z"
   },
   {
    "duration": 9,
    "start_time": "2022-09-07T18:26:45.279Z"
   },
   {
    "duration": 6,
    "start_time": "2022-09-07T18:26:50.477Z"
   },
   {
    "duration": 278,
    "start_time": "2022-09-07T18:26:51.280Z"
   },
   {
    "duration": 8,
    "start_time": "2022-09-07T18:26:52.306Z"
   },
   {
    "duration": 14,
    "start_time": "2022-09-07T18:26:59.829Z"
   },
   {
    "duration": 125,
    "start_time": "2022-09-07T18:27:00.422Z"
   },
   {
    "duration": 135,
    "start_time": "2022-09-07T18:27:00.827Z"
   },
   {
    "duration": 135,
    "start_time": "2022-09-07T18:27:01.207Z"
   },
   {
    "duration": 123,
    "start_time": "2022-09-07T18:27:01.600Z"
   },
   {
    "duration": 17,
    "start_time": "2022-09-07T18:27:10.557Z"
   },
   {
    "duration": 18,
    "start_time": "2022-09-07T18:27:10.935Z"
   },
   {
    "duration": 15,
    "start_time": "2022-09-07T18:27:13.390Z"
   },
   {
    "duration": 16,
    "start_time": "2022-09-07T18:27:13.752Z"
   },
   {
    "duration": 17,
    "start_time": "2022-09-07T18:27:15.283Z"
   },
   {
    "duration": 17,
    "start_time": "2022-09-07T18:27:15.749Z"
   },
   {
    "duration": 16,
    "start_time": "2022-09-07T18:27:16.200Z"
   },
   {
    "duration": 1273,
    "start_time": "2022-09-07T18:27:48.478Z"
   },
   {
    "duration": 69,
    "start_time": "2022-09-07T18:27:49.753Z"
   },
   {
    "duration": 14,
    "start_time": "2022-09-07T18:27:50.489Z"
   },
   {
    "duration": 15,
    "start_time": "2022-09-07T18:27:50.882Z"
   },
   {
    "duration": 16,
    "start_time": "2022-09-07T18:27:51.616Z"
   },
   {
    "duration": 9,
    "start_time": "2022-09-07T18:27:52.006Z"
   },
   {
    "duration": 16,
    "start_time": "2022-09-07T18:27:52.501Z"
   },
   {
    "duration": 611,
    "start_time": "2022-09-07T18:27:53.188Z"
   },
   {
    "duration": 4,
    "start_time": "2022-09-07T18:27:54.818Z"
   },
   {
    "duration": 13,
    "start_time": "2022-09-07T18:27:55.101Z"
   },
   {
    "duration": 8,
    "start_time": "2022-09-07T18:27:55.799Z"
   },
   {
    "duration": 9,
    "start_time": "2022-09-07T18:27:56.356Z"
   },
   {
    "duration": 16,
    "start_time": "2022-09-07T18:27:56.934Z"
   },
   {
    "duration": 8,
    "start_time": "2022-09-07T18:27:57.573Z"
   },
   {
    "duration": 5,
    "start_time": "2022-09-07T18:27:58.149Z"
   },
   {
    "duration": 9,
    "start_time": "2022-09-07T18:27:58.749Z"
   },
   {
    "duration": 6,
    "start_time": "2022-09-07T18:27:59.143Z"
   },
   {
    "duration": 265,
    "start_time": "2022-09-07T18:27:59.802Z"
   },
   {
    "duration": 8,
    "start_time": "2022-09-07T18:28:00.070Z"
   },
   {
    "duration": 15,
    "start_time": "2022-09-07T18:28:01.345Z"
   },
   {
    "duration": 15,
    "start_time": "2022-09-07T18:28:08.463Z"
   },
   {
    "duration": 129,
    "start_time": "2022-09-07T18:28:09.778Z"
   },
   {
    "duration": 153,
    "start_time": "2022-09-07T18:28:10.306Z"
   },
   {
    "duration": 203,
    "start_time": "2022-09-07T18:28:10.781Z"
   },
   {
    "duration": 116,
    "start_time": "2022-09-07T18:28:11.281Z"
   },
   {
    "duration": 15,
    "start_time": "2022-09-07T18:28:12.392Z"
   },
   {
    "duration": 18,
    "start_time": "2022-09-07T18:28:13.190Z"
   },
   {
    "duration": 18,
    "start_time": "2022-09-07T18:28:13.956Z"
   },
   {
    "duration": 122,
    "start_time": "2022-09-07T18:28:14.194Z"
   },
   {
    "duration": 119,
    "start_time": "2022-09-07T18:28:14.416Z"
   },
   {
    "duration": 142,
    "start_time": "2022-09-07T18:28:14.757Z"
   },
   {
    "duration": 606,
    "start_time": "2022-09-07T18:28:16.245Z"
   },
   {
    "duration": 156,
    "start_time": "2022-09-07T18:28:25.885Z"
   },
   {
    "duration": 152,
    "start_time": "2022-09-07T18:28:26.882Z"
   },
   {
    "duration": 168,
    "start_time": "2022-09-07T18:28:28.425Z"
   },
   {
    "duration": 141,
    "start_time": "2022-09-07T18:28:29.445Z"
   },
   {
    "duration": 20,
    "start_time": "2022-09-07T18:28:32.991Z"
   },
   {
    "duration": 16,
    "start_time": "2022-09-07T18:28:34.051Z"
   },
   {
    "duration": 5231,
    "start_time": "2022-09-07T18:28:34.624Z"
   },
   {
    "duration": 229,
    "start_time": "2022-09-07T18:28:39.857Z"
   },
   {
    "duration": 17,
    "start_time": "2022-09-07T18:28:44.069Z"
   },
   {
    "duration": 18,
    "start_time": "2022-09-07T18:29:23.629Z"
   },
   {
    "duration": 15,
    "start_time": "2022-09-07T18:29:24.099Z"
   },
   {
    "duration": 20,
    "start_time": "2022-09-07T18:29:24.619Z"
   },
   {
    "duration": 1425,
    "start_time": "2022-09-07T19:55:19.869Z"
   },
   {
    "duration": 109,
    "start_time": "2022-09-07T19:55:32.228Z"
   },
   {
    "duration": 14,
    "start_time": "2022-09-07T19:55:32.687Z"
   },
   {
    "duration": 15,
    "start_time": "2022-09-07T19:55:33.127Z"
   },
   {
    "duration": 15,
    "start_time": "2022-09-07T19:55:33.340Z"
   },
   {
    "duration": 10,
    "start_time": "2022-09-07T19:55:33.587Z"
   },
   {
    "duration": 16,
    "start_time": "2022-09-07T19:55:33.856Z"
   },
   {
    "duration": 580,
    "start_time": "2022-09-07T19:55:34.125Z"
   },
   {
    "duration": 3,
    "start_time": "2022-09-07T19:55:37.763Z"
   },
   {
    "duration": 16,
    "start_time": "2022-09-07T19:55:38.179Z"
   },
   {
    "duration": 12,
    "start_time": "2022-09-07T19:55:39.005Z"
   },
   {
    "duration": 15,
    "start_time": "2022-09-07T19:55:40.045Z"
   },
   {
    "duration": 15,
    "start_time": "2022-09-07T19:55:41.214Z"
   },
   {
    "duration": 9,
    "start_time": "2022-09-07T19:55:41.973Z"
   },
   {
    "duration": 6,
    "start_time": "2022-09-07T19:55:42.979Z"
   },
   {
    "duration": 13,
    "start_time": "2022-09-07T19:55:43.623Z"
   },
   {
    "duration": 8,
    "start_time": "2022-09-07T19:55:45.346Z"
   },
   {
    "duration": 241,
    "start_time": "2022-09-07T19:55:46.669Z"
   },
   {
    "duration": 7,
    "start_time": "2022-09-07T19:55:47.529Z"
   },
   {
    "duration": 17,
    "start_time": "2022-09-07T19:55:48.448Z"
   },
   {
    "duration": 112,
    "start_time": "2022-09-07T19:55:49.714Z"
   },
   {
    "duration": 119,
    "start_time": "2022-09-07T19:55:50.429Z"
   },
   {
    "duration": 203,
    "start_time": "2022-09-07T19:55:51.095Z"
   },
   {
    "duration": 111,
    "start_time": "2022-09-07T19:55:51.892Z"
   },
   {
    "duration": 12,
    "start_time": "2022-09-07T19:55:53.387Z"
   },
   {
    "duration": 16,
    "start_time": "2022-09-07T19:55:54.174Z"
   },
   {
    "duration": 17,
    "start_time": "2022-09-07T19:55:55.478Z"
   },
   {
    "duration": 114,
    "start_time": "2022-09-07T19:55:55.829Z"
   },
   {
    "duration": 139,
    "start_time": "2022-09-07T19:55:56.292Z"
   },
   {
    "duration": 118,
    "start_time": "2022-09-07T19:55:56.831Z"
   },
   {
    "duration": 496,
    "start_time": "2022-09-07T19:55:58.191Z"
   },
   {
    "duration": 159,
    "start_time": "2022-09-07T19:55:59.862Z"
   },
   {
    "duration": 163,
    "start_time": "2022-09-07T19:56:00.098Z"
   },
   {
    "duration": 155,
    "start_time": "2022-09-07T19:56:08.758Z"
   },
   {
    "duration": 139,
    "start_time": "2022-09-07T19:56:09.287Z"
   },
   {
    "duration": 20,
    "start_time": "2022-09-07T19:56:11.378Z"
   },
   {
    "duration": 16,
    "start_time": "2022-09-07T19:56:12.097Z"
   },
   {
    "duration": 5025,
    "start_time": "2022-09-07T19:56:12.516Z"
   },
   {
    "duration": 210,
    "start_time": "2022-09-07T19:56:20.284Z"
   },
   {
    "duration": 14,
    "start_time": "2022-09-07T19:56:24.215Z"
   },
   {
    "duration": 14,
    "start_time": "2022-09-07T19:56:26.016Z"
   },
   {
    "duration": 19,
    "start_time": "2022-09-07T19:56:26.421Z"
   },
   {
    "duration": 14,
    "start_time": "2022-09-07T19:56:26.732Z"
   },
   {
    "duration": 14,
    "start_time": "2022-09-07T19:56:27.947Z"
   },
   {
    "duration": 14,
    "start_time": "2022-09-07T19:56:28.226Z"
   },
   {
    "duration": 14,
    "start_time": "2022-09-07T19:56:28.518Z"
   },
   {
    "duration": 14,
    "start_time": "2022-09-07T19:56:29.322Z"
   },
   {
    "duration": 16,
    "start_time": "2022-09-07T19:56:29.571Z"
   },
   {
    "duration": 16,
    "start_time": "2022-09-07T19:56:29.841Z"
   },
   {
    "duration": 8,
    "start_time": "2022-09-07T19:56:33.813Z"
   },
   {
    "duration": 4,
    "start_time": "2022-09-07T19:56:34.256Z"
   },
   {
    "duration": 9,
    "start_time": "2022-09-07T20:04:54.710Z"
   },
   {
    "duration": 5,
    "start_time": "2022-09-07T20:04:57.053Z"
   },
   {
    "duration": 9,
    "start_time": "2022-09-07T20:05:49.074Z"
   },
   {
    "duration": 4,
    "start_time": "2022-09-07T20:05:51.065Z"
   },
   {
    "duration": 8,
    "start_time": "2022-09-07T20:05:59.441Z"
   },
   {
    "duration": 4,
    "start_time": "2022-09-07T20:06:01.330Z"
   },
   {
    "duration": 1387,
    "start_time": "2022-09-08T05:36:02.573Z"
   },
   {
    "duration": 137,
    "start_time": "2022-09-08T05:36:04.640Z"
   },
   {
    "duration": 14,
    "start_time": "2022-09-08T05:36:05.091Z"
   },
   {
    "duration": 16,
    "start_time": "2022-09-08T05:36:05.486Z"
   },
   {
    "duration": 15,
    "start_time": "2022-09-08T05:36:05.940Z"
   },
   {
    "duration": 9,
    "start_time": "2022-09-08T05:36:06.389Z"
   },
   {
    "duration": 23,
    "start_time": "2022-09-08T05:36:06.854Z"
   },
   {
    "duration": 619,
    "start_time": "2022-09-08T05:36:07.762Z"
   },
   {
    "duration": 3,
    "start_time": "2022-09-08T05:36:10.292Z"
   },
   {
    "duration": 15,
    "start_time": "2022-09-08T05:36:11.387Z"
   },
   {
    "duration": 6,
    "start_time": "2022-09-08T05:36:28.649Z"
   },
   {
    "duration": 10,
    "start_time": "2022-09-08T05:36:42.750Z"
   },
   {
    "duration": 136,
    "start_time": "2022-09-08T05:37:26.519Z"
   },
   {
    "duration": 121,
    "start_time": "2022-09-08T05:37:56.277Z"
   },
   {
    "duration": 6,
    "start_time": "2022-09-08T05:39:20.778Z"
   },
   {
    "duration": 50,
    "start_time": "2022-09-08T05:41:03.631Z"
   },
   {
    "duration": 1168,
    "start_time": "2022-09-08T05:41:07.070Z"
   },
   {
    "duration": 72,
    "start_time": "2022-09-08T05:41:08.240Z"
   },
   {
    "duration": 13,
    "start_time": "2022-09-08T05:41:08.314Z"
   },
   {
    "duration": 18,
    "start_time": "2022-09-08T05:41:10.310Z"
   },
   {
    "duration": 13,
    "start_time": "2022-09-08T05:41:10.773Z"
   },
   {
    "duration": 8,
    "start_time": "2022-09-08T05:41:13.043Z"
   },
   {
    "duration": 22,
    "start_time": "2022-09-08T05:41:13.452Z"
   },
   {
    "duration": 585,
    "start_time": "2022-09-08T05:41:13.727Z"
   },
   {
    "duration": 3,
    "start_time": "2022-09-08T05:41:17.178Z"
   },
   {
    "duration": 12,
    "start_time": "2022-09-08T05:41:17.475Z"
   },
   {
    "duration": 7,
    "start_time": "2022-09-08T05:41:24.122Z"
   },
   {
    "duration": 122,
    "start_time": "2022-09-08T05:41:24.697Z"
   },
   {
    "duration": 5,
    "start_time": "2022-09-08T05:41:27.792Z"
   },
   {
    "duration": 16,
    "start_time": "2022-09-08T05:42:05.663Z"
   },
   {
    "duration": 17,
    "start_time": "2022-09-08T05:42:10.377Z"
   },
   {
    "duration": 8,
    "start_time": "2022-09-08T05:42:12.995Z"
   },
   {
    "duration": 5,
    "start_time": "2022-09-08T05:42:14.018Z"
   },
   {
    "duration": 9,
    "start_time": "2022-09-08T05:42:14.918Z"
   },
   {
    "duration": 121,
    "start_time": "2022-09-08T05:42:49.384Z"
   },
   {
    "duration": 1171,
    "start_time": "2022-09-08T06:31:09.523Z"
   },
   {
    "duration": 3,
    "start_time": "2022-09-08T06:31:23.847Z"
   },
   {
    "duration": 92,
    "start_time": "2022-09-08T06:31:24.595Z"
   },
   {
    "duration": 13,
    "start_time": "2022-09-08T06:31:25.122Z"
   },
   {
    "duration": 15,
    "start_time": "2022-09-08T06:31:25.633Z"
   },
   {
    "duration": 18,
    "start_time": "2022-09-08T06:31:26.089Z"
   },
   {
    "duration": 8,
    "start_time": "2022-09-08T06:31:26.549Z"
   },
   {
    "duration": 14,
    "start_time": "2022-09-08T06:31:28.226Z"
   },
   {
    "duration": 598,
    "start_time": "2022-09-08T06:31:28.878Z"
   },
   {
    "duration": 30,
    "start_time": "2022-09-08T06:31:48.274Z"
   },
   {
    "duration": 115,
    "start_time": "2022-09-08T06:33:21.900Z"
   },
   {
    "duration": 4,
    "start_time": "2022-09-08T06:33:28.397Z"
   },
   {
    "duration": 18,
    "start_time": "2022-09-08T06:33:28.775Z"
   },
   {
    "duration": 8,
    "start_time": "2022-09-08T06:33:29.577Z"
   },
   {
    "duration": 7,
    "start_time": "2022-09-08T06:33:29.994Z"
   },
   {
    "duration": 11,
    "start_time": "2022-09-08T06:33:30.794Z"
   },
   {
    "duration": 18,
    "start_time": "2022-09-08T06:33:31.627Z"
   },
   {
    "duration": 7,
    "start_time": "2022-09-08T06:33:33.007Z"
   },
   {
    "duration": 5,
    "start_time": "2022-09-08T06:33:33.875Z"
   },
   {
    "duration": 8,
    "start_time": "2022-09-08T06:33:34.310Z"
   },
   {
    "duration": 10,
    "start_time": "2022-09-08T06:33:35.537Z"
   },
   {
    "duration": 343,
    "start_time": "2022-09-08T06:33:40.082Z"
   },
   {
    "duration": 20,
    "start_time": "2022-09-08T06:33:41.151Z"
   },
   {
    "duration": 14,
    "start_time": "2022-09-08T06:33:44.440Z"
   },
   {
    "duration": 5,
    "start_time": "2022-09-08T06:34:17.465Z"
   },
   {
    "duration": 72,
    "start_time": "2022-09-08T06:34:17.474Z"
   },
   {
    "duration": 22,
    "start_time": "2022-09-08T06:34:17.547Z"
   },
   {
    "duration": 28,
    "start_time": "2022-09-08T06:34:17.572Z"
   },
   {
    "duration": 20,
    "start_time": "2022-09-08T06:34:17.602Z"
   },
   {
    "duration": 16,
    "start_time": "2022-09-08T06:34:17.624Z"
   },
   {
    "duration": 23,
    "start_time": "2022-09-08T06:34:17.642Z"
   },
   {
    "duration": 680,
    "start_time": "2022-09-08T06:34:17.668Z"
   },
   {
    "duration": 14,
    "start_time": "2022-09-08T06:34:18.350Z"
   },
   {
    "duration": 25,
    "start_time": "2022-09-08T06:34:18.365Z"
   },
   {
    "duration": 7,
    "start_time": "2022-09-08T06:34:18.392Z"
   },
   {
    "duration": 6,
    "start_time": "2022-09-08T06:34:18.401Z"
   },
   {
    "duration": 10,
    "start_time": "2022-09-08T06:34:18.409Z"
   },
   {
    "duration": 16,
    "start_time": "2022-09-08T06:34:18.422Z"
   },
   {
    "duration": 9,
    "start_time": "2022-09-08T06:34:18.440Z"
   },
   {
    "duration": 6,
    "start_time": "2022-09-08T06:34:18.457Z"
   },
   {
    "duration": 10,
    "start_time": "2022-09-08T06:34:18.470Z"
   },
   {
    "duration": 8,
    "start_time": "2022-09-08T06:34:18.481Z"
   },
   {
    "duration": 254,
    "start_time": "2022-09-08T06:34:18.491Z"
   },
   {
    "duration": 24,
    "start_time": "2022-09-08T06:34:18.747Z"
   },
   {
    "duration": 28,
    "start_time": "2022-09-08T06:34:18.772Z"
   },
   {
    "duration": 121,
    "start_time": "2022-09-08T06:34:18.802Z"
   },
   {
    "duration": 123,
    "start_time": "2022-09-08T06:34:18.925Z"
   },
   {
    "duration": 131,
    "start_time": "2022-09-08T06:34:19.049Z"
   },
   {
    "duration": 143,
    "start_time": "2022-09-08T06:34:19.182Z"
   },
   {
    "duration": 13,
    "start_time": "2022-09-08T06:34:19.327Z"
   },
   {
    "duration": 35,
    "start_time": "2022-09-08T06:34:19.342Z"
   },
   {
    "duration": 23,
    "start_time": "2022-09-08T06:34:19.379Z"
   },
   {
    "duration": 139,
    "start_time": "2022-09-08T06:34:19.404Z"
   },
   {
    "duration": 120,
    "start_time": "2022-09-08T06:34:19.544Z"
   },
   {
    "duration": 125,
    "start_time": "2022-09-08T06:34:19.670Z"
   },
   {
    "duration": 529,
    "start_time": "2022-09-08T06:34:19.797Z"
   },
   {
    "duration": 223,
    "start_time": "2022-09-08T06:34:20.328Z"
   },
   {
    "duration": 159,
    "start_time": "2022-09-08T06:34:20.553Z"
   },
   {
    "duration": 185,
    "start_time": "2022-09-08T06:34:20.714Z"
   },
   {
    "duration": 227,
    "start_time": "2022-09-08T06:34:20.901Z"
   },
   {
    "duration": 33,
    "start_time": "2022-09-08T06:34:21.130Z"
   },
   {
    "duration": 18,
    "start_time": "2022-09-08T06:34:21.165Z"
   },
   {
    "duration": 5213,
    "start_time": "2022-09-08T06:34:21.185Z"
   },
   {
    "duration": 223,
    "start_time": "2022-09-08T06:34:26.400Z"
   },
   {
    "duration": 15,
    "start_time": "2022-09-08T06:34:26.627Z"
   },
   {
    "duration": 29,
    "start_time": "2022-09-08T06:34:26.644Z"
   },
   {
    "duration": 15,
    "start_time": "2022-09-08T06:34:26.675Z"
   },
   {
    "duration": 12,
    "start_time": "2022-09-08T06:34:26.692Z"
   },
   {
    "duration": 13,
    "start_time": "2022-09-08T06:34:26.706Z"
   },
   {
    "duration": 55,
    "start_time": "2022-09-08T06:34:26.720Z"
   },
   {
    "duration": 13,
    "start_time": "2022-09-08T06:34:26.777Z"
   },
   {
    "duration": 14,
    "start_time": "2022-09-08T06:34:26.792Z"
   },
   {
    "duration": 14,
    "start_time": "2022-09-08T06:34:26.807Z"
   },
   {
    "duration": 50,
    "start_time": "2022-09-08T06:34:26.823Z"
   },
   {
    "duration": 7,
    "start_time": "2022-09-08T06:34:26.876Z"
   },
   {
    "duration": 3,
    "start_time": "2022-09-08T06:34:26.885Z"
   },
   {
    "duration": 9,
    "start_time": "2022-09-08T06:34:26.890Z"
   },
   {
    "duration": 10,
    "start_time": "2022-09-08T06:34:26.901Z"
   },
   {
    "duration": 15,
    "start_time": "2022-09-08T06:38:01.591Z"
   },
   {
    "duration": 5,
    "start_time": "2022-09-08T06:38:02.519Z"
   },
   {
    "duration": 69,
    "start_time": "2022-09-08T06:39:04.000Z"
   },
   {
    "duration": 35,
    "start_time": "2022-09-08T06:39:19.516Z"
   },
   {
    "duration": 6,
    "start_time": "2022-09-08T06:39:21.582Z"
   },
   {
    "duration": 1363,
    "start_time": "2022-09-08T09:27:57.611Z"
   },
   {
    "duration": 139,
    "start_time": "2022-09-08T09:27:59.569Z"
   },
   {
    "duration": 13,
    "start_time": "2022-09-08T09:28:00.135Z"
   },
   {
    "duration": 13,
    "start_time": "2022-09-08T09:28:00.582Z"
   },
   {
    "duration": 12,
    "start_time": "2022-09-08T09:28:01.438Z"
   },
   {
    "duration": 8,
    "start_time": "2022-09-08T09:28:02.463Z"
   },
   {
    "duration": 14,
    "start_time": "2022-09-08T09:28:03.457Z"
   },
   {
    "duration": 510,
    "start_time": "2022-09-08T09:28:04.257Z"
   },
   {
    "duration": 2,
    "start_time": "2022-09-08T09:28:06.314Z"
   },
   {
    "duration": 12,
    "start_time": "2022-09-08T09:28:06.525Z"
   },
   {
    "duration": 6,
    "start_time": "2022-09-08T09:28:07.003Z"
   },
   {
    "duration": 5,
    "start_time": "2022-09-08T09:28:07.308Z"
   },
   {
    "duration": 7,
    "start_time": "2022-09-08T09:28:15.023Z"
   },
   {
    "duration": 14,
    "start_time": "2022-09-08T09:28:16.086Z"
   },
   {
    "duration": 7,
    "start_time": "2022-09-08T09:28:16.849Z"
   },
   {
    "duration": 5,
    "start_time": "2022-09-08T09:28:17.651Z"
   },
   {
    "duration": 8,
    "start_time": "2022-09-08T09:28:21.091Z"
   },
   {
    "duration": 6,
    "start_time": "2022-09-08T09:28:25.350Z"
   },
   {
    "duration": 208,
    "start_time": "2022-09-08T09:28:28.064Z"
   },
   {
    "duration": 6,
    "start_time": "2022-09-08T09:28:28.402Z"
   },
   {
    "duration": 14,
    "start_time": "2022-09-08T09:28:40.300Z"
   },
   {
    "duration": 101,
    "start_time": "2022-09-08T09:28:41.487Z"
   },
   {
    "duration": 112,
    "start_time": "2022-09-08T09:28:41.844Z"
   },
   {
    "duration": 177,
    "start_time": "2022-09-08T09:28:42.212Z"
   },
   {
    "duration": 94,
    "start_time": "2022-09-08T09:28:42.602Z"
   },
   {
    "duration": 12,
    "start_time": "2022-09-08T09:28:43.386Z"
   },
   {
    "duration": 14,
    "start_time": "2022-09-08T09:28:43.744Z"
   },
   {
    "duration": 17,
    "start_time": "2022-09-08T09:28:44.322Z"
   },
   {
    "duration": 105,
    "start_time": "2022-09-08T09:28:44.514Z"
   },
   {
    "duration": 95,
    "start_time": "2022-09-08T09:28:44.696Z"
   },
   {
    "duration": 113,
    "start_time": "2022-09-08T09:28:44.843Z"
   },
   {
    "duration": 516,
    "start_time": "2022-09-08T09:28:47.108Z"
   },
   {
    "duration": 125,
    "start_time": "2022-09-08T09:28:57.847Z"
   },
   {
    "duration": 121,
    "start_time": "2022-09-08T09:28:58.322Z"
   },
   {
    "duration": 132,
    "start_time": "2022-09-08T09:28:58.947Z"
   },
   {
    "duration": 130,
    "start_time": "2022-09-08T09:28:59.182Z"
   },
   {
    "duration": 18,
    "start_time": "2022-09-08T09:28:59.861Z"
   },
   {
    "duration": 15,
    "start_time": "2022-09-08T09:29:00.079Z"
   },
   {
    "duration": 4628,
    "start_time": "2022-09-08T09:29:00.611Z"
   },
   {
    "duration": 196,
    "start_time": "2022-09-08T09:29:05.240Z"
   },
   {
    "duration": 17,
    "start_time": "2022-09-08T09:29:08.451Z"
   },
   {
    "duration": 15,
    "start_time": "2022-09-08T09:29:09.045Z"
   },
   {
    "duration": 13,
    "start_time": "2022-09-08T09:29:11.094Z"
   },
   {
    "duration": 12,
    "start_time": "2022-09-08T09:29:11.407Z"
   },
   {
    "duration": 12,
    "start_time": "2022-09-08T09:29:12.570Z"
   },
   {
    "duration": 15,
    "start_time": "2022-09-08T09:29:12.823Z"
   },
   {
    "duration": 18,
    "start_time": "2022-09-08T09:29:13.082Z"
   },
   {
    "duration": 13,
    "start_time": "2022-09-08T09:29:16.822Z"
   },
   {
    "duration": 13,
    "start_time": "2022-09-08T09:29:17.051Z"
   },
   {
    "duration": 13,
    "start_time": "2022-09-08T09:29:17.276Z"
   },
   {
    "duration": 6,
    "start_time": "2022-09-08T09:29:33.617Z"
   },
   {
    "duration": 5,
    "start_time": "2022-09-08T09:30:01.530Z"
   },
   {
    "duration": 56,
    "start_time": "2022-09-08T09:30:32.088Z"
   },
   {
    "duration": 173,
    "start_time": "2022-09-08T09:30:36.545Z"
   },
   {
    "duration": 31,
    "start_time": "2022-09-08T09:30:52.129Z"
   },
   {
    "duration": 6,
    "start_time": "2022-09-08T09:31:54.243Z"
   },
   {
    "duration": 1086,
    "start_time": "2022-09-08T09:32:21.464Z"
   },
   {
    "duration": 63,
    "start_time": "2022-09-08T09:32:22.552Z"
   },
   {
    "duration": 12,
    "start_time": "2022-09-08T09:32:22.616Z"
   },
   {
    "duration": 16,
    "start_time": "2022-09-08T09:32:22.630Z"
   },
   {
    "duration": 11,
    "start_time": "2022-09-08T09:32:22.648Z"
   },
   {
    "duration": 25,
    "start_time": "2022-09-08T09:32:22.660Z"
   },
   {
    "duration": 13,
    "start_time": "2022-09-08T09:32:22.686Z"
   },
   {
    "duration": 575,
    "start_time": "2022-09-08T09:32:22.700Z"
   },
   {
    "duration": 8,
    "start_time": "2022-09-08T09:32:23.277Z"
   },
   {
    "duration": 15,
    "start_time": "2022-09-08T09:32:23.286Z"
   },
   {
    "duration": 7,
    "start_time": "2022-09-08T09:32:23.303Z"
   },
   {
    "duration": 9,
    "start_time": "2022-09-08T09:32:23.311Z"
   },
   {
    "duration": 13,
    "start_time": "2022-09-08T09:32:23.322Z"
   },
   {
    "duration": 8,
    "start_time": "2022-09-08T09:32:23.338Z"
   },
   {
    "duration": 4,
    "start_time": "2022-09-08T09:32:23.348Z"
   },
   {
    "duration": 12,
    "start_time": "2022-09-08T09:32:23.353Z"
   },
   {
    "duration": 20,
    "start_time": "2022-09-08T09:32:23.366Z"
   },
   {
    "duration": 221,
    "start_time": "2022-09-08T09:32:23.387Z"
   },
   {
    "duration": 6,
    "start_time": "2022-09-08T09:32:23.609Z"
   },
   {
    "duration": 16,
    "start_time": "2022-09-08T09:32:23.616Z"
   },
   {
    "duration": 105,
    "start_time": "2022-09-08T09:32:23.633Z"
   },
   {
    "duration": 112,
    "start_time": "2022-09-08T09:32:23.740Z"
   },
   {
    "duration": 187,
    "start_time": "2022-09-08T09:32:23.854Z"
   },
   {
    "duration": 111,
    "start_time": "2022-09-08T09:32:24.042Z"
   },
   {
    "duration": 12,
    "start_time": "2022-09-08T09:32:24.155Z"
   },
   {
    "duration": 26,
    "start_time": "2022-09-08T09:32:24.168Z"
   },
   {
    "duration": 15,
    "start_time": "2022-09-08T09:32:24.195Z"
   },
   {
    "duration": 111,
    "start_time": "2022-09-08T09:32:24.211Z"
   },
   {
    "duration": 105,
    "start_time": "2022-09-08T09:32:24.324Z"
   },
   {
    "duration": 113,
    "start_time": "2022-09-08T09:32:24.430Z"
   },
   {
    "duration": 432,
    "start_time": "2022-09-08T09:32:24.544Z"
   },
   {
    "duration": 200,
    "start_time": "2022-09-08T09:32:24.978Z"
   },
   {
    "duration": 162,
    "start_time": "2022-09-08T09:32:25.179Z"
   },
   {
    "duration": 164,
    "start_time": "2022-09-08T09:32:25.342Z"
   },
   {
    "duration": 128,
    "start_time": "2022-09-08T09:32:25.508Z"
   },
   {
    "duration": 17,
    "start_time": "2022-09-08T09:32:25.638Z"
   },
   {
    "duration": 30,
    "start_time": "2022-09-08T09:32:25.656Z"
   },
   {
    "duration": 4386,
    "start_time": "2022-09-08T09:32:25.688Z"
   },
   {
    "duration": 200,
    "start_time": "2022-09-08T09:32:30.076Z"
   },
   {
    "duration": 16,
    "start_time": "2022-09-08T09:32:30.278Z"
   },
   {
    "duration": 30,
    "start_time": "2022-09-08T09:32:30.297Z"
   },
   {
    "duration": 12,
    "start_time": "2022-09-08T09:32:30.328Z"
   },
   {
    "duration": 11,
    "start_time": "2022-09-08T09:32:30.342Z"
   },
   {
    "duration": 11,
    "start_time": "2022-09-08T09:32:30.355Z"
   },
   {
    "duration": 23,
    "start_time": "2022-09-08T09:32:30.368Z"
   },
   {
    "duration": 13,
    "start_time": "2022-09-08T09:32:30.392Z"
   },
   {
    "duration": 21,
    "start_time": "2022-09-08T09:32:30.407Z"
   },
   {
    "duration": 16,
    "start_time": "2022-09-08T09:32:30.430Z"
   },
   {
    "duration": 16,
    "start_time": "2022-09-08T09:32:30.447Z"
   },
   {
    "duration": 5,
    "start_time": "2022-09-08T09:32:30.465Z"
   },
   {
    "duration": 164,
    "start_time": "2022-09-08T09:32:30.471Z"
   },
   {
    "duration": 0,
    "start_time": "2022-09-08T09:32:30.637Z"
   },
   {
    "duration": 0,
    "start_time": "2022-09-08T09:32:30.638Z"
   },
   {
    "duration": 0,
    "start_time": "2022-09-08T09:32:30.639Z"
   },
   {
    "duration": 18,
    "start_time": "2022-09-08T09:33:38.217Z"
   },
   {
    "duration": 13,
    "start_time": "2022-09-08T09:33:52.644Z"
   },
   {
    "duration": 14,
    "start_time": "2022-09-08T09:34:24.695Z"
   },
   {
    "duration": 5,
    "start_time": "2022-09-08T09:37:02.655Z"
   },
   {
    "duration": 10,
    "start_time": "2022-09-08T09:37:12.603Z"
   },
   {
    "duration": 4,
    "start_time": "2022-09-08T09:37:28.547Z"
   },
   {
    "duration": 1108,
    "start_time": "2022-09-08T09:38:20.534Z"
   },
   {
    "duration": 66,
    "start_time": "2022-09-08T09:38:21.644Z"
   },
   {
    "duration": 11,
    "start_time": "2022-09-08T09:38:21.712Z"
   },
   {
    "duration": 14,
    "start_time": "2022-09-08T09:38:21.725Z"
   },
   {
    "duration": 11,
    "start_time": "2022-09-08T09:38:21.741Z"
   },
   {
    "duration": 7,
    "start_time": "2022-09-08T09:38:21.753Z"
   },
   {
    "duration": 35,
    "start_time": "2022-09-08T09:38:21.761Z"
   },
   {
    "duration": 511,
    "start_time": "2022-09-08T09:38:21.797Z"
   },
   {
    "duration": 3,
    "start_time": "2022-09-08T09:38:22.309Z"
   },
   {
    "duration": 15,
    "start_time": "2022-09-08T09:38:22.313Z"
   },
   {
    "duration": 12,
    "start_time": "2022-09-08T09:38:22.329Z"
   },
   {
    "duration": 8,
    "start_time": "2022-09-08T09:38:22.342Z"
   },
   {
    "duration": 14,
    "start_time": "2022-09-08T09:38:22.351Z"
   },
   {
    "duration": 6,
    "start_time": "2022-09-08T09:38:22.384Z"
   },
   {
    "duration": 9,
    "start_time": "2022-09-08T09:38:22.391Z"
   },
   {
    "duration": 10,
    "start_time": "2022-09-08T09:38:22.401Z"
   },
   {
    "duration": 6,
    "start_time": "2022-09-08T09:38:22.412Z"
   },
   {
    "duration": 208,
    "start_time": "2022-09-08T09:38:22.419Z"
   },
   {
    "duration": 5,
    "start_time": "2022-09-08T09:38:22.629Z"
   },
   {
    "duration": 15,
    "start_time": "2022-09-08T09:38:22.635Z"
   },
   {
    "duration": 116,
    "start_time": "2022-09-08T09:38:22.651Z"
   },
   {
    "duration": 132,
    "start_time": "2022-09-08T09:38:22.769Z"
   },
   {
    "duration": 184,
    "start_time": "2022-09-08T09:38:22.903Z"
   },
   {
    "duration": 105,
    "start_time": "2022-09-08T09:38:23.088Z"
   },
   {
    "duration": 11,
    "start_time": "2022-09-08T09:38:23.194Z"
   },
   {
    "duration": 11,
    "start_time": "2022-09-08T09:38:23.207Z"
   },
   {
    "duration": 13,
    "start_time": "2022-09-08T09:38:23.220Z"
   },
   {
    "duration": 125,
    "start_time": "2022-09-08T09:38:23.234Z"
   },
   {
    "duration": 109,
    "start_time": "2022-09-08T09:38:23.360Z"
   },
   {
    "duration": 122,
    "start_time": "2022-09-08T09:38:23.470Z"
   },
   {
    "duration": 497,
    "start_time": "2022-09-08T09:38:23.593Z"
   },
   {
    "duration": 209,
    "start_time": "2022-09-08T09:38:24.091Z"
   },
   {
    "duration": 142,
    "start_time": "2022-09-08T09:38:24.302Z"
   },
   {
    "duration": 144,
    "start_time": "2022-09-08T09:38:24.445Z"
   },
   {
    "duration": 118,
    "start_time": "2022-09-08T09:38:24.590Z"
   },
   {
    "duration": 16,
    "start_time": "2022-09-08T09:38:24.709Z"
   },
   {
    "duration": 13,
    "start_time": "2022-09-08T09:38:24.727Z"
   },
   {
    "duration": 4327,
    "start_time": "2022-09-08T09:38:24.741Z"
   },
   {
    "duration": 190,
    "start_time": "2022-09-08T09:38:29.069Z"
   },
   {
    "duration": 13,
    "start_time": "2022-09-08T09:38:29.261Z"
   },
   {
    "duration": 13,
    "start_time": "2022-09-08T09:38:29.287Z"
   },
   {
    "duration": 13,
    "start_time": "2022-09-08T09:38:29.301Z"
   },
   {
    "duration": 24,
    "start_time": "2022-09-08T09:38:29.315Z"
   },
   {
    "duration": 12,
    "start_time": "2022-09-08T09:38:29.340Z"
   },
   {
    "duration": 31,
    "start_time": "2022-09-08T09:38:29.354Z"
   },
   {
    "duration": 34,
    "start_time": "2022-09-08T09:38:29.387Z"
   },
   {
    "duration": 19,
    "start_time": "2022-09-08T09:38:29.422Z"
   },
   {
    "duration": 15,
    "start_time": "2022-09-08T09:38:29.442Z"
   },
   {
    "duration": 31,
    "start_time": "2022-09-08T09:38:29.458Z"
   },
   {
    "duration": 30,
    "start_time": "2022-09-08T09:38:29.491Z"
   },
   {
    "duration": 19,
    "start_time": "2022-09-08T09:38:29.523Z"
   },
   {
    "duration": 21,
    "start_time": "2022-09-08T09:38:29.543Z"
   },
   {
    "duration": 11,
    "start_time": "2022-09-08T09:38:29.565Z"
   },
   {
    "duration": 5,
    "start_time": "2022-09-08T09:41:32.900Z"
   },
   {
    "duration": 215,
    "start_time": "2022-09-08T09:42:38.714Z"
   },
   {
    "duration": 14,
    "start_time": "2022-09-08T09:43:17.867Z"
   },
   {
    "duration": 20,
    "start_time": "2022-09-08T09:43:31.118Z"
   },
   {
    "duration": 8,
    "start_time": "2022-09-08T09:44:15.828Z"
   },
   {
    "duration": 137,
    "start_time": "2022-09-08T09:44:43.445Z"
   },
   {
    "duration": 91,
    "start_time": "2022-09-08T09:44:58.718Z"
   },
   {
    "duration": 27,
    "start_time": "2022-09-08T09:45:43.714Z"
   },
   {
    "duration": 7,
    "start_time": "2022-09-08T09:46:16.923Z"
   },
   {
    "duration": 3,
    "start_time": "2022-09-08T09:46:19.527Z"
   },
   {
    "duration": 6,
    "start_time": "2022-09-08T09:47:38.519Z"
   },
   {
    "duration": 15,
    "start_time": "2022-09-08T09:47:52.623Z"
   },
   {
    "duration": 3,
    "start_time": "2022-09-08T09:47:56.233Z"
   },
   {
    "duration": 18,
    "start_time": "2022-09-08T09:50:43.946Z"
   },
   {
    "duration": 7,
    "start_time": "2022-09-08T09:50:47.089Z"
   },
   {
    "duration": 4,
    "start_time": "2022-09-08T09:50:50.828Z"
   },
   {
    "duration": 8,
    "start_time": "2022-09-08T09:50:51.244Z"
   },
   {
    "duration": 1065,
    "start_time": "2022-09-08T09:51:11.589Z"
   },
   {
    "duration": 69,
    "start_time": "2022-09-08T09:51:12.656Z"
   },
   {
    "duration": 12,
    "start_time": "2022-09-08T09:51:12.727Z"
   },
   {
    "duration": 13,
    "start_time": "2022-09-08T09:51:12.741Z"
   },
   {
    "duration": 17,
    "start_time": "2022-09-08T09:51:12.755Z"
   },
   {
    "duration": 8,
    "start_time": "2022-09-08T09:51:12.784Z"
   },
   {
    "duration": 16,
    "start_time": "2022-09-08T09:51:12.794Z"
   },
   {
    "duration": 523,
    "start_time": "2022-09-08T09:51:14.221Z"
   },
   {
    "duration": 4,
    "start_time": "2022-09-08T09:51:14.931Z"
   },
   {
    "duration": 11,
    "start_time": "2022-09-08T09:51:15.132Z"
   },
   {
    "duration": 7,
    "start_time": "2022-09-08T09:51:15.596Z"
   },
   {
    "duration": 8,
    "start_time": "2022-09-08T09:51:19.859Z"
   },
   {
    "duration": 16,
    "start_time": "2022-09-08T09:51:21.387Z"
   },
   {
    "duration": 8,
    "start_time": "2022-09-08T09:51:22.794Z"
   },
   {
    "duration": 5,
    "start_time": "2022-09-08T09:51:23.485Z"
   },
   {
    "duration": 8,
    "start_time": "2022-09-08T09:51:25.054Z"
   },
   {
    "duration": 10,
    "start_time": "2022-09-08T09:52:12.923Z"
   },
   {
    "duration": 8,
    "start_time": "2022-09-08T09:52:15.316Z"
   },
   {
    "duration": 7,
    "start_time": "2022-09-08T09:52:20.381Z"
   },
   {
    "duration": 6,
    "start_time": "2022-09-08T09:52:35.436Z"
   },
   {
    "duration": 93,
    "start_time": "2022-09-08T09:52:37.081Z"
   },
   {
    "duration": 2,
    "start_time": "2022-09-08T09:54:03.036Z"
   },
   {
    "duration": 7,
    "start_time": "2022-09-08T09:54:06.740Z"
   },
   {
    "duration": 4,
    "start_time": "2022-09-08T09:54:10.249Z"
   },
   {
    "duration": 8,
    "start_time": "2022-09-08T09:54:24.254Z"
   },
   {
    "duration": 4,
    "start_time": "2022-09-08T09:54:24.817Z"
   },
   {
    "duration": 4,
    "start_time": "2022-09-08T09:54:55.590Z"
   },
   {
    "duration": 73,
    "start_time": "2022-09-08T09:54:55.596Z"
   },
   {
    "duration": 13,
    "start_time": "2022-09-08T09:54:55.671Z"
   },
   {
    "duration": 22,
    "start_time": "2022-09-08T09:54:55.686Z"
   },
   {
    "duration": 14,
    "start_time": "2022-09-08T09:54:55.709Z"
   },
   {
    "duration": 10,
    "start_time": "2022-09-08T09:54:55.724Z"
   },
   {
    "duration": 14,
    "start_time": "2022-09-08T09:54:55.736Z"
   },
   {
    "duration": 542,
    "start_time": "2022-09-08T09:54:55.752Z"
   },
   {
    "duration": 5,
    "start_time": "2022-09-08T09:54:56.296Z"
   },
   {
    "duration": 15,
    "start_time": "2022-09-08T09:54:56.304Z"
   },
   {
    "duration": 8,
    "start_time": "2022-09-08T09:54:56.321Z"
   },
   {
    "duration": 10,
    "start_time": "2022-09-08T09:54:56.330Z"
   },
   {
    "duration": 10,
    "start_time": "2022-09-08T09:54:56.341Z"
   },
   {
    "duration": 6,
    "start_time": "2022-09-08T09:54:56.352Z"
   },
   {
    "duration": 7,
    "start_time": "2022-09-08T09:54:56.359Z"
   },
   {
    "duration": 36,
    "start_time": "2022-09-08T09:54:56.367Z"
   },
   {
    "duration": 5,
    "start_time": "2022-09-08T09:54:56.404Z"
   },
   {
    "duration": 295,
    "start_time": "2022-09-08T09:54:56.410Z"
   },
   {
    "duration": 6,
    "start_time": "2022-09-08T09:54:56.706Z"
   },
   {
    "duration": 16,
    "start_time": "2022-09-08T09:54:56.713Z"
   },
   {
    "duration": 116,
    "start_time": "2022-09-08T09:54:56.730Z"
   },
   {
    "duration": 119,
    "start_time": "2022-09-08T09:54:56.848Z"
   },
   {
    "duration": 122,
    "start_time": "2022-09-08T09:54:56.969Z"
   },
   {
    "duration": 107,
    "start_time": "2022-09-08T09:54:57.093Z"
   },
   {
    "duration": 12,
    "start_time": "2022-09-08T09:54:57.202Z"
   },
   {
    "duration": 12,
    "start_time": "2022-09-08T09:54:57.215Z"
   },
   {
    "duration": 14,
    "start_time": "2022-09-08T09:54:57.229Z"
   },
   {
    "duration": 121,
    "start_time": "2022-09-08T09:54:57.246Z"
   },
   {
    "duration": 100,
    "start_time": "2022-09-08T09:54:57.369Z"
   },
   {
    "duration": 105,
    "start_time": "2022-09-08T09:54:57.471Z"
   },
   {
    "duration": 437,
    "start_time": "2022-09-08T09:54:57.577Z"
   },
   {
    "duration": 186,
    "start_time": "2022-09-08T09:54:58.016Z"
   },
   {
    "duration": 119,
    "start_time": "2022-09-08T09:54:58.204Z"
   },
   {
    "duration": 133,
    "start_time": "2022-09-08T09:54:58.324Z"
   },
   {
    "duration": 130,
    "start_time": "2022-09-08T09:54:58.458Z"
   },
   {
    "duration": 22,
    "start_time": "2022-09-08T09:54:58.589Z"
   },
   {
    "duration": 13,
    "start_time": "2022-09-08T09:54:58.612Z"
   },
   {
    "duration": 4689,
    "start_time": "2022-09-08T09:54:58.626Z"
   },
   {
    "duration": 199,
    "start_time": "2022-09-08T09:55:03.316Z"
   },
   {
    "duration": 15,
    "start_time": "2022-09-08T09:55:03.516Z"
   },
   {
    "duration": 17,
    "start_time": "2022-09-08T09:55:03.532Z"
   },
   {
    "duration": 14,
    "start_time": "2022-09-08T09:55:03.551Z"
   },
   {
    "duration": 40,
    "start_time": "2022-09-08T09:55:03.567Z"
   },
   {
    "duration": 13,
    "start_time": "2022-09-08T09:55:03.609Z"
   },
   {
    "duration": 12,
    "start_time": "2022-09-08T09:55:03.624Z"
   },
   {
    "duration": 12,
    "start_time": "2022-09-08T09:55:03.637Z"
   },
   {
    "duration": 13,
    "start_time": "2022-09-08T09:55:03.650Z"
   },
   {
    "duration": 39,
    "start_time": "2022-09-08T09:55:03.665Z"
   },
   {
    "duration": 15,
    "start_time": "2022-09-08T09:55:03.705Z"
   },
   {
    "duration": 4,
    "start_time": "2022-09-08T09:55:03.721Z"
   },
   {
    "duration": 10,
    "start_time": "2022-09-08T09:55:03.726Z"
   },
   {
    "duration": 10,
    "start_time": "2022-09-08T09:55:03.737Z"
   },
   {
    "duration": 17,
    "start_time": "2022-09-08T09:55:03.748Z"
   },
   {
    "duration": 4,
    "start_time": "2022-09-08T09:55:03.766Z"
   },
   {
    "duration": 7,
    "start_time": "2022-09-08T09:55:21.395Z"
   },
   {
    "duration": 4,
    "start_time": "2022-09-08T09:55:23.931Z"
   },
   {
    "duration": 1156,
    "start_time": "2022-09-08T09:55:33.908Z"
   },
   {
    "duration": 102,
    "start_time": "2022-09-08T09:55:35.067Z"
   },
   {
    "duration": 15,
    "start_time": "2022-09-08T09:55:35.171Z"
   },
   {
    "duration": 23,
    "start_time": "2022-09-08T09:55:35.188Z"
   },
   {
    "duration": 12,
    "start_time": "2022-09-08T09:55:35.213Z"
   },
   {
    "duration": 7,
    "start_time": "2022-09-08T09:55:35.227Z"
   },
   {
    "duration": 18,
    "start_time": "2022-09-08T09:55:35.235Z"
   },
   {
    "duration": 525,
    "start_time": "2022-09-08T09:55:35.254Z"
   },
   {
    "duration": 3,
    "start_time": "2022-09-08T09:55:35.780Z"
   },
   {
    "duration": 22,
    "start_time": "2022-09-08T09:55:35.784Z"
   },
   {
    "duration": 9,
    "start_time": "2022-09-08T09:55:35.807Z"
   },
   {
    "duration": 17,
    "start_time": "2022-09-08T09:55:35.817Z"
   },
   {
    "duration": 13,
    "start_time": "2022-09-08T09:55:35.836Z"
   },
   {
    "duration": 15,
    "start_time": "2022-09-08T09:55:35.852Z"
   },
   {
    "duration": 6,
    "start_time": "2022-09-08T09:55:35.868Z"
   },
   {
    "duration": 9,
    "start_time": "2022-09-08T09:55:35.875Z"
   },
   {
    "duration": 5,
    "start_time": "2022-09-08T09:55:35.885Z"
   },
   {
    "duration": 211,
    "start_time": "2022-09-08T09:55:35.892Z"
   },
   {
    "duration": 6,
    "start_time": "2022-09-08T09:55:36.105Z"
   },
   {
    "duration": 17,
    "start_time": "2022-09-08T09:55:36.112Z"
   },
   {
    "duration": 111,
    "start_time": "2022-09-08T09:55:36.130Z"
   },
   {
    "duration": 132,
    "start_time": "2022-09-08T09:55:36.243Z"
   },
   {
    "duration": 211,
    "start_time": "2022-09-08T09:55:36.377Z"
   },
   {
    "duration": 123,
    "start_time": "2022-09-08T09:55:36.590Z"
   },
   {
    "duration": 12,
    "start_time": "2022-09-08T09:55:36.715Z"
   },
   {
    "duration": 21,
    "start_time": "2022-09-08T09:55:36.729Z"
   },
   {
    "duration": 15,
    "start_time": "2022-09-08T09:55:36.752Z"
   },
   {
    "duration": 134,
    "start_time": "2022-09-08T09:55:36.768Z"
   },
   {
    "duration": 110,
    "start_time": "2022-09-08T09:55:36.903Z"
   },
   {
    "duration": 118,
    "start_time": "2022-09-08T09:55:37.015Z"
   },
   {
    "duration": 460,
    "start_time": "2022-09-08T09:55:37.135Z"
   },
   {
    "duration": 181,
    "start_time": "2022-09-08T09:55:37.597Z"
   },
   {
    "duration": 141,
    "start_time": "2022-09-08T09:55:37.779Z"
   },
   {
    "duration": 147,
    "start_time": "2022-09-08T09:55:37.922Z"
   },
   {
    "duration": 130,
    "start_time": "2022-09-08T09:55:38.070Z"
   },
   {
    "duration": 15,
    "start_time": "2022-09-08T09:55:38.202Z"
   },
   {
    "duration": 34,
    "start_time": "2022-09-08T09:55:38.218Z"
   },
   {
    "duration": 4676,
    "start_time": "2022-09-08T09:55:38.254Z"
   },
   {
    "duration": 191,
    "start_time": "2022-09-08T09:55:42.932Z"
   },
   {
    "duration": 15,
    "start_time": "2022-09-08T09:55:43.124Z"
   },
   {
    "duration": 15,
    "start_time": "2022-09-08T09:55:43.142Z"
   },
   {
    "duration": 13,
    "start_time": "2022-09-08T09:55:43.158Z"
   },
   {
    "duration": 37,
    "start_time": "2022-09-08T09:55:43.172Z"
   },
   {
    "duration": 12,
    "start_time": "2022-09-08T09:55:43.210Z"
   },
   {
    "duration": 12,
    "start_time": "2022-09-08T09:55:43.223Z"
   },
   {
    "duration": 11,
    "start_time": "2022-09-08T09:55:43.236Z"
   },
   {
    "duration": 13,
    "start_time": "2022-09-08T09:55:43.248Z"
   },
   {
    "duration": 40,
    "start_time": "2022-09-08T09:55:43.262Z"
   },
   {
    "duration": 16,
    "start_time": "2022-09-08T09:55:43.304Z"
   },
   {
    "duration": 2,
    "start_time": "2022-09-08T09:55:43.322Z"
   },
   {
    "duration": 8,
    "start_time": "2022-09-08T09:55:43.326Z"
   },
   {
    "duration": 13,
    "start_time": "2022-09-08T09:55:43.336Z"
   },
   {
    "duration": 11,
    "start_time": "2022-09-08T09:55:43.351Z"
   },
   {
    "duration": 9,
    "start_time": "2022-09-08T09:55:43.364Z"
   },
   {
    "duration": 9,
    "start_time": "2022-09-08T09:58:20.127Z"
   },
   {
    "duration": 4,
    "start_time": "2022-09-08T09:58:21.652Z"
   },
   {
    "duration": 7,
    "start_time": "2022-09-08T09:58:26.056Z"
   },
   {
    "duration": 3,
    "start_time": "2022-09-08T09:58:27.972Z"
   },
   {
    "duration": 9,
    "start_time": "2022-09-08T09:58:32.271Z"
   },
   {
    "duration": 4,
    "start_time": "2022-09-08T09:58:33.742Z"
   },
   {
    "duration": 3,
    "start_time": "2022-09-08T09:58:59.613Z"
   },
   {
    "duration": 79,
    "start_time": "2022-09-08T09:58:59.618Z"
   },
   {
    "duration": 12,
    "start_time": "2022-09-08T09:58:59.699Z"
   },
   {
    "duration": 27,
    "start_time": "2022-09-08T09:58:59.712Z"
   },
   {
    "duration": 33,
    "start_time": "2022-09-08T09:58:59.740Z"
   },
   {
    "duration": 15,
    "start_time": "2022-09-08T09:58:59.775Z"
   },
   {
    "duration": 30,
    "start_time": "2022-09-08T09:58:59.792Z"
   },
   {
    "duration": 507,
    "start_time": "2022-09-08T09:58:59.823Z"
   },
   {
    "duration": 3,
    "start_time": "2022-09-08T09:59:00.332Z"
   },
   {
    "duration": 36,
    "start_time": "2022-09-08T09:59:00.336Z"
   },
   {
    "duration": 30,
    "start_time": "2022-09-08T09:59:00.374Z"
   },
   {
    "duration": 21,
    "start_time": "2022-09-08T09:59:00.405Z"
   },
   {
    "duration": 21,
    "start_time": "2022-09-08T09:59:00.428Z"
   },
   {
    "duration": 16,
    "start_time": "2022-09-08T09:59:00.451Z"
   },
   {
    "duration": 22,
    "start_time": "2022-09-08T09:59:00.468Z"
   },
   {
    "duration": 24,
    "start_time": "2022-09-08T09:59:00.492Z"
   },
   {
    "duration": 18,
    "start_time": "2022-09-08T09:59:00.518Z"
   },
   {
    "duration": 236,
    "start_time": "2022-09-08T09:59:00.537Z"
   },
   {
    "duration": 6,
    "start_time": "2022-09-08T09:59:00.774Z"
   },
   {
    "duration": 32,
    "start_time": "2022-09-08T09:59:00.782Z"
   },
   {
    "duration": 305,
    "start_time": "2022-09-08T09:59:00.816Z"
   },
   {
    "duration": 123,
    "start_time": "2022-09-08T09:59:01.123Z"
   },
   {
    "duration": 119,
    "start_time": "2022-09-08T09:59:01.247Z"
   },
   {
    "duration": 107,
    "start_time": "2022-09-08T09:59:01.367Z"
   },
   {
    "duration": 13,
    "start_time": "2022-09-08T09:59:01.475Z"
   },
   {
    "duration": 23,
    "start_time": "2022-09-08T09:59:01.489Z"
   },
   {
    "duration": 16,
    "start_time": "2022-09-08T09:59:01.514Z"
   },
   {
    "duration": 134,
    "start_time": "2022-09-08T09:59:01.531Z"
   },
   {
    "duration": 106,
    "start_time": "2022-09-08T09:59:01.667Z"
   },
   {
    "duration": 127,
    "start_time": "2022-09-08T09:59:01.775Z"
   },
   {
    "duration": 104,
    "start_time": "2022-09-08T09:59:01.903Z"
   },
   {
    "duration": 143,
    "start_time": "2022-09-08T09:59:02.009Z"
   },
   {
    "duration": 148,
    "start_time": "2022-09-08T09:59:02.154Z"
   },
   {
    "duration": 147,
    "start_time": "2022-09-08T09:59:02.304Z"
   },
   {
    "duration": 141,
    "start_time": "2022-09-08T09:59:02.452Z"
   },
   {
    "duration": 18,
    "start_time": "2022-09-08T09:59:02.599Z"
   },
   {
    "duration": 36,
    "start_time": "2022-09-08T09:59:02.618Z"
   },
   {
    "duration": 4708,
    "start_time": "2022-09-08T09:59:02.655Z"
   },
   {
    "duration": 182,
    "start_time": "2022-09-08T09:59:07.364Z"
   },
   {
    "duration": 12,
    "start_time": "2022-09-08T09:59:07.547Z"
   },
   {
    "duration": 12,
    "start_time": "2022-09-08T09:59:07.563Z"
   },
   {
    "duration": 30,
    "start_time": "2022-09-08T09:59:07.576Z"
   },
   {
    "duration": 11,
    "start_time": "2022-09-08T09:59:07.607Z"
   },
   {
    "duration": 10,
    "start_time": "2022-09-08T09:59:07.620Z"
   },
   {
    "duration": 11,
    "start_time": "2022-09-08T09:59:07.631Z"
   },
   {
    "duration": 10,
    "start_time": "2022-09-08T09:59:07.644Z"
   },
   {
    "duration": 11,
    "start_time": "2022-09-08T09:59:07.655Z"
   },
   {
    "duration": 43,
    "start_time": "2022-09-08T09:59:07.667Z"
   },
   {
    "duration": 13,
    "start_time": "2022-09-08T09:59:07.711Z"
   },
   {
    "duration": 7,
    "start_time": "2022-09-08T09:59:07.725Z"
   },
   {
    "duration": 5,
    "start_time": "2022-09-08T09:59:07.733Z"
   },
   {
    "duration": 9,
    "start_time": "2022-09-08T09:59:07.739Z"
   },
   {
    "duration": 6,
    "start_time": "2022-09-08T09:59:07.749Z"
   },
   {
    "duration": 5,
    "start_time": "2022-09-08T10:00:11.268Z"
   },
   {
    "duration": 7,
    "start_time": "2022-09-08T10:00:23.700Z"
   },
   {
    "duration": 134,
    "start_time": "2022-09-08T10:00:39.858Z"
   },
   {
    "duration": 11,
    "start_time": "2022-09-08T10:00:43.480Z"
   },
   {
    "duration": 6,
    "start_time": "2022-09-08T10:00:49.937Z"
   },
   {
    "duration": 5,
    "start_time": "2022-09-08T10:01:11.012Z"
   },
   {
    "duration": 7,
    "start_time": "2022-09-08T10:01:20.168Z"
   },
   {
    "duration": 8,
    "start_time": "2022-09-08T10:01:27.716Z"
   },
   {
    "duration": 3,
    "start_time": "2022-09-08T10:01:28.735Z"
   },
   {
    "duration": 3,
    "start_time": "2022-09-08T10:55:50.844Z"
   },
   {
    "duration": 3,
    "start_time": "2022-09-08T11:28:09.221Z"
   },
   {
    "duration": 1186,
    "start_time": "2022-09-08T11:28:20.502Z"
   },
   {
    "duration": 66,
    "start_time": "2022-09-08T11:28:22.551Z"
   },
   {
    "duration": 12,
    "start_time": "2022-09-08T11:28:22.811Z"
   },
   {
    "duration": 14,
    "start_time": "2022-09-08T11:28:23.033Z"
   },
   {
    "duration": 13,
    "start_time": "2022-09-08T11:28:23.223Z"
   },
   {
    "duration": 8,
    "start_time": "2022-09-08T11:28:23.402Z"
   },
   {
    "duration": 15,
    "start_time": "2022-09-08T11:28:23.599Z"
   },
   {
    "duration": 546,
    "start_time": "2022-09-08T11:28:23.763Z"
   },
   {
    "duration": 3,
    "start_time": "2022-09-08T11:28:24.583Z"
   },
   {
    "duration": 11,
    "start_time": "2022-09-08T11:28:24.755Z"
   },
   {
    "duration": 6,
    "start_time": "2022-09-08T11:28:26.705Z"
   },
   {
    "duration": 9,
    "start_time": "2022-09-08T11:28:37.913Z"
   },
   {
    "duration": 7,
    "start_time": "2022-09-08T11:28:47.448Z"
   },
   {
    "duration": 7,
    "start_time": "2022-09-08T11:28:48.517Z"
   },
   {
    "duration": 4,
    "start_time": "2022-09-08T11:28:49.329Z"
   },
   {
    "duration": 7,
    "start_time": "2022-09-08T11:28:50.444Z"
   },
   {
    "duration": 5,
    "start_time": "2022-09-08T11:29:15.981Z"
   },
   {
    "duration": 213,
    "start_time": "2022-09-08T11:29:16.555Z"
   },
   {
    "duration": 5,
    "start_time": "2022-09-08T11:29:16.770Z"
   },
   {
    "duration": 14,
    "start_time": "2022-09-08T11:29:17.311Z"
   },
   {
    "duration": 101,
    "start_time": "2022-09-08T11:29:17.889Z"
   },
   {
    "duration": 108,
    "start_time": "2022-09-08T11:29:18.264Z"
   },
   {
    "duration": 171,
    "start_time": "2022-09-08T11:29:18.673Z"
   },
   {
    "duration": 101,
    "start_time": "2022-09-08T11:29:19.006Z"
   },
   {
    "duration": 12,
    "start_time": "2022-09-08T11:29:19.802Z"
   },
   {
    "duration": 13,
    "start_time": "2022-09-08T11:29:20.185Z"
   },
   {
    "duration": 15,
    "start_time": "2022-09-08T11:29:20.790Z"
   },
   {
    "duration": 106,
    "start_time": "2022-09-08T11:29:20.983Z"
   },
   {
    "duration": 97,
    "start_time": "2022-09-08T11:29:21.175Z"
   },
   {
    "duration": 111,
    "start_time": "2022-09-08T11:29:21.389Z"
   },
   {
    "duration": 440,
    "start_time": "2022-09-08T11:29:21.999Z"
   },
   {
    "duration": 138,
    "start_time": "2022-09-08T11:29:22.625Z"
   },
   {
    "duration": 126,
    "start_time": "2022-09-08T11:29:22.838Z"
   },
   {
    "duration": 132,
    "start_time": "2022-09-08T11:29:23.236Z"
   },
   {
    "duration": 125,
    "start_time": "2022-09-08T11:29:23.425Z"
   },
   {
    "duration": 22,
    "start_time": "2022-09-08T11:29:24.040Z"
   },
   {
    "duration": 15,
    "start_time": "2022-09-08T11:29:24.661Z"
   },
   {
    "duration": 4772,
    "start_time": "2022-09-08T11:29:24.838Z"
   },
   {
    "duration": 188,
    "start_time": "2022-09-08T11:29:29.613Z"
   },
   {
    "duration": 13,
    "start_time": "2022-09-08T11:29:29.803Z"
   },
   {
    "duration": 15,
    "start_time": "2022-09-08T11:29:35.434Z"
   },
   {
    "duration": 14,
    "start_time": "2022-09-08T11:29:35.605Z"
   },
   {
    "duration": 13,
    "start_time": "2022-09-08T11:29:35.785Z"
   },
   {
    "duration": 13,
    "start_time": "2022-09-08T11:29:36.467Z"
   },
   {
    "duration": 14,
    "start_time": "2022-09-08T11:29:36.602Z"
   },
   {
    "duration": 13,
    "start_time": "2022-09-08T11:29:36.798Z"
   },
   {
    "duration": 16,
    "start_time": "2022-09-08T11:29:37.572Z"
   },
   {
    "duration": 14,
    "start_time": "2022-09-08T11:29:37.779Z"
   },
   {
    "duration": 16,
    "start_time": "2022-09-08T11:29:37.992Z"
   },
   {
    "duration": 4,
    "start_time": "2022-09-08T11:30:09.003Z"
   },
   {
    "duration": 8,
    "start_time": "2022-09-08T11:31:22.907Z"
   },
   {
    "duration": 8,
    "start_time": "2022-09-08T11:31:28.151Z"
   },
   {
    "duration": 3,
    "start_time": "2022-09-08T11:31:28.813Z"
   },
   {
    "duration": 80,
    "start_time": "2022-09-08T11:31:31.224Z"
   },
   {
    "duration": 8,
    "start_time": "2022-09-08T11:31:36.177Z"
   },
   {
    "duration": 4,
    "start_time": "2022-09-08T11:31:36.582Z"
   },
   {
    "duration": 3,
    "start_time": "2022-09-08T11:32:06.586Z"
   },
   {
    "duration": 8,
    "start_time": "2022-09-08T11:34:09.014Z"
   },
   {
    "duration": 4,
    "start_time": "2022-09-08T11:34:10.577Z"
   },
   {
    "duration": 8,
    "start_time": "2022-09-08T11:34:14.278Z"
   },
   {
    "duration": 3,
    "start_time": "2022-09-08T11:34:14.629Z"
   },
   {
    "duration": 2106,
    "start_time": "2022-09-08T11:34:50.285Z"
   },
   {
    "duration": 66,
    "start_time": "2022-09-08T11:34:52.393Z"
   },
   {
    "duration": 12,
    "start_time": "2022-09-08T11:34:52.460Z"
   },
   {
    "duration": 22,
    "start_time": "2022-09-08T11:34:52.473Z"
   },
   {
    "duration": 29,
    "start_time": "2022-09-08T11:34:52.496Z"
   },
   {
    "duration": 18,
    "start_time": "2022-09-08T11:34:52.527Z"
   },
   {
    "duration": 14,
    "start_time": "2022-09-08T11:34:52.547Z"
   },
   {
    "duration": 538,
    "start_time": "2022-09-08T11:34:52.562Z"
   },
   {
    "duration": 3,
    "start_time": "2022-09-08T11:34:53.101Z"
   },
   {
    "duration": 30,
    "start_time": "2022-09-08T11:34:53.105Z"
   },
   {
    "duration": 11,
    "start_time": "2022-09-08T11:34:53.136Z"
   },
   {
    "duration": 60,
    "start_time": "2022-09-08T11:34:53.148Z"
   },
   {
    "duration": 11,
    "start_time": "2022-09-08T11:34:53.209Z"
   },
   {
    "duration": 8,
    "start_time": "2022-09-08T11:34:53.222Z"
   },
   {
    "duration": 24,
    "start_time": "2022-09-08T11:34:53.231Z"
   },
   {
    "duration": 15,
    "start_time": "2022-09-08T11:34:53.256Z"
   },
   {
    "duration": 11,
    "start_time": "2022-09-08T11:34:53.272Z"
   },
   {
    "duration": 236,
    "start_time": "2022-09-08T11:34:53.284Z"
   },
   {
    "duration": 6,
    "start_time": "2022-09-08T11:34:53.521Z"
   },
   {
    "duration": 27,
    "start_time": "2022-09-08T11:34:53.529Z"
   },
   {
    "duration": 106,
    "start_time": "2022-09-08T11:34:53.557Z"
   },
   {
    "duration": 121,
    "start_time": "2022-09-08T11:34:53.664Z"
   },
   {
    "duration": 188,
    "start_time": "2022-09-08T11:34:53.787Z"
   },
   {
    "duration": 120,
    "start_time": "2022-09-08T11:34:53.977Z"
   },
   {
    "duration": 14,
    "start_time": "2022-09-08T11:34:54.101Z"
   },
   {
    "duration": 17,
    "start_time": "2022-09-08T11:34:54.116Z"
   },
   {
    "duration": 15,
    "start_time": "2022-09-08T11:34:54.134Z"
   },
   {
    "duration": 151,
    "start_time": "2022-09-08T11:34:54.151Z"
   },
   {
    "duration": 130,
    "start_time": "2022-09-08T11:34:54.304Z"
   },
   {
    "duration": 151,
    "start_time": "2022-09-08T11:34:54.436Z"
   },
   {
    "duration": 462,
    "start_time": "2022-09-08T11:34:54.589Z"
   },
   {
    "duration": 197,
    "start_time": "2022-09-08T11:34:55.053Z"
   },
   {
    "duration": 138,
    "start_time": "2022-09-08T11:34:55.251Z"
   },
   {
    "duration": 148,
    "start_time": "2022-09-08T11:34:55.391Z"
   },
   {
    "duration": 137,
    "start_time": "2022-09-08T11:34:55.540Z"
   },
   {
    "duration": 28,
    "start_time": "2022-09-08T11:34:55.679Z"
   },
   {
    "duration": 15,
    "start_time": "2022-09-08T11:34:55.708Z"
   },
   {
    "duration": 4714,
    "start_time": "2022-09-08T11:34:55.724Z"
   },
   {
    "duration": 207,
    "start_time": "2022-09-08T11:35:00.440Z"
   },
   {
    "duration": 14,
    "start_time": "2022-09-08T11:35:00.649Z"
   },
   {
    "duration": 42,
    "start_time": "2022-09-08T11:35:00.667Z"
   },
   {
    "duration": 19,
    "start_time": "2022-09-08T11:35:00.710Z"
   },
   {
    "duration": 21,
    "start_time": "2022-09-08T11:35:00.730Z"
   },
   {
    "duration": 14,
    "start_time": "2022-09-08T11:35:00.752Z"
   },
   {
    "duration": 23,
    "start_time": "2022-09-08T11:35:00.767Z"
   },
   {
    "duration": 16,
    "start_time": "2022-09-08T11:35:00.792Z"
   },
   {
    "duration": 25,
    "start_time": "2022-09-08T11:35:00.810Z"
   },
   {
    "duration": 41,
    "start_time": "2022-09-08T11:35:00.836Z"
   },
   {
    "duration": 19,
    "start_time": "2022-09-08T11:35:00.879Z"
   },
   {
    "duration": 14,
    "start_time": "2022-09-08T11:35:00.899Z"
   },
   {
    "duration": 35,
    "start_time": "2022-09-08T11:35:00.914Z"
   },
   {
    "duration": 38,
    "start_time": "2022-09-08T11:35:00.950Z"
   },
   {
    "duration": 20,
    "start_time": "2022-09-08T11:35:00.990Z"
   },
   {
    "duration": 14,
    "start_time": "2022-09-08T11:35:01.012Z"
   },
   {
    "duration": 6,
    "start_time": "2022-09-08T11:35:01.027Z"
   },
   {
    "duration": 1164,
    "start_time": "2022-09-08T13:16:18.554Z"
   },
   {
    "duration": 106,
    "start_time": "2022-09-08T13:16:19.719Z"
   },
   {
    "duration": 12,
    "start_time": "2022-09-08T13:16:19.826Z"
   },
   {
    "duration": 14,
    "start_time": "2022-09-08T13:16:19.840Z"
   },
   {
    "duration": 20,
    "start_time": "2022-09-08T13:16:19.855Z"
   },
   {
    "duration": 8,
    "start_time": "2022-09-08T13:16:19.877Z"
   },
   {
    "duration": 37,
    "start_time": "2022-09-08T13:16:19.887Z"
   },
   {
    "duration": 550,
    "start_time": "2022-09-08T13:16:19.925Z"
   },
   {
    "duration": 3,
    "start_time": "2022-09-08T13:16:20.476Z"
   },
   {
    "duration": 12,
    "start_time": "2022-09-08T13:16:20.481Z"
   },
   {
    "duration": 7,
    "start_time": "2022-09-08T13:16:20.508Z"
   },
   {
    "duration": 7,
    "start_time": "2022-09-08T13:16:20.516Z"
   },
   {
    "duration": 20,
    "start_time": "2022-09-08T13:16:20.525Z"
   },
   {
    "duration": 11,
    "start_time": "2022-09-08T13:16:20.546Z"
   },
   {
    "duration": 12,
    "start_time": "2022-09-08T13:16:20.559Z"
   },
   {
    "duration": 10,
    "start_time": "2022-09-08T13:16:20.572Z"
   },
   {
    "duration": 7,
    "start_time": "2022-09-08T13:16:20.583Z"
   },
   {
    "duration": 209,
    "start_time": "2022-09-08T13:16:20.608Z"
   },
   {
    "duration": 6,
    "start_time": "2022-09-08T13:16:20.818Z"
   },
   {
    "duration": 17,
    "start_time": "2022-09-08T13:16:20.825Z"
   },
   {
    "duration": 117,
    "start_time": "2022-09-08T13:16:20.843Z"
   },
   {
    "duration": 126,
    "start_time": "2022-09-08T13:16:20.961Z"
   },
   {
    "duration": 182,
    "start_time": "2022-09-08T13:16:21.089Z"
   },
   {
    "duration": 105,
    "start_time": "2022-09-08T13:16:21.273Z"
   },
   {
    "duration": 11,
    "start_time": "2022-09-08T13:16:21.380Z"
   },
   {
    "duration": 22,
    "start_time": "2022-09-08T13:16:21.393Z"
   },
   {
    "duration": 20,
    "start_time": "2022-09-08T13:16:21.417Z"
   },
   {
    "duration": 123,
    "start_time": "2022-09-08T13:16:21.442Z"
   },
   {
    "duration": 109,
    "start_time": "2022-09-08T13:16:21.567Z"
   },
   {
    "duration": 117,
    "start_time": "2022-09-08T13:16:21.678Z"
   },
   {
    "duration": 467,
    "start_time": "2022-09-08T13:16:21.797Z"
   },
   {
    "duration": 222,
    "start_time": "2022-09-08T13:16:22.266Z"
   },
   {
    "duration": 136,
    "start_time": "2022-09-08T13:16:22.490Z"
   },
   {
    "duration": 158,
    "start_time": "2022-09-08T13:16:22.627Z"
   },
   {
    "duration": 137,
    "start_time": "2022-09-08T13:16:22.786Z"
   },
   {
    "duration": 18,
    "start_time": "2022-09-08T13:16:22.924Z"
   },
   {
    "duration": 14,
    "start_time": "2022-09-08T13:16:22.944Z"
   },
   {
    "duration": 5279,
    "start_time": "2022-09-08T13:16:22.960Z"
   },
   {
    "duration": 208,
    "start_time": "2022-09-08T13:16:28.241Z"
   },
   {
    "duration": 14,
    "start_time": "2022-09-08T13:16:28.451Z"
   },
   {
    "duration": 14,
    "start_time": "2022-09-08T13:16:28.467Z"
   },
   {
    "duration": 31,
    "start_time": "2022-09-08T13:16:28.483Z"
   },
   {
    "duration": 14,
    "start_time": "2022-09-08T13:16:28.516Z"
   },
   {
    "duration": 14,
    "start_time": "2022-09-08T13:16:28.531Z"
   },
   {
    "duration": 13,
    "start_time": "2022-09-08T13:16:28.547Z"
   },
   {
    "duration": 47,
    "start_time": "2022-09-08T13:16:28.562Z"
   },
   {
    "duration": 15,
    "start_time": "2022-09-08T13:16:28.610Z"
   },
   {
    "duration": 14,
    "start_time": "2022-09-08T13:16:28.627Z"
   },
   {
    "duration": 14,
    "start_time": "2022-09-08T13:16:28.642Z"
   },
   {
    "duration": 4,
    "start_time": "2022-09-08T13:16:28.657Z"
   },
   {
    "duration": 7,
    "start_time": "2022-09-08T13:16:28.662Z"
   },
   {
    "duration": 44,
    "start_time": "2022-09-08T13:16:28.670Z"
   },
   {
    "duration": 5,
    "start_time": "2022-09-08T13:16:28.716Z"
   },
   {
    "duration": 12,
    "start_time": "2022-09-08T13:16:28.722Z"
   },
   {
    "duration": 6,
    "start_time": "2022-09-08T13:16:28.735Z"
   },
   {
    "duration": 1201,
    "start_time": "2022-09-08T13:25:00.581Z"
   },
   {
    "duration": 77,
    "start_time": "2022-09-08T13:25:01.784Z"
   },
   {
    "duration": 13,
    "start_time": "2022-09-08T13:25:01.862Z"
   },
   {
    "duration": 29,
    "start_time": "2022-09-08T13:25:01.876Z"
   },
   {
    "duration": 42,
    "start_time": "2022-09-08T13:25:01.906Z"
   },
   {
    "duration": 34,
    "start_time": "2022-09-08T13:25:01.949Z"
   },
   {
    "duration": 36,
    "start_time": "2022-09-08T13:25:01.984Z"
   },
   {
    "duration": 522,
    "start_time": "2022-09-08T13:25:02.022Z"
   },
   {
    "duration": 3,
    "start_time": "2022-09-08T13:25:02.546Z"
   },
   {
    "duration": 24,
    "start_time": "2022-09-08T13:25:02.550Z"
   },
   {
    "duration": 11,
    "start_time": "2022-09-08T13:25:02.575Z"
   },
   {
    "duration": 8,
    "start_time": "2022-09-08T13:25:02.588Z"
   },
   {
    "duration": 40,
    "start_time": "2022-09-08T13:25:02.598Z"
   },
   {
    "duration": 16,
    "start_time": "2022-09-08T13:25:02.641Z"
   },
   {
    "duration": 12,
    "start_time": "2022-09-08T13:25:02.658Z"
   },
   {
    "duration": 11,
    "start_time": "2022-09-08T13:25:02.672Z"
   },
   {
    "duration": 5,
    "start_time": "2022-09-08T13:25:02.684Z"
   },
   {
    "duration": 219,
    "start_time": "2022-09-08T13:25:02.690Z"
   },
   {
    "duration": 6,
    "start_time": "2022-09-08T13:25:02.910Z"
   },
   {
    "duration": 16,
    "start_time": "2022-09-08T13:25:02.917Z"
   },
   {
    "duration": 117,
    "start_time": "2022-09-08T13:25:02.934Z"
   },
   {
    "duration": 118,
    "start_time": "2022-09-08T13:25:03.053Z"
   },
   {
    "duration": 188,
    "start_time": "2022-09-08T13:25:03.172Z"
   },
   {
    "duration": 100,
    "start_time": "2022-09-08T13:25:03.361Z"
   },
   {
    "duration": 11,
    "start_time": "2022-09-08T13:25:03.462Z"
   },
   {
    "duration": 12,
    "start_time": "2022-09-08T13:25:03.474Z"
   },
   {
    "duration": 35,
    "start_time": "2022-09-08T13:25:03.487Z"
   },
   {
    "duration": 117,
    "start_time": "2022-09-08T13:25:03.523Z"
   },
   {
    "duration": 109,
    "start_time": "2022-09-08T13:25:03.641Z"
   },
   {
    "duration": 109,
    "start_time": "2022-09-08T13:25:03.751Z"
   },
   {
    "duration": 462,
    "start_time": "2022-09-08T13:25:03.862Z"
   },
   {
    "duration": 243,
    "start_time": "2022-09-08T13:25:04.326Z"
   },
   {
    "duration": 146,
    "start_time": "2022-09-08T13:25:04.571Z"
   },
   {
    "duration": 140,
    "start_time": "2022-09-08T13:25:04.718Z"
   },
   {
    "duration": 129,
    "start_time": "2022-09-08T13:25:04.859Z"
   },
   {
    "duration": 27,
    "start_time": "2022-09-08T13:25:04.990Z"
   },
   {
    "duration": 14,
    "start_time": "2022-09-08T13:25:05.018Z"
   },
   {
    "duration": 5128,
    "start_time": "2022-09-08T13:25:05.034Z"
   },
   {
    "duration": 207,
    "start_time": "2022-09-08T13:25:10.164Z"
   },
   {
    "duration": 17,
    "start_time": "2022-09-08T13:25:10.373Z"
   },
   {
    "duration": 26,
    "start_time": "2022-09-08T13:25:10.393Z"
   },
   {
    "duration": 13,
    "start_time": "2022-09-08T13:25:10.421Z"
   },
   {
    "duration": 13,
    "start_time": "2022-09-08T13:25:10.435Z"
   },
   {
    "duration": 13,
    "start_time": "2022-09-08T13:25:10.450Z"
   },
   {
    "duration": 13,
    "start_time": "2022-09-08T13:25:10.464Z"
   },
   {
    "duration": 40,
    "start_time": "2022-09-08T13:25:10.479Z"
   },
   {
    "duration": 12,
    "start_time": "2022-09-08T13:25:10.521Z"
   },
   {
    "duration": 11,
    "start_time": "2022-09-08T13:25:10.535Z"
   },
   {
    "duration": 12,
    "start_time": "2022-09-08T13:25:10.547Z"
   },
   {
    "duration": 3,
    "start_time": "2022-09-08T13:25:10.560Z"
   },
   {
    "duration": 5,
    "start_time": "2022-09-08T13:25:10.564Z"
   },
   {
    "duration": 9,
    "start_time": "2022-09-08T13:25:10.571Z"
   },
   {
    "duration": 33,
    "start_time": "2022-09-08T13:25:10.581Z"
   },
   {
    "duration": 20,
    "start_time": "2022-09-08T13:25:10.616Z"
   },
   {
    "duration": 3,
    "start_time": "2022-09-08T13:25:10.638Z"
   },
   {
    "duration": 5,
    "start_time": "2022-09-08T13:25:22.780Z"
   },
   {
    "duration": 133,
    "start_time": "2022-09-08T13:32:18.359Z"
   },
   {
    "duration": 138,
    "start_time": "2022-09-08T13:32:28.108Z"
   },
   {
    "duration": 78,
    "start_time": "2022-09-08T14:01:03.204Z"
   },
   {
    "duration": 1763,
    "start_time": "2022-09-08T14:06:00.432Z"
   },
   {
    "duration": 493,
    "start_time": "2022-09-08T14:06:02.881Z"
   },
   {
    "duration": 19,
    "start_time": "2022-09-08T14:06:03.381Z"
   },
   {
    "duration": 22,
    "start_time": "2022-09-08T14:06:03.975Z"
   },
   {
    "duration": 16,
    "start_time": "2022-09-08T14:06:04.419Z"
   },
   {
    "duration": 10,
    "start_time": "2022-09-08T14:06:04.913Z"
   },
   {
    "duration": 34,
    "start_time": "2022-09-08T14:06:05.563Z"
   },
   {
    "duration": 857,
    "start_time": "2022-09-08T14:06:06.280Z"
   },
   {
    "duration": 9,
    "start_time": "2022-09-08T14:06:15.778Z"
   },
   {
    "duration": 21,
    "start_time": "2022-09-08T14:06:16.173Z"
   },
   {
    "duration": 12,
    "start_time": "2022-09-08T14:06:22.294Z"
   },
   {
    "duration": 9,
    "start_time": "2022-09-08T14:06:23.145Z"
   },
   {
    "duration": 4,
    "start_time": "2022-09-08T14:06:26.850Z"
   },
   {
    "duration": 3,
    "start_time": "2022-09-08T14:06:27.421Z"
   },
   {
    "duration": 3,
    "start_time": "2022-09-08T14:06:29.327Z"
   },
   {
    "duration": 3,
    "start_time": "2022-09-08T14:06:29.747Z"
   },
   {
    "duration": 172,
    "start_time": "2022-09-08T14:15:16.935Z"
   },
   {
    "duration": 3,
    "start_time": "2022-09-08T14:15:23.900Z"
   },
   {
    "duration": 82,
    "start_time": "2022-09-08T14:15:23.905Z"
   },
   {
    "duration": 18,
    "start_time": "2022-09-08T14:15:23.989Z"
   },
   {
    "duration": 15,
    "start_time": "2022-09-08T14:15:24.008Z"
   },
   {
    "duration": 15,
    "start_time": "2022-09-08T14:15:24.025Z"
   },
   {
    "duration": 35,
    "start_time": "2022-09-08T14:15:24.041Z"
   },
   {
    "duration": 32,
    "start_time": "2022-09-08T14:15:24.078Z"
   },
   {
    "duration": 673,
    "start_time": "2022-09-08T14:15:24.112Z"
   },
   {
    "duration": 4,
    "start_time": "2022-09-08T14:15:24.796Z"
   },
   {
    "duration": 20,
    "start_time": "2022-09-08T14:15:24.802Z"
   },
   {
    "duration": 13,
    "start_time": "2022-09-08T14:15:24.824Z"
   },
   {
    "duration": 14,
    "start_time": "2022-09-08T14:15:24.838Z"
   },
   {
    "duration": 12,
    "start_time": "2022-09-08T14:15:24.854Z"
   },
   {
    "duration": 26,
    "start_time": "2022-09-08T14:15:24.874Z"
   },
   {
    "duration": 9,
    "start_time": "2022-09-08T14:15:24.901Z"
   },
   {
    "duration": 29,
    "start_time": "2022-09-08T14:15:24.912Z"
   },
   {
    "duration": 10,
    "start_time": "2022-09-08T14:15:24.943Z"
   },
   {
    "duration": 373,
    "start_time": "2022-09-08T14:15:24.954Z"
   },
   {
    "duration": 7,
    "start_time": "2022-09-08T14:15:25.329Z"
   },
   {
    "duration": 41,
    "start_time": "2022-09-08T14:15:25.338Z"
   },
   {
    "duration": 140,
    "start_time": "2022-09-08T14:15:25.383Z"
   },
   {
    "duration": 156,
    "start_time": "2022-09-08T14:15:25.524Z"
   },
   {
    "duration": 147,
    "start_time": "2022-09-08T14:15:25.690Z"
   },
   {
    "duration": 148,
    "start_time": "2022-09-08T14:15:25.839Z"
   },
   {
    "duration": 17,
    "start_time": "2022-09-08T14:15:25.991Z"
   },
   {
    "duration": 15,
    "start_time": "2022-09-08T14:15:26.010Z"
   },
   {
    "duration": 17,
    "start_time": "2022-09-08T14:15:26.028Z"
   },
   {
    "duration": 159,
    "start_time": "2022-09-08T14:15:26.046Z"
   },
   {
    "duration": 137,
    "start_time": "2022-09-08T14:15:26.207Z"
   },
   {
    "duration": 150,
    "start_time": "2022-09-08T14:15:26.347Z"
   },
   {
    "duration": 660,
    "start_time": "2022-09-08T14:15:26.499Z"
   },
   {
    "duration": 209,
    "start_time": "2022-09-08T14:15:27.168Z"
   },
   {
    "duration": 166,
    "start_time": "2022-09-08T14:15:27.381Z"
   },
   {
    "duration": 177,
    "start_time": "2022-09-08T14:15:27.549Z"
   },
   {
    "duration": 166,
    "start_time": "2022-09-08T14:15:27.727Z"
   },
   {
    "duration": 20,
    "start_time": "2022-09-08T14:15:27.895Z"
   },
   {
    "duration": 26,
    "start_time": "2022-09-08T14:15:27.917Z"
   },
   {
    "duration": 5609,
    "start_time": "2022-09-08T14:15:27.945Z"
   },
   {
    "duration": 248,
    "start_time": "2022-09-08T14:15:33.556Z"
   },
   {
    "duration": 16,
    "start_time": "2022-09-08T14:15:33.806Z"
   },
   {
    "duration": 15,
    "start_time": "2022-09-08T14:15:33.825Z"
   },
   {
    "duration": 45,
    "start_time": "2022-09-08T14:15:33.841Z"
   },
   {
    "duration": 20,
    "start_time": "2022-09-08T14:15:33.893Z"
   },
   {
    "duration": 16,
    "start_time": "2022-09-08T14:15:33.914Z"
   },
   {
    "duration": 14,
    "start_time": "2022-09-08T14:15:33.932Z"
   },
   {
    "duration": 40,
    "start_time": "2022-09-08T14:15:33.948Z"
   },
   {
    "duration": 36,
    "start_time": "2022-09-08T14:15:33.990Z"
   },
   {
    "duration": 21,
    "start_time": "2022-09-08T14:15:34.028Z"
   },
   {
    "duration": 24,
    "start_time": "2022-09-08T14:15:34.051Z"
   },
   {
    "duration": 14,
    "start_time": "2022-09-08T14:15:34.084Z"
   },
   {
    "duration": 7,
    "start_time": "2022-09-08T14:15:34.100Z"
   },
   {
    "duration": 13,
    "start_time": "2022-09-08T14:15:34.109Z"
   },
   {
    "duration": 5,
    "start_time": "2022-09-08T14:15:34.124Z"
   },
   {
    "duration": 11,
    "start_time": "2022-09-08T14:15:34.131Z"
   },
   {
    "duration": 6,
    "start_time": "2022-09-08T14:15:34.144Z"
   },
   {
    "duration": 137,
    "start_time": "2022-09-08T14:18:54.684Z"
   },
   {
    "duration": 151,
    "start_time": "2022-09-08T14:19:01.030Z"
   },
   {
    "duration": 189,
    "start_time": "2022-09-08T14:20:26.604Z"
   },
   {
    "duration": 140,
    "start_time": "2022-09-08T14:20:30.833Z"
   },
   {
    "duration": 105,
    "start_time": "2022-09-08T14:25:18.902Z"
   },
   {
    "duration": 306,
    "start_time": "2022-09-08T14:25:24.969Z"
   },
   {
    "duration": 105,
    "start_time": "2022-09-08T14:25:43.093Z"
   },
   {
    "duration": 131,
    "start_time": "2022-09-08T14:25:59.385Z"
   },
   {
    "duration": 141,
    "start_time": "2022-09-08T14:26:19.662Z"
   },
   {
    "duration": 147,
    "start_time": "2022-09-08T14:26:39.529Z"
   },
   {
    "duration": 152,
    "start_time": "2022-09-08T14:26:49.073Z"
   },
   {
    "duration": 133,
    "start_time": "2022-09-08T14:26:58.073Z"
   },
   {
    "duration": 118,
    "start_time": "2022-09-08T14:27:15.077Z"
   },
   {
    "duration": 119,
    "start_time": "2022-09-08T14:27:18.929Z"
   },
   {
    "duration": 97,
    "start_time": "2022-09-08T14:27:29.519Z"
   },
   {
    "duration": 99,
    "start_time": "2022-09-08T14:27:38.892Z"
   },
   {
    "duration": 105,
    "start_time": "2022-09-08T14:27:43.064Z"
   },
   {
    "duration": 49,
    "start_time": "2022-09-09T08:56:13.698Z"
   },
   {
    "duration": 1341,
    "start_time": "2022-09-09T08:56:43.440Z"
   },
   {
    "duration": 111,
    "start_time": "2022-09-09T08:56:44.783Z"
   },
   {
    "duration": 12,
    "start_time": "2022-09-09T08:56:44.895Z"
   },
   {
    "duration": 17,
    "start_time": "2022-09-09T08:56:44.909Z"
   },
   {
    "duration": 16,
    "start_time": "2022-09-09T08:56:44.927Z"
   },
   {
    "duration": 8,
    "start_time": "2022-09-09T08:56:44.945Z"
   },
   {
    "duration": 18,
    "start_time": "2022-09-09T08:56:44.954Z"
   },
   {
    "duration": 564,
    "start_time": "2022-09-09T08:56:44.973Z"
   },
   {
    "duration": 2,
    "start_time": "2022-09-09T08:56:45.817Z"
   },
   {
    "duration": 11,
    "start_time": "2022-09-09T08:56:45.998Z"
   },
   {
    "duration": 7,
    "start_time": "2022-09-09T08:56:46.414Z"
   },
   {
    "duration": 8,
    "start_time": "2022-09-09T08:56:46.820Z"
   },
   {
    "duration": 2,
    "start_time": "2022-09-09T08:56:47.233Z"
   },
   {
    "duration": 2,
    "start_time": "2022-09-09T08:56:47.641Z"
   },
   {
    "duration": 3,
    "start_time": "2022-09-09T08:56:48.979Z"
   },
   {
    "duration": 2,
    "start_time": "2022-09-09T08:56:49.410Z"
   },
   {
    "duration": 5,
    "start_time": "2022-09-09T08:56:50.082Z"
   },
   {
    "duration": 204,
    "start_time": "2022-09-09T08:56:58.608Z"
   },
   {
    "duration": 6,
    "start_time": "2022-09-09T08:56:58.839Z"
   },
   {
    "duration": 14,
    "start_time": "2022-09-09T08:57:00.521Z"
   },
   {
    "duration": 105,
    "start_time": "2022-09-09T08:57:01.907Z"
   },
   {
    "duration": 118,
    "start_time": "2022-09-09T08:57:02.770Z"
   },
   {
    "duration": 171,
    "start_time": "2022-09-09T08:57:03.594Z"
   },
   {
    "duration": 118,
    "start_time": "2022-09-09T08:57:04.449Z"
   },
   {
    "duration": 110,
    "start_time": "2022-09-09T08:57:07.608Z"
   },
   {
    "duration": 555,
    "start_time": "2022-09-09T08:57:25.093Z"
   },
   {
    "duration": 17,
    "start_time": "2022-09-09T08:57:44.746Z"
   },
   {
    "duration": 16,
    "start_time": "2022-09-09T09:01:05.440Z"
   },
   {
    "duration": 16,
    "start_time": "2022-09-09T09:01:07.693Z"
   },
   {
    "duration": 19,
    "start_time": "2022-09-09T09:01:20.386Z"
   },
   {
    "duration": 15,
    "start_time": "2022-09-09T09:01:54.081Z"
   },
   {
    "duration": 13,
    "start_time": "2022-09-09T09:01:57.082Z"
   },
   {
    "duration": 56,
    "start_time": "2022-09-09T09:02:36.138Z"
   },
   {
    "duration": 1170,
    "start_time": "2022-09-09T09:02:41.882Z"
   },
   {
    "duration": 73,
    "start_time": "2022-09-09T09:02:43.053Z"
   },
   {
    "duration": 12,
    "start_time": "2022-09-09T09:02:43.127Z"
   },
   {
    "duration": 14,
    "start_time": "2022-09-09T09:02:43.141Z"
   },
   {
    "duration": 20,
    "start_time": "2022-09-09T09:02:43.157Z"
   },
   {
    "duration": 8,
    "start_time": "2022-09-09T09:02:43.178Z"
   },
   {
    "duration": 32,
    "start_time": "2022-09-09T09:02:43.187Z"
   },
   {
    "duration": 555,
    "start_time": "2022-09-09T09:02:43.221Z"
   },
   {
    "duration": 3,
    "start_time": "2022-09-09T09:02:44.204Z"
   },
   {
    "duration": 18,
    "start_time": "2022-09-09T09:02:44.385Z"
   },
   {
    "duration": 7,
    "start_time": "2022-09-09T09:02:44.799Z"
   },
   {
    "duration": 8,
    "start_time": "2022-09-09T09:02:45.195Z"
   },
   {
    "duration": 2,
    "start_time": "2022-09-09T09:02:45.574Z"
   },
   {
    "duration": 2,
    "start_time": "2022-09-09T09:02:45.971Z"
   },
   {
    "duration": 2,
    "start_time": "2022-09-09T09:02:46.999Z"
   },
   {
    "duration": 2,
    "start_time": "2022-09-09T09:02:47.198Z"
   },
   {
    "duration": 7,
    "start_time": "2022-09-09T09:02:47.611Z"
   },
   {
    "duration": 213,
    "start_time": "2022-09-09T09:02:48.904Z"
   },
   {
    "duration": 6,
    "start_time": "2022-09-09T09:02:49.144Z"
   },
   {
    "duration": 15,
    "start_time": "2022-09-09T09:02:50.124Z"
   },
   {
    "duration": 99,
    "start_time": "2022-09-09T09:02:51.044Z"
   },
   {
    "duration": 117,
    "start_time": "2022-09-09T09:02:51.429Z"
   },
   {
    "duration": 168,
    "start_time": "2022-09-09T09:02:51.818Z"
   },
   {
    "duration": 98,
    "start_time": "2022-09-09T09:02:52.223Z"
   },
   {
    "duration": 81,
    "start_time": "2022-09-09T09:02:54.141Z"
   },
   {
    "duration": 15,
    "start_time": "2022-09-09T09:03:07.004Z"
   },
   {
    "duration": 13,
    "start_time": "2022-09-09T09:03:09.053Z"
   },
   {
    "duration": 15,
    "start_time": "2022-09-09T09:03:20.277Z"
   },
   {
    "duration": 237,
    "start_time": "2022-09-09T09:03:36.961Z"
   },
   {
    "duration": 216,
    "start_time": "2022-09-09T09:03:44.587Z"
   },
   {
    "duration": 16,
    "start_time": "2022-09-09T09:04:13.639Z"
   },
   {
    "duration": 51,
    "start_time": "2022-09-09T09:14:55.347Z"
   },
   {
    "duration": 1166,
    "start_time": "2022-09-09T09:15:00.437Z"
   },
   {
    "duration": 68,
    "start_time": "2022-09-09T09:15:01.605Z"
   },
   {
    "duration": 11,
    "start_time": "2022-09-09T09:15:01.675Z"
   },
   {
    "duration": 90,
    "start_time": "2022-09-09T09:15:01.687Z"
   },
   {
    "duration": 40,
    "start_time": "2022-09-09T09:15:01.779Z"
   },
   {
    "duration": 57,
    "start_time": "2022-09-09T09:15:01.821Z"
   },
   {
    "duration": 172,
    "start_time": "2022-09-09T09:15:01.879Z"
   },
   {
    "duration": 688,
    "start_time": "2022-09-09T09:15:02.052Z"
   },
   {
    "duration": 3,
    "start_time": "2022-09-09T09:15:02.741Z"
   },
   {
    "duration": 54,
    "start_time": "2022-09-09T09:15:02.746Z"
   },
   {
    "duration": 16,
    "start_time": "2022-09-09T09:15:02.802Z"
   },
   {
    "duration": 29,
    "start_time": "2022-09-09T09:15:02.820Z"
   },
   {
    "duration": 19,
    "start_time": "2022-09-09T09:15:02.850Z"
   },
   {
    "duration": 4,
    "start_time": "2022-09-09T09:15:02.871Z"
   },
   {
    "duration": 9,
    "start_time": "2022-09-09T09:15:02.876Z"
   },
   {
    "duration": 5,
    "start_time": "2022-09-09T09:15:02.886Z"
   },
   {
    "duration": 11,
    "start_time": "2022-09-09T09:15:02.892Z"
   },
   {
    "duration": 221,
    "start_time": "2022-09-09T09:15:02.904Z"
   },
   {
    "duration": 6,
    "start_time": "2022-09-09T09:15:03.127Z"
   },
   {
    "duration": 20,
    "start_time": "2022-09-09T09:15:03.134Z"
   },
   {
    "duration": 113,
    "start_time": "2022-09-09T09:15:03.156Z"
   },
   {
    "duration": 122,
    "start_time": "2022-09-09T09:15:03.270Z"
   },
   {
    "duration": 180,
    "start_time": "2022-09-09T09:15:03.394Z"
   },
   {
    "duration": 109,
    "start_time": "2022-09-09T09:15:03.575Z"
   },
   {
    "duration": 78,
    "start_time": "2022-09-09T09:15:03.685Z"
   },
   {
    "duration": 0,
    "start_time": "2022-09-09T09:15:03.765Z"
   },
   {
    "duration": 0,
    "start_time": "2022-09-09T09:15:03.766Z"
   },
   {
    "duration": 0,
    "start_time": "2022-09-09T09:15:03.767Z"
   },
   {
    "duration": 0,
    "start_time": "2022-09-09T09:15:03.768Z"
   },
   {
    "duration": 0,
    "start_time": "2022-09-09T09:15:03.769Z"
   },
   {
    "duration": 0,
    "start_time": "2022-09-09T09:15:03.769Z"
   },
   {
    "duration": 0,
    "start_time": "2022-09-09T09:15:03.770Z"
   },
   {
    "duration": 0,
    "start_time": "2022-09-09T09:15:03.771Z"
   },
   {
    "duration": 0,
    "start_time": "2022-09-09T09:15:03.772Z"
   },
   {
    "duration": 0,
    "start_time": "2022-09-09T09:15:03.772Z"
   },
   {
    "duration": 0,
    "start_time": "2022-09-09T09:15:03.773Z"
   },
   {
    "duration": 0,
    "start_time": "2022-09-09T09:15:03.774Z"
   },
   {
    "duration": 0,
    "start_time": "2022-09-09T09:15:03.775Z"
   },
   {
    "duration": 0,
    "start_time": "2022-09-09T09:15:03.775Z"
   },
   {
    "duration": 0,
    "start_time": "2022-09-09T09:15:03.776Z"
   },
   {
    "duration": 0,
    "start_time": "2022-09-09T09:15:03.777Z"
   },
   {
    "duration": 0,
    "start_time": "2022-09-09T09:15:03.778Z"
   },
   {
    "duration": 0,
    "start_time": "2022-09-09T09:15:03.779Z"
   },
   {
    "duration": 0,
    "start_time": "2022-09-09T09:15:03.809Z"
   },
   {
    "duration": 0,
    "start_time": "2022-09-09T09:15:03.810Z"
   },
   {
    "duration": 0,
    "start_time": "2022-09-09T09:15:03.810Z"
   },
   {
    "duration": 0,
    "start_time": "2022-09-09T09:15:03.811Z"
   },
   {
    "duration": 0,
    "start_time": "2022-09-09T09:15:03.812Z"
   },
   {
    "duration": 0,
    "start_time": "2022-09-09T09:15:03.813Z"
   },
   {
    "duration": 0,
    "start_time": "2022-09-09T09:15:03.814Z"
   },
   {
    "duration": 0,
    "start_time": "2022-09-09T09:15:03.815Z"
   },
   {
    "duration": 0,
    "start_time": "2022-09-09T09:15:03.816Z"
   },
   {
    "duration": 0,
    "start_time": "2022-09-09T09:15:03.816Z"
   },
   {
    "duration": 0,
    "start_time": "2022-09-09T09:15:03.817Z"
   },
   {
    "duration": 0,
    "start_time": "2022-09-09T09:15:03.818Z"
   },
   {
    "duration": 0,
    "start_time": "2022-09-09T09:15:03.819Z"
   },
   {
    "duration": 0,
    "start_time": "2022-09-09T09:15:03.819Z"
   },
   {
    "duration": 0,
    "start_time": "2022-09-09T09:15:03.820Z"
   },
   {
    "duration": 0,
    "start_time": "2022-09-09T09:15:03.821Z"
   },
   {
    "duration": 0,
    "start_time": "2022-09-09T09:15:03.822Z"
   },
   {
    "duration": 0,
    "start_time": "2022-09-09T09:15:03.822Z"
   },
   {
    "duration": 6,
    "start_time": "2022-09-09T09:16:11.688Z"
   },
   {
    "duration": 4,
    "start_time": "2022-09-09T09:16:17.854Z"
   },
   {
    "duration": 6,
    "start_time": "2022-09-09T09:16:31.959Z"
   },
   {
    "duration": 14,
    "start_time": "2022-09-09T09:16:36.494Z"
   },
   {
    "duration": 4,
    "start_time": "2022-09-09T09:16:54.296Z"
   },
   {
    "duration": 5,
    "start_time": "2022-09-09T09:17:33.561Z"
   },
   {
    "duration": 5,
    "start_time": "2022-09-09T09:17:40.709Z"
   },
   {
    "duration": 7,
    "start_time": "2022-09-09T09:19:14.906Z"
   },
   {
    "duration": 4,
    "start_time": "2022-09-09T09:19:17.029Z"
   },
   {
    "duration": 4,
    "start_time": "2022-09-09T09:19:41.193Z"
   },
   {
    "duration": 3,
    "start_time": "2022-09-09T09:21:33.857Z"
   },
   {
    "duration": 62,
    "start_time": "2022-09-09T09:21:34.033Z"
   },
   {
    "duration": 12,
    "start_time": "2022-09-09T09:21:34.212Z"
   },
   {
    "duration": 15,
    "start_time": "2022-09-09T09:21:34.391Z"
   },
   {
    "duration": 14,
    "start_time": "2022-09-09T09:21:34.583Z"
   },
   {
    "duration": 8,
    "start_time": "2022-09-09T09:21:34.777Z"
   },
   {
    "duration": 15,
    "start_time": "2022-09-09T09:21:34.981Z"
   },
   {
    "duration": 521,
    "start_time": "2022-09-09T09:21:35.170Z"
   },
   {
    "duration": 3,
    "start_time": "2022-09-09T09:21:36.193Z"
   },
   {
    "duration": 18,
    "start_time": "2022-09-09T09:21:36.375Z"
   },
   {
    "duration": 6,
    "start_time": "2022-09-09T09:21:36.778Z"
   },
   {
    "duration": 8,
    "start_time": "2022-09-09T09:21:37.169Z"
   },
   {
    "duration": 2,
    "start_time": "2022-09-09T09:21:37.581Z"
   },
   {
    "duration": 3,
    "start_time": "2022-09-09T09:21:37.983Z"
   },
   {
    "duration": 2,
    "start_time": "2022-09-09T09:21:38.836Z"
   },
   {
    "duration": 3,
    "start_time": "2022-09-09T09:21:39.127Z"
   },
   {
    "duration": 5,
    "start_time": "2022-09-09T09:21:39.604Z"
   },
   {
    "duration": 213,
    "start_time": "2022-09-09T09:21:40.815Z"
   },
   {
    "duration": 6,
    "start_time": "2022-09-09T09:21:41.029Z"
   },
   {
    "duration": 12,
    "start_time": "2022-09-09T09:21:41.614Z"
   },
   {
    "duration": 99,
    "start_time": "2022-09-09T09:21:42.212Z"
   },
   {
    "duration": 108,
    "start_time": "2022-09-09T09:21:42.631Z"
   },
   {
    "duration": 113,
    "start_time": "2022-09-09T09:21:43.044Z"
   },
   {
    "duration": 163,
    "start_time": "2022-09-09T09:21:43.470Z"
   },
   {
    "duration": 4,
    "start_time": "2022-09-09T09:21:44.852Z"
   },
   {
    "duration": 6,
    "start_time": "2022-09-09T09:21:45.060Z"
   },
   {
    "duration": 4,
    "start_time": "2022-09-09T09:21:45.497Z"
   },
   {
    "duration": 4,
    "start_time": "2022-09-09T09:21:47.476Z"
   },
   {
    "duration": 18,
    "start_time": "2022-09-09T09:35:27.348Z"
   },
   {
    "duration": 3,
    "start_time": "2022-09-09T09:35:47.157Z"
   },
   {
    "duration": 64,
    "start_time": "2022-09-09T09:35:47.162Z"
   },
   {
    "duration": 11,
    "start_time": "2022-09-09T09:35:47.228Z"
   },
   {
    "duration": 15,
    "start_time": "2022-09-09T09:35:47.241Z"
   },
   {
    "duration": 22,
    "start_time": "2022-09-09T09:35:47.259Z"
   },
   {
    "duration": 31,
    "start_time": "2022-09-09T09:35:47.282Z"
   },
   {
    "duration": 18,
    "start_time": "2022-09-09T09:35:47.314Z"
   },
   {
    "duration": 518,
    "start_time": "2022-09-09T09:35:47.333Z"
   },
   {
    "duration": 3,
    "start_time": "2022-09-09T09:35:47.852Z"
   },
   {
    "duration": 17,
    "start_time": "2022-09-09T09:35:47.856Z"
   },
   {
    "duration": 16,
    "start_time": "2022-09-09T09:35:47.874Z"
   },
   {
    "duration": 12,
    "start_time": "2022-09-09T09:35:47.891Z"
   },
   {
    "duration": 3,
    "start_time": "2022-09-09T09:35:47.908Z"
   },
   {
    "duration": 5,
    "start_time": "2022-09-09T09:35:47.914Z"
   },
   {
    "duration": 13,
    "start_time": "2022-09-09T09:35:47.921Z"
   },
   {
    "duration": 6,
    "start_time": "2022-09-09T09:35:47.936Z"
   },
   {
    "duration": 10,
    "start_time": "2022-09-09T09:35:47.943Z"
   },
   {
    "duration": 226,
    "start_time": "2022-09-09T09:35:47.955Z"
   },
   {
    "duration": 6,
    "start_time": "2022-09-09T09:35:48.183Z"
   },
   {
    "duration": 28,
    "start_time": "2022-09-09T09:35:48.190Z"
   },
   {
    "duration": 114,
    "start_time": "2022-09-09T09:35:48.219Z"
   },
   {
    "duration": 126,
    "start_time": "2022-09-09T09:35:48.334Z"
   },
   {
    "duration": 120,
    "start_time": "2022-09-09T09:35:48.462Z"
   },
   {
    "duration": 118,
    "start_time": "2022-09-09T09:35:48.583Z"
   },
   {
    "duration": 4,
    "start_time": "2022-09-09T09:35:48.702Z"
   },
   {
    "duration": 15,
    "start_time": "2022-09-09T09:35:48.709Z"
   },
   {
    "duration": 0,
    "start_time": "2022-09-09T09:35:48.726Z"
   },
   {
    "duration": 0,
    "start_time": "2022-09-09T09:35:48.727Z"
   },
   {
    "duration": 0,
    "start_time": "2022-09-09T09:35:48.728Z"
   },
   {
    "duration": 0,
    "start_time": "2022-09-09T09:35:48.729Z"
   },
   {
    "duration": 0,
    "start_time": "2022-09-09T09:35:48.730Z"
   },
   {
    "duration": 0,
    "start_time": "2022-09-09T09:35:48.731Z"
   },
   {
    "duration": 1,
    "start_time": "2022-09-09T09:35:48.731Z"
   },
   {
    "duration": 0,
    "start_time": "2022-09-09T09:35:48.732Z"
   },
   {
    "duration": 0,
    "start_time": "2022-09-09T09:35:48.733Z"
   },
   {
    "duration": 0,
    "start_time": "2022-09-09T09:35:48.734Z"
   },
   {
    "duration": 0,
    "start_time": "2022-09-09T09:35:48.735Z"
   },
   {
    "duration": 0,
    "start_time": "2022-09-09T09:35:48.736Z"
   },
   {
    "duration": 0,
    "start_time": "2022-09-09T09:35:48.736Z"
   },
   {
    "duration": 0,
    "start_time": "2022-09-09T09:35:48.737Z"
   },
   {
    "duration": 0,
    "start_time": "2022-09-09T09:35:48.738Z"
   },
   {
    "duration": 0,
    "start_time": "2022-09-09T09:35:48.739Z"
   },
   {
    "duration": 0,
    "start_time": "2022-09-09T09:35:48.739Z"
   },
   {
    "duration": 0,
    "start_time": "2022-09-09T09:35:48.740Z"
   },
   {
    "duration": 0,
    "start_time": "2022-09-09T09:35:48.741Z"
   },
   {
    "duration": 0,
    "start_time": "2022-09-09T09:35:48.741Z"
   },
   {
    "duration": 0,
    "start_time": "2022-09-09T09:35:48.742Z"
   },
   {
    "duration": 0,
    "start_time": "2022-09-09T09:35:48.743Z"
   },
   {
    "duration": 0,
    "start_time": "2022-09-09T09:35:48.744Z"
   },
   {
    "duration": 0,
    "start_time": "2022-09-09T09:35:48.745Z"
   },
   {
    "duration": 0,
    "start_time": "2022-09-09T09:35:48.746Z"
   },
   {
    "duration": 0,
    "start_time": "2022-09-09T09:35:48.747Z"
   },
   {
    "duration": 0,
    "start_time": "2022-09-09T09:35:48.748Z"
   },
   {
    "duration": 0,
    "start_time": "2022-09-09T09:35:48.749Z"
   },
   {
    "duration": 0,
    "start_time": "2022-09-09T09:35:48.749Z"
   },
   {
    "duration": 0,
    "start_time": "2022-09-09T09:35:48.750Z"
   },
   {
    "duration": 0,
    "start_time": "2022-09-09T09:35:48.751Z"
   },
   {
    "duration": 0,
    "start_time": "2022-09-09T09:35:48.752Z"
   },
   {
    "duration": 0,
    "start_time": "2022-09-09T09:35:48.753Z"
   },
   {
    "duration": 0,
    "start_time": "2022-09-09T09:35:48.754Z"
   },
   {
    "duration": 0,
    "start_time": "2022-09-09T09:35:48.755Z"
   },
   {
    "duration": 0,
    "start_time": "2022-09-09T09:35:48.755Z"
   },
   {
    "duration": 0,
    "start_time": "2022-09-09T09:35:48.756Z"
   },
   {
    "duration": 0,
    "start_time": "2022-09-09T09:35:48.756Z"
   },
   {
    "duration": 0,
    "start_time": "2022-09-09T09:35:48.757Z"
   },
   {
    "duration": 5,
    "start_time": "2022-09-09T09:44:44.181Z"
   },
   {
    "duration": 4,
    "start_time": "2022-09-09T09:44:47.584Z"
   },
   {
    "duration": 5,
    "start_time": "2022-09-09T09:44:50.398Z"
   },
   {
    "duration": 21,
    "start_time": "2022-09-09T09:44:52.788Z"
   },
   {
    "duration": 28,
    "start_time": "2022-09-09T09:45:04.873Z"
   },
   {
    "duration": 25,
    "start_time": "2022-09-09T09:45:47.584Z"
   },
   {
    "duration": 4,
    "start_time": "2022-09-09T09:46:20.193Z"
   },
   {
    "duration": 67,
    "start_time": "2022-09-09T09:46:20.685Z"
   },
   {
    "duration": 12,
    "start_time": "2022-09-09T09:46:21.982Z"
   },
   {
    "duration": 13,
    "start_time": "2022-09-09T09:46:22.691Z"
   },
   {
    "duration": 19,
    "start_time": "2022-09-09T09:46:23.268Z"
   },
   {
    "duration": 13,
    "start_time": "2022-09-09T09:46:23.637Z"
   },
   {
    "duration": 15,
    "start_time": "2022-09-09T09:46:23.918Z"
   },
   {
    "duration": 664,
    "start_time": "2022-09-09T09:46:24.200Z"
   },
   {
    "duration": 3,
    "start_time": "2022-09-09T09:46:26.516Z"
   },
   {
    "duration": 11,
    "start_time": "2022-09-09T09:46:26.776Z"
   },
   {
    "duration": 7,
    "start_time": "2022-09-09T09:46:27.576Z"
   },
   {
    "duration": 4,
    "start_time": "2022-09-09T09:47:15.105Z"
   },
   {
    "duration": 9,
    "start_time": "2022-09-09T09:47:17.575Z"
   },
   {
    "duration": 11,
    "start_time": "2022-09-09T09:47:27.750Z"
   },
   {
    "duration": 3,
    "start_time": "2022-09-09T09:47:28.784Z"
   },
   {
    "duration": 2,
    "start_time": "2022-09-09T09:47:29.707Z"
   },
   {
    "duration": 2,
    "start_time": "2022-09-09T09:47:32.160Z"
   },
   {
    "duration": 3,
    "start_time": "2022-09-09T09:47:32.553Z"
   },
   {
    "duration": 7,
    "start_time": "2022-09-09T09:47:34.854Z"
   },
   {
    "duration": 238,
    "start_time": "2022-09-09T09:47:40.920Z"
   },
   {
    "duration": 9,
    "start_time": "2022-09-09T09:47:43.631Z"
   },
   {
    "duration": 18,
    "start_time": "2022-09-09T09:47:47.201Z"
   },
   {
    "duration": 105,
    "start_time": "2022-09-09T09:47:50.817Z"
   },
   {
    "duration": 112,
    "start_time": "2022-09-09T09:47:52.238Z"
   },
   {
    "duration": 118,
    "start_time": "2022-09-09T09:47:55.672Z"
   },
   {
    "duration": 108,
    "start_time": "2022-09-09T09:48:00.017Z"
   },
   {
    "duration": 4,
    "start_time": "2022-09-09T09:54:40.460Z"
   },
   {
    "duration": 7,
    "start_time": "2022-09-09T09:55:07.613Z"
   },
   {
    "duration": 7,
    "start_time": "2022-09-09T09:55:32.432Z"
   },
   {
    "duration": 5,
    "start_time": "2022-09-09T09:56:34.017Z"
   },
   {
    "duration": 16,
    "start_time": "2022-09-09T09:57:09.600Z"
   },
   {
    "duration": 6,
    "start_time": "2022-09-09T09:57:11.160Z"
   },
   {
    "duration": 3,
    "start_time": "2022-09-09T09:57:33.928Z"
   },
   {
    "duration": 65,
    "start_time": "2022-09-09T09:57:34.110Z"
   },
   {
    "duration": 13,
    "start_time": "2022-09-09T09:57:34.295Z"
   },
   {
    "duration": 20,
    "start_time": "2022-09-09T09:57:34.488Z"
   },
   {
    "duration": 20,
    "start_time": "2022-09-09T09:57:34.680Z"
   },
   {
    "duration": 12,
    "start_time": "2022-09-09T09:57:34.862Z"
   },
   {
    "duration": 14,
    "start_time": "2022-09-09T09:57:35.075Z"
   },
   {
    "duration": 537,
    "start_time": "2022-09-09T09:57:35.268Z"
   },
   {
    "duration": 4,
    "start_time": "2022-09-09T09:57:36.244Z"
   },
   {
    "duration": 12,
    "start_time": "2022-09-09T09:57:36.447Z"
   },
   {
    "duration": 6,
    "start_time": "2022-09-09T09:57:36.861Z"
   },
   {
    "duration": 270,
    "start_time": "2022-09-09T09:57:37.042Z"
   },
   {
    "duration": 11,
    "start_time": "2022-09-09T09:57:37.454Z"
   },
   {
    "duration": 3,
    "start_time": "2022-09-09T09:57:37.863Z"
   },
   {
    "duration": 2,
    "start_time": "2022-09-09T09:57:38.250Z"
   },
   {
    "duration": 2,
    "start_time": "2022-09-09T09:57:39.100Z"
   },
   {
    "duration": 2,
    "start_time": "2022-09-09T09:57:40.492Z"
   },
   {
    "duration": 7,
    "start_time": "2022-09-09T09:57:40.961Z"
   },
   {
    "duration": 382,
    "start_time": "2022-09-09T09:57:44.323Z"
   },
   {
    "duration": 8,
    "start_time": "2022-09-09T09:57:44.761Z"
   },
   {
    "duration": 18,
    "start_time": "2022-09-09T09:57:46.392Z"
   },
   {
    "duration": 127,
    "start_time": "2022-09-09T09:57:47.379Z"
   },
   {
    "duration": 152,
    "start_time": "2022-09-09T09:57:47.761Z"
   },
   {
    "duration": 119,
    "start_time": "2022-09-09T09:57:48.145Z"
   },
   {
    "duration": 658,
    "start_time": "2022-09-09T09:57:48.968Z"
   },
   {
    "duration": 11,
    "start_time": "2022-09-09T09:57:51.823Z"
   },
   {
    "duration": 5,
    "start_time": "2022-09-09T09:57:57.013Z"
   },
   {
    "duration": 151,
    "start_time": "2022-09-09T10:13:24.295Z"
   },
   {
    "duration": 69,
    "start_time": "2022-09-09T10:13:40.364Z"
   },
   {
    "duration": 276,
    "start_time": "2022-09-09T10:13:46.005Z"
   },
   {
    "duration": 244,
    "start_time": "2022-09-09T10:13:54.906Z"
   },
   {
    "duration": 286,
    "start_time": "2022-09-09T10:14:13.776Z"
   },
   {
    "duration": 308,
    "start_time": "2022-09-09T10:18:32.765Z"
   },
   {
    "duration": 249,
    "start_time": "2022-09-09T10:18:42.226Z"
   },
   {
    "duration": 263,
    "start_time": "2022-09-09T10:22:13.165Z"
   },
   {
    "duration": 229,
    "start_time": "2022-09-09T10:22:24.850Z"
   },
   {
    "duration": 3,
    "start_time": "2022-09-09T10:26:12.273Z"
   },
   {
    "duration": 1273,
    "start_time": "2022-09-09T10:26:22.995Z"
   },
   {
    "duration": 77,
    "start_time": "2022-09-09T10:26:24.270Z"
   },
   {
    "duration": 13,
    "start_time": "2022-09-09T10:26:24.349Z"
   },
   {
    "duration": 37,
    "start_time": "2022-09-09T10:26:24.363Z"
   },
   {
    "duration": 51,
    "start_time": "2022-09-09T10:26:24.403Z"
   },
   {
    "duration": 27,
    "start_time": "2022-09-09T10:26:24.456Z"
   },
   {
    "duration": 26,
    "start_time": "2022-09-09T10:26:24.485Z"
   },
   {
    "duration": 666,
    "start_time": "2022-09-09T10:26:24.513Z"
   },
   {
    "duration": 3,
    "start_time": "2022-09-09T10:26:25.181Z"
   },
   {
    "duration": 17,
    "start_time": "2022-09-09T10:26:25.186Z"
   },
   {
    "duration": 10,
    "start_time": "2022-09-09T10:26:25.209Z"
   },
   {
    "duration": 18,
    "start_time": "2022-09-09T10:26:25.220Z"
   },
   {
    "duration": 13,
    "start_time": "2022-09-09T10:26:25.240Z"
   },
   {
    "duration": 3,
    "start_time": "2022-09-09T10:26:25.258Z"
   },
   {
    "duration": 6,
    "start_time": "2022-09-09T10:26:25.262Z"
   },
   {
    "duration": 22,
    "start_time": "2022-09-09T10:26:25.270Z"
   },
   {
    "duration": 6,
    "start_time": "2022-09-09T10:26:25.294Z"
   },
   {
    "duration": 17,
    "start_time": "2022-09-09T10:26:25.302Z"
   },
   {
    "duration": 241,
    "start_time": "2022-09-09T10:26:25.327Z"
   },
   {
    "duration": 9,
    "start_time": "2022-09-09T10:26:25.570Z"
   },
   {
    "duration": 15,
    "start_time": "2022-09-09T10:26:25.580Z"
   },
   {
    "duration": 135,
    "start_time": "2022-09-09T10:26:25.608Z"
   },
   {
    "duration": 134,
    "start_time": "2022-09-09T10:26:25.746Z"
   },
   {
    "duration": 208,
    "start_time": "2022-09-09T10:26:25.882Z"
   },
   {
    "duration": 134,
    "start_time": "2022-09-09T10:26:26.092Z"
   },
   {
    "duration": 4,
    "start_time": "2022-09-09T10:26:26.228Z"
   },
   {
    "duration": 30,
    "start_time": "2022-09-09T10:26:26.237Z"
   },
   {
    "duration": 8,
    "start_time": "2022-09-09T10:26:26.269Z"
   },
   {
    "duration": 12,
    "start_time": "2022-09-09T10:26:26.278Z"
   },
   {
    "duration": 30,
    "start_time": "2022-09-09T10:26:26.292Z"
   },
   {
    "duration": 138,
    "start_time": "2022-09-09T10:26:26.324Z"
   },
   {
    "duration": 142,
    "start_time": "2022-09-09T10:26:26.464Z"
   },
   {
    "duration": 134,
    "start_time": "2022-09-09T10:26:26.608Z"
   },
   {
    "duration": 618,
    "start_time": "2022-09-09T10:26:26.743Z"
   },
   {
    "duration": 215,
    "start_time": "2022-09-09T10:26:27.363Z"
   },
   {
    "duration": 120,
    "start_time": "2022-09-09T10:26:27.580Z"
   },
   {
    "duration": 150,
    "start_time": "2022-09-09T10:26:27.701Z"
   },
   {
    "duration": 150,
    "start_time": "2022-09-09T10:26:27.852Z"
   },
   {
    "duration": 155,
    "start_time": "2022-09-09T10:26:28.009Z"
   },
   {
    "duration": 163,
    "start_time": "2022-09-09T10:26:28.166Z"
   },
   {
    "duration": 132,
    "start_time": "2022-09-09T10:26:28.335Z"
   },
   {
    "duration": 153,
    "start_time": "2022-09-09T10:26:28.468Z"
   },
   {
    "duration": 19,
    "start_time": "2022-09-09T10:26:28.623Z"
   },
   {
    "duration": 20,
    "start_time": "2022-09-09T10:26:28.643Z"
   },
   {
    "duration": 5090,
    "start_time": "2022-09-09T10:26:28.665Z"
   },
   {
    "duration": 212,
    "start_time": "2022-09-09T10:26:33.757Z"
   },
   {
    "duration": 14,
    "start_time": "2022-09-09T10:26:33.971Z"
   },
   {
    "duration": 31,
    "start_time": "2022-09-09T10:26:33.986Z"
   },
   {
    "duration": 28,
    "start_time": "2022-09-09T10:26:34.018Z"
   },
   {
    "duration": 16,
    "start_time": "2022-09-09T10:26:34.048Z"
   },
   {
    "duration": 14,
    "start_time": "2022-09-09T10:26:34.066Z"
   },
   {
    "duration": 36,
    "start_time": "2022-09-09T10:26:34.082Z"
   },
   {
    "duration": 23,
    "start_time": "2022-09-09T10:26:34.122Z"
   },
   {
    "duration": 13,
    "start_time": "2022-09-09T10:26:34.146Z"
   },
   {
    "duration": 15,
    "start_time": "2022-09-09T10:26:34.161Z"
   },
   {
    "duration": 16,
    "start_time": "2022-09-09T10:26:34.177Z"
   },
   {
    "duration": 4,
    "start_time": "2022-09-09T10:26:34.209Z"
   },
   {
    "duration": 22,
    "start_time": "2022-09-09T10:26:34.215Z"
   },
   {
    "duration": 14,
    "start_time": "2022-09-09T10:26:34.239Z"
   },
   {
    "duration": 8,
    "start_time": "2022-09-09T10:26:34.255Z"
   },
   {
    "duration": 16,
    "start_time": "2022-09-09T10:26:34.264Z"
   },
   {
    "duration": 3,
    "start_time": "2022-09-09T10:26:34.282Z"
   },
   {
    "duration": 23,
    "start_time": "2022-09-09T10:50:07.048Z"
   },
   {
    "duration": 52,
    "start_time": "2022-09-09T10:53:23.355Z"
   },
   {
    "duration": 16,
    "start_time": "2022-09-09T10:53:39.773Z"
   },
   {
    "duration": 12,
    "start_time": "2022-09-09T10:53:59.543Z"
   },
   {
    "duration": 201,
    "start_time": "2022-09-09T10:54:10.266Z"
   },
   {
    "duration": 12,
    "start_time": "2022-09-09T10:54:21.349Z"
   },
   {
    "duration": 10,
    "start_time": "2022-09-09T10:54:45.330Z"
   },
   {
    "duration": 11,
    "start_time": "2022-09-09T10:55:07.592Z"
   },
   {
    "duration": 558,
    "start_time": "2022-09-09T10:55:22.488Z"
   },
   {
    "duration": 248,
    "start_time": "2022-09-09T10:55:36.722Z"
   },
   {
    "duration": 3,
    "start_time": "2022-09-09T11:37:42.251Z"
   },
   {
    "duration": 66,
    "start_time": "2022-09-09T11:37:42.581Z"
   },
   {
    "duration": 12,
    "start_time": "2022-09-09T11:37:43.035Z"
   },
   {
    "duration": 14,
    "start_time": "2022-09-09T11:37:43.434Z"
   },
   {
    "duration": 12,
    "start_time": "2022-09-09T11:37:43.670Z"
   },
   {
    "duration": 8,
    "start_time": "2022-09-09T11:37:43.882Z"
   },
   {
    "duration": 18,
    "start_time": "2022-09-09T11:37:44.101Z"
   },
   {
    "duration": 606,
    "start_time": "2022-09-09T11:37:44.298Z"
   },
   {
    "duration": 3,
    "start_time": "2022-09-09T11:37:45.747Z"
   },
   {
    "duration": 12,
    "start_time": "2022-09-09T11:37:45.938Z"
   },
   {
    "duration": 10,
    "start_time": "2022-09-09T11:37:46.317Z"
   },
   {
    "duration": 5,
    "start_time": "2022-09-09T11:37:46.521Z"
   },
   {
    "duration": 8,
    "start_time": "2022-09-09T11:37:47.034Z"
   },
   {
    "duration": 2,
    "start_time": "2022-09-09T11:37:47.434Z"
   },
   {
    "duration": 2,
    "start_time": "2022-09-09T11:37:47.838Z"
   },
   {
    "duration": 2,
    "start_time": "2022-09-09T11:37:49.234Z"
   },
   {
    "duration": 2,
    "start_time": "2022-09-09T11:37:49.436Z"
   },
   {
    "duration": 7,
    "start_time": "2022-09-09T11:37:49.821Z"
   },
   {
    "duration": 231,
    "start_time": "2022-09-09T11:37:51.136Z"
   },
   {
    "duration": 25,
    "start_time": "2022-09-09T11:37:51.603Z"
   },
   {
    "duration": 20,
    "start_time": "2022-09-09T11:37:52.404Z"
   },
   {
    "duration": 109,
    "start_time": "2022-09-09T11:37:53.321Z"
   },
   {
    "duration": 110,
    "start_time": "2022-09-09T11:37:53.750Z"
   },
   {
    "duration": 118,
    "start_time": "2022-09-09T11:37:54.177Z"
   },
   {
    "duration": 116,
    "start_time": "2022-09-09T11:37:54.649Z"
   },
   {
    "duration": 15,
    "start_time": "2022-09-09T11:37:57.504Z"
   },
   {
    "duration": 12,
    "start_time": "2022-09-09T11:38:17.911Z"
   },
   {
    "duration": 13,
    "start_time": "2022-09-09T11:38:40.634Z"
   },
   {
    "duration": 5,
    "start_time": "2022-09-09T11:38:43.186Z"
   },
   {
    "duration": 327,
    "start_time": "2022-09-09T11:39:13.521Z"
   },
   {
    "duration": 1177,
    "start_time": "2022-09-09T11:41:02.963Z"
   },
   {
    "duration": 78,
    "start_time": "2022-09-09T11:41:04.143Z"
   },
   {
    "duration": 15,
    "start_time": "2022-09-09T11:41:04.223Z"
   },
   {
    "duration": 21,
    "start_time": "2022-09-09T11:41:04.240Z"
   },
   {
    "duration": 17,
    "start_time": "2022-09-09T11:41:04.262Z"
   },
   {
    "duration": 8,
    "start_time": "2022-09-09T11:41:04.281Z"
   },
   {
    "duration": 19,
    "start_time": "2022-09-09T11:41:04.290Z"
   },
   {
    "duration": 637,
    "start_time": "2022-09-09T11:41:04.319Z"
   },
   {
    "duration": 3,
    "start_time": "2022-09-09T11:41:04.957Z"
   },
   {
    "duration": 20,
    "start_time": "2022-09-09T11:41:04.963Z"
   },
   {
    "duration": 11,
    "start_time": "2022-09-09T11:41:04.984Z"
   },
   {
    "duration": 13,
    "start_time": "2022-09-09T11:41:04.996Z"
   },
   {
    "duration": 33,
    "start_time": "2022-09-09T11:41:05.016Z"
   },
   {
    "duration": 8,
    "start_time": "2022-09-09T11:41:05.050Z"
   },
   {
    "duration": 29,
    "start_time": "2022-09-09T11:41:05.060Z"
   },
   {
    "duration": 11,
    "start_time": "2022-09-09T11:41:05.090Z"
   },
   {
    "duration": 5,
    "start_time": "2022-09-09T11:41:05.103Z"
   },
   {
    "duration": 15,
    "start_time": "2022-09-09T11:41:05.119Z"
   },
   {
    "duration": 244,
    "start_time": "2022-09-09T11:41:05.135Z"
   },
   {
    "duration": 6,
    "start_time": "2022-09-09T11:41:05.380Z"
   },
   {
    "duration": 36,
    "start_time": "2022-09-09T11:41:05.388Z"
   },
   {
    "duration": 115,
    "start_time": "2022-09-09T11:41:05.426Z"
   },
   {
    "duration": 144,
    "start_time": "2022-09-09T11:41:05.543Z"
   },
   {
    "duration": 195,
    "start_time": "2022-09-09T11:41:05.689Z"
   },
   {
    "duration": 109,
    "start_time": "2022-09-09T11:41:05.885Z"
   },
   {
    "duration": 19,
    "start_time": "2022-09-09T11:41:05.996Z"
   },
   {
    "duration": 13,
    "start_time": "2022-09-09T11:41:06.020Z"
   },
   {
    "duration": 22,
    "start_time": "2022-09-09T11:41:06.037Z"
   },
   {
    "duration": 121,
    "start_time": "2022-09-09T11:41:06.061Z"
   },
   {
    "duration": 0,
    "start_time": "2022-09-09T11:41:06.184Z"
   },
   {
    "duration": 0,
    "start_time": "2022-09-09T11:41:06.185Z"
   },
   {
    "duration": 0,
    "start_time": "2022-09-09T11:41:06.186Z"
   },
   {
    "duration": 0,
    "start_time": "2022-09-09T11:41:06.188Z"
   },
   {
    "duration": 0,
    "start_time": "2022-09-09T11:41:06.189Z"
   },
   {
    "duration": 0,
    "start_time": "2022-09-09T11:41:06.189Z"
   },
   {
    "duration": 0,
    "start_time": "2022-09-09T11:41:06.190Z"
   },
   {
    "duration": 0,
    "start_time": "2022-09-09T11:41:06.191Z"
   },
   {
    "duration": 0,
    "start_time": "2022-09-09T11:41:06.219Z"
   },
   {
    "duration": 0,
    "start_time": "2022-09-09T11:41:06.220Z"
   },
   {
    "duration": 0,
    "start_time": "2022-09-09T11:41:06.220Z"
   },
   {
    "duration": 0,
    "start_time": "2022-09-09T11:41:06.221Z"
   },
   {
    "duration": 0,
    "start_time": "2022-09-09T11:41:06.221Z"
   },
   {
    "duration": 0,
    "start_time": "2022-09-09T11:41:06.222Z"
   },
   {
    "duration": 0,
    "start_time": "2022-09-09T11:41:06.223Z"
   },
   {
    "duration": 0,
    "start_time": "2022-09-09T11:41:06.224Z"
   },
   {
    "duration": 0,
    "start_time": "2022-09-09T11:41:06.224Z"
   },
   {
    "duration": 0,
    "start_time": "2022-09-09T11:41:06.224Z"
   },
   {
    "duration": 0,
    "start_time": "2022-09-09T11:41:06.225Z"
   },
   {
    "duration": 0,
    "start_time": "2022-09-09T11:41:06.225Z"
   },
   {
    "duration": 0,
    "start_time": "2022-09-09T11:41:06.226Z"
   },
   {
    "duration": 0,
    "start_time": "2022-09-09T11:41:06.232Z"
   },
   {
    "duration": 0,
    "start_time": "2022-09-09T11:41:06.233Z"
   },
   {
    "duration": 0,
    "start_time": "2022-09-09T11:41:06.234Z"
   },
   {
    "duration": 0,
    "start_time": "2022-09-09T11:41:06.235Z"
   },
   {
    "duration": 0,
    "start_time": "2022-09-09T11:41:06.236Z"
   },
   {
    "duration": 0,
    "start_time": "2022-09-09T11:41:06.237Z"
   },
   {
    "duration": 0,
    "start_time": "2022-09-09T11:41:06.238Z"
   },
   {
    "duration": 0,
    "start_time": "2022-09-09T11:41:06.239Z"
   },
   {
    "duration": 0,
    "start_time": "2022-09-09T11:41:06.239Z"
   },
   {
    "duration": 0,
    "start_time": "2022-09-09T11:41:06.240Z"
   },
   {
    "duration": 0,
    "start_time": "2022-09-09T11:41:06.242Z"
   },
   {
    "duration": 0,
    "start_time": "2022-09-09T11:41:06.242Z"
   },
   {
    "duration": 0,
    "start_time": "2022-09-09T11:41:06.243Z"
   },
   {
    "duration": 0,
    "start_time": "2022-09-09T11:41:06.244Z"
   },
   {
    "duration": 19,
    "start_time": "2022-09-09T11:42:15.976Z"
   },
   {
    "duration": 14,
    "start_time": "2022-09-09T11:42:44.663Z"
   },
   {
    "duration": 10,
    "start_time": "2022-09-09T11:43:40.986Z"
   },
   {
    "duration": 7,
    "start_time": "2022-09-09T11:44:12.342Z"
   },
   {
    "duration": 7,
    "start_time": "2022-09-09T11:44:18.134Z"
   },
   {
    "duration": 11,
    "start_time": "2022-09-09T11:44:47.092Z"
   },
   {
    "duration": 10,
    "start_time": "2022-09-09T11:45:18.098Z"
   },
   {
    "duration": 10,
    "start_time": "2022-09-09T11:45:34.860Z"
   },
   {
    "duration": 9,
    "start_time": "2022-09-09T11:45:44.061Z"
   },
   {
    "duration": 12,
    "start_time": "2022-09-09T11:46:23.221Z"
   },
   {
    "duration": 3,
    "start_time": "2022-09-09T11:47:25.561Z"
   },
   {
    "duration": 4,
    "start_time": "2022-09-09T11:47:29.702Z"
   },
   {
    "duration": 564,
    "start_time": "2022-09-09T11:47:46.564Z"
   },
   {
    "duration": 559,
    "start_time": "2022-09-09T11:47:51.137Z"
   },
   {
    "duration": 3,
    "start_time": "2022-09-09T11:51:05.143Z"
   },
   {
    "duration": 4,
    "start_time": "2022-09-09T11:51:13.262Z"
   },
   {
    "duration": 4,
    "start_time": "2022-09-09T11:51:52.654Z"
   },
   {
    "duration": 4,
    "start_time": "2022-09-09T11:51:54.952Z"
   },
   {
    "duration": 14,
    "start_time": "2022-09-09T12:00:05.154Z"
   },
   {
    "duration": 26,
    "start_time": "2022-09-09T12:00:34.000Z"
   },
   {
    "duration": 13,
    "start_time": "2022-09-09T12:03:57.359Z"
   },
   {
    "duration": 16,
    "start_time": "2022-09-09T12:04:01.467Z"
   },
   {
    "duration": 14,
    "start_time": "2022-09-09T12:05:05.128Z"
   },
   {
    "duration": 17,
    "start_time": "2022-09-09T12:05:25.529Z"
   },
   {
    "duration": 13,
    "start_time": "2022-09-09T12:06:26.168Z"
   },
   {
    "duration": 8,
    "start_time": "2022-09-09T12:06:44.825Z"
   },
   {
    "duration": 7,
    "start_time": "2022-09-09T12:07:08.334Z"
   },
   {
    "duration": 1483,
    "start_time": "2022-09-09T12:08:02.274Z"
   },
   {
    "duration": 7,
    "start_time": "2022-09-09T12:08:18.867Z"
   },
   {
    "duration": 8,
    "start_time": "2022-09-09T12:08:40.527Z"
   },
   {
    "duration": 6,
    "start_time": "2022-09-09T12:08:53.065Z"
   },
   {
    "duration": 6,
    "start_time": "2022-09-09T12:09:05.862Z"
   },
   {
    "duration": 118,
    "start_time": "2022-09-09T12:09:51.425Z"
   },
   {
    "duration": 185,
    "start_time": "2022-09-09T12:10:20.178Z"
   },
   {
    "duration": 121,
    "start_time": "2022-09-09T12:10:25.525Z"
   },
   {
    "duration": 144,
    "start_time": "2022-09-09T12:10:30.134Z"
   },
   {
    "duration": 435,
    "start_time": "2022-09-09T12:11:49.102Z"
   },
   {
    "duration": 129,
    "start_time": "2022-09-09T12:12:06.907Z"
   },
   {
    "duration": 140,
    "start_time": "2022-09-09T12:12:10.683Z"
   },
   {
    "duration": 221,
    "start_time": "2022-09-09T12:12:25.303Z"
   },
   {
    "duration": 153,
    "start_time": "2022-09-09T12:12:40.592Z"
   },
   {
    "duration": 138,
    "start_time": "2022-09-09T12:12:43.138Z"
   },
   {
    "duration": 3,
    "start_time": "2022-09-09T12:13:59.132Z"
   },
   {
    "duration": 3,
    "start_time": "2022-09-09T12:14:00.383Z"
   },
   {
    "duration": 13,
    "start_time": "2022-09-09T12:14:02.209Z"
   },
   {
    "duration": 3,
    "start_time": "2022-09-09T12:14:03.779Z"
   },
   {
    "duration": 17,
    "start_time": "2022-09-09T12:14:18.571Z"
   },
   {
    "duration": 127,
    "start_time": "2022-09-09T12:16:04.061Z"
   },
   {
    "duration": 166,
    "start_time": "2022-09-09T12:16:16.103Z"
   },
   {
    "duration": 145,
    "start_time": "2022-09-09T12:16:32.309Z"
   },
   {
    "duration": 8,
    "start_time": "2022-09-09T12:23:54.552Z"
   },
   {
    "duration": 6,
    "start_time": "2022-09-09T12:24:00.097Z"
   },
   {
    "duration": 67,
    "start_time": "2022-09-09T12:24:40.372Z"
   },
   {
    "duration": 3,
    "start_time": "2022-09-09T12:25:25.040Z"
   },
   {
    "duration": 91,
    "start_time": "2022-09-09T12:25:55.395Z"
   },
   {
    "duration": 98,
    "start_time": "2022-09-09T12:26:31.325Z"
   },
   {
    "duration": 109,
    "start_time": "2022-09-09T12:37:10.883Z"
   },
   {
    "duration": 94,
    "start_time": "2022-09-09T12:37:19.371Z"
   },
   {
    "duration": 136,
    "start_time": "2022-09-09T12:37:34.659Z"
   },
   {
    "duration": 109,
    "start_time": "2022-09-09T12:37:46.530Z"
   },
   {
    "duration": 17,
    "start_time": "2022-09-09T12:50:35.654Z"
   },
   {
    "duration": 2783,
    "start_time": "2022-09-09T12:50:47.987Z"
   },
   {
    "duration": 190,
    "start_time": "2022-09-09T12:52:51.007Z"
   },
   {
    "duration": 70,
    "start_time": "2022-09-09T12:55:24.437Z"
   },
   {
    "duration": 26,
    "start_time": "2022-09-09T12:55:29.089Z"
   },
   {
    "duration": 13,
    "start_time": "2022-09-09T12:56:51.446Z"
   },
   {
    "duration": 31,
    "start_time": "2022-09-09T12:57:44.694Z"
   },
   {
    "duration": 16,
    "start_time": "2022-09-09T12:58:41.241Z"
   },
   {
    "duration": 21,
    "start_time": "2022-09-09T12:58:55.502Z"
   },
   {
    "duration": 14,
    "start_time": "2022-09-09T13:04:41.760Z"
   },
   {
    "duration": 14,
    "start_time": "2022-09-09T13:04:46.531Z"
   },
   {
    "duration": 13,
    "start_time": "2022-09-09T13:04:50.958Z"
   },
   {
    "duration": 13,
    "start_time": "2022-09-09T13:05:01.845Z"
   },
   {
    "duration": 29,
    "start_time": "2022-09-09T13:05:09.495Z"
   },
   {
    "duration": 20,
    "start_time": "2022-09-09T13:05:29.895Z"
   },
   {
    "duration": 18,
    "start_time": "2022-09-09T13:06:29.623Z"
   },
   {
    "duration": 134,
    "start_time": "2022-09-09T13:06:54.962Z"
   },
   {
    "duration": 141,
    "start_time": "2022-09-09T13:07:02.887Z"
   },
   {
    "duration": 63,
    "start_time": "2022-09-09T13:07:42.598Z"
   },
   {
    "duration": 153,
    "start_time": "2022-09-09T13:10:23.342Z"
   },
   {
    "duration": 159,
    "start_time": "2022-09-09T13:10:32.541Z"
   },
   {
    "duration": 167,
    "start_time": "2022-09-09T13:10:46.372Z"
   },
   {
    "duration": 203,
    "start_time": "2022-09-09T13:11:44.537Z"
   },
   {
    "duration": 166,
    "start_time": "2022-09-09T13:11:53.122Z"
   },
   {
    "duration": 13,
    "start_time": "2022-09-09T13:11:58.178Z"
   },
   {
    "duration": 145,
    "start_time": "2022-09-09T13:12:02.432Z"
   },
   {
    "duration": 17,
    "start_time": "2022-09-09T13:12:46.078Z"
   },
   {
    "duration": 163,
    "start_time": "2022-09-09T13:12:54.992Z"
   },
   {
    "duration": 13,
    "start_time": "2022-09-09T13:13:05.955Z"
   },
   {
    "duration": 939,
    "start_time": "2022-09-09T13:13:09.823Z"
   },
   {
    "duration": 171,
    "start_time": "2022-09-09T13:13:17.796Z"
   },
   {
    "duration": 285,
    "start_time": "2022-09-09T13:13:29.277Z"
   },
   {
    "duration": 4,
    "start_time": "2022-09-09T13:14:44.955Z"
   },
   {
    "duration": 8,
    "start_time": "2022-09-09T13:14:45.808Z"
   },
   {
    "duration": 8,
    "start_time": "2022-09-09T13:14:47.620Z"
   },
   {
    "duration": 4,
    "start_time": "2022-09-09T13:14:48.270Z"
   },
   {
    "duration": 4,
    "start_time": "2022-09-09T13:15:00.629Z"
   },
   {
    "duration": 7,
    "start_time": "2022-09-09T13:15:04.196Z"
   },
   {
    "duration": 3,
    "start_time": "2022-09-09T13:15:14.536Z"
   },
   {
    "duration": 6,
    "start_time": "2022-09-09T13:15:16.764Z"
   },
   {
    "duration": 3,
    "start_time": "2022-09-09T13:15:17.238Z"
   },
   {
    "duration": 6,
    "start_time": "2022-09-09T13:15:27.531Z"
   },
   {
    "duration": 5,
    "start_time": "2022-09-09T13:15:33.993Z"
   },
   {
    "duration": 7,
    "start_time": "2022-09-09T13:15:54.429Z"
   },
   {
    "duration": 8,
    "start_time": "2022-09-09T13:15:56.925Z"
   },
   {
    "duration": 5,
    "start_time": "2022-09-09T13:16:00.369Z"
   },
   {
    "duration": 3,
    "start_time": "2022-09-09T13:16:00.777Z"
   },
   {
    "duration": 1285,
    "start_time": "2022-09-09T13:16:19.481Z"
   },
   {
    "duration": 74,
    "start_time": "2022-09-09T13:16:20.769Z"
   },
   {
    "duration": 12,
    "start_time": "2022-09-09T13:16:20.844Z"
   },
   {
    "duration": 26,
    "start_time": "2022-09-09T13:16:20.858Z"
   },
   {
    "duration": 18,
    "start_time": "2022-09-09T13:16:20.887Z"
   },
   {
    "duration": 21,
    "start_time": "2022-09-09T13:16:20.906Z"
   },
   {
    "duration": 26,
    "start_time": "2022-09-09T13:16:20.929Z"
   },
   {
    "duration": 651,
    "start_time": "2022-09-09T13:16:20.956Z"
   },
   {
    "duration": 14,
    "start_time": "2022-09-09T13:16:21.610Z"
   },
   {
    "duration": 26,
    "start_time": "2022-09-09T13:16:21.632Z"
   },
   {
    "duration": 17,
    "start_time": "2022-09-09T13:16:21.660Z"
   },
   {
    "duration": 9,
    "start_time": "2022-09-09T13:16:21.679Z"
   },
   {
    "duration": 15,
    "start_time": "2022-09-09T13:16:21.690Z"
   },
   {
    "duration": 27,
    "start_time": "2022-09-09T13:16:21.708Z"
   },
   {
    "duration": 6,
    "start_time": "2022-09-09T13:16:21.736Z"
   },
   {
    "duration": 6,
    "start_time": "2022-09-09T13:16:21.744Z"
   },
   {
    "duration": 13,
    "start_time": "2022-09-09T13:16:21.752Z"
   },
   {
    "duration": 15,
    "start_time": "2022-09-09T13:16:21.767Z"
   },
   {
    "duration": 272,
    "start_time": "2022-09-09T13:16:21.783Z"
   },
   {
    "duration": 7,
    "start_time": "2022-09-09T13:16:22.057Z"
   },
   {
    "duration": 16,
    "start_time": "2022-09-09T13:16:22.066Z"
   },
   {
    "duration": 156,
    "start_time": "2022-09-09T13:16:22.084Z"
   },
   {
    "duration": 131,
    "start_time": "2022-09-09T13:16:22.242Z"
   },
   {
    "duration": 204,
    "start_time": "2022-09-09T13:16:22.374Z"
   },
   {
    "duration": 120,
    "start_time": "2022-09-09T13:16:22.580Z"
   },
   {
    "duration": 22,
    "start_time": "2022-09-09T13:16:22.703Z"
   },
   {
    "duration": 11,
    "start_time": "2022-09-09T13:16:22.726Z"
   },
   {
    "duration": 10,
    "start_time": "2022-09-09T13:16:22.739Z"
   },
   {
    "duration": 9,
    "start_time": "2022-09-09T13:16:22.751Z"
   },
   {
    "duration": 14,
    "start_time": "2022-09-09T13:16:22.761Z"
   },
   {
    "duration": 5,
    "start_time": "2022-09-09T13:16:22.777Z"
   },
   {
    "duration": 138,
    "start_time": "2022-09-09T13:16:22.784Z"
   },
   {
    "duration": 122,
    "start_time": "2022-09-09T13:16:22.924Z"
   },
   {
    "duration": 129,
    "start_time": "2022-09-09T13:16:23.048Z"
   },
   {
    "duration": 145,
    "start_time": "2022-09-09T13:16:23.178Z"
   },
   {
    "duration": 2,
    "start_time": "2022-09-09T13:16:23.325Z"
   },
   {
    "duration": 125,
    "start_time": "2022-09-09T13:16:23.329Z"
   },
   {
    "duration": 110,
    "start_time": "2022-09-09T13:16:23.456Z"
   },
   {
    "duration": 158,
    "start_time": "2022-09-09T13:16:23.568Z"
   },
   {
    "duration": 101,
    "start_time": "2022-09-09T13:16:23.728Z"
   },
   {
    "duration": 2,
    "start_time": "2022-09-09T13:16:23.833Z"
   },
   {
    "duration": 12,
    "start_time": "2022-09-09T13:16:23.836Z"
   },
   {
    "duration": 75,
    "start_time": "2022-09-09T13:16:23.850Z"
   },
   {
    "duration": 25,
    "start_time": "2022-09-09T13:16:23.927Z"
   },
   {
    "duration": 145,
    "start_time": "2022-09-09T13:16:23.953Z"
   },
   {
    "duration": 139,
    "start_time": "2022-09-09T13:16:24.101Z"
   },
   {
    "duration": 218,
    "start_time": "2022-09-09T13:16:24.242Z"
   },
   {
    "duration": 181,
    "start_time": "2022-09-09T13:16:24.462Z"
   },
   {
    "duration": 21,
    "start_time": "2022-09-09T13:16:24.645Z"
   },
   {
    "duration": 18,
    "start_time": "2022-09-09T13:16:24.668Z"
   },
   {
    "duration": 2948,
    "start_time": "2022-09-09T13:16:24.688Z"
   },
   {
    "duration": 195,
    "start_time": "2022-09-09T13:16:27.638Z"
   },
   {
    "duration": 13,
    "start_time": "2022-09-09T13:16:27.835Z"
   },
   {
    "duration": 21,
    "start_time": "2022-09-09T13:16:27.849Z"
   },
   {
    "duration": 300,
    "start_time": "2022-09-09T13:16:27.871Z"
   },
   {
    "duration": 174,
    "start_time": "2022-09-09T13:16:28.176Z"
   },
   {
    "duration": 130,
    "start_time": "2022-09-09T13:16:28.352Z"
   },
   {
    "duration": 168,
    "start_time": "2022-09-09T13:16:28.484Z"
   },
   {
    "duration": 173,
    "start_time": "2022-09-09T13:16:28.654Z"
   },
   {
    "duration": 143,
    "start_time": "2022-09-09T13:16:28.829Z"
   },
   {
    "duration": 161,
    "start_time": "2022-09-09T13:16:28.974Z"
   },
   {
    "duration": 167,
    "start_time": "2022-09-09T13:16:29.137Z"
   },
   {
    "duration": 138,
    "start_time": "2022-09-09T13:16:29.309Z"
   },
   {
    "duration": 3,
    "start_time": "2022-09-09T13:16:29.449Z"
   },
   {
    "duration": 10,
    "start_time": "2022-09-09T13:16:29.453Z"
   },
   {
    "duration": 23,
    "start_time": "2022-09-09T13:16:29.464Z"
   },
   {
    "duration": 10,
    "start_time": "2022-09-09T13:16:29.488Z"
   },
   {
    "duration": 9,
    "start_time": "2022-09-09T13:16:29.499Z"
   },
   {
    "duration": 7,
    "start_time": "2022-09-09T13:16:29.524Z"
   },
   {
    "duration": 4,
    "start_time": "2022-09-09T13:16:29.532Z"
   },
   {
    "duration": 36,
    "start_time": "2022-09-09T13:16:54.593Z"
   },
   {
    "duration": 6,
    "start_time": "2022-09-09T13:17:46.782Z"
   },
   {
    "duration": 16,
    "start_time": "2022-09-09T13:17:49.536Z"
   },
   {
    "duration": 2,
    "start_time": "2022-09-09T13:18:01.133Z"
   },
   {
    "duration": 21,
    "start_time": "2022-09-09T13:18:05.075Z"
   },
   {
    "duration": 1189,
    "start_time": "2022-09-09T13:20:01.438Z"
   },
   {
    "duration": 69,
    "start_time": "2022-09-09T13:20:02.629Z"
   },
   {
    "duration": 27,
    "start_time": "2022-09-09T13:20:02.699Z"
   },
   {
    "duration": 17,
    "start_time": "2022-09-09T13:20:02.728Z"
   },
   {
    "duration": 23,
    "start_time": "2022-09-09T13:20:02.747Z"
   },
   {
    "duration": 9,
    "start_time": "2022-09-09T13:20:02.772Z"
   },
   {
    "duration": 23,
    "start_time": "2022-09-09T13:20:02.782Z"
   },
   {
    "duration": 694,
    "start_time": "2022-09-09T13:20:02.806Z"
   },
   {
    "duration": 7,
    "start_time": "2022-09-09T13:20:03.502Z"
   },
   {
    "duration": 34,
    "start_time": "2022-09-09T13:20:03.510Z"
   },
   {
    "duration": 13,
    "start_time": "2022-09-09T13:20:03.545Z"
   },
   {
    "duration": 5,
    "start_time": "2022-09-09T13:20:03.560Z"
   },
   {
    "duration": 17,
    "start_time": "2022-09-09T13:20:03.567Z"
   },
   {
    "duration": 10,
    "start_time": "2022-09-09T13:20:03.587Z"
   },
   {
    "duration": 36,
    "start_time": "2022-09-09T13:20:03.598Z"
   },
   {
    "duration": 27,
    "start_time": "2022-09-09T13:20:03.635Z"
   },
   {
    "duration": 15,
    "start_time": "2022-09-09T13:20:03.664Z"
   },
   {
    "duration": 9,
    "start_time": "2022-09-09T13:20:03.680Z"
   },
   {
    "duration": 249,
    "start_time": "2022-09-09T13:20:03.691Z"
   },
   {
    "duration": 7,
    "start_time": "2022-09-09T13:20:03.941Z"
   },
   {
    "duration": 18,
    "start_time": "2022-09-09T13:20:03.949Z"
   },
   {
    "duration": 125,
    "start_time": "2022-09-09T13:20:03.968Z"
   },
   {
    "duration": 157,
    "start_time": "2022-09-09T13:20:04.095Z"
   },
   {
    "duration": 212,
    "start_time": "2022-09-09T13:20:04.253Z"
   },
   {
    "duration": 149,
    "start_time": "2022-09-09T13:20:04.467Z"
   },
   {
    "duration": 22,
    "start_time": "2022-09-09T13:20:04.617Z"
   },
   {
    "duration": 75,
    "start_time": "2022-09-09T13:20:04.641Z"
   },
   {
    "duration": 58,
    "start_time": "2022-09-09T13:20:04.718Z"
   },
   {
    "duration": 28,
    "start_time": "2022-09-09T13:20:04.778Z"
   },
   {
    "duration": 47,
    "start_time": "2022-09-09T13:20:04.808Z"
   },
   {
    "duration": 25,
    "start_time": "2022-09-09T13:20:04.857Z"
   },
   {
    "duration": 171,
    "start_time": "2022-09-09T13:20:04.884Z"
   },
   {
    "duration": 142,
    "start_time": "2022-09-09T13:20:05.056Z"
   },
   {
    "duration": 148,
    "start_time": "2022-09-09T13:20:05.199Z"
   },
   {
    "duration": 158,
    "start_time": "2022-09-09T13:20:05.349Z"
   },
   {
    "duration": 9,
    "start_time": "2022-09-09T13:20:05.519Z"
   },
   {
    "duration": 131,
    "start_time": "2022-09-09T13:20:05.529Z"
   },
   {
    "duration": 125,
    "start_time": "2022-09-09T13:20:05.662Z"
   },
   {
    "duration": 112,
    "start_time": "2022-09-09T13:20:05.788Z"
   },
   {
    "duration": 129,
    "start_time": "2022-09-09T13:20:05.902Z"
   },
   {
    "duration": 2,
    "start_time": "2022-09-09T13:20:06.035Z"
   },
   {
    "duration": 23,
    "start_time": "2022-09-09T13:20:06.039Z"
   },
   {
    "duration": 20,
    "start_time": "2022-09-09T13:20:06.064Z"
   },
   {
    "duration": 42,
    "start_time": "2022-09-09T13:20:06.085Z"
   },
   {
    "duration": 152,
    "start_time": "2022-09-09T13:20:06.129Z"
   },
   {
    "duration": 151,
    "start_time": "2022-09-09T13:20:06.283Z"
   },
   {
    "duration": 233,
    "start_time": "2022-09-09T13:20:06.436Z"
   },
   {
    "duration": 173,
    "start_time": "2022-09-09T13:20:06.671Z"
   },
   {
    "duration": 16,
    "start_time": "2022-09-09T13:20:06.846Z"
   },
   {
    "duration": 43,
    "start_time": "2022-09-09T13:20:06.863Z"
   },
   {
    "duration": 2939,
    "start_time": "2022-09-09T13:20:06.909Z"
   },
   {
    "duration": 181,
    "start_time": "2022-09-09T13:20:09.850Z"
   },
   {
    "duration": 17,
    "start_time": "2022-09-09T13:20:10.034Z"
   },
   {
    "duration": 20,
    "start_time": "2022-09-09T13:20:10.052Z"
   },
   {
    "duration": 302,
    "start_time": "2022-09-09T13:20:10.074Z"
   },
   {
    "duration": 186,
    "start_time": "2022-09-09T13:20:10.378Z"
   },
   {
    "duration": 134,
    "start_time": "2022-09-09T13:20:10.565Z"
   },
   {
    "duration": 179,
    "start_time": "2022-09-09T13:20:10.701Z"
   },
   {
    "duration": 159,
    "start_time": "2022-09-09T13:20:10.881Z"
   },
   {
    "duration": 161,
    "start_time": "2022-09-09T13:20:11.041Z"
   },
   {
    "duration": 163,
    "start_time": "2022-09-09T13:20:11.215Z"
   },
   {
    "duration": 169,
    "start_time": "2022-09-09T13:20:11.380Z"
   },
   {
    "duration": 164,
    "start_time": "2022-09-09T13:20:11.551Z"
   },
   {
    "duration": 7,
    "start_time": "2022-09-09T13:20:11.716Z"
   },
   {
    "duration": 20,
    "start_time": "2022-09-09T13:20:11.728Z"
   },
   {
    "duration": 10,
    "start_time": "2022-09-09T13:20:11.750Z"
   },
   {
    "duration": 6,
    "start_time": "2022-09-09T13:20:11.762Z"
   },
   {
    "duration": 78,
    "start_time": "2022-09-09T13:20:11.769Z"
   },
   {
    "duration": 23,
    "start_time": "2022-09-09T13:20:11.848Z"
   },
   {
    "duration": 19,
    "start_time": "2022-09-09T13:20:11.872Z"
   },
   {
    "duration": 137,
    "start_time": "2022-09-09T13:20:11.893Z"
   },
   {
    "duration": 0,
    "start_time": "2022-09-09T13:20:12.033Z"
   },
   {
    "duration": 6,
    "start_time": "2022-09-09T13:20:33.482Z"
   },
   {
    "duration": 22,
    "start_time": "2022-09-09T13:20:35.839Z"
   },
   {
    "duration": 1121,
    "start_time": "2022-09-09T13:20:51.961Z"
   },
   {
    "duration": 70,
    "start_time": "2022-09-09T13:20:53.084Z"
   },
   {
    "duration": 11,
    "start_time": "2022-09-09T13:20:53.155Z"
   },
   {
    "duration": 15,
    "start_time": "2022-09-09T13:20:53.168Z"
   },
   {
    "duration": 34,
    "start_time": "2022-09-09T13:20:53.185Z"
   },
   {
    "duration": 11,
    "start_time": "2022-09-09T13:20:53.221Z"
   },
   {
    "duration": 15,
    "start_time": "2022-09-09T13:20:53.233Z"
   },
   {
    "duration": 535,
    "start_time": "2022-09-09T13:20:53.250Z"
   },
   {
    "duration": 3,
    "start_time": "2022-09-09T13:20:53.787Z"
   },
   {
    "duration": 28,
    "start_time": "2022-09-09T13:20:53.792Z"
   },
   {
    "duration": 10,
    "start_time": "2022-09-09T13:20:53.821Z"
   },
   {
    "duration": 13,
    "start_time": "2022-09-09T13:20:53.832Z"
   },
   {
    "duration": 9,
    "start_time": "2022-09-09T13:20:53.846Z"
   },
   {
    "duration": 2,
    "start_time": "2022-09-09T13:20:53.858Z"
   },
   {
    "duration": 18,
    "start_time": "2022-09-09T13:20:53.862Z"
   },
   {
    "duration": 7,
    "start_time": "2022-09-09T13:20:53.882Z"
   },
   {
    "duration": 6,
    "start_time": "2022-09-09T13:20:53.891Z"
   },
   {
    "duration": 27,
    "start_time": "2022-09-09T13:20:53.898Z"
   },
   {
    "duration": 222,
    "start_time": "2022-09-09T13:20:53.926Z"
   },
   {
    "duration": 6,
    "start_time": "2022-09-09T13:20:54.149Z"
   },
   {
    "duration": 15,
    "start_time": "2022-09-09T13:20:54.156Z"
   },
   {
    "duration": 126,
    "start_time": "2022-09-09T13:20:54.172Z"
   },
   {
    "duration": 130,
    "start_time": "2022-09-09T13:20:54.308Z"
   },
   {
    "duration": 256,
    "start_time": "2022-09-09T13:20:54.440Z"
   },
   {
    "duration": 130,
    "start_time": "2022-09-09T13:20:54.698Z"
   },
   {
    "duration": 7,
    "start_time": "2022-09-09T13:20:54.829Z"
   },
   {
    "duration": 5,
    "start_time": "2022-09-09T13:20:54.837Z"
   },
   {
    "duration": 14,
    "start_time": "2022-09-09T13:20:54.844Z"
   },
   {
    "duration": 7,
    "start_time": "2022-09-09T13:20:54.859Z"
   },
   {
    "duration": 11,
    "start_time": "2022-09-09T13:20:54.867Z"
   },
   {
    "duration": 35,
    "start_time": "2022-09-09T13:20:54.880Z"
   },
   {
    "duration": 130,
    "start_time": "2022-09-09T13:20:54.916Z"
   },
   {
    "duration": 118,
    "start_time": "2022-09-09T13:20:55.048Z"
   },
   {
    "duration": 129,
    "start_time": "2022-09-09T13:20:55.168Z"
   },
   {
    "duration": 138,
    "start_time": "2022-09-09T13:20:55.298Z"
   },
   {
    "duration": 5,
    "start_time": "2022-09-09T13:20:55.437Z"
   },
   {
    "duration": 115,
    "start_time": "2022-09-09T13:20:55.443Z"
   },
   {
    "duration": 114,
    "start_time": "2022-09-09T13:20:55.560Z"
   },
   {
    "duration": 124,
    "start_time": "2022-09-09T13:20:55.676Z"
   },
   {
    "duration": 101,
    "start_time": "2022-09-09T13:20:55.802Z"
   },
   {
    "duration": 5,
    "start_time": "2022-09-09T13:20:55.917Z"
   },
   {
    "duration": 14,
    "start_time": "2022-09-09T13:20:55.923Z"
   },
   {
    "duration": 9,
    "start_time": "2022-09-09T13:20:55.939Z"
   },
   {
    "duration": 4,
    "start_time": "2022-09-09T13:20:55.950Z"
   },
   {
    "duration": 126,
    "start_time": "2022-09-09T13:20:55.955Z"
   },
   {
    "duration": 150,
    "start_time": "2022-09-09T13:20:56.082Z"
   },
   {
    "duration": 207,
    "start_time": "2022-09-09T13:20:56.234Z"
   },
   {
    "duration": 156,
    "start_time": "2022-09-09T13:20:56.443Z"
   },
   {
    "duration": 24,
    "start_time": "2022-09-09T13:20:56.601Z"
   },
   {
    "duration": 15,
    "start_time": "2022-09-09T13:20:56.627Z"
   },
   {
    "duration": 2720,
    "start_time": "2022-09-09T13:20:56.644Z"
   },
   {
    "duration": 177,
    "start_time": "2022-09-09T13:20:59.366Z"
   },
   {
    "duration": 13,
    "start_time": "2022-09-09T13:20:59.545Z"
   },
   {
    "duration": 18,
    "start_time": "2022-09-09T13:20:59.559Z"
   },
   {
    "duration": 268,
    "start_time": "2022-09-09T13:20:59.578Z"
   },
   {
    "duration": 155,
    "start_time": "2022-09-09T13:20:59.848Z"
   },
   {
    "duration": 137,
    "start_time": "2022-09-09T13:21:00.008Z"
   },
   {
    "duration": 172,
    "start_time": "2022-09-09T13:21:00.147Z"
   },
   {
    "duration": 165,
    "start_time": "2022-09-09T13:21:00.320Z"
   },
   {
    "duration": 148,
    "start_time": "2022-09-09T13:21:00.487Z"
   },
   {
    "duration": 160,
    "start_time": "2022-09-09T13:21:00.637Z"
   },
   {
    "duration": 173,
    "start_time": "2022-09-09T13:21:00.799Z"
   },
   {
    "duration": 150,
    "start_time": "2022-09-09T13:21:00.973Z"
   },
   {
    "duration": 8,
    "start_time": "2022-09-09T13:21:01.125Z"
   },
   {
    "duration": 58,
    "start_time": "2022-09-09T13:21:01.135Z"
   },
   {
    "duration": 62,
    "start_time": "2022-09-09T13:21:01.195Z"
   },
   {
    "duration": 19,
    "start_time": "2022-09-09T13:21:01.258Z"
   },
   {
    "duration": 67,
    "start_time": "2022-09-09T13:21:01.279Z"
   },
   {
    "duration": 6,
    "start_time": "2022-09-09T13:21:01.348Z"
   },
   {
    "duration": 50,
    "start_time": "2022-09-09T13:21:01.356Z"
   },
   {
    "duration": 76,
    "start_time": "2022-09-09T13:21:01.407Z"
   },
   {
    "duration": 36,
    "start_time": "2022-09-09T13:21:01.485Z"
   },
   {
    "duration": 7,
    "start_time": "2022-09-09T13:21:34.390Z"
   },
   {
    "duration": 24,
    "start_time": "2022-09-09T13:21:36.763Z"
   },
   {
    "duration": 18,
    "start_time": "2022-09-09T13:21:39.007Z"
   },
   {
    "duration": 6,
    "start_time": "2022-09-09T13:21:42.524Z"
   },
   {
    "duration": 28,
    "start_time": "2022-09-09T13:21:44.994Z"
   },
   {
    "duration": 3,
    "start_time": "2022-09-09T13:21:57.822Z"
   },
   {
    "duration": 101,
    "start_time": "2022-09-09T13:21:57.827Z"
   },
   {
    "duration": 12,
    "start_time": "2022-09-09T13:21:57.929Z"
   },
   {
    "duration": 19,
    "start_time": "2022-09-09T13:21:57.943Z"
   },
   {
    "duration": 18,
    "start_time": "2022-09-09T13:21:57.964Z"
   },
   {
    "duration": 8,
    "start_time": "2022-09-09T13:21:57.983Z"
   },
   {
    "duration": 26,
    "start_time": "2022-09-09T13:21:57.993Z"
   },
   {
    "duration": 605,
    "start_time": "2022-09-09T13:21:58.024Z"
   },
   {
    "duration": 3,
    "start_time": "2022-09-09T13:21:58.630Z"
   },
   {
    "duration": 24,
    "start_time": "2022-09-09T13:21:58.635Z"
   },
   {
    "duration": 10,
    "start_time": "2022-09-09T13:21:58.661Z"
   },
   {
    "duration": 11,
    "start_time": "2022-09-09T13:21:58.673Z"
   },
   {
    "duration": 10,
    "start_time": "2022-09-09T13:21:58.685Z"
   },
   {
    "duration": 2,
    "start_time": "2022-09-09T13:21:58.698Z"
   },
   {
    "duration": 7,
    "start_time": "2022-09-09T13:21:58.701Z"
   },
   {
    "duration": 23,
    "start_time": "2022-09-09T13:21:58.709Z"
   },
   {
    "duration": 6,
    "start_time": "2022-09-09T13:21:58.733Z"
   },
   {
    "duration": 19,
    "start_time": "2022-09-09T13:21:58.740Z"
   },
   {
    "duration": 216,
    "start_time": "2022-09-09T13:21:58.760Z"
   },
   {
    "duration": 8,
    "start_time": "2022-09-09T13:21:58.978Z"
   },
   {
    "duration": 27,
    "start_time": "2022-09-09T13:21:58.988Z"
   },
   {
    "duration": 118,
    "start_time": "2022-09-09T13:21:59.016Z"
   },
   {
    "duration": 117,
    "start_time": "2022-09-09T13:21:59.136Z"
   },
   {
    "duration": 131,
    "start_time": "2022-09-09T13:21:59.255Z"
   },
   {
    "duration": 115,
    "start_time": "2022-09-09T13:21:59.387Z"
   },
   {
    "duration": 9,
    "start_time": "2022-09-09T13:21:59.514Z"
   },
   {
    "duration": 14,
    "start_time": "2022-09-09T13:21:59.524Z"
   },
   {
    "duration": 16,
    "start_time": "2022-09-09T13:21:59.540Z"
   },
   {
    "duration": 7,
    "start_time": "2022-09-09T13:21:59.558Z"
   },
   {
    "duration": 12,
    "start_time": "2022-09-09T13:21:59.567Z"
   },
   {
    "duration": 5,
    "start_time": "2022-09-09T13:21:59.580Z"
   },
   {
    "duration": 141,
    "start_time": "2022-09-09T13:21:59.586Z"
   },
   {
    "duration": 118,
    "start_time": "2022-09-09T13:21:59.729Z"
   },
   {
    "duration": 134,
    "start_time": "2022-09-09T13:21:59.849Z"
   },
   {
    "duration": 144,
    "start_time": "2022-09-09T13:21:59.985Z"
   },
   {
    "duration": 2,
    "start_time": "2022-09-09T13:22:00.131Z"
   },
   {
    "duration": 233,
    "start_time": "2022-09-09T13:22:00.135Z"
   },
   {
    "duration": 138,
    "start_time": "2022-09-09T13:22:00.370Z"
   },
   {
    "duration": 120,
    "start_time": "2022-09-09T13:22:00.512Z"
   },
   {
    "duration": 116,
    "start_time": "2022-09-09T13:22:00.634Z"
   },
   {
    "duration": 3,
    "start_time": "2022-09-09T13:22:00.754Z"
   },
   {
    "duration": 38,
    "start_time": "2022-09-09T13:22:00.759Z"
   },
   {
    "duration": 64,
    "start_time": "2022-09-09T13:22:00.799Z"
   },
   {
    "duration": 19,
    "start_time": "2022-09-09T13:22:00.864Z"
   },
   {
    "duration": 163,
    "start_time": "2022-09-09T13:22:00.885Z"
   },
   {
    "duration": 153,
    "start_time": "2022-09-09T13:22:01.050Z"
   },
   {
    "duration": 155,
    "start_time": "2022-09-09T13:22:01.204Z"
   },
   {
    "duration": 166,
    "start_time": "2022-09-09T13:22:01.361Z"
   },
   {
    "duration": 21,
    "start_time": "2022-09-09T13:22:01.531Z"
   },
   {
    "duration": 12,
    "start_time": "2022-09-09T13:22:01.554Z"
   },
   {
    "duration": 2761,
    "start_time": "2022-09-09T13:22:01.567Z"
   },
   {
    "duration": 215,
    "start_time": "2022-09-09T13:22:04.330Z"
   },
   {
    "duration": 17,
    "start_time": "2022-09-09T13:22:04.547Z"
   },
   {
    "duration": 38,
    "start_time": "2022-09-09T13:22:04.565Z"
   },
   {
    "duration": 221,
    "start_time": "2022-09-09T13:22:04.605Z"
   },
   {
    "duration": 174,
    "start_time": "2022-09-09T13:22:04.828Z"
   },
   {
    "duration": 139,
    "start_time": "2022-09-09T13:22:05.003Z"
   },
   {
    "duration": 180,
    "start_time": "2022-09-09T13:22:05.143Z"
   },
   {
    "duration": 156,
    "start_time": "2022-09-09T13:22:05.330Z"
   },
   {
    "duration": 144,
    "start_time": "2022-09-09T13:22:05.487Z"
   },
   {
    "duration": 165,
    "start_time": "2022-09-09T13:22:05.633Z"
   },
   {
    "duration": 162,
    "start_time": "2022-09-09T13:22:05.815Z"
   },
   {
    "duration": 147,
    "start_time": "2022-09-09T13:22:05.978Z"
   },
   {
    "duration": 7,
    "start_time": "2022-09-09T13:22:06.126Z"
   },
   {
    "duration": 21,
    "start_time": "2022-09-09T13:22:06.134Z"
   },
   {
    "duration": 20,
    "start_time": "2022-09-09T13:22:06.157Z"
   },
   {
    "duration": 12,
    "start_time": "2022-09-09T13:22:06.182Z"
   },
   {
    "duration": 66,
    "start_time": "2022-09-09T13:22:06.195Z"
   },
   {
    "duration": 17,
    "start_time": "2022-09-09T13:22:06.264Z"
   },
   {
    "duration": 15,
    "start_time": "2022-09-09T13:22:06.283Z"
   },
   {
    "duration": 27,
    "start_time": "2022-09-09T13:22:06.300Z"
   },
   {
    "duration": 21,
    "start_time": "2022-09-09T13:22:06.328Z"
   },
   {
    "duration": 4,
    "start_time": "2022-09-09T13:22:43.770Z"
   },
   {
    "duration": 7,
    "start_time": "2022-09-09T13:22:46.355Z"
   },
   {
    "duration": 20,
    "start_time": "2022-09-09T13:22:48.663Z"
   },
   {
    "duration": 7,
    "start_time": "2022-09-09T13:22:52.069Z"
   },
   {
    "duration": 4,
    "start_time": "2022-09-09T13:22:53.421Z"
   },
   {
    "duration": 1297,
    "start_time": "2022-09-09T13:23:14.250Z"
   },
   {
    "duration": 74,
    "start_time": "2022-09-09T13:23:15.549Z"
   },
   {
    "duration": 15,
    "start_time": "2022-09-09T13:23:15.624Z"
   },
   {
    "duration": 15,
    "start_time": "2022-09-09T13:23:15.641Z"
   },
   {
    "duration": 15,
    "start_time": "2022-09-09T13:23:15.659Z"
   },
   {
    "duration": 8,
    "start_time": "2022-09-09T13:23:15.676Z"
   },
   {
    "duration": 50,
    "start_time": "2022-09-09T13:23:15.685Z"
   },
   {
    "duration": 595,
    "start_time": "2022-09-09T13:23:15.736Z"
   },
   {
    "duration": 3,
    "start_time": "2022-09-09T13:23:16.333Z"
   },
   {
    "duration": 34,
    "start_time": "2022-09-09T13:23:16.337Z"
   },
   {
    "duration": 16,
    "start_time": "2022-09-09T13:23:16.373Z"
   },
   {
    "duration": 20,
    "start_time": "2022-09-09T13:23:16.391Z"
   },
   {
    "duration": 27,
    "start_time": "2022-09-09T13:23:16.415Z"
   },
   {
    "duration": 4,
    "start_time": "2022-09-09T13:23:16.445Z"
   },
   {
    "duration": 11,
    "start_time": "2022-09-09T13:23:16.451Z"
   },
   {
    "duration": 5,
    "start_time": "2022-09-09T13:23:16.464Z"
   },
   {
    "duration": 17,
    "start_time": "2022-09-09T13:23:16.471Z"
   },
   {
    "duration": 11,
    "start_time": "2022-09-09T13:23:16.489Z"
   },
   {
    "duration": 255,
    "start_time": "2022-09-09T13:23:16.502Z"
   },
   {
    "duration": 6,
    "start_time": "2022-09-09T13:23:16.759Z"
   },
   {
    "duration": 24,
    "start_time": "2022-09-09T13:23:16.766Z"
   },
   {
    "duration": 124,
    "start_time": "2022-09-09T13:23:16.791Z"
   },
   {
    "duration": 129,
    "start_time": "2022-09-09T13:23:16.916Z"
   },
   {
    "duration": 197,
    "start_time": "2022-09-09T13:23:17.047Z"
   },
   {
    "duration": 140,
    "start_time": "2022-09-09T13:23:17.246Z"
   },
   {
    "duration": 6,
    "start_time": "2022-09-09T13:23:17.388Z"
   },
   {
    "duration": 39,
    "start_time": "2022-09-09T13:23:17.395Z"
   },
   {
    "duration": 17,
    "start_time": "2022-09-09T13:23:17.435Z"
   },
   {
    "duration": 16,
    "start_time": "2022-09-09T13:23:17.454Z"
   },
   {
    "duration": 24,
    "start_time": "2022-09-09T13:23:17.472Z"
   },
   {
    "duration": 28,
    "start_time": "2022-09-09T13:23:17.498Z"
   },
   {
    "duration": 122,
    "start_time": "2022-09-09T13:23:17.527Z"
   },
   {
    "duration": 132,
    "start_time": "2022-09-09T13:23:17.651Z"
   },
   {
    "duration": 119,
    "start_time": "2022-09-09T13:23:17.785Z"
   },
   {
    "duration": 138,
    "start_time": "2022-09-09T13:23:17.905Z"
   },
   {
    "duration": 2,
    "start_time": "2022-09-09T13:23:18.045Z"
   },
   {
    "duration": 129,
    "start_time": "2022-09-09T13:23:18.048Z"
   },
   {
    "duration": 111,
    "start_time": "2022-09-09T13:23:18.179Z"
   },
   {
    "duration": 111,
    "start_time": "2022-09-09T13:23:18.291Z"
   },
   {
    "duration": 89,
    "start_time": "2022-09-09T13:23:18.415Z"
   },
   {
    "duration": 13,
    "start_time": "2022-09-09T13:23:18.509Z"
   },
   {
    "duration": 9,
    "start_time": "2022-09-09T13:23:18.524Z"
   },
   {
    "duration": 7,
    "start_time": "2022-09-09T13:23:18.534Z"
   },
   {
    "duration": 8,
    "start_time": "2022-09-09T13:23:18.542Z"
   },
   {
    "duration": 142,
    "start_time": "2022-09-09T13:23:18.552Z"
   },
   {
    "duration": 135,
    "start_time": "2022-09-09T13:23:18.696Z"
   },
   {
    "duration": 217,
    "start_time": "2022-09-09T13:23:18.833Z"
   },
   {
    "duration": 135,
    "start_time": "2022-09-09T13:23:19.051Z"
   },
   {
    "duration": 27,
    "start_time": "2022-09-09T13:23:19.188Z"
   },
   {
    "duration": 27,
    "start_time": "2022-09-09T13:23:19.216Z"
   },
   {
    "duration": 2819,
    "start_time": "2022-09-09T13:23:19.245Z"
   },
   {
    "duration": 176,
    "start_time": "2022-09-09T13:23:22.065Z"
   },
   {
    "duration": 13,
    "start_time": "2022-09-09T13:23:22.242Z"
   },
   {
    "duration": 15,
    "start_time": "2022-09-09T13:23:22.256Z"
   },
   {
    "duration": 272,
    "start_time": "2022-09-09T13:23:22.273Z"
   },
   {
    "duration": 160,
    "start_time": "2022-09-09T13:23:22.546Z"
   },
   {
    "duration": 132,
    "start_time": "2022-09-09T13:23:22.709Z"
   },
   {
    "duration": 159,
    "start_time": "2022-09-09T13:23:22.843Z"
   },
   {
    "duration": 178,
    "start_time": "2022-09-09T13:23:23.004Z"
   },
   {
    "duration": 189,
    "start_time": "2022-09-09T13:23:23.184Z"
   },
   {
    "duration": 185,
    "start_time": "2022-09-09T13:23:23.375Z"
   },
   {
    "duration": 168,
    "start_time": "2022-09-09T13:23:23.561Z"
   },
   {
    "duration": 144,
    "start_time": "2022-09-09T13:23:23.731Z"
   },
   {
    "duration": 4,
    "start_time": "2022-09-09T13:23:23.876Z"
   },
   {
    "duration": 18,
    "start_time": "2022-09-09T13:23:23.881Z"
   },
   {
    "duration": 22,
    "start_time": "2022-09-09T13:23:23.901Z"
   },
   {
    "duration": 5,
    "start_time": "2022-09-09T13:23:23.925Z"
   },
   {
    "duration": 25,
    "start_time": "2022-09-09T13:23:23.932Z"
   },
   {
    "duration": 8,
    "start_time": "2022-09-09T13:23:23.959Z"
   },
   {
    "duration": 6,
    "start_time": "2022-09-09T13:23:23.968Z"
   },
   {
    "duration": 7,
    "start_time": "2022-09-09T13:23:23.975Z"
   },
   {
    "duration": 5,
    "start_time": "2022-09-09T13:23:23.983Z"
   },
   {
    "duration": 7,
    "start_time": "2022-09-09T13:24:59.604Z"
   },
   {
    "duration": 3,
    "start_time": "2022-09-09T13:25:00.260Z"
   },
   {
    "duration": 26,
    "start_time": "2022-09-09T13:25:24.604Z"
   },
   {
    "duration": 7,
    "start_time": "2022-09-09T13:40:06.078Z"
   },
   {
    "duration": 10,
    "start_time": "2022-09-09T13:40:06.509Z"
   },
   {
    "duration": 7,
    "start_time": "2022-09-09T13:40:09.355Z"
   },
   {
    "duration": 4,
    "start_time": "2022-09-09T13:40:09.768Z"
   },
   {
    "duration": 6,
    "start_time": "2022-09-09T13:40:21.345Z"
   },
   {
    "duration": 4,
    "start_time": "2022-09-09T13:40:23.753Z"
   },
   {
    "duration": 1171,
    "start_time": "2022-09-09T14:41:40.115Z"
   },
   {
    "duration": 69,
    "start_time": "2022-09-09T14:41:41.288Z"
   },
   {
    "duration": 11,
    "start_time": "2022-09-09T14:41:41.359Z"
   },
   {
    "duration": 224,
    "start_time": "2022-09-09T14:41:41.372Z"
   },
   {
    "duration": 16,
    "start_time": "2022-09-09T14:41:41.598Z"
   },
   {
    "duration": 7,
    "start_time": "2022-09-09T14:41:41.616Z"
   },
   {
    "duration": 15,
    "start_time": "2022-09-09T14:41:41.624Z"
   },
   {
    "duration": 532,
    "start_time": "2022-09-09T14:41:41.640Z"
   },
   {
    "duration": 3,
    "start_time": "2022-09-09T14:41:42.173Z"
   },
   {
    "duration": 23,
    "start_time": "2022-09-09T14:41:42.178Z"
   },
   {
    "duration": 9,
    "start_time": "2022-09-09T14:41:42.211Z"
   },
   {
    "duration": 7,
    "start_time": "2022-09-09T14:41:42.222Z"
   },
   {
    "duration": 12,
    "start_time": "2022-09-09T14:41:42.231Z"
   },
   {
    "duration": 3,
    "start_time": "2022-09-09T14:41:42.245Z"
   },
   {
    "duration": 6,
    "start_time": "2022-09-09T14:41:42.249Z"
   },
   {
    "duration": 12,
    "start_time": "2022-09-09T14:41:42.256Z"
   },
   {
    "duration": 6,
    "start_time": "2022-09-09T14:41:42.270Z"
   },
   {
    "duration": 9,
    "start_time": "2022-09-09T14:41:42.278Z"
   },
   {
    "duration": 245,
    "start_time": "2022-09-09T14:41:42.289Z"
   },
   {
    "duration": 7,
    "start_time": "2022-09-09T14:41:42.536Z"
   },
   {
    "duration": 20,
    "start_time": "2022-09-09T14:41:42.545Z"
   },
   {
    "duration": 116,
    "start_time": "2022-09-09T14:41:42.567Z"
   },
   {
    "duration": 118,
    "start_time": "2022-09-09T14:41:42.685Z"
   },
   {
    "duration": 181,
    "start_time": "2022-09-09T14:41:42.805Z"
   },
   {
    "duration": 159,
    "start_time": "2022-09-09T14:41:42.988Z"
   },
   {
    "duration": 5,
    "start_time": "2022-09-09T14:41:43.149Z"
   },
   {
    "duration": 6,
    "start_time": "2022-09-09T14:41:43.156Z"
   },
   {
    "duration": 11,
    "start_time": "2022-09-09T14:41:43.166Z"
   },
   {
    "duration": 14,
    "start_time": "2022-09-09T14:41:43.178Z"
   },
   {
    "duration": 21,
    "start_time": "2022-09-09T14:41:43.193Z"
   },
   {
    "duration": 6,
    "start_time": "2022-09-09T14:41:43.215Z"
   },
   {
    "duration": 125,
    "start_time": "2022-09-09T14:41:43.222Z"
   },
   {
    "duration": 129,
    "start_time": "2022-09-09T14:41:43.349Z"
   },
   {
    "duration": 120,
    "start_time": "2022-09-09T14:41:43.480Z"
   },
   {
    "duration": 125,
    "start_time": "2022-09-09T14:41:43.602Z"
   },
   {
    "duration": 3,
    "start_time": "2022-09-09T14:41:43.728Z"
   },
   {
    "duration": 107,
    "start_time": "2022-09-09T14:41:43.733Z"
   },
   {
    "duration": 108,
    "start_time": "2022-09-09T14:41:43.841Z"
   },
   {
    "duration": 107,
    "start_time": "2022-09-09T14:41:43.950Z"
   },
   {
    "duration": 98,
    "start_time": "2022-09-09T14:41:44.058Z"
   },
   {
    "duration": 2,
    "start_time": "2022-09-09T14:41:44.158Z"
   },
   {
    "duration": 6,
    "start_time": "2022-09-09T14:41:44.161Z"
   },
   {
    "duration": 4,
    "start_time": "2022-09-09T14:41:44.168Z"
   },
   {
    "duration": 5,
    "start_time": "2022-09-09T14:41:44.173Z"
   },
   {
    "duration": 131,
    "start_time": "2022-09-09T14:41:44.180Z"
   },
   {
    "duration": 165,
    "start_time": "2022-09-09T14:41:44.312Z"
   },
   {
    "duration": 243,
    "start_time": "2022-09-09T14:41:44.479Z"
   },
   {
    "duration": 152,
    "start_time": "2022-09-09T14:41:44.724Z"
   },
   {
    "duration": 15,
    "start_time": "2022-09-09T14:41:44.878Z"
   },
   {
    "duration": 24,
    "start_time": "2022-09-09T14:41:44.894Z"
   },
   {
    "duration": 2676,
    "start_time": "2022-09-09T14:41:44.920Z"
   },
   {
    "duration": 184,
    "start_time": "2022-09-09T14:41:47.598Z"
   },
   {
    "duration": 13,
    "start_time": "2022-09-09T14:41:47.784Z"
   },
   {
    "duration": 15,
    "start_time": "2022-09-09T14:41:47.808Z"
   },
   {
    "duration": 251,
    "start_time": "2022-09-09T14:41:47.824Z"
   },
   {
    "duration": 148,
    "start_time": "2022-09-09T14:41:48.077Z"
   },
   {
    "duration": 131,
    "start_time": "2022-09-09T14:41:48.227Z"
   },
   {
    "duration": 152,
    "start_time": "2022-09-09T14:41:48.359Z"
   },
   {
    "duration": 156,
    "start_time": "2022-09-09T14:41:48.513Z"
   },
   {
    "duration": 136,
    "start_time": "2022-09-09T14:41:48.670Z"
   },
   {
    "duration": 143,
    "start_time": "2022-09-09T14:41:48.808Z"
   },
   {
    "duration": 156,
    "start_time": "2022-09-09T14:41:48.953Z"
   },
   {
    "duration": 129,
    "start_time": "2022-09-09T14:41:49.110Z"
   },
   {
    "duration": 3,
    "start_time": "2022-09-09T14:41:49.240Z"
   },
   {
    "duration": 9,
    "start_time": "2022-09-09T14:41:49.244Z"
   },
   {
    "duration": 20,
    "start_time": "2022-09-09T14:41:49.254Z"
   },
   {
    "duration": 25,
    "start_time": "2022-09-09T14:41:49.276Z"
   },
   {
    "duration": 7,
    "start_time": "2022-09-09T14:41:49.302Z"
   },
   {
    "duration": 17,
    "start_time": "2022-09-09T14:41:49.310Z"
   },
   {
    "duration": 9,
    "start_time": "2022-09-09T14:41:49.329Z"
   },
   {
    "duration": 118,
    "start_time": "2022-09-09T14:44:37.051Z"
   },
   {
    "duration": 1387,
    "start_time": "2022-09-10T12:16:37.375Z"
   },
   {
    "duration": 111,
    "start_time": "2022-09-10T12:16:38.764Z"
   },
   {
    "duration": 13,
    "start_time": "2022-09-10T12:16:38.877Z"
   },
   {
    "duration": 18,
    "start_time": "2022-09-10T12:16:38.893Z"
   },
   {
    "duration": 17,
    "start_time": "2022-09-10T12:16:38.912Z"
   },
   {
    "duration": 20,
    "start_time": "2022-09-10T12:16:38.931Z"
   },
   {
    "duration": 22,
    "start_time": "2022-09-10T12:16:38.953Z"
   },
   {
    "duration": 557,
    "start_time": "2022-09-10T12:16:38.977Z"
   },
   {
    "duration": 3,
    "start_time": "2022-09-10T12:16:39.536Z"
   },
   {
    "duration": 13,
    "start_time": "2022-09-10T12:16:39.547Z"
   },
   {
    "duration": 11,
    "start_time": "2022-09-10T12:16:39.561Z"
   },
   {
    "duration": 8,
    "start_time": "2022-09-10T12:16:39.573Z"
   },
   {
    "duration": 21,
    "start_time": "2022-09-10T12:16:39.583Z"
   },
   {
    "duration": 13,
    "start_time": "2022-09-10T12:16:39.606Z"
   },
   {
    "duration": 8,
    "start_time": "2022-09-10T12:16:39.620Z"
   },
   {
    "duration": 10,
    "start_time": "2022-09-10T12:16:39.629Z"
   },
   {
    "duration": 9,
    "start_time": "2022-09-10T12:16:39.641Z"
   },
   {
    "duration": 11,
    "start_time": "2022-09-10T12:16:39.651Z"
   },
   {
    "duration": 252,
    "start_time": "2022-09-10T12:16:39.664Z"
   },
   {
    "duration": 7,
    "start_time": "2022-09-10T12:16:39.918Z"
   },
   {
    "duration": 27,
    "start_time": "2022-09-10T12:16:39.926Z"
   },
   {
    "duration": 125,
    "start_time": "2022-09-10T12:16:39.954Z"
   },
   {
    "duration": 122,
    "start_time": "2022-09-10T12:16:40.081Z"
   },
   {
    "duration": 226,
    "start_time": "2022-09-10T12:16:40.205Z"
   },
   {
    "duration": 110,
    "start_time": "2022-09-10T12:16:40.433Z"
   },
   {
    "duration": 8,
    "start_time": "2022-09-10T12:16:40.544Z"
   },
   {
    "duration": 8,
    "start_time": "2022-09-10T12:16:40.553Z"
   },
   {
    "duration": 11,
    "start_time": "2022-09-10T12:16:40.564Z"
   },
   {
    "duration": 6,
    "start_time": "2022-09-10T12:16:40.577Z"
   },
   {
    "duration": 12,
    "start_time": "2022-09-10T12:16:40.584Z"
   },
   {
    "duration": 9,
    "start_time": "2022-09-10T12:16:40.598Z"
   },
   {
    "duration": 144,
    "start_time": "2022-09-10T12:16:40.609Z"
   },
   {
    "duration": 118,
    "start_time": "2022-09-10T12:16:40.755Z"
   },
   {
    "duration": 122,
    "start_time": "2022-09-10T12:16:40.874Z"
   },
   {
    "duration": 133,
    "start_time": "2022-09-10T12:16:40.998Z"
   },
   {
    "duration": 3,
    "start_time": "2022-09-10T12:16:41.132Z"
   },
   {
    "duration": 118,
    "start_time": "2022-09-10T12:16:41.136Z"
   },
   {
    "duration": 118,
    "start_time": "2022-09-10T12:16:41.256Z"
   },
   {
    "duration": 117,
    "start_time": "2022-09-10T12:16:41.376Z"
   },
   {
    "duration": 97,
    "start_time": "2022-09-10T12:16:41.495Z"
   },
   {
    "duration": 3,
    "start_time": "2022-09-10T12:16:41.594Z"
   },
   {
    "duration": 8,
    "start_time": "2022-09-10T12:16:41.598Z"
   },
   {
    "duration": 141,
    "start_time": "2022-09-10T12:16:41.608Z"
   },
   {
    "duration": 144,
    "start_time": "2022-09-10T12:16:41.751Z"
   },
   {
    "duration": 220,
    "start_time": "2022-09-10T12:16:41.897Z"
   },
   {
    "duration": 143,
    "start_time": "2022-09-10T12:16:42.119Z"
   },
   {
    "duration": 16,
    "start_time": "2022-09-10T12:16:42.264Z"
   },
   {
    "duration": 20,
    "start_time": "2022-09-10T12:16:42.281Z"
   },
   {
    "duration": 2724,
    "start_time": "2022-09-10T12:16:42.302Z"
   },
   {
    "duration": 194,
    "start_time": "2022-09-10T12:16:45.028Z"
   },
   {
    "duration": 14,
    "start_time": "2022-09-10T12:16:45.224Z"
   },
   {
    "duration": 34,
    "start_time": "2022-09-10T12:16:45.240Z"
   },
   {
    "duration": 295,
    "start_time": "2022-09-10T12:16:45.276Z"
   },
   {
    "duration": 164,
    "start_time": "2022-09-10T12:16:45.573Z"
   },
   {
    "duration": 139,
    "start_time": "2022-09-10T12:16:45.738Z"
   },
   {
    "duration": 165,
    "start_time": "2022-09-10T12:16:45.879Z"
   },
   {
    "duration": 172,
    "start_time": "2022-09-10T12:16:46.047Z"
   },
   {
    "duration": 199,
    "start_time": "2022-09-10T12:16:46.221Z"
   },
   {
    "duration": 175,
    "start_time": "2022-09-10T12:16:46.422Z"
   },
   {
    "duration": 171,
    "start_time": "2022-09-10T12:16:46.599Z"
   },
   {
    "duration": 144,
    "start_time": "2022-09-10T12:16:46.771Z"
   },
   {
    "duration": 3,
    "start_time": "2022-09-10T12:16:46.917Z"
   },
   {
    "duration": 11,
    "start_time": "2022-09-10T12:16:46.922Z"
   },
   {
    "duration": 23,
    "start_time": "2022-09-10T12:16:46.934Z"
   },
   {
    "duration": 11,
    "start_time": "2022-09-10T12:16:46.958Z"
   },
   {
    "duration": 10,
    "start_time": "2022-09-10T12:16:46.970Z"
   },
   {
    "duration": 7,
    "start_time": "2022-09-10T12:16:46.982Z"
   },
   {
    "duration": 6,
    "start_time": "2022-09-10T12:16:46.990Z"
   },
   {
    "duration": 190,
    "start_time": "2022-09-10T12:17:22.526Z"
   },
   {
    "duration": 105,
    "start_time": "2022-09-10T12:17:33.382Z"
   },
   {
    "duration": 301,
    "start_time": "2022-09-10T12:17:59.811Z"
   },
   {
    "duration": 272,
    "start_time": "2022-09-10T12:18:11.447Z"
   },
   {
    "duration": 132,
    "start_time": "2022-09-10T12:18:29.362Z"
   }
  ],
  "kernelspec": {
   "display_name": "Python 3 (ipykernel)",
   "language": "python",
   "name": "python3"
  },
  "language_info": {
   "codemirror_mode": {
    "name": "ipython",
    "version": 3
   },
   "file_extension": ".py",
   "mimetype": "text/x-python",
   "name": "python",
   "nbconvert_exporter": "python",
   "pygments_lexer": "ipython3",
   "version": "3.9.8"
  },
  "toc": {
   "base_numbering": 1,
   "nav_menu": {},
   "number_sections": true,
   "sideBar": true,
   "skip_h1_title": true,
   "title_cell": "Table of Contents",
   "title_sidebar": "Contents",
   "toc_cell": false,
   "toc_position": {},
   "toc_section_display": true,
   "toc_window_display": false
  }
 },
 "nbformat": 4,
 "nbformat_minor": 2
}
