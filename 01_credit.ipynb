{
 "cells": [
  {
   "cell_type": "markdown",
   "id": "c81daeeb",
   "metadata": {
    "deletable": false,
    "id": "c81daeeb"
   },
   "source": [
    "# Исследование надежности заемщиков\n"
   ]
  },
  {
   "cell_type": "markdown",
   "id": "e7a14c31",
   "metadata": {
    "deletable": false,
    "id": "e7a14c31"
   },
   "source": [
    "**Задание 1. Импортируйте библиотеку pandas. Считайте данные из csv-файла в датафрейм и сохраните в переменную `data`. Путь к файлу:**\n",
    "\n",
    "`/datasets/data.csv`"
   ]
  },
  {
   "cell_type": "code",
   "execution_count": 2,
   "id": "7bcf75c9",
   "metadata": {
    "deletable": false,
    "id": "7bcf75c9"
   },
   "outputs": [],
   "source": [
    "import pandas as pd\n",
    "import numpy as np\n",
    "#import matplotlib.pyplot as plt\n",
    "#import plotly.express as px\n",
    "#import seaborn as sb\n",
    "\n",
    "\n",
    "try:\n",
    "    data = pd.read_csv('/datasets/data.csv')\n",
    "except:\n",
    "    data = pd.read_csv('https://code.s3.yandex.net/datasets/data.csv')"
   ]
  },
  {
   "cell_type": "markdown",
   "id": "b8038fe3",
   "metadata": {
    "deletable": false,
    "id": "b8038fe3"
   },
   "source": [
    "**Задание 2. Выведите первые 20 строчек датафрейма `data` на экран.**"
   ]
  },
  {
   "cell_type": "code",
   "execution_count": 3,
   "id": "2a7cab99",
   "metadata": {
    "deletable": false,
    "id": "2a7cab99",
    "outputId": "1a8f3ef2-d323-4ec2-ddf7-89670b5944c4"
   },
   "outputs": [
    {
     "data": {
      "text/html": [
       "<div>\n",
       "<style scoped>\n",
       "    .dataframe tbody tr th:only-of-type {\n",
       "        vertical-align: middle;\n",
       "    }\n",
       "\n",
       "    .dataframe tbody tr th {\n",
       "        vertical-align: top;\n",
       "    }\n",
       "\n",
       "    .dataframe thead th {\n",
       "        text-align: right;\n",
       "    }\n",
       "</style>\n",
       "<table border=\"1\" class=\"dataframe\">\n",
       "  <thead>\n",
       "    <tr style=\"text-align: right;\">\n",
       "      <th></th>\n",
       "      <th>children</th>\n",
       "      <th>days_employed</th>\n",
       "      <th>dob_years</th>\n",
       "      <th>education</th>\n",
       "      <th>education_id</th>\n",
       "      <th>family_status</th>\n",
       "      <th>family_status_id</th>\n",
       "      <th>gender</th>\n",
       "      <th>income_type</th>\n",
       "      <th>debt</th>\n",
       "      <th>total_income</th>\n",
       "      <th>purpose</th>\n",
       "    </tr>\n",
       "  </thead>\n",
       "  <tbody>\n",
       "    <tr>\n",
       "      <th>0</th>\n",
       "      <td>1</td>\n",
       "      <td>-8437.673028</td>\n",
       "      <td>42</td>\n",
       "      <td>высшее</td>\n",
       "      <td>0</td>\n",
       "      <td>женат / замужем</td>\n",
       "      <td>0</td>\n",
       "      <td>F</td>\n",
       "      <td>сотрудник</td>\n",
       "      <td>0</td>\n",
       "      <td>253875.639453</td>\n",
       "      <td>покупка жилья</td>\n",
       "    </tr>\n",
       "    <tr>\n",
       "      <th>1</th>\n",
       "      <td>1</td>\n",
       "      <td>-4024.803754</td>\n",
       "      <td>36</td>\n",
       "      <td>среднее</td>\n",
       "      <td>1</td>\n",
       "      <td>женат / замужем</td>\n",
       "      <td>0</td>\n",
       "      <td>F</td>\n",
       "      <td>сотрудник</td>\n",
       "      <td>0</td>\n",
       "      <td>112080.014102</td>\n",
       "      <td>приобретение автомобиля</td>\n",
       "    </tr>\n",
       "    <tr>\n",
       "      <th>2</th>\n",
       "      <td>0</td>\n",
       "      <td>-5623.422610</td>\n",
       "      <td>33</td>\n",
       "      <td>Среднее</td>\n",
       "      <td>1</td>\n",
       "      <td>женат / замужем</td>\n",
       "      <td>0</td>\n",
       "      <td>M</td>\n",
       "      <td>сотрудник</td>\n",
       "      <td>0</td>\n",
       "      <td>145885.952297</td>\n",
       "      <td>покупка жилья</td>\n",
       "    </tr>\n",
       "    <tr>\n",
       "      <th>3</th>\n",
       "      <td>3</td>\n",
       "      <td>-4124.747207</td>\n",
       "      <td>32</td>\n",
       "      <td>среднее</td>\n",
       "      <td>1</td>\n",
       "      <td>женат / замужем</td>\n",
       "      <td>0</td>\n",
       "      <td>M</td>\n",
       "      <td>сотрудник</td>\n",
       "      <td>0</td>\n",
       "      <td>267628.550329</td>\n",
       "      <td>дополнительное образование</td>\n",
       "    </tr>\n",
       "    <tr>\n",
       "      <th>4</th>\n",
       "      <td>0</td>\n",
       "      <td>340266.072047</td>\n",
       "      <td>53</td>\n",
       "      <td>среднее</td>\n",
       "      <td>1</td>\n",
       "      <td>гражданский брак</td>\n",
       "      <td>1</td>\n",
       "      <td>F</td>\n",
       "      <td>пенсионер</td>\n",
       "      <td>0</td>\n",
       "      <td>158616.077870</td>\n",
       "      <td>сыграть свадьбу</td>\n",
       "    </tr>\n",
       "    <tr>\n",
       "      <th>5</th>\n",
       "      <td>0</td>\n",
       "      <td>-926.185831</td>\n",
       "      <td>27</td>\n",
       "      <td>высшее</td>\n",
       "      <td>0</td>\n",
       "      <td>гражданский брак</td>\n",
       "      <td>1</td>\n",
       "      <td>M</td>\n",
       "      <td>компаньон</td>\n",
       "      <td>0</td>\n",
       "      <td>255763.565419</td>\n",
       "      <td>покупка жилья</td>\n",
       "    </tr>\n",
       "    <tr>\n",
       "      <th>6</th>\n",
       "      <td>0</td>\n",
       "      <td>-2879.202052</td>\n",
       "      <td>43</td>\n",
       "      <td>высшее</td>\n",
       "      <td>0</td>\n",
       "      <td>женат / замужем</td>\n",
       "      <td>0</td>\n",
       "      <td>F</td>\n",
       "      <td>компаньон</td>\n",
       "      <td>0</td>\n",
       "      <td>240525.971920</td>\n",
       "      <td>операции с жильем</td>\n",
       "    </tr>\n",
       "    <tr>\n",
       "      <th>7</th>\n",
       "      <td>0</td>\n",
       "      <td>-152.779569</td>\n",
       "      <td>50</td>\n",
       "      <td>СРЕДНЕЕ</td>\n",
       "      <td>1</td>\n",
       "      <td>женат / замужем</td>\n",
       "      <td>0</td>\n",
       "      <td>M</td>\n",
       "      <td>сотрудник</td>\n",
       "      <td>0</td>\n",
       "      <td>135823.934197</td>\n",
       "      <td>образование</td>\n",
       "    </tr>\n",
       "    <tr>\n",
       "      <th>8</th>\n",
       "      <td>2</td>\n",
       "      <td>-6929.865299</td>\n",
       "      <td>35</td>\n",
       "      <td>ВЫСШЕЕ</td>\n",
       "      <td>0</td>\n",
       "      <td>гражданский брак</td>\n",
       "      <td>1</td>\n",
       "      <td>F</td>\n",
       "      <td>сотрудник</td>\n",
       "      <td>0</td>\n",
       "      <td>95856.832424</td>\n",
       "      <td>на проведение свадьбы</td>\n",
       "    </tr>\n",
       "    <tr>\n",
       "      <th>9</th>\n",
       "      <td>0</td>\n",
       "      <td>-2188.756445</td>\n",
       "      <td>41</td>\n",
       "      <td>среднее</td>\n",
       "      <td>1</td>\n",
       "      <td>женат / замужем</td>\n",
       "      <td>0</td>\n",
       "      <td>M</td>\n",
       "      <td>сотрудник</td>\n",
       "      <td>0</td>\n",
       "      <td>144425.938277</td>\n",
       "      <td>покупка жилья для семьи</td>\n",
       "    </tr>\n",
       "    <tr>\n",
       "      <th>10</th>\n",
       "      <td>2</td>\n",
       "      <td>-4171.483647</td>\n",
       "      <td>36</td>\n",
       "      <td>высшее</td>\n",
       "      <td>0</td>\n",
       "      <td>женат / замужем</td>\n",
       "      <td>0</td>\n",
       "      <td>M</td>\n",
       "      <td>компаньон</td>\n",
       "      <td>0</td>\n",
       "      <td>113943.491460</td>\n",
       "      <td>покупка недвижимости</td>\n",
       "    </tr>\n",
       "    <tr>\n",
       "      <th>11</th>\n",
       "      <td>0</td>\n",
       "      <td>-792.701887</td>\n",
       "      <td>40</td>\n",
       "      <td>среднее</td>\n",
       "      <td>1</td>\n",
       "      <td>женат / замужем</td>\n",
       "      <td>0</td>\n",
       "      <td>F</td>\n",
       "      <td>сотрудник</td>\n",
       "      <td>0</td>\n",
       "      <td>77069.234271</td>\n",
       "      <td>покупка коммерческой недвижимости</td>\n",
       "    </tr>\n",
       "    <tr>\n",
       "      <th>12</th>\n",
       "      <td>0</td>\n",
       "      <td>NaN</td>\n",
       "      <td>65</td>\n",
       "      <td>среднее</td>\n",
       "      <td>1</td>\n",
       "      <td>гражданский брак</td>\n",
       "      <td>1</td>\n",
       "      <td>M</td>\n",
       "      <td>пенсионер</td>\n",
       "      <td>0</td>\n",
       "      <td>NaN</td>\n",
       "      <td>сыграть свадьбу</td>\n",
       "    </tr>\n",
       "    <tr>\n",
       "      <th>13</th>\n",
       "      <td>0</td>\n",
       "      <td>-1846.641941</td>\n",
       "      <td>54</td>\n",
       "      <td>неоконченное высшее</td>\n",
       "      <td>2</td>\n",
       "      <td>женат / замужем</td>\n",
       "      <td>0</td>\n",
       "      <td>F</td>\n",
       "      <td>сотрудник</td>\n",
       "      <td>0</td>\n",
       "      <td>130458.228857</td>\n",
       "      <td>приобретение автомобиля</td>\n",
       "    </tr>\n",
       "    <tr>\n",
       "      <th>14</th>\n",
       "      <td>0</td>\n",
       "      <td>-1844.956182</td>\n",
       "      <td>56</td>\n",
       "      <td>высшее</td>\n",
       "      <td>0</td>\n",
       "      <td>гражданский брак</td>\n",
       "      <td>1</td>\n",
       "      <td>F</td>\n",
       "      <td>компаньон</td>\n",
       "      <td>1</td>\n",
       "      <td>165127.911772</td>\n",
       "      <td>покупка жилой недвижимости</td>\n",
       "    </tr>\n",
       "    <tr>\n",
       "      <th>15</th>\n",
       "      <td>1</td>\n",
       "      <td>-972.364419</td>\n",
       "      <td>26</td>\n",
       "      <td>среднее</td>\n",
       "      <td>1</td>\n",
       "      <td>женат / замужем</td>\n",
       "      <td>0</td>\n",
       "      <td>F</td>\n",
       "      <td>сотрудник</td>\n",
       "      <td>0</td>\n",
       "      <td>116820.904450</td>\n",
       "      <td>строительство собственной недвижимости</td>\n",
       "    </tr>\n",
       "    <tr>\n",
       "      <th>16</th>\n",
       "      <td>0</td>\n",
       "      <td>-1719.934226</td>\n",
       "      <td>35</td>\n",
       "      <td>среднее</td>\n",
       "      <td>1</td>\n",
       "      <td>женат / замужем</td>\n",
       "      <td>0</td>\n",
       "      <td>F</td>\n",
       "      <td>сотрудник</td>\n",
       "      <td>0</td>\n",
       "      <td>289202.704229</td>\n",
       "      <td>недвижимость</td>\n",
       "    </tr>\n",
       "    <tr>\n",
       "      <th>17</th>\n",
       "      <td>0</td>\n",
       "      <td>-2369.999720</td>\n",
       "      <td>33</td>\n",
       "      <td>высшее</td>\n",
       "      <td>0</td>\n",
       "      <td>гражданский брак</td>\n",
       "      <td>1</td>\n",
       "      <td>M</td>\n",
       "      <td>сотрудник</td>\n",
       "      <td>0</td>\n",
       "      <td>90410.586745</td>\n",
       "      <td>строительство недвижимости</td>\n",
       "    </tr>\n",
       "    <tr>\n",
       "      <th>18</th>\n",
       "      <td>0</td>\n",
       "      <td>400281.136913</td>\n",
       "      <td>53</td>\n",
       "      <td>среднее</td>\n",
       "      <td>1</td>\n",
       "      <td>вдовец / вдова</td>\n",
       "      <td>2</td>\n",
       "      <td>F</td>\n",
       "      <td>пенсионер</td>\n",
       "      <td>0</td>\n",
       "      <td>56823.777243</td>\n",
       "      <td>на покупку подержанного автомобиля</td>\n",
       "    </tr>\n",
       "    <tr>\n",
       "      <th>19</th>\n",
       "      <td>0</td>\n",
       "      <td>-10038.818549</td>\n",
       "      <td>48</td>\n",
       "      <td>СРЕДНЕЕ</td>\n",
       "      <td>1</td>\n",
       "      <td>в разводе</td>\n",
       "      <td>3</td>\n",
       "      <td>F</td>\n",
       "      <td>сотрудник</td>\n",
       "      <td>0</td>\n",
       "      <td>242831.107982</td>\n",
       "      <td>на покупку своего автомобиля</td>\n",
       "    </tr>\n",
       "  </tbody>\n",
       "</table>\n",
       "</div>"
      ],
      "text/plain": [
       "    children  days_employed  dob_years            education  education_id  \\\n",
       "0          1   -8437.673028         42               высшее             0   \n",
       "1          1   -4024.803754         36              среднее             1   \n",
       "2          0   -5623.422610         33              Среднее             1   \n",
       "3          3   -4124.747207         32              среднее             1   \n",
       "4          0  340266.072047         53              среднее             1   \n",
       "5          0    -926.185831         27               высшее             0   \n",
       "6          0   -2879.202052         43               высшее             0   \n",
       "7          0    -152.779569         50              СРЕДНЕЕ             1   \n",
       "8          2   -6929.865299         35               ВЫСШЕЕ             0   \n",
       "9          0   -2188.756445         41              среднее             1   \n",
       "10         2   -4171.483647         36               высшее             0   \n",
       "11         0    -792.701887         40              среднее             1   \n",
       "12         0            NaN         65              среднее             1   \n",
       "13         0   -1846.641941         54  неоконченное высшее             2   \n",
       "14         0   -1844.956182         56               высшее             0   \n",
       "15         1    -972.364419         26              среднее             1   \n",
       "16         0   -1719.934226         35              среднее             1   \n",
       "17         0   -2369.999720         33               высшее             0   \n",
       "18         0  400281.136913         53              среднее             1   \n",
       "19         0  -10038.818549         48              СРЕДНЕЕ             1   \n",
       "\n",
       "       family_status  family_status_id gender income_type  debt  \\\n",
       "0    женат / замужем                 0      F   сотрудник     0   \n",
       "1    женат / замужем                 0      F   сотрудник     0   \n",
       "2    женат / замужем                 0      M   сотрудник     0   \n",
       "3    женат / замужем                 0      M   сотрудник     0   \n",
       "4   гражданский брак                 1      F   пенсионер     0   \n",
       "5   гражданский брак                 1      M   компаньон     0   \n",
       "6    женат / замужем                 0      F   компаньон     0   \n",
       "7    женат / замужем                 0      M   сотрудник     0   \n",
       "8   гражданский брак                 1      F   сотрудник     0   \n",
       "9    женат / замужем                 0      M   сотрудник     0   \n",
       "10   женат / замужем                 0      M   компаньон     0   \n",
       "11   женат / замужем                 0      F   сотрудник     0   \n",
       "12  гражданский брак                 1      M   пенсионер     0   \n",
       "13   женат / замужем                 0      F   сотрудник     0   \n",
       "14  гражданский брак                 1      F   компаньон     1   \n",
       "15   женат / замужем                 0      F   сотрудник     0   \n",
       "16   женат / замужем                 0      F   сотрудник     0   \n",
       "17  гражданский брак                 1      M   сотрудник     0   \n",
       "18    вдовец / вдова                 2      F   пенсионер     0   \n",
       "19         в разводе                 3      F   сотрудник     0   \n",
       "\n",
       "     total_income                                 purpose  \n",
       "0   253875.639453                           покупка жилья  \n",
       "1   112080.014102                 приобретение автомобиля  \n",
       "2   145885.952297                           покупка жилья  \n",
       "3   267628.550329              дополнительное образование  \n",
       "4   158616.077870                         сыграть свадьбу  \n",
       "5   255763.565419                           покупка жилья  \n",
       "6   240525.971920                       операции с жильем  \n",
       "7   135823.934197                             образование  \n",
       "8    95856.832424                   на проведение свадьбы  \n",
       "9   144425.938277                 покупка жилья для семьи  \n",
       "10  113943.491460                    покупка недвижимости  \n",
       "11   77069.234271       покупка коммерческой недвижимости  \n",
       "12            NaN                         сыграть свадьбу  \n",
       "13  130458.228857                 приобретение автомобиля  \n",
       "14  165127.911772              покупка жилой недвижимости  \n",
       "15  116820.904450  строительство собственной недвижимости  \n",
       "16  289202.704229                            недвижимость  \n",
       "17   90410.586745              строительство недвижимости  \n",
       "18   56823.777243      на покупку подержанного автомобиля  \n",
       "19  242831.107982            на покупку своего автомобиля  "
      ]
     },
     "execution_count": 3,
     "metadata": {},
     "output_type": "execute_result"
    }
   ],
   "source": [
    "data.head(20)"
   ]
  },
  {
   "cell_type": "markdown",
   "id": "1c12e233",
   "metadata": {
    "deletable": false,
    "id": "1c12e233"
   },
   "source": [
    "**Задание 3. Выведите основную информацию о датафрейме с помощью метода `info()`.**"
   ]
  },
  {
   "cell_type": "code",
   "execution_count": 4,
   "id": "2b757bca",
   "metadata": {
    "deletable": false,
    "id": "2b757bca",
    "outputId": "15376089-8dad-46c9-b520-c05248d43158"
   },
   "outputs": [
    {
     "name": "stdout",
     "output_type": "stream",
     "text": [
      "<class 'pandas.core.frame.DataFrame'>\n",
      "RangeIndex: 21525 entries, 0 to 21524\n",
      "Data columns (total 12 columns):\n",
      " #   Column            Non-Null Count  Dtype  \n",
      "---  ------            --------------  -----  \n",
      " 0   children          21525 non-null  int64  \n",
      " 1   days_employed     19351 non-null  float64\n",
      " 2   dob_years         21525 non-null  int64  \n",
      " 3   education         21525 non-null  object \n",
      " 4   education_id      21525 non-null  int64  \n",
      " 5   family_status     21525 non-null  object \n",
      " 6   family_status_id  21525 non-null  int64  \n",
      " 7   gender            21525 non-null  object \n",
      " 8   income_type       21525 non-null  object \n",
      " 9   debt              21525 non-null  int64  \n",
      " 10  total_income      19351 non-null  float64\n",
      " 11  purpose           21525 non-null  object \n",
      "dtypes: float64(2), int64(5), object(5)\n",
      "memory usage: 2.0+ MB\n"
     ]
    }
   ],
   "source": [
    "data.info()"
   ]
  },
  {
   "cell_type": "markdown",
   "id": "333ec665",
   "metadata": {
    "deletable": false,
    "id": "333ec665"
   },
   "source": [
    "## Предобработка данных"
   ]
  },
  {
   "cell_type": "markdown",
   "id": "02d92d53",
   "metadata": {
    "deletable": false,
    "id": "02d92d53"
   },
   "source": [
    "### Удаление пропусков"
   ]
  },
  {
   "cell_type": "markdown",
   "id": "cd84967c",
   "metadata": {
    "deletable": false,
    "id": "cd84967c"
   },
   "source": [
    "**Задание 4. Выведите количество пропущенных значений для каждого столбца. Используйте комбинацию двух методов.**"
   ]
  },
  {
   "cell_type": "code",
   "execution_count": 5,
   "id": "7f9b2309",
   "metadata": {
    "deletable": false,
    "id": "7f9b2309",
    "outputId": "81f4d817-781c-465c-ed15-91ce4446810d"
   },
   "outputs": [
    {
     "data": {
      "text/plain": [
       "children               0\n",
       "days_employed       2174\n",
       "dob_years              0\n",
       "education              0\n",
       "education_id           0\n",
       "family_status          0\n",
       "family_status_id       0\n",
       "gender                 0\n",
       "income_type            0\n",
       "debt                   0\n",
       "total_income        2174\n",
       "purpose                0\n",
       "dtype: int64"
      ]
     },
     "execution_count": 5,
     "metadata": {},
     "output_type": "execute_result"
    }
   ],
   "source": [
    "data.isna().sum()"
   ]
  },
  {
   "cell_type": "markdown",
   "id": "db86e27b",
   "metadata": {
    "deletable": false,
    "id": "db86e27b"
   },
   "source": [
    "**Задание 5. В двух столбцах есть пропущенные значения. Один из них — `days_employed`. Пропуски в этом столбце вы обработаете на следующем этапе. Другой столбец с пропущенными значениями — `total_income` — хранит данные о доходах. На сумму дохода сильнее всего влияет тип занятости, поэтому заполнить пропуски в этом столбце нужно медианным значением по каждому типу из столбца `income_type`. Например, у человека с типом занятости `сотрудник` пропуск в столбце `total_income` должен быть заполнен медианным доходом среди всех записей с тем же типом.**"
   ]
  },
  {
   "cell_type": "code",
   "execution_count": 6,
   "id": "42006a93",
   "metadata": {
    "deletable": false,
    "id": "42006a93"
   },
   "outputs": [],
   "source": [
    "for t in data['income_type'].unique():\n",
    "    data.loc[(data['income_type'] == t) & (data['total_income'].isna()), 'total_income'] = \\\n",
    "    data.loc[(data['income_type'] == t), 'total_income'].median()"
   ]
  },
  {
   "cell_type": "markdown",
   "id": "89da5ece",
   "metadata": {
    "deletable": false,
    "id": "89da5ece"
   },
   "source": [
    "### Обработка аномальных значений"
   ]
  },
  {
   "cell_type": "markdown",
   "id": "57964554",
   "metadata": {
    "deletable": false,
    "id": "57964554"
   },
   "source": [
    "**Задание 6. В данных могут встречаться артефакты (аномалии) — значения, которые не отражают действительность и появились по какой-то ошибке. таким артефактом будет отрицательное количество дней трудового стажа в столбце `days_employed`. Для реальных данных это нормально. Обработайте значения в этом столбце: замените все отрицательные значения положительными с помощью метода `abs()`.**"
   ]
  },
  {
   "cell_type": "code",
   "execution_count": 7,
   "id": "f6f055bf",
   "metadata": {
    "deletable": false,
    "id": "f6f055bf"
   },
   "outputs": [],
   "source": [
    "data['days_employed'] = data['days_employed'].abs()"
   ]
  },
  {
   "cell_type": "markdown",
   "id": "6107dd2f",
   "metadata": {
    "deletable": false,
    "id": "6107dd2f"
   },
   "source": [
    "**Задание 7. Для каждого типа занятости выведите медианное значение трудового стажа `days_employed` в днях.**"
   ]
  },
  {
   "cell_type": "code",
   "execution_count": 8,
   "id": "85a5faf6",
   "metadata": {
    "deletable": false,
    "id": "85a5faf6",
    "outputId": "801ef80e-522b-4668-f34e-565af7432bcf"
   },
   "outputs": [
    {
     "data": {
      "text/plain": [
       "income_type\n",
       "безработный        366413.652744\n",
       "в декрете            3296.759962\n",
       "госслужащий          2689.368353\n",
       "компаньон            1547.382223\n",
       "пенсионер          365213.306266\n",
       "предприниматель       520.848083\n",
       "сотрудник            1574.202821\n",
       "студент               578.751554\n",
       "Name: days_employed, dtype: float64"
      ]
     },
     "execution_count": 8,
     "metadata": {},
     "output_type": "execute_result"
    }
   ],
   "source": [
    "data.groupby('income_type')['days_employed'].agg('median')"
   ]
  },
  {
   "cell_type": "markdown",
   "id": "38d1a030",
   "metadata": {
    "deletable": false,
    "id": "38d1a030"
   },
   "source": [
    "У двух типов (безработные и пенсионеры) получатся аномально большие значения. Исправить такие значения сложно, поэтому оставьте их как есть. Тем более этот столбец не понадобится вам для исследования."
   ]
  },
  {
   "cell_type": "markdown",
   "id": "d8a9f147",
   "metadata": {
    "deletable": false,
    "id": "d8a9f147"
   },
   "source": [
    "**Задание 8. Выведите перечень уникальных значений столбца `children`.**"
   ]
  },
  {
   "cell_type": "code",
   "execution_count": 9,
   "id": "ef5056eb",
   "metadata": {
    "deletable": false,
    "id": "ef5056eb",
    "outputId": "6975b15c-7f95-4697-d16d-a0c79b657b03"
   },
   "outputs": [
    {
     "data": {
      "text/plain": [
       "array([ 1,  0,  3,  2, -1,  4, 20,  5])"
      ]
     },
     "execution_count": 9,
     "metadata": {},
     "output_type": "execute_result"
    }
   ],
   "source": [
    "data['children'].unique()"
   ]
  },
  {
   "cell_type": "markdown",
   "id": "40b9ebf2",
   "metadata": {
    "deletable": false,
    "id": "40b9ebf2"
   },
   "source": [
    "**Задание 9. В столбце `children` есть два аномальных значения. Удалите строки, в которых встречаются такие аномальные значения из датафрейма `data`.**"
   ]
  },
  {
   "cell_type": "code",
   "execution_count": 10,
   "id": "3ff9801d",
   "metadata": {
    "deletable": false,
    "id": "3ff9801d"
   },
   "outputs": [],
   "source": [
    "data = data[(data['children'] != -1) & (data['children'] != 20)]"
   ]
  },
  {
   "cell_type": "markdown",
   "id": "bbc4d0ce",
   "metadata": {
    "deletable": false,
    "id": "bbc4d0ce"
   },
   "source": [
    "**Задание 10. Ещё раз выведите перечень уникальных значений столбца `children`, чтобы убедиться, что артефакты удалены.**"
   ]
  },
  {
   "cell_type": "code",
   "execution_count": 11,
   "id": "ad4fa8b7",
   "metadata": {
    "deletable": false,
    "id": "ad4fa8b7",
    "outputId": "b2097101-d49d-44d9-901b-32a65c9463d1"
   },
   "outputs": [
    {
     "data": {
      "text/plain": [
       "array([1, 0, 3, 2, 4, 5])"
      ]
     },
     "execution_count": 11,
     "metadata": {},
     "output_type": "execute_result"
    }
   ],
   "source": [
    "data['children'].unique()"
   ]
  },
  {
   "cell_type": "markdown",
   "id": "75440b63",
   "metadata": {
    "deletable": false,
    "id": "75440b63"
   },
   "source": [
    "### Удаление пропусков (продолжение)"
   ]
  },
  {
   "cell_type": "markdown",
   "id": "f4ea573f",
   "metadata": {
    "deletable": false,
    "id": "f4ea573f"
   },
   "source": [
    "**Задание 11. Заполните пропуски в столбце `days_employed` медианными значениями по каждого типа занятости `income_type`.**"
   ]
  },
  {
   "cell_type": "code",
   "execution_count": 12,
   "id": "af6b1a7e",
   "metadata": {
    "deletable": false,
    "id": "af6b1a7e"
   },
   "outputs": [],
   "source": [
    "for t in data['income_type'].unique():\n",
    "    data.loc[(data['income_type'] == t) & (data['days_employed'].isna()), 'days_employed'] = \\\n",
    "    data.loc[(data['income_type'] == t), 'days_employed'].median()"
   ]
  },
  {
   "cell_type": "markdown",
   "id": "2753f40d",
   "metadata": {
    "deletable": false,
    "id": "2753f40d"
   },
   "source": [
    "**Задание 12. Убедитесь, что все пропуски заполнены. Проверьте себя и ещё раз выведите количество пропущенных значений для каждого столбца с помощью двух методов.**"
   ]
  },
  {
   "cell_type": "code",
   "execution_count": 13,
   "id": "55f78bc2",
   "metadata": {
    "deletable": false,
    "id": "55f78bc2",
    "outputId": "8da1e4e1-358e-4e87-98c9-f261bce0a7b2"
   },
   "outputs": [
    {
     "data": {
      "text/plain": [
       "children            0\n",
       "days_employed       0\n",
       "dob_years           0\n",
       "education           0\n",
       "education_id        0\n",
       "family_status       0\n",
       "family_status_id    0\n",
       "gender              0\n",
       "income_type         0\n",
       "debt                0\n",
       "total_income        0\n",
       "purpose             0\n",
       "dtype: int64"
      ]
     },
     "execution_count": 13,
     "metadata": {},
     "output_type": "execute_result"
    }
   ],
   "source": [
    "data.isna().sum()"
   ]
  },
  {
   "cell_type": "markdown",
   "id": "ddc81e43",
   "metadata": {
    "deletable": false,
    "id": "ddc81e43"
   },
   "source": [
    "### Изменение типов данных"
   ]
  },
  {
   "cell_type": "markdown",
   "id": "42d19d24",
   "metadata": {
    "deletable": false,
    "id": "42d19d24"
   },
   "source": [
    "**Задание 13. Замените вещественный тип данных в столбце `total_income` на целочисленный с помощью метода `astype()`.**"
   ]
  },
  {
   "cell_type": "code",
   "execution_count": 14,
   "id": "920b65ad",
   "metadata": {
    "deletable": false,
    "id": "920b65ad"
   },
   "outputs": [],
   "source": [
    "data['total_income'] = data['total_income'].astype(int)"
   ]
  },
  {
   "cell_type": "markdown",
   "id": "80c420ba",
   "metadata": {
    "deletable": false,
    "id": "80c420ba"
   },
   "source": [
    "### Обработка дубликатов"
   ]
  },
  {
   "cell_type": "markdown",
   "id": "dc587695",
   "metadata": {
    "deletable": false,
    "id": "dc587695"
   },
   "source": [
    "**Задание 14. Выведите на экран количество строк-дубликатов в данных. Если такие строки присутствуют, удалите их.**"
   ]
  },
  {
   "cell_type": "code",
   "execution_count": 15,
   "id": "3ee445e4",
   "metadata": {
    "deletable": false,
    "id": "3ee445e4",
    "outputId": "9684deba-1934-42d1-99e1-cda61740f822"
   },
   "outputs": [
    {
     "data": {
      "text/plain": [
       "54"
      ]
     },
     "execution_count": 15,
     "metadata": {},
     "output_type": "execute_result"
    }
   ],
   "source": [
    "data.duplicated().sum()"
   ]
  },
  {
   "cell_type": "code",
   "execution_count": 16,
   "id": "8575fe05",
   "metadata": {
    "deletable": false,
    "id": "8575fe05"
   },
   "outputs": [],
   "source": [
    "data = data.drop_duplicates()"
   ]
  },
  {
   "cell_type": "markdown",
   "id": "9771a76c",
   "metadata": {
    "deletable": false,
    "id": "9771a76c"
   },
   "source": [
    "**Задание 15. Обработайте неявные дубликаты в столбце `education`. В этом столбце есть одни и те же значения, но записанные по-разному: с использованием заглавных и строчных букв. Приведите их к нижнему регистру. Проверьте остальные столбцы.**"
   ]
  },
  {
   "cell_type": "code",
   "execution_count": 17,
   "id": "a9f8e2bf",
   "metadata": {
    "deletable": false,
    "id": "a9f8e2bf"
   },
   "outputs": [],
   "source": [
    "data['education'] = data['education'].str.lower()"
   ]
  },
  {
   "cell_type": "markdown",
   "id": "9904cf55",
   "metadata": {
    "deletable": false,
    "id": "9904cf55"
   },
   "source": [
    "### Категоризация данных"
   ]
  },
  {
   "cell_type": "markdown",
   "id": "72fcc8a2",
   "metadata": {
    "deletable": false,
    "id": "72fcc8a2"
   },
   "source": [
    "**Задание 16. На основании диапазонов, указанных ниже, создайте в датафрейме `data` столбец `total_income_category` с категориями:**\n",
    "\n",
    "- 0–30000 — `'E'`;\n",
    "- 30001–50000 — `'D'`;\n",
    "- 50001–200000 — `'C'`;\n",
    "- 200001–1000000 — `'B'`;\n",
    "- 1000001 и выше — `'A'`.\n",
    "\n",
    "\n",
    "**Например, кредитополучателю с доходом 25000 нужно назначить категорию `'E'`, а клиенту, получающему 235000, — `'B'`. Используйте собственную функцию с именем `categorize_income()` и метод `apply()`.**"
   ]
  },
  {
   "cell_type": "code",
   "execution_count": 18,
   "id": "e1771346",
   "metadata": {
    "deletable": false,
    "id": "e1771346"
   },
   "outputs": [],
   "source": [
    "def categorize_income(income):\n",
    "    try:\n",
    "        if 0 <= income <= 30000:\n",
    "            return 'E'\n",
    "        elif 30001 <= income <= 50000:\n",
    "            return 'D'\n",
    "        elif 50001 <= income <= 200000:\n",
    "            return 'C'\n",
    "        elif 200001 <= income <= 1000000:\n",
    "            return 'B'\n",
    "        elif income >= 1000001:\n",
    "            return 'A'\n",
    "    except:\n",
    "        pass"
   ]
  },
  {
   "cell_type": "code",
   "execution_count": 19,
   "id": "d5f3586d",
   "metadata": {
    "deletable": false,
    "id": "d5f3586d"
   },
   "outputs": [],
   "source": [
    "data['total_income_category'] = data['total_income'].apply(categorize_income)"
   ]
  },
  {
   "cell_type": "markdown",
   "id": "dde49b5c",
   "metadata": {
    "deletable": false,
    "id": "dde49b5c"
   },
   "source": [
    "**Задание 17. Выведите на экран перечень уникальных целей взятия кредита из столбца `purpose`.**"
   ]
  },
  {
   "cell_type": "code",
   "execution_count": 20,
   "id": "f67ce9b3",
   "metadata": {
    "deletable": false,
    "id": "f67ce9b3",
    "outputId": "673c12d9-7d7e-4ae0-9812-c622c89dd244"
   },
   "outputs": [
    {
     "data": {
      "text/plain": [
       "array(['покупка жилья', 'приобретение автомобиля',\n",
       "       'дополнительное образование', 'сыграть свадьбу',\n",
       "       'операции с жильем', 'образование', 'на проведение свадьбы',\n",
       "       'покупка жилья для семьи', 'покупка недвижимости',\n",
       "       'покупка коммерческой недвижимости', 'покупка жилой недвижимости',\n",
       "       'строительство собственной недвижимости', 'недвижимость',\n",
       "       'строительство недвижимости', 'на покупку подержанного автомобиля',\n",
       "       'на покупку своего автомобиля',\n",
       "       'операции с коммерческой недвижимостью',\n",
       "       'строительство жилой недвижимости', 'жилье',\n",
       "       'операции со своей недвижимостью', 'автомобили',\n",
       "       'заняться образованием', 'сделка с подержанным автомобилем',\n",
       "       'получение образования', 'автомобиль', 'свадьба',\n",
       "       'получение дополнительного образования', 'покупка своего жилья',\n",
       "       'операции с недвижимостью', 'получение высшего образования',\n",
       "       'свой автомобиль', 'сделка с автомобилем',\n",
       "       'профильное образование', 'высшее образование',\n",
       "       'покупка жилья для сдачи', 'на покупку автомобиля', 'ремонт жилью',\n",
       "       'заняться высшим образованием'], dtype=object)"
      ]
     },
     "execution_count": 20,
     "metadata": {},
     "output_type": "execute_result"
    }
   ],
   "source": [
    "data['purpose'].unique()"
   ]
  },
  {
   "cell_type": "markdown",
   "id": "85d0aef0",
   "metadata": {
    "deletable": false,
    "id": "85d0aef0"
   },
   "source": [
    "**Задание 18. Создайте функцию, которая на основании данных из столбца `purpose` сформирует новый столбец `purpose_category`, в который войдут следующие категории:**\n",
    "\n",
    "- `'операции с автомобилем'`,\n",
    "- `'операции с недвижимостью'`,\n",
    "- `'проведение свадьбы'`,\n",
    "- `'получение образования'`.\n",
    "\n",
    "**Например, если в столбце `purpose` находится подстрока `'на покупку автомобиля'`, то в столбце `purpose_category` должна появиться строка `'операции с автомобилем'`.**\n",
    "\n",
    "**Используйте собственную функцию с именем `categorize_purpose()` и метод `apply()`. Изучите данные в столбце `purpose` и определите, какие подстроки помогут вам правильно определить категорию.**"
   ]
  },
  {
   "cell_type": "code",
   "execution_count": 21,
   "id": "e149fab4",
   "metadata": {
    "deletable": false,
    "id": "e149fab4"
   },
   "outputs": [],
   "source": [
    "def categorize_purpose(row):\n",
    "    try:\n",
    "        if 'автом' in row:\n",
    "            return 'операции с автомобилем'\n",
    "        elif 'жил' in row or 'недвиж' in row:\n",
    "            return 'операции с недвижимостью'\n",
    "        elif 'свад' in row:\n",
    "            return 'проведение свадьбы'\n",
    "        elif 'образов' in row:\n",
    "            return 'получение образования'\n",
    "    except:\n",
    "        return 'нет категории'"
   ]
  },
  {
   "cell_type": "code",
   "execution_count": 22,
   "id": "bf36e69b",
   "metadata": {
    "deletable": false,
    "id": "bf36e69b"
   },
   "outputs": [],
   "source": [
    "data['purpose_category'] = data['purpose'].apply(categorize_purpose)"
   ]
  },
  {
   "cell_type": "markdown",
   "id": "09b242bf",
   "metadata": {
    "deletable": false,
    "editable": false,
    "id": "09b242bf"
   },
   "source": [
    "## Исследуйте данные и ответьте на вопросы"
   ]
  },
  {
   "cell_type": "code",
   "execution_count": 23,
   "id": "902b9fbd",
   "metadata": {
    "scrolled": true
   },
   "outputs": [
    {
     "data": {
      "text/html": [
       "<div>\n",
       "<style scoped>\n",
       "    .dataframe tbody tr th:only-of-type {\n",
       "        vertical-align: middle;\n",
       "    }\n",
       "\n",
       "    .dataframe tbody tr th {\n",
       "        vertical-align: top;\n",
       "    }\n",
       "\n",
       "    .dataframe thead th {\n",
       "        text-align: right;\n",
       "    }\n",
       "</style>\n",
       "<table border=\"1\" class=\"dataframe\">\n",
       "  <thead>\n",
       "    <tr style=\"text-align: right;\">\n",
       "      <th></th>\n",
       "      <th>children</th>\n",
       "      <th>days_employed</th>\n",
       "      <th>dob_years</th>\n",
       "      <th>education</th>\n",
       "      <th>education_id</th>\n",
       "      <th>family_status</th>\n",
       "      <th>family_status_id</th>\n",
       "      <th>gender</th>\n",
       "      <th>income_type</th>\n",
       "      <th>debt</th>\n",
       "      <th>total_income</th>\n",
       "      <th>purpose</th>\n",
       "      <th>total_income_category</th>\n",
       "      <th>purpose_category</th>\n",
       "    </tr>\n",
       "  </thead>\n",
       "  <tbody>\n",
       "    <tr>\n",
       "      <th>0</th>\n",
       "      <td>1</td>\n",
       "      <td>8437.673028</td>\n",
       "      <td>42</td>\n",
       "      <td>высшее</td>\n",
       "      <td>0</td>\n",
       "      <td>женат / замужем</td>\n",
       "      <td>0</td>\n",
       "      <td>F</td>\n",
       "      <td>сотрудник</td>\n",
       "      <td>0</td>\n",
       "      <td>253875</td>\n",
       "      <td>покупка жилья</td>\n",
       "      <td>B</td>\n",
       "      <td>операции с недвижимостью</td>\n",
       "    </tr>\n",
       "    <tr>\n",
       "      <th>1</th>\n",
       "      <td>1</td>\n",
       "      <td>4024.803754</td>\n",
       "      <td>36</td>\n",
       "      <td>среднее</td>\n",
       "      <td>1</td>\n",
       "      <td>женат / замужем</td>\n",
       "      <td>0</td>\n",
       "      <td>F</td>\n",
       "      <td>сотрудник</td>\n",
       "      <td>0</td>\n",
       "      <td>112080</td>\n",
       "      <td>приобретение автомобиля</td>\n",
       "      <td>C</td>\n",
       "      <td>операции с автомобилем</td>\n",
       "    </tr>\n",
       "    <tr>\n",
       "      <th>2</th>\n",
       "      <td>0</td>\n",
       "      <td>5623.422610</td>\n",
       "      <td>33</td>\n",
       "      <td>среднее</td>\n",
       "      <td>1</td>\n",
       "      <td>женат / замужем</td>\n",
       "      <td>0</td>\n",
       "      <td>M</td>\n",
       "      <td>сотрудник</td>\n",
       "      <td>0</td>\n",
       "      <td>145885</td>\n",
       "      <td>покупка жилья</td>\n",
       "      <td>C</td>\n",
       "      <td>операции с недвижимостью</td>\n",
       "    </tr>\n",
       "    <tr>\n",
       "      <th>3</th>\n",
       "      <td>3</td>\n",
       "      <td>4124.747207</td>\n",
       "      <td>32</td>\n",
       "      <td>среднее</td>\n",
       "      <td>1</td>\n",
       "      <td>женат / замужем</td>\n",
       "      <td>0</td>\n",
       "      <td>M</td>\n",
       "      <td>сотрудник</td>\n",
       "      <td>0</td>\n",
       "      <td>267628</td>\n",
       "      <td>дополнительное образование</td>\n",
       "      <td>B</td>\n",
       "      <td>получение образования</td>\n",
       "    </tr>\n",
       "    <tr>\n",
       "      <th>4</th>\n",
       "      <td>0</td>\n",
       "      <td>340266.072047</td>\n",
       "      <td>53</td>\n",
       "      <td>среднее</td>\n",
       "      <td>1</td>\n",
       "      <td>гражданский брак</td>\n",
       "      <td>1</td>\n",
       "      <td>F</td>\n",
       "      <td>пенсионер</td>\n",
       "      <td>0</td>\n",
       "      <td>158616</td>\n",
       "      <td>сыграть свадьбу</td>\n",
       "      <td>C</td>\n",
       "      <td>проведение свадьбы</td>\n",
       "    </tr>\n",
       "  </tbody>\n",
       "</table>\n",
       "</div>"
      ],
      "text/plain": [
       "   children  days_employed  dob_years education  education_id  \\\n",
       "0         1    8437.673028         42    высшее             0   \n",
       "1         1    4024.803754         36   среднее             1   \n",
       "2         0    5623.422610         33   среднее             1   \n",
       "3         3    4124.747207         32   среднее             1   \n",
       "4         0  340266.072047         53   среднее             1   \n",
       "\n",
       "      family_status  family_status_id gender income_type  debt  total_income  \\\n",
       "0   женат / замужем                 0      F   сотрудник     0        253875   \n",
       "1   женат / замужем                 0      F   сотрудник     0        112080   \n",
       "2   женат / замужем                 0      M   сотрудник     0        145885   \n",
       "3   женат / замужем                 0      M   сотрудник     0        267628   \n",
       "4  гражданский брак                 1      F   пенсионер     0        158616   \n",
       "\n",
       "                      purpose total_income_category          purpose_category  \n",
       "0               покупка жилья                     B  операции с недвижимостью  \n",
       "1     приобретение автомобиля                     C    операции с автомобилем  \n",
       "2               покупка жилья                     C  операции с недвижимостью  \n",
       "3  дополнительное образование                     B     получение образования  \n",
       "4             сыграть свадьбу                     C        проведение свадьбы  "
      ]
     },
     "execution_count": 23,
     "metadata": {},
     "output_type": "execute_result"
    }
   ],
   "source": [
    "data.head()"
   ]
  },
  {
   "cell_type": "markdown",
   "id": "c5d66278",
   "metadata": {
    "deletable": false,
    "editable": false,
    "id": "c5d66278"
   },
   "source": [
    "**Задание 19. Есть ли зависимость между количеством детей и возвратом кредита в срок?**"
   ]
  },
  {
   "cell_type": "code",
   "execution_count": 24,
   "id": "2cacfc4a",
   "metadata": {
    "id": "2cacfc4a"
   },
   "outputs": [
    {
     "data": {
      "text/html": [
       "<div>\n",
       "<style scoped>\n",
       "    .dataframe tbody tr th:only-of-type {\n",
       "        vertical-align: middle;\n",
       "    }\n",
       "\n",
       "    .dataframe tbody tr th {\n",
       "        vertical-align: top;\n",
       "    }\n",
       "\n",
       "    .dataframe thead th {\n",
       "        text-align: right;\n",
       "    }\n",
       "</style>\n",
       "<table border=\"1\" class=\"dataframe\">\n",
       "  <thead>\n",
       "    <tr style=\"text-align: right;\">\n",
       "      <th></th>\n",
       "      <th>кол-во детей</th>\n",
       "      <th>кол-во должников</th>\n",
       "      <th>кол-во заемщиков</th>\n",
       "      <th>доля должников</th>\n",
       "    </tr>\n",
       "  </thead>\n",
       "  <tbody>\n",
       "    <tr>\n",
       "      <th>0</th>\n",
       "      <td>0</td>\n",
       "      <td>1063</td>\n",
       "      <td>14107</td>\n",
       "      <td>7.54%</td>\n",
       "    </tr>\n",
       "    <tr>\n",
       "      <th>1</th>\n",
       "      <td>1</td>\n",
       "      <td>444</td>\n",
       "      <td>4809</td>\n",
       "      <td>9.23%</td>\n",
       "    </tr>\n",
       "    <tr>\n",
       "      <th>2</th>\n",
       "      <td>2</td>\n",
       "      <td>194</td>\n",
       "      <td>2052</td>\n",
       "      <td>9.45%</td>\n",
       "    </tr>\n",
       "    <tr>\n",
       "      <th>3</th>\n",
       "      <td>3</td>\n",
       "      <td>27</td>\n",
       "      <td>330</td>\n",
       "      <td>8.18%</td>\n",
       "    </tr>\n",
       "    <tr>\n",
       "      <th>4</th>\n",
       "      <td>4</td>\n",
       "      <td>4</td>\n",
       "      <td>41</td>\n",
       "      <td>9.76%</td>\n",
       "    </tr>\n",
       "  </tbody>\n",
       "</table>\n",
       "</div>"
      ],
      "text/plain": [
       "   кол-во детей  кол-во должников  кол-во заемщиков доля должников\n",
       "0             0              1063             14107          7.54%\n",
       "1             1               444              4809          9.23%\n",
       "2             2               194              2052          9.45%\n",
       "3             3                27               330          8.18%\n",
       "4             4                 4                41          9.76%"
      ]
     },
     "execution_count": 24,
     "metadata": {},
     "output_type": "execute_result"
    }
   ],
   "source": [
    "data_analys_kids = data.pivot_table('debt', index='children', \n",
    "                                    aggfunc=['sum', 'count', lambda x:'{:.2%}'.format(x.mean())])                   \n",
    "data_analys_kids = data_analys_kids.rename(columns={'sum':'кол-во должников', \n",
    "                                                    'count':'кол-во заемщиков',\n",
    "                                                    '<lambda>':'доля должников',\n",
    "                                                    'debt':''})                                             \n",
    "data_analys_kids.index.name = 'кол-во детей'\n",
    "data_analys_kids = data_analys_kids.reset_index().droplevel(1, axis=1) \n",
    "data_analys_kids.head()"
   ]
  },
  {
   "cell_type": "markdown",
   "id": "3a6b99ec",
   "metadata": {
    "deletable": false,
    "id": "3a6b99ec"
   },
   "source": [
    "**Вывод:** Наибольшая доля должников в когорте где в семье один и/или более детей. Статистика возвратов ДС в срок в семьях без детей чуть выше."
   ]
  },
  {
   "cell_type": "markdown",
   "id": "97be82ca",
   "metadata": {
    "deletable": false,
    "editable": false,
    "id": "97be82ca"
   },
   "source": [
    "**Задание 20. Есть ли зависимость между семейным положением и возвратом кредита в срок?**"
   ]
  },
  {
   "cell_type": "code",
   "execution_count": 25,
   "id": "dc3f7ee8",
   "metadata": {
    "id": "dc3f7ee8"
   },
   "outputs": [
    {
     "data": {
      "text/html": [
       "<div>\n",
       "<style scoped>\n",
       "    .dataframe tbody tr th:only-of-type {\n",
       "        vertical-align: middle;\n",
       "    }\n",
       "\n",
       "    .dataframe tbody tr th {\n",
       "        vertical-align: top;\n",
       "    }\n",
       "\n",
       "    .dataframe thead th {\n",
       "        text-align: right;\n",
       "    }\n",
       "</style>\n",
       "<table border=\"1\" class=\"dataframe\">\n",
       "  <thead>\n",
       "    <tr style=\"text-align: right;\">\n",
       "      <th></th>\n",
       "      <th>семейный статус</th>\n",
       "      <th>кол-во должников</th>\n",
       "      <th>кол-во заемщиков</th>\n",
       "      <th>доля должников</th>\n",
       "    </tr>\n",
       "  </thead>\n",
       "  <tbody>\n",
       "    <tr>\n",
       "      <th>0</th>\n",
       "      <td>Не женат / не замужем</td>\n",
       "      <td>273</td>\n",
       "      <td>2796</td>\n",
       "      <td>9.76%</td>\n",
       "    </tr>\n",
       "    <tr>\n",
       "      <th>1</th>\n",
       "      <td>в разводе</td>\n",
       "      <td>84</td>\n",
       "      <td>1189</td>\n",
       "      <td>7.06%</td>\n",
       "    </tr>\n",
       "    <tr>\n",
       "      <th>2</th>\n",
       "      <td>вдовец / вдова</td>\n",
       "      <td>63</td>\n",
       "      <td>951</td>\n",
       "      <td>6.62%</td>\n",
       "    </tr>\n",
       "    <tr>\n",
       "      <th>3</th>\n",
       "      <td>гражданский брак</td>\n",
       "      <td>385</td>\n",
       "      <td>4146</td>\n",
       "      <td>9.29%</td>\n",
       "    </tr>\n",
       "    <tr>\n",
       "      <th>4</th>\n",
       "      <td>женат / замужем</td>\n",
       "      <td>927</td>\n",
       "      <td>12266</td>\n",
       "      <td>7.56%</td>\n",
       "    </tr>\n",
       "  </tbody>\n",
       "</table>\n",
       "</div>"
      ],
      "text/plain": [
       "         семейный статус  кол-во должников  кол-во заемщиков доля должников\n",
       "0  Не женат / не замужем               273              2796          9.76%\n",
       "1              в разводе                84              1189          7.06%\n",
       "2         вдовец / вдова                63               951          6.62%\n",
       "3       гражданский брак               385              4146          9.29%\n",
       "4        женат / замужем               927             12266          7.56%"
      ]
     },
     "execution_count": 25,
     "metadata": {},
     "output_type": "execute_result"
    }
   ],
   "source": [
    "data_analys_family = data.pivot_table('debt', index='family_status', \n",
    "                                    aggfunc=['sum', 'count', lambda x:'{:.2%}'.format(x.mean())])                   \n",
    "data_analys_family = data_analys_family.rename(columns={'sum':'кол-во должников', \n",
    "                                                    'count':'кол-во заемщиков',\n",
    "                                                    '<lambda>':'доля должников',\n",
    "                                                    'debt':''}) \n",
    "data_analys_family.index.name = 'семейный статус'\n",
    "data_analys_family = data_analys_family.reset_index().droplevel(1, axis=1) \n",
    "data_analys_family.head()"
   ]
  },
  {
   "cell_type": "markdown",
   "id": "1cef7837",
   "metadata": {
    "deletable": false,
    "id": "1cef7837"
   },
   "source": [
    "**Вывод:** Люди в браке или в разводе возвращают кредит в срок чаще, чем люди в гражданском браке или одинокие."
   ]
  },
  {
   "cell_type": "markdown",
   "id": "1e8b2fca",
   "metadata": {
    "deletable": false,
    "editable": false,
    "id": "1e8b2fca"
   },
   "source": [
    "**Задание 21. Есть ли зависимость между уровнем дохода и возвратом кредита в срок?**"
   ]
  },
  {
   "cell_type": "code",
   "execution_count": 26,
   "id": "cd7e3720",
   "metadata": {
    "id": "cd7e3720"
   },
   "outputs": [
    {
     "data": {
      "text/html": [
       "<div>\n",
       "<style scoped>\n",
       "    .dataframe tbody tr th:only-of-type {\n",
       "        vertical-align: middle;\n",
       "    }\n",
       "\n",
       "    .dataframe tbody tr th {\n",
       "        vertical-align: top;\n",
       "    }\n",
       "\n",
       "    .dataframe thead th {\n",
       "        text-align: right;\n",
       "    }\n",
       "</style>\n",
       "<table border=\"1\" class=\"dataframe\">\n",
       "  <thead>\n",
       "    <tr style=\"text-align: right;\">\n",
       "      <th></th>\n",
       "      <th>уровень дохода</th>\n",
       "      <th>кол-во должников</th>\n",
       "      <th>кол-во заемщиков</th>\n",
       "      <th>доля должников</th>\n",
       "    </tr>\n",
       "  </thead>\n",
       "  <tbody>\n",
       "    <tr>\n",
       "      <th>0</th>\n",
       "      <td>A</td>\n",
       "      <td>2</td>\n",
       "      <td>25</td>\n",
       "      <td>8.00%</td>\n",
       "    </tr>\n",
       "    <tr>\n",
       "      <th>1</th>\n",
       "      <td>B</td>\n",
       "      <td>354</td>\n",
       "      <td>5014</td>\n",
       "      <td>7.06%</td>\n",
       "    </tr>\n",
       "    <tr>\n",
       "      <th>2</th>\n",
       "      <td>C</td>\n",
       "      <td>1353</td>\n",
       "      <td>15938</td>\n",
       "      <td>8.49%</td>\n",
       "    </tr>\n",
       "    <tr>\n",
       "      <th>3</th>\n",
       "      <td>D</td>\n",
       "      <td>21</td>\n",
       "      <td>349</td>\n",
       "      <td>6.02%</td>\n",
       "    </tr>\n",
       "    <tr>\n",
       "      <th>4</th>\n",
       "      <td>E</td>\n",
       "      <td>2</td>\n",
       "      <td>22</td>\n",
       "      <td>9.09%</td>\n",
       "    </tr>\n",
       "  </tbody>\n",
       "</table>\n",
       "</div>"
      ],
      "text/plain": [
       "  уровень дохода  кол-во должников  кол-во заемщиков доля должников\n",
       "0              A                 2                25          8.00%\n",
       "1              B               354              5014          7.06%\n",
       "2              C              1353             15938          8.49%\n",
       "3              D                21               349          6.02%\n",
       "4              E                 2                22          9.09%"
      ]
     },
     "execution_count": 26,
     "metadata": {},
     "output_type": "execute_result"
    }
   ],
   "source": [
    "data_analys_selary = data.pivot_table('debt', index='total_income_category', \n",
    "                                    aggfunc=['sum', 'count', lambda x:'{:.2%}'.format(x.mean())])                   \n",
    "data_analys_selary = data_analys_selary.rename(columns={'sum':'кол-во должников', \n",
    "                                                    'count':'кол-во заемщиков',\n",
    "                                                    '<lambda>':'доля должников',\n",
    "                                                    'debt':''}) \n",
    "data_analys_selary.index.name = 'уровень дохода'\n",
    "data_analys_selary = data_analys_selary.reset_index().droplevel(1, axis=1) \n",
    "data_analys_selary.head()"
   ]
  },
  {
   "cell_type": "markdown",
   "id": "e8593def",
   "metadata": {
    "deletable": false,
    "id": "e8593def"
   },
   "source": [
    "**Вывод:** Минимальная доля должников по кредиту в когорте по доходу категории \"D\" - люди с доходом от 50 до 200 т р. На втором месте люди с доходом в категории \"В\" от 30 до 50 т.р"
   ]
  },
  {
   "cell_type": "markdown",
   "id": "99ecbd1f",
   "metadata": {
    "deletable": false,
    "editable": false,
    "id": "99ecbd1f"
   },
   "source": [
    "**Задание 22. Как разные цели кредита влияют на его возврат в срок?**"
   ]
  },
  {
   "cell_type": "code",
   "execution_count": 27,
   "id": "2b687290",
   "metadata": {
    "id": "2b687290"
   },
   "outputs": [
    {
     "data": {
      "text/html": [
       "<div>\n",
       "<style scoped>\n",
       "    .dataframe tbody tr th:only-of-type {\n",
       "        vertical-align: middle;\n",
       "    }\n",
       "\n",
       "    .dataframe tbody tr th {\n",
       "        vertical-align: top;\n",
       "    }\n",
       "\n",
       "    .dataframe thead th {\n",
       "        text-align: right;\n",
       "    }\n",
       "</style>\n",
       "<table border=\"1\" class=\"dataframe\">\n",
       "  <thead>\n",
       "    <tr style=\"text-align: right;\">\n",
       "      <th></th>\n",
       "      <th>цель кредита</th>\n",
       "      <th>кол-во должников</th>\n",
       "      <th>кол-во заемщиков</th>\n",
       "      <th>доля должников</th>\n",
       "    </tr>\n",
       "  </thead>\n",
       "  <tbody>\n",
       "    <tr>\n",
       "      <th>0</th>\n",
       "      <td>операции с автомобилем</td>\n",
       "      <td>400</td>\n",
       "      <td>4281</td>\n",
       "      <td>9.34%</td>\n",
       "    </tr>\n",
       "    <tr>\n",
       "      <th>1</th>\n",
       "      <td>операции с недвижимостью</td>\n",
       "      <td>780</td>\n",
       "      <td>10754</td>\n",
       "      <td>7.25%</td>\n",
       "    </tr>\n",
       "    <tr>\n",
       "      <th>2</th>\n",
       "      <td>получение образования</td>\n",
       "      <td>369</td>\n",
       "      <td>3989</td>\n",
       "      <td>9.25%</td>\n",
       "    </tr>\n",
       "    <tr>\n",
       "      <th>3</th>\n",
       "      <td>проведение свадьбы</td>\n",
       "      <td>183</td>\n",
       "      <td>2324</td>\n",
       "      <td>7.87%</td>\n",
       "    </tr>\n",
       "  </tbody>\n",
       "</table>\n",
       "</div>"
      ],
      "text/plain": [
       "               цель кредита  кол-во должников  кол-во заемщиков доля должников\n",
       "0    операции с автомобилем               400              4281          9.34%\n",
       "1  операции с недвижимостью               780             10754          7.25%\n",
       "2     получение образования               369              3989          9.25%\n",
       "3        проведение свадьбы               183              2324          7.87%"
      ]
     },
     "execution_count": 27,
     "metadata": {},
     "output_type": "execute_result"
    }
   ],
   "source": [
    "data_analys_purpose = data.pivot_table('debt', index='purpose_category', \n",
    "                                    aggfunc=['sum', 'count', lambda x:'{:.2%}'.format(x.mean())])                   \n",
    "data_analys_purpose = data_analys_purpose.rename(columns={'sum':'кол-во должников', \n",
    "                                                    'count':'кол-во заемщиков',\n",
    "                                                    '<lambda>':'доля должников',\n",
    "                                                    'debt':''}) \n",
    "data_analys_purpose.index.name = 'цель кредита'\n",
    "data_analys_purpose = data_analys_purpose.reset_index().droplevel(1, axis=1) \n",
    "data_analys_purpose.head()"
   ]
  },
  {
   "cell_type": "markdown",
   "id": "b4bb2ce6",
   "metadata": {
    "deletable": false,
    "id": "b4bb2ce6"
   },
   "source": [
    "**Вывод:** Возврат денежных средств с срок выше у той когорты заемщиков, чьей целью является покупка жилья и проведение свадьбы."
   ]
  },
  {
   "cell_type": "markdown",
   "id": "09c3ac4c",
   "metadata": {
    "deletable": false,
    "editable": false,
    "id": "09c3ac4c"
   },
   "source": [
    "**Задание 23. Приведите возможные причины появления пропусков в исходных данных.**"
   ]
  },
  {
   "cell_type": "markdown",
   "id": "9da2ceda",
   "metadata": {
    "deletable": false,
    "id": "9da2ceda"
   },
   "source": [
    "Опечатки(человеческий фактор), ошибка конвертации данных, ошибки на сервере, ошибки при объединении таблиц и неправильный запрос к ним."
   ]
  },
  {
   "cell_type": "markdown",
   "id": "7b0487d6",
   "metadata": {
    "deletable": false,
    "editable": false,
    "id": "7b0487d6"
   },
   "source": [
    "**Задание 24. Объясните, почему заполнить пропуски медианным значением — лучшее решение для количественных переменных.**"
   ]
  },
  {
   "cell_type": "markdown",
   "id": "7ecf2b8e",
   "metadata": {
    "deletable": false,
    "id": "7ecf2b8e"
   },
   "source": [
    "*Ответ:* Медиана позволяет нивелировать влияние выбросов на выборку."
   ]
  },
  {
   "cell_type": "markdown",
   "id": "6db5255a",
   "metadata": {
    "deletable": false,
    "editable": false,
    "id": "6db5255a"
   },
   "source": [
    "## Общий вывод."
   ]
  },
  {
   "cell_type": "markdown",
   "id": "bad65432",
   "metadata": {
    "id": "bad65432"
   },
   "source": [
    "Опираясь на **данное** исследование хорошими заемщиками выступают люди в браке, без детей, с доходом от 50 т до 200 т рублей и с целью займа - покупка жилья или иной недвижимости, а также проведение свадеб. Рискованным клиентом может выступить человек с доходом ниже 30 т р или свыше 200 т.р, одинокий либо в гражданском браке, целью кредитования которого является покупка автомобиля или получение образования."
   ]
  }
 ],
 "metadata": {
  "ExecuteTimeLog": [
   {
    "duration": 613,
    "start_time": "2022-08-02T10:18:11.570Z"
   },
   {
    "duration": 25,
    "start_time": "2022-08-02T10:18:13.648Z"
   },
   {
    "duration": 21,
    "start_time": "2022-08-02T10:18:15.441Z"
   },
   {
    "duration": 13,
    "start_time": "2022-08-02T10:18:18.260Z"
   },
   {
    "duration": 56,
    "start_time": "2022-08-02T10:18:20.145Z"
   },
   {
    "duration": 9,
    "start_time": "2022-08-02T10:18:22.901Z"
   },
   {
    "duration": 14,
    "start_time": "2022-08-02T10:18:24.450Z"
   },
   {
    "duration": 6,
    "start_time": "2022-08-02T10:18:26.541Z"
   },
   {
    "duration": 8,
    "start_time": "2022-08-02T10:18:27.702Z"
   },
   {
    "duration": 6,
    "start_time": "2022-08-02T10:18:28.789Z"
   },
   {
    "duration": 38,
    "start_time": "2022-08-02T10:18:33.435Z"
   },
   {
    "duration": 10,
    "start_time": "2022-08-02T10:18:34.760Z"
   },
   {
    "duration": 5,
    "start_time": "2022-08-02T10:18:38.560Z"
   },
   {
    "duration": 25,
    "start_time": "2022-08-02T10:18:40.401Z"
   },
   {
    "duration": 18,
    "start_time": "2022-08-02T10:18:41.242Z"
   },
   {
    "duration": 13,
    "start_time": "2022-08-02T10:18:42.740Z"
   },
   {
    "duration": 4,
    "start_time": "2022-08-02T10:18:46.037Z"
   },
   {
    "duration": 11,
    "start_time": "2022-08-02T10:18:47.850Z"
   },
   {
    "duration": 8,
    "start_time": "2022-08-02T10:18:49.044Z"
   },
   {
    "duration": 6,
    "start_time": "2022-08-02T10:18:52.102Z"
   },
   {
    "duration": 9,
    "start_time": "2022-08-02T10:18:54.465Z"
   },
   {
    "duration": 25,
    "start_time": "2022-08-02T10:19:19.001Z"
   },
   {
    "duration": 18,
    "start_time": "2022-08-02T10:19:34.852Z"
   },
   {
    "duration": 8,
    "start_time": "2022-08-02T10:22:15.450Z"
   },
   {
    "duration": 6,
    "start_time": "2022-08-02T10:22:34.239Z"
   },
   {
    "duration": 8,
    "start_time": "2022-08-02T10:22:42.638Z"
   },
   {
    "duration": 7,
    "start_time": "2022-08-02T10:24:44.659Z"
   },
   {
    "duration": 27,
    "start_time": "2022-08-02T10:33:31.751Z"
   },
   {
    "duration": 20,
    "start_time": "2022-08-02T10:33:48.101Z"
   },
   {
    "duration": 87,
    "start_time": "2022-08-02T10:34:06.491Z"
   },
   {
    "duration": 27,
    "start_time": "2022-08-02T10:34:36.593Z"
   },
   {
    "duration": 9,
    "start_time": "2022-08-02T10:34:51.334Z"
   },
   {
    "duration": 20,
    "start_time": "2022-08-02T10:35:03.691Z"
   },
   {
    "duration": 14,
    "start_time": "2022-08-02T10:36:11.169Z"
   },
   {
    "duration": 5,
    "start_time": "2022-08-02T10:36:33.838Z"
   },
   {
    "duration": 30,
    "start_time": "2022-08-02T10:36:40.790Z"
   },
   {
    "duration": 15,
    "start_time": "2022-08-02T10:37:01.951Z"
   },
   {
    "duration": 10,
    "start_time": "2022-08-02T10:38:24.470Z"
   },
   {
    "duration": 19,
    "start_time": "2022-08-02T10:39:23.533Z"
   },
   {
    "duration": 7,
    "start_time": "2022-08-02T10:40:29.672Z"
   },
   {
    "duration": 12,
    "start_time": "2022-08-02T10:41:15.236Z"
   },
   {
    "duration": 9,
    "start_time": "2022-08-02T10:41:28.226Z"
   },
   {
    "duration": 14,
    "start_time": "2022-08-02T10:44:30.091Z"
   },
   {
    "duration": 14,
    "start_time": "2022-08-02T10:46:22.681Z"
   },
   {
    "duration": 13,
    "start_time": "2022-08-02T10:47:14.035Z"
   },
   {
    "duration": 17,
    "start_time": "2022-08-02T10:47:44.971Z"
   },
   {
    "duration": 23,
    "start_time": "2022-08-02T10:48:11.100Z"
   },
   {
    "duration": 981,
    "start_time": "2022-08-02T10:48:24.099Z"
   },
   {
    "duration": 1167,
    "start_time": "2022-08-02T10:48:49.760Z"
   },
   {
    "duration": 983,
    "start_time": "2022-08-02T10:49:46.590Z"
   },
   {
    "duration": 2164,
    "start_time": "2022-08-02T10:50:08.452Z"
   },
   {
    "duration": 11,
    "start_time": "2022-08-02T10:50:38.024Z"
   },
   {
    "duration": 7,
    "start_time": "2022-08-02T10:51:41.432Z"
   },
   {
    "duration": 7,
    "start_time": "2022-08-02T10:51:52.834Z"
   },
   {
    "duration": 8,
    "start_time": "2022-08-02T10:52:09.540Z"
   },
   {
    "duration": 9,
    "start_time": "2022-08-02T10:52:38.459Z"
   },
   {
    "duration": 10,
    "start_time": "2022-08-02T10:53:01.580Z"
   },
   {
    "duration": 11,
    "start_time": "2022-08-02T11:10:12.125Z"
   },
   {
    "duration": 720,
    "start_time": "2022-08-02T11:11:42.371Z"
   },
   {
    "duration": 833,
    "start_time": "2022-08-02T11:11:56.030Z"
   },
   {
    "duration": 6,
    "start_time": "2022-08-02T11:12:15.167Z"
   },
   {
    "duration": 157,
    "start_time": "2022-08-02T11:12:26.042Z"
   },
   {
    "duration": 10,
    "start_time": "2022-08-02T11:12:55.626Z"
   },
   {
    "duration": 149,
    "start_time": "2022-08-02T11:15:14.771Z"
   },
   {
    "duration": 5,
    "start_time": "2022-08-02T11:15:30.691Z"
   },
   {
    "duration": 6,
    "start_time": "2022-08-02T11:15:33.990Z"
   },
   {
    "duration": 137,
    "start_time": "2022-08-02T11:15:34.430Z"
   },
   {
    "duration": 10,
    "start_time": "2022-08-02T11:18:32.523Z"
   },
   {
    "duration": 7,
    "start_time": "2022-08-02T11:18:34.726Z"
   },
   {
    "duration": 13,
    "start_time": "2022-08-02T11:18:36.331Z"
   },
   {
    "duration": 90,
    "start_time": "2022-08-02T11:21:48.591Z"
   },
   {
    "duration": 22,
    "start_time": "2022-08-02T11:21:49.690Z"
   },
   {
    "duration": 16,
    "start_time": "2022-08-02T11:21:50.360Z"
   },
   {
    "duration": 11,
    "start_time": "2022-08-02T11:21:52.152Z"
   },
   {
    "duration": 36,
    "start_time": "2022-08-02T11:21:52.930Z"
   },
   {
    "duration": 4,
    "start_time": "2022-08-02T11:21:53.851Z"
   },
   {
    "duration": 13,
    "start_time": "2022-08-02T11:21:54.398Z"
   },
   {
    "duration": 5,
    "start_time": "2022-08-02T11:21:55.390Z"
   },
   {
    "duration": 10,
    "start_time": "2022-08-02T11:21:56.127Z"
   },
   {
    "duration": 5,
    "start_time": "2022-08-02T11:21:56.850Z"
   },
   {
    "duration": 44,
    "start_time": "2022-08-02T11:21:57.891Z"
   },
   {
    "duration": 10,
    "start_time": "2022-08-02T11:21:58.523Z"
   },
   {
    "duration": 5,
    "start_time": "2022-08-02T11:21:59.529Z"
   },
   {
    "duration": 21,
    "start_time": "2022-08-02T11:22:00.570Z"
   },
   {
    "duration": 27,
    "start_time": "2022-08-02T11:22:00.792Z"
   },
   {
    "duration": 17,
    "start_time": "2022-08-02T11:22:01.533Z"
   },
   {
    "duration": 6,
    "start_time": "2022-08-02T11:22:02.698Z"
   },
   {
    "duration": 11,
    "start_time": "2022-08-02T11:22:03.646Z"
   },
   {
    "duration": 6,
    "start_time": "2022-08-02T11:22:04.431Z"
   },
   {
    "duration": 4,
    "start_time": "2022-08-02T11:22:05.290Z"
   },
   {
    "duration": 9,
    "start_time": "2022-08-02T11:22:05.826Z"
   },
   {
    "duration": 27,
    "start_time": "2022-08-02T11:22:06.898Z"
   },
   {
    "duration": 7,
    "start_time": "2022-08-02T11:22:16.749Z"
   },
   {
    "duration": 9,
    "start_time": "2022-08-02T11:22:26.350Z"
   },
   {
    "duration": 10,
    "start_time": "2022-08-02T11:25:48.649Z"
   },
   {
    "duration": 9,
    "start_time": "2022-08-02T11:25:52.727Z"
   },
   {
    "duration": 9,
    "start_time": "2022-08-02T11:25:58.244Z"
   },
   {
    "duration": 8,
    "start_time": "2022-08-02T11:28:45.581Z"
   },
   {
    "duration": 9,
    "start_time": "2022-08-02T11:29:27.661Z"
   },
   {
    "duration": 10,
    "start_time": "2022-08-02T11:44:58.049Z"
   },
   {
    "duration": 9,
    "start_time": "2022-08-02T11:45:32.731Z"
   },
   {
    "duration": 7,
    "start_time": "2022-08-02T11:45:49.235Z"
   },
   {
    "duration": 10,
    "start_time": "2022-08-02T11:46:26.291Z"
   },
   {
    "duration": 16,
    "start_time": "2022-08-02T11:46:32.501Z"
   },
   {
    "duration": 8,
    "start_time": "2022-08-02T11:47:07.727Z"
   },
   {
    "duration": 5,
    "start_time": "2022-08-02T11:55:38.442Z"
   },
   {
    "duration": 14,
    "start_time": "2022-08-02T11:58:54.300Z"
   },
   {
    "duration": 11,
    "start_time": "2022-08-02T12:07:09.800Z"
   },
   {
    "duration": 9,
    "start_time": "2022-08-02T12:07:17.471Z"
   },
   {
    "duration": 9,
    "start_time": "2022-08-02T12:07:28.392Z"
   },
   {
    "duration": 12,
    "start_time": "2022-08-02T12:08:02.841Z"
   },
   {
    "duration": 13,
    "start_time": "2022-08-02T12:49:47.017Z"
   },
   {
    "duration": 12,
    "start_time": "2022-08-02T12:49:48.941Z"
   },
   {
    "duration": 13,
    "start_time": "2022-08-02T12:50:34.260Z"
   },
   {
    "duration": 13,
    "start_time": "2022-08-02T13:20:13.120Z"
   },
   {
    "duration": 140,
    "start_time": "2022-08-02T13:20:28.415Z"
   },
   {
    "duration": 20,
    "start_time": "2022-08-02T13:21:05.770Z"
   },
   {
    "duration": 19,
    "start_time": "2022-08-02T13:21:08.419Z"
   },
   {
    "duration": 153,
    "start_time": "2022-08-02T13:21:10.212Z"
   },
   {
    "duration": 20,
    "start_time": "2022-08-02T13:21:22.077Z"
   },
   {
    "duration": 20,
    "start_time": "2022-08-02T13:21:36.420Z"
   },
   {
    "duration": 139,
    "start_time": "2022-08-02T13:21:37.920Z"
   },
   {
    "duration": 70,
    "start_time": "2022-08-02T13:22:00.572Z"
   },
   {
    "duration": 23,
    "start_time": "2022-08-02T13:22:00.645Z"
   },
   {
    "duration": 36,
    "start_time": "2022-08-02T13:22:00.670Z"
   },
   {
    "duration": 11,
    "start_time": "2022-08-02T13:22:00.708Z"
   },
   {
    "duration": 35,
    "start_time": "2022-08-02T13:22:00.721Z"
   },
   {
    "duration": 4,
    "start_time": "2022-08-02T13:22:00.757Z"
   },
   {
    "duration": 41,
    "start_time": "2022-08-02T13:22:00.763Z"
   },
   {
    "duration": 7,
    "start_time": "2022-08-02T13:22:00.806Z"
   },
   {
    "duration": 18,
    "start_time": "2022-08-02T13:22:00.815Z"
   },
   {
    "duration": 9,
    "start_time": "2022-08-02T13:22:00.837Z"
   },
   {
    "duration": 65,
    "start_time": "2022-08-02T13:22:00.848Z"
   },
   {
    "duration": 15,
    "start_time": "2022-08-02T13:22:00.915Z"
   },
   {
    "duration": 11,
    "start_time": "2022-08-02T13:22:00.932Z"
   },
   {
    "duration": 23,
    "start_time": "2022-08-02T13:22:00.946Z"
   },
   {
    "duration": 54,
    "start_time": "2022-08-02T13:22:00.971Z"
   },
   {
    "duration": 18,
    "start_time": "2022-08-02T13:22:01.027Z"
   },
   {
    "duration": 7,
    "start_time": "2022-08-02T13:22:01.047Z"
   },
   {
    "duration": 30,
    "start_time": "2022-08-02T13:22:01.056Z"
   },
   {
    "duration": 20,
    "start_time": "2022-08-02T13:22:01.089Z"
   },
   {
    "duration": 13,
    "start_time": "2022-08-02T13:22:01.111Z"
   },
   {
    "duration": 45,
    "start_time": "2022-08-02T13:22:01.126Z"
   },
   {
    "duration": 25,
    "start_time": "2022-08-02T13:22:01.173Z"
   },
   {
    "duration": 30,
    "start_time": "2022-08-02T13:22:01.201Z"
   },
   {
    "duration": 192,
    "start_time": "2022-08-02T13:22:01.233Z"
   },
   {
    "duration": 15,
    "start_time": "2022-08-02T13:30:16.889Z"
   },
   {
    "duration": 15,
    "start_time": "2022-08-02T13:34:51.430Z"
   },
   {
    "duration": 121,
    "start_time": "2022-08-02T13:47:05.532Z"
   },
   {
    "duration": 127,
    "start_time": "2022-08-02T13:47:24.442Z"
   },
   {
    "duration": 134,
    "start_time": "2022-08-02T13:47:32.162Z"
   },
   {
    "duration": 113,
    "start_time": "2022-08-02T13:47:52.161Z"
   },
   {
    "duration": 116,
    "start_time": "2022-08-02T13:48:00.153Z"
   },
   {
    "duration": 122,
    "start_time": "2022-08-02T13:48:05.772Z"
   },
   {
    "duration": 124,
    "start_time": "2022-08-02T13:48:19.972Z"
   },
   {
    "duration": 123,
    "start_time": "2022-08-02T13:48:27.823Z"
   },
   {
    "duration": 123,
    "start_time": "2022-08-02T13:48:45.642Z"
   },
   {
    "duration": 130,
    "start_time": "2022-08-02T13:48:53.731Z"
   },
   {
    "duration": 133,
    "start_time": "2022-08-02T13:48:57.883Z"
   },
   {
    "duration": 15,
    "start_time": "2022-08-02T13:50:41.743Z"
   },
   {
    "duration": 12,
    "start_time": "2022-08-02T13:50:48.365Z"
   },
   {
    "duration": 15,
    "start_time": "2022-08-02T13:51:01.243Z"
   },
   {
    "duration": 16,
    "start_time": "2022-08-02T13:51:11.583Z"
   },
   {
    "duration": 124,
    "start_time": "2022-08-02T13:51:12.722Z"
   },
   {
    "duration": 129,
    "start_time": "2022-08-02T13:53:51.034Z"
   },
   {
    "duration": 193,
    "start_time": "2022-08-02T13:54:39.775Z"
   },
   {
    "duration": 297,
    "start_time": "2022-08-02T13:55:08.596Z"
   },
   {
    "duration": 199,
    "start_time": "2022-08-02T14:00:25.647Z"
   },
   {
    "duration": 194,
    "start_time": "2022-08-02T14:00:30.433Z"
   },
   {
    "duration": 215,
    "start_time": "2022-08-02T14:16:48.736Z"
   },
   {
    "duration": 21,
    "start_time": "2022-08-02T14:22:32.832Z"
   },
   {
    "duration": 20,
    "start_time": "2022-08-02T14:22:38.480Z"
   },
   {
    "duration": 127,
    "start_time": "2022-08-02T14:22:55.479Z"
   },
   {
    "duration": 18,
    "start_time": "2022-08-02T14:23:38.635Z"
   },
   {
    "duration": 134,
    "start_time": "2022-08-02T14:28:50.559Z"
   },
   {
    "duration": 4,
    "start_time": "2022-08-02T14:29:56.056Z"
   },
   {
    "duration": 4,
    "start_time": "2022-08-02T14:30:02.599Z"
   },
   {
    "duration": 4,
    "start_time": "2022-08-02T14:30:06.898Z"
   },
   {
    "duration": 17,
    "start_time": "2022-08-02T14:30:30.170Z"
   },
   {
    "duration": 20,
    "start_time": "2022-08-02T14:31:15.942Z"
   },
   {
    "duration": 21,
    "start_time": "2022-08-02T14:31:32.235Z"
   },
   {
    "duration": 18,
    "start_time": "2022-08-02T14:31:52.958Z"
   },
   {
    "duration": 16,
    "start_time": "2022-08-02T14:32:03.269Z"
   },
   {
    "duration": 23,
    "start_time": "2022-08-02T14:35:03.289Z"
   },
   {
    "duration": 42,
    "start_time": "2022-08-02T17:19:37.830Z"
   },
   {
    "duration": 859,
    "start_time": "2022-08-02T17:19:42.486Z"
   },
   {
    "duration": 63,
    "start_time": "2022-08-02T17:19:48.242Z"
   },
   {
    "duration": 17,
    "start_time": "2022-08-02T17:20:01.430Z"
   },
   {
    "duration": 71,
    "start_time": "2022-08-02T17:20:09.027Z"
   },
   {
    "duration": 16,
    "start_time": "2022-08-02T17:20:10.275Z"
   },
   {
    "duration": 16,
    "start_time": "2022-08-02T17:20:11.723Z"
   },
   {
    "duration": 9,
    "start_time": "2022-08-02T17:20:13.669Z"
   },
   {
    "duration": 30,
    "start_time": "2022-08-02T17:20:14.590Z"
   },
   {
    "duration": 3,
    "start_time": "2022-08-02T17:20:15.942Z"
   },
   {
    "duration": 8,
    "start_time": "2022-08-02T17:20:16.831Z"
   },
   {
    "duration": 4,
    "start_time": "2022-08-02T17:20:18.243Z"
   },
   {
    "duration": 6,
    "start_time": "2022-08-02T17:20:19.151Z"
   },
   {
    "duration": 5,
    "start_time": "2022-08-02T17:20:20.079Z"
   },
   {
    "duration": 30,
    "start_time": "2022-08-02T17:20:28.423Z"
   },
   {
    "duration": 9,
    "start_time": "2022-08-02T17:20:29.650Z"
   },
   {
    "duration": 4,
    "start_time": "2022-08-02T17:20:33.083Z"
   },
   {
    "duration": 17,
    "start_time": "2022-08-02T17:20:35.929Z"
   },
   {
    "duration": 19,
    "start_time": "2022-08-02T17:20:36.527Z"
   },
   {
    "duration": 11,
    "start_time": "2022-08-02T17:20:37.443Z"
   },
   {
    "duration": 3,
    "start_time": "2022-08-02T17:20:39.133Z"
   },
   {
    "duration": 9,
    "start_time": "2022-08-02T17:20:39.682Z"
   },
   {
    "duration": 6,
    "start_time": "2022-08-02T17:20:40.627Z"
   },
   {
    "duration": 3,
    "start_time": "2022-08-02T17:20:41.943Z"
   },
   {
    "duration": 9,
    "start_time": "2022-08-02T17:20:42.659Z"
   },
   {
    "duration": 13,
    "start_time": "2022-08-02T17:20:43.930Z"
   },
   {
    "duration": 14,
    "start_time": "2022-08-02T17:20:44.965Z"
   },
   {
    "duration": 119,
    "start_time": "2022-08-02T17:20:45.726Z"
   },
   {
    "duration": 14,
    "start_time": "2022-08-02T17:20:47.520Z"
   },
   {
    "duration": 11,
    "start_time": "2022-08-02T17:21:31.164Z"
   },
   {
    "duration": 12,
    "start_time": "2022-08-02T17:21:33.927Z"
   },
   {
    "duration": 16,
    "start_time": "2022-08-02T17:21:43.871Z"
   },
   {
    "duration": 15,
    "start_time": "2022-08-02T17:22:21.589Z"
   },
   {
    "duration": 32,
    "start_time": "2022-08-02T17:34:46.828Z"
   },
   {
    "duration": 7,
    "start_time": "2022-08-02T17:35:27.234Z"
   },
   {
    "duration": 7,
    "start_time": "2022-08-02T17:36:11.060Z"
   },
   {
    "duration": 59,
    "start_time": "2022-08-03T04:57:52.359Z"
   },
   {
    "duration": 79,
    "start_time": "2022-08-03T04:58:04.386Z"
   },
   {
    "duration": 50,
    "start_time": "2022-08-03T04:58:36.357Z"
   },
   {
    "duration": 50,
    "start_time": "2022-08-03T04:59:13.261Z"
   },
   {
    "duration": 57,
    "start_time": "2022-08-03T07:24:10.943Z"
   },
   {
    "duration": 980,
    "start_time": "2022-08-03T07:24:17.144Z"
   },
   {
    "duration": 27,
    "start_time": "2022-08-03T07:24:18.126Z"
   },
   {
    "duration": 21,
    "start_time": "2022-08-03T07:24:18.155Z"
   },
   {
    "duration": 8,
    "start_time": "2022-08-03T07:24:18.178Z"
   },
   {
    "duration": 43,
    "start_time": "2022-08-03T07:24:18.188Z"
   },
   {
    "duration": 4,
    "start_time": "2022-08-03T07:24:18.233Z"
   },
   {
    "duration": 12,
    "start_time": "2022-08-03T07:24:18.239Z"
   },
   {
    "duration": 4,
    "start_time": "2022-08-03T07:24:18.254Z"
   },
   {
    "duration": 9,
    "start_time": "2022-08-03T07:24:18.260Z"
   },
   {
    "duration": 5,
    "start_time": "2022-08-03T07:24:18.271Z"
   },
   {
    "duration": 66,
    "start_time": "2022-08-03T07:24:18.277Z"
   },
   {
    "duration": 8,
    "start_time": "2022-08-03T07:24:18.344Z"
   },
   {
    "duration": 5,
    "start_time": "2022-08-03T07:24:18.354Z"
   },
   {
    "duration": 18,
    "start_time": "2022-08-03T07:24:18.361Z"
   },
   {
    "duration": 39,
    "start_time": "2022-08-03T07:24:18.380Z"
   },
   {
    "duration": 13,
    "start_time": "2022-08-03T07:24:18.420Z"
   },
   {
    "duration": 5,
    "start_time": "2022-08-03T07:24:18.434Z"
   },
   {
    "duration": 16,
    "start_time": "2022-08-03T07:24:18.441Z"
   },
   {
    "duration": 6,
    "start_time": "2022-08-03T07:24:18.459Z"
   },
   {
    "duration": 4,
    "start_time": "2022-08-03T07:24:18.466Z"
   },
   {
    "duration": 33,
    "start_time": "2022-08-03T07:24:18.471Z"
   },
   {
    "duration": 74,
    "start_time": "2022-08-03T07:24:23.082Z"
   },
   {
    "duration": 16,
    "start_time": "2022-08-03T07:24:33.051Z"
   },
   {
    "duration": 27,
    "start_time": "2022-08-03T07:30:25.443Z"
   },
   {
    "duration": 88,
    "start_time": "2022-08-03T07:31:04.952Z"
   },
   {
    "duration": 14,
    "start_time": "2022-08-03T07:31:11.743Z"
   },
   {
    "duration": 1805,
    "start_time": "2022-08-03T07:31:23.493Z"
   },
   {
    "duration": 1553,
    "start_time": "2022-08-03T07:31:36.394Z"
   },
   {
    "duration": 14,
    "start_time": "2022-08-03T07:31:54.651Z"
   },
   {
    "duration": 87,
    "start_time": "2022-08-03T07:34:32.082Z"
   },
   {
    "duration": 13,
    "start_time": "2022-08-03T07:34:49.133Z"
   },
   {
    "duration": 64,
    "start_time": "2022-08-03T07:35:12.533Z"
   },
   {
    "duration": 22,
    "start_time": "2022-08-03T07:35:13.717Z"
   },
   {
    "duration": 20,
    "start_time": "2022-08-03T07:35:14.542Z"
   },
   {
    "duration": 8,
    "start_time": "2022-08-03T07:35:16.155Z"
   },
   {
    "duration": 35,
    "start_time": "2022-08-03T07:35:16.994Z"
   },
   {
    "duration": 4,
    "start_time": "2022-08-03T07:35:18.116Z"
   },
   {
    "duration": 7,
    "start_time": "2022-08-03T07:35:18.729Z"
   },
   {
    "duration": 4,
    "start_time": "2022-08-03T07:35:19.653Z"
   },
   {
    "duration": 6,
    "start_time": "2022-08-03T07:35:20.290Z"
   },
   {
    "duration": 5,
    "start_time": "2022-08-03T07:35:20.916Z"
   },
   {
    "duration": 30,
    "start_time": "2022-08-03T07:35:21.743Z"
   },
   {
    "duration": 10,
    "start_time": "2022-08-03T07:35:22.318Z"
   },
   {
    "duration": 4,
    "start_time": "2022-08-03T07:35:23.233Z"
   },
   {
    "duration": 16,
    "start_time": "2022-08-03T07:35:24.075Z"
   },
   {
    "duration": 15,
    "start_time": "2022-08-03T07:35:24.342Z"
   },
   {
    "duration": 10,
    "start_time": "2022-08-03T07:35:24.964Z"
   },
   {
    "duration": 5,
    "start_time": "2022-08-03T07:35:26.033Z"
   },
   {
    "duration": 9,
    "start_time": "2022-08-03T07:35:26.737Z"
   },
   {
    "duration": 7,
    "start_time": "2022-08-03T07:35:27.493Z"
   },
   {
    "duration": 3,
    "start_time": "2022-08-03T07:35:28.363Z"
   },
   {
    "duration": 8,
    "start_time": "2022-08-03T07:35:28.774Z"
   },
   {
    "duration": 12,
    "start_time": "2022-08-03T07:35:30.642Z"
   },
   {
    "duration": 2637,
    "start_time": "2022-08-03T07:35:32.829Z"
   },
   {
    "duration": 9,
    "start_time": "2022-08-03T07:36:02.550Z"
   },
   {
    "duration": 69,
    "start_time": "2022-08-03T07:45:39.556Z"
   },
   {
    "duration": 7,
    "start_time": "2022-08-03T07:46:30.153Z"
   },
   {
    "duration": 46,
    "start_time": "2022-08-03T07:46:48.296Z"
   },
   {
    "duration": 65,
    "start_time": "2022-08-03T07:46:50.717Z"
   },
   {
    "duration": 21,
    "start_time": "2022-08-03T07:46:51.645Z"
   },
   {
    "duration": 15,
    "start_time": "2022-08-03T07:46:52.412Z"
   },
   {
    "duration": 9,
    "start_time": "2022-08-03T07:46:53.836Z"
   },
   {
    "duration": 29,
    "start_time": "2022-08-03T07:46:54.542Z"
   },
   {
    "duration": 3,
    "start_time": "2022-08-03T07:46:55.566Z"
   },
   {
    "duration": 10,
    "start_time": "2022-08-03T07:46:56.211Z"
   },
   {
    "duration": 4,
    "start_time": "2022-08-03T07:46:57.248Z"
   },
   {
    "duration": 5,
    "start_time": "2022-08-03T07:46:58.056Z"
   },
   {
    "duration": 5,
    "start_time": "2022-08-03T07:46:58.941Z"
   },
   {
    "duration": 30,
    "start_time": "2022-08-03T07:47:00.217Z"
   },
   {
    "duration": 9,
    "start_time": "2022-08-03T07:47:00.942Z"
   },
   {
    "duration": 4,
    "start_time": "2022-08-03T07:47:02.037Z"
   },
   {
    "duration": 17,
    "start_time": "2022-08-03T07:47:03.144Z"
   },
   {
    "duration": 18,
    "start_time": "2022-08-03T07:47:03.415Z"
   },
   {
    "duration": 12,
    "start_time": "2022-08-03T07:47:04.410Z"
   },
   {
    "duration": 3,
    "start_time": "2022-08-03T07:47:05.433Z"
   },
   {
    "duration": 9,
    "start_time": "2022-08-03T07:47:05.880Z"
   },
   {
    "duration": 5,
    "start_time": "2022-08-03T07:47:06.538Z"
   },
   {
    "duration": 3,
    "start_time": "2022-08-03T07:47:07.185Z"
   },
   {
    "duration": 13,
    "start_time": "2022-08-03T07:47:07.709Z"
   },
   {
    "duration": 15,
    "start_time": "2022-08-03T07:47:09.020Z"
   },
   {
    "duration": 5,
    "start_time": "2022-08-03T07:47:10.395Z"
   },
   {
    "duration": 13,
    "start_time": "2022-08-03T07:48:04.742Z"
   },
   {
    "duration": 14,
    "start_time": "2022-08-03T07:48:14.255Z"
   },
   {
    "duration": 6,
    "start_time": "2022-08-03T07:48:30.617Z"
   },
   {
    "duration": 5,
    "start_time": "2022-08-03T07:48:58.394Z"
   },
   {
    "duration": 6,
    "start_time": "2022-08-03T07:49:28.243Z"
   },
   {
    "duration": 5,
    "start_time": "2022-08-03T07:49:32.354Z"
   },
   {
    "duration": 7,
    "start_time": "2022-08-03T07:49:40.275Z"
   },
   {
    "duration": 81,
    "start_time": "2022-08-03T07:51:17.344Z"
   },
   {
    "duration": 6,
    "start_time": "2022-08-03T07:51:22.142Z"
   },
   {
    "duration": 86,
    "start_time": "2022-08-03T07:51:56.239Z"
   },
   {
    "duration": 11,
    "start_time": "2022-08-03T07:52:02.055Z"
   },
   {
    "duration": 11,
    "start_time": "2022-08-03T07:52:09.675Z"
   },
   {
    "duration": 10,
    "start_time": "2022-08-03T07:52:15.202Z"
   },
   {
    "duration": 16,
    "start_time": "2022-08-03T07:54:16.130Z"
   },
   {
    "duration": 14,
    "start_time": "2022-08-03T07:55:15.986Z"
   },
   {
    "duration": 10,
    "start_time": "2022-08-03T07:55:40.738Z"
   },
   {
    "duration": 14,
    "start_time": "2022-08-03T07:56:58.120Z"
   },
   {
    "duration": 87,
    "start_time": "2022-08-03T07:57:26.096Z"
   },
   {
    "duration": 15,
    "start_time": "2022-08-03T07:57:37.186Z"
   },
   {
    "duration": 17,
    "start_time": "2022-08-03T07:57:43.114Z"
   },
   {
    "duration": 8,
    "start_time": "2022-08-03T07:57:58.119Z"
   },
   {
    "duration": 9,
    "start_time": "2022-08-03T07:58:30.934Z"
   },
   {
    "duration": 86,
    "start_time": "2022-08-03T07:58:50.824Z"
   },
   {
    "duration": 18,
    "start_time": "2022-08-03T07:58:52.085Z"
   },
   {
    "duration": 20,
    "start_time": "2022-08-03T07:58:52.558Z"
   },
   {
    "duration": 18,
    "start_time": "2022-08-03T07:58:53.453Z"
   },
   {
    "duration": 49,
    "start_time": "2022-08-03T07:58:53.809Z"
   },
   {
    "duration": 4,
    "start_time": "2022-08-03T07:58:54.457Z"
   },
   {
    "duration": 10,
    "start_time": "2022-08-03T07:58:54.826Z"
   },
   {
    "duration": 8,
    "start_time": "2022-08-03T07:58:55.407Z"
   },
   {
    "duration": 10,
    "start_time": "2022-08-03T07:58:55.796Z"
   },
   {
    "duration": 6,
    "start_time": "2022-08-03T07:58:56.224Z"
   },
   {
    "duration": 47,
    "start_time": "2022-08-03T07:58:56.774Z"
   },
   {
    "duration": 10,
    "start_time": "2022-08-03T07:58:57.137Z"
   },
   {
    "duration": 6,
    "start_time": "2022-08-03T07:58:57.755Z"
   },
   {
    "duration": 21,
    "start_time": "2022-08-03T07:58:58.345Z"
   },
   {
    "duration": 24,
    "start_time": "2022-08-03T07:58:58.540Z"
   },
   {
    "duration": 17,
    "start_time": "2022-08-03T07:58:58.934Z"
   },
   {
    "duration": 4,
    "start_time": "2022-08-03T07:58:59.536Z"
   },
   {
    "duration": 11,
    "start_time": "2022-08-03T07:58:59.745Z"
   },
   {
    "duration": 7,
    "start_time": "2022-08-03T07:59:00.225Z"
   },
   {
    "duration": 5,
    "start_time": "2022-08-03T07:59:01.066Z"
   },
   {
    "duration": 13,
    "start_time": "2022-08-03T07:59:01.510Z"
   },
   {
    "duration": 20,
    "start_time": "2022-08-03T07:59:03.098Z"
   },
   {
    "duration": 10,
    "start_time": "2022-08-03T07:59:04.417Z"
   },
   {
    "duration": 13,
    "start_time": "2022-08-03T07:59:11.309Z"
   },
   {
    "duration": 14,
    "start_time": "2022-08-03T07:59:46.756Z"
   },
   {
    "duration": 12,
    "start_time": "2022-08-03T08:00:01.386Z"
   },
   {
    "duration": 12,
    "start_time": "2022-08-03T08:00:29.866Z"
   },
   {
    "duration": 14,
    "start_time": "2022-08-03T08:00:54.776Z"
   },
   {
    "duration": 13,
    "start_time": "2022-08-03T08:02:03.555Z"
   },
   {
    "duration": 7,
    "start_time": "2022-08-03T08:04:07.138Z"
   },
   {
    "duration": 10,
    "start_time": "2022-08-03T08:04:29.575Z"
   },
   {
    "duration": 12,
    "start_time": "2022-08-03T08:04:55.783Z"
   },
   {
    "duration": 21,
    "start_time": "2022-08-03T08:05:05.134Z"
   },
   {
    "duration": 12,
    "start_time": "2022-08-03T08:05:12.339Z"
   },
   {
    "duration": 17,
    "start_time": "2022-08-03T08:08:03.540Z"
   },
   {
    "duration": 136,
    "start_time": "2022-08-03T08:42:55.792Z"
   },
   {
    "duration": 123,
    "start_time": "2022-08-03T08:43:02.028Z"
   },
   {
    "duration": 86,
    "start_time": "2022-08-03T08:43:09.988Z"
   },
   {
    "duration": 108,
    "start_time": "2022-08-03T08:43:21.589Z"
   },
   {
    "duration": 78,
    "start_time": "2022-08-03T08:43:28.255Z"
   },
   {
    "duration": 91,
    "start_time": "2022-08-03T08:43:41.620Z"
   },
   {
    "duration": 88,
    "start_time": "2022-08-03T08:43:50.593Z"
   },
   {
    "duration": 133,
    "start_time": "2022-08-03T08:44:28.155Z"
   },
   {
    "duration": 86,
    "start_time": "2022-08-03T08:50:50.689Z"
   },
   {
    "duration": 110,
    "start_time": "2022-08-03T08:53:25.194Z"
   },
   {
    "duration": 125,
    "start_time": "2022-08-03T08:58:36.695Z"
   },
   {
    "duration": 84,
    "start_time": "2022-08-03T09:01:09.344Z"
   },
   {
    "duration": 74,
    "start_time": "2022-08-03T09:01:38.017Z"
   },
   {
    "duration": 26,
    "start_time": "2022-08-03T09:01:44.646Z"
   },
   {
    "duration": 83,
    "start_time": "2022-08-03T09:01:46.341Z"
   },
   {
    "duration": 100,
    "start_time": "2022-08-03T09:06:39.443Z"
   },
   {
    "duration": 87,
    "start_time": "2022-08-03T09:06:47.206Z"
   },
   {
    "duration": 37,
    "start_time": "2022-08-03T09:07:03.006Z"
   },
   {
    "duration": 476,
    "start_time": "2022-08-03T09:07:26.279Z"
   },
   {
    "duration": 7,
    "start_time": "2022-08-03T09:07:49.638Z"
   },
   {
    "duration": 85,
    "start_time": "2022-08-03T09:08:06.736Z"
   },
   {
    "duration": 19,
    "start_time": "2022-08-03T09:08:06.823Z"
   },
   {
    "duration": 27,
    "start_time": "2022-08-03T09:08:06.845Z"
   },
   {
    "duration": 22,
    "start_time": "2022-08-03T09:08:06.875Z"
   },
   {
    "duration": 32,
    "start_time": "2022-08-03T09:08:06.900Z"
   },
   {
    "duration": 4,
    "start_time": "2022-08-03T09:08:06.933Z"
   },
   {
    "duration": 33,
    "start_time": "2022-08-03T09:08:06.938Z"
   },
   {
    "duration": 5,
    "start_time": "2022-08-03T09:08:06.975Z"
   },
   {
    "duration": 8,
    "start_time": "2022-08-03T09:08:06.982Z"
   },
   {
    "duration": 5,
    "start_time": "2022-08-03T09:08:06.992Z"
   },
   {
    "duration": 38,
    "start_time": "2022-08-03T09:08:06.999Z"
   },
   {
    "duration": 9,
    "start_time": "2022-08-03T09:08:07.038Z"
   },
   {
    "duration": 11,
    "start_time": "2022-08-03T09:08:07.054Z"
   },
   {
    "duration": 28,
    "start_time": "2022-08-03T09:08:07.072Z"
   },
   {
    "duration": 20,
    "start_time": "2022-08-03T09:08:07.102Z"
   },
   {
    "duration": 16,
    "start_time": "2022-08-03T09:08:07.124Z"
   },
   {
    "duration": 22,
    "start_time": "2022-08-03T09:08:07.141Z"
   },
   {
    "duration": 11,
    "start_time": "2022-08-03T09:08:07.170Z"
   },
   {
    "duration": 5,
    "start_time": "2022-08-03T09:08:07.182Z"
   },
   {
    "duration": 3,
    "start_time": "2022-08-03T09:08:07.189Z"
   },
   {
    "duration": 12,
    "start_time": "2022-08-03T09:08:07.194Z"
   },
   {
    "duration": 15,
    "start_time": "2022-08-03T09:08:07.208Z"
   },
   {
    "duration": 65,
    "start_time": "2022-08-03T09:08:13.578Z"
   },
   {
    "duration": 15,
    "start_time": "2022-08-03T09:08:14.609Z"
   },
   {
    "duration": 16,
    "start_time": "2022-08-03T09:08:15.161Z"
   },
   {
    "duration": 9,
    "start_time": "2022-08-03T09:08:15.997Z"
   },
   {
    "duration": 33,
    "start_time": "2022-08-03T09:08:16.377Z"
   },
   {
    "duration": 4,
    "start_time": "2022-08-03T09:08:16.987Z"
   },
   {
    "duration": 11,
    "start_time": "2022-08-03T09:08:17.364Z"
   },
   {
    "duration": 4,
    "start_time": "2022-08-03T09:08:17.940Z"
   },
   {
    "duration": 7,
    "start_time": "2022-08-03T09:08:18.277Z"
   },
   {
    "duration": 6,
    "start_time": "2022-08-03T09:08:19.187Z"
   },
   {
    "duration": 46,
    "start_time": "2022-08-03T09:08:19.247Z"
   },
   {
    "duration": 25,
    "start_time": "2022-08-03T09:08:19.647Z"
   },
   {
    "duration": 4,
    "start_time": "2022-08-03T09:08:20.208Z"
   },
   {
    "duration": 19,
    "start_time": "2022-08-03T09:08:20.779Z"
   },
   {
    "duration": 21,
    "start_time": "2022-08-03T09:08:20.960Z"
   },
   {
    "duration": 10,
    "start_time": "2022-08-03T09:08:21.339Z"
   },
   {
    "duration": 3,
    "start_time": "2022-08-03T09:08:22.048Z"
   },
   {
    "duration": 9,
    "start_time": "2022-08-03T09:08:22.240Z"
   },
   {
    "duration": 6,
    "start_time": "2022-08-03T09:08:22.648Z"
   },
   {
    "duration": 3,
    "start_time": "2022-08-03T09:08:23.040Z"
   },
   {
    "duration": 8,
    "start_time": "2022-08-03T09:08:23.236Z"
   },
   {
    "duration": 12,
    "start_time": "2022-08-03T09:08:24.481Z"
   },
   {
    "duration": 6,
    "start_time": "2022-08-03T09:08:25.585Z"
   },
   {
    "duration": 9,
    "start_time": "2022-08-03T09:09:40.657Z"
   },
   {
    "duration": 138,
    "start_time": "2022-08-03T09:09:49.678Z"
   },
   {
    "duration": 805,
    "start_time": "2022-08-03T09:58:26.367Z"
   },
   {
    "duration": 33,
    "start_time": "2022-08-03T09:58:27.839Z"
   },
   {
    "duration": 23,
    "start_time": "2022-08-03T09:58:28.938Z"
   },
   {
    "duration": 9,
    "start_time": "2022-08-03T09:58:30.299Z"
   },
   {
    "duration": 31,
    "start_time": "2022-08-03T09:58:30.886Z"
   },
   {
    "duration": 4,
    "start_time": "2022-08-03T09:58:31.642Z"
   },
   {
    "duration": 17,
    "start_time": "2022-08-03T09:58:32.157Z"
   },
   {
    "duration": 5,
    "start_time": "2022-08-03T09:58:32.789Z"
   },
   {
    "duration": 7,
    "start_time": "2022-08-03T09:58:33.243Z"
   },
   {
    "duration": 5,
    "start_time": "2022-08-03T09:58:33.656Z"
   },
   {
    "duration": 37,
    "start_time": "2022-08-03T09:58:34.259Z"
   },
   {
    "duration": 13,
    "start_time": "2022-08-03T09:58:34.660Z"
   },
   {
    "duration": 5,
    "start_time": "2022-08-03T09:58:35.239Z"
   },
   {
    "duration": 16,
    "start_time": "2022-08-03T09:58:35.838Z"
   },
   {
    "duration": 16,
    "start_time": "2022-08-03T09:58:36.041Z"
   },
   {
    "duration": 11,
    "start_time": "2022-08-03T09:58:36.408Z"
   },
   {
    "duration": 6,
    "start_time": "2022-08-03T09:58:37.070Z"
   },
   {
    "duration": 11,
    "start_time": "2022-08-03T09:58:37.240Z"
   },
   {
    "duration": 5,
    "start_time": "2022-08-03T09:58:37.634Z"
   },
   {
    "duration": 4,
    "start_time": "2022-08-03T09:58:38.038Z"
   },
   {
    "duration": 8,
    "start_time": "2022-08-03T09:58:38.239Z"
   },
   {
    "duration": 23,
    "start_time": "2022-08-03T09:58:39.448Z"
   },
   {
    "duration": 76,
    "start_time": "2022-08-03T09:58:40.545Z"
   },
   {
    "duration": 14,
    "start_time": "2022-08-03T09:58:56.896Z"
   },
   {
    "duration": 84,
    "start_time": "2022-08-03T10:00:26.007Z"
   },
   {
    "duration": 3,
    "start_time": "2022-08-03T10:03:47.249Z"
   },
   {
    "duration": 5,
    "start_time": "2022-08-03T10:03:57.441Z"
   },
   {
    "duration": 5,
    "start_time": "2022-08-03T10:03:59.638Z"
   },
   {
    "duration": 12,
    "start_time": "2022-08-03T10:04:03.397Z"
   },
   {
    "duration": 5,
    "start_time": "2022-08-03T10:04:04.785Z"
   },
   {
    "duration": 5,
    "start_time": "2022-08-03T10:04:33.276Z"
   },
   {
    "duration": 5,
    "start_time": "2022-08-03T10:04:59.342Z"
   },
   {
    "duration": 5,
    "start_time": "2022-08-03T10:05:09.035Z"
   },
   {
    "duration": 7,
    "start_time": "2022-08-03T10:05:21.540Z"
   },
   {
    "duration": 7,
    "start_time": "2022-08-03T10:05:26.114Z"
   },
   {
    "duration": 79,
    "start_time": "2022-08-03T10:06:18.873Z"
   },
   {
    "duration": 96,
    "start_time": "2022-08-03T10:06:34.980Z"
   },
   {
    "duration": 8,
    "start_time": "2022-08-03T10:12:06.303Z"
   },
   {
    "duration": 135,
    "start_time": "2022-08-03T10:14:13.094Z"
   },
   {
    "duration": 95,
    "start_time": "2022-08-03T10:14:41.738Z"
   },
   {
    "duration": 84,
    "start_time": "2022-08-03T10:14:44.340Z"
   },
   {
    "duration": 97,
    "start_time": "2022-08-03T10:15:27.836Z"
   },
   {
    "duration": 121,
    "start_time": "2022-08-03T10:16:12.192Z"
   },
   {
    "duration": 76,
    "start_time": "2022-08-03T10:18:38.063Z"
   },
   {
    "duration": 92,
    "start_time": "2022-08-03T10:18:54.605Z"
   },
   {
    "duration": 93,
    "start_time": "2022-08-03T11:08:31.543Z"
   },
   {
    "duration": 15,
    "start_time": "2022-08-03T11:08:32.782Z"
   },
   {
    "duration": 23,
    "start_time": "2022-08-03T11:08:33.444Z"
   },
   {
    "duration": 9,
    "start_time": "2022-08-03T11:08:34.387Z"
   },
   {
    "duration": 47,
    "start_time": "2022-08-03T11:08:34.849Z"
   },
   {
    "duration": 3,
    "start_time": "2022-08-03T11:08:35.634Z"
   },
   {
    "duration": 10,
    "start_time": "2022-08-03T11:08:36.089Z"
   },
   {
    "duration": 7,
    "start_time": "2022-08-03T11:08:36.746Z"
   },
   {
    "duration": 10,
    "start_time": "2022-08-03T11:08:37.174Z"
   },
   {
    "duration": 11,
    "start_time": "2022-08-03T11:08:37.678Z"
   },
   {
    "duration": 32,
    "start_time": "2022-08-03T11:08:38.589Z"
   },
   {
    "duration": 9,
    "start_time": "2022-08-03T11:08:39.048Z"
   },
   {
    "duration": 5,
    "start_time": "2022-08-03T11:08:39.878Z"
   },
   {
    "duration": 17,
    "start_time": "2022-08-03T11:08:40.500Z"
   },
   {
    "duration": 17,
    "start_time": "2022-08-03T11:08:40.781Z"
   },
   {
    "duration": 10,
    "start_time": "2022-08-03T11:08:41.342Z"
   },
   {
    "duration": 3,
    "start_time": "2022-08-03T11:08:42.139Z"
   },
   {
    "duration": 13,
    "start_time": "2022-08-03T11:08:42.379Z"
   },
   {
    "duration": 8,
    "start_time": "2022-08-03T11:08:42.979Z"
   },
   {
    "duration": 3,
    "start_time": "2022-08-03T11:08:43.442Z"
   },
   {
    "duration": 11,
    "start_time": "2022-08-03T11:08:43.678Z"
   },
   {
    "duration": 21,
    "start_time": "2022-08-03T11:08:45.058Z"
   },
   {
    "duration": 46,
    "start_time": "2022-08-03T11:08:49.443Z"
   },
   {
    "duration": 15,
    "start_time": "2022-08-03T11:14:26.676Z"
   },
   {
    "duration": 11,
    "start_time": "2022-08-03T11:14:46.180Z"
   },
   {
    "duration": 29,
    "start_time": "2022-08-03T11:15:49.583Z"
   },
   {
    "duration": 9,
    "start_time": "2022-08-03T11:46:20.372Z"
   },
   {
    "duration": 7,
    "start_time": "2022-08-03T11:49:23.793Z"
   },
   {
    "duration": 7,
    "start_time": "2022-08-03T11:49:43.473Z"
   },
   {
    "duration": 8,
    "start_time": "2022-08-03T11:50:09.224Z"
   },
   {
    "duration": 8,
    "start_time": "2022-08-03T11:50:37.032Z"
   },
   {
    "duration": 8,
    "start_time": "2022-08-03T11:50:53.673Z"
   },
   {
    "duration": 37,
    "start_time": "2022-08-03T11:51:03.673Z"
   },
   {
    "duration": 7,
    "start_time": "2022-08-03T11:51:05.322Z"
   },
   {
    "duration": 8,
    "start_time": "2022-08-03T11:51:39.483Z"
   },
   {
    "duration": 162,
    "start_time": "2022-08-03T11:52:15.796Z"
   },
   {
    "duration": 22,
    "start_time": "2022-08-03T11:52:17.053Z"
   },
   {
    "duration": 14,
    "start_time": "2022-08-03T11:52:17.722Z"
   },
   {
    "duration": 10,
    "start_time": "2022-08-03T11:52:18.824Z"
   },
   {
    "duration": 31,
    "start_time": "2022-08-03T11:52:19.393Z"
   },
   {
    "duration": 4,
    "start_time": "2022-08-03T11:52:20.121Z"
   },
   {
    "duration": 12,
    "start_time": "2022-08-03T11:52:20.552Z"
   },
   {
    "duration": 4,
    "start_time": "2022-08-03T11:52:21.293Z"
   },
   {
    "duration": 6,
    "start_time": "2022-08-03T11:52:21.732Z"
   },
   {
    "duration": 5,
    "start_time": "2022-08-03T11:52:22.217Z"
   },
   {
    "duration": 31,
    "start_time": "2022-08-03T11:52:22.874Z"
   },
   {
    "duration": 10,
    "start_time": "2022-08-03T11:52:23.372Z"
   },
   {
    "duration": 4,
    "start_time": "2022-08-03T11:52:24.182Z"
   },
   {
    "duration": 19,
    "start_time": "2022-08-03T11:52:25.017Z"
   },
   {
    "duration": 19,
    "start_time": "2022-08-03T11:52:25.242Z"
   },
   {
    "duration": 11,
    "start_time": "2022-08-03T11:52:25.992Z"
   },
   {
    "duration": 4,
    "start_time": "2022-08-03T11:52:27.039Z"
   },
   {
    "duration": 13,
    "start_time": "2022-08-03T11:52:27.521Z"
   },
   {
    "duration": 7,
    "start_time": "2022-08-03T11:52:28.193Z"
   },
   {
    "duration": 3,
    "start_time": "2022-08-03T11:52:28.973Z"
   },
   {
    "duration": 15,
    "start_time": "2022-08-03T11:52:29.552Z"
   },
   {
    "duration": 12,
    "start_time": "2022-08-03T11:52:30.733Z"
   },
   {
    "duration": 33,
    "start_time": "2022-08-03T11:52:32.132Z"
   },
   {
    "duration": 10,
    "start_time": "2022-08-03T11:52:33.224Z"
   },
   {
    "duration": 58,
    "start_time": "2022-08-03T11:52:50.525Z"
   },
   {
    "duration": 86,
    "start_time": "2022-08-03T11:52:59.617Z"
   },
   {
    "duration": 18,
    "start_time": "2022-08-03T11:53:01.074Z"
   },
   {
    "duration": 13,
    "start_time": "2022-08-03T11:53:02.019Z"
   },
   {
    "duration": 9,
    "start_time": "2022-08-03T11:53:03.120Z"
   },
   {
    "duration": 43,
    "start_time": "2022-08-03T11:53:03.551Z"
   },
   {
    "duration": 4,
    "start_time": "2022-08-03T11:53:04.322Z"
   },
   {
    "duration": 9,
    "start_time": "2022-08-03T11:53:04.824Z"
   },
   {
    "duration": 7,
    "start_time": "2022-08-03T11:53:05.552Z"
   },
   {
    "duration": 5,
    "start_time": "2022-08-03T11:53:06.022Z"
   },
   {
    "duration": 5,
    "start_time": "2022-08-03T11:53:06.474Z"
   },
   {
    "duration": 31,
    "start_time": "2022-08-03T11:53:07.190Z"
   },
   {
    "duration": 10,
    "start_time": "2022-08-03T11:53:07.632Z"
   },
   {
    "duration": 4,
    "start_time": "2022-08-03T11:53:08.272Z"
   },
   {
    "duration": 18,
    "start_time": "2022-08-03T11:53:08.924Z"
   },
   {
    "duration": 17,
    "start_time": "2022-08-03T11:53:09.142Z"
   },
   {
    "duration": 11,
    "start_time": "2022-08-03T11:53:09.618Z"
   },
   {
    "duration": 3,
    "start_time": "2022-08-03T11:53:10.292Z"
   },
   {
    "duration": 10,
    "start_time": "2022-08-03T11:53:10.539Z"
   },
   {
    "duration": 6,
    "start_time": "2022-08-03T11:53:11.021Z"
   },
   {
    "duration": 3,
    "start_time": "2022-08-03T11:53:11.530Z"
   },
   {
    "duration": 9,
    "start_time": "2022-08-03T11:53:11.829Z"
   },
   {
    "duration": 11,
    "start_time": "2022-08-03T11:53:12.890Z"
   },
   {
    "duration": 31,
    "start_time": "2022-08-03T11:53:13.973Z"
   },
   {
    "duration": 61,
    "start_time": "2022-08-03T11:53:15.225Z"
   },
   {
    "duration": 61,
    "start_time": "2022-08-03T11:53:33.522Z"
   },
   {
    "duration": 48,
    "start_time": "2022-08-03T11:54:23.932Z"
   },
   {
    "duration": 956,
    "start_time": "2022-08-03T16:47:21.299Z"
   },
   {
    "duration": 18,
    "start_time": "2022-08-03T16:47:22.626Z"
   },
   {
    "duration": 18,
    "start_time": "2022-08-03T16:47:23.848Z"
   },
   {
    "duration": 14,
    "start_time": "2022-08-03T16:47:25.961Z"
   },
   {
    "duration": 47,
    "start_time": "2022-08-03T16:47:26.780Z"
   },
   {
    "duration": 4,
    "start_time": "2022-08-03T16:47:27.832Z"
   },
   {
    "duration": 8,
    "start_time": "2022-08-03T16:47:28.621Z"
   },
   {
    "duration": 5,
    "start_time": "2022-08-03T16:47:29.665Z"
   },
   {
    "duration": 9,
    "start_time": "2022-08-03T16:47:30.342Z"
   },
   {
    "duration": 7,
    "start_time": "2022-08-03T16:47:31.050Z"
   },
   {
    "duration": 30,
    "start_time": "2022-08-03T16:47:32.239Z"
   },
   {
    "duration": 9,
    "start_time": "2022-08-03T16:47:32.946Z"
   },
   {
    "duration": 4,
    "start_time": "2022-08-03T16:47:34.150Z"
   },
   {
    "duration": 19,
    "start_time": "2022-08-03T16:47:35.198Z"
   },
   {
    "duration": 16,
    "start_time": "2022-08-03T16:47:35.560Z"
   },
   {
    "duration": 10,
    "start_time": "2022-08-03T16:47:36.347Z"
   },
   {
    "duration": 3,
    "start_time": "2022-08-03T16:47:37.215Z"
   },
   {
    "duration": 11,
    "start_time": "2022-08-03T16:47:37.494Z"
   },
   {
    "duration": 6,
    "start_time": "2022-08-03T16:47:38.047Z"
   },
   {
    "duration": 4,
    "start_time": "2022-08-03T16:47:38.823Z"
   },
   {
    "duration": 8,
    "start_time": "2022-08-03T16:47:39.247Z"
   },
   {
    "duration": 13,
    "start_time": "2022-08-03T16:47:40.698Z"
   },
   {
    "duration": 32,
    "start_time": "2022-08-03T16:47:42.505Z"
   },
   {
    "duration": 84,
    "start_time": "2022-08-03T16:48:05.018Z"
   },
   {
    "duration": 439,
    "start_time": "2022-08-03T16:48:37.737Z"
   },
   {
    "duration": 44,
    "start_time": "2022-08-03T16:49:20.431Z"
   },
   {
    "duration": 53,
    "start_time": "2022-08-03T16:55:33.972Z"
   },
   {
    "duration": 46,
    "start_time": "2022-08-03T16:55:55.404Z"
   },
   {
    "duration": 28,
    "start_time": "2022-08-03T16:56:26.388Z"
   },
   {
    "duration": 38,
    "start_time": "2022-08-03T16:56:26.495Z"
   },
   {
    "duration": 46,
    "start_time": "2022-08-03T16:57:14.117Z"
   },
   {
    "duration": 42,
    "start_time": "2022-08-03T16:57:50.349Z"
   },
   {
    "duration": 47,
    "start_time": "2022-08-03T16:59:54.798Z"
   },
   {
    "duration": 41,
    "start_time": "2022-08-03T17:00:22.361Z"
   },
   {
    "duration": 40,
    "start_time": "2022-08-03T17:01:52.771Z"
   },
   {
    "duration": 78,
    "start_time": "2022-08-03T17:02:00.053Z"
   },
   {
    "duration": 15,
    "start_time": "2022-08-03T17:02:01.254Z"
   },
   {
    "duration": 15,
    "start_time": "2022-08-03T17:02:01.954Z"
   },
   {
    "duration": 9,
    "start_time": "2022-08-03T17:02:02.823Z"
   },
   {
    "duration": 28,
    "start_time": "2022-08-03T17:02:03.276Z"
   },
   {
    "duration": 3,
    "start_time": "2022-08-03T17:02:03.908Z"
   },
   {
    "duration": 7,
    "start_time": "2022-08-03T17:02:04.389Z"
   },
   {
    "duration": 5,
    "start_time": "2022-08-03T17:02:05.161Z"
   },
   {
    "duration": 7,
    "start_time": "2022-08-03T17:02:05.600Z"
   },
   {
    "duration": 4,
    "start_time": "2022-08-03T17:02:06.069Z"
   },
   {
    "duration": 30,
    "start_time": "2022-08-03T17:02:06.752Z"
   },
   {
    "duration": 9,
    "start_time": "2022-08-03T17:02:07.155Z"
   },
   {
    "duration": 3,
    "start_time": "2022-08-03T17:02:07.859Z"
   },
   {
    "duration": 16,
    "start_time": "2022-08-03T17:02:08.567Z"
   },
   {
    "duration": 16,
    "start_time": "2022-08-03T17:02:08.765Z"
   },
   {
    "duration": 10,
    "start_time": "2022-08-03T17:02:09.206Z"
   },
   {
    "duration": 3,
    "start_time": "2022-08-03T17:02:09.911Z"
   },
   {
    "duration": 9,
    "start_time": "2022-08-03T17:02:10.155Z"
   },
   {
    "duration": 5,
    "start_time": "2022-08-03T17:02:10.651Z"
   },
   {
    "duration": 3,
    "start_time": "2022-08-03T17:02:11.164Z"
   },
   {
    "duration": 7,
    "start_time": "2022-08-03T17:02:11.423Z"
   },
   {
    "duration": 11,
    "start_time": "2022-08-03T17:02:12.187Z"
   },
   {
    "duration": 31,
    "start_time": "2022-08-03T17:02:14.414Z"
   },
   {
    "duration": 41,
    "start_time": "2022-08-03T17:02:15.854Z"
   },
   {
    "duration": 46,
    "start_time": "2022-08-03T17:02:23.630Z"
   },
   {
    "duration": 18,
    "start_time": "2022-08-03T17:02:27.419Z"
   },
   {
    "duration": 69,
    "start_time": "2022-08-03T17:03:13.260Z"
   },
   {
    "duration": 14,
    "start_time": "2022-08-03T17:03:13.331Z"
   },
   {
    "duration": 14,
    "start_time": "2022-08-03T17:03:13.346Z"
   },
   {
    "duration": 7,
    "start_time": "2022-08-03T17:03:13.361Z"
   },
   {
    "duration": 29,
    "start_time": "2022-08-03T17:03:13.370Z"
   },
   {
    "duration": 2,
    "start_time": "2022-08-03T17:03:13.401Z"
   },
   {
    "duration": 8,
    "start_time": "2022-08-03T17:03:13.405Z"
   },
   {
    "duration": 4,
    "start_time": "2022-08-03T17:03:13.414Z"
   },
   {
    "duration": 5,
    "start_time": "2022-08-03T17:03:13.419Z"
   },
   {
    "duration": 30,
    "start_time": "2022-08-03T17:03:13.425Z"
   },
   {
    "duration": 27,
    "start_time": "2022-08-03T17:03:13.456Z"
   },
   {
    "duration": 7,
    "start_time": "2022-08-03T17:03:13.484Z"
   },
   {
    "duration": 2,
    "start_time": "2022-08-03T17:03:13.493Z"
   },
   {
    "duration": 15,
    "start_time": "2022-08-03T17:03:13.497Z"
   },
   {
    "duration": 14,
    "start_time": "2022-08-03T17:03:13.513Z"
   },
   {
    "duration": 34,
    "start_time": "2022-08-03T17:03:13.528Z"
   },
   {
    "duration": 5,
    "start_time": "2022-08-03T17:03:13.563Z"
   },
   {
    "duration": 11,
    "start_time": "2022-08-03T17:03:13.569Z"
   },
   {
    "duration": 5,
    "start_time": "2022-08-03T17:03:13.581Z"
   },
   {
    "duration": 3,
    "start_time": "2022-08-03T17:03:13.587Z"
   },
   {
    "duration": 11,
    "start_time": "2022-08-03T17:03:13.591Z"
   },
   {
    "duration": 14,
    "start_time": "2022-08-03T17:03:13.603Z"
   },
   {
    "duration": 51,
    "start_time": "2022-08-03T17:03:13.618Z"
   },
   {
    "duration": 39,
    "start_time": "2022-08-03T17:03:13.670Z"
   },
   {
    "duration": 63,
    "start_time": "2022-08-03T17:03:13.710Z"
   },
   {
    "duration": 15,
    "start_time": "2022-08-03T17:03:13.774Z"
   },
   {
    "duration": 13,
    "start_time": "2022-08-03T17:03:13.790Z"
   },
   {
    "duration": 49,
    "start_time": "2022-08-03T17:03:27.754Z"
   },
   {
    "duration": 48,
    "start_time": "2022-08-03T17:03:57.505Z"
   },
   {
    "duration": 50,
    "start_time": "2022-08-03T17:07:18.964Z"
   },
   {
    "duration": 64,
    "start_time": "2022-08-03T17:11:51.392Z"
   },
   {
    "duration": 534,
    "start_time": "2022-08-03T17:12:31.793Z"
   },
   {
    "duration": 16,
    "start_time": "2022-08-03T17:12:33.566Z"
   },
   {
    "duration": 14,
    "start_time": "2022-08-03T17:12:34.182Z"
   },
   {
    "duration": 9,
    "start_time": "2022-08-03T17:12:35.116Z"
   },
   {
    "duration": 30,
    "start_time": "2022-08-03T17:12:35.514Z"
   },
   {
    "duration": 3,
    "start_time": "2022-08-03T17:12:36.171Z"
   },
   {
    "duration": 7,
    "start_time": "2022-08-03T17:12:36.604Z"
   },
   {
    "duration": 4,
    "start_time": "2022-08-03T17:12:37.202Z"
   },
   {
    "duration": 5,
    "start_time": "2022-08-03T17:12:37.599Z"
   },
   {
    "duration": 4,
    "start_time": "2022-08-03T17:12:38.019Z"
   },
   {
    "duration": 31,
    "start_time": "2022-08-03T17:12:38.671Z"
   },
   {
    "duration": 9,
    "start_time": "2022-08-03T17:12:39.285Z"
   },
   {
    "duration": 4,
    "start_time": "2022-08-03T17:12:39.890Z"
   },
   {
    "duration": 17,
    "start_time": "2022-08-03T17:12:40.532Z"
   },
   {
    "duration": 16,
    "start_time": "2022-08-03T17:12:40.711Z"
   },
   {
    "duration": 11,
    "start_time": "2022-08-03T17:12:41.184Z"
   },
   {
    "duration": 3,
    "start_time": "2022-08-03T17:12:41.773Z"
   },
   {
    "duration": 8,
    "start_time": "2022-08-03T17:12:41.985Z"
   },
   {
    "duration": 5,
    "start_time": "2022-08-03T17:12:42.424Z"
   },
   {
    "duration": 4,
    "start_time": "2022-08-03T17:12:42.866Z"
   },
   {
    "duration": 9,
    "start_time": "2022-08-03T17:12:43.066Z"
   },
   {
    "duration": 12,
    "start_time": "2022-08-03T17:12:43.704Z"
   },
   {
    "duration": 29,
    "start_time": "2022-08-03T17:12:51.321Z"
   },
   {
    "duration": 46,
    "start_time": "2022-08-03T17:12:53.026Z"
   },
   {
    "duration": 48,
    "start_time": "2022-08-03T17:14:00.466Z"
   },
   {
    "duration": 16,
    "start_time": "2022-08-03T17:14:19.704Z"
   },
   {
    "duration": 102,
    "start_time": "2022-08-03T17:14:45.666Z"
   },
   {
    "duration": 15,
    "start_time": "2022-08-03T17:15:02.569Z"
   },
   {
    "duration": 16,
    "start_time": "2022-08-03T17:15:10.868Z"
   },
   {
    "duration": 15,
    "start_time": "2022-08-03T17:15:27.614Z"
   },
   {
    "duration": 14,
    "start_time": "2022-08-03T17:15:39.892Z"
   },
   {
    "duration": 19,
    "start_time": "2022-08-03T17:16:53.717Z"
   },
   {
    "duration": 17,
    "start_time": "2022-08-03T17:17:04.356Z"
   },
   {
    "duration": 19,
    "start_time": "2022-08-03T17:17:45.833Z"
   },
   {
    "duration": 18,
    "start_time": "2022-08-03T17:18:10.322Z"
   },
   {
    "duration": 15,
    "start_time": "2022-08-03T17:18:41.092Z"
   },
   {
    "duration": 29,
    "start_time": "2022-08-03T17:20:01.074Z"
   },
   {
    "duration": 31,
    "start_time": "2022-08-03T17:20:20.326Z"
   },
   {
    "duration": 33,
    "start_time": "2022-08-03T17:22:18.989Z"
   },
   {
    "duration": 47,
    "start_time": "2022-08-03T17:22:36.866Z"
   },
   {
    "duration": 31,
    "start_time": "2022-08-03T17:23:59.644Z"
   },
   {
    "duration": 41,
    "start_time": "2022-08-03T17:24:16.732Z"
   },
   {
    "duration": 38,
    "start_time": "2022-08-03T17:24:51.374Z"
   },
   {
    "duration": 32,
    "start_time": "2022-08-03T17:25:34.778Z"
   },
   {
    "duration": 35,
    "start_time": "2022-08-03T17:27:37.710Z"
   },
   {
    "duration": 31,
    "start_time": "2022-08-03T17:27:45.685Z"
   },
   {
    "duration": 34,
    "start_time": "2022-08-03T17:28:37.980Z"
   },
   {
    "duration": 43,
    "start_time": "2022-08-03T17:29:08.973Z"
   },
   {
    "duration": 43,
    "start_time": "2022-08-03T17:29:27.330Z"
   },
   {
    "duration": 27,
    "start_time": "2022-08-03T17:30:18.951Z"
   },
   {
    "duration": 74,
    "start_time": "2022-08-03T17:38:45.718Z"
   },
   {
    "duration": 14,
    "start_time": "2022-08-03T17:38:48.985Z"
   },
   {
    "duration": 13,
    "start_time": "2022-08-03T17:38:50.176Z"
   },
   {
    "duration": 9,
    "start_time": "2022-08-03T17:38:53.035Z"
   },
   {
    "duration": 28,
    "start_time": "2022-08-03T17:38:53.445Z"
   },
   {
    "duration": 3,
    "start_time": "2022-08-03T17:38:54.086Z"
   },
   {
    "duration": 7,
    "start_time": "2022-08-03T17:38:54.500Z"
   },
   {
    "duration": 4,
    "start_time": "2022-08-03T17:38:55.170Z"
   },
   {
    "duration": 6,
    "start_time": "2022-08-03T17:38:55.568Z"
   },
   {
    "duration": 5,
    "start_time": "2022-08-03T17:38:55.975Z"
   },
   {
    "duration": 29,
    "start_time": "2022-08-03T17:38:56.572Z"
   },
   {
    "duration": 12,
    "start_time": "2022-08-03T17:38:56.977Z"
   },
   {
    "duration": 3,
    "start_time": "2022-08-03T17:38:57.613Z"
   },
   {
    "duration": 17,
    "start_time": "2022-08-03T17:38:58.239Z"
   },
   {
    "duration": 15,
    "start_time": "2022-08-03T17:38:58.474Z"
   },
   {
    "duration": 10,
    "start_time": "2022-08-03T17:38:59.071Z"
   },
   {
    "duration": 3,
    "start_time": "2022-08-03T17:38:59.991Z"
   },
   {
    "duration": 9,
    "start_time": "2022-08-03T17:39:00.328Z"
   },
   {
    "duration": 6,
    "start_time": "2022-08-03T17:39:00.845Z"
   },
   {
    "duration": 3,
    "start_time": "2022-08-03T17:39:01.720Z"
   },
   {
    "duration": 8,
    "start_time": "2022-08-03T17:39:02.149Z"
   },
   {
    "duration": 12,
    "start_time": "2022-08-03T17:39:05.289Z"
   },
   {
    "duration": 30,
    "start_time": "2022-08-03T17:39:08.577Z"
   },
   {
    "duration": 14,
    "start_time": "2022-08-03T17:47:06.324Z"
   },
   {
    "duration": 13,
    "start_time": "2022-08-03T17:47:27.272Z"
   },
   {
    "duration": 8,
    "start_time": "2022-08-15T08:30:54.333Z"
   },
   {
    "duration": 688,
    "start_time": "2022-08-15T08:31:04.693Z"
   },
   {
    "duration": 27,
    "start_time": "2022-08-15T08:31:05.383Z"
   },
   {
    "duration": 19,
    "start_time": "2022-08-15T08:31:05.411Z"
   },
   {
    "duration": 14,
    "start_time": "2022-08-15T08:31:05.432Z"
   },
   {
    "duration": 44,
    "start_time": "2022-08-15T08:31:05.448Z"
   },
   {
    "duration": 3,
    "start_time": "2022-08-15T08:31:05.493Z"
   },
   {
    "duration": 10,
    "start_time": "2022-08-15T08:31:05.498Z"
   },
   {
    "duration": 7,
    "start_time": "2022-08-15T08:31:05.510Z"
   },
   {
    "duration": 20,
    "start_time": "2022-08-15T08:31:05.518Z"
   },
   {
    "duration": 10,
    "start_time": "2022-08-15T08:31:05.539Z"
   },
   {
    "duration": 34,
    "start_time": "2022-08-15T08:31:05.551Z"
   },
   {
    "duration": 8,
    "start_time": "2022-08-15T08:31:05.587Z"
   },
   {
    "duration": 19,
    "start_time": "2022-08-15T08:31:05.597Z"
   },
   {
    "duration": 21,
    "start_time": "2022-08-15T08:31:05.618Z"
   },
   {
    "duration": 32,
    "start_time": "2022-08-15T08:31:05.641Z"
   },
   {
    "duration": 10,
    "start_time": "2022-08-15T08:31:05.675Z"
   },
   {
    "duration": 10,
    "start_time": "2022-08-15T08:31:05.687Z"
   },
   {
    "duration": 16,
    "start_time": "2022-08-15T08:31:05.699Z"
   },
   {
    "duration": 8,
    "start_time": "2022-08-15T08:31:05.716Z"
   },
   {
    "duration": 10,
    "start_time": "2022-08-15T08:31:05.725Z"
   },
   {
    "duration": 20,
    "start_time": "2022-08-15T08:31:05.737Z"
   },
   {
    "duration": 18,
    "start_time": "2022-08-15T08:31:05.760Z"
   },
   {
    "duration": 42,
    "start_time": "2022-08-15T08:31:05.780Z"
   },
   {
    "duration": 30,
    "start_time": "2022-08-15T08:31:05.823Z"
   },
   {
    "duration": 29,
    "start_time": "2022-08-15T08:31:05.854Z"
   },
   {
    "duration": 32,
    "start_time": "2022-08-15T08:31:05.884Z"
   }
  ],
  "celltoolbar": "Edit Metadata",
  "colab": {
   "name": "dpp_template_part2.ipynb",
   "provenance": []
  },
  "kernelspec": {
   "display_name": "Python 3 (ipykernel)",
   "language": "python",
   "name": "python3"
  },
  "language_info": {
   "codemirror_mode": {
    "name": "ipython",
    "version": 3
   },
   "file_extension": ".py",
   "mimetype": "text/x-python",
   "name": "python",
   "nbconvert_exporter": "python",
   "pygments_lexer": "ipython3",
   "version": "3.9.8"
  },
  "toc": {
   "base_numbering": 1,
   "nav_menu": {},
   "number_sections": true,
   "sideBar": true,
   "skip_h1_title": true,
   "title_cell": "Table of Contents",
   "title_sidebar": "Contents",
   "toc_cell": false,
   "toc_position": {},
   "toc_section_display": true,
   "toc_window_display": false
  }
 },
 "nbformat": 4,
 "nbformat_minor": 5
}
