{
 "cells": [
  {
   "cell_type": "markdown",
   "metadata": {},
   "source": [
    "# Исследование объявлений о продаже квартир\n",
    "\n",
    "В вашем распоряжении данные сервиса Яндекс.Недвижимость — архив объявлений о продаже квартир в Санкт-Петербурге и соседних населённых пунктов за несколько лет. Нужно научиться определять рыночную стоимость объектов недвижимости. Ваша задача — установить параметры. Это позволит построить автоматизированную систему: она отследит аномалии и мошенническую деятельность. \n",
    "\n",
    "По каждой квартире на продажу доступны два вида данных. Первые вписаны пользователем, вторые — получены автоматически на основе картографических данных. Например, расстояние до центра, аэропорта, ближайшего парка и водоёма. "
   ]
  },
  {
   "cell_type": "markdown",
   "metadata": {},
   "source": [
    "### Откройте файл с данными и изучите общую информацию. "
   ]
  },
  {
   "cell_type": "code",
   "execution_count": 1,
   "metadata": {},
   "outputs": [],
   "source": [
    "import pandas as pd\n",
    "import matplotlib.pyplot as plt\n",
    "import numpy as np"
   ]
  },
  {
   "cell_type": "code",
   "execution_count": 2,
   "metadata": {},
   "outputs": [
    {
     "data": {
      "text/html": [
       "<div>\n",
       "<style scoped>\n",
       "    .dataframe tbody tr th:only-of-type {\n",
       "        vertical-align: middle;\n",
       "    }\n",
       "\n",
       "    .dataframe tbody tr th {\n",
       "        vertical-align: top;\n",
       "    }\n",
       "\n",
       "    .dataframe thead th {\n",
       "        text-align: right;\n",
       "    }\n",
       "</style>\n",
       "<table border=\"1\" class=\"dataframe\">\n",
       "  <thead>\n",
       "    <tr style=\"text-align: right;\">\n",
       "      <th></th>\n",
       "      <th>total_images</th>\n",
       "      <th>last_price</th>\n",
       "      <th>total_area</th>\n",
       "      <th>first_day_exposition</th>\n",
       "      <th>rooms</th>\n",
       "      <th>ceiling_height</th>\n",
       "      <th>floors_total</th>\n",
       "      <th>living_area</th>\n",
       "      <th>floor</th>\n",
       "      <th>is_apartment</th>\n",
       "      <th>...</th>\n",
       "      <th>kitchen_area</th>\n",
       "      <th>balcony</th>\n",
       "      <th>locality_name</th>\n",
       "      <th>airports_nearest</th>\n",
       "      <th>cityCenters_nearest</th>\n",
       "      <th>parks_around3000</th>\n",
       "      <th>parks_nearest</th>\n",
       "      <th>ponds_around3000</th>\n",
       "      <th>ponds_nearest</th>\n",
       "      <th>days_exposition</th>\n",
       "    </tr>\n",
       "  </thead>\n",
       "  <tbody>\n",
       "    <tr>\n",
       "      <th>0</th>\n",
       "      <td>20</td>\n",
       "      <td>13000000.0</td>\n",
       "      <td>108.0</td>\n",
       "      <td>2019-03-07T00:00:00</td>\n",
       "      <td>3</td>\n",
       "      <td>2.70</td>\n",
       "      <td>16.0</td>\n",
       "      <td>51.0</td>\n",
       "      <td>8</td>\n",
       "      <td>NaN</td>\n",
       "      <td>...</td>\n",
       "      <td>25.0</td>\n",
       "      <td>NaN</td>\n",
       "      <td>Санкт-Петербург</td>\n",
       "      <td>18863.0</td>\n",
       "      <td>16028.0</td>\n",
       "      <td>1.0</td>\n",
       "      <td>482.0</td>\n",
       "      <td>2.0</td>\n",
       "      <td>755.0</td>\n",
       "      <td>NaN</td>\n",
       "    </tr>\n",
       "    <tr>\n",
       "      <th>1</th>\n",
       "      <td>7</td>\n",
       "      <td>3350000.0</td>\n",
       "      <td>40.4</td>\n",
       "      <td>2018-12-04T00:00:00</td>\n",
       "      <td>1</td>\n",
       "      <td>NaN</td>\n",
       "      <td>11.0</td>\n",
       "      <td>18.6</td>\n",
       "      <td>1</td>\n",
       "      <td>NaN</td>\n",
       "      <td>...</td>\n",
       "      <td>11.0</td>\n",
       "      <td>2.0</td>\n",
       "      <td>посёлок Шушары</td>\n",
       "      <td>12817.0</td>\n",
       "      <td>18603.0</td>\n",
       "      <td>0.0</td>\n",
       "      <td>NaN</td>\n",
       "      <td>0.0</td>\n",
       "      <td>NaN</td>\n",
       "      <td>81.0</td>\n",
       "    </tr>\n",
       "    <tr>\n",
       "      <th>2</th>\n",
       "      <td>10</td>\n",
       "      <td>5196000.0</td>\n",
       "      <td>56.0</td>\n",
       "      <td>2015-08-20T00:00:00</td>\n",
       "      <td>2</td>\n",
       "      <td>NaN</td>\n",
       "      <td>5.0</td>\n",
       "      <td>34.3</td>\n",
       "      <td>4</td>\n",
       "      <td>NaN</td>\n",
       "      <td>...</td>\n",
       "      <td>8.3</td>\n",
       "      <td>0.0</td>\n",
       "      <td>Санкт-Петербург</td>\n",
       "      <td>21741.0</td>\n",
       "      <td>13933.0</td>\n",
       "      <td>1.0</td>\n",
       "      <td>90.0</td>\n",
       "      <td>2.0</td>\n",
       "      <td>574.0</td>\n",
       "      <td>558.0</td>\n",
       "    </tr>\n",
       "    <tr>\n",
       "      <th>3</th>\n",
       "      <td>0</td>\n",
       "      <td>64900000.0</td>\n",
       "      <td>159.0</td>\n",
       "      <td>2015-07-24T00:00:00</td>\n",
       "      <td>3</td>\n",
       "      <td>NaN</td>\n",
       "      <td>14.0</td>\n",
       "      <td>NaN</td>\n",
       "      <td>9</td>\n",
       "      <td>NaN</td>\n",
       "      <td>...</td>\n",
       "      <td>NaN</td>\n",
       "      <td>0.0</td>\n",
       "      <td>Санкт-Петербург</td>\n",
       "      <td>28098.0</td>\n",
       "      <td>6800.0</td>\n",
       "      <td>2.0</td>\n",
       "      <td>84.0</td>\n",
       "      <td>3.0</td>\n",
       "      <td>234.0</td>\n",
       "      <td>424.0</td>\n",
       "    </tr>\n",
       "    <tr>\n",
       "      <th>4</th>\n",
       "      <td>2</td>\n",
       "      <td>10000000.0</td>\n",
       "      <td>100.0</td>\n",
       "      <td>2018-06-19T00:00:00</td>\n",
       "      <td>2</td>\n",
       "      <td>3.03</td>\n",
       "      <td>14.0</td>\n",
       "      <td>32.0</td>\n",
       "      <td>13</td>\n",
       "      <td>NaN</td>\n",
       "      <td>...</td>\n",
       "      <td>41.0</td>\n",
       "      <td>NaN</td>\n",
       "      <td>Санкт-Петербург</td>\n",
       "      <td>31856.0</td>\n",
       "      <td>8098.0</td>\n",
       "      <td>2.0</td>\n",
       "      <td>112.0</td>\n",
       "      <td>1.0</td>\n",
       "      <td>48.0</td>\n",
       "      <td>121.0</td>\n",
       "    </tr>\n",
       "  </tbody>\n",
       "</table>\n",
       "<p>5 rows × 22 columns</p>\n",
       "</div>"
      ],
      "text/plain": [
       "   total_images  last_price  total_area first_day_exposition  rooms  \\\n",
       "0            20  13000000.0       108.0  2019-03-07T00:00:00      3   \n",
       "1             7   3350000.0        40.4  2018-12-04T00:00:00      1   \n",
       "2            10   5196000.0        56.0  2015-08-20T00:00:00      2   \n",
       "3             0  64900000.0       159.0  2015-07-24T00:00:00      3   \n",
       "4             2  10000000.0       100.0  2018-06-19T00:00:00      2   \n",
       "\n",
       "   ceiling_height  floors_total  living_area  floor is_apartment  ...  \\\n",
       "0            2.70          16.0         51.0      8          NaN  ...   \n",
       "1             NaN          11.0         18.6      1          NaN  ...   \n",
       "2             NaN           5.0         34.3      4          NaN  ...   \n",
       "3             NaN          14.0          NaN      9          NaN  ...   \n",
       "4            3.03          14.0         32.0     13          NaN  ...   \n",
       "\n",
       "   kitchen_area  balcony    locality_name  airports_nearest  \\\n",
       "0          25.0      NaN  Санкт-Петербург           18863.0   \n",
       "1          11.0      2.0   посёлок Шушары           12817.0   \n",
       "2           8.3      0.0  Санкт-Петербург           21741.0   \n",
       "3           NaN      0.0  Санкт-Петербург           28098.0   \n",
       "4          41.0      NaN  Санкт-Петербург           31856.0   \n",
       "\n",
       "  cityCenters_nearest  parks_around3000  parks_nearest  ponds_around3000  \\\n",
       "0             16028.0               1.0          482.0               2.0   \n",
       "1             18603.0               0.0            NaN               0.0   \n",
       "2             13933.0               1.0           90.0               2.0   \n",
       "3              6800.0               2.0           84.0               3.0   \n",
       "4              8098.0               2.0          112.0               1.0   \n",
       "\n",
       "   ponds_nearest  days_exposition  \n",
       "0          755.0              NaN  \n",
       "1            NaN             81.0  \n",
       "2          574.0            558.0  \n",
       "3          234.0            424.0  \n",
       "4           48.0            121.0  \n",
       "\n",
       "[5 rows x 22 columns]"
      ]
     },
     "execution_count": 2,
     "metadata": {},
     "output_type": "execute_result"
    }
   ],
   "source": [
    "data = pd.read_csv('/datasets/real_estate_data.csv', sep='\\t')\n",
    "data.head()\n"
   ]
  },
  {
   "cell_type": "code",
   "execution_count": 3,
   "metadata": {},
   "outputs": [
    {
     "data": {
      "text/html": [
       "<div>\n",
       "<style scoped>\n",
       "    .dataframe tbody tr th:only-of-type {\n",
       "        vertical-align: middle;\n",
       "    }\n",
       "\n",
       "    .dataframe tbody tr th {\n",
       "        vertical-align: top;\n",
       "    }\n",
       "\n",
       "    .dataframe thead th {\n",
       "        text-align: right;\n",
       "    }\n",
       "</style>\n",
       "<table border=\"1\" class=\"dataframe\">\n",
       "  <thead>\n",
       "    <tr style=\"text-align: right;\">\n",
       "      <th></th>\n",
       "      <th>total_images</th>\n",
       "      <th>last_price</th>\n",
       "      <th>total_area</th>\n",
       "      <th>rooms</th>\n",
       "      <th>ceiling_height</th>\n",
       "      <th>floors_total</th>\n",
       "      <th>living_area</th>\n",
       "      <th>floor</th>\n",
       "      <th>kitchen_area</th>\n",
       "      <th>balcony</th>\n",
       "      <th>airports_nearest</th>\n",
       "      <th>cityCenters_nearest</th>\n",
       "      <th>parks_around3000</th>\n",
       "      <th>parks_nearest</th>\n",
       "      <th>ponds_around3000</th>\n",
       "      <th>ponds_nearest</th>\n",
       "      <th>days_exposition</th>\n",
       "    </tr>\n",
       "  </thead>\n",
       "  <tbody>\n",
       "    <tr>\n",
       "      <th>count</th>\n",
       "      <td>23699.000000</td>\n",
       "      <td>2.369900e+04</td>\n",
       "      <td>23699.000000</td>\n",
       "      <td>23699.000000</td>\n",
       "      <td>14504.000000</td>\n",
       "      <td>23613.000000</td>\n",
       "      <td>21796.000000</td>\n",
       "      <td>23699.000000</td>\n",
       "      <td>21421.000000</td>\n",
       "      <td>12180.000000</td>\n",
       "      <td>18157.000000</td>\n",
       "      <td>18180.000000</td>\n",
       "      <td>18181.000000</td>\n",
       "      <td>8079.000000</td>\n",
       "      <td>18181.000000</td>\n",
       "      <td>9110.000000</td>\n",
       "      <td>20518.000000</td>\n",
       "    </tr>\n",
       "    <tr>\n",
       "      <th>mean</th>\n",
       "      <td>9.858475</td>\n",
       "      <td>6.541549e+06</td>\n",
       "      <td>60.348651</td>\n",
       "      <td>2.070636</td>\n",
       "      <td>2.771499</td>\n",
       "      <td>10.673824</td>\n",
       "      <td>34.457852</td>\n",
       "      <td>5.892358</td>\n",
       "      <td>10.569807</td>\n",
       "      <td>1.150082</td>\n",
       "      <td>28793.672193</td>\n",
       "      <td>14191.277833</td>\n",
       "      <td>0.611408</td>\n",
       "      <td>490.804555</td>\n",
       "      <td>0.770255</td>\n",
       "      <td>517.980900</td>\n",
       "      <td>180.888634</td>\n",
       "    </tr>\n",
       "    <tr>\n",
       "      <th>std</th>\n",
       "      <td>5.682529</td>\n",
       "      <td>1.088701e+07</td>\n",
       "      <td>35.654083</td>\n",
       "      <td>1.078405</td>\n",
       "      <td>1.261056</td>\n",
       "      <td>6.597173</td>\n",
       "      <td>22.030445</td>\n",
       "      <td>4.885249</td>\n",
       "      <td>5.905438</td>\n",
       "      <td>1.071300</td>\n",
       "      <td>12630.880622</td>\n",
       "      <td>8608.386210</td>\n",
       "      <td>0.802074</td>\n",
       "      <td>342.317995</td>\n",
       "      <td>0.938346</td>\n",
       "      <td>277.720643</td>\n",
       "      <td>219.727988</td>\n",
       "    </tr>\n",
       "    <tr>\n",
       "      <th>min</th>\n",
       "      <td>0.000000</td>\n",
       "      <td>1.219000e+04</td>\n",
       "      <td>12.000000</td>\n",
       "      <td>0.000000</td>\n",
       "      <td>1.000000</td>\n",
       "      <td>1.000000</td>\n",
       "      <td>2.000000</td>\n",
       "      <td>1.000000</td>\n",
       "      <td>1.300000</td>\n",
       "      <td>0.000000</td>\n",
       "      <td>0.000000</td>\n",
       "      <td>181.000000</td>\n",
       "      <td>0.000000</td>\n",
       "      <td>1.000000</td>\n",
       "      <td>0.000000</td>\n",
       "      <td>13.000000</td>\n",
       "      <td>1.000000</td>\n",
       "    </tr>\n",
       "    <tr>\n",
       "      <th>25%</th>\n",
       "      <td>6.000000</td>\n",
       "      <td>3.400000e+06</td>\n",
       "      <td>40.000000</td>\n",
       "      <td>1.000000</td>\n",
       "      <td>2.520000</td>\n",
       "      <td>5.000000</td>\n",
       "      <td>18.600000</td>\n",
       "      <td>2.000000</td>\n",
       "      <td>7.000000</td>\n",
       "      <td>0.000000</td>\n",
       "      <td>18585.000000</td>\n",
       "      <td>9238.000000</td>\n",
       "      <td>0.000000</td>\n",
       "      <td>288.000000</td>\n",
       "      <td>0.000000</td>\n",
       "      <td>294.000000</td>\n",
       "      <td>45.000000</td>\n",
       "    </tr>\n",
       "    <tr>\n",
       "      <th>50%</th>\n",
       "      <td>9.000000</td>\n",
       "      <td>4.650000e+06</td>\n",
       "      <td>52.000000</td>\n",
       "      <td>2.000000</td>\n",
       "      <td>2.650000</td>\n",
       "      <td>9.000000</td>\n",
       "      <td>30.000000</td>\n",
       "      <td>4.000000</td>\n",
       "      <td>9.100000</td>\n",
       "      <td>1.000000</td>\n",
       "      <td>26726.000000</td>\n",
       "      <td>13098.500000</td>\n",
       "      <td>0.000000</td>\n",
       "      <td>455.000000</td>\n",
       "      <td>1.000000</td>\n",
       "      <td>502.000000</td>\n",
       "      <td>95.000000</td>\n",
       "    </tr>\n",
       "    <tr>\n",
       "      <th>75%</th>\n",
       "      <td>14.000000</td>\n",
       "      <td>6.800000e+06</td>\n",
       "      <td>69.900000</td>\n",
       "      <td>3.000000</td>\n",
       "      <td>2.800000</td>\n",
       "      <td>16.000000</td>\n",
       "      <td>42.300000</td>\n",
       "      <td>8.000000</td>\n",
       "      <td>12.000000</td>\n",
       "      <td>2.000000</td>\n",
       "      <td>37273.000000</td>\n",
       "      <td>16293.000000</td>\n",
       "      <td>1.000000</td>\n",
       "      <td>612.000000</td>\n",
       "      <td>1.000000</td>\n",
       "      <td>729.000000</td>\n",
       "      <td>232.000000</td>\n",
       "    </tr>\n",
       "    <tr>\n",
       "      <th>max</th>\n",
       "      <td>50.000000</td>\n",
       "      <td>7.630000e+08</td>\n",
       "      <td>900.000000</td>\n",
       "      <td>19.000000</td>\n",
       "      <td>100.000000</td>\n",
       "      <td>60.000000</td>\n",
       "      <td>409.700000</td>\n",
       "      <td>33.000000</td>\n",
       "      <td>112.000000</td>\n",
       "      <td>5.000000</td>\n",
       "      <td>84869.000000</td>\n",
       "      <td>65968.000000</td>\n",
       "      <td>3.000000</td>\n",
       "      <td>3190.000000</td>\n",
       "      <td>3.000000</td>\n",
       "      <td>1344.000000</td>\n",
       "      <td>1580.000000</td>\n",
       "    </tr>\n",
       "  </tbody>\n",
       "</table>\n",
       "</div>"
      ],
      "text/plain": [
       "       total_images    last_price    total_area         rooms  ceiling_height  \\\n",
       "count  23699.000000  2.369900e+04  23699.000000  23699.000000    14504.000000   \n",
       "mean       9.858475  6.541549e+06     60.348651      2.070636        2.771499   \n",
       "std        5.682529  1.088701e+07     35.654083      1.078405        1.261056   \n",
       "min        0.000000  1.219000e+04     12.000000      0.000000        1.000000   \n",
       "25%        6.000000  3.400000e+06     40.000000      1.000000        2.520000   \n",
       "50%        9.000000  4.650000e+06     52.000000      2.000000        2.650000   \n",
       "75%       14.000000  6.800000e+06     69.900000      3.000000        2.800000   \n",
       "max       50.000000  7.630000e+08    900.000000     19.000000      100.000000   \n",
       "\n",
       "       floors_total   living_area         floor  kitchen_area       balcony  \\\n",
       "count  23613.000000  21796.000000  23699.000000  21421.000000  12180.000000   \n",
       "mean      10.673824     34.457852      5.892358     10.569807      1.150082   \n",
       "std        6.597173     22.030445      4.885249      5.905438      1.071300   \n",
       "min        1.000000      2.000000      1.000000      1.300000      0.000000   \n",
       "25%        5.000000     18.600000      2.000000      7.000000      0.000000   \n",
       "50%        9.000000     30.000000      4.000000      9.100000      1.000000   \n",
       "75%       16.000000     42.300000      8.000000     12.000000      2.000000   \n",
       "max       60.000000    409.700000     33.000000    112.000000      5.000000   \n",
       "\n",
       "       airports_nearest  cityCenters_nearest  parks_around3000  parks_nearest  \\\n",
       "count      18157.000000         18180.000000      18181.000000    8079.000000   \n",
       "mean       28793.672193         14191.277833          0.611408     490.804555   \n",
       "std        12630.880622          8608.386210          0.802074     342.317995   \n",
       "min            0.000000           181.000000          0.000000       1.000000   \n",
       "25%        18585.000000          9238.000000          0.000000     288.000000   \n",
       "50%        26726.000000         13098.500000          0.000000     455.000000   \n",
       "75%        37273.000000         16293.000000          1.000000     612.000000   \n",
       "max        84869.000000         65968.000000          3.000000    3190.000000   \n",
       "\n",
       "       ponds_around3000  ponds_nearest  days_exposition  \n",
       "count      18181.000000    9110.000000     20518.000000  \n",
       "mean           0.770255     517.980900       180.888634  \n",
       "std            0.938346     277.720643       219.727988  \n",
       "min            0.000000      13.000000         1.000000  \n",
       "25%            0.000000     294.000000        45.000000  \n",
       "50%            1.000000     502.000000        95.000000  \n",
       "75%            1.000000     729.000000       232.000000  \n",
       "max            3.000000    1344.000000      1580.000000  "
      ]
     },
     "execution_count": 3,
     "metadata": {},
     "output_type": "execute_result"
    }
   ],
   "source": [
    "data.describe()"
   ]
  },
  {
   "cell_type": "code",
   "execution_count": null,
   "metadata": {},
   "outputs": [],
   "source": [
    "#pd.set_option('display.max_columns', 50)"
   ]
  },
  {
   "cell_type": "code",
   "execution_count": 4,
   "metadata": {},
   "outputs": [
    {
     "name": "stdout",
     "output_type": "stream",
     "text": [
      "23699\n"
     ]
    }
   ],
   "source": [
    "data_1 = len(data)\n",
    "print(data_1)"
   ]
  },
  {
   "cell_type": "code",
   "execution_count": 5,
   "metadata": {},
   "outputs": [
    {
     "data": {
      "text/plain": [
       "total_images                0\n",
       "last_price                  0\n",
       "total_area                  0\n",
       "first_day_exposition        0\n",
       "rooms                       0\n",
       "ceiling_height           9195\n",
       "floors_total               86\n",
       "living_area              1903\n",
       "floor                       0\n",
       "is_apartment            20924\n",
       "studio                      0\n",
       "open_plan                   0\n",
       "kitchen_area             2278\n",
       "balcony                 11519\n",
       "locality_name              49\n",
       "airports_nearest         5542\n",
       "cityCenters_nearest      5519\n",
       "parks_around3000         5518\n",
       "parks_nearest           15620\n",
       "ponds_around3000         5518\n",
       "ponds_nearest           14589\n",
       "days_exposition          3181\n",
       "dtype: int64"
      ]
     },
     "execution_count": 5,
     "metadata": {},
     "output_type": "execute_result"
    }
   ],
   "source": [
    "data.isna().sum()"
   ]
  },
  {
   "cell_type": "markdown",
   "metadata": {},
   "source": [
    "При первичном анализе данных видны пропуски в \"высоте потолков\",\"апатраменты\", \"балкон\", и картографические данные - расположение парков, водоемов, и пр. Если по первым трем пунктам пропуски из-за того что nan это отсутствие отметки об аппартаментах, и отсутсвие балкона; в других данных по близости вообще нет парков и аэропортов. Также нельзя исключить что это выбросы, и ошибки загрузки/выгрузки данных. имеются аномальные значение в максимальной площади объекта и максимальной цене."
   ]
  },
  {
   "cell_type": "code",
   "execution_count": 6,
   "metadata": {},
   "outputs": [
    {
     "data": {
      "image/png": "[encoded data removed]",
      "text/plain": [
       "<Figure size 1080x1440 with 20 Axes>"
      ]
     },
     "metadata": {
      "needs_background": "light"
     },
     "output_type": "display_data"
    }
   ],
   "source": [
    "data.hist(figsize=(15, 20));"
   ]
  },
  {
   "cell_type": "markdown",
   "metadata": {},
   "source": [
    "### Предобработка данных"
   ]
  },
  {
   "cell_type": "markdown",
   "metadata": {},
   "source": [
    "    Убираем пропуски и некорректные данные\n",
    "    Форматируем данные в колонке с датой и временем, в остальных данных тип корректный\n",
    " \n",
    "    \n",
    "    "
   ]
  },
  {
   "cell_type": "code",
   "execution_count": 7,
   "metadata": {},
   "outputs": [
    {
     "name": "stdout",
     "output_type": "stream",
     "text": [
      "0   2019-03-07\n",
      "1   2018-12-04\n",
      "2   2015-08-20\n",
      "3   2015-07-24\n",
      "4   2018-06-19\n",
      "Name: first_day_exposition, dtype: datetime64[ns]\n"
     ]
    }
   ],
   "source": [
    "data['first_day_exposition'] = data['first_day_exposition'].astype('datetime64')\n",
    "print(data['first_day_exposition'].head())"
   ]
  },
  {
   "cell_type": "code",
   "execution_count": 8,
   "metadata": {
    "scrolled": true
   },
   "outputs": [],
   "source": [
    "data['locality_name'] = data['locality_name'].fillna(\"\") \n",
    "wrong_names = ['поселок городского типа', 'посёлок городского типа', 'городской поселок', 'городской посёлок', 'поселок']\n",
    "correct_name = 'посёлок'\n",
    "\n",
    "def replace_names(name):\n",
    "    for wrong_name in wrong_names:\n",
    "        if wrong_name in name:\n",
    "            return name.replace(wrong_name, correct_name)\n",
    "    return name\n",
    "\n",
    "data['locality_name'] = data['locality_name'].apply(replace_names)"
   ]
  },
  {
   "cell_type": "code",
   "execution_count": 9,
   "metadata": {},
   "outputs": [
    {
     "name": "stdout",
     "output_type": "stream",
     "text": [
      "Санкт-Петербург          15721\n",
      "Ленинградская область     4368\n",
      "Поселок                   2660\n",
      "Деревня                    945\n",
      "Садовое товарищество         5\n",
      "Name: locality_name_category, dtype: int64\n"
     ]
    },
    {
     "data": {
      "image/png": "[encoded data removed]",
      "text/plain": [
       "<Figure size 432x288 with 1 Axes>"
      ]
     },
     "metadata": {},
     "output_type": "display_data"
    }
   ],
   "source": [
    "def sorting_place(name):\n",
    "    if 'Санкт' in name:\n",
    "        return 'Санкт-Петербург'\n",
    "    elif 'садов' in name:\n",
    "        return 'Садовое товарищество'\n",
    "    elif 'поселок' in name or 'посёлок' in name:\n",
    "        return 'Поселок'\n",
    "    elif 'дерев' in name:\n",
    "        return 'Деревня'\n",
    "    else:\n",
    "        return 'Ленинградская область'\n",
    "        \n",
    "data['locality_name_category'] = data['locality_name'].apply(sorting_place)\n",
    "print(data['locality_name_category'].value_counts())\n",
    "# кол-во объявлений по каждой категории\n",
    "data['locality_name_category'].value_counts().plot(y='locality_name_category', kind='pie');"
   ]
  },
  {
   "cell_type": "markdown",
   "metadata": {},
   "source": [
    "    Вычисляем долевое соотношение объявлений\n",
    "    Также распределяем локацию по группам"
   ]
  },
  {
   "cell_type": "code",
   "execution_count": 10,
   "metadata": {},
   "outputs": [
    {
     "data": {
      "text/plain": [
       "0"
      ]
     },
     "execution_count": 10,
     "metadata": {},
     "output_type": "execute_result"
    }
   ],
   "source": [
    "data.duplicated().sum()"
   ]
  },
  {
   "cell_type": "markdown",
   "metadata": {},
   "source": [
    "- Заполняем пропущенные значения там где это нужно и возможно. Делаем проверку (Не заполняем картографические данные, поскольку мы не сможем сделать это достоверно)"
   ]
  },
  {
   "cell_type": "code",
   "execution_count": 11,
   "metadata": {},
   "outputs": [
    {
     "data": {
      "text/plain": [
       "array([nan,  2.,  0.,  1.,  5.,  4.,  3.])"
      ]
     },
     "execution_count": 11,
     "metadata": {},
     "output_type": "execute_result"
    }
   ],
   "source": [
    "data['balcony'].fillna(0)\n",
    "data.loc[((data['balcony'] == 1.5) & (data['balcony'] >= 2.5)), 'balcony'] = 2.0\n",
    "data['balcony'].unique()"
   ]
  },
  {
   "cell_type": "code",
   "execution_count": 12,
   "metadata": {},
   "outputs": [
    {
     "name": "stdout",
     "output_type": "stream",
     "text": [
      "86\n",
      "2278\n",
      "1903\n",
      "11519\n",
      "0\n",
      "19\n",
      "17\n",
      "105\n"
     ]
    }
   ],
   "source": [
    "list_of_nan = ['floors_total', 'kitchen_area', 'living_area', 'balcony']\n",
    "for name in list_of_nan:\n",
    "    print(data[name].isna().sum())\n",
    "    \n",
    "for name in list_of_nan: \n",
    "    for value in data['locality_name'].unique():\n",
    "        s = data[(data['locality_name'] == value) & (data[name].notnull())][name]\n",
    "        if len(s)>0:\n",
    "            data.loc[(data['locality_name'] == value) & (data[name].isna()), name] = s.median()\n",
    "\n",
    "for name in list_of_nan:\n",
    "    print(data[name].isna().sum())"
   ]
  },
  {
   "cell_type": "markdown",
   "metadata": {},
   "source": [
    "Данные до заполнения и после. "
   ]
  },
  {
   "cell_type": "code",
   "execution_count": 13,
   "metadata": {},
   "outputs": [],
   "source": [
    "data['living_area'] = data['living_area'].where(data['total_area'] > data['living_area'], data['total_area'])\n",
    "#проверка что жилая площадь не превышает общую\n",
    "data['kitchen_area'] = data['kitchen_area'].where(data['total_area'] > data['kitchen_area'], data['total_area'])\n",
    "#проверка что площадь кухни не превышает общую"
   ]
  },
  {
   "cell_type": "markdown",
   "metadata": {},
   "source": [
    "**Высота потолков**"
   ]
  },
  {
   "cell_type": "markdown",
   "metadata": {},
   "source": [
    "- Поменяем аномальную высоту потолков 22/23/24 метра. Разделим на 10 и получим стандартную высоту потолков."
   ]
  },
  {
   "cell_type": "code",
   "execution_count": 14,
   "metadata": {},
   "outputs": [
    {
     "data": {
      "text/plain": [
       "2.50    3522\n",
       "2.60    1647\n",
       "2.70    1582\n",
       "3.00    1112\n",
       "2.80     993\n",
       "2.55     980\n",
       "2.75     911\n",
       "2.65     676\n",
       "3.20     279\n",
       "3.10     203\n",
       "Name: ceiling_height, dtype: int64"
      ]
     },
     "execution_count": 14,
     "metadata": {},
     "output_type": "execute_result"
    }
   ],
   "source": [
    "data['ceiling_height'] = (data['ceiling_height'].where(data['ceiling_height'] < 20, data['ceiling_height'] / 10))\n",
    "data['ceiling_height'].value_counts().head(10)\n",
    "                                          "
   ]
  },
  {
   "cell_type": "code",
   "execution_count": 15,
   "metadata": {},
   "outputs": [],
   "source": [
    "data.loc[(data['ceiling_height'] >= 7), 'ceiling_height'] = 7"
   ]
  },
  {
   "cell_type": "markdown",
   "metadata": {},
   "source": [
    "- Также уберем все потолки превышаюшие 7 метров"
   ]
  },
  {
   "cell_type": "code",
   "execution_count": 16,
   "metadata": {},
   "outputs": [
    {
     "data": {
      "text/plain": [
       "array([2.7 ,  nan, 3.03, 2.5 , 2.67, 2.56, 3.05, 2.75, 2.6 , 2.9 , 2.8 ,\n",
       "       2.55, 3.  , 2.65, 3.2 , 2.61, 3.25, 3.45, 2.77, 2.85, 2.64, 2.57,\n",
       "       4.15, 3.5 , 3.3 , 2.71, 4.  , 2.47, 2.73, 2.84, 3.1 , 2.34, 3.4 ,\n",
       "       3.06, 2.72, 2.54, 2.51, 2.78, 2.76, 2.58, 3.7 , 2.52, 5.2 , 2.87,\n",
       "       2.66, 2.59, 2.  , 2.45, 3.6 , 2.92, 3.11, 3.13, 3.8 , 3.15, 3.55,\n",
       "       3.16, 3.62, 3.12, 2.53, 2.74, 2.96, 2.46, 5.3 , 5.  , 2.79, 2.95,\n",
       "       4.06, 2.94, 3.82, 3.54, 3.53, 2.83, 4.7 , 2.4 , 3.38, 3.01, 5.6 ,\n",
       "       3.65, 3.9 , 3.18, 3.35, 2.3 , 3.57, 2.48, 2.62, 2.82, 3.98, 2.63,\n",
       "       3.83, 3.52, 3.95, 3.75, 2.88, 3.67, 3.87, 3.66, 3.85, 3.86, 4.19,\n",
       "       3.24, 4.8 , 4.5 , 4.2 , 3.36, 3.08, 3.68, 3.07, 3.37, 3.09, 7.  ,\n",
       "       3.26, 3.34, 2.81, 3.44, 2.97, 3.14, 4.37, 2.68, 3.22, 3.27, 4.1 ,\n",
       "       2.93, 3.46, 3.47, 3.33, 3.63, 3.32, 1.2 , 2.98, 2.86, 3.17, 4.4 ,\n",
       "       3.28, 3.04, 4.45, 5.5 , 3.84, 3.23, 3.02, 3.21, 3.43, 3.78, 4.3 ,\n",
       "       3.39, 2.69, 3.31, 4.65, 3.56, 2.2 , 3.51, 3.93, 3.42, 2.99, 3.49,\n",
       "       4.14, 2.91, 3.88, 1.75, 4.25, 3.29, 2.25, 3.76, 3.69, 6.  , 2.26,\n",
       "       2.89, 3.58, 5.8 , 2.49, 4.9 , 3.48, 1.  , 3.59])"
      ]
     },
     "execution_count": 16,
     "metadata": {},
     "output_type": "execute_result"
    }
   ],
   "source": [
    "data['ceiling_height'].unique()"
   ]
  },
  {
   "cell_type": "code",
   "execution_count": 17,
   "metadata": {},
   "outputs": [],
   "source": [
    "data['ceiling_height'] = data['ceiling_height'].fillna(data['ceiling_height'].median())"
   ]
  },
  {
   "cell_type": "code",
   "execution_count": 18,
   "metadata": {},
   "outputs": [
    {
     "data": {
      "text/plain": [
       "0    2.70\n",
       "1    2.65\n",
       "2    2.65\n",
       "3    2.65\n",
       "4    3.03\n",
       "Name: ceiling_height, dtype: float64"
      ]
     },
     "execution_count": 18,
     "metadata": {},
     "output_type": "execute_result"
    }
   ],
   "source": [
    "data['ceiling_height'].head()"
   ]
  },
  {
   "cell_type": "code",
   "execution_count": 19,
   "metadata": {},
   "outputs": [
    {
     "data": {
      "text/plain": [
       "0"
      ]
     },
     "execution_count": 19,
     "metadata": {},
     "output_type": "execute_result"
    }
   ],
   "source": [
    "data['ceiling_height'].isna().sum()"
   ]
  },
  {
   "cell_type": "code",
   "execution_count": 20,
   "metadata": {},
   "outputs": [
    {
     "data": {
      "image/png": "[encoded data removed]",
      "text/plain": [
       "<Figure size 432x288 with 1 Axes>"
      ]
     },
     "metadata": {
      "needs_background": "light"
     },
     "output_type": "display_data"
    }
   ],
   "source": [
    "data['ceiling_height'].hist();"
   ]
  },
  {
   "cell_type": "markdown",
   "metadata": {},
   "source": [
    "- Средняя высота потолков по выборке от 2,5 до 3 метров"
   ]
  },
  {
   "cell_type": "markdown",
   "metadata": {},
   "source": [
    "**Этажность дома**"
   ]
  },
  {
   "cell_type": "markdown",
   "metadata": {},
   "source": [
    "- Поставим порог этажности дома в 30 этажей"
   ]
  },
  {
   "cell_type": "code",
   "execution_count": 21,
   "metadata": {},
   "outputs": [],
   "source": [
    "data['floors_total'] = data['floors_total'].where(data['floors_total'] > data['floor'], data['floors_total'])\n",
    "#проверка что этаж не превышает общую этажность дома"
   ]
  },
  {
   "cell_type": "code",
   "execution_count": 22,
   "metadata": {},
   "outputs": [],
   "source": [
    "data['floors_total'] = data['floors_total'].where(data['floors_total'] < 30, data['floors_total']/10).round()"
   ]
  },
  {
   "cell_type": "code",
   "execution_count": 23,
   "metadata": {},
   "outputs": [
    {
     "data": {
      "image/png": "[encoded data removed]",
      "text/plain": [
       "<Figure size 432x288 with 1 Axes>"
      ]
     },
     "metadata": {
      "needs_background": "light"
     },
     "output_type": "display_data"
    }
   ],
   "source": [
    "data['floors_total'].value_counts().hist(bins=10);"
   ]
  },
  {
   "cell_type": "code",
   "execution_count": 24,
   "metadata": {},
   "outputs": [
    {
     "data": {
      "text/plain": [
       "0"
      ]
     },
     "execution_count": 24,
     "metadata": {},
     "output_type": "execute_result"
    }
   ],
   "source": [
    "data['floors_total'].isna().sum()"
   ]
  },
  {
   "cell_type": "markdown",
   "metadata": {},
   "source": [
    "- Наблюдаем на графике что в общая этажность домов это новостройки (в среднем 18 этажей) или \"сталинки\" по 5 этажей в доме. "
   ]
  },
  {
   "cell_type": "code",
   "execution_count": 25,
   "metadata": {},
   "outputs": [
    {
     "data": {
      "text/html": [
       "<div>\n",
       "<style scoped>\n",
       "    .dataframe tbody tr th:only-of-type {\n",
       "        vertical-align: middle;\n",
       "    }\n",
       "\n",
       "    .dataframe tbody tr th {\n",
       "        vertical-align: top;\n",
       "    }\n",
       "\n",
       "    .dataframe thead th {\n",
       "        text-align: right;\n",
       "    }\n",
       "</style>\n",
       "<table border=\"1\" class=\"dataframe\">\n",
       "  <thead>\n",
       "    <tr style=\"text-align: right;\">\n",
       "      <th></th>\n",
       "      <th>total_images</th>\n",
       "      <th>last_price</th>\n",
       "      <th>total_area</th>\n",
       "      <th>first_day_exposition</th>\n",
       "      <th>rooms</th>\n",
       "      <th>ceiling_height</th>\n",
       "      <th>floors_total</th>\n",
       "      <th>living_area</th>\n",
       "      <th>floor</th>\n",
       "      <th>is_apartment</th>\n",
       "      <th>...</th>\n",
       "      <th>balcony</th>\n",
       "      <th>locality_name</th>\n",
       "      <th>airports_nearest</th>\n",
       "      <th>cityCenters_nearest</th>\n",
       "      <th>parks_around3000</th>\n",
       "      <th>parks_nearest</th>\n",
       "      <th>ponds_around3000</th>\n",
       "      <th>ponds_nearest</th>\n",
       "      <th>days_exposition</th>\n",
       "      <th>locality_name_category</th>\n",
       "    </tr>\n",
       "  </thead>\n",
       "  <tbody>\n",
       "    <tr>\n",
       "      <th>5582</th>\n",
       "      <td>2</td>\n",
       "      <td>4340000.0</td>\n",
       "      <td>37.1</td>\n",
       "      <td>2018-07-02</td>\n",
       "      <td>1</td>\n",
       "      <td>2.65</td>\n",
       "      <td>16.0</td>\n",
       "      <td>14.3</td>\n",
       "      <td>14</td>\n",
       "      <td>NaN</td>\n",
       "      <td>...</td>\n",
       "      <td>1.0</td>\n",
       "      <td>Санкт-Петербург</td>\n",
       "      <td>30201.0</td>\n",
       "      <td>9049.0</td>\n",
       "      <td>0.0</td>\n",
       "      <td>NaN</td>\n",
       "      <td>0.0</td>\n",
       "      <td>NaN</td>\n",
       "      <td>45.0</td>\n",
       "      <td>Санкт-Петербург</td>\n",
       "    </tr>\n",
       "    <tr>\n",
       "      <th>14434</th>\n",
       "      <td>6</td>\n",
       "      <td>5200000.0</td>\n",
       "      <td>62.0</td>\n",
       "      <td>2015-08-11</td>\n",
       "      <td>2</td>\n",
       "      <td>2.55</td>\n",
       "      <td>10.0</td>\n",
       "      <td>35.0</td>\n",
       "      <td>8</td>\n",
       "      <td>False</td>\n",
       "      <td>...</td>\n",
       "      <td>2.0</td>\n",
       "      <td>посёлок Шушары</td>\n",
       "      <td>12416.0</td>\n",
       "      <td>18203.0</td>\n",
       "      <td>0.0</td>\n",
       "      <td>NaN</td>\n",
       "      <td>0.0</td>\n",
       "      <td>NaN</td>\n",
       "      <td>415.0</td>\n",
       "      <td>Поселок</td>\n",
       "    </tr>\n",
       "    <tr>\n",
       "      <th>1780</th>\n",
       "      <td>5</td>\n",
       "      <td>3550000.0</td>\n",
       "      <td>33.0</td>\n",
       "      <td>2017-09-12</td>\n",
       "      <td>1</td>\n",
       "      <td>2.55</td>\n",
       "      <td>18.0</td>\n",
       "      <td>18.0</td>\n",
       "      <td>9</td>\n",
       "      <td>NaN</td>\n",
       "      <td>...</td>\n",
       "      <td>2.0</td>\n",
       "      <td>Санкт-Петербург</td>\n",
       "      <td>14861.0</td>\n",
       "      <td>12449.0</td>\n",
       "      <td>0.0</td>\n",
       "      <td>NaN</td>\n",
       "      <td>0.0</td>\n",
       "      <td>NaN</td>\n",
       "      <td>184.0</td>\n",
       "      <td>Санкт-Петербург</td>\n",
       "    </tr>\n",
       "    <tr>\n",
       "      <th>15960</th>\n",
       "      <td>4</td>\n",
       "      <td>9400000.0</td>\n",
       "      <td>84.6</td>\n",
       "      <td>2018-02-01</td>\n",
       "      <td>3</td>\n",
       "      <td>2.65</td>\n",
       "      <td>11.0</td>\n",
       "      <td>31.3</td>\n",
       "      <td>2</td>\n",
       "      <td>NaN</td>\n",
       "      <td>...</td>\n",
       "      <td>1.0</td>\n",
       "      <td>Санкт-Петербург</td>\n",
       "      <td>23752.0</td>\n",
       "      <td>5552.0</td>\n",
       "      <td>0.0</td>\n",
       "      <td>NaN</td>\n",
       "      <td>1.0</td>\n",
       "      <td>502.0</td>\n",
       "      <td>58.0</td>\n",
       "      <td>Санкт-Петербург</td>\n",
       "    </tr>\n",
       "    <tr>\n",
       "      <th>21247</th>\n",
       "      <td>5</td>\n",
       "      <td>2330000.0</td>\n",
       "      <td>24.0</td>\n",
       "      <td>2018-01-01</td>\n",
       "      <td>1</td>\n",
       "      <td>2.65</td>\n",
       "      <td>24.0</td>\n",
       "      <td>16.0</td>\n",
       "      <td>16</td>\n",
       "      <td>NaN</td>\n",
       "      <td>...</td>\n",
       "      <td>1.0</td>\n",
       "      <td>посёлок Мурино</td>\n",
       "      <td>NaN</td>\n",
       "      <td>NaN</td>\n",
       "      <td>NaN</td>\n",
       "      <td>NaN</td>\n",
       "      <td>NaN</td>\n",
       "      <td>NaN</td>\n",
       "      <td>68.0</td>\n",
       "      <td>Поселок</td>\n",
       "    </tr>\n",
       "  </tbody>\n",
       "</table>\n",
       "<p>5 rows × 23 columns</p>\n",
       "</div>"
      ],
      "text/plain": [
       "       total_images  last_price  total_area first_day_exposition  rooms  \\\n",
       "5582              2   4340000.0        37.1           2018-07-02      1   \n",
       "14434             6   5200000.0        62.0           2015-08-11      2   \n",
       "1780              5   3550000.0        33.0           2017-09-12      1   \n",
       "15960             4   9400000.0        84.6           2018-02-01      3   \n",
       "21247             5   2330000.0        24.0           2018-01-01      1   \n",
       "\n",
       "       ceiling_height  floors_total  living_area  floor is_apartment  ...  \\\n",
       "5582             2.65          16.0         14.3     14          NaN  ...   \n",
       "14434            2.55          10.0         35.0      8        False  ...   \n",
       "1780             2.55          18.0         18.0      9          NaN  ...   \n",
       "15960            2.65          11.0         31.3      2          NaN  ...   \n",
       "21247            2.65          24.0         16.0     16          NaN  ...   \n",
       "\n",
       "       balcony    locality_name  airports_nearest  cityCenters_nearest  \\\n",
       "5582       1.0  Санкт-Петербург           30201.0               9049.0   \n",
       "14434      2.0   посёлок Шушары           12416.0              18203.0   \n",
       "1780       2.0  Санкт-Петербург           14861.0              12449.0   \n",
       "15960      1.0  Санкт-Петербург           23752.0               5552.0   \n",
       "21247      1.0   посёлок Мурино               NaN                  NaN   \n",
       "\n",
       "      parks_around3000  parks_nearest  ponds_around3000  ponds_nearest  \\\n",
       "5582               0.0            NaN               0.0            NaN   \n",
       "14434              0.0            NaN               0.0            NaN   \n",
       "1780               0.0            NaN               0.0            NaN   \n",
       "15960              0.0            NaN               1.0          502.0   \n",
       "21247              NaN            NaN               NaN            NaN   \n",
       "\n",
       "       days_exposition  locality_name_category  \n",
       "5582              45.0         Санкт-Петербург  \n",
       "14434            415.0                 Поселок  \n",
       "1780             184.0         Санкт-Петербург  \n",
       "15960             58.0         Санкт-Петербург  \n",
       "21247             68.0                 Поселок  \n",
       "\n",
       "[5 rows x 23 columns]"
      ]
     },
     "execution_count": 25,
     "metadata": {},
     "output_type": "execute_result"
    }
   ],
   "source": [
    "data.sample(5)"
   ]
  },
  {
   "cell_type": "code",
   "execution_count": 1,
   "metadata": {},
   "outputs": [],
   "source": [
    "#new_data.shape[0] / old_data.shape[0]"
   ]
  },
  {
   "cell_type": "code",
   "execution_count": 26,
   "metadata": {},
   "outputs": [
    {
     "data": {
      "image/png": "[encoded data removed]",
      "text/plain": [
       "<Figure size 432x288 with 1 Axes>"
      ]
     },
     "metadata": {
      "needs_background": "light"
     },
     "output_type": "display_data"
    }
   ],
   "source": [
    "#код ревьюера\n",
    "data['total_area'].hist(bins=30);"
   ]
  },
  {
   "cell_type": "markdown",
   "metadata": {},
   "source": [
    "**Отсечем выбросы по площади жилья**\n"
   ]
  },
  {
   "cell_type": "code",
   "execution_count": 27,
   "metadata": {},
   "outputs": [],
   "source": [
    "data.loc[(data['total_area'] >= 200), 'total_area'] = data['total_area'].median()"
   ]
  },
  {
   "cell_type": "code",
   "execution_count": 28,
   "metadata": {},
   "outputs": [
    {
     "data": {
      "text/plain": [
       "0"
      ]
     },
     "execution_count": 28,
     "metadata": {},
     "output_type": "execute_result"
    }
   ],
   "source": [
    "data['total_area'].isna().sum()"
   ]
  },
  {
   "cell_type": "code",
   "execution_count": 29,
   "metadata": {},
   "outputs": [
    {
     "data": {
      "text/plain": [
       "52.0    449\n",
       "45.0    419\n",
       "42.0    383\n",
       "60.0    347\n",
       "31.0    346\n",
       "44.0    345\n",
       "40.0    315\n",
       "43.0    301\n",
       "32.0    289\n",
       "46.0    282\n",
       "Name: total_area, dtype: int64"
      ]
     },
     "execution_count": 29,
     "metadata": {},
     "output_type": "execute_result"
    }
   ],
   "source": [
    "data['total_area'].value_counts().head(10)"
   ]
  },
  {
   "cell_type": "code",
   "execution_count": 30,
   "metadata": {},
   "outputs": [
    {
     "data": {
      "image/png": "[encoded data removed]",
      "text/plain": [
       "<Figure size 432x288 with 1 Axes>"
      ]
     },
     "metadata": {
      "needs_background": "light"
     },
     "output_type": "display_data"
    }
   ],
   "source": [
    "data['total_area'].hist();"
   ]
  },
  {
   "cell_type": "markdown",
   "metadata": {},
   "source": [
    "Средняя площадь продаваемых объектов от 30 до 60 кв.м"
   ]
  },
  {
   "cell_type": "markdown",
   "metadata": {},
   "source": [
    "**Выбросы по кол-ву комнат**"
   ]
  },
  {
   "cell_type": "code",
   "execution_count": 31,
   "metadata": {},
   "outputs": [],
   "source": [
    "data.loc[(data['rooms'] >= 7), 'rooms'] = 7"
   ]
  },
  {
   "cell_type": "code",
   "execution_count": 32,
   "metadata": {},
   "outputs": [
    {
     "data": {
      "text/plain": [
       "1    8047\n",
       "2    7940\n",
       "3    5814\n",
       "4    1180\n",
       "5     326\n",
       "0     197\n",
       "6     105\n",
       "7      90\n",
       "Name: rooms, dtype: int64"
      ]
     },
     "execution_count": 32,
     "metadata": {},
     "output_type": "execute_result"
    }
   ],
   "source": [
    "data['rooms'].value_counts()"
   ]
  },
  {
   "cell_type": "code",
   "execution_count": 33,
   "metadata": {},
   "outputs": [
    {
     "data": {
      "text/plain": [
       "<AxesSubplot:>"
      ]
     },
     "execution_count": 33,
     "metadata": {},
     "output_type": "execute_result"
    },
    {
     "data": {
      "image/png": "[encoded data removed]",
      "text/plain": [
       "<Figure size 432x288 with 1 Axes>"
      ]
     },
     "metadata": {
      "needs_background": "light"
     },
     "output_type": "display_data"
    }
   ],
   "source": [
    "data['rooms'].hist()"
   ]
  },
  {
   "cell_type": "markdown",
   "metadata": {},
   "source": [
    "Самые популярные к продаже это однокомнатные и двухкомнатные квартиры"
   ]
  },
  {
   "cell_type": "markdown",
   "metadata": {},
   "source": [
    "### Посчитайте и добавьте в таблицу новые столбцы"
   ]
  },
  {
   "cell_type": "markdown",
   "metadata": {},
   "source": [
    "<h1>3.1</h1>"
   ]
  },
  {
   "cell_type": "markdown",
   "metadata": {},
   "source": [
    "**Цена за один квадратный метр**\n"
   ]
  },
  {
   "cell_type": "code",
   "execution_count": 34,
   "metadata": {},
   "outputs": [],
   "source": [
    "data['quadratmetr'] = data['last_price']/data['total_area']"
   ]
  },
  {
   "cell_type": "code",
   "execution_count": 35,
   "metadata": {},
   "outputs": [],
   "source": [
    "#data.loc[(data['quadratmetr'] > 200000), 'quadratmetr'] = data['quadratmetr'].median()"
   ]
  },
  {
   "cell_type": "code",
   "execution_count": 36,
   "metadata": {},
   "outputs": [
    {
     "data": {
      "image/png": "[encoded data removed]",
      "text/plain": [
       "<Figure size 432x288 with 1 Axes>"
      ]
     },
     "metadata": {
      "needs_background": "light"
     },
     "output_type": "display_data"
    }
   ],
   "source": [
    "data.groupby('locality_name_category')['quadratmetr'].agg('median').plot(grid=True);"
   ]
  },
  {
   "cell_type": "code",
   "execution_count": 37,
   "metadata": {},
   "outputs": [],
   "source": [
    "#data['quadratmetr'].value_counts().head(10)"
   ]
  },
  {
   "cell_type": "markdown",
   "metadata": {},
   "source": [
    "\n",
    "    Самая бюджетная цена в объявлениях о продаже в Садовом товариществе (не более 40 000 р за кв.м)\n",
    "    В деревне, поселке городского типа и в Ленобласти средняя цена почти одинаковая (от 68 000 до 72 000 рублей за кв.м)\n",
    "    В Санкт-Петербурге цена за кв метр в среднем стартует от 100 000 рублей "
   ]
  },
  {
   "cell_type": "markdown",
   "metadata": {},
   "source": [
    "<h1>3.2-3.4</h1>"
   ]
  },
  {
   "cell_type": "markdown",
   "metadata": {},
   "source": [
    "**День , месяц и год публикации обьявления**"
   ]
  },
  {
   "cell_type": "code",
   "execution_count": 38,
   "metadata": {},
   "outputs": [],
   "source": [
    "data['day_of_week'] = data['first_day_exposition'].dt.dayofweek\n",
    "data['month_of_pub'] = data['first_day_exposition'].dt.month\n",
    "data['year_of_pub'] = data['first_day_exposition'].dt.year\n",
    "pd.set_option('display.max_columns', 50)"
   ]
  },
  {
   "cell_type": "markdown",
   "metadata": {},
   "source": [
    "<h1>3.5</h1>"
   ]
  },
  {
   "cell_type": "markdown",
   "metadata": {},
   "source": [
    "**Распределили по типу этажа квартиры**"
   ]
  },
  {
   "cell_type": "code",
   "execution_count": 39,
   "metadata": {},
   "outputs": [
    {
     "name": "stdout",
     "output_type": "stream",
     "text": [
      "другой       17440\n",
      "последний     3342\n",
      "первый        2917\n",
      "Name: first_last_floor, dtype: int64\n"
     ]
    }
   ],
   "source": [
    "def type_floor(row):\n",
    "    if 1 == row['floor']:\n",
    "        return 'первый'\n",
    "    elif row['floors_total'] == row['floor']:\n",
    "        return 'последний'\n",
    "    else:\n",
    "        return 'другой'\n",
    "\n",
    "data['first_last_floor'] = data.apply(type_floor, axis=1)\n",
    "floors_about = data['first_last_floor'].value_counts()\n",
    "print(floors_about)"
   ]
  },
  {
   "cell_type": "markdown",
   "metadata": {},
   "source": [
    "<h1>3.6</h1>"
   ]
  },
  {
   "cell_type": "markdown",
   "metadata": {},
   "source": [
    "**Расстояние до центра города в километрах**"
   ]
  },
  {
   "cell_type": "code",
   "execution_count": 40,
   "metadata": {},
   "outputs": [],
   "source": [
    "data['km'] = (data['cityCenters_nearest']/1000).round()"
   ]
  },
  {
   "cell_type": "code",
   "execution_count": 41,
   "metadata": {},
   "outputs": [
    {
     "data": {
      "text/plain": [
       "0    16.0\n",
       "1    19.0\n",
       "2    14.0\n",
       "3     7.0\n",
       "4     8.0\n",
       "Name: km, dtype: float64"
      ]
     },
     "execution_count": 41,
     "metadata": {},
     "output_type": "execute_result"
    }
   ],
   "source": [
    "data['km'].head()"
   ]
  },
  {
   "cell_type": "code",
   "execution_count": 42,
   "metadata": {},
   "outputs": [
    {
     "data": {
      "image/png": "[encoded data removed]",
      "text/plain": [
       "<Figure size 432x288 with 1 Axes>"
      ]
     },
     "metadata": {
      "needs_background": "light"
     },
     "output_type": "display_data"
    }
   ],
   "source": [
    "group_spb = data[data['locality_name']=='Санкт-Петербург'].copy()\n",
    "group_spb.groupby('km')[['quadratmetr']].mean().plot();"
   ]
  },
  {
   "cell_type": "markdown",
   "metadata": {},
   "source": [
    "- В СПб найдено три пиковых значения в стоимости кв метра. В самом центре города, в 5 км от центра и в 27 км."
   ]
  },
  {
   "cell_type": "markdown",
   "metadata": {},
   "source": [
    "<h1>4.1</h1> Изучаем параметры"
   ]
  },
  {
   "cell_type": "code",
   "execution_count": 43,
   "metadata": {},
   "outputs": [
    {
     "data": {
      "text/plain": [
       "<AxesSubplot:>"
      ]
     },
     "execution_count": 43,
     "metadata": {},
     "output_type": "execute_result"
    },
    {
     "data": {
      "image/png": "[encoded data removed]",
      "text/plain": [
       "<Figure size 432x288 with 1 Axes>"
      ]
     },
     "metadata": {
      "needs_background": "light"
     },
     "output_type": "display_data"
    }
   ],
   "source": [
    "data['total_area'].hist()"
   ]
  },
  {
   "cell_type": "markdown",
   "metadata": {},
   "source": [
    "\n",
    "**Общая площадь**"
   ]
  },
  {
   "cell_type": "code",
   "execution_count": 44,
   "metadata": {},
   "outputs": [
    {
     "data": {
      "image/png": "[encoded data removed]",
      "text/plain": [
       "<Figure size 432x288 with 1 Axes>"
      ]
     },
     "metadata": {
      "needs_background": "light"
     },
     "output_type": "display_data"
    }
   ],
   "source": [
    "data['total_area'].hist();"
   ]
  },
  {
   "cell_type": "markdown",
   "metadata": {},
   "source": [
    " - Выражена частота продажи квартир общей площадью от 30 до 50 кв м"
   ]
  },
  {
   "cell_type": "markdown",
   "metadata": {},
   "source": [
    "**Жилая площадь**"
   ]
  },
  {
   "cell_type": "code",
   "execution_count": 45,
   "metadata": {},
   "outputs": [
    {
     "data": {
      "image/png": "[encoded data removed]",
      "text/plain": [
       "<Figure size 432x288 with 1 Axes>"
      ]
     },
     "metadata": {
      "needs_background": "light"
     },
     "output_type": "display_data"
    }
   ],
   "source": [
    "data['living_area'][:150].hist(bins=50);"
   ]
  },
  {
   "cell_type": "markdown",
   "metadata": {},
   "source": [
    " - Жилая площадь варьируется от 20 до 30 кв м"
   ]
  },
  {
   "cell_type": "markdown",
   "metadata": {},
   "source": [
    "**Площадь кухни**"
   ]
  },
  {
   "cell_type": "code",
   "execution_count": 46,
   "metadata": {},
   "outputs": [
    {
     "data": {
      "image/png": "[encoded data removed]",
      "text/plain": [
       "<Figure size 432x288 with 1 Axes>"
      ]
     },
     "metadata": {
      "needs_background": "light"
     },
     "output_type": "display_data"
    }
   ],
   "source": [
    "data['kitchen_area'][:30].hist(grid=True);"
   ]
  },
  {
   "cell_type": "markdown",
   "metadata": {},
   "source": [
    " - Площадь кухни варьируется от 5 до 12 кв м"
   ]
  },
  {
   "cell_type": "markdown",
   "metadata": {},
   "source": [
    "**Кол-во комнат** выше"
   ]
  },
  {
   "cell_type": "code",
   "execution_count": 47,
   "metadata": {},
   "outputs": [
    {
     "data": {
      "text/plain": [
       "<AxesSubplot:>"
      ]
     },
     "execution_count": 47,
     "metadata": {},
     "output_type": "execute_result"
    },
    {
     "data": {
      "image/png": "[encoded data removed]",
      "text/plain": [
       "<Figure size 432x288 with 1 Axes>"
      ]
     },
     "metadata": {
      "needs_background": "light"
     },
     "output_type": "display_data"
    }
   ],
   "source": [
    "data['rooms'].hist(bins=30)"
   ]
  },
  {
   "cell_type": "markdown",
   "metadata": {},
   "source": [
    "Чаще продают однушки и двушки, чуть реже трешки."
   ]
  },
  {
   "cell_type": "markdown",
   "metadata": {},
   "source": [
    "**Высота потолков**"
   ]
  },
  {
   "cell_type": "code",
   "execution_count": 2,
   "metadata": {},
   "outputs": [
    {
     "ename": "NameError",
     "evalue": "name 'data' is not defined",
     "output_type": "error",
     "traceback": [
      "\u001b[0;31m---------------------------------------------------------------------------\u001b[0m",
      "\u001b[0;31mNameError\u001b[0m                                 Traceback (most recent call last)",
      "Input \u001b[0;32mIn [2]\u001b[0m, in \u001b[0;36m<cell line: 1>\u001b[0;34m()\u001b[0m\n\u001b[0;32m----> 1\u001b[0m \u001b[43mdata\u001b[49m[\u001b[38;5;124m'\u001b[39m\u001b[38;5;124mceiling_height\u001b[39m\u001b[38;5;124m'\u001b[39m][\u001b[38;5;241m2\u001b[39m:\u001b[38;5;241m4\u001b[39m]\u001b[38;5;241m.\u001b[39mhist(grid\u001b[38;5;241m=\u001b[39m\u001b[38;5;28;01mTrue\u001b[39;00m)\n",
      "\u001b[0;31mNameError\u001b[0m: name 'data' is not defined"
     ]
    }
   ],
   "source": [
    "data['ceiling_height'][2:4].hist(grid=True);"
   ]
  },
  {
   "cell_type": "markdown",
   "metadata": {},
   "source": [
    " - Средняя высота потолков до 2,7 м"
   ]
  },
  {
   "cell_type": "markdown",
   "metadata": {},
   "source": [
    "**Этаж квартиры**"
   ]
  },
  {
   "cell_type": "code",
   "execution_count": 49,
   "metadata": {},
   "outputs": [
    {
     "data": {
      "image/png": "[encoded data removed]",
      "text/plain": [
       "<Figure size 432x288 with 1 Axes>"
      ]
     },
     "metadata": {
      "needs_background": "light"
     },
     "output_type": "display_data"
    }
   ],
   "source": [
    "data['floor'].hist(grid=True, bins=100);"
   ]
  },
  {
   "cell_type": "markdown",
   "metadata": {},
   "source": [
    " - Чаще на продажу выставляют квартиры на втором этаже"
   ]
  },
  {
   "cell_type": "code",
   "execution_count": 50,
   "metadata": {},
   "outputs": [
    {
     "data": {
      "image/png": "[encoded data removed]",
      "text/plain": [
       "<Figure size 432x288 with 1 Axes>"
      ]
     },
     "metadata": {
      "needs_background": "light"
     },
     "output_type": "display_data"
    }
   ],
   "source": [
    "data['first_last_floor'].hist(grid=True);"
   ]
  },
  {
   "cell_type": "markdown",
   "metadata": {},
   "source": [
    " - Почти одинаковая по кол-ву объявлений продажа на первом и последнем этажах"
   ]
  },
  {
   "cell_type": "markdown",
   "metadata": {},
   "source": [
    "**Этажность дома**"
   ]
  },
  {
   "cell_type": "code",
   "execution_count": 51,
   "metadata": {},
   "outputs": [
    {
     "data": {
      "image/png": "[encoded data removed]",
      "text/plain": [
       "<Figure size 432x288 with 1 Axes>"
      ]
     },
     "metadata": {
      "needs_background": "light"
     },
     "output_type": "display_data"
    }
   ],
   "source": [
    "data['floors_total'].hist(grid=True);"
   ]
  },
  {
   "cell_type": "markdown",
   "metadata": {},
   "source": [
    " - В СПб средняя этажность дома составляет 5 этажей и выше"
   ]
  },
  {
   "cell_type": "markdown",
   "metadata": {},
   "source": [
    "**Расположение от центра**"
   ]
  },
  {
   "cell_type": "code",
   "execution_count": 52,
   "metadata": {},
   "outputs": [
    {
     "data": {
      "image/png": "[encoded data removed]",
      "text/plain": [
       "<Figure size 432x288 with 1 Axes>"
      ]
     },
     "metadata": {
      "needs_background": "light"
     },
     "output_type": "display_data"
    }
   ],
   "source": [
    "data['km'].hist(grid=True);"
   ]
  },
  {
   "cell_type": "markdown",
   "metadata": {},
   "source": [
    " - С среднем наибольшее число обьяслений о продаже в СПб находится в 10 км от центра города"
   ]
  },
  {
   "cell_type": "markdown",
   "metadata": {},
   "source": [
    "**Расстояние до аэропорта**"
   ]
  },
  {
   "cell_type": "code",
   "execution_count": 53,
   "metadata": {},
   "outputs": [
    {
     "data": {
      "image/png": "[encoded data removed]",
      "text/plain": [
       "<Figure size 432x288 with 1 Axes>"
      ]
     },
     "metadata": {
      "needs_background": "light"
     },
     "output_type": "display_data"
    }
   ],
   "source": [
    "data['airports_nearest'].hist(grid=True);"
   ]
  },
  {
   "cell_type": "markdown",
   "metadata": {},
   "source": [
    "Квартиры где указано близкое расположение  к аэропорту находятся в 20 км от центра города"
   ]
  },
  {
   "cell_type": "markdown",
   "metadata": {},
   "source": [
    "**Расстояние до парков**"
   ]
  },
  {
   "cell_type": "code",
   "execution_count": 54,
   "metadata": {},
   "outputs": [
    {
     "data": {
      "image/png": "[encoded data removed]",
      "text/plain": [
       "<Figure size 432x288 with 1 Axes>"
      ]
     },
     "metadata": {
      "needs_background": "light"
     },
     "output_type": "display_data"
    }
   ],
   "source": [
    "data['parks_nearest'][:1000].hist(grid=True);"
   ]
  },
  {
   "cell_type": "markdown",
   "metadata": {},
   "source": [
    " - Если указано расстояние до парка, то в среднем парки располагаются в 500 м от объекта продажи"
   ]
  },
  {
   "cell_type": "markdown",
   "metadata": {},
   "source": [
    "**Месяц публикации**"
   ]
  },
  {
   "cell_type": "code",
   "execution_count": 55,
   "metadata": {},
   "outputs": [
    {
     "data": {
      "image/png": "[encoded data removed]",
      "text/plain": [
       "<Figure size 432x288 with 1 Axes>"
      ]
     },
     "metadata": {
      "needs_background": "light"
     },
     "output_type": "display_data"
    }
   ],
   "source": [
    "data['month_of_pub'].hist(grid=True);"
   ]
  },
  {
   "cell_type": "markdown",
   "metadata": {},
   "source": [
    " - Чаще объявления о продаже выставляли зимой, реже весной."
   ]
  },
  {
   "cell_type": "markdown",
   "metadata": {},
   "source": [
    "**Год публикации**"
   ]
  },
  {
   "cell_type": "code",
   "execution_count": 56,
   "metadata": {},
   "outputs": [
    {
     "data": {
      "image/png": "[encoded data removed]",
      "text/plain": [
       "<Figure size 432x288 with 1 Axes>"
      ]
     },
     "metadata": {
      "needs_background": "light"
     },
     "output_type": "display_data"
    }
   ],
   "source": [
    "data['year_of_pub'].hist(grid=True);"
   ]
  },
  {
   "cell_type": "markdown",
   "metadata": {},
   "source": [
    " - Топ обьявлений были выставлены в 2017-2018 году"
   ]
  },
  {
   "cell_type": "markdown",
   "metadata": {},
   "source": [
    "<h1>4.2</h1>"
   ]
  },
  {
   "cell_type": "markdown",
   "metadata": {},
   "source": [
    "**Изучим скорость продажи квартиры**"
   ]
  },
  {
   "cell_type": "code",
   "execution_count": 57,
   "metadata": {},
   "outputs": [
    {
     "name": "stdout",
     "output_type": "stream",
     "text": [
      "                      days_exposition\n",
      "locality_name                        \n",
      "                            82.869565\n",
      "Бокситогорск                62.916667\n",
      "Волосово                    74.117647\n",
      "Волхов                      82.796875\n",
      "Всеволожск                  78.866071\n",
      "...                               ...\n",
      "село Путилово               75.000000\n",
      "село Рождествено            99.000000\n",
      "село Русско-Высоцкое        39.333333\n",
      "село Старая Ладога          45.000000\n",
      "село Шум                     9.000000\n",
      "\n",
      "[262 rows x 1 columns]\n",
      "\n",
      "                      days_exposition\n",
      "locality_name                        \n",
      "                                 78.0\n",
      "Бокситогорск                     45.0\n",
      "Волосово                         75.0\n",
      "Волхов                           72.0\n",
      "Всеволожск                       60.0\n",
      "...                               ...\n",
      "село Путилово                    75.0\n",
      "село Рождествено                 99.0\n",
      "село Русско-Высоцкое             45.0\n",
      "село Старая Ладога               45.0\n",
      "село Шум                          9.0\n",
      "\n",
      "[262 rows x 1 columns]\n"
     ]
    },
    {
     "data": {
      "image/png": "[encoded data removed]",
      "text/plain": [
       "<Figure size 432x288 with 1 Axes>"
      ]
     },
     "metadata": {
      "needs_background": "light"
     },
     "output_type": "display_data"
    }
   ],
   "source": [
    "data['days_exposition'] = (data['days_exposition'].where(data['days_exposition'] < 200))\n",
    "exposition_total_mean = data.pivot_table(index='locality_name', values='days_exposition', aggfunc='mean')\n",
    "exposition_total_median = data.pivot_table(index='locality_name', values='days_exposition', aggfunc='median')\n",
    "print(exposition_total_mean)\n",
    "print()\n",
    "print(exposition_total_median)\n",
    "exposition_total_mean.hist();\n"
   ]
  },
  {
   "cell_type": "markdown",
   "metadata": {},
   "source": [
    "**Вывод:** в среднем объявления о продаже висели от 40 до 90 дней"
   ]
  },
  {
   "cell_type": "code",
   "execution_count": 58,
   "metadata": {},
   "outputs": [
    {
     "data": {
      "text/plain": [
       "45.0    880\n",
       "60.0    538\n",
       "7.0     234\n",
       "30.0    208\n",
       "90.0    204\n",
       "Name: days_exposition, dtype: int64"
      ]
     },
     "execution_count": 58,
     "metadata": {},
     "output_type": "execute_result"
    }
   ],
   "source": [
    "data['days_exposition'].value_counts().head()"
   ]
  },
  {
   "cell_type": "markdown",
   "metadata": {},
   "source": [
    "<h1>4.3</h1>"
   ]
  },
  {
   "cell_type": "markdown",
   "metadata": {},
   "source": [
    "**Какие факторы больше всего влияют на общую (полную) стоимость объекта**"
   ]
  },
  {
   "cell_type": "code",
   "execution_count": 59,
   "metadata": {},
   "outputs": [
    {
     "name": "stdout",
     "output_type": "stream",
     "text": [
      "              last_price  total_area     rooms  kitchen_area  day_of_week  \\\n",
      "last_price      1.000000    0.363856  0.356124      0.420308     0.001550   \n",
      "total_area      0.363856    1.000000  0.733097      0.452814    -0.014370   \n",
      "rooms           0.356124    0.733097  1.000000      0.238814    -0.004494   \n",
      "kitchen_area    0.420308    0.452814  0.238814      1.000000    -0.008427   \n",
      "day_of_week     0.001550   -0.014370 -0.004494     -0.008427     1.000000   \n",
      "month_of_pub    0.002779    0.007655 -0.003402      0.002393     0.011496   \n",
      "year_of_pub    -0.043089   -0.082533 -0.056023     -0.050359    -0.004799   \n",
      "\n",
      "              month_of_pub  year_of_pub  \n",
      "last_price        0.002779    -0.043089  \n",
      "total_area        0.007655    -0.082533  \n",
      "rooms            -0.003402    -0.056023  \n",
      "kitchen_area      0.002393    -0.050359  \n",
      "day_of_week       0.011496    -0.004799  \n",
      "month_of_pub      1.000000    -0.269642  \n",
      "year_of_pub      -0.269642     1.000000  \n"
     ]
    }
   ],
   "source": [
    "#data.corr()\n",
    "cor = data[['last_price', 'total_area', 'rooms', 'kitchen_area', 'first_last_floor']].corr()\n",
    "print(cor)"
   ]
  },
  {
   "cell_type": "markdown",
   "metadata": {},
   "source": [
    " - Столбцы с днем недели, месяцем и датой публикации являются категориальными, поэтому рассчитывать корреляцию для них нельзя"
   ]
  },
  {
   "cell_type": "code",
   "execution_count": 60,
   "metadata": {},
   "outputs": [
    {
     "data": {
      "image/png": "[encoded data removed]",
      "text/plain": [
       "<Figure size 864x720 with 49 Axes>"
      ]
     },
     "metadata": {
      "needs_background": "light"
     },
     "output_type": "display_data"
    }
   ],
   "source": [
    "cor_table = data.pivot_table(index='locality_name', values=['last_price', 'total_area', 'rooms', 'kitchen_area', 'first_last_floor', 'day_of_week', 'month_of_pub', 'year_of_pub'])\n",
    "pd.plotting.scatter_matrix(cor_table, figsize=(12, 10));"
   ]
  },
  {
   "cell_type": "markdown",
   "metadata": {},
   "source": [
    "**Вывод:** В таблице корреляции найдена зависимость Цены квартиры от общей площади, жилой площади и площади кухни. И от цены за кв м - что логично. Есть зависимость цены за кв м от высоты потолков, и чуть слабее от расположения парков и водоемов вблизи объекта.\n",
    "Построим матрицу рассеивания что бы убедиться в этом наглядно."
   ]
  },
  {
   "cell_type": "code",
   "execution_count": 61,
   "metadata": {},
   "outputs": [
    {
     "data": {
      "text/html": [
       "<div>\n",
       "<style scoped>\n",
       "    .dataframe tbody tr th:only-of-type {\n",
       "        vertical-align: middle;\n",
       "    }\n",
       "\n",
       "    .dataframe tbody tr th {\n",
       "        vertical-align: top;\n",
       "    }\n",
       "\n",
       "    .dataframe thead th {\n",
       "        text-align: right;\n",
       "    }\n",
       "</style>\n",
       "<table border=\"1\" class=\"dataframe\">\n",
       "  <thead>\n",
       "    <tr style=\"text-align: right;\">\n",
       "      <th></th>\n",
       "      <th>cityCenters_nearest</th>\n",
       "      <th>last_price</th>\n",
       "      <th>quadratmetr</th>\n",
       "      <th>total_area</th>\n",
       "    </tr>\n",
       "    <tr>\n",
       "      <th>locality_name_category</th>\n",
       "      <th></th>\n",
       "      <th></th>\n",
       "      <th></th>\n",
       "      <th></th>\n",
       "    </tr>\n",
       "  </thead>\n",
       "  <tbody>\n",
       "    <tr>\n",
       "      <th>Деревня</th>\n",
       "      <td>NaN</td>\n",
       "      <td>3.316106e+06</td>\n",
       "      <td>68266.575490</td>\n",
       "      <td>49.502497</td>\n",
       "    </tr>\n",
       "    <tr>\n",
       "      <th>Ленинградская область</th>\n",
       "      <td>34204.472100</td>\n",
       "      <td>3.689329e+06</td>\n",
       "      <td>69505.045214</td>\n",
       "      <td>52.797145</td>\n",
       "    </tr>\n",
       "    <tr>\n",
       "      <th>Поселок</th>\n",
       "      <td>23529.807568</td>\n",
       "      <td>3.390312e+06</td>\n",
       "      <td>70358.617304</td>\n",
       "      <td>49.458812</td>\n",
       "    </tr>\n",
       "    <tr>\n",
       "      <th>Садовое товарищество</th>\n",
       "      <td>NaN</td>\n",
       "      <td>2.110000e+06</td>\n",
       "      <td>43549.805566</td>\n",
       "      <td>52.000000</td>\n",
       "    </tr>\n",
       "    <tr>\n",
       "      <th>Санкт-Петербург</th>\n",
       "      <td>11601.291571</td>\n",
       "      <td>8.062507e+06</td>\n",
       "      <td>128349.389265</td>\n",
       "      <td>61.547615</td>\n",
       "    </tr>\n",
       "  </tbody>\n",
       "</table>\n",
       "</div>"
      ],
      "text/plain": [
       "                        cityCenters_nearest    last_price    quadratmetr  \\\n",
       "locality_name_category                                                     \n",
       "Деревня                                 NaN  3.316106e+06   68266.575490   \n",
       "Ленинградская область          34204.472100  3.689329e+06   69505.045214   \n",
       "Поселок                        23529.807568  3.390312e+06   70358.617304   \n",
       "Садовое товарищество                    NaN  2.110000e+06   43549.805566   \n",
       "Санкт-Петербург                11601.291571  8.062507e+06  128349.389265   \n",
       "\n",
       "                        total_area  \n",
       "locality_name_category              \n",
       "Деревня                  49.502497  \n",
       "Ленинградская область    52.797145  \n",
       "Поселок                  49.458812  \n",
       "Садовое товарищество     52.000000  \n",
       "Санкт-Петербург          61.547615  "
      ]
     },
     "execution_count": 61,
     "metadata": {},
     "output_type": "execute_result"
    }
   ],
   "source": [
    "data.pivot_table(index='locality_name_category', values=['quadratmetr', 'last_price', 'cityCenters_nearest', 'total_area'])\n"
   ]
  },
  {
   "cell_type": "markdown",
   "metadata": {},
   "source": [
    "**Зависимость цены от категории этажа**"
   ]
  },
  {
   "cell_type": "code",
   "execution_count": 62,
   "metadata": {},
   "outputs": [
    {
     "data": {
      "text/html": [
       "<div>\n",
       "<style scoped>\n",
       "    .dataframe tbody tr th:only-of-type {\n",
       "        vertical-align: middle;\n",
       "    }\n",
       "\n",
       "    .dataframe tbody tr th {\n",
       "        vertical-align: top;\n",
       "    }\n",
       "\n",
       "    .dataframe thead th {\n",
       "        text-align: right;\n",
       "    }\n",
       "</style>\n",
       "<table border=\"1\" class=\"dataframe\">\n",
       "  <thead>\n",
       "    <tr style=\"text-align: right;\">\n",
       "      <th></th>\n",
       "      <th>last_price</th>\n",
       "    </tr>\n",
       "    <tr>\n",
       "      <th>first_last_floor</th>\n",
       "      <th></th>\n",
       "    </tr>\n",
       "  </thead>\n",
       "  <tbody>\n",
       "    <tr>\n",
       "      <th>другой</th>\n",
       "      <td>6.676129e+06</td>\n",
       "    </tr>\n",
       "    <tr>\n",
       "      <th>первый</th>\n",
       "      <td>4.803560e+06</td>\n",
       "    </tr>\n",
       "    <tr>\n",
       "      <th>последний</th>\n",
       "      <td>7.356221e+06</td>\n",
       "    </tr>\n",
       "  </tbody>\n",
       "</table>\n",
       "</div>"
      ],
      "text/plain": [
       "                    last_price\n",
       "first_last_floor              \n",
       "другой            6.676129e+06\n",
       "первый            4.803560e+06\n",
       "последний         7.356221e+06"
      ]
     },
     "execution_count": 62,
     "metadata": {},
     "output_type": "execute_result"
    }
   ],
   "source": [
    "data.pivot_table(index='first_last_floor', values='last_price', aggfunc='mean')"
   ]
  },
  {
   "cell_type": "markdown",
   "metadata": {},
   "source": [
    " - Первый этаж дешевле, чем остальные этажи, но последний дороже других."
   ]
  },
  {
   "cell_type": "markdown",
   "metadata": {},
   "source": [
    "**Зависимость цены от дня недели, месяца и года публикации** (на примере двухкомнатных квартир)"
   ]
  },
  {
   "cell_type": "code",
   "execution_count": 63,
   "metadata": {},
   "outputs": [
    {
     "data": {
      "text/html": [
       "<div>\n",
       "<style scoped>\n",
       "    .dataframe tbody tr th:only-of-type {\n",
       "        vertical-align: middle;\n",
       "    }\n",
       "\n",
       "    .dataframe tbody tr th {\n",
       "        vertical-align: top;\n",
       "    }\n",
       "\n",
       "    .dataframe thead th {\n",
       "        text-align: right;\n",
       "    }\n",
       "</style>\n",
       "<table border=\"1\" class=\"dataframe\">\n",
       "  <thead>\n",
       "    <tr style=\"text-align: right;\">\n",
       "      <th></th>\n",
       "      <th>last_price</th>\n",
       "      <th>rooms</th>\n",
       "    </tr>\n",
       "    <tr>\n",
       "      <th>day_of_week</th>\n",
       "      <th></th>\n",
       "      <th></th>\n",
       "    </tr>\n",
       "  </thead>\n",
       "  <tbody>\n",
       "    <tr>\n",
       "      <th>0</th>\n",
       "      <td>4650000.0</td>\n",
       "      <td>2</td>\n",
       "    </tr>\n",
       "    <tr>\n",
       "      <th>1</th>\n",
       "      <td>4730000.0</td>\n",
       "      <td>2</td>\n",
       "    </tr>\n",
       "    <tr>\n",
       "      <th>2</th>\n",
       "      <td>4700000.0</td>\n",
       "      <td>2</td>\n",
       "    </tr>\n",
       "    <tr>\n",
       "      <th>3</th>\n",
       "      <td>4650000.0</td>\n",
       "      <td>2</td>\n",
       "    </tr>\n",
       "    <tr>\n",
       "      <th>4</th>\n",
       "      <td>4585000.0</td>\n",
       "      <td>2</td>\n",
       "    </tr>\n",
       "    <tr>\n",
       "      <th>5</th>\n",
       "      <td>4555000.0</td>\n",
       "      <td>2</td>\n",
       "    </tr>\n",
       "    <tr>\n",
       "      <th>6</th>\n",
       "      <td>4550000.0</td>\n",
       "      <td>2</td>\n",
       "    </tr>\n",
       "  </tbody>\n",
       "</table>\n",
       "</div>"
      ],
      "text/plain": [
       "             last_price  rooms\n",
       "day_of_week                   \n",
       "0             4650000.0      2\n",
       "1             4730000.0      2\n",
       "2             4700000.0      2\n",
       "3             4650000.0      2\n",
       "4             4585000.0      2\n",
       "5             4555000.0      2\n",
       "6             4550000.0      2"
      ]
     },
     "execution_count": 63,
     "metadata": {},
     "output_type": "execute_result"
    }
   ],
   "source": [
    "data.pivot_table(index=['day_of_week'], values=['last_price', 'rooms'], aggfunc='median')\n"
   ]
  },
  {
   "cell_type": "markdown",
   "metadata": {},
   "source": [
    " - В конце недели дешевле чем в начале"
   ]
  },
  {
   "cell_type": "code",
   "execution_count": 64,
   "metadata": {},
   "outputs": [
    {
     "data": {
      "text/html": [
       "<div>\n",
       "<style scoped>\n",
       "    .dataframe tbody tr th:only-of-type {\n",
       "        vertical-align: middle;\n",
       "    }\n",
       "\n",
       "    .dataframe tbody tr th {\n",
       "        vertical-align: top;\n",
       "    }\n",
       "\n",
       "    .dataframe thead th {\n",
       "        text-align: right;\n",
       "    }\n",
       "</style>\n",
       "<table border=\"1\" class=\"dataframe\">\n",
       "  <thead>\n",
       "    <tr style=\"text-align: right;\">\n",
       "      <th></th>\n",
       "      <th>last_price</th>\n",
       "      <th>rooms</th>\n",
       "    </tr>\n",
       "    <tr>\n",
       "      <th>month_of_pub</th>\n",
       "      <th></th>\n",
       "      <th></th>\n",
       "    </tr>\n",
       "  </thead>\n",
       "  <tbody>\n",
       "    <tr>\n",
       "      <th>1</th>\n",
       "      <td>4600000.0</td>\n",
       "      <td>2</td>\n",
       "    </tr>\n",
       "    <tr>\n",
       "      <th>2</th>\n",
       "      <td>4650000.0</td>\n",
       "      <td>2</td>\n",
       "    </tr>\n",
       "    <tr>\n",
       "      <th>3</th>\n",
       "      <td>4650000.0</td>\n",
       "      <td>2</td>\n",
       "    </tr>\n",
       "    <tr>\n",
       "      <th>4</th>\n",
       "      <td>4800000.0</td>\n",
       "      <td>2</td>\n",
       "    </tr>\n",
       "    <tr>\n",
       "      <th>5</th>\n",
       "      <td>4515000.0</td>\n",
       "      <td>2</td>\n",
       "    </tr>\n",
       "    <tr>\n",
       "      <th>6</th>\n",
       "      <td>4400000.0</td>\n",
       "      <td>2</td>\n",
       "    </tr>\n",
       "    <tr>\n",
       "      <th>7</th>\n",
       "      <td>4650000.0</td>\n",
       "      <td>2</td>\n",
       "    </tr>\n",
       "    <tr>\n",
       "      <th>8</th>\n",
       "      <td>4570000.0</td>\n",
       "      <td>2</td>\n",
       "    </tr>\n",
       "    <tr>\n",
       "      <th>9</th>\n",
       "      <td>4700000.0</td>\n",
       "      <td>2</td>\n",
       "    </tr>\n",
       "    <tr>\n",
       "      <th>10</th>\n",
       "      <td>4570000.0</td>\n",
       "      <td>2</td>\n",
       "    </tr>\n",
       "    <tr>\n",
       "      <th>11</th>\n",
       "      <td>4700000.0</td>\n",
       "      <td>2</td>\n",
       "    </tr>\n",
       "    <tr>\n",
       "      <th>12</th>\n",
       "      <td>4700000.0</td>\n",
       "      <td>2</td>\n",
       "    </tr>\n",
       "  </tbody>\n",
       "</table>\n",
       "</div>"
      ],
      "text/plain": [
       "              last_price  rooms\n",
       "month_of_pub                   \n",
       "1              4600000.0      2\n",
       "2              4650000.0      2\n",
       "3              4650000.0      2\n",
       "4              4800000.0      2\n",
       "5              4515000.0      2\n",
       "6              4400000.0      2\n",
       "7              4650000.0      2\n",
       "8              4570000.0      2\n",
       "9              4700000.0      2\n",
       "10             4570000.0      2\n",
       "11             4700000.0      2\n",
       "12             4700000.0      2"
      ]
     },
     "execution_count": 64,
     "metadata": {},
     "output_type": "execute_result"
    }
   ],
   "source": [
    "data.pivot_table(index='month_of_pub', values=['last_price', 'rooms'], aggfunc='median')"
   ]
  },
  {
   "cell_type": "markdown",
   "metadata": {},
   "source": [
    " - Летом цены на недвижимость снижаются, но возрастают к зиме"
   ]
  },
  {
   "cell_type": "code",
   "execution_count": 65,
   "metadata": {},
   "outputs": [
    {
     "data": {
      "text/html": [
       "<div>\n",
       "<style scoped>\n",
       "    .dataframe tbody tr th:only-of-type {\n",
       "        vertical-align: middle;\n",
       "    }\n",
       "\n",
       "    .dataframe tbody tr th {\n",
       "        vertical-align: top;\n",
       "    }\n",
       "\n",
       "    .dataframe thead th {\n",
       "        text-align: right;\n",
       "    }\n",
       "</style>\n",
       "<table border=\"1\" class=\"dataframe\">\n",
       "  <thead>\n",
       "    <tr style=\"text-align: right;\">\n",
       "      <th></th>\n",
       "      <th>last_price</th>\n",
       "      <th>rooms</th>\n",
       "    </tr>\n",
       "    <tr>\n",
       "      <th>year_of_pub</th>\n",
       "      <th></th>\n",
       "      <th></th>\n",
       "    </tr>\n",
       "  </thead>\n",
       "  <tbody>\n",
       "    <tr>\n",
       "      <th>2014</th>\n",
       "      <td>7700000.0</td>\n",
       "      <td>3</td>\n",
       "    </tr>\n",
       "    <tr>\n",
       "      <th>2015</th>\n",
       "      <td>5350000.0</td>\n",
       "      <td>2</td>\n",
       "    </tr>\n",
       "    <tr>\n",
       "      <th>2016</th>\n",
       "      <td>4550000.0</td>\n",
       "      <td>2</td>\n",
       "    </tr>\n",
       "    <tr>\n",
       "      <th>2017</th>\n",
       "      <td>4500000.0</td>\n",
       "      <td>2</td>\n",
       "    </tr>\n",
       "    <tr>\n",
       "      <th>2018</th>\n",
       "      <td>4550000.0</td>\n",
       "      <td>2</td>\n",
       "    </tr>\n",
       "    <tr>\n",
       "      <th>2019</th>\n",
       "      <td>5050000.0</td>\n",
       "      <td>2</td>\n",
       "    </tr>\n",
       "  </tbody>\n",
       "</table>\n",
       "</div>"
      ],
      "text/plain": [
       "             last_price  rooms\n",
       "year_of_pub                   \n",
       "2014          7700000.0      3\n",
       "2015          5350000.0      2\n",
       "2016          4550000.0      2\n",
       "2017          4500000.0      2\n",
       "2018          4550000.0      2\n",
       "2019          5050000.0      2"
      ]
     },
     "execution_count": 65,
     "metadata": {},
     "output_type": "execute_result"
    }
   ],
   "source": [
    "data.pivot_table(index='year_of_pub', values=['last_price', 'rooms'], aggfunc='median')"
   ]
  },
  {
   "cell_type": "markdown",
   "metadata": {},
   "source": [
    "        В 2015 году цена на 2х комнатные была выше чем в 16, 17, 18 - м годах.\n",
    "        в 2019 году цена вновь возросла"
   ]
  },
  {
   "cell_type": "markdown",
   "metadata": {},
   "source": [
    "<h1>4.4</h1>"
   ]
  },
  {
   "cell_type": "markdown",
   "metadata": {},
   "source": [
    "**Посчитайте среднюю цену одного квадратного метра в 10 населённых пунктах с наибольшим числом объявлений**"
   ]
  },
  {
   "cell_type": "code",
   "execution_count": 66,
   "metadata": {},
   "outputs": [
    {
     "data": {
      "text/html": [
       "<div>\n",
       "<style scoped>\n",
       "    .dataframe tbody tr th:only-of-type {\n",
       "        vertical-align: middle;\n",
       "    }\n",
       "\n",
       "    .dataframe tbody tr th {\n",
       "        vertical-align: top;\n",
       "    }\n",
       "\n",
       "    .dataframe thead tr th {\n",
       "        text-align: left;\n",
       "    }\n",
       "\n",
       "    .dataframe thead tr:last-of-type th {\n",
       "        text-align: right;\n",
       "    }\n",
       "</style>\n",
       "<table border=\"1\" class=\"dataframe\">\n",
       "  <thead>\n",
       "    <tr>\n",
       "      <th></th>\n",
       "      <th>count</th>\n",
       "      <th>mean</th>\n",
       "    </tr>\n",
       "    <tr>\n",
       "      <th></th>\n",
       "      <th>quadratmetr</th>\n",
       "      <th>quadratmetr</th>\n",
       "    </tr>\n",
       "    <tr>\n",
       "      <th>locality_name</th>\n",
       "      <th></th>\n",
       "      <th></th>\n",
       "    </tr>\n",
       "  </thead>\n",
       "  <tbody>\n",
       "    <tr>\n",
       "      <th>Санкт-Петербург</th>\n",
       "      <td>15721</td>\n",
       "      <td>128349.389265</td>\n",
       "    </tr>\n",
       "    <tr>\n",
       "      <th>посёлок Мурино</th>\n",
       "      <td>556</td>\n",
       "      <td>85681.762601</td>\n",
       "    </tr>\n",
       "    <tr>\n",
       "      <th>посёлок Шушары</th>\n",
       "      <td>440</td>\n",
       "      <td>78677.364217</td>\n",
       "    </tr>\n",
       "    <tr>\n",
       "      <th>Всеволожск</th>\n",
       "      <td>398</td>\n",
       "      <td>68654.473986</td>\n",
       "    </tr>\n",
       "    <tr>\n",
       "      <th>Пушкин</th>\n",
       "      <td>369</td>\n",
       "      <td>109397.577401</td>\n",
       "    </tr>\n",
       "    <tr>\n",
       "      <th>Колпино</th>\n",
       "      <td>338</td>\n",
       "      <td>77209.870028</td>\n",
       "    </tr>\n",
       "    <tr>\n",
       "      <th>посёлок Парголово</th>\n",
       "      <td>327</td>\n",
       "      <td>90520.614136</td>\n",
       "    </tr>\n",
       "    <tr>\n",
       "      <th>Гатчина</th>\n",
       "      <td>307</td>\n",
       "      <td>68746.146763</td>\n",
       "    </tr>\n",
       "    <tr>\n",
       "      <th>деревня Кудрово</th>\n",
       "      <td>299</td>\n",
       "      <td>92473.547576</td>\n",
       "    </tr>\n",
       "    <tr>\n",
       "      <th>Выборг</th>\n",
       "      <td>237</td>\n",
       "      <td>58141.909153</td>\n",
       "    </tr>\n",
       "  </tbody>\n",
       "</table>\n",
       "</div>"
      ],
      "text/plain": [
       "                        count           mean\n",
       "                  quadratmetr    quadratmetr\n",
       "locality_name                               \n",
       "Санкт-Петербург         15721  128349.389265\n",
       "посёлок Мурино            556   85681.762601\n",
       "посёлок Шушары            440   78677.364217\n",
       "Всеволожск                398   68654.473986\n",
       "Пушкин                    369  109397.577401\n",
       "Колпино                   338   77209.870028\n",
       "посёлок Парголово         327   90520.614136\n",
       "Гатчина                   307   68746.146763\n",
       "деревня Кудрово           299   92473.547576\n",
       "Выборг                    237   58141.909153"
      ]
     },
     "execution_count": 66,
     "metadata": {},
     "output_type": "execute_result"
    }
   ],
   "source": [
    "df = data.pivot_table(index='locality_name', values='quadratmetr', aggfunc=['count','mean'])\n",
    "df.sort_values(by=df.columns[0], ascending=False).head(10)"
   ]
  },
  {
   "cell_type": "markdown",
   "metadata": {},
   "source": [
    "        ТОП 10 по числу обьявлений: в самом СПб, где стоимость кв метра в среднем 128 000 р, наименьшая стоимость кв метра в Выборге - 58 000 р"
   ]
  },
  {
   "cell_type": "markdown",
   "metadata": {},
   "source": [
    "<h1>4.5</h1>"
   ]
  },
  {
   "cell_type": "markdown",
   "metadata": {},
   "source": [
    "**Cредняя цена километра в СПб**"
   ]
  },
  {
   "cell_type": "code",
   "execution_count": 67,
   "metadata": {},
   "outputs": [
    {
     "data": {
      "text/html": [
       "<div>\n",
       "<style scoped>\n",
       "    .dataframe tbody tr th:only-of-type {\n",
       "        vertical-align: middle;\n",
       "    }\n",
       "\n",
       "    .dataframe tbody tr th {\n",
       "        vertical-align: top;\n",
       "    }\n",
       "\n",
       "    .dataframe thead th {\n",
       "        text-align: right;\n",
       "    }\n",
       "</style>\n",
       "<table border=\"1\" class=\"dataframe\">\n",
       "  <thead>\n",
       "    <tr style=\"text-align: right;\">\n",
       "      <th></th>\n",
       "      <th>last_price</th>\n",
       "    </tr>\n",
       "    <tr>\n",
       "      <th>km</th>\n",
       "      <th></th>\n",
       "    </tr>\n",
       "  </thead>\n",
       "  <tbody>\n",
       "    <tr>\n",
       "      <th>0.0</th>\n",
       "      <td>17900000.0</td>\n",
       "    </tr>\n",
       "    <tr>\n",
       "      <th>1.0</th>\n",
       "      <td>11395000.0</td>\n",
       "    </tr>\n",
       "    <tr>\n",
       "      <th>2.0</th>\n",
       "      <td>10000000.0</td>\n",
       "    </tr>\n",
       "    <tr>\n",
       "      <th>3.0</th>\n",
       "      <td>8409000.0</td>\n",
       "    </tr>\n",
       "    <tr>\n",
       "      <th>4.0</th>\n",
       "      <td>9200000.0</td>\n",
       "    </tr>\n",
       "    <tr>\n",
       "      <th>5.0</th>\n",
       "      <td>9500000.0</td>\n",
       "    </tr>\n",
       "    <tr>\n",
       "      <th>6.0</th>\n",
       "      <td>8900000.0</td>\n",
       "    </tr>\n",
       "    <tr>\n",
       "      <th>7.0</th>\n",
       "      <td>7800000.0</td>\n",
       "    </tr>\n",
       "    <tr>\n",
       "      <th>8.0</th>\n",
       "      <td>7450000.0</td>\n",
       "    </tr>\n",
       "    <tr>\n",
       "      <th>9.0</th>\n",
       "      <td>5300000.0</td>\n",
       "    </tr>\n",
       "    <tr>\n",
       "      <th>10.0</th>\n",
       "      <td>5000000.0</td>\n",
       "    </tr>\n",
       "    <tr>\n",
       "      <th>11.0</th>\n",
       "      <td>5072500.0</td>\n",
       "    </tr>\n",
       "    <tr>\n",
       "      <th>12.0</th>\n",
       "      <td>4950000.0</td>\n",
       "    </tr>\n",
       "    <tr>\n",
       "      <th>13.0</th>\n",
       "      <td>5200000.0</td>\n",
       "    </tr>\n",
       "    <tr>\n",
       "      <th>14.0</th>\n",
       "      <td>4870000.0</td>\n",
       "    </tr>\n",
       "    <tr>\n",
       "      <th>15.0</th>\n",
       "      <td>4900000.0</td>\n",
       "    </tr>\n",
       "    <tr>\n",
       "      <th>16.0</th>\n",
       "      <td>4750000.0</td>\n",
       "    </tr>\n",
       "    <tr>\n",
       "      <th>17.0</th>\n",
       "      <td>4580000.0</td>\n",
       "    </tr>\n",
       "    <tr>\n",
       "      <th>18.0</th>\n",
       "      <td>4300000.0</td>\n",
       "    </tr>\n",
       "    <tr>\n",
       "      <th>19.0</th>\n",
       "      <td>4500000.0</td>\n",
       "    </tr>\n",
       "    <tr>\n",
       "      <th>20.0</th>\n",
       "      <td>5550000.0</td>\n",
       "    </tr>\n",
       "    <tr>\n",
       "      <th>21.0</th>\n",
       "      <td>5289476.0</td>\n",
       "    </tr>\n",
       "    <tr>\n",
       "      <th>22.0</th>\n",
       "      <td>4925000.0</td>\n",
       "    </tr>\n",
       "    <tr>\n",
       "      <th>23.0</th>\n",
       "      <td>4500000.0</td>\n",
       "    </tr>\n",
       "    <tr>\n",
       "      <th>24.0</th>\n",
       "      <td>3480000.0</td>\n",
       "    </tr>\n",
       "    <tr>\n",
       "      <th>25.0</th>\n",
       "      <td>3794881.0</td>\n",
       "    </tr>\n",
       "    <tr>\n",
       "      <th>26.0</th>\n",
       "      <td>3320000.0</td>\n",
       "    </tr>\n",
       "    <tr>\n",
       "      <th>27.0</th>\n",
       "      <td>8300000.0</td>\n",
       "    </tr>\n",
       "    <tr>\n",
       "      <th>28.0</th>\n",
       "      <td>4990000.0</td>\n",
       "    </tr>\n",
       "    <tr>\n",
       "      <th>29.0</th>\n",
       "      <td>4535000.0</td>\n",
       "    </tr>\n",
       "  </tbody>\n",
       "</table>\n",
       "</div>"
      ],
      "text/plain": [
       "      last_price\n",
       "km              \n",
       "0.0   17900000.0\n",
       "1.0   11395000.0\n",
       "2.0   10000000.0\n",
       "3.0    8409000.0\n",
       "4.0    9200000.0\n",
       "5.0    9500000.0\n",
       "6.0    8900000.0\n",
       "7.0    7800000.0\n",
       "8.0    7450000.0\n",
       "9.0    5300000.0\n",
       "10.0   5000000.0\n",
       "11.0   5072500.0\n",
       "12.0   4950000.0\n",
       "13.0   5200000.0\n",
       "14.0   4870000.0\n",
       "15.0   4900000.0\n",
       "16.0   4750000.0\n",
       "17.0   4580000.0\n",
       "18.0   4300000.0\n",
       "19.0   4500000.0\n",
       "20.0   5550000.0\n",
       "21.0   5289476.0\n",
       "22.0   4925000.0\n",
       "23.0   4500000.0\n",
       "24.0   3480000.0\n",
       "25.0   3794881.0\n",
       "26.0   3320000.0\n",
       "27.0   8300000.0\n",
       "28.0   4990000.0\n",
       "29.0   4535000.0"
      ]
     },
     "execution_count": 67,
     "metadata": {},
     "output_type": "execute_result"
    }
   ],
   "source": [
    "mean_price_km = data.query('locality_name ==\"Санкт-Петербург\"').pivot_table(index='km', values=['last_price'], aggfunc='median')\n",
    "mean_price_km.head(30)"
   ]
  },
  {
   "cell_type": "code",
   "execution_count": 68,
   "metadata": {},
   "outputs": [
    {
     "data": {
      "image/png": "[encoded data removed]",
      "text/plain": [
       "<Figure size 432x288 with 1 Axes>"
      ]
     },
     "metadata": {
      "needs_background": "light"
     },
     "output_type": "display_data"
    }
   ],
   "source": [
    "mean_price_km.plot(grid=True);"
   ]
  },
  {
   "cell_type": "markdown",
   "metadata": {},
   "source": [
    "**Самый дорогой первый км - 6,5 млн р; второй км стоит 1,4 млн р и так далее по убыванию.**"
   ]
  },
  {
   "cell_type": "markdown",
   "metadata": {},
   "source": [
    "проверка кол-ва строк в датасете"
   ]
  },
  {
   "cell_type": "code",
   "execution_count": 69,
   "metadata": {},
   "outputs": [
    {
     "name": "stdout",
     "output_type": "stream",
     "text": [
      "23699\n"
     ]
    }
   ],
   "source": [
    "data_2 = len(data)\n",
    "print(data_2)"
   ]
  },
  {
   "cell_type": "markdown",
   "metadata": {},
   "source": [
    "<h1>5 Общий вывод</h1>"
   ]
  },
  {
   "cell_type": "markdown",
   "metadata": {},
   "source": [
    "<div class=\"alert alert-blue\">\n",
    "<b> Общий вывод :</b> \n",
    "<br>Мы провели анализ базы данных о продажи недвижимости по Северо-Западу. Провели предобработку даннных, добавили новые колонки - цена за один квадратный метр, день недели, месяц и год публикации, расстояние до центра города в км. Выставили пороговые значения в колонке по кол-ву комнат, высоты потолков, общей площади и площадь кухни, этажности дома и по длительности продажи. \n",
    "И сделали следующие выводы:\n",
    "    <br>-\n",
    "Самая бюджетная цена в объявлениях о продаже в Садовом товариществе (не более 40 000 р за кв.м)\n",
    "В деревне, поселке городского типа и в Ленобласти средняя цена почти одинаковая (от 68 000 до 72 000 рублей за кв.м)\n",
    "В Санкт-Петербурге цена за кв метр в среднем стартует от 100 000 рублей \n",
    "    <br>-Три пиковых значения в стоимости квартиры в Санкт-Петербурге: В самом центре города , на расстоянии 5 км от центра и на расстоянии 27 км.\n",
    "    <br>-В среднем объявления о продаже висели от 2,5 до 3 месяцев.\n",
    "    <br>-Квартиры чаще продают зимой, когда цены на недвижимость возрастают и летом цена снижается и кол-во объявлений тоже.\n",
    "    <br>-В таблице корреляции найдена зависимость Цены квартиры от общей площади, жилой площади и площади кухни и кол-ва комнат\n",
    "    <br>-Больше всего объявлений о продаже в самом СПб, где стоимость кв метра в среднем 128 000 р, наименьшая стоимость кв метра в Выборге - 58 000 р\n",
    "    <br>-Цены на нежвижимость стартуют от 3,5 - 5 млн рублей в радиусе до 30 км от центра города. Начиная с радиуса 9 км каждый км  по направлению в центр добавляет к стоимости 1-2 млн рублей. \n",
    "</div>"
   ]
  }
 ],
 "metadata": {
  "ExecuteTimeLog": [
   {
    "duration": 377,
    "start_time": "2022-08-15T07:06:10.371Z"
   },
   {
    "duration": 312,
    "start_time": "2022-08-15T07:06:42.038Z"
   },
   {
    "duration": 885,
    "start_time": "2022-08-15T07:07:13.044Z"
   },
   {
    "duration": 73,
    "start_time": "2022-08-15T07:14:30.408Z"
   },
   {
    "duration": 149,
    "start_time": "2022-08-15T07:14:38.278Z"
   },
   {
    "duration": 205,
    "start_time": "2022-08-15T07:14:51.185Z"
   },
   {
    "duration": 467,
    "start_time": "2022-08-15T07:15:11.967Z"
   },
   {
    "duration": 494,
    "start_time": "2022-08-15T07:16:52.473Z"
   },
   {
    "duration": 129,
    "start_time": "2022-08-15T07:20:55.597Z"
   },
   {
    "duration": 2146,
    "start_time": "2022-08-15T07:21:13.767Z"
   },
   {
    "duration": 209,
    "start_time": "2022-08-15T07:21:46.087Z"
   },
   {
    "duration": 2166,
    "start_time": "2022-08-15T07:21:55.038Z"
   },
   {
    "duration": 1998,
    "start_time": "2022-08-15T07:22:10.440Z"
   },
   {
    "duration": 2007,
    "start_time": "2022-08-15T07:23:26.817Z"
   },
   {
    "duration": 1182,
    "start_time": "2022-08-15T07:30:52.097Z"
   },
   {
    "duration": 1157,
    "start_time": "2022-08-15T07:31:20.118Z"
   },
   {
    "duration": 146,
    "start_time": "2022-08-15T07:31:25.675Z"
   },
   {
    "duration": 97,
    "start_time": "2022-08-15T07:31:54.260Z"
   },
   {
    "duration": 105,
    "start_time": "2022-08-15T07:35:41.566Z"
   },
   {
    "duration": 8,
    "start_time": "2022-08-15T07:41:59.067Z"
   },
   {
    "duration": 8,
    "start_time": "2022-08-15T07:42:14.104Z"
   },
   {
    "duration": 10,
    "start_time": "2022-08-15T07:55:37.588Z"
   },
   {
    "duration": 10,
    "start_time": "2022-08-15T07:55:59.058Z"
   },
   {
    "duration": 121,
    "start_time": "2022-08-15T07:56:18.184Z"
   },
   {
    "duration": 9,
    "start_time": "2022-08-15T07:56:23.078Z"
   },
   {
    "duration": 6,
    "start_time": "2022-08-15T07:56:58.377Z"
   },
   {
    "duration": 3,
    "start_time": "2022-08-15T07:57:14.918Z"
   },
   {
    "duration": 9,
    "start_time": "2022-08-15T08:02:50.564Z"
   },
   {
    "duration": 17,
    "start_time": "2022-08-15T08:03:12.436Z"
   },
   {
    "duration": 20,
    "start_time": "2022-08-15T08:03:31.225Z"
   },
   {
    "duration": 8,
    "start_time": "2022-08-15T08:07:57.875Z"
   },
   {
    "duration": 9,
    "start_time": "2022-08-15T08:08:10.313Z"
   },
   {
    "duration": 32,
    "start_time": "2022-08-15T08:10:15.087Z"
   },
   {
    "duration": 30,
    "start_time": "2022-08-15T08:11:14.989Z"
   },
   {
    "duration": 222,
    "start_time": "2022-08-15T08:12:04.551Z"
   },
   {
    "duration": 19,
    "start_time": "2022-08-15T08:12:35.858Z"
   },
   {
    "duration": 38,
    "start_time": "2022-08-15T08:13:32.208Z"
   },
   {
    "duration": 9,
    "start_time": "2022-08-15T08:13:36.189Z"
   },
   {
    "duration": 6,
    "start_time": "2022-08-15T08:14:47.038Z"
   },
   {
    "duration": 7,
    "start_time": "2022-08-15T08:28:39.398Z"
   },
   {
    "duration": 4,
    "start_time": "2022-08-15T08:28:56.386Z"
   },
   {
    "duration": 6,
    "start_time": "2022-08-15T08:30:30.895Z"
   },
   {
    "duration": 5,
    "start_time": "2022-08-15T08:33:02.711Z"
   },
   {
    "duration": 5,
    "start_time": "2022-08-15T08:33:19.306Z"
   },
   {
    "duration": 5,
    "start_time": "2022-08-15T08:33:31.366Z"
   },
   {
    "duration": 11,
    "start_time": "2022-08-15T08:34:03.118Z"
   },
   {
    "duration": 6,
    "start_time": "2022-08-15T08:34:52.388Z"
   },
   {
    "duration": 5,
    "start_time": "2022-08-15T08:35:18.189Z"
   },
   {
    "duration": 10,
    "start_time": "2022-08-15T08:35:25.974Z"
   },
   {
    "duration": 6,
    "start_time": "2022-08-15T08:35:36.009Z"
   },
   {
    "duration": 10,
    "start_time": "2022-08-15T08:36:18.553Z"
   },
   {
    "duration": 6,
    "start_time": "2022-08-15T08:36:33.568Z"
   },
   {
    "duration": 5,
    "start_time": "2022-08-15T08:36:44.128Z"
   },
   {
    "duration": 5,
    "start_time": "2022-08-15T08:37:26.866Z"
   },
   {
    "duration": 134,
    "start_time": "2022-08-15T08:37:51.576Z"
   },
   {
    "duration": 5,
    "start_time": "2022-08-15T08:38:26.725Z"
   },
   {
    "duration": 134,
    "start_time": "2022-08-15T08:39:24.978Z"
   },
   {
    "duration": 136,
    "start_time": "2022-08-15T08:39:31.128Z"
   },
   {
    "duration": 123,
    "start_time": "2022-08-15T08:39:38.885Z"
   },
   {
    "duration": 127,
    "start_time": "2022-08-15T08:39:49.481Z"
   },
   {
    "duration": 41,
    "start_time": "2022-08-15T08:39:51.275Z"
   },
   {
    "duration": 6,
    "start_time": "2022-08-15T08:39:52.476Z"
   },
   {
    "duration": 60,
    "start_time": "2022-08-15T08:40:18.189Z"
   },
   {
    "duration": 633,
    "start_time": "2022-08-15T10:50:49.815Z"
   },
   {
    "duration": 71,
    "start_time": "2022-08-15T10:50:53.014Z"
   },
   {
    "duration": 66,
    "start_time": "2022-08-15T10:50:54.095Z"
   },
   {
    "duration": 8,
    "start_time": "2022-08-15T10:50:59.960Z"
   },
   {
    "duration": 408,
    "start_time": "2022-08-15T10:51:25.116Z"
   },
   {
    "duration": 14,
    "start_time": "2022-08-15T10:51:39.319Z"
   },
   {
    "duration": 5,
    "start_time": "2022-08-15T10:51:53.130Z"
   },
   {
    "duration": 8,
    "start_time": "2022-08-15T10:52:00.709Z"
   },
   {
    "duration": 7,
    "start_time": "2022-08-15T10:52:13.478Z"
   },
   {
    "duration": 8,
    "start_time": "2022-08-15T10:52:26.045Z"
   },
   {
    "duration": 6,
    "start_time": "2022-08-15T10:52:34.695Z"
   },
   {
    "duration": 5,
    "start_time": "2022-08-15T10:52:44.627Z"
   },
   {
    "duration": 5,
    "start_time": "2022-08-15T10:53:21.836Z"
   },
   {
    "duration": 12,
    "start_time": "2022-08-15T10:54:12.414Z"
   },
   {
    "duration": 9,
    "start_time": "2022-08-15T10:54:30.685Z"
   },
   {
    "duration": 6,
    "start_time": "2022-08-15T10:59:53.016Z"
   },
   {
    "duration": 1262,
    "start_time": "2022-08-15T11:05:31.498Z"
   },
   {
    "duration": 1042,
    "start_time": "2022-08-15T11:05:45.928Z"
   },
   {
    "duration": 1096,
    "start_time": "2022-08-15T11:06:46.968Z"
   },
   {
    "duration": 529,
    "start_time": "2022-08-15T11:28:25.053Z"
   },
   {
    "duration": 62,
    "start_time": "2022-08-15T11:28:29.041Z"
   },
   {
    "duration": 1056,
    "start_time": "2022-08-15T11:28:30.825Z"
   },
   {
    "duration": 2,
    "start_time": "2022-08-15T11:28:44.306Z"
   },
   {
    "duration": 13,
    "start_time": "2022-08-15T11:28:45.044Z"
   },
   {
    "duration": 11,
    "start_time": "2022-08-15T11:28:55.325Z"
   },
   {
    "duration": 57,
    "start_time": "2022-08-15T11:35:17.346Z"
   },
   {
    "duration": 570,
    "start_time": "2022-08-15T11:35:24.603Z"
   },
   {
    "duration": 77,
    "start_time": "2022-08-15T11:35:28.210Z"
   },
   {
    "duration": 103,
    "start_time": "2022-08-15T11:35:49.396Z"
   },
   {
    "duration": 77,
    "start_time": "2022-08-15T11:41:26.381Z"
   },
   {
    "duration": 5,
    "start_time": "2022-08-15T11:42:20.975Z"
   },
   {
    "duration": 15,
    "start_time": "2022-08-15T11:42:37.985Z"
   },
   {
    "duration": 16,
    "start_time": "2022-08-15T11:42:46.384Z"
   },
   {
    "duration": 5,
    "start_time": "2022-08-15T11:43:19.384Z"
   },
   {
    "duration": 4,
    "start_time": "2022-08-15T11:43:27.052Z"
   },
   {
    "duration": 4,
    "start_time": "2022-08-15T11:43:44.434Z"
   },
   {
    "duration": 1357,
    "start_time": "2022-08-15T11:44:55.432Z"
   },
   {
    "duration": 1341,
    "start_time": "2022-08-15T11:45:08.935Z"
   },
   {
    "duration": 1433,
    "start_time": "2022-08-15T11:45:16.454Z"
   },
   {
    "duration": 130,
    "start_time": "2022-08-15T11:45:28.765Z"
   },
   {
    "duration": 85,
    "start_time": "2022-08-15T11:45:34.002Z"
   },
   {
    "duration": 1231,
    "start_time": "2022-08-15T11:45:35.666Z"
   },
   {
    "duration": 611,
    "start_time": "2022-08-15T11:46:12.774Z"
   },
   {
    "duration": 80,
    "start_time": "2022-08-15T11:46:26.996Z"
   },
   {
    "duration": 66,
    "start_time": "2022-08-15T11:49:32.454Z"
   },
   {
    "duration": 1297,
    "start_time": "2022-08-15T11:49:46.955Z"
   },
   {
    "duration": 9,
    "start_time": "2022-08-15T11:50:21.224Z"
   },
   {
    "duration": 82,
    "start_time": "2022-08-15T11:50:25.957Z"
   },
   {
    "duration": 131,
    "start_time": "2022-08-15T12:07:56.910Z"
   },
   {
    "duration": 165,
    "start_time": "2022-08-15T12:08:00.313Z"
   },
   {
    "duration": 81,
    "start_time": "2022-08-15T12:08:47.559Z"
   },
   {
    "duration": 81,
    "start_time": "2022-08-15T12:09:19.803Z"
   },
   {
    "duration": 1284,
    "start_time": "2022-08-15T12:09:41.742Z"
   },
   {
    "duration": 5,
    "start_time": "2022-08-15T12:09:51.375Z"
   },
   {
    "duration": 5,
    "start_time": "2022-08-15T12:10:07.621Z"
   },
   {
    "duration": 5,
    "start_time": "2022-08-15T12:11:10.957Z"
   },
   {
    "duration": 7,
    "start_time": "2022-08-15T12:11:26.933Z"
   },
   {
    "duration": 539,
    "start_time": "2022-08-15T12:18:25.421Z"
   },
   {
    "duration": 85,
    "start_time": "2022-08-15T12:18:28.324Z"
   },
   {
    "duration": 9,
    "start_time": "2022-08-15T12:18:30.342Z"
   },
   {
    "duration": 3,
    "start_time": "2022-08-15T12:18:35.846Z"
   },
   {
    "duration": 5,
    "start_time": "2022-08-15T12:18:36.436Z"
   },
   {
    "duration": 17,
    "start_time": "2022-08-15T12:18:42.337Z"
   },
   {
    "duration": 68,
    "start_time": "2022-08-15T12:24:17.153Z"
   },
   {
    "duration": 9,
    "start_time": "2022-08-15T12:24:36.967Z"
   },
   {
    "duration": 9,
    "start_time": "2022-08-15T12:24:50.104Z"
   },
   {
    "duration": 10,
    "start_time": "2022-08-15T12:28:20.934Z"
   },
   {
    "duration": 9,
    "start_time": "2022-08-15T12:28:32.205Z"
   },
   {
    "duration": 9,
    "start_time": "2022-08-15T12:28:52.164Z"
   },
   {
    "duration": 8,
    "start_time": "2022-08-15T12:29:09.953Z"
   },
   {
    "duration": 26,
    "start_time": "2022-08-15T12:29:47.943Z"
   },
   {
    "duration": 8,
    "start_time": "2022-08-15T12:33:25.144Z"
   },
   {
    "duration": 15,
    "start_time": "2022-08-15T12:36:33.464Z"
   },
   {
    "duration": 9,
    "start_time": "2022-08-15T12:37:04.056Z"
   },
   {
    "duration": 8,
    "start_time": "2022-08-15T12:37:46.244Z"
   },
   {
    "duration": 17,
    "start_time": "2022-08-15T12:38:10.484Z"
   },
   {
    "duration": 563,
    "start_time": "2022-08-15T12:39:13.317Z"
   },
   {
    "duration": 133,
    "start_time": "2022-08-15T12:39:14.976Z"
   },
   {
    "duration": 135,
    "start_time": "2022-08-15T12:39:17.286Z"
   },
   {
    "duration": 17,
    "start_time": "2022-08-15T12:39:18.313Z"
   },
   {
    "duration": 165,
    "start_time": "2022-08-15T12:39:19.194Z"
   },
   {
    "duration": 108,
    "start_time": "2022-08-15T12:40:20.274Z"
   },
   {
    "duration": 3,
    "start_time": "2022-08-15T12:50:37.235Z"
   },
   {
    "duration": 9,
    "start_time": "2022-08-15T12:50:41.694Z"
   },
   {
    "duration": 133,
    "start_time": "2022-08-15T12:50:52.692Z"
   },
   {
    "duration": 11,
    "start_time": "2022-08-15T12:50:54.564Z"
   },
   {
    "duration": 16,
    "start_time": "2022-08-15T12:50:55.534Z"
   },
   {
    "duration": 10,
    "start_time": "2022-08-15T12:51:19.933Z"
   },
   {
    "duration": 21,
    "start_time": "2022-08-15T12:51:34.797Z"
   },
   {
    "duration": 11,
    "start_time": "2022-08-15T12:51:43.114Z"
   },
   {
    "duration": 8,
    "start_time": "2022-08-15T12:51:57.025Z"
   },
   {
    "duration": 10,
    "start_time": "2022-08-15T12:52:05.015Z"
   },
   {
    "duration": 13,
    "start_time": "2022-08-15T12:52:08.323Z"
   },
   {
    "duration": 10,
    "start_time": "2022-08-15T12:52:15.244Z"
   },
   {
    "duration": 13,
    "start_time": "2022-08-15T12:55:52.897Z"
   },
   {
    "duration": 14,
    "start_time": "2022-08-15T12:56:08.513Z"
   },
   {
    "duration": 12,
    "start_time": "2022-08-15T12:56:31.937Z"
   },
   {
    "duration": 12,
    "start_time": "2022-08-15T12:56:59.895Z"
   },
   {
    "duration": 6,
    "start_time": "2022-08-15T12:58:22.686Z"
   },
   {
    "duration": 11,
    "start_time": "2022-08-15T12:58:27.892Z"
   },
   {
    "duration": 6,
    "start_time": "2022-08-15T12:58:54.226Z"
   },
   {
    "duration": 11,
    "start_time": "2022-08-15T12:58:57.414Z"
   },
   {
    "duration": 128,
    "start_time": "2022-08-15T12:59:06.806Z"
   },
   {
    "duration": 14,
    "start_time": "2022-08-15T12:59:08.677Z"
   },
   {
    "duration": 19,
    "start_time": "2022-08-15T12:59:09.331Z"
   },
   {
    "duration": 5,
    "start_time": "2022-08-15T12:59:37.986Z"
   },
   {
    "duration": 6,
    "start_time": "2022-08-15T12:59:41.133Z"
   },
   {
    "duration": 10,
    "start_time": "2022-08-15T12:59:46.420Z"
   },
   {
    "duration": 143,
    "start_time": "2022-08-15T13:00:18.127Z"
   },
   {
    "duration": 170,
    "start_time": "2022-08-15T13:00:25.144Z"
   },
   {
    "duration": 115,
    "start_time": "2022-08-15T13:00:47.425Z"
   },
   {
    "duration": 115,
    "start_time": "2022-08-15T13:00:55.814Z"
   },
   {
    "duration": 120,
    "start_time": "2022-08-15T13:01:03.541Z"
   },
   {
    "duration": 125,
    "start_time": "2022-08-15T13:01:11.035Z"
   },
   {
    "duration": 13,
    "start_time": "2022-08-15T13:02:28.614Z"
   },
   {
    "duration": 9,
    "start_time": "2022-08-15T13:02:37.904Z"
   },
   {
    "duration": 5,
    "start_time": "2022-08-15T13:02:42.006Z"
   },
   {
    "duration": 9,
    "start_time": "2022-08-15T13:02:44.524Z"
   },
   {
    "duration": 128,
    "start_time": "2022-08-15T13:02:52.516Z"
   },
   {
    "duration": 14,
    "start_time": "2022-08-15T13:02:54.156Z"
   },
   {
    "duration": 22,
    "start_time": "2022-08-15T13:02:54.884Z"
   },
   {
    "duration": 121,
    "start_time": "2022-08-15T13:04:55.972Z"
   },
   {
    "duration": 813,
    "start_time": "2022-08-15T13:05:43.345Z"
   },
   {
    "duration": 14,
    "start_time": "2022-08-15T13:05:46.153Z"
   },
   {
    "duration": 16,
    "start_time": "2022-08-15T13:05:46.971Z"
   },
   {
    "duration": 146,
    "start_time": "2022-08-15T13:05:48.713Z"
   },
   {
    "duration": 113,
    "start_time": "2022-08-15T13:06:01.523Z"
   },
   {
    "duration": 79,
    "start_time": "2022-08-15T13:06:41.324Z"
   },
   {
    "duration": 39,
    "start_time": "2022-08-15T13:06:47.453Z"
   },
   {
    "duration": 11,
    "start_time": "2022-08-15T13:07:06.354Z"
   },
   {
    "duration": 39,
    "start_time": "2022-08-15T13:07:12.736Z"
   },
   {
    "duration": 11,
    "start_time": "2022-08-15T13:07:49.044Z"
   },
   {
    "duration": 15,
    "start_time": "2022-08-15T13:08:09.506Z"
   },
   {
    "duration": 5,
    "start_time": "2022-08-15T13:20:48.864Z"
   },
   {
    "duration": 11,
    "start_time": "2022-08-15T13:20:52.235Z"
   },
   {
    "duration": 131,
    "start_time": "2022-08-15T13:21:04.382Z"
   },
   {
    "duration": 138,
    "start_time": "2022-08-15T13:22:26.957Z"
   },
   {
    "duration": 12,
    "start_time": "2022-08-15T13:23:43.766Z"
   },
   {
    "duration": 14,
    "start_time": "2022-08-15T13:23:50.008Z"
   },
   {
    "duration": 11,
    "start_time": "2022-08-15T13:24:17.806Z"
   },
   {
    "duration": 6,
    "start_time": "2022-08-15T13:26:53.014Z"
   },
   {
    "duration": 5,
    "start_time": "2022-08-15T13:27:02.804Z"
   },
   {
    "duration": 6,
    "start_time": "2022-08-15T13:27:13.014Z"
   },
   {
    "duration": 14,
    "start_time": "2022-08-15T13:29:49.027Z"
   },
   {
    "duration": 8,
    "start_time": "2022-08-15T13:29:55.833Z"
   },
   {
    "duration": 8,
    "start_time": "2022-08-15T13:29:59.744Z"
   },
   {
    "duration": 8,
    "start_time": "2022-08-15T13:31:44.264Z"
   },
   {
    "duration": 9,
    "start_time": "2022-08-15T13:31:59.224Z"
   },
   {
    "duration": 1517,
    "start_time": "2022-08-15T13:33:34.964Z"
   },
   {
    "duration": 186,
    "start_time": "2022-08-15T13:33:45.547Z"
   },
   {
    "duration": 15,
    "start_time": "2022-08-15T13:33:47.745Z"
   },
   {
    "duration": 1360,
    "start_time": "2022-08-15T13:33:48.453Z"
   },
   {
    "duration": 0,
    "start_time": "2022-08-15T13:33:49.815Z"
   },
   {
    "duration": 888,
    "start_time": "2022-08-16T07:19:38.588Z"
   },
   {
    "duration": 11,
    "start_time": "2022-08-16T07:19:42.328Z"
   },
   {
    "duration": 1411,
    "start_time": "2022-08-16T07:19:43.097Z"
   },
   {
    "duration": 2147,
    "start_time": "2022-08-16T07:19:52.358Z"
   },
   {
    "duration": 11,
    "start_time": "2022-08-16T07:20:06.749Z"
   },
   {
    "duration": 9,
    "start_time": "2022-08-16T07:20:35.510Z"
   },
   {
    "duration": 10,
    "start_time": "2022-08-16T07:21:09.137Z"
   },
   {
    "duration": 9,
    "start_time": "2022-08-16T07:27:57.858Z"
   },
   {
    "duration": 5,
    "start_time": "2022-08-16T07:28:24.223Z"
   },
   {
    "duration": 4,
    "start_time": "2022-08-16T07:28:46.029Z"
   },
   {
    "duration": 5,
    "start_time": "2022-08-16T07:29:07.549Z"
   },
   {
    "duration": 6,
    "start_time": "2022-08-16T07:29:51.709Z"
   },
   {
    "duration": 6,
    "start_time": "2022-08-16T07:30:11.037Z"
   },
   {
    "duration": 6,
    "start_time": "2022-08-16T07:30:30.440Z"
   },
   {
    "duration": 11,
    "start_time": "2022-08-16T07:30:53.821Z"
   },
   {
    "duration": 5,
    "start_time": "2022-08-16T07:30:58.899Z"
   },
   {
    "duration": 42,
    "start_time": "2022-08-16T07:39:56.351Z"
   },
   {
    "duration": 877,
    "start_time": "2022-08-16T07:40:00.350Z"
   },
   {
    "duration": 9,
    "start_time": "2022-08-16T07:40:01.229Z"
   },
   {
    "duration": 4,
    "start_time": "2022-08-16T07:40:03.148Z"
   },
   {
    "duration": 4,
    "start_time": "2022-08-16T07:40:03.767Z"
   },
   {
    "duration": 6,
    "start_time": "2022-08-16T07:40:04.808Z"
   },
   {
    "duration": 2,
    "start_time": "2022-08-16T07:40:05.479Z"
   },
   {
    "duration": 37,
    "start_time": "2022-08-16T07:40:06.349Z"
   },
   {
    "duration": 8,
    "start_time": "2022-08-16T07:41:52.144Z"
   },
   {
    "duration": 8,
    "start_time": "2022-08-16T07:42:03.912Z"
   },
   {
    "duration": 108,
    "start_time": "2022-08-16T07:42:08.420Z"
   },
   {
    "duration": 8,
    "start_time": "2022-08-16T07:42:09.230Z"
   },
   {
    "duration": 4,
    "start_time": "2022-08-16T07:42:10.579Z"
   },
   {
    "duration": 5,
    "start_time": "2022-08-16T07:42:11.019Z"
   },
   {
    "duration": 5,
    "start_time": "2022-08-16T07:42:11.670Z"
   },
   {
    "duration": 2,
    "start_time": "2022-08-16T07:42:12.288Z"
   },
   {
    "duration": 46,
    "start_time": "2022-08-16T07:42:24.009Z"
   },
   {
    "duration": 775,
    "start_time": "2022-08-16T07:42:27.740Z"
   },
   {
    "duration": 7,
    "start_time": "2022-08-16T07:42:28.517Z"
   },
   {
    "duration": 4,
    "start_time": "2022-08-16T07:42:29.750Z"
   },
   {
    "duration": 4,
    "start_time": "2022-08-16T07:42:30.077Z"
   },
   {
    "duration": 5,
    "start_time": "2022-08-16T07:42:30.829Z"
   },
   {
    "duration": 3,
    "start_time": "2022-08-16T07:42:31.497Z"
   },
   {
    "duration": 44,
    "start_time": "2022-08-16T07:42:36.945Z"
   },
   {
    "duration": 6,
    "start_time": "2022-08-16T07:43:34.857Z"
   },
   {
    "duration": 717,
    "start_time": "2022-08-16T07:43:38.520Z"
   },
   {
    "duration": 7,
    "start_time": "2022-08-16T07:43:39.239Z"
   },
   {
    "duration": 5,
    "start_time": "2022-08-16T07:43:40.320Z"
   },
   {
    "duration": 4,
    "start_time": "2022-08-16T07:43:40.741Z"
   },
   {
    "duration": 6,
    "start_time": "2022-08-16T07:43:41.319Z"
   },
   {
    "duration": 2,
    "start_time": "2022-08-16T07:43:41.948Z"
   },
   {
    "duration": 53,
    "start_time": "2022-08-16T07:46:26.648Z"
   },
   {
    "duration": 782,
    "start_time": "2022-08-16T07:46:34.128Z"
   },
   {
    "duration": 9,
    "start_time": "2022-08-16T07:46:34.912Z"
   },
   {
    "duration": 4,
    "start_time": "2022-08-16T07:46:35.870Z"
   },
   {
    "duration": 5,
    "start_time": "2022-08-16T07:46:36.260Z"
   },
   {
    "duration": 5,
    "start_time": "2022-08-16T07:46:36.639Z"
   },
   {
    "duration": 2,
    "start_time": "2022-08-16T07:46:37.128Z"
   },
   {
    "duration": 42,
    "start_time": "2022-08-16T07:52:01.882Z"
   },
   {
    "duration": 774,
    "start_time": "2022-08-16T07:52:08.478Z"
   },
   {
    "duration": 8,
    "start_time": "2022-08-16T07:52:09.254Z"
   },
   {
    "duration": 5,
    "start_time": "2022-08-16T07:52:10.269Z"
   },
   {
    "duration": 5,
    "start_time": "2022-08-16T07:52:10.678Z"
   },
   {
    "duration": 5,
    "start_time": "2022-08-16T07:52:11.098Z"
   },
   {
    "duration": 98,
    "start_time": "2022-08-16T07:52:11.600Z"
   },
   {
    "duration": 43,
    "start_time": "2022-08-16T07:53:05.978Z"
   },
   {
    "duration": 27,
    "start_time": "2022-08-16T07:53:13.710Z"
   },
   {
    "duration": 26,
    "start_time": "2022-08-16T07:53:51.030Z"
   },
   {
    "duration": 27,
    "start_time": "2022-08-16T07:54:05.490Z"
   },
   {
    "duration": 5,
    "start_time": "2022-08-16T07:54:12.591Z"
   },
   {
    "duration": 5,
    "start_time": "2022-08-16T07:54:13.120Z"
   },
   {
    "duration": 6,
    "start_time": "2022-08-16T07:54:13.750Z"
   },
   {
    "duration": 36,
    "start_time": "2022-08-16T07:54:14.227Z"
   },
   {
    "duration": 26,
    "start_time": "2022-08-16T07:54:14.688Z"
   },
   {
    "duration": 863,
    "start_time": "2022-08-16T07:55:01.640Z"
   },
   {
    "duration": 34,
    "start_time": "2022-08-16T07:55:31.001Z"
   },
   {
    "duration": 8,
    "start_time": "2022-08-16T07:55:40.822Z"
   },
   {
    "duration": 8,
    "start_time": "2022-08-16T07:55:53.578Z"
   },
   {
    "duration": 9,
    "start_time": "2022-08-16T07:56:36.178Z"
   },
   {
    "duration": 708,
    "start_time": "2022-08-16T07:57:09.030Z"
   },
   {
    "duration": 726,
    "start_time": "2022-08-16T07:57:21.827Z"
   },
   {
    "duration": 740,
    "start_time": "2022-08-16T07:57:36.081Z"
   },
   {
    "duration": 107,
    "start_time": "2022-08-16T07:59:39.056Z"
   },
   {
    "duration": 110,
    "start_time": "2022-08-16T08:00:05.343Z"
   },
   {
    "duration": 51,
    "start_time": "2022-08-16T11:11:28.126Z"
   },
   {
    "duration": 1360,
    "start_time": "2022-08-16T11:11:33.249Z"
   },
   {
    "duration": 9,
    "start_time": "2022-08-16T11:11:34.611Z"
   },
   {
    "duration": 102,
    "start_time": "2022-08-16T11:11:36.974Z"
   },
   {
    "duration": 76,
    "start_time": "2022-08-16T11:11:37.645Z"
   },
   {
    "duration": 19,
    "start_time": "2022-08-16T11:12:05.283Z"
   },
   {
    "duration": 307,
    "start_time": "2022-08-16T11:12:07.594Z"
   },
   {
    "duration": 7,
    "start_time": "2022-08-16T11:12:35.095Z"
   },
   {
    "duration": 9,
    "start_time": "2022-08-16T11:12:35.931Z"
   },
   {
    "duration": 293,
    "start_time": "2022-08-16T11:12:37.226Z"
   },
   {
    "duration": 130,
    "start_time": "2022-08-16T11:12:48.912Z"
   },
   {
    "duration": 9,
    "start_time": "2022-08-16T11:12:49.527Z"
   },
   {
    "duration": 108,
    "start_time": "2022-08-16T11:12:51.514Z"
   },
   {
    "duration": 57,
    "start_time": "2022-08-16T11:12:52.055Z"
   },
   {
    "duration": 2,
    "start_time": "2022-08-16T11:12:52.645Z"
   },
   {
    "duration": 3,
    "start_time": "2022-08-16T11:12:53.434Z"
   },
   {
    "duration": 3,
    "start_time": "2022-08-16T11:12:53.985Z"
   },
   {
    "duration": 14,
    "start_time": "2022-08-16T11:12:54.537Z"
   },
   {
    "duration": 15,
    "start_time": "2022-08-16T11:12:55.323Z"
   },
   {
    "duration": 380,
    "start_time": "2022-08-16T11:12:56.955Z"
   },
   {
    "duration": 8,
    "start_time": "2022-08-16T11:12:59.000Z"
   },
   {
    "duration": 48,
    "start_time": "2022-08-16T11:14:11.418Z"
   },
   {
    "duration": 32,
    "start_time": "2022-08-16T11:15:51.657Z"
   },
   {
    "duration": 8,
    "start_time": "2022-08-16T11:17:33.328Z"
   },
   {
    "duration": 12,
    "start_time": "2022-08-16T11:17:40.956Z"
   },
   {
    "duration": 11,
    "start_time": "2022-08-16T11:17:53.138Z"
   },
   {
    "duration": 116,
    "start_time": "2022-08-16T11:20:59.345Z"
   },
   {
    "duration": 8,
    "start_time": "2022-08-16T11:21:00.303Z"
   },
   {
    "duration": 96,
    "start_time": "2022-08-16T11:21:02.252Z"
   },
   {
    "duration": 46,
    "start_time": "2022-08-16T11:21:02.942Z"
   },
   {
    "duration": 2,
    "start_time": "2022-08-16T11:21:03.643Z"
   },
   {
    "duration": 3,
    "start_time": "2022-08-16T11:21:04.168Z"
   },
   {
    "duration": 3,
    "start_time": "2022-08-16T11:21:04.599Z"
   },
   {
    "duration": 15,
    "start_time": "2022-08-16T11:21:05.165Z"
   },
   {
    "duration": 14,
    "start_time": "2022-08-16T11:21:06.363Z"
   },
   {
    "duration": 217,
    "start_time": "2022-08-16T11:21:08.041Z"
   },
   {
    "duration": 32,
    "start_time": "2022-08-16T11:21:48.968Z"
   },
   {
    "duration": 332,
    "start_time": "2022-08-16T11:23:08.699Z"
   },
   {
    "duration": 113,
    "start_time": "2022-08-16T11:23:22.248Z"
   },
   {
    "duration": 117,
    "start_time": "2022-08-16T11:23:28.598Z"
   },
   {
    "duration": 9,
    "start_time": "2022-08-16T11:23:29.568Z"
   },
   {
    "duration": 93,
    "start_time": "2022-08-16T11:23:31.709Z"
   },
   {
    "duration": 42,
    "start_time": "2022-08-16T11:23:32.409Z"
   },
   {
    "duration": 3,
    "start_time": "2022-08-16T11:23:33.097Z"
   },
   {
    "duration": 3,
    "start_time": "2022-08-16T11:23:33.668Z"
   },
   {
    "duration": 3,
    "start_time": "2022-08-16T11:23:34.257Z"
   },
   {
    "duration": 13,
    "start_time": "2022-08-16T11:23:35.060Z"
   },
   {
    "duration": 13,
    "start_time": "2022-08-16T11:23:36.093Z"
   },
   {
    "duration": 205,
    "start_time": "2022-08-16T11:23:37.657Z"
   },
   {
    "duration": 117,
    "start_time": "2022-08-16T11:24:05.347Z"
   },
   {
    "duration": 3,
    "start_time": "2022-08-16T11:24:06.159Z"
   },
   {
    "duration": 3,
    "start_time": "2022-08-16T11:24:06.908Z"
   },
   {
    "duration": 47,
    "start_time": "2022-08-16T11:24:22.646Z"
   },
   {
    "duration": 1043,
    "start_time": "2022-08-16T11:24:32.339Z"
   },
   {
    "duration": 8,
    "start_time": "2022-08-16T11:24:33.384Z"
   },
   {
    "duration": 114,
    "start_time": "2022-08-16T11:24:35.511Z"
   },
   {
    "duration": 45,
    "start_time": "2022-08-16T11:24:35.940Z"
   },
   {
    "duration": 3,
    "start_time": "2022-08-16T11:24:36.459Z"
   },
   {
    "duration": 2,
    "start_time": "2022-08-16T11:24:38.312Z"
   },
   {
    "duration": 49,
    "start_time": "2022-08-16T11:24:52.317Z"
   },
   {
    "duration": 6,
    "start_time": "2022-08-16T11:25:30.715Z"
   },
   {
    "duration": 7,
    "start_time": "2022-08-16T11:26:28.398Z"
   },
   {
    "duration": 6,
    "start_time": "2022-08-16T11:27:00.993Z"
   },
   {
    "duration": 1077,
    "start_time": "2022-08-16T11:27:05.039Z"
   },
   {
    "duration": 11,
    "start_time": "2022-08-16T11:27:09.237Z"
   },
   {
    "duration": 9,
    "start_time": "2022-08-16T11:27:12.867Z"
   },
   {
    "duration": 98,
    "start_time": "2022-08-16T11:27:14.514Z"
   },
   {
    "duration": 45,
    "start_time": "2022-08-16T11:27:17.910Z"
   },
   {
    "duration": 12,
    "start_time": "2022-08-16T11:27:18.998Z"
   },
   {
    "duration": 12,
    "start_time": "2022-08-16T11:27:21.368Z"
   },
   {
    "duration": 258,
    "start_time": "2022-08-16T11:27:23.167Z"
   },
   {
    "duration": 200,
    "start_time": "2022-08-16T11:27:50.687Z"
   },
   {
    "duration": 254,
    "start_time": "2022-08-16T11:28:23.548Z"
   },
   {
    "duration": 9,
    "start_time": "2022-08-16T11:28:45.548Z"
   },
   {
    "duration": 221,
    "start_time": "2022-08-16T11:30:51.894Z"
   },
   {
    "duration": 8,
    "start_time": "2022-08-16T11:30:53.859Z"
   },
   {
    "duration": 291,
    "start_time": "2022-08-16T11:31:39.226Z"
   },
   {
    "duration": 123,
    "start_time": "2022-08-16T11:41:57.429Z"
   },
   {
    "duration": 9,
    "start_time": "2022-08-16T11:41:58.596Z"
   },
   {
    "duration": 115,
    "start_time": "2022-08-16T11:42:01.084Z"
   },
   {
    "duration": 53,
    "start_time": "2022-08-16T11:42:01.698Z"
   },
   {
    "duration": 14,
    "start_time": "2022-08-16T11:42:02.544Z"
   },
   {
    "duration": 22,
    "start_time": "2022-08-16T11:42:25.875Z"
   },
   {
    "duration": 20,
    "start_time": "2022-08-16T11:43:03.186Z"
   },
   {
    "duration": 26,
    "start_time": "2022-08-16T11:43:55.806Z"
   },
   {
    "duration": 1030,
    "start_time": "2022-08-17T10:20:53.696Z"
   },
   {
    "duration": 11,
    "start_time": "2022-08-17T10:20:55.722Z"
   },
   {
    "duration": 9,
    "start_time": "2022-08-17T10:22:26.918Z"
   },
   {
    "duration": 103,
    "start_time": "2022-08-17T10:23:46.531Z"
   },
   {
    "duration": 46,
    "start_time": "2022-08-17T10:23:46.936Z"
   },
   {
    "duration": 32,
    "start_time": "2022-08-17T10:23:47.572Z"
   },
   {
    "duration": 17,
    "start_time": "2022-08-17T10:23:48.195Z"
   },
   {
    "duration": 471,
    "start_time": "2022-08-17T10:23:49.473Z"
   },
   {
    "duration": 475,
    "start_time": "2022-08-17T10:25:01.064Z"
   },
   {
    "duration": 136,
    "start_time": "2022-08-17T10:25:12.004Z"
   },
   {
    "duration": 10,
    "start_time": "2022-08-17T10:25:12.828Z"
   },
   {
    "duration": 10,
    "start_time": "2022-08-17T10:26:02.861Z"
   },
   {
    "duration": 26,
    "start_time": "2022-08-17T10:26:22.463Z"
   },
   {
    "duration": 24,
    "start_time": "2022-08-17T10:26:33.264Z"
   },
   {
    "duration": 5,
    "start_time": "2022-08-17T10:26:33.805Z"
   },
   {
    "duration": 14,
    "start_time": "2022-08-17T10:26:35.033Z"
   },
   {
    "duration": 130,
    "start_time": "2022-08-17T10:26:36.472Z"
   },
   {
    "duration": 11,
    "start_time": "2022-08-17T10:26:39.589Z"
   },
   {
    "duration": 3612,
    "start_time": "2022-08-17T10:27:53.530Z"
   },
   {
    "duration": 167,
    "start_time": "2022-08-17T10:28:31.262Z"
   },
   {
    "duration": 23,
    "start_time": "2022-08-17T10:28:43.935Z"
   },
   {
    "duration": 14,
    "start_time": "2022-08-17T10:29:05.172Z"
   },
   {
    "duration": 14,
    "start_time": "2022-08-17T10:29:07.853Z"
   },
   {
    "duration": 117,
    "start_time": "2022-08-17T10:29:08.431Z"
   },
   {
    "duration": 9,
    "start_time": "2022-08-17T10:29:25.163Z"
   },
   {
    "duration": 35,
    "start_time": "2022-08-17T10:29:34.578Z"
   },
   {
    "duration": 10,
    "start_time": "2022-08-17T10:30:22.284Z"
   },
   {
    "duration": 10,
    "start_time": "2022-08-17T10:30:27.521Z"
   },
   {
    "duration": 6,
    "start_time": "2022-08-17T10:30:50.088Z"
   },
   {
    "duration": 14,
    "start_time": "2022-08-17T10:33:53.343Z"
   },
   {
    "duration": 12,
    "start_time": "2022-08-17T10:34:20.421Z"
   },
   {
    "duration": 11,
    "start_time": "2022-08-17T10:34:48.865Z"
   },
   {
    "duration": 143,
    "start_time": "2022-08-17T10:35:19.205Z"
   },
   {
    "duration": 707,
    "start_time": "2022-08-17T10:37:15.347Z"
   },
   {
    "duration": 9,
    "start_time": "2022-08-17T10:37:16.056Z"
   },
   {
    "duration": 26,
    "start_time": "2022-08-17T10:37:17.697Z"
   },
   {
    "duration": 12,
    "start_time": "2022-08-17T10:37:18.286Z"
   },
   {
    "duration": 17,
    "start_time": "2022-08-17T10:37:19.372Z"
   },
   {
    "duration": 108,
    "start_time": "2022-08-17T10:37:20.027Z"
   },
   {
    "duration": 141,
    "start_time": "2022-08-17T10:37:21.425Z"
   },
   {
    "duration": 10,
    "start_time": "2022-08-17T10:38:42.622Z"
   },
   {
    "duration": 45,
    "start_time": "2022-08-17T10:38:54.826Z"
   },
   {
    "duration": 129,
    "start_time": "2022-08-17T10:38:59.154Z"
   },
   {
    "duration": 10,
    "start_time": "2022-08-17T10:38:59.591Z"
   },
   {
    "duration": 27,
    "start_time": "2022-08-17T10:39:00.852Z"
   },
   {
    "duration": 9,
    "start_time": "2022-08-17T10:39:01.259Z"
   },
   {
    "duration": 13,
    "start_time": "2022-08-17T10:39:02.181Z"
   },
   {
    "duration": 105,
    "start_time": "2022-08-17T10:39:02.779Z"
   },
   {
    "duration": 17,
    "start_time": "2022-08-17T10:39:04.059Z"
   },
   {
    "duration": 119,
    "start_time": "2022-08-17T10:42:00.209Z"
   },
   {
    "duration": 19,
    "start_time": "2022-08-17T10:43:37.955Z"
   },
   {
    "duration": 9,
    "start_time": "2022-08-17T10:44:07.470Z"
   },
   {
    "duration": 11,
    "start_time": "2022-08-17T10:44:30.156Z"
   },
   {
    "duration": 10,
    "start_time": "2022-08-17T10:45:58.439Z"
   },
   {
    "duration": 8,
    "start_time": "2022-08-17T10:46:21.985Z"
   },
   {
    "duration": 149,
    "start_time": "2022-08-17T10:46:30.864Z"
   },
   {
    "duration": 115,
    "start_time": "2022-08-17T10:46:51.117Z"
   },
   {
    "duration": 80,
    "start_time": "2022-08-17T10:46:58.360Z"
   },
   {
    "duration": 149,
    "start_time": "2022-08-17T10:48:00.293Z"
   },
   {
    "duration": 168,
    "start_time": "2022-08-17T10:48:39.199Z"
   },
   {
    "duration": 149,
    "start_time": "2022-08-17T10:49:17.669Z"
   },
   {
    "duration": 333,
    "start_time": "2022-08-17T10:50:35.424Z"
   },
   {
    "duration": 170,
    "start_time": "2022-08-17T10:50:52.641Z"
   },
   {
    "duration": 159,
    "start_time": "2022-08-17T10:51:13.216Z"
   },
   {
    "duration": 1429,
    "start_time": "2022-08-17T10:55:16.509Z"
   },
   {
    "duration": 1897,
    "start_time": "2022-08-17T10:55:29.437Z"
   },
   {
    "duration": 106,
    "start_time": "2022-08-17T10:55:38.742Z"
   },
   {
    "duration": 131,
    "start_time": "2022-08-17T10:55:48.240Z"
   },
   {
    "duration": 114,
    "start_time": "2022-08-17T10:56:39.727Z"
   },
   {
    "duration": 1335,
    "start_time": "2022-08-17T13:11:14.175Z"
   },
   {
    "duration": 8,
    "start_time": "2022-08-17T13:11:15.512Z"
   },
   {
    "duration": 21,
    "start_time": "2022-08-17T13:11:18.324Z"
   },
   {
    "duration": 8,
    "start_time": "2022-08-17T13:11:18.952Z"
   },
   {
    "duration": 13,
    "start_time": "2022-08-17T13:11:20.660Z"
   },
   {
    "duration": 106,
    "start_time": "2022-08-17T13:11:21.254Z"
   },
   {
    "duration": 88,
    "start_time": "2022-08-17T13:11:29.485Z"
   },
   {
    "duration": 126,
    "start_time": "2022-08-17T13:11:37.413Z"
   },
   {
    "duration": 13,
    "start_time": "2022-08-17T13:11:50.051Z"
   },
   {
    "duration": 77,
    "start_time": "2022-08-17T13:11:58.266Z"
   },
   {
    "duration": 144,
    "start_time": "2022-08-17T13:12:05.025Z"
   },
   {
    "duration": 121,
    "start_time": "2022-08-17T13:12:16.208Z"
   },
   {
    "duration": 122,
    "start_time": "2022-08-17T13:12:22.155Z"
   },
   {
    "duration": 25,
    "start_time": "2022-08-17T13:16:12.837Z"
   },
   {
    "duration": 954,
    "start_time": "2022-08-17T13:19:35.448Z"
   },
   {
    "duration": 946,
    "start_time": "2022-08-17T13:20:01.819Z"
   },
   {
    "duration": 980,
    "start_time": "2022-08-17T13:20:21.966Z"
   },
   {
    "duration": 8,
    "start_time": "2022-08-17T13:21:11.520Z"
   },
   {
    "duration": 607,
    "start_time": "2022-08-17T13:21:43.823Z"
   },
   {
    "duration": 567,
    "start_time": "2022-08-17T13:22:02.003Z"
   },
   {
    "duration": 583,
    "start_time": "2022-08-17T13:22:35.115Z"
   },
   {
    "duration": 4,
    "start_time": "2022-08-17T13:24:13.633Z"
   },
   {
    "duration": 103,
    "start_time": "2022-08-17T13:24:18.362Z"
   },
   {
    "duration": 8,
    "start_time": "2022-08-17T13:24:18.787Z"
   },
   {
    "duration": 22,
    "start_time": "2022-08-17T13:24:20.221Z"
   },
   {
    "duration": 9,
    "start_time": "2022-08-17T13:24:20.710Z"
   },
   {
    "duration": 11,
    "start_time": "2022-08-17T13:24:21.821Z"
   },
   {
    "duration": 89,
    "start_time": "2022-08-17T13:24:22.446Z"
   },
   {
    "duration": 116,
    "start_time": "2022-08-17T13:24:23.656Z"
   },
   {
    "duration": 921,
    "start_time": "2022-08-17T13:24:25.311Z"
   },
   {
    "duration": 3,
    "start_time": "2022-08-17T13:24:26.263Z"
   },
   {
    "duration": 568,
    "start_time": "2022-08-17T13:24:27.942Z"
   },
   {
    "duration": 8,
    "start_time": "2022-08-17T13:26:03.874Z"
   },
   {
    "duration": 100,
    "start_time": "2022-08-17T13:29:44.606Z"
   },
   {
    "duration": 1587,
    "start_time": "2022-08-17T13:29:51.693Z"
   },
   {
    "duration": 1556,
    "start_time": "2022-08-17T13:30:57.365Z"
   },
   {
    "duration": 1796,
    "start_time": "2022-08-17T13:31:22.232Z"
   },
   {
    "duration": 2084,
    "start_time": "2022-08-17T13:44:19.560Z"
   },
   {
    "duration": 1626,
    "start_time": "2022-08-17T13:56:58.197Z"
   },
   {
    "duration": 2814,
    "start_time": "2022-08-17T13:57:24.467Z"
   },
   {
    "duration": 2782,
    "start_time": "2022-08-17T13:57:42.078Z"
   },
   {
    "duration": 10,
    "start_time": "2022-08-17T14:00:02.215Z"
   },
   {
    "duration": 5579,
    "start_time": "2022-08-17T14:00:12.868Z"
   },
   {
    "duration": 10,
    "start_time": "2022-08-17T14:00:30.687Z"
   },
   {
    "duration": 5546,
    "start_time": "2022-08-17T14:00:38.133Z"
   },
   {
    "duration": 2825,
    "start_time": "2022-08-17T14:08:16.723Z"
   },
   {
    "duration": 17,
    "start_time": "2022-08-17T14:08:37.998Z"
   },
   {
    "duration": 9,
    "start_time": "2022-08-17T14:13:12.292Z"
   },
   {
    "duration": 100,
    "start_time": "2022-08-17T14:14:46.233Z"
   },
   {
    "duration": 9,
    "start_time": "2022-08-17T14:15:03.869Z"
   },
   {
    "duration": 4411,
    "start_time": "2022-08-17T14:15:21.634Z"
   },
   {
    "duration": 4448,
    "start_time": "2022-08-17T14:15:57.660Z"
   },
   {
    "duration": 1877,
    "start_time": "2022-08-17T14:16:40.629Z"
   },
   {
    "duration": 1706,
    "start_time": "2022-08-17T14:17:07.594Z"
   },
   {
    "duration": 1724,
    "start_time": "2022-08-17T14:17:26.964Z"
   },
   {
    "duration": 1708,
    "start_time": "2022-08-17T14:22:02.826Z"
   },
   {
    "duration": 3698,
    "start_time": "2022-08-17T14:22:54.360Z"
   },
   {
    "duration": 1671,
    "start_time": "2022-08-17T14:23:05.444Z"
   },
   {
    "duration": 1632,
    "start_time": "2022-08-17T14:23:33.240Z"
   },
   {
    "duration": 6,
    "start_time": "2022-08-17T14:25:28.737Z"
   },
   {
    "duration": 2842,
    "start_time": "2022-08-17T14:25:56.836Z"
   },
   {
    "duration": 1664,
    "start_time": "2022-08-17T14:26:53.800Z"
   },
   {
    "duration": 99,
    "start_time": "2022-08-17T14:28:13.251Z"
   },
   {
    "duration": 101,
    "start_time": "2022-08-17T15:16:25.865Z"
   },
   {
    "duration": 9,
    "start_time": "2022-08-17T15:16:26.612Z"
   },
   {
    "duration": 22,
    "start_time": "2022-08-17T15:16:27.924Z"
   },
   {
    "duration": 9,
    "start_time": "2022-08-17T15:16:28.263Z"
   },
   {
    "duration": 11,
    "start_time": "2022-08-17T15:16:28.859Z"
   },
   {
    "duration": 86,
    "start_time": "2022-08-17T15:16:29.171Z"
   },
   {
    "duration": 176,
    "start_time": "2022-08-17T15:16:29.869Z"
   },
   {
    "duration": 2,
    "start_time": "2022-08-17T15:16:30.915Z"
   },
   {
    "duration": 1621,
    "start_time": "2022-08-17T15:16:32.442Z"
   },
   {
    "duration": 6,
    "start_time": "2022-08-17T15:16:35.281Z"
   },
   {
    "duration": 2782,
    "start_time": "2022-08-17T15:16:41.099Z"
   },
   {
    "duration": 9,
    "start_time": "2022-08-17T15:16:47.912Z"
   },
   {
    "duration": 10,
    "start_time": "2022-08-17T15:17:52.836Z"
   },
   {
    "duration": 115,
    "start_time": "2022-08-17T15:27:45.265Z"
   },
   {
    "duration": 124,
    "start_time": "2022-08-17T15:28:12.796Z"
   },
   {
    "duration": 15,
    "start_time": "2022-08-17T15:32:29.779Z"
   },
   {
    "duration": 5,
    "start_time": "2022-08-17T15:32:40.269Z"
   },
   {
    "duration": 14,
    "start_time": "2022-08-17T15:43:05.225Z"
   },
   {
    "duration": 5,
    "start_time": "2022-08-17T15:43:14.441Z"
   },
   {
    "duration": 14,
    "start_time": "2022-08-17T15:43:19.769Z"
   },
   {
    "duration": 5,
    "start_time": "2022-08-17T15:43:29.735Z"
   },
   {
    "duration": 1751,
    "start_time": "2022-08-17T18:04:33.536Z"
   },
   {
    "duration": 9,
    "start_time": "2022-08-17T18:04:35.289Z"
   },
   {
    "duration": 27,
    "start_time": "2022-08-17T18:04:37.090Z"
   },
   {
    "duration": 10,
    "start_time": "2022-08-17T18:04:37.793Z"
   },
   {
    "duration": 14,
    "start_time": "2022-08-17T18:04:39.072Z"
   },
   {
    "duration": 121,
    "start_time": "2022-08-17T18:04:39.976Z"
   },
   {
    "duration": 2,
    "start_time": "2022-08-17T18:04:40.610Z"
   },
   {
    "duration": 1947,
    "start_time": "2022-08-17T18:04:42.232Z"
   },
   {
    "duration": 6,
    "start_time": "2022-08-17T18:04:44.181Z"
   },
   {
    "duration": 3731,
    "start_time": "2022-08-17T18:04:44.189Z"
   },
   {
    "duration": 139,
    "start_time": "2022-08-17T18:04:51.156Z"
   },
   {
    "duration": 6,
    "start_time": "2022-08-17T18:04:52.467Z"
   },
   {
    "duration": 24,
    "start_time": "2022-08-17T18:06:02.682Z"
   },
   {
    "duration": 16,
    "start_time": "2022-08-17T18:06:15.866Z"
   },
   {
    "duration": 27,
    "start_time": "2022-08-17T18:10:03.506Z"
   },
   {
    "duration": 64,
    "start_time": "2022-08-17T18:16:07.811Z"
   },
   {
    "duration": 55,
    "start_time": "2022-08-17T18:16:28.008Z"
   },
   {
    "duration": 76,
    "start_time": "2022-08-17T18:16:37.216Z"
   },
   {
    "duration": 95,
    "start_time": "2022-08-17T18:16:50.960Z"
   },
   {
    "duration": 89,
    "start_time": "2022-08-17T18:17:17.224Z"
   },
   {
    "duration": 191,
    "start_time": "2022-08-17T18:17:51.609Z"
   },
   {
    "duration": 68,
    "start_time": "2022-08-17T18:17:59.206Z"
   },
   {
    "duration": 76,
    "start_time": "2022-08-17T18:18:04.082Z"
   },
   {
    "duration": 160,
    "start_time": "2022-08-17T18:18:24.527Z"
   },
   {
    "duration": 81,
    "start_time": "2022-08-17T18:18:28.094Z"
   },
   {
    "duration": 79,
    "start_time": "2022-08-17T18:18:33.370Z"
   },
   {
    "duration": 2908,
    "start_time": "2022-08-17T18:20:14.430Z"
   },
   {
    "duration": 78,
    "start_time": "2022-08-17T18:24:16.771Z"
   },
   {
    "duration": 79,
    "start_time": "2022-08-17T18:24:41.043Z"
   },
   {
    "duration": 113,
    "start_time": "2022-08-17T18:31:32.969Z"
   },
   {
    "duration": 10,
    "start_time": "2022-08-17T18:39:15.421Z"
   },
   {
    "duration": 122,
    "start_time": "2022-08-17T18:39:46.005Z"
   },
   {
    "duration": 163,
    "start_time": "2022-08-17T18:40:15.838Z"
   },
   {
    "duration": 168,
    "start_time": "2022-08-17T18:40:41.190Z"
   },
   {
    "duration": 4877,
    "start_time": "2022-08-17T18:41:03.551Z"
   },
   {
    "duration": 150,
    "start_time": "2022-08-17T18:41:25.782Z"
   },
   {
    "duration": 145,
    "start_time": "2022-08-17T18:41:35.568Z"
   },
   {
    "duration": 362,
    "start_time": "2022-08-17T18:43:18.911Z"
   },
   {
    "duration": 166,
    "start_time": "2022-08-17T18:44:12.235Z"
   },
   {
    "duration": 11,
    "start_time": "2022-08-17T18:45:18.655Z"
   },
   {
    "duration": 10,
    "start_time": "2022-08-17T18:45:30.581Z"
   },
   {
    "duration": 374,
    "start_time": "2022-08-17T18:45:37.025Z"
   },
   {
    "duration": 11,
    "start_time": "2022-08-17T18:45:39.383Z"
   },
   {
    "duration": 116,
    "start_time": "2022-08-17T18:45:55.665Z"
   },
   {
    "duration": 8,
    "start_time": "2022-08-17T18:45:55.783Z"
   },
   {
    "duration": 12,
    "start_time": "2022-08-17T18:45:55.792Z"
   },
   {
    "duration": 15,
    "start_time": "2022-08-17T18:45:55.805Z"
   },
   {
    "duration": 131,
    "start_time": "2022-08-17T18:45:55.822Z"
   },
   {
    "duration": 1825,
    "start_time": "2022-08-17T18:45:55.955Z"
   },
   {
    "duration": 6,
    "start_time": "2022-08-17T18:45:57.781Z"
   },
   {
    "duration": 3434,
    "start_time": "2022-08-17T18:45:57.788Z"
   },
   {
    "duration": 145,
    "start_time": "2022-08-17T18:46:01.224Z"
   },
   {
    "duration": 21,
    "start_time": "2022-08-17T18:46:01.370Z"
   },
   {
    "duration": 373,
    "start_time": "2022-08-17T18:46:01.393Z"
   },
   {
    "duration": 10,
    "start_time": "2022-08-17T18:46:01.768Z"
   },
   {
    "duration": 1389,
    "start_time": "2022-08-18T07:24:34.708Z"
   },
   {
    "duration": 8,
    "start_time": "2022-08-18T07:24:37.027Z"
   },
   {
    "duration": 9,
    "start_time": "2022-08-18T07:24:38.276Z"
   },
   {
    "duration": 12,
    "start_time": "2022-08-18T07:24:39.186Z"
   },
   {
    "duration": 107,
    "start_time": "2022-08-18T07:24:39.768Z"
   },
   {
    "duration": 1757,
    "start_time": "2022-08-18T07:24:40.755Z"
   },
   {
    "duration": 4,
    "start_time": "2022-08-18T07:24:42.514Z"
   },
   {
    "duration": 2878,
    "start_time": "2022-08-18T07:24:43.846Z"
   },
   {
    "duration": 147,
    "start_time": "2022-08-18T07:24:48.817Z"
   },
   {
    "duration": 22,
    "start_time": "2022-08-18T07:24:50.508Z"
   },
   {
    "duration": 11,
    "start_time": "2022-08-18T07:24:58.382Z"
   },
   {
    "duration": 325,
    "start_time": "2022-08-18T07:25:00.500Z"
   },
   {
    "duration": 90,
    "start_time": "2022-08-18T07:25:03.278Z"
   },
   {
    "duration": 76,
    "start_time": "2022-08-18T07:25:10.330Z"
   },
   {
    "duration": 11,
    "start_time": "2022-08-18T07:25:15.021Z"
   },
   {
    "duration": 10,
    "start_time": "2022-08-18T07:25:45.110Z"
   },
   {
    "duration": 11,
    "start_time": "2022-08-18T07:26:29.103Z"
   },
   {
    "duration": 10,
    "start_time": "2022-08-18T07:27:09.840Z"
   },
   {
    "duration": 11,
    "start_time": "2022-08-18T07:27:43.504Z"
   },
   {
    "duration": 127,
    "start_time": "2022-08-18T07:33:49.578Z"
   },
   {
    "duration": 3,
    "start_time": "2022-08-18T07:34:10.608Z"
   },
   {
    "duration": 7,
    "start_time": "2022-08-18T07:35:06.728Z"
   },
   {
    "duration": 11,
    "start_time": "2022-08-18T07:37:22.098Z"
   },
   {
    "duration": 13,
    "start_time": "2022-08-18T07:37:54.608Z"
   },
   {
    "duration": 18,
    "start_time": "2022-08-18T07:38:10.489Z"
   },
   {
    "duration": 13,
    "start_time": "2022-08-18T07:38:15.657Z"
   },
   {
    "duration": 14,
    "start_time": "2022-08-18T07:38:37.469Z"
   },
   {
    "duration": 20,
    "start_time": "2022-08-18T07:38:58.868Z"
   },
   {
    "duration": 18,
    "start_time": "2022-08-18T07:39:01.168Z"
   },
   {
    "duration": 14,
    "start_time": "2022-08-18T07:39:14.119Z"
   },
   {
    "duration": 14,
    "start_time": "2022-08-18T07:39:26.057Z"
   },
   {
    "duration": 14,
    "start_time": "2022-08-18T07:39:36.025Z"
   },
   {
    "duration": 2,
    "start_time": "2022-08-18T07:40:46.069Z"
   },
   {
    "duration": 33,
    "start_time": "2022-08-18T07:45:52.319Z"
   },
   {
    "duration": 17,
    "start_time": "2022-08-18T07:46:10.619Z"
   },
   {
    "duration": 16,
    "start_time": "2022-08-18T07:47:04.000Z"
   },
   {
    "duration": 17,
    "start_time": "2022-08-18T07:47:20.627Z"
   },
   {
    "duration": 16,
    "start_time": "2022-08-18T07:47:33.675Z"
   },
   {
    "duration": 17,
    "start_time": "2022-08-18T07:47:49.421Z"
   },
   {
    "duration": 15,
    "start_time": "2022-08-18T07:47:56.060Z"
   },
   {
    "duration": 159,
    "start_time": "2022-08-18T07:49:20.766Z"
   },
   {
    "duration": 25,
    "start_time": "2022-08-18T07:49:31.329Z"
   },
   {
    "duration": 8,
    "start_time": "2022-08-18T07:52:05.309Z"
   },
   {
    "duration": 25,
    "start_time": "2022-08-18T07:52:15.537Z"
   },
   {
    "duration": 1628,
    "start_time": "2022-08-19T07:53:59.322Z"
   },
   {
    "duration": 12,
    "start_time": "2022-08-19T07:54:00.952Z"
   },
   {
    "duration": 10,
    "start_time": "2022-08-19T07:54:02.237Z"
   },
   {
    "duration": 22,
    "start_time": "2022-08-19T07:54:02.953Z"
   },
   {
    "duration": 123,
    "start_time": "2022-08-19T07:54:03.339Z"
   },
   {
    "duration": 1656,
    "start_time": "2022-08-19T07:54:04.356Z"
   },
   {
    "duration": 4,
    "start_time": "2022-08-19T07:54:06.014Z"
   },
   {
    "duration": 2918,
    "start_time": "2022-08-19T07:54:06.020Z"
   },
   {
    "duration": 2,
    "start_time": "2022-08-19T07:54:08.940Z"
   },
   {
    "duration": 16,
    "start_time": "2022-08-19T07:54:08.943Z"
   },
   {
    "duration": 120,
    "start_time": "2022-08-19T07:54:11.651Z"
   },
   {
    "duration": 9,
    "start_time": "2022-08-19T07:54:27.719Z"
   },
   {
    "duration": 323,
    "start_time": "2022-08-19T07:54:29.386Z"
   },
   {
    "duration": 13,
    "start_time": "2022-08-19T07:54:31.034Z"
   },
   {
    "duration": 116,
    "start_time": "2022-08-19T07:54:46.750Z"
   },
   {
    "duration": 10,
    "start_time": "2022-08-19T07:54:47.447Z"
   },
   {
    "duration": 10,
    "start_time": "2022-08-19T07:54:49.350Z"
   },
   {
    "duration": 13,
    "start_time": "2022-08-19T07:54:50.419Z"
   },
   {
    "duration": 100,
    "start_time": "2022-08-19T07:54:51.141Z"
   },
   {
    "duration": 1749,
    "start_time": "2022-08-19T07:54:52.420Z"
   },
   {
    "duration": 5,
    "start_time": "2022-08-19T07:54:54.171Z"
   },
   {
    "duration": 3072,
    "start_time": "2022-08-19T07:54:55.736Z"
   },
   {
    "duration": 2,
    "start_time": "2022-08-19T07:55:01.138Z"
   },
   {
    "duration": 15,
    "start_time": "2022-08-19T07:55:02.971Z"
   },
   {
    "duration": 29,
    "start_time": "2022-08-19T07:55:07.483Z"
   },
   {
    "duration": 5,
    "start_time": "2022-08-19T07:55:19.975Z"
   },
   {
    "duration": 134,
    "start_time": "2022-08-19T07:55:23.635Z"
   },
   {
    "duration": 136,
    "start_time": "2022-08-19T07:55:26.649Z"
   },
   {
    "duration": 12,
    "start_time": "2022-08-19T07:55:27.779Z"
   },
   {
    "duration": 385,
    "start_time": "2022-08-19T07:55:28.537Z"
   },
   {
    "duration": 20,
    "start_time": "2022-08-19T07:55:29.419Z"
   },
   {
    "duration": 180,
    "start_time": "2022-08-19T07:56:03.275Z"
   },
   {
    "duration": 136,
    "start_time": "2022-08-19T07:56:29.316Z"
   },
   {
    "duration": 178,
    "start_time": "2022-08-19T07:56:37.416Z"
   },
   {
    "duration": 214,
    "start_time": "2022-08-19T07:56:55.747Z"
   },
   {
    "duration": 23,
    "start_time": "2022-08-19T07:57:20.939Z"
   },
   {
    "duration": 63,
    "start_time": "2022-08-19T07:59:43.886Z"
   },
   {
    "duration": 19,
    "start_time": "2022-08-19T07:59:48.185Z"
   },
   {
    "duration": 18,
    "start_time": "2022-08-19T07:59:59.129Z"
   },
   {
    "duration": 18,
    "start_time": "2022-08-19T08:00:13.534Z"
   },
   {
    "duration": 118,
    "start_time": "2022-08-19T08:00:20.093Z"
   },
   {
    "duration": 9,
    "start_time": "2022-08-19T08:00:20.923Z"
   },
   {
    "duration": 10,
    "start_time": "2022-08-19T08:00:22.281Z"
   },
   {
    "duration": 18,
    "start_time": "2022-08-19T08:00:23.382Z"
   },
   {
    "duration": 100,
    "start_time": "2022-08-19T08:00:25.840Z"
   },
   {
    "duration": 1774,
    "start_time": "2022-08-19T08:00:27.120Z"
   },
   {
    "duration": 6,
    "start_time": "2022-08-19T08:00:28.896Z"
   },
   {
    "duration": 3182,
    "start_time": "2022-08-19T08:00:28.911Z"
   },
   {
    "duration": 2,
    "start_time": "2022-08-19T08:00:32.095Z"
   },
   {
    "duration": 18,
    "start_time": "2022-08-19T08:00:32.098Z"
   },
   {
    "duration": 134,
    "start_time": "2022-08-19T08:00:35.453Z"
   },
   {
    "duration": 10,
    "start_time": "2022-08-19T08:00:36.462Z"
   },
   {
    "duration": 375,
    "start_time": "2022-08-19T08:00:37.631Z"
   },
   {
    "duration": 18,
    "start_time": "2022-08-19T08:00:39.086Z"
   },
   {
    "duration": 71,
    "start_time": "2022-08-19T08:40:34.879Z"
   },
   {
    "duration": 57,
    "start_time": "2022-08-19T08:40:59.252Z"
   },
   {
    "duration": 11,
    "start_time": "2022-08-19T08:41:07.516Z"
   },
   {
    "duration": 8,
    "start_time": "2022-08-19T08:41:21.263Z"
   },
   {
    "duration": 8,
    "start_time": "2022-08-19T08:41:30.128Z"
   },
   {
    "duration": 1581,
    "start_time": "2022-08-19T10:08:16.752Z"
   },
   {
    "duration": 8,
    "start_time": "2022-08-19T10:08:18.335Z"
   },
   {
    "duration": 10,
    "start_time": "2022-08-19T10:08:19.966Z"
   },
   {
    "duration": 12,
    "start_time": "2022-08-19T10:08:20.965Z"
   },
   {
    "duration": 108,
    "start_time": "2022-08-19T10:08:21.464Z"
   },
   {
    "duration": 1644,
    "start_time": "2022-08-19T10:08:22.753Z"
   },
   {
    "duration": 13,
    "start_time": "2022-08-19T10:08:24.399Z"
   },
   {
    "duration": 2955,
    "start_time": "2022-08-19T10:08:25.323Z"
   },
   {
    "duration": 2,
    "start_time": "2022-08-19T10:08:28.280Z"
   },
   {
    "duration": 16,
    "start_time": "2022-08-19T10:08:28.284Z"
   },
   {
    "duration": 137,
    "start_time": "2022-08-19T10:08:30.672Z"
   },
   {
    "duration": 8,
    "start_time": "2022-08-19T10:08:31.818Z"
   },
   {
    "duration": 358,
    "start_time": "2022-08-19T10:08:32.622Z"
   },
   {
    "duration": 52,
    "start_time": "2022-08-19T10:08:33.484Z"
   },
   {
    "duration": 210,
    "start_time": "2022-08-19T10:08:49.723Z"
   },
   {
    "duration": 102,
    "start_time": "2022-08-19T10:09:22.422Z"
   },
   {
    "duration": 1418,
    "start_time": "2022-08-20T14:54:57.633Z"
   },
   {
    "duration": 9,
    "start_time": "2022-08-20T14:54:59.796Z"
   },
   {
    "duration": 10,
    "start_time": "2022-08-20T14:55:01.008Z"
   },
   {
    "duration": 12,
    "start_time": "2022-08-20T14:55:01.876Z"
   },
   {
    "duration": 123,
    "start_time": "2022-08-20T14:55:02.299Z"
   },
   {
    "duration": 1837,
    "start_time": "2022-08-20T14:55:03.229Z"
   },
   {
    "duration": 6,
    "start_time": "2022-08-20T14:55:05.068Z"
   },
   {
    "duration": 3366,
    "start_time": "2022-08-20T14:55:05.076Z"
   },
   {
    "duration": 3,
    "start_time": "2022-08-20T14:55:10.068Z"
   },
   {
    "duration": 14,
    "start_time": "2022-08-20T14:55:10.756Z"
   },
   {
    "duration": 132,
    "start_time": "2022-08-20T14:55:13.399Z"
   },
   {
    "duration": 11,
    "start_time": "2022-08-20T14:55:14.472Z"
   },
   {
    "duration": 342,
    "start_time": "2022-08-20T14:55:15.730Z"
   },
   {
    "duration": 104,
    "start_time": "2022-08-20T14:55:17.183Z"
   },
   {
    "duration": 214,
    "start_time": "2022-08-20T14:55:27.828Z"
   },
   {
    "duration": 84,
    "start_time": "2022-08-20T14:56:51.781Z"
   },
   {
    "duration": 9,
    "start_time": "2022-08-20T14:57:53.644Z"
   },
   {
    "duration": 21,
    "start_time": "2022-08-20T14:58:02.100Z"
   },
   {
    "duration": 24,
    "start_time": "2022-08-20T14:58:23.809Z"
   },
   {
    "duration": 1208,
    "start_time": "2022-08-20T14:59:04.546Z"
   },
   {
    "duration": 1303,
    "start_time": "2022-08-20T14:59:21.751Z"
   },
   {
    "duration": 1302,
    "start_time": "2022-08-20T14:59:51.921Z"
   },
   {
    "duration": 3,
    "start_time": "2022-08-20T15:04:19.814Z"
   },
   {
    "duration": 9,
    "start_time": "2022-08-20T15:07:37.458Z"
   },
   {
    "duration": 3,
    "start_time": "2022-08-20T15:07:47.422Z"
   },
   {
    "duration": 8,
    "start_time": "2022-08-20T15:08:08.852Z"
   },
   {
    "duration": 3,
    "start_time": "2022-08-20T15:08:14.131Z"
   },
   {
    "duration": 4,
    "start_time": "2022-08-20T15:08:53.206Z"
   },
   {
    "duration": 3,
    "start_time": "2022-08-20T15:10:26.893Z"
   },
   {
    "duration": 4,
    "start_time": "2022-08-20T15:11:13.459Z"
   },
   {
    "duration": 4,
    "start_time": "2022-08-20T15:11:26.915Z"
   },
   {
    "duration": 6,
    "start_time": "2022-08-20T15:12:07.691Z"
   },
   {
    "duration": 9,
    "start_time": "2022-08-20T15:12:28.772Z"
   },
   {
    "duration": 11,
    "start_time": "2022-08-20T15:12:53.244Z"
   },
   {
    "duration": 3,
    "start_time": "2022-08-20T15:13:08.573Z"
   },
   {
    "duration": 4,
    "start_time": "2022-08-20T15:14:58.909Z"
   },
   {
    "duration": 16,
    "start_time": "2022-08-20T15:15:46.674Z"
   },
   {
    "duration": 384,
    "start_time": "2022-08-20T15:16:19.171Z"
   },
   {
    "duration": 307,
    "start_time": "2022-08-20T15:16:27.942Z"
   },
   {
    "duration": 12,
    "start_time": "2022-08-20T15:16:36.859Z"
   },
   {
    "duration": 10,
    "start_time": "2022-08-20T15:16:47.240Z"
   },
   {
    "duration": 18,
    "start_time": "2022-08-20T15:16:59.405Z"
   },
   {
    "duration": 26,
    "start_time": "2022-08-20T15:18:46.198Z"
   },
   {
    "duration": 19,
    "start_time": "2022-08-20T15:19:07.821Z"
   },
   {
    "duration": 151,
    "start_time": "2022-08-20T15:19:36.834Z"
   },
   {
    "duration": 215,
    "start_time": "2022-08-20T15:19:49.119Z"
   },
   {
    "duration": 227,
    "start_time": "2022-08-20T15:20:06.996Z"
   },
   {
    "duration": 377,
    "start_time": "2022-08-20T15:20:56.546Z"
   },
   {
    "duration": 609,
    "start_time": "2022-08-20T15:21:06.408Z"
   },
   {
    "duration": 454,
    "start_time": "2022-08-20T15:21:13.062Z"
   },
   {
    "duration": 552,
    "start_time": "2022-08-20T15:21:25.630Z"
   },
   {
    "duration": 433,
    "start_time": "2022-08-20T15:21:42.063Z"
   },
   {
    "duration": 454,
    "start_time": "2022-08-20T15:23:20.105Z"
   },
   {
    "duration": 263,
    "start_time": "2022-08-20T15:23:51.973Z"
   },
   {
    "duration": 118,
    "start_time": "2022-08-20T15:25:04.935Z"
   },
   {
    "duration": 14,
    "start_time": "2022-08-20T15:28:48.340Z"
   },
   {
    "duration": 135,
    "start_time": "2022-08-20T15:29:08.884Z"
   },
   {
    "duration": 155,
    "start_time": "2022-08-20T15:29:26.396Z"
   },
   {
    "duration": 22,
    "start_time": "2022-08-20T15:29:37.349Z"
   },
   {
    "duration": 13,
    "start_time": "2022-08-20T15:30:49.487Z"
   },
   {
    "duration": 14,
    "start_time": "2022-08-20T15:31:31.288Z"
   },
   {
    "duration": 14,
    "start_time": "2022-08-20T15:32:19.549Z"
   },
   {
    "duration": 14,
    "start_time": "2022-08-20T15:33:16.323Z"
   },
   {
    "duration": 14,
    "start_time": "2022-08-20T15:33:27.070Z"
   },
   {
    "duration": 13,
    "start_time": "2022-08-20T15:34:58.911Z"
   },
   {
    "duration": 13,
    "start_time": "2022-08-20T15:35:04.915Z"
   },
   {
    "duration": 15,
    "start_time": "2022-08-20T15:36:04.099Z"
   },
   {
    "duration": 23,
    "start_time": "2022-08-20T15:36:33.132Z"
   },
   {
    "duration": 128,
    "start_time": "2022-08-20T15:36:44.322Z"
   },
   {
    "duration": 25,
    "start_time": "2022-08-20T15:37:17.836Z"
   },
   {
    "duration": 13,
    "start_time": "2022-08-20T15:37:38.961Z"
   },
   {
    "duration": 4,
    "start_time": "2022-08-20T15:38:27.663Z"
   },
   {
    "duration": 13,
    "start_time": "2022-08-20T15:38:38.660Z"
   },
   {
    "duration": 12,
    "start_time": "2022-08-20T15:38:41.545Z"
   },
   {
    "duration": 10,
    "start_time": "2022-08-20T15:38:53.119Z"
   },
   {
    "duration": 76,
    "start_time": "2022-08-20T15:39:01.736Z"
   },
   {
    "duration": 10,
    "start_time": "2022-08-20T15:39:25.454Z"
   },
   {
    "duration": 11,
    "start_time": "2022-08-20T15:40:13.503Z"
   },
   {
    "duration": 13,
    "start_time": "2022-08-20T15:40:22.657Z"
   },
   {
    "duration": 18,
    "start_time": "2022-08-20T15:40:42.586Z"
   },
   {
    "duration": 19,
    "start_time": "2022-08-20T15:40:48.144Z"
   },
   {
    "duration": 20,
    "start_time": "2022-08-20T15:41:03.750Z"
   },
   {
    "duration": 18,
    "start_time": "2022-08-20T15:41:24.235Z"
   },
   {
    "duration": 13,
    "start_time": "2022-08-20T15:41:28.015Z"
   },
   {
    "duration": 15,
    "start_time": "2022-08-20T15:41:36.301Z"
   },
   {
    "duration": 10,
    "start_time": "2022-08-20T15:44:24.791Z"
   },
   {
    "duration": 11,
    "start_time": "2022-08-20T15:44:31.833Z"
   },
   {
    "duration": 11,
    "start_time": "2022-08-20T15:44:41.946Z"
   },
   {
    "duration": 11,
    "start_time": "2022-08-20T15:44:45.754Z"
   },
   {
    "duration": 12,
    "start_time": "2022-08-20T15:45:05.128Z"
   },
   {
    "duration": 11,
    "start_time": "2022-08-20T15:45:13.085Z"
   },
   {
    "duration": 76,
    "start_time": "2022-08-20T15:45:32.234Z"
   },
   {
    "duration": 13,
    "start_time": "2022-08-20T15:45:48.210Z"
   },
   {
    "duration": 15,
    "start_time": "2022-08-20T15:46:18.500Z"
   },
   {
    "duration": 16,
    "start_time": "2022-08-20T15:47:17.314Z"
   },
   {
    "duration": 14,
    "start_time": "2022-08-20T15:47:36.408Z"
   },
   {
    "duration": 9,
    "start_time": "2022-08-20T15:48:03.188Z"
   },
   {
    "duration": 13,
    "start_time": "2022-08-20T15:48:19.671Z"
   },
   {
    "duration": 13,
    "start_time": "2022-08-20T15:48:29.537Z"
   },
   {
    "duration": 13,
    "start_time": "2022-08-20T15:48:39.434Z"
   },
   {
    "duration": 13,
    "start_time": "2022-08-20T15:49:25.837Z"
   },
   {
    "duration": 12,
    "start_time": "2022-08-20T15:49:34.919Z"
   },
   {
    "duration": 13,
    "start_time": "2022-08-20T15:49:45.556Z"
   },
   {
    "duration": 12,
    "start_time": "2022-08-20T15:50:27.282Z"
   },
   {
    "duration": 15,
    "start_time": "2022-08-20T15:50:54.115Z"
   },
   {
    "duration": 10,
    "start_time": "2022-08-20T15:57:33.471Z"
   },
   {
    "duration": 13,
    "start_time": "2022-08-20T15:58:52.884Z"
   },
   {
    "duration": 17,
    "start_time": "2022-08-20T15:59:24.619Z"
   },
   {
    "duration": 35,
    "start_time": "2022-08-20T15:59:46.203Z"
   },
   {
    "duration": 15,
    "start_time": "2022-08-20T15:59:54.268Z"
   },
   {
    "duration": 26,
    "start_time": "2022-08-20T16:00:26.106Z"
   },
   {
    "duration": 13,
    "start_time": "2022-08-20T16:00:39.656Z"
   },
   {
    "duration": 14,
    "start_time": "2022-08-20T16:04:56.175Z"
   },
   {
    "duration": 140,
    "start_time": "2022-08-20T16:06:52.757Z"
   },
   {
    "duration": 10,
    "start_time": "2022-08-20T16:07:28.689Z"
   },
   {
    "duration": 13,
    "start_time": "2022-08-20T16:07:38.598Z"
   },
   {
    "duration": 15,
    "start_time": "2022-08-20T16:07:51.371Z"
   },
   {
    "duration": 118,
    "start_time": "2022-08-20T16:07:54.844Z"
   },
   {
    "duration": 129,
    "start_time": "2022-08-20T16:08:02.050Z"
   },
   {
    "duration": 172,
    "start_time": "2022-08-20T16:08:26.227Z"
   },
   {
    "duration": 238,
    "start_time": "2022-08-20T16:08:36.095Z"
   },
   {
    "duration": 134,
    "start_time": "2022-08-20T16:08:44.473Z"
   },
   {
    "duration": 134,
    "start_time": "2022-08-20T16:09:42.608Z"
   },
   {
    "duration": 138,
    "start_time": "2022-08-20T16:10:03.339Z"
   },
   {
    "duration": 160,
    "start_time": "2022-08-20T16:10:28.986Z"
   },
   {
    "duration": 146,
    "start_time": "2022-08-20T16:10:46.931Z"
   },
   {
    "duration": 152,
    "start_time": "2022-08-20T16:11:00.893Z"
   },
   {
    "duration": 156,
    "start_time": "2022-08-20T16:11:34.902Z"
   },
   {
    "duration": 31,
    "start_time": "2022-08-20T16:12:14.404Z"
   },
   {
    "duration": 149,
    "start_time": "2022-08-20T16:12:25.203Z"
   },
   {
    "duration": 174,
    "start_time": "2022-08-20T16:18:20.130Z"
   },
   {
    "duration": 154,
    "start_time": "2022-08-20T16:18:39.716Z"
   },
   {
    "duration": 148,
    "start_time": "2022-08-20T16:18:54.384Z"
   },
   {
    "duration": 15,
    "start_time": "2022-08-20T16:19:32.357Z"
   },
   {
    "duration": 132,
    "start_time": "2022-08-20T16:19:40.720Z"
   },
   {
    "duration": 26,
    "start_time": "2022-08-20T16:19:49.091Z"
   },
   {
    "duration": 138,
    "start_time": "2022-08-20T16:20:00.763Z"
   },
   {
    "duration": 130,
    "start_time": "2022-08-20T16:20:29.770Z"
   },
   {
    "duration": 147,
    "start_time": "2022-08-20T16:20:38.995Z"
   },
   {
    "duration": 15,
    "start_time": "2022-08-20T16:20:44.561Z"
   },
   {
    "duration": 134,
    "start_time": "2022-08-20T16:20:47.629Z"
   },
   {
    "duration": 14,
    "start_time": "2022-08-20T16:20:56.731Z"
   },
   {
    "duration": 14,
    "start_time": "2022-08-20T16:21:01.780Z"
   },
   {
    "duration": 145,
    "start_time": "2022-08-20T16:21:14.329Z"
   },
   {
    "duration": 127,
    "start_time": "2022-08-20T16:21:26.273Z"
   },
   {
    "duration": 15,
    "start_time": "2022-08-20T16:21:35.915Z"
   },
   {
    "duration": 389,
    "start_time": "2022-08-20T17:41:24.766Z"
   },
   {
    "duration": 154,
    "start_time": "2022-08-20T17:41:48.036Z"
   },
   {
    "duration": 209,
    "start_time": "2022-08-20T17:42:45.246Z"
   },
   {
    "duration": 226,
    "start_time": "2022-08-20T17:43:23.811Z"
   },
   {
    "duration": 83,
    "start_time": "2022-08-20T17:43:29.917Z"
   },
   {
    "duration": 935,
    "start_time": "2022-08-20T17:43:33.828Z"
   },
   {
    "duration": 20,
    "start_time": "2022-08-20T17:43:49.537Z"
   },
   {
    "duration": 22,
    "start_time": "2022-08-20T17:43:54.829Z"
   },
   {
    "duration": 22,
    "start_time": "2022-08-20T17:44:01.737Z"
   },
   {
    "duration": 315,
    "start_time": "2022-08-20T17:44:23.791Z"
   },
   {
    "duration": 152,
    "start_time": "2022-08-20T17:45:52.548Z"
   },
   {
    "duration": 161,
    "start_time": "2022-08-20T17:51:41.129Z"
   },
   {
    "duration": 14,
    "start_time": "2022-08-20T17:53:38.856Z"
   },
   {
    "duration": 12,
    "start_time": "2022-08-20T17:53:52.325Z"
   },
   {
    "duration": 160,
    "start_time": "2022-08-20T17:54:21.569Z"
   },
   {
    "duration": 139,
    "start_time": "2022-08-20T17:55:45.697Z"
   },
   {
    "duration": 144,
    "start_time": "2022-08-20T17:55:53.724Z"
   },
   {
    "duration": 145,
    "start_time": "2022-08-20T17:56:00.546Z"
   },
   {
    "duration": 16,
    "start_time": "2022-08-20T17:56:09.397Z"
   },
   {
    "duration": 10,
    "start_time": "2022-08-20T17:59:59.401Z"
   },
   {
    "duration": 71,
    "start_time": "2022-08-20T18:00:06.663Z"
   },
   {
    "duration": 22760,
    "start_time": "2022-08-20T18:01:18.209Z"
   },
   {
    "duration": 11,
    "start_time": "2022-08-20T18:02:55.076Z"
   },
   {
    "duration": 10,
    "start_time": "2022-08-20T18:03:17.660Z"
   },
   {
    "duration": 10,
    "start_time": "2022-08-20T18:03:51.666Z"
   },
   {
    "duration": 8,
    "start_time": "2022-08-20T18:04:25.669Z"
   },
   {
    "duration": 10,
    "start_time": "2022-08-20T18:04:50.326Z"
   },
   {
    "duration": 10,
    "start_time": "2022-08-20T18:05:08.544Z"
   },
   {
    "duration": 9,
    "start_time": "2022-08-20T18:06:49.457Z"
   },
   {
    "duration": 23711,
    "start_time": "2022-08-20T18:06:56.263Z"
   },
   {
    "duration": 34,
    "start_time": "2022-08-20T18:07:25.628Z"
   },
   {
    "duration": 18976,
    "start_time": "2022-08-20T18:07:31.736Z"
   },
   {
    "duration": 18652,
    "start_time": "2022-08-20T18:09:38.757Z"
   },
   {
    "duration": 2,
    "start_time": "2022-08-20T18:11:21.176Z"
   },
   {
    "duration": 1796,
    "start_time": "2022-08-20T21:04:14.052Z"
   },
   {
    "duration": 10,
    "start_time": "2022-08-20T21:04:16.583Z"
   },
   {
    "duration": 13,
    "start_time": "2022-08-20T21:04:17.226Z"
   },
   {
    "duration": 15,
    "start_time": "2022-08-20T21:04:17.611Z"
   },
   {
    "duration": 131,
    "start_time": "2022-08-20T21:04:17.781Z"
   },
   {
    "duration": 1927,
    "start_time": "2022-08-20T21:04:18.146Z"
   },
   {
    "duration": 12,
    "start_time": "2022-08-20T21:04:20.075Z"
   },
   {
    "duration": 3389,
    "start_time": "2022-08-20T21:04:20.088Z"
   },
   {
    "duration": 2,
    "start_time": "2022-08-20T21:04:23.479Z"
   },
   {
    "duration": 11,
    "start_time": "2022-08-20T21:04:23.486Z"
   },
   {
    "duration": 149,
    "start_time": "2022-08-20T21:04:23.498Z"
   },
   {
    "duration": 12,
    "start_time": "2022-08-20T21:04:23.649Z"
   },
   {
    "duration": 334,
    "start_time": "2022-08-20T21:04:23.662Z"
   },
   {
    "duration": 294,
    "start_time": "2022-08-20T21:04:25.799Z"
   },
   {
    "duration": 16,
    "start_time": "2022-08-20T21:04:27.938Z"
   },
   {
    "duration": 14,
    "start_time": "2022-08-20T21:04:28.387Z"
   },
   {
    "duration": 17,
    "start_time": "2022-08-20T21:04:28.727Z"
   },
   {
    "duration": 156,
    "start_time": "2022-08-20T21:04:29.145Z"
   },
   {
    "duration": 21,
    "start_time": "2022-08-20T21:04:29.517Z"
   },
   {
    "duration": 17,
    "start_time": "2022-08-20T21:04:30.011Z"
   },
   {
    "duration": 209,
    "start_time": "2022-08-20T21:04:30.341Z"
   },
   {
    "duration": 14,
    "start_time": "2022-08-20T21:04:30.639Z"
   },
   {
    "duration": 15,
    "start_time": "2022-08-20T21:04:30.971Z"
   },
   {
    "duration": 16,
    "start_time": "2022-08-20T21:04:31.728Z"
   },
   {
    "duration": 16,
    "start_time": "2022-08-20T21:04:32.069Z"
   },
   {
    "duration": 15,
    "start_time": "2022-08-20T21:04:32.417Z"
   },
   {
    "duration": 14,
    "start_time": "2022-08-20T21:04:32.717Z"
   },
   {
    "duration": 189,
    "start_time": "2022-08-20T21:04:34.290Z"
   },
   {
    "duration": 233,
    "start_time": "2022-08-20T21:04:36.214Z"
   },
   {
    "duration": 59,
    "start_time": "2022-08-20T21:04:44.851Z"
   },
   {
    "duration": 62,
    "start_time": "2022-08-20T21:04:55.826Z"
   },
   {
    "duration": 65,
    "start_time": "2022-08-20T21:05:10.416Z"
   },
   {
    "duration": 47,
    "start_time": "2022-08-20T21:05:59.918Z"
   },
   {
    "duration": 101,
    "start_time": "2022-08-20T21:06:09.172Z"
   },
   {
    "duration": 14,
    "start_time": "2022-08-20T21:06:14.789Z"
   },
   {
    "duration": 879,
    "start_time": "2022-08-20T21:06:20.445Z"
   },
   {
    "duration": 2,
    "start_time": "2022-08-20T21:06:55.015Z"
   },
   {
    "duration": 19,
    "start_time": "2022-08-20T21:07:08.660Z"
   },
   {
    "duration": 9,
    "start_time": "2022-08-20T21:07:35.723Z"
   },
   {
    "duration": 27,
    "start_time": "2022-08-20T21:07:42.798Z"
   },
   {
    "duration": 24,
    "start_time": "2022-08-20T21:08:47.916Z"
   },
   {
    "duration": 10,
    "start_time": "2022-08-20T21:09:21.456Z"
   },
   {
    "duration": 25,
    "start_time": "2022-08-20T21:09:37.325Z"
   },
   {
    "duration": 16,
    "start_time": "2022-08-20T21:09:50.125Z"
   },
   {
    "duration": 19,
    "start_time": "2022-08-20T21:10:12.803Z"
   },
   {
    "duration": 180,
    "start_time": "2022-08-20T21:10:28.195Z"
   },
   {
    "duration": 61,
    "start_time": "2022-08-20T21:18:14.692Z"
   },
   {
    "duration": 59,
    "start_time": "2022-08-20T21:19:22.376Z"
   },
   {
    "duration": 47,
    "start_time": "2022-08-20T21:19:57.718Z"
   },
   {
    "duration": 14,
    "start_time": "2022-08-20T21:21:38.287Z"
   },
   {
    "duration": 13,
    "start_time": "2022-08-20T21:21:49.919Z"
   },
   {
    "duration": 84,
    "start_time": "2022-08-20T21:23:52.833Z"
   },
   {
    "duration": 13,
    "start_time": "2022-08-20T21:24:37.119Z"
   },
   {
    "duration": 56,
    "start_time": "2022-08-20T21:27:15.287Z"
   },
   {
    "duration": 16,
    "start_time": "2022-08-20T21:27:52.900Z"
   },
   {
    "duration": 155,
    "start_time": "2022-08-20T21:27:58.515Z"
   },
   {
    "duration": 225,
    "start_time": "2022-08-20T21:28:09.320Z"
   },
   {
    "duration": 129,
    "start_time": "2022-08-20T21:28:21.459Z"
   },
   {
    "duration": 163,
    "start_time": "2022-08-20T21:28:53.551Z"
   },
   {
    "duration": 17,
    "start_time": "2022-08-20T21:30:16.999Z"
   },
   {
    "duration": 15,
    "start_time": "2022-08-20T21:30:30.152Z"
   },
   {
    "duration": 18,
    "start_time": "2022-08-20T21:45:17.879Z"
   },
   {
    "duration": 170,
    "start_time": "2022-08-20T21:45:47.813Z"
   },
   {
    "duration": 355,
    "start_time": "2022-08-20T21:46:03.587Z"
   },
   {
    "duration": 914,
    "start_time": "2022-08-20T21:46:17.482Z"
   },
   {
    "duration": 337,
    "start_time": "2022-08-20T21:46:26.592Z"
   },
   {
    "duration": 488,
    "start_time": "2022-08-20T21:46:31.813Z"
   },
   {
    "duration": 575,
    "start_time": "2022-08-20T21:46:59.334Z"
   },
   {
    "duration": 780,
    "start_time": "2022-08-20T21:47:16.898Z"
   },
   {
    "duration": 21,
    "start_time": "2022-08-20T21:47:37.702Z"
   },
   {
    "duration": 8,
    "start_time": "2022-08-20T21:50:49.149Z"
   },
   {
    "duration": 11,
    "start_time": "2022-08-20T21:50:54.953Z"
   },
   {
    "duration": 792,
    "start_time": "2022-08-20T21:50:56.201Z"
   },
   {
    "duration": 12,
    "start_time": "2022-08-20T21:51:55.183Z"
   },
   {
    "duration": 904,
    "start_time": "2022-08-20T21:51:58.846Z"
   },
   {
    "duration": 18,
    "start_time": "2022-08-20T21:52:43.626Z"
   },
   {
    "duration": 727,
    "start_time": "2022-08-20T21:52:54.247Z"
   },
   {
    "duration": 16,
    "start_time": "2022-08-20T21:53:01.320Z"
   },
   {
    "duration": 772,
    "start_time": "2022-08-20T21:53:07.963Z"
   },
   {
    "duration": 1235,
    "start_time": "2022-08-20T21:54:15.198Z"
   },
   {
    "duration": 1350,
    "start_time": "2022-08-20T21:54:57.952Z"
   },
   {
    "duration": 2092,
    "start_time": "2022-08-20T21:56:01.889Z"
   },
   {
    "duration": 2032,
    "start_time": "2022-08-20T21:56:19.294Z"
   },
   {
    "duration": 1721,
    "start_time": "2022-08-20T21:56:28.880Z"
   },
   {
    "duration": 2048,
    "start_time": "2022-08-20T21:56:48.739Z"
   },
   {
    "duration": 11,
    "start_time": "2022-08-20T21:57:27.479Z"
   },
   {
    "duration": 2316,
    "start_time": "2022-08-20T21:57:39.487Z"
   },
   {
    "duration": 2712,
    "start_time": "2022-08-20T21:58:01.777Z"
   },
   {
    "duration": 75,
    "start_time": "2022-08-21T07:17:26.579Z"
   },
   {
    "duration": 1622,
    "start_time": "2022-08-21T07:17:32.548Z"
   },
   {
    "duration": 10,
    "start_time": "2022-08-21T07:17:34.934Z"
   },
   {
    "duration": 10,
    "start_time": "2022-08-21T07:17:36.371Z"
   },
   {
    "duration": 15,
    "start_time": "2022-08-21T07:17:37.234Z"
   },
   {
    "duration": 194,
    "start_time": "2022-08-21T07:17:37.868Z"
   },
   {
    "duration": 2247,
    "start_time": "2022-08-21T07:17:38.966Z"
   },
   {
    "duration": 7,
    "start_time": "2022-08-21T07:17:41.215Z"
   },
   {
    "duration": 4342,
    "start_time": "2022-08-21T07:17:41.224Z"
   },
   {
    "duration": 3,
    "start_time": "2022-08-21T07:17:45.568Z"
   },
   {
    "duration": 31,
    "start_time": "2022-08-21T07:17:45.573Z"
   },
   {
    "duration": 195,
    "start_time": "2022-08-21T07:17:45.607Z"
   },
   {
    "duration": 166,
    "start_time": "2022-08-21T07:18:35.506Z"
   },
   {
    "duration": 77,
    "start_time": "2022-08-21T07:18:41.504Z"
   },
   {
    "duration": 10,
    "start_time": "2022-08-21T07:20:00.316Z"
   },
   {
    "duration": 239,
    "start_time": "2022-08-21T07:20:05.463Z"
   },
   {
    "duration": 23,
    "start_time": "2022-08-21T07:20:29.652Z"
   },
   {
    "duration": 14,
    "start_time": "2022-08-21T07:20:42.021Z"
   },
   {
    "duration": 104,
    "start_time": "2022-08-21T07:21:29.440Z"
   },
   {
    "duration": 17,
    "start_time": "2022-08-21T07:21:33.828Z"
   },
   {
    "duration": 15,
    "start_time": "2022-08-21T07:21:39.847Z"
   },
   {
    "duration": 25,
    "start_time": "2022-08-21T07:22:05.003Z"
   },
   {
    "duration": 21,
    "start_time": "2022-08-21T07:22:37.338Z"
   },
   {
    "duration": 90,
    "start_time": "2022-08-21T07:23:27.428Z"
   },
   {
    "duration": 12,
    "start_time": "2022-08-21T07:23:38.142Z"
   },
   {
    "duration": 9,
    "start_time": "2022-08-21T07:24:13.356Z"
   },
   {
    "duration": 29,
    "start_time": "2022-08-21T07:27:02.988Z"
   },
   {
    "duration": 116,
    "start_time": "2022-08-21T07:27:20.568Z"
   },
   {
    "duration": 100,
    "start_time": "2022-08-21T07:27:27.633Z"
   },
   {
    "duration": 23,
    "start_time": "2022-08-21T07:27:32.455Z"
   },
   {
    "duration": 15,
    "start_time": "2022-08-21T07:27:42.311Z"
   },
   {
    "duration": 881,
    "start_time": "2022-08-21T07:27:52.586Z"
   },
   {
    "duration": 508,
    "start_time": "2022-08-21T07:28:23.764Z"
   },
   {
    "duration": 21,
    "start_time": "2022-08-21T07:28:53.831Z"
   },
   {
    "duration": 120,
    "start_time": "2022-08-21T07:30:22.726Z"
   },
   {
    "duration": 35,
    "start_time": "2022-08-21T07:30:26.618Z"
   },
   {
    "duration": 9,
    "start_time": "2022-08-21T07:30:44.624Z"
   },
   {
    "duration": 44,
    "start_time": "2022-08-21T07:32:21.975Z"
   },
   {
    "duration": 35,
    "start_time": "2022-08-21T07:33:15.004Z"
   },
   {
    "duration": 10,
    "start_time": "2022-08-21T07:33:22.306Z"
   },
   {
    "duration": 39,
    "start_time": "2022-08-21T07:33:36.564Z"
   },
   {
    "duration": 36,
    "start_time": "2022-08-21T07:34:15.054Z"
   },
   {
    "duration": 27,
    "start_time": "2022-08-21T07:34:43.420Z"
   },
   {
    "duration": 258,
    "start_time": "2022-08-21T07:35:03.618Z"
   },
   {
    "duration": 193,
    "start_time": "2022-08-21T07:38:01.423Z"
   },
   {
    "duration": 85,
    "start_time": "2022-08-21T07:38:18.372Z"
   },
   {
    "duration": 85,
    "start_time": "2022-08-21T07:38:36.567Z"
   },
   {
    "duration": 211,
    "start_time": "2022-08-21T07:40:07.825Z"
   },
   {
    "duration": 1237,
    "start_time": "2022-08-21T09:32:02.288Z"
   },
   {
    "duration": 7,
    "start_time": "2022-08-21T09:32:03.527Z"
   },
   {
    "duration": 8,
    "start_time": "2022-08-21T09:32:03.536Z"
   },
   {
    "duration": 14,
    "start_time": "2022-08-21T09:32:03.546Z"
   },
   {
    "duration": 117,
    "start_time": "2022-08-21T09:32:03.561Z"
   },
   {
    "duration": 1826,
    "start_time": "2022-08-21T09:32:03.680Z"
   },
   {
    "duration": 6,
    "start_time": "2022-08-21T09:32:05.507Z"
   },
   {
    "duration": 3188,
    "start_time": "2022-08-21T09:32:05.515Z"
   },
   {
    "duration": 3,
    "start_time": "2022-08-21T09:32:08.706Z"
   },
   {
    "duration": 23,
    "start_time": "2022-08-21T09:32:08.711Z"
   },
   {
    "duration": 142,
    "start_time": "2022-08-21T09:32:08.736Z"
   },
   {
    "duration": 11,
    "start_time": "2022-08-21T09:32:08.880Z"
   },
   {
    "duration": 335,
    "start_time": "2022-08-21T09:32:08.892Z"
   },
   {
    "duration": 271,
    "start_time": "2022-08-21T09:32:09.228Z"
   },
   {
    "duration": 17,
    "start_time": "2022-08-21T09:32:09.501Z"
   },
   {
    "duration": 15,
    "start_time": "2022-08-21T09:32:09.520Z"
   },
   {
    "duration": 12,
    "start_time": "2022-08-21T09:32:09.536Z"
   },
   {
    "duration": 140,
    "start_time": "2022-08-21T09:32:09.549Z"
   },
   {
    "duration": 29,
    "start_time": "2022-08-21T09:32:09.691Z"
   },
   {
    "duration": 23,
    "start_time": "2022-08-21T09:32:09.722Z"
   },
   {
    "duration": 193,
    "start_time": "2022-08-21T09:32:09.747Z"
   },
   {
    "duration": 13,
    "start_time": "2022-08-21T09:32:09.941Z"
   },
   {
    "duration": 12,
    "start_time": "2022-08-21T09:32:09.955Z"
   },
   {
    "duration": 12,
    "start_time": "2022-08-21T09:32:09.968Z"
   },
   {
    "duration": 37,
    "start_time": "2022-08-21T09:32:09.982Z"
   },
   {
    "duration": 13,
    "start_time": "2022-08-21T09:32:10.020Z"
   },
   {
    "duration": 13,
    "start_time": "2022-08-21T09:32:10.035Z"
   },
   {
    "duration": 156,
    "start_time": "2022-08-21T09:32:10.062Z"
   },
   {
    "duration": 178,
    "start_time": "2022-08-21T09:32:10.220Z"
   },
   {
    "duration": 65,
    "start_time": "2022-08-21T09:32:10.405Z"
   },
   {
    "duration": 16,
    "start_time": "2022-08-21T09:32:10.471Z"
   },
   {
    "duration": 2237,
    "start_time": "2022-08-21T09:32:10.488Z"
   },
   {
    "duration": 17,
    "start_time": "2022-08-21T09:35:25.603Z"
   },
   {
    "duration": 19,
    "start_time": "2022-08-21T09:35:39.324Z"
   },
   {
    "duration": 180,
    "start_time": "2022-08-21T09:35:42.663Z"
   },
   {
    "duration": 14,
    "start_time": "2022-08-21T09:36:54.229Z"
   },
   {
    "duration": 46,
    "start_time": "2022-08-21T10:58:04.915Z"
   },
   {
    "duration": 1274,
    "start_time": "2022-08-21T10:58:07.114Z"
   },
   {
    "duration": 716,
    "start_time": "2022-08-21T10:58:10.931Z"
   },
   {
    "duration": 152,
    "start_time": "2022-08-21T10:58:50.292Z"
   },
   {
    "duration": 107,
    "start_time": "2022-08-21T10:59:04.129Z"
   },
   {
    "duration": 117,
    "start_time": "2022-08-21T10:59:19.978Z"
   },
   {
    "duration": 121,
    "start_time": "2022-08-21T10:59:31.691Z"
   },
   {
    "duration": 105,
    "start_time": "2022-08-21T10:59:44.663Z"
   },
   {
    "duration": 100,
    "start_time": "2022-08-21T11:00:01.697Z"
   },
   {
    "duration": 43,
    "start_time": "2022-08-21T17:22:28.581Z"
   },
   {
    "duration": 1195,
    "start_time": "2022-08-21T17:22:33.537Z"
   },
   {
    "duration": 357,
    "start_time": "2022-08-21T17:22:37.521Z"
   },
   {
    "duration": 95,
    "start_time": "2022-08-21T17:22:44.491Z"
   },
   {
    "duration": 81,
    "start_time": "2022-08-21T17:22:45.168Z"
   },
   {
    "duration": 10,
    "start_time": "2022-08-21T17:22:49.039Z"
   },
   {
    "duration": 1820,
    "start_time": "2022-08-21T17:22:50.858Z"
   },
   {
    "duration": 45,
    "start_time": "2022-08-21T17:27:36.805Z"
   },
   {
    "duration": 61,
    "start_time": "2022-08-21T17:30:25.192Z"
   },
   {
    "duration": 3,
    "start_time": "2022-08-21T17:32:05.594Z"
   },
   {
    "duration": 3,
    "start_time": "2022-08-21T17:32:24.291Z"
   },
   {
    "duration": 3,
    "start_time": "2022-08-21T17:32:34.492Z"
   },
   {
    "duration": 70,
    "start_time": "2022-08-21T17:35:05.000Z"
   },
   {
    "duration": 10,
    "start_time": "2022-08-21T17:36:45.376Z"
   },
   {
    "duration": 11,
    "start_time": "2022-08-21T17:36:50.204Z"
   },
   {
    "duration": 24,
    "start_time": "2022-08-21T17:37:24.549Z"
   },
   {
    "duration": 21,
    "start_time": "2022-08-21T17:37:32.289Z"
   },
   {
    "duration": 20,
    "start_time": "2022-08-21T17:38:47.505Z"
   },
   {
    "duration": 22,
    "start_time": "2022-08-21T17:38:55.763Z"
   },
   {
    "duration": 6,
    "start_time": "2022-08-21T17:41:34.559Z"
   },
   {
    "duration": 6,
    "start_time": "2022-08-21T17:41:39.936Z"
   },
   {
    "duration": 6,
    "start_time": "2022-08-21T17:41:50.172Z"
   },
   {
    "duration": 7,
    "start_time": "2022-08-21T17:42:12.290Z"
   },
   {
    "duration": 7,
    "start_time": "2022-08-21T17:44:01.555Z"
   },
   {
    "duration": 7,
    "start_time": "2022-08-21T17:44:29.774Z"
   },
   {
    "duration": 8,
    "start_time": "2022-08-21T17:44:39.225Z"
   },
   {
    "duration": 8,
    "start_time": "2022-08-21T17:44:46.326Z"
   },
   {
    "duration": 13,
    "start_time": "2022-08-21T17:45:14.500Z"
   },
   {
    "duration": 6,
    "start_time": "2022-08-21T17:45:32.661Z"
   },
   {
    "duration": 1291,
    "start_time": "2022-08-21T19:55:34.312Z"
   },
   {
    "duration": 170,
    "start_time": "2022-08-21T19:55:35.605Z"
   },
   {
    "duration": 3,
    "start_time": "2022-08-21T19:55:35.777Z"
   },
   {
    "duration": 11,
    "start_time": "2022-08-21T19:55:37.303Z"
   },
   {
    "duration": 2156,
    "start_time": "2022-08-21T19:55:37.701Z"
   },
   {
    "duration": 14,
    "start_time": "2022-08-21T19:55:42.077Z"
   },
   {
    "duration": 14,
    "start_time": "2022-08-21T19:55:43.457Z"
   },
   {
    "duration": 121,
    "start_time": "2022-08-21T19:55:44.143Z"
   },
   {
    "duration": 32,
    "start_time": "2022-08-21T19:55:47.944Z"
   },
   {
    "duration": 2080,
    "start_time": "2022-08-21T19:55:51.725Z"
   },
   {
    "duration": 7,
    "start_time": "2022-08-21T19:55:53.807Z"
   },
   {
    "duration": 5,
    "start_time": "2022-08-21T19:56:42.985Z"
   },
   {
    "duration": 11,
    "start_time": "2022-08-21T19:56:47.897Z"
   },
   {
    "duration": 5,
    "start_time": "2022-08-21T19:56:49.120Z"
   },
   {
    "duration": 6,
    "start_time": "2022-08-21T19:57:03.012Z"
   },
   {
    "duration": 6,
    "start_time": "2022-08-21T19:59:10.901Z"
   },
   {
    "duration": 5,
    "start_time": "2022-08-21T19:59:15.624Z"
   },
   {
    "duration": 5,
    "start_time": "2022-08-21T20:00:17.908Z"
   },
   {
    "duration": 107,
    "start_time": "2022-08-21T20:04:53.421Z"
   },
   {
    "duration": 12,
    "start_time": "2022-08-21T20:05:06.235Z"
   },
   {
    "duration": 27,
    "start_time": "2022-08-21T20:09:54.300Z"
   },
   {
    "duration": 26,
    "start_time": "2022-08-21T20:10:07.087Z"
   },
   {
    "duration": 23,
    "start_time": "2022-08-21T20:13:22.726Z"
   },
   {
    "duration": 27,
    "start_time": "2022-08-21T20:13:28.052Z"
   },
   {
    "duration": 22,
    "start_time": "2022-08-21T20:13:30.901Z"
   },
   {
    "duration": 17,
    "start_time": "2022-08-21T20:14:20.812Z"
   },
   {
    "duration": 73,
    "start_time": "2022-08-21T20:21:32.930Z"
   },
   {
    "duration": 74,
    "start_time": "2022-08-21T20:21:42.960Z"
   },
   {
    "duration": 14,
    "start_time": "2022-08-21T20:22:27.374Z"
   },
   {
    "duration": 1995,
    "start_time": "2022-08-21T20:23:02.912Z"
   },
   {
    "duration": 46,
    "start_time": "2022-08-22T07:03:28.418Z"
   },
   {
    "duration": 1308,
    "start_time": "2022-08-22T07:03:36.968Z"
   },
   {
    "duration": 169,
    "start_time": "2022-08-22T07:03:38.278Z"
   },
   {
    "duration": 3,
    "start_time": "2022-08-22T07:03:38.449Z"
   },
   {
    "duration": 12,
    "start_time": "2022-08-22T07:03:40.266Z"
   },
   {
    "duration": 1954,
    "start_time": "2022-08-22T07:03:40.606Z"
   },
   {
    "duration": 10,
    "start_time": "2022-08-22T07:03:42.727Z"
   },
   {
    "duration": 14,
    "start_time": "2022-08-22T07:03:43.634Z"
   },
   {
    "duration": 130,
    "start_time": "2022-08-22T07:03:44.197Z"
   },
   {
    "duration": 26,
    "start_time": "2022-08-22T07:03:45.527Z"
   },
   {
    "duration": 4577,
    "start_time": "2022-08-22T07:03:46.705Z"
   },
   {
    "duration": 6,
    "start_time": "2022-08-22T07:04:37.814Z"
   },
   {
    "duration": 4527,
    "start_time": "2022-08-22T07:04:47.456Z"
   },
   {
    "duration": 6,
    "start_time": "2022-08-22T07:05:43.467Z"
   },
   {
    "duration": 58,
    "start_time": "2022-08-22T07:07:50.856Z"
   },
   {
    "duration": 10,
    "start_time": "2022-08-22T07:08:02.879Z"
   },
   {
    "duration": 451,
    "start_time": "2022-08-22T07:11:08.278Z"
   },
   {
    "duration": 324,
    "start_time": "2022-08-22T07:11:34.879Z"
   },
   {
    "duration": 329,
    "start_time": "2022-08-22T07:12:13.127Z"
   },
   {
    "duration": 299,
    "start_time": "2022-08-22T07:12:19.369Z"
   },
   {
    "duration": 5,
    "start_time": "2022-08-22T07:13:07.897Z"
   },
   {
    "duration": 8,
    "start_time": "2022-08-22T07:13:29.715Z"
   },
   {
    "duration": 2,
    "start_time": "2022-08-22T07:14:04.475Z"
   },
   {
    "duration": 92,
    "start_time": "2022-08-22T07:14:05.426Z"
   },
   {
    "duration": 4,
    "start_time": "2022-08-22T07:14:06.186Z"
   },
   {
    "duration": 9,
    "start_time": "2022-08-22T07:14:07.346Z"
   },
   {
    "duration": 1670,
    "start_time": "2022-08-22T07:14:08.126Z"
   },
   {
    "duration": 8,
    "start_time": "2022-08-22T07:14:12.708Z"
   },
   {
    "duration": 17,
    "start_time": "2022-08-22T07:14:14.027Z"
   },
   {
    "duration": 182,
    "start_time": "2022-08-22T07:14:14.377Z"
   },
   {
    "duration": 22,
    "start_time": "2022-08-22T07:14:15.478Z"
   },
   {
    "duration": 7,
    "start_time": "2022-08-22T07:14:16.666Z"
   },
   {
    "duration": 7,
    "start_time": "2022-08-22T07:14:38.446Z"
   },
   {
    "duration": 6,
    "start_time": "2022-08-22T07:15:05.777Z"
   },
   {
    "duration": 8,
    "start_time": "2022-08-22T07:15:16.228Z"
   },
   {
    "duration": 104,
    "start_time": "2022-08-22T07:15:19.983Z"
   },
   {
    "duration": 23,
    "start_time": "2022-08-22T07:15:21.176Z"
   },
   {
    "duration": 6,
    "start_time": "2022-08-22T07:15:22.827Z"
   },
   {
    "duration": 4636,
    "start_time": "2022-08-22T07:15:25.486Z"
   },
   {
    "duration": 7,
    "start_time": "2022-08-22T07:15:52.358Z"
   },
   {
    "duration": 4593,
    "start_time": "2022-08-22T07:15:56.436Z"
   },
   {
    "duration": 3,
    "start_time": "2022-08-22T07:26:10.297Z"
   },
   {
    "duration": 88,
    "start_time": "2022-08-22T07:26:10.836Z"
   },
   {
    "duration": 4,
    "start_time": "2022-08-22T07:26:11.416Z"
   },
   {
    "duration": 9,
    "start_time": "2022-08-22T07:27:34.806Z"
   },
   {
    "duration": 3,
    "start_time": "2022-08-22T07:27:44.545Z"
   },
   {
    "duration": 3,
    "start_time": "2022-08-22T07:27:54.137Z"
   },
   {
    "duration": 9,
    "start_time": "2022-08-22T07:28:01.469Z"
   },
   {
    "duration": 3,
    "start_time": "2022-08-22T07:28:13.099Z"
   },
   {
    "duration": 3,
    "start_time": "2022-08-22T07:28:29.537Z"
   },
   {
    "duration": 91,
    "start_time": "2022-08-22T07:29:08.977Z"
   },
   {
    "duration": 88,
    "start_time": "2022-08-22T07:29:25.307Z"
   },
   {
    "duration": 92,
    "start_time": "2022-08-22T07:29:30.036Z"
   },
   {
    "duration": 7,
    "start_time": "2022-08-22T07:31:39.355Z"
   },
   {
    "duration": 9,
    "start_time": "2022-08-22T07:32:00.937Z"
   },
   {
    "duration": 9,
    "start_time": "2022-08-22T07:32:08.637Z"
   },
   {
    "duration": 5321,
    "start_time": "2022-08-22T07:32:30.517Z"
   },
   {
    "duration": 212,
    "start_time": "2022-08-22T07:36:07.706Z"
   },
   {
    "duration": 4,
    "start_time": "2022-08-22T07:36:55.117Z"
   },
   {
    "duration": 7,
    "start_time": "2022-08-22T07:37:03.714Z"
   },
   {
    "duration": 3,
    "start_time": "2022-08-22T07:37:12.816Z"
   },
   {
    "duration": 88,
    "start_time": "2022-08-22T07:37:13.365Z"
   },
   {
    "duration": 8,
    "start_time": "2022-08-22T07:37:14.736Z"
   },
   {
    "duration": 1944,
    "start_time": "2022-08-22T07:37:15.170Z"
   },
   {
    "duration": 9,
    "start_time": "2022-08-22T07:37:18.268Z"
   },
   {
    "duration": 12,
    "start_time": "2022-08-22T07:37:19.566Z"
   },
   {
    "duration": 241,
    "start_time": "2022-08-22T07:37:20.436Z"
   },
   {
    "duration": 23,
    "start_time": "2022-08-22T07:37:21.266Z"
   },
   {
    "duration": 6,
    "start_time": "2022-08-22T07:37:22.856Z"
   },
   {
    "duration": 4724,
    "start_time": "2022-08-22T07:37:34.545Z"
   },
   {
    "duration": 2,
    "start_time": "2022-08-22T07:42:35.247Z"
   },
   {
    "duration": 2,
    "start_time": "2022-08-22T07:42:36.296Z"
   },
   {
    "duration": 11,
    "start_time": "2022-08-22T07:42:38.306Z"
   },
   {
    "duration": 4,
    "start_time": "2022-08-22T07:42:56.657Z"
   },
   {
    "duration": 5,
    "start_time": "2022-08-22T07:43:00.135Z"
   },
   {
    "duration": 5,
    "start_time": "2022-08-22T07:43:04.156Z"
   },
   {
    "duration": 4,
    "start_time": "2022-08-22T08:09:42.410Z"
   },
   {
    "duration": 5,
    "start_time": "2022-08-22T08:09:56.768Z"
   },
   {
    "duration": 4,
    "start_time": "2022-08-22T08:10:02.748Z"
   },
   {
    "duration": 4,
    "start_time": "2022-08-22T08:10:09.858Z"
   },
   {
    "duration": 9,
    "start_time": "2022-08-22T08:10:32.760Z"
   },
   {
    "duration": 8,
    "start_time": "2022-08-22T08:11:19.198Z"
   },
   {
    "duration": 7,
    "start_time": "2022-08-22T08:11:26.398Z"
   },
   {
    "duration": 7,
    "start_time": "2022-08-22T08:11:38.709Z"
   },
   {
    "duration": 8,
    "start_time": "2022-08-22T08:11:42.307Z"
   },
   {
    "duration": 6,
    "start_time": "2022-08-22T08:12:01.487Z"
   },
   {
    "duration": 9,
    "start_time": "2022-08-22T08:12:14.108Z"
   },
   {
    "duration": 7,
    "start_time": "2022-08-22T08:12:45.416Z"
   },
   {
    "duration": 9,
    "start_time": "2022-08-22T08:13:16.516Z"
   },
   {
    "duration": 5,
    "start_time": "2022-08-22T08:16:44.158Z"
   },
   {
    "duration": 7,
    "start_time": "2022-08-22T08:16:52.608Z"
   },
   {
    "duration": 6,
    "start_time": "2022-08-22T08:16:56.605Z"
   },
   {
    "duration": 8,
    "start_time": "2022-08-22T08:17:01.278Z"
   },
   {
    "duration": 8,
    "start_time": "2022-08-22T08:17:07.740Z"
   },
   {
    "duration": 8,
    "start_time": "2022-08-22T08:17:12.558Z"
   },
   {
    "duration": 7,
    "start_time": "2022-08-22T08:17:16.298Z"
   },
   {
    "duration": 7,
    "start_time": "2022-08-22T08:17:22.860Z"
   },
   {
    "duration": 10,
    "start_time": "2022-08-22T08:17:36.009Z"
   },
   {
    "duration": 1129,
    "start_time": "2022-08-22T12:17:27.380Z"
   },
   {
    "duration": 159,
    "start_time": "2022-08-22T12:17:28.510Z"
   },
   {
    "duration": 9,
    "start_time": "2022-08-22T12:17:30.421Z"
   },
   {
    "duration": 1629,
    "start_time": "2022-08-22T12:17:31.016Z"
   },
   {
    "duration": 8,
    "start_time": "2022-08-22T12:17:32.898Z"
   },
   {
    "duration": 11,
    "start_time": "2022-08-22T12:17:33.385Z"
   },
   {
    "duration": 87,
    "start_time": "2022-08-22T12:17:33.587Z"
   },
   {
    "duration": 23,
    "start_time": "2022-08-22T12:17:34.039Z"
   },
   {
    "duration": 7,
    "start_time": "2022-08-22T12:17:34.799Z"
   },
   {
    "duration": 4136,
    "start_time": "2022-08-22T12:17:35.205Z"
   },
   {
    "duration": 2,
    "start_time": "2022-08-22T12:17:39.343Z"
   },
   {
    "duration": 19,
    "start_time": "2022-08-22T12:17:39.346Z"
   },
   {
    "duration": 3,
    "start_time": "2022-08-22T12:17:39.367Z"
   },
   {
    "duration": 6,
    "start_time": "2022-08-22T12:17:39.371Z"
   },
   {
    "duration": 8,
    "start_time": "2022-08-22T12:17:40.895Z"
   },
   {
    "duration": 8,
    "start_time": "2022-08-22T12:17:41.355Z"
   },
   {
    "duration": 6,
    "start_time": "2022-08-22T12:17:41.689Z"
   },
   {
    "duration": 7,
    "start_time": "2022-08-22T12:17:42.038Z"
   },
   {
    "duration": 8,
    "start_time": "2022-08-22T12:17:42.434Z"
   },
   {
    "duration": 116,
    "start_time": "2022-08-22T12:17:43.949Z"
   },
   {
    "duration": 11,
    "start_time": "2022-08-22T12:17:44.627Z"
   },
   {
    "duration": 281,
    "start_time": "2022-08-22T12:17:47.056Z"
   },
   {
    "duration": 9,
    "start_time": "2022-08-22T12:19:02.720Z"
   },
   {
    "duration": 10,
    "start_time": "2022-08-22T12:19:12.879Z"
   },
   {
    "duration": 10,
    "start_time": "2022-08-22T12:19:44.950Z"
   },
   {
    "duration": 89,
    "start_time": "2022-08-22T12:20:17.426Z"
   },
   {
    "duration": 4,
    "start_time": "2022-08-22T12:20:30.441Z"
   },
   {
    "duration": 7,
    "start_time": "2022-08-22T12:31:08.455Z"
   },
   {
    "duration": 16,
    "start_time": "2022-08-22T12:31:13.125Z"
   },
   {
    "duration": 11,
    "start_time": "2022-08-22T12:31:19.938Z"
   },
   {
    "duration": 16,
    "start_time": "2022-08-22T12:31:42.377Z"
   },
   {
    "duration": 14,
    "start_time": "2022-08-22T12:31:48.005Z"
   },
   {
    "duration": 20,
    "start_time": "2022-08-22T12:32:05.098Z"
   },
   {
    "duration": 23,
    "start_time": "2022-08-22T12:36:09.367Z"
   },
   {
    "duration": 8,
    "start_time": "2022-08-22T12:36:52.627Z"
   },
   {
    "duration": 23,
    "start_time": "2022-08-22T12:37:44.378Z"
   },
   {
    "duration": 630,
    "start_time": "2022-08-22T12:37:48.635Z"
   },
   {
    "duration": 23,
    "start_time": "2022-08-22T12:37:56.787Z"
   },
   {
    "duration": 11,
    "start_time": "2022-08-22T12:39:09.926Z"
   },
   {
    "duration": 13,
    "start_time": "2022-08-22T12:39:31.526Z"
   },
   {
    "duration": 16,
    "start_time": "2022-08-22T12:40:01.415Z"
   },
   {
    "duration": 25,
    "start_time": "2022-08-22T12:40:20.985Z"
   },
   {
    "duration": 13,
    "start_time": "2022-08-22T12:52:13.515Z"
   },
   {
    "duration": 7,
    "start_time": "2022-08-22T12:52:46.187Z"
   },
   {
    "duration": 8,
    "start_time": "2022-08-22T12:53:57.606Z"
   },
   {
    "duration": 2,
    "start_time": "2022-08-22T12:54:03.213Z"
   },
   {
    "duration": 89,
    "start_time": "2022-08-22T12:54:05.961Z"
   },
   {
    "duration": 87,
    "start_time": "2022-08-22T12:54:08.733Z"
   },
   {
    "duration": 7,
    "start_time": "2022-08-22T12:54:15.091Z"
   },
   {
    "duration": 1654,
    "start_time": "2022-08-22T12:54:15.783Z"
   },
   {
    "duration": 7,
    "start_time": "2022-08-22T12:54:17.481Z"
   },
   {
    "duration": 12,
    "start_time": "2022-08-22T12:54:17.872Z"
   },
   {
    "duration": 89,
    "start_time": "2022-08-22T12:54:18.072Z"
   },
   {
    "duration": 24,
    "start_time": "2022-08-22T12:54:18.460Z"
   },
   {
    "duration": 16,
    "start_time": "2022-08-22T12:54:18.850Z"
   },
   {
    "duration": 6,
    "start_time": "2022-08-22T12:54:19.850Z"
   },
   {
    "duration": 4251,
    "start_time": "2022-08-22T12:54:20.091Z"
   },
   {
    "duration": 2,
    "start_time": "2022-08-22T12:54:24.344Z"
   },
   {
    "duration": 13,
    "start_time": "2022-08-22T12:54:24.347Z"
   },
   {
    "duration": 4,
    "start_time": "2022-08-22T12:54:25.129Z"
   },
   {
    "duration": 5,
    "start_time": "2022-08-22T12:54:25.350Z"
   },
   {
    "duration": 7,
    "start_time": "2022-08-22T12:54:26.592Z"
   },
   {
    "duration": 7,
    "start_time": "2022-08-22T12:54:26.790Z"
   },
   {
    "duration": 6,
    "start_time": "2022-08-22T12:54:27.096Z"
   },
   {
    "duration": 7,
    "start_time": "2022-08-22T12:54:27.480Z"
   },
   {
    "duration": 6,
    "start_time": "2022-08-22T12:54:27.831Z"
   },
   {
    "duration": 116,
    "start_time": "2022-08-22T12:54:29.080Z"
   },
   {
    "duration": 10,
    "start_time": "2022-08-22T12:54:31.523Z"
   },
   {
    "duration": 258,
    "start_time": "2022-08-22T12:54:45.203Z"
   },
   {
    "duration": 119,
    "start_time": "2022-08-22T12:55:03.281Z"
   },
   {
    "duration": 107,
    "start_time": "2022-08-22T12:56:09.613Z"
   },
   {
    "duration": 1808,
    "start_time": "2022-08-22T12:56:44.853Z"
   },
   {
    "duration": 1206,
    "start_time": "2022-08-22T12:56:56.263Z"
   },
   {
    "duration": 1394,
    "start_time": "2022-08-22T13:02:27.301Z"
   },
   {
    "duration": 3,
    "start_time": "2022-08-22T13:04:14.698Z"
   },
   {
    "duration": 97,
    "start_time": "2022-08-22T13:04:15.370Z"
   },
   {
    "duration": 11,
    "start_time": "2022-08-22T13:04:16.871Z"
   },
   {
    "duration": 1591,
    "start_time": "2022-08-22T13:04:17.760Z"
   },
   {
    "duration": 8,
    "start_time": "2022-08-22T13:04:20.622Z"
   },
   {
    "duration": 11,
    "start_time": "2022-08-22T13:04:21.670Z"
   },
   {
    "duration": 87,
    "start_time": "2022-08-22T13:04:21.930Z"
   },
   {
    "duration": 20,
    "start_time": "2022-08-22T13:04:22.392Z"
   },
   {
    "duration": 16,
    "start_time": "2022-08-22T13:04:22.890Z"
   },
   {
    "duration": 7,
    "start_time": "2022-08-22T13:04:23.770Z"
   },
   {
    "duration": 4230,
    "start_time": "2022-08-22T13:04:24.100Z"
   },
   {
    "duration": 2,
    "start_time": "2022-08-22T13:04:30.731Z"
   },
   {
    "duration": 11,
    "start_time": "2022-08-22T13:04:31.083Z"
   },
   {
    "duration": 4,
    "start_time": "2022-08-22T13:04:31.880Z"
   },
   {
    "duration": 5,
    "start_time": "2022-08-22T13:04:32.180Z"
   },
   {
    "duration": 7,
    "start_time": "2022-08-22T13:04:33.673Z"
   },
   {
    "duration": 7,
    "start_time": "2022-08-22T13:04:34.049Z"
   },
   {
    "duration": 6,
    "start_time": "2022-08-22T13:04:34.460Z"
   },
   {
    "duration": 7,
    "start_time": "2022-08-22T13:04:34.830Z"
   },
   {
    "duration": 7,
    "start_time": "2022-08-22T13:04:35.351Z"
   },
   {
    "duration": 118,
    "start_time": "2022-08-22T13:04:36.670Z"
   },
   {
    "duration": 120,
    "start_time": "2022-08-22T13:04:47.194Z"
   },
   {
    "duration": 221,
    "start_time": "2022-08-22T13:04:50.901Z"
   },
   {
    "duration": 118,
    "start_time": "2022-08-22T13:04:53.715Z"
   },
   {
    "duration": 10,
    "start_time": "2022-08-22T13:04:54.760Z"
   },
   {
    "duration": 281,
    "start_time": "2022-08-22T13:04:55.671Z"
   },
   {
    "duration": 6,
    "start_time": "2022-08-22T13:04:58.472Z"
   },
   {
    "duration": 5,
    "start_time": "2022-08-22T13:05:04.143Z"
   },
   {
    "duration": 248,
    "start_time": "2022-08-22T13:05:06.840Z"
   },
   {
    "duration": 13,
    "start_time": "2022-08-22T13:05:08.760Z"
   },
   {
    "duration": 12,
    "start_time": "2022-08-22T13:05:14.514Z"
   },
   {
    "duration": 14,
    "start_time": "2022-08-22T13:05:15.381Z"
   },
   {
    "duration": 120,
    "start_time": "2022-08-22T13:05:16.240Z"
   },
   {
    "duration": 5,
    "start_time": "2022-08-22T13:05:16.880Z"
   },
   {
    "duration": 15,
    "start_time": "2022-08-22T13:05:17.752Z"
   },
   {
    "duration": 13,
    "start_time": "2022-08-22T13:05:18.362Z"
   },
   {
    "duration": 114,
    "start_time": "2022-08-22T13:05:19.432Z"
   },
   {
    "duration": 13,
    "start_time": "2022-08-22T13:05:19.900Z"
   },
   {
    "duration": 13,
    "start_time": "2022-08-22T13:05:20.401Z"
   },
   {
    "duration": 13,
    "start_time": "2022-08-22T13:05:20.860Z"
   },
   {
    "duration": 12,
    "start_time": "2022-08-22T13:05:21.330Z"
   },
   {
    "duration": 12,
    "start_time": "2022-08-22T13:05:21.800Z"
   },
   {
    "duration": 12,
    "start_time": "2022-08-22T13:05:22.281Z"
   },
   {
    "duration": 124,
    "start_time": "2022-08-22T13:05:25.120Z"
   },
   {
    "duration": 139,
    "start_time": "2022-08-22T13:05:27.789Z"
   },
   {
    "duration": 60,
    "start_time": "2022-08-22T13:05:29.450Z"
   },
   {
    "duration": 14,
    "start_time": "2022-08-22T13:05:30.861Z"
   },
   {
    "duration": 2063,
    "start_time": "2022-08-22T13:05:31.490Z"
   },
   {
    "duration": 20,
    "start_time": "2022-08-22T13:05:36.913Z"
   },
   {
    "duration": 259,
    "start_time": "2022-08-22T13:05:38.280Z"
   },
   {
    "duration": 1677,
    "start_time": "2022-08-22T13:05:46.272Z"
   },
   {
    "duration": 1431,
    "start_time": "2022-08-22T13:06:33.250Z"
   },
   {
    "duration": 1674,
    "start_time": "2022-08-22T13:06:46.591Z"
   },
   {
    "duration": 1310,
    "start_time": "2022-08-22T13:06:59.801Z"
   },
   {
    "duration": 11,
    "start_time": "2022-08-22T13:07:36.030Z"
   },
   {
    "duration": 11,
    "start_time": "2022-08-22T13:08:05.893Z"
   },
   {
    "duration": 3,
    "start_time": "2022-08-22T13:08:34.203Z"
   },
   {
    "duration": 86,
    "start_time": "2022-08-22T13:08:34.218Z"
   },
   {
    "duration": 7,
    "start_time": "2022-08-22T13:08:34.306Z"
   },
   {
    "duration": 1524,
    "start_time": "2022-08-22T13:08:34.314Z"
   },
   {
    "duration": 8,
    "start_time": "2022-08-22T13:08:35.839Z"
   },
   {
    "duration": 19,
    "start_time": "2022-08-22T13:08:35.849Z"
   },
   {
    "duration": 99,
    "start_time": "2022-08-22T13:08:35.870Z"
   },
   {
    "duration": 23,
    "start_time": "2022-08-22T13:08:35.971Z"
   },
   {
    "duration": 15,
    "start_time": "2022-08-22T13:08:35.996Z"
   },
   {
    "duration": 6,
    "start_time": "2022-08-22T13:08:36.013Z"
   },
   {
    "duration": 4248,
    "start_time": "2022-08-22T13:08:36.021Z"
   },
   {
    "duration": 2,
    "start_time": "2022-08-22T13:08:40.270Z"
   },
   {
    "duration": 9,
    "start_time": "2022-08-22T13:08:40.274Z"
   },
   {
    "duration": 4,
    "start_time": "2022-08-22T13:08:40.284Z"
   },
   {
    "duration": 5,
    "start_time": "2022-08-22T13:08:40.290Z"
   },
   {
    "duration": 6,
    "start_time": "2022-08-22T13:08:40.296Z"
   },
   {
    "duration": 6,
    "start_time": "2022-08-22T13:08:40.303Z"
   },
   {
    "duration": 5,
    "start_time": "2022-08-22T13:08:40.310Z"
   },
   {
    "duration": 6,
    "start_time": "2022-08-22T13:08:40.316Z"
   },
   {
    "duration": 7,
    "start_time": "2022-08-22T13:08:40.358Z"
   },
   {
    "duration": 138,
    "start_time": "2022-08-22T13:08:40.366Z"
   },
   {
    "duration": 11,
    "start_time": "2022-08-22T13:08:40.505Z"
   },
   {
    "duration": 291,
    "start_time": "2022-08-22T13:08:40.517Z"
   },
   {
    "duration": 5,
    "start_time": "2022-08-22T13:08:40.809Z"
   },
   {
    "duration": 250,
    "start_time": "2022-08-22T13:08:40.815Z"
   },
   {
    "duration": 13,
    "start_time": "2022-08-22T13:08:41.067Z"
   },
   {
    "duration": 12,
    "start_time": "2022-08-22T13:08:41.082Z"
   },
   {
    "duration": 12,
    "start_time": "2022-08-22T13:08:41.095Z"
   },
   {
    "duration": 139,
    "start_time": "2022-08-22T13:08:41.109Z"
   },
   {
    "duration": 10,
    "start_time": "2022-08-22T13:08:41.250Z"
   },
   {
    "duration": 12,
    "start_time": "2022-08-22T13:08:41.261Z"
   },
   {
    "duration": 13,
    "start_time": "2022-08-22T13:08:41.274Z"
   },
   {
    "duration": 128,
    "start_time": "2022-08-22T13:08:41.288Z"
   },
   {
    "duration": 12,
    "start_time": "2022-08-22T13:08:41.418Z"
   },
   {
    "duration": 28,
    "start_time": "2022-08-22T13:08:41.432Z"
   },
   {
    "duration": 12,
    "start_time": "2022-08-22T13:08:41.461Z"
   },
   {
    "duration": 11,
    "start_time": "2022-08-22T13:08:41.474Z"
   },
   {
    "duration": 11,
    "start_time": "2022-08-22T13:08:41.486Z"
   },
   {
    "duration": 10,
    "start_time": "2022-08-22T13:08:41.498Z"
   },
   {
    "duration": 151,
    "start_time": "2022-08-22T13:08:41.510Z"
   },
   {
    "duration": 145,
    "start_time": "2022-08-22T13:08:41.662Z"
   },
   {
    "duration": 65,
    "start_time": "2022-08-22T13:08:41.811Z"
   },
   {
    "duration": 14,
    "start_time": "2022-08-22T13:08:41.878Z"
   },
   {
    "duration": 2106,
    "start_time": "2022-08-22T13:08:41.893Z"
   },
   {
    "duration": 15,
    "start_time": "2022-08-22T13:08:44.001Z"
   },
   {
    "duration": 0,
    "start_time": "2022-08-22T13:08:44.017Z"
   },
   {
    "duration": 96,
    "start_time": "2022-08-22T13:09:09.330Z"
   },
   {
    "duration": 20,
    "start_time": "2022-08-22T13:09:27.922Z"
   },
   {
    "duration": 1953,
    "start_time": "2022-08-22T13:09:40.150Z"
   },
   {
    "duration": 118,
    "start_time": "2022-08-22T13:09:48.179Z"
   },
   {
    "duration": 333,
    "start_time": "2022-08-22T13:10:45.620Z"
   },
   {
    "duration": 15,
    "start_time": "2022-08-22T13:11:14.651Z"
   },
   {
    "duration": 14,
    "start_time": "2022-08-22T13:11:34.949Z"
   },
   {
    "duration": 12,
    "start_time": "2022-08-22T13:11:45.749Z"
   },
   {
    "duration": 139,
    "start_time": "2022-08-22T13:12:37.200Z"
   },
   {
    "duration": 147,
    "start_time": "2022-08-22T13:13:21.760Z"
   },
   {
    "duration": 16,
    "start_time": "2022-08-22T13:13:26.918Z"
   },
   {
    "duration": 152,
    "start_time": "2022-08-22T13:13:27.959Z"
   },
   {
    "duration": 144,
    "start_time": "2022-08-22T13:14:02.899Z"
   },
   {
    "duration": 144,
    "start_time": "2022-08-22T13:16:31.999Z"
   },
   {
    "duration": 139,
    "start_time": "2022-08-22T13:16:51.837Z"
   },
   {
    "duration": 154,
    "start_time": "2022-08-22T13:17:00.829Z"
   },
   {
    "duration": 1413,
    "start_time": "2022-08-22T15:29:55.802Z"
   },
   {
    "duration": 177,
    "start_time": "2022-08-22T15:29:57.218Z"
   },
   {
    "duration": 11,
    "start_time": "2022-08-22T15:29:59.187Z"
   },
   {
    "duration": 2388,
    "start_time": "2022-08-22T15:30:00.307Z"
   },
   {
    "duration": 11,
    "start_time": "2022-08-22T15:30:03.263Z"
   },
   {
    "duration": 16,
    "start_time": "2022-08-22T15:30:04.162Z"
   },
   {
    "duration": 129,
    "start_time": "2022-08-22T15:30:04.488Z"
   },
   {
    "duration": 33,
    "start_time": "2022-08-22T15:30:05.361Z"
   },
   {
    "duration": 22,
    "start_time": "2022-08-22T15:30:06.369Z"
   },
   {
    "duration": 9,
    "start_time": "2022-08-22T15:30:07.774Z"
   },
   {
    "duration": 5977,
    "start_time": "2022-08-22T15:30:08.181Z"
   },
   {
    "duration": 2,
    "start_time": "2022-08-22T15:30:17.435Z"
   },
   {
    "duration": 16,
    "start_time": "2022-08-22T15:30:17.718Z"
   },
   {
    "duration": 5,
    "start_time": "2022-08-22T15:30:18.882Z"
   },
   {
    "duration": 10,
    "start_time": "2022-08-22T15:30:19.152Z"
   },
   {
    "duration": 12,
    "start_time": "2022-08-22T15:30:20.520Z"
   },
   {
    "duration": 8,
    "start_time": "2022-08-22T15:30:20.836Z"
   },
   {
    "duration": 7,
    "start_time": "2022-08-22T15:30:21.330Z"
   },
   {
    "duration": 10,
    "start_time": "2022-08-22T15:30:21.673Z"
   },
   {
    "duration": 18,
    "start_time": "2022-08-22T15:30:22.060Z"
   },
   {
    "duration": 158,
    "start_time": "2022-08-22T15:30:23.177Z"
   },
   {
    "duration": 13,
    "start_time": "2022-08-22T15:30:27.409Z"
   },
   {
    "duration": 388,
    "start_time": "2022-08-22T15:30:28.581Z"
   },
   {
    "duration": 9,
    "start_time": "2022-08-22T15:30:30.348Z"
   },
   {
    "duration": 394,
    "start_time": "2022-08-22T15:30:31.588Z"
   },
   {
    "duration": 17,
    "start_time": "2022-08-22T15:30:33.393Z"
   },
   {
    "duration": 16,
    "start_time": "2022-08-22T15:30:34.725Z"
   },
   {
    "duration": 16,
    "start_time": "2022-08-22T15:30:35.786Z"
   },
   {
    "duration": 200,
    "start_time": "2022-08-22T15:30:36.453Z"
   },
   {
    "duration": 5,
    "start_time": "2022-08-22T15:30:37.180Z"
   },
   {
    "duration": 20,
    "start_time": "2022-08-22T15:30:37.517Z"
   },
   {
    "duration": 21,
    "start_time": "2022-08-22T15:30:38.239Z"
   },
   {
    "duration": 205,
    "start_time": "2022-08-22T15:30:39.059Z"
   },
   {
    "duration": 14,
    "start_time": "2022-08-22T15:30:39.922Z"
   },
   {
    "duration": 17,
    "start_time": "2022-08-22T15:30:40.769Z"
   },
   {
    "duration": 15,
    "start_time": "2022-08-22T15:30:42.447Z"
   },
   {
    "duration": 16,
    "start_time": "2022-08-22T15:30:43.635Z"
   },
   {
    "duration": 22,
    "start_time": "2022-08-22T15:30:44.804Z"
   },
   {
    "duration": 16,
    "start_time": "2022-08-22T15:30:45.637Z"
   },
   {
    "duration": 172,
    "start_time": "2022-08-22T15:30:46.994Z"
   },
   {
    "duration": 289,
    "start_time": "2022-08-22T15:30:54.314Z"
   },
   {
    "duration": 82,
    "start_time": "2022-08-22T15:30:56.065Z"
   },
   {
    "duration": 19,
    "start_time": "2022-08-22T15:30:57.627Z"
   },
   {
    "duration": 2835,
    "start_time": "2022-08-22T15:30:58.387Z"
   },
   {
    "duration": 22,
    "start_time": "2022-08-22T15:31:01.787Z"
   },
   {
    "duration": 191,
    "start_time": "2022-08-22T15:31:02.515Z"
   },
   {
    "duration": 142,
    "start_time": "2022-08-22T15:45:39.915Z"
   },
   {
    "duration": 16,
    "start_time": "2022-08-22T15:51:08.108Z"
   },
   {
    "duration": 21,
    "start_time": "2022-08-22T15:51:49.087Z"
   },
   {
    "duration": 16,
    "start_time": "2022-08-22T15:52:05.691Z"
   },
   {
    "duration": 199,
    "start_time": "2022-08-22T15:52:46.159Z"
   },
   {
    "duration": 209,
    "start_time": "2022-08-22T15:53:06.118Z"
   },
   {
    "duration": 17,
    "start_time": "2022-08-22T15:53:31.469Z"
   },
   {
    "duration": 214,
    "start_time": "2022-08-22T15:53:39.027Z"
   },
   {
    "duration": 222,
    "start_time": "2022-08-22T15:54:32.325Z"
   },
   {
    "duration": 336,
    "start_time": "2022-08-22T15:55:52.890Z"
   },
   {
    "duration": 204,
    "start_time": "2022-08-22T15:56:03.063Z"
   },
   {
    "duration": 193,
    "start_time": "2022-08-22T15:56:09.531Z"
   },
   {
    "duration": 17,
    "start_time": "2022-08-22T15:56:11.458Z"
   },
   {
    "duration": 13,
    "start_time": "2022-08-22T15:56:15.649Z"
   },
   {
    "duration": 19,
    "start_time": "2022-08-22T15:56:18.146Z"
   },
   {
    "duration": 8,
    "start_time": "2022-08-22T16:34:14.698Z"
   },
   {
    "duration": 8,
    "start_time": "2022-08-22T16:34:44.721Z"
   },
   {
    "duration": 9,
    "start_time": "2022-08-22T16:39:53.153Z"
   },
   {
    "duration": 17,
    "start_time": "2022-08-22T16:40:31.331Z"
   },
   {
    "duration": 26,
    "start_time": "2022-08-22T16:41:12.257Z"
   },
   {
    "duration": 33,
    "start_time": "2022-08-22T16:41:37.408Z"
   },
   {
    "duration": 14,
    "start_time": "2022-08-22T16:42:33.985Z"
   },
   {
    "duration": 11,
    "start_time": "2022-08-22T16:43:42.736Z"
   },
   {
    "duration": 15,
    "start_time": "2022-08-22T16:44:03.116Z"
   },
   {
    "duration": 12,
    "start_time": "2022-08-22T16:44:05.175Z"
   },
   {
    "duration": 98,
    "start_time": "2022-08-22T16:44:05.848Z"
   },
   {
    "duration": 221,
    "start_time": "2022-08-22T16:44:53.594Z"
   },
   {
    "duration": 3,
    "start_time": "2022-08-22T18:00:05.238Z"
   },
   {
    "duration": 157,
    "start_time": "2022-08-22T18:00:06.979Z"
   },
   {
    "duration": 13,
    "start_time": "2022-08-22T18:00:08.630Z"
   },
   {
    "duration": 2480,
    "start_time": "2022-08-22T18:00:09.655Z"
   },
   {
    "duration": 22,
    "start_time": "2022-08-22T18:00:13.613Z"
   },
   {
    "duration": 22,
    "start_time": "2022-08-22T18:00:14.522Z"
   },
   {
    "duration": 141,
    "start_time": "2022-08-22T18:00:14.925Z"
   },
   {
    "duration": 62,
    "start_time": "2022-08-22T18:00:16.290Z"
   },
   {
    "duration": 26,
    "start_time": "2022-08-22T18:00:17.286Z"
   },
   {
    "duration": 10,
    "start_time": "2022-08-22T18:00:18.271Z"
   },
   {
    "duration": 8221,
    "start_time": "2022-08-22T18:00:18.742Z"
   },
   {
    "duration": 9,
    "start_time": "2022-08-22T18:00:26.965Z"
   },
   {
    "duration": 6,
    "start_time": "2022-08-22T18:00:26.975Z"
   },
   {
    "duration": 63,
    "start_time": "2022-08-22T18:00:26.983Z"
   },
   {
    "duration": 5,
    "start_time": "2022-08-22T18:00:28.242Z"
   },
   {
    "duration": 8,
    "start_time": "2022-08-22T18:00:28.750Z"
   },
   {
    "duration": 14,
    "start_time": "2022-08-22T18:00:31.221Z"
   },
   {
    "duration": 21,
    "start_time": "2022-08-22T18:00:31.923Z"
   },
   {
    "duration": 9,
    "start_time": "2022-08-22T18:00:32.343Z"
   },
   {
    "duration": 10,
    "start_time": "2022-08-22T18:00:32.732Z"
   },
   {
    "duration": 15,
    "start_time": "2022-08-22T18:00:33.122Z"
   },
   {
    "duration": 239,
    "start_time": "2022-08-22T18:00:34.227Z"
   },
   {
    "duration": 14,
    "start_time": "2022-08-22T18:00:35.540Z"
   },
   {
    "duration": 656,
    "start_time": "2022-08-22T18:00:36.635Z"
   },
   {
    "duration": 1372,
    "start_time": "2022-08-22T18:05:12.605Z"
   },
   {
    "duration": 189,
    "start_time": "2022-08-22T18:05:13.979Z"
   },
   {
    "duration": 13,
    "start_time": "2022-08-22T18:05:20.321Z"
   },
   {
    "duration": 2050,
    "start_time": "2022-08-22T18:05:21.755Z"
   },
   {
    "duration": 9,
    "start_time": "2022-08-22T18:05:27.164Z"
   },
   {
    "duration": 14,
    "start_time": "2022-08-22T18:05:28.273Z"
   },
   {
    "duration": 118,
    "start_time": "2022-08-22T18:05:29.056Z"
   },
   {
    "duration": 31,
    "start_time": "2022-08-22T18:05:31.602Z"
   },
   {
    "duration": 14,
    "start_time": "2022-08-22T18:05:32.476Z"
   },
   {
    "duration": 8,
    "start_time": "2022-08-22T18:05:33.330Z"
   },
   {
    "duration": 5521,
    "start_time": "2022-08-22T18:05:34.068Z"
   },
   {
    "duration": 8,
    "start_time": "2022-08-22T18:05:39.592Z"
   },
   {
    "duration": 3,
    "start_time": "2022-08-22T18:05:50.231Z"
   },
   {
    "duration": 11,
    "start_time": "2022-08-22T18:05:50.473Z"
   },
   {
    "duration": 4,
    "start_time": "2022-08-22T18:05:51.927Z"
   },
   {
    "duration": 7,
    "start_time": "2022-08-22T18:05:52.220Z"
   },
   {
    "duration": 10,
    "start_time": "2022-08-22T18:05:54.320Z"
   },
   {
    "duration": 11,
    "start_time": "2022-08-22T18:05:54.801Z"
   },
   {
    "duration": 7,
    "start_time": "2022-08-22T18:05:55.285Z"
   },
   {
    "duration": 9,
    "start_time": "2022-08-22T18:05:55.780Z"
   },
   {
    "duration": 9,
    "start_time": "2022-08-22T18:05:56.261Z"
   },
   {
    "duration": 166,
    "start_time": "2022-08-22T18:05:57.596Z"
   },
   {
    "duration": 13,
    "start_time": "2022-08-22T18:05:59.048Z"
   },
   {
    "duration": 372,
    "start_time": "2022-08-22T18:06:00.141Z"
   },
   {
    "duration": 232,
    "start_time": "2022-08-22T18:06:01.967Z"
   },
   {
    "duration": 13,
    "start_time": "2022-08-22T18:06:03.865Z"
   },
   {
    "duration": 17,
    "start_time": "2022-08-22T18:06:05.472Z"
   },
   {
    "duration": 15,
    "start_time": "2022-08-22T18:06:09.431Z"
   },
   {
    "duration": 17,
    "start_time": "2022-08-22T18:06:10.825Z"
   },
   {
    "duration": 4,
    "start_time": "2022-08-22T18:06:15.201Z"
   },
   {
    "duration": 16,
    "start_time": "2022-08-22T18:06:16.998Z"
   },
   {
    "duration": 15,
    "start_time": "2022-08-22T18:06:27.054Z"
   },
   {
    "duration": 148,
    "start_time": "2022-08-22T18:06:29.729Z"
   },
   {
    "duration": 17,
    "start_time": "2022-08-22T18:06:30.906Z"
   },
   {
    "duration": 16,
    "start_time": "2022-08-22T18:06:34.135Z"
   },
   {
    "duration": 15,
    "start_time": "2022-08-22T18:06:37.087Z"
   },
   {
    "duration": 15,
    "start_time": "2022-08-22T18:06:37.851Z"
   },
   {
    "duration": 16,
    "start_time": "2022-08-22T18:06:38.750Z"
   },
   {
    "duration": 15,
    "start_time": "2022-08-22T18:06:39.708Z"
   },
   {
    "duration": 176,
    "start_time": "2022-08-22T18:06:47.327Z"
   },
   {
    "duration": 72,
    "start_time": "2022-08-22T18:06:54.224Z"
   },
   {
    "duration": 18,
    "start_time": "2022-08-22T18:06:57.346Z"
   },
   {
    "duration": 2720,
    "start_time": "2022-08-22T18:06:58.234Z"
   },
   {
    "duration": 18,
    "start_time": "2022-08-22T18:07:05.848Z"
   },
   {
    "duration": 115,
    "start_time": "2022-08-22T18:10:11.751Z"
   },
   {
    "duration": 16,
    "start_time": "2022-08-22T18:10:35.753Z"
   },
   {
    "duration": 15,
    "start_time": "2022-08-22T18:11:08.699Z"
   },
   {
    "duration": 7,
    "start_time": "2022-08-22T18:13:08.562Z"
   },
   {
    "duration": 6,
    "start_time": "2022-08-22T18:13:11.822Z"
   },
   {
    "duration": 8,
    "start_time": "2022-08-22T18:13:17.896Z"
   },
   {
    "duration": 3,
    "start_time": "2022-08-22T18:13:29.530Z"
   },
   {
    "duration": 5,
    "start_time": "2022-08-22T18:14:02.070Z"
   },
   {
    "duration": 6,
    "start_time": "2022-08-22T18:14:04.106Z"
   },
   {
    "duration": 6,
    "start_time": "2022-08-22T18:14:35.982Z"
   },
   {
    "duration": 10,
    "start_time": "2022-08-22T18:15:39.227Z"
   },
   {
    "duration": 83,
    "start_time": "2022-08-22T18:16:33.948Z"
   },
   {
    "duration": 7,
    "start_time": "2022-08-22T18:17:53.528Z"
   },
   {
    "duration": 8,
    "start_time": "2022-08-22T18:18:05.100Z"
   },
   {
    "duration": 8,
    "start_time": "2022-08-22T18:18:21.026Z"
   },
   {
    "duration": 7,
    "start_time": "2022-08-22T18:18:22.805Z"
   },
   {
    "duration": 6,
    "start_time": "2022-08-22T18:18:54.323Z"
   },
   {
    "duration": 7,
    "start_time": "2022-08-22T18:18:56.445Z"
   },
   {
    "duration": 6,
    "start_time": "2022-08-22T18:19:16.187Z"
   },
   {
    "duration": 8,
    "start_time": "2022-08-22T18:19:16.869Z"
   },
   {
    "duration": 7,
    "start_time": "2022-08-22T18:20:00.700Z"
   },
   {
    "duration": 7,
    "start_time": "2022-08-22T18:20:03.120Z"
   },
   {
    "duration": 132,
    "start_time": "2022-08-22T18:20:13.052Z"
   },
   {
    "duration": 33,
    "start_time": "2022-08-22T18:20:13.892Z"
   },
   {
    "duration": 14,
    "start_time": "2022-08-22T18:20:14.595Z"
   },
   {
    "duration": 8,
    "start_time": "2022-08-22T18:20:15.124Z"
   },
   {
    "duration": 5538,
    "start_time": "2022-08-22T18:20:15.424Z"
   },
   {
    "duration": 8,
    "start_time": "2022-08-22T18:20:20.964Z"
   },
   {
    "duration": 7,
    "start_time": "2022-08-22T18:20:20.973Z"
   },
   {
    "duration": 9,
    "start_time": "2022-08-22T18:20:20.992Z"
   },
   {
    "duration": 4,
    "start_time": "2022-08-22T18:20:21.003Z"
   },
   {
    "duration": 7,
    "start_time": "2022-08-22T18:20:21.008Z"
   },
   {
    "duration": 7,
    "start_time": "2022-08-22T18:20:23.133Z"
   },
   {
    "duration": 7,
    "start_time": "2022-08-22T18:20:23.649Z"
   },
   {
    "duration": 7,
    "start_time": "2022-08-22T18:20:39.952Z"
   },
   {
    "duration": 7,
    "start_time": "2022-08-22T18:20:45.366Z"
   },
   {
    "duration": 3,
    "start_time": "2022-08-22T18:20:54.107Z"
   },
   {
    "duration": 109,
    "start_time": "2022-08-22T18:20:54.112Z"
   },
   {
    "duration": 10,
    "start_time": "2022-08-22T18:20:54.224Z"
   },
   {
    "duration": 2232,
    "start_time": "2022-08-22T18:20:54.236Z"
   },
   {
    "duration": 9,
    "start_time": "2022-08-22T18:20:56.470Z"
   },
   {
    "duration": 29,
    "start_time": "2022-08-22T18:20:56.481Z"
   },
   {
    "duration": 117,
    "start_time": "2022-08-22T18:20:56.513Z"
   },
   {
    "duration": 25,
    "start_time": "2022-08-22T18:20:56.632Z"
   },
   {
    "duration": 13,
    "start_time": "2022-08-22T18:20:56.658Z"
   },
   {
    "duration": 24,
    "start_time": "2022-08-22T18:20:56.673Z"
   },
   {
    "duration": 5624,
    "start_time": "2022-08-22T18:20:56.699Z"
   },
   {
    "duration": 8,
    "start_time": "2022-08-22T18:21:02.325Z"
   },
   {
    "duration": 7,
    "start_time": "2022-08-22T18:21:02.336Z"
   },
   {
    "duration": 11,
    "start_time": "2022-08-22T18:21:02.345Z"
   },
   {
    "duration": 5,
    "start_time": "2022-08-22T18:21:02.358Z"
   },
   {
    "duration": 30,
    "start_time": "2022-08-22T18:21:02.364Z"
   },
   {
    "duration": 10,
    "start_time": "2022-08-22T18:21:06.077Z"
   },
   {
    "duration": 9,
    "start_time": "2022-08-22T18:22:26.756Z"
   },
   {
    "duration": 11,
    "start_time": "2022-08-22T18:22:32.372Z"
   },
   {
    "duration": 10,
    "start_time": "2022-08-22T18:22:45.705Z"
   },
   {
    "duration": 10,
    "start_time": "2022-08-22T18:23:01.550Z"
   },
   {
    "duration": 11,
    "start_time": "2022-08-22T18:23:16.261Z"
   },
   {
    "duration": 12,
    "start_time": "2022-08-22T18:23:22.666Z"
   },
   {
    "duration": 13,
    "start_time": "2022-08-22T18:23:28.426Z"
   },
   {
    "duration": 9,
    "start_time": "2022-08-22T18:23:53.766Z"
   },
   {
    "duration": 6,
    "start_time": "2022-08-22T18:23:56.552Z"
   },
   {
    "duration": 9,
    "start_time": "2022-08-22T18:24:02.772Z"
   },
   {
    "duration": 6,
    "start_time": "2022-08-22T18:24:18.022Z"
   },
   {
    "duration": 10,
    "start_time": "2022-08-22T18:24:20.257Z"
   },
   {
    "duration": 5,
    "start_time": "2022-08-22T18:24:44.756Z"
   },
   {
    "duration": 8,
    "start_time": "2022-08-22T18:24:46.294Z"
   },
   {
    "duration": 9,
    "start_time": "2022-08-22T18:25:09.993Z"
   },
   {
    "duration": 8,
    "start_time": "2022-08-22T18:25:34.437Z"
   },
   {
    "duration": 9,
    "start_time": "2022-08-22T18:25:51.060Z"
   },
   {
    "duration": 8,
    "start_time": "2022-08-22T18:25:53.993Z"
   },
   {
    "duration": 8,
    "start_time": "2022-08-22T18:26:01.802Z"
   },
   {
    "duration": 5,
    "start_time": "2022-08-22T18:27:27.753Z"
   },
   {
    "duration": 8,
    "start_time": "2022-08-22T18:27:30.277Z"
   },
   {
    "duration": 8,
    "start_time": "2022-08-22T18:27:33.189Z"
   },
   {
    "duration": 111,
    "start_time": "2022-08-22T18:28:16.674Z"
   },
   {
    "duration": 147,
    "start_time": "2022-08-22T18:28:29.307Z"
   },
   {
    "duration": 10,
    "start_time": "2022-08-22T18:28:55.271Z"
   },
   {
    "duration": 2,
    "start_time": "2022-08-22T18:29:08.405Z"
   },
   {
    "duration": 11,
    "start_time": "2022-08-22T18:29:10.024Z"
   },
   {
    "duration": 87,
    "start_time": "2022-08-22T18:33:58.356Z"
   },
   {
    "duration": 105,
    "start_time": "2022-08-22T18:34:16.300Z"
   },
   {
    "duration": 121,
    "start_time": "2022-08-22T18:34:21.702Z"
   },
   {
    "duration": 12,
    "start_time": "2022-08-22T18:34:23.763Z"
   },
   {
    "duration": 2130,
    "start_time": "2022-08-22T18:34:24.846Z"
   },
   {
    "duration": 10,
    "start_time": "2022-08-22T18:34:30.495Z"
   },
   {
    "duration": 13,
    "start_time": "2022-08-22T18:34:35.758Z"
   },
   {
    "duration": 112,
    "start_time": "2022-08-22T18:34:36.185Z"
   },
   {
    "duration": 25,
    "start_time": "2022-08-22T18:34:37.364Z"
   },
   {
    "duration": 14,
    "start_time": "2022-08-22T18:34:38.286Z"
   },
   {
    "duration": 8,
    "start_time": "2022-08-22T18:34:39.068Z"
   },
   {
    "duration": 5886,
    "start_time": "2022-08-22T18:34:39.471Z"
   },
   {
    "duration": 10,
    "start_time": "2022-08-22T18:34:45.359Z"
   },
   {
    "duration": 2,
    "start_time": "2022-08-22T18:34:45.372Z"
   },
   {
    "duration": 12,
    "start_time": "2022-08-22T18:34:45.393Z"
   },
   {
    "duration": 5,
    "start_time": "2022-08-22T18:34:47.127Z"
   },
   {
    "duration": 8,
    "start_time": "2022-08-22T18:34:48.351Z"
   },
   {
    "duration": 105,
    "start_time": "2022-08-22T18:34:54.820Z"
   },
   {
    "duration": 8,
    "start_time": "2022-08-22T18:35:02.667Z"
   },
   {
    "duration": 6,
    "start_time": "2022-08-22T18:35:03.281Z"
   },
   {
    "duration": 10,
    "start_time": "2022-08-22T18:35:03.740Z"
   },
   {
    "duration": 11,
    "start_time": "2022-08-22T18:35:04.234Z"
   },
   {
    "duration": 7,
    "start_time": "2022-08-22T18:36:51.527Z"
   },
   {
    "duration": 8,
    "start_time": "2022-08-22T18:36:56.098Z"
   },
   {
    "duration": 7,
    "start_time": "2022-08-22T18:37:17.981Z"
   },
   {
    "duration": 4,
    "start_time": "2022-08-22T18:38:00.596Z"
   },
   {
    "duration": 11,
    "start_time": "2022-08-22T18:38:03.803Z"
   },
   {
    "duration": 9,
    "start_time": "2022-08-22T18:38:17.156Z"
   },
   {
    "duration": 9,
    "start_time": "2022-08-22T18:38:28.991Z"
   },
   {
    "duration": 7,
    "start_time": "2022-08-22T18:38:41.206Z"
   },
   {
    "duration": 8,
    "start_time": "2022-08-22T18:38:44.081Z"
   },
   {
    "duration": 7,
    "start_time": "2022-08-22T18:38:59.348Z"
   },
   {
    "duration": 9,
    "start_time": "2022-08-22T18:39:01.450Z"
   },
   {
    "duration": 5,
    "start_time": "2022-08-22T18:57:47.996Z"
   },
   {
    "duration": 9,
    "start_time": "2022-08-22T18:57:49.973Z"
   },
   {
    "duration": 10,
    "start_time": "2022-08-22T19:00:25.947Z"
   },
   {
    "duration": 8,
    "start_time": "2022-08-22T19:00:30.724Z"
   },
   {
    "duration": 9,
    "start_time": "2022-08-22T19:00:40.564Z"
   },
   {
    "duration": 9,
    "start_time": "2022-08-22T19:27:39.354Z"
   },
   {
    "duration": 3,
    "start_time": "2022-08-22T19:31:40.972Z"
   },
   {
    "duration": 3,
    "start_time": "2022-08-22T19:32:04.065Z"
   },
   {
    "duration": 6,
    "start_time": "2022-08-22T19:32:08.373Z"
   },
   {
    "duration": 3,
    "start_time": "2022-08-22T19:32:11.623Z"
   },
   {
    "duration": 2,
    "start_time": "2022-08-22T19:32:13.369Z"
   },
   {
    "duration": 10,
    "start_time": "2022-08-22T19:32:42.152Z"
   },
   {
    "duration": 10,
    "start_time": "2022-08-22T19:32:51.565Z"
   },
   {
    "duration": 9,
    "start_time": "2022-08-22T19:32:58.826Z"
   },
   {
    "duration": 185,
    "start_time": "2022-08-22T19:33:15.995Z"
   },
   {
    "duration": 15,
    "start_time": "2022-08-22T19:33:17.425Z"
   },
   {
    "duration": 28,
    "start_time": "2022-08-22T19:33:24.015Z"
   },
   {
    "duration": 21,
    "start_time": "2022-08-22T19:34:19.805Z"
   },
   {
    "duration": 20,
    "start_time": "2022-08-22T19:34:27.582Z"
   },
   {
    "duration": 15,
    "start_time": "2022-08-22T19:34:39.803Z"
   },
   {
    "duration": 109,
    "start_time": "2022-08-22T19:36:12.813Z"
   },
   {
    "duration": 124,
    "start_time": "2022-08-22T19:36:20.041Z"
   },
   {
    "duration": 26,
    "start_time": "2022-08-22T19:36:49.713Z"
   },
   {
    "duration": 12,
    "start_time": "2022-08-22T19:40:14.609Z"
   },
   {
    "duration": 15,
    "start_time": "2022-08-22T19:40:48.461Z"
   },
   {
    "duration": 3,
    "start_time": "2022-08-22T19:41:01.028Z"
   },
   {
    "duration": 114,
    "start_time": "2022-08-22T19:41:01.203Z"
   },
   {
    "duration": 9,
    "start_time": "2022-08-22T19:41:02.308Z"
   },
   {
    "duration": 2128,
    "start_time": "2022-08-22T19:41:03.129Z"
   },
   {
    "duration": 9,
    "start_time": "2022-08-22T19:41:05.259Z"
   },
   {
    "duration": 17,
    "start_time": "2022-08-22T19:41:06.478Z"
   },
   {
    "duration": 125,
    "start_time": "2022-08-22T19:41:06.621Z"
   },
   {
    "duration": 25,
    "start_time": "2022-08-22T19:41:07.017Z"
   },
   {
    "duration": 8,
    "start_time": "2022-08-22T19:41:07.345Z"
   },
   {
    "duration": 5985,
    "start_time": "2022-08-22T19:41:07.520Z"
   },
   {
    "duration": 10,
    "start_time": "2022-08-22T19:41:13.508Z"
   },
   {
    "duration": 4,
    "start_time": "2022-08-22T19:41:13.520Z"
   },
   {
    "duration": 13,
    "start_time": "2022-08-22T19:41:13.526Z"
   },
   {
    "duration": 4,
    "start_time": "2022-08-22T19:41:13.541Z"
   },
   {
    "duration": 9,
    "start_time": "2022-08-22T19:41:13.546Z"
   },
   {
    "duration": 3,
    "start_time": "2022-08-22T19:41:13.557Z"
   },
   {
    "duration": 8,
    "start_time": "2022-08-22T19:41:13.561Z"
   },
   {
    "duration": 27,
    "start_time": "2022-08-22T19:41:13.571Z"
   },
   {
    "duration": 12,
    "start_time": "2022-08-22T19:41:13.604Z"
   },
   {
    "duration": 6,
    "start_time": "2022-08-22T19:41:13.617Z"
   },
   {
    "duration": 5,
    "start_time": "2022-08-22T19:41:13.625Z"
   },
   {
    "duration": 167,
    "start_time": "2022-08-22T19:41:13.632Z"
   },
   {
    "duration": 12,
    "start_time": "2022-08-22T19:41:13.909Z"
   },
   {
    "duration": 596,
    "start_time": "2022-08-22T19:41:14.346Z"
   },
   {
    "duration": 193,
    "start_time": "2022-08-22T19:41:16.124Z"
   },
   {
    "duration": 14,
    "start_time": "2022-08-22T19:41:18.510Z"
   },
   {
    "duration": 20,
    "start_time": "2022-08-22T19:41:19.333Z"
   },
   {
    "duration": 16,
    "start_time": "2022-08-22T19:41:20.050Z"
   },
   {
    "duration": 17,
    "start_time": "2022-08-22T19:41:20.476Z"
   },
   {
    "duration": 4,
    "start_time": "2022-08-22T19:41:20.885Z"
   },
   {
    "duration": 18,
    "start_time": "2022-08-22T19:41:21.084Z"
   },
   {
    "duration": 17,
    "start_time": "2022-08-22T19:41:21.479Z"
   },
   {
    "duration": 160,
    "start_time": "2022-08-22T19:41:22.289Z"
   },
   {
    "duration": 14,
    "start_time": "2022-08-22T19:41:22.451Z"
   },
   {
    "duration": 20,
    "start_time": "2022-08-22T19:41:22.687Z"
   },
   {
    "duration": 25,
    "start_time": "2022-08-22T19:41:23.084Z"
   },
   {
    "duration": 20,
    "start_time": "2022-08-22T19:41:23.492Z"
   },
   {
    "duration": 19,
    "start_time": "2022-08-22T19:41:23.884Z"
   },
   {
    "duration": 27,
    "start_time": "2022-08-22T19:41:24.281Z"
   },
   {
    "duration": 187,
    "start_time": "2022-08-22T19:41:24.865Z"
   },
   {
    "duration": 79,
    "start_time": "2022-08-22T19:41:25.654Z"
   },
   {
    "duration": 18,
    "start_time": "2022-08-22T19:41:26.731Z"
   },
   {
    "duration": 2978,
    "start_time": "2022-08-22T19:41:27.330Z"
   },
   {
    "duration": 32,
    "start_time": "2022-08-22T19:41:30.311Z"
   },
   {
    "duration": 64,
    "start_time": "2022-08-22T19:41:36.733Z"
   },
   {
    "duration": 64,
    "start_time": "2022-08-22T19:43:00.808Z"
   },
   {
    "duration": 70,
    "start_time": "2022-08-22T19:43:24.635Z"
   },
   {
    "duration": 67,
    "start_time": "2022-08-22T19:44:09.684Z"
   },
   {
    "duration": 91,
    "start_time": "2022-08-22T19:47:13.658Z"
   },
   {
    "duration": 9,
    "start_time": "2022-08-22T19:47:18.495Z"
   },
   {
    "duration": 12,
    "start_time": "2022-08-22T19:47:33.933Z"
   },
   {
    "duration": 11,
    "start_time": "2022-08-22T19:48:04.286Z"
   },
   {
    "duration": 13,
    "start_time": "2022-08-22T19:48:25.846Z"
   },
   {
    "duration": 4,
    "start_time": "2022-08-22T19:53:13.187Z"
   },
   {
    "duration": 19,
    "start_time": "2022-08-22T19:53:20.033Z"
   },
   {
    "duration": 16,
    "start_time": "2022-08-22T19:53:45.866Z"
   },
   {
    "duration": 20,
    "start_time": "2022-08-22T19:54:18.242Z"
   },
   {
    "duration": 4,
    "start_time": "2022-08-22T19:54:31.465Z"
   },
   {
    "duration": 115,
    "start_time": "2022-08-22T19:54:32.194Z"
   },
   {
    "duration": 10,
    "start_time": "2022-08-22T19:54:34.270Z"
   },
   {
    "duration": 1996,
    "start_time": "2022-08-22T19:54:35.332Z"
   },
   {
    "duration": 9,
    "start_time": "2022-08-22T19:54:38.791Z"
   },
   {
    "duration": 14,
    "start_time": "2022-08-22T19:54:39.827Z"
   },
   {
    "duration": 120,
    "start_time": "2022-08-22T19:54:40.352Z"
   },
   {
    "duration": 27,
    "start_time": "2022-08-22T19:54:41.403Z"
   },
   {
    "duration": 9,
    "start_time": "2022-08-22T19:54:42.253Z"
   },
   {
    "duration": 5766,
    "start_time": "2022-08-22T19:54:42.742Z"
   },
   {
    "duration": 11,
    "start_time": "2022-08-22T19:54:48.510Z"
   },
   {
    "duration": 3,
    "start_time": "2022-08-22T19:54:51.762Z"
   },
   {
    "duration": 9,
    "start_time": "2022-08-22T19:54:53.748Z"
   },
   {
    "duration": 10,
    "start_time": "2022-08-22T19:55:00.760Z"
   },
   {
    "duration": 5,
    "start_time": "2022-08-22T19:55:01.659Z"
   },
   {
    "duration": 7,
    "start_time": "2022-08-22T19:55:02.298Z"
   },
   {
    "duration": 7,
    "start_time": "2022-08-22T19:55:02.655Z"
   },
   {
    "duration": 8,
    "start_time": "2022-08-22T19:55:41.748Z"
   },
   {
    "duration": 7,
    "start_time": "2022-08-22T19:55:52.765Z"
   },
   {
    "duration": 8,
    "start_time": "2022-08-22T19:57:25.529Z"
   },
   {
    "duration": 96,
    "start_time": "2022-08-22T19:57:35.775Z"
   },
   {
    "duration": 14,
    "start_time": "2022-08-22T19:57:42.876Z"
   },
   {
    "duration": 79,
    "start_time": "2022-08-22T19:57:46.976Z"
   },
   {
    "duration": 9,
    "start_time": "2022-08-22T19:58:01.356Z"
   },
   {
    "duration": 8,
    "start_time": "2022-08-22T19:58:26.415Z"
   },
   {
    "duration": 9,
    "start_time": "2022-08-22T19:58:33.124Z"
   },
   {
    "duration": 3,
    "start_time": "2022-08-22T19:58:34.945Z"
   },
   {
    "duration": 3,
    "start_time": "2022-08-22T19:58:35.292Z"
   },
   {
    "duration": 3,
    "start_time": "2022-08-22T19:58:35.493Z"
   },
   {
    "duration": 3,
    "start_time": "2022-08-22T19:58:35.720Z"
   },
   {
    "duration": 2,
    "start_time": "2022-08-22T19:58:35.947Z"
   },
   {
    "duration": 2,
    "start_time": "2022-08-22T19:58:36.188Z"
   },
   {
    "duration": 150,
    "start_time": "2022-08-22T19:58:36.857Z"
   },
   {
    "duration": 13,
    "start_time": "2022-08-22T19:58:37.858Z"
   },
   {
    "duration": 334,
    "start_time": "2022-08-22T19:58:38.519Z"
   },
   {
    "duration": 189,
    "start_time": "2022-08-22T19:58:39.925Z"
   },
   {
    "duration": 13,
    "start_time": "2022-08-22T19:58:42.119Z"
   },
   {
    "duration": 14,
    "start_time": "2022-08-22T19:58:48.483Z"
   },
   {
    "duration": 17,
    "start_time": "2022-08-22T19:58:49.436Z"
   },
   {
    "duration": 19,
    "start_time": "2022-08-22T19:58:49.889Z"
   },
   {
    "duration": 6,
    "start_time": "2022-08-22T19:58:50.357Z"
   },
   {
    "duration": 16,
    "start_time": "2022-08-22T19:58:50.568Z"
   },
   {
    "duration": 27,
    "start_time": "2022-08-22T19:59:14.161Z"
   },
   {
    "duration": 51,
    "start_time": "2022-08-22T20:00:11.627Z"
   },
   {
    "duration": 26,
    "start_time": "2022-08-22T20:00:53.490Z"
   },
   {
    "duration": 78,
    "start_time": "2022-08-22T20:02:58.927Z"
   },
   {
    "duration": 18,
    "start_time": "2022-08-22T20:03:15.805Z"
   },
   {
    "duration": 20,
    "start_time": "2022-08-22T20:04:35.721Z"
   },
   {
    "duration": 3,
    "start_time": "2022-08-22T20:04:51.843Z"
   },
   {
    "duration": 117,
    "start_time": "2022-08-22T20:04:52.393Z"
   },
   {
    "duration": 9,
    "start_time": "2022-08-22T20:04:56.520Z"
   },
   {
    "duration": 2375,
    "start_time": "2022-08-22T20:04:57.640Z"
   },
   {
    "duration": 10,
    "start_time": "2022-08-22T20:05:01.148Z"
   },
   {
    "duration": 16,
    "start_time": "2022-08-22T20:05:02.386Z"
   },
   {
    "duration": 111,
    "start_time": "2022-08-22T20:05:10.567Z"
   },
   {
    "duration": 25,
    "start_time": "2022-08-22T20:05:11.517Z"
   },
   {
    "duration": 10,
    "start_time": "2022-08-22T20:05:12.266Z"
   },
   {
    "duration": 5599,
    "start_time": "2022-08-22T20:05:12.740Z"
   },
   {
    "duration": 9,
    "start_time": "2022-08-22T20:05:18.341Z"
   },
   {
    "duration": 4,
    "start_time": "2022-08-22T20:05:21.871Z"
   },
   {
    "duration": 14,
    "start_time": "2022-08-22T20:05:21.878Z"
   },
   {
    "duration": 5,
    "start_time": "2022-08-22T20:05:22.685Z"
   },
   {
    "duration": 6,
    "start_time": "2022-08-22T20:06:35.775Z"
   },
   {
    "duration": 9,
    "start_time": "2022-08-22T20:06:40.446Z"
   },
   {
    "duration": 10,
    "start_time": "2022-08-22T20:11:45.164Z"
   },
   {
    "duration": 8,
    "start_time": "2022-08-22T20:11:59.067Z"
   },
   {
    "duration": 8,
    "start_time": "2022-08-22T20:12:30.597Z"
   },
   {
    "duration": 11,
    "start_time": "2022-08-22T20:12:36.269Z"
   },
   {
    "duration": 3,
    "start_time": "2022-08-22T20:12:50.330Z"
   },
   {
    "duration": 2,
    "start_time": "2022-08-22T20:12:50.528Z"
   },
   {
    "duration": 3,
    "start_time": "2022-08-22T20:12:50.729Z"
   },
   {
    "duration": 2,
    "start_time": "2022-08-22T20:12:50.927Z"
   },
   {
    "duration": 2,
    "start_time": "2022-08-22T20:12:51.136Z"
   },
   {
    "duration": 3,
    "start_time": "2022-08-22T20:12:51.345Z"
   },
   {
    "duration": 150,
    "start_time": "2022-08-22T20:12:52.322Z"
   },
   {
    "duration": 13,
    "start_time": "2022-08-22T20:12:54.059Z"
   },
   {
    "duration": 325,
    "start_time": "2022-08-22T20:12:54.825Z"
   },
   {
    "duration": 185,
    "start_time": "2022-08-22T20:12:55.693Z"
   },
   {
    "duration": 13,
    "start_time": "2022-08-22T20:12:57.488Z"
   },
   {
    "duration": 18,
    "start_time": "2022-08-22T20:12:58.684Z"
   },
   {
    "duration": 16,
    "start_time": "2022-08-22T20:12:59.329Z"
   },
   {
    "duration": 30,
    "start_time": "2022-08-22T20:13:00.543Z"
   },
   {
    "duration": 4,
    "start_time": "2022-08-22T20:13:01.498Z"
   },
   {
    "duration": 17,
    "start_time": "2022-08-22T20:13:02.081Z"
   },
   {
    "duration": 14,
    "start_time": "2022-08-22T20:13:27.159Z"
   },
   {
    "duration": 24,
    "start_time": "2022-08-22T20:15:18.798Z"
   },
   {
    "duration": 25,
    "start_time": "2022-08-22T20:15:42.984Z"
   },
   {
    "duration": 29,
    "start_time": "2022-08-22T20:15:52.549Z"
   },
   {
    "duration": 36,
    "start_time": "2022-08-22T20:16:28.129Z"
   },
   {
    "duration": 25,
    "start_time": "2022-08-22T20:16:54.173Z"
   },
   {
    "duration": 18,
    "start_time": "2022-08-22T20:17:36.063Z"
   },
   {
    "duration": 3,
    "start_time": "2022-08-22T20:17:56.073Z"
   },
   {
    "duration": 119,
    "start_time": "2022-08-22T20:17:56.078Z"
   },
   {
    "duration": 9,
    "start_time": "2022-08-22T20:17:56.198Z"
   },
   {
    "duration": 2051,
    "start_time": "2022-08-22T20:17:56.209Z"
   },
   {
    "duration": 11,
    "start_time": "2022-08-22T20:17:58.263Z"
   },
   {
    "duration": 42,
    "start_time": "2022-08-22T20:17:58.277Z"
   },
   {
    "duration": 129,
    "start_time": "2022-08-22T20:17:58.321Z"
   },
   {
    "duration": 25,
    "start_time": "2022-08-22T20:17:58.451Z"
   },
   {
    "duration": 16,
    "start_time": "2022-08-22T20:17:58.477Z"
   },
   {
    "duration": 5745,
    "start_time": "2022-08-22T20:17:58.495Z"
   },
   {
    "duration": 7,
    "start_time": "2022-08-22T20:18:04.242Z"
   },
   {
    "duration": 5,
    "start_time": "2022-08-22T20:18:04.251Z"
   },
   {
    "duration": 11,
    "start_time": "2022-08-22T20:18:04.257Z"
   },
   {
    "duration": 24,
    "start_time": "2022-08-22T20:18:04.271Z"
   },
   {
    "duration": 7,
    "start_time": "2022-08-22T20:18:04.297Z"
   },
   {
    "duration": 7,
    "start_time": "2022-08-22T20:18:04.306Z"
   },
   {
    "duration": 2,
    "start_time": "2022-08-22T20:18:04.315Z"
   },
   {
    "duration": 5,
    "start_time": "2022-08-22T20:18:04.319Z"
   },
   {
    "duration": 8,
    "start_time": "2022-08-22T20:18:04.325Z"
   },
   {
    "duration": 5,
    "start_time": "2022-08-22T20:18:04.334Z"
   },
   {
    "duration": 7,
    "start_time": "2022-08-22T20:18:04.341Z"
   },
   {
    "duration": 5,
    "start_time": "2022-08-22T20:18:04.349Z"
   },
   {
    "duration": 163,
    "start_time": "2022-08-22T20:18:04.393Z"
   },
   {
    "duration": 12,
    "start_time": "2022-08-22T20:18:04.558Z"
   },
   {
    "duration": 365,
    "start_time": "2022-08-22T20:18:04.572Z"
   },
   {
    "duration": 208,
    "start_time": "2022-08-22T20:18:04.939Z"
   },
   {
    "duration": 14,
    "start_time": "2022-08-22T20:18:05.149Z"
   },
   {
    "duration": 33,
    "start_time": "2022-08-22T20:18:05.165Z"
   },
   {
    "duration": 16,
    "start_time": "2022-08-22T20:18:05.200Z"
   },
   {
    "duration": 27,
    "start_time": "2022-08-22T20:18:05.217Z"
   },
   {
    "duration": 0,
    "start_time": "2022-08-22T20:18:05.246Z"
   },
   {
    "duration": 0,
    "start_time": "2022-08-22T20:18:05.247Z"
   },
   {
    "duration": 0,
    "start_time": "2022-08-22T20:18:05.248Z"
   },
   {
    "duration": 0,
    "start_time": "2022-08-22T20:18:05.250Z"
   },
   {
    "duration": 0,
    "start_time": "2022-08-22T20:18:05.251Z"
   },
   {
    "duration": 0,
    "start_time": "2022-08-22T20:18:05.252Z"
   },
   {
    "duration": 0,
    "start_time": "2022-08-22T20:18:05.253Z"
   },
   {
    "duration": 0,
    "start_time": "2022-08-22T20:18:05.254Z"
   },
   {
    "duration": 0,
    "start_time": "2022-08-22T20:18:05.293Z"
   },
   {
    "duration": 0,
    "start_time": "2022-08-22T20:18:05.294Z"
   },
   {
    "duration": 1,
    "start_time": "2022-08-22T20:18:05.295Z"
   },
   {
    "duration": 0,
    "start_time": "2022-08-22T20:18:05.297Z"
   },
   {
    "duration": 0,
    "start_time": "2022-08-22T20:18:05.298Z"
   },
   {
    "duration": 0,
    "start_time": "2022-08-22T20:18:05.299Z"
   },
   {
    "duration": 0,
    "start_time": "2022-08-22T20:18:05.300Z"
   },
   {
    "duration": 27,
    "start_time": "2022-08-22T20:18:41.252Z"
   },
   {
    "duration": 28,
    "start_time": "2022-08-22T20:19:18.943Z"
   },
   {
    "duration": 27,
    "start_time": "2022-08-22T20:19:32.857Z"
   },
   {
    "duration": 23,
    "start_time": "2022-08-22T20:19:41.177Z"
   },
   {
    "duration": 27,
    "start_time": "2022-08-22T20:20:00.800Z"
   },
   {
    "duration": 19,
    "start_time": "2022-08-22T20:20:23.109Z"
   },
   {
    "duration": 19,
    "start_time": "2022-08-22T20:20:43.856Z"
   },
   {
    "duration": 5,
    "start_time": "2022-08-22T20:20:58.800Z"
   },
   {
    "duration": 17,
    "start_time": "2022-08-22T20:21:02.201Z"
   },
   {
    "duration": 16,
    "start_time": "2022-08-22T20:21:09.042Z"
   },
   {
    "duration": 154,
    "start_time": "2022-08-22T20:21:10.014Z"
   },
   {
    "duration": 14,
    "start_time": "2022-08-22T20:21:10.552Z"
   },
   {
    "duration": 15,
    "start_time": "2022-08-22T20:21:11.044Z"
   },
   {
    "duration": 16,
    "start_time": "2022-08-22T20:21:11.497Z"
   },
   {
    "duration": 16,
    "start_time": "2022-08-22T20:21:11.964Z"
   },
   {
    "duration": 15,
    "start_time": "2022-08-22T20:21:12.452Z"
   },
   {
    "duration": 15,
    "start_time": "2022-08-22T20:21:13.039Z"
   },
   {
    "duration": 170,
    "start_time": "2022-08-22T20:21:14.097Z"
   },
   {
    "duration": 72,
    "start_time": "2022-08-22T20:21:15.186Z"
   },
   {
    "duration": 17,
    "start_time": "2022-08-22T20:21:16.208Z"
   },
   {
    "duration": 2950,
    "start_time": "2022-08-22T20:21:17.271Z"
   },
   {
    "duration": 18,
    "start_time": "2022-08-22T20:21:21.956Z"
   },
   {
    "duration": 19,
    "start_time": "2022-08-22T20:21:45.978Z"
   },
   {
    "duration": 59,
    "start_time": "2022-08-22T20:22:51.971Z"
   },
   {
    "duration": 49,
    "start_time": "2022-08-22T20:23:07.903Z"
   },
   {
    "duration": 71,
    "start_time": "2022-08-22T20:24:33.075Z"
   },
   {
    "duration": 13,
    "start_time": "2022-08-22T20:25:21.338Z"
   },
   {
    "duration": 52,
    "start_time": "2022-08-22T20:26:35.248Z"
   },
   {
    "duration": 1423,
    "start_time": "2022-08-23T09:46:50.026Z"
   },
   {
    "duration": 345,
    "start_time": "2022-08-23T09:46:52.836Z"
   },
   {
    "duration": 9,
    "start_time": "2022-08-23T09:46:55.686Z"
   },
   {
    "duration": 2061,
    "start_time": "2022-08-23T09:46:56.696Z"
   },
   {
    "duration": 12,
    "start_time": "2022-08-23T09:47:00.873Z"
   },
   {
    "duration": 14,
    "start_time": "2022-08-23T09:47:02.124Z"
   },
   {
    "duration": 112,
    "start_time": "2022-08-23T09:47:02.716Z"
   },
   {
    "duration": 29,
    "start_time": "2022-08-23T09:47:03.740Z"
   },
   {
    "duration": 8,
    "start_time": "2022-08-23T09:47:04.832Z"
   },
   {
    "duration": 5429,
    "start_time": "2022-08-23T09:47:05.532Z"
   },
   {
    "duration": 8,
    "start_time": "2022-08-23T09:47:10.963Z"
   },
   {
    "duration": 2,
    "start_time": "2022-08-23T09:47:14.675Z"
   },
   {
    "duration": 9,
    "start_time": "2022-08-23T09:47:15.329Z"
   },
   {
    "duration": 5,
    "start_time": "2022-08-23T09:47:17.112Z"
   },
   {
    "duration": 6,
    "start_time": "2022-08-23T09:47:17.820Z"
   },
   {
    "duration": 10,
    "start_time": "2022-08-23T09:47:18.511Z"
   },
   {
    "duration": 3,
    "start_time": "2022-08-23T09:47:27.433Z"
   },
   {
    "duration": 2,
    "start_time": "2022-08-23T09:47:27.717Z"
   },
   {
    "duration": 2,
    "start_time": "2022-08-23T09:47:27.983Z"
   },
   {
    "duration": 2,
    "start_time": "2022-08-23T09:47:28.262Z"
   },
   {
    "duration": 3,
    "start_time": "2022-08-23T09:47:28.524Z"
   },
   {
    "duration": 2,
    "start_time": "2022-08-23T09:47:28.761Z"
   },
   {
    "duration": 181,
    "start_time": "2022-08-23T09:47:30.251Z"
   },
   {
    "duration": 15,
    "start_time": "2022-08-23T09:47:31.523Z"
   },
   {
    "duration": 396,
    "start_time": "2022-08-23T09:47:35.613Z"
   },
   {
    "duration": 192,
    "start_time": "2022-08-23T09:47:40.777Z"
   },
   {
    "duration": 14,
    "start_time": "2022-08-23T09:47:44.485Z"
   },
   {
    "duration": 16,
    "start_time": "2022-08-23T09:47:45.761Z"
   },
   {
    "duration": 15,
    "start_time": "2022-08-23T09:47:46.692Z"
   },
   {
    "duration": 5,
    "start_time": "2022-08-23T09:47:47.293Z"
   },
   {
    "duration": 25,
    "start_time": "2022-08-23T09:47:47.856Z"
   },
   {
    "duration": 24,
    "start_time": "2022-08-23T09:47:49.173Z"
   },
   {
    "duration": 148,
    "start_time": "2022-08-23T09:47:50.072Z"
   },
   {
    "duration": 15,
    "start_time": "2022-08-23T09:47:51.586Z"
   },
   {
    "duration": 17,
    "start_time": "2022-08-23T09:47:52.755Z"
   },
   {
    "duration": 14,
    "start_time": "2022-08-23T09:47:53.744Z"
   },
   {
    "duration": 15,
    "start_time": "2022-08-23T09:47:54.525Z"
   },
   {
    "duration": 14,
    "start_time": "2022-08-23T09:47:55.367Z"
   },
   {
    "duration": 15,
    "start_time": "2022-08-23T09:47:56.156Z"
   },
   {
    "duration": 174,
    "start_time": "2022-08-23T09:47:57.402Z"
   },
   {
    "duration": 98,
    "start_time": "2022-08-23T09:47:58.894Z"
   },
   {
    "duration": 20,
    "start_time": "2022-08-23T09:48:00.452Z"
   },
   {
    "duration": 2737,
    "start_time": "2022-08-23T09:48:01.333Z"
   },
   {
    "duration": 63,
    "start_time": "2022-08-23T09:48:04.072Z"
   },
   {
    "duration": 60,
    "start_time": "2022-08-23T09:49:53.245Z"
   },
   {
    "duration": 42,
    "start_time": "2022-08-23T09:50:28.158Z"
   },
   {
    "duration": 108,
    "start_time": "2022-08-23T09:51:05.387Z"
   },
   {
    "duration": 12,
    "start_time": "2022-08-23T09:51:39.881Z"
   },
   {
    "duration": 8,
    "start_time": "2022-08-23T09:52:00.920Z"
   },
   {
    "duration": 44,
    "start_time": "2022-08-23T09:52:24.532Z"
   },
   {
    "duration": 50,
    "start_time": "2022-08-23T09:52:30.264Z"
   },
   {
    "duration": 68,
    "start_time": "2022-08-23T09:52:50.188Z"
   },
   {
    "duration": 32,
    "start_time": "2022-08-23T09:52:58.417Z"
   },
   {
    "duration": 22,
    "start_time": "2022-08-23T09:53:38.354Z"
   },
   {
    "duration": 28,
    "start_time": "2022-08-23T09:53:47.605Z"
   },
   {
    "duration": 44,
    "start_time": "2022-08-23T09:57:06.177Z"
   },
   {
    "duration": 36,
    "start_time": "2022-08-23T09:57:28.305Z"
   },
   {
    "duration": 47,
    "start_time": "2022-08-23T13:31:04.277Z"
   },
   {
    "duration": 116,
    "start_time": "2022-08-23T13:37:14.074Z"
   },
   {
    "duration": 29,
    "start_time": "2022-08-23T13:38:05.328Z"
   },
   {
    "duration": 34,
    "start_time": "2022-08-23T13:39:03.914Z"
   },
   {
    "duration": 3,
    "start_time": "2022-08-23T14:22:52.930Z"
   },
   {
    "duration": 99,
    "start_time": "2022-08-23T14:23:22.524Z"
   },
   {
    "duration": 12,
    "start_time": "2022-08-23T14:24:01.527Z"
   },
   {
    "duration": 6,
    "start_time": "2022-08-23T14:24:56.455Z"
   },
   {
    "duration": 13,
    "start_time": "2022-08-23T14:24:58.257Z"
   },
   {
    "duration": 144,
    "start_time": "2022-08-23T14:24:58.930Z"
   },
   {
    "duration": 65,
    "start_time": "2022-08-23T14:26:35.414Z"
   },
   {
    "duration": 9,
    "start_time": "2022-08-23T14:26:44.380Z"
   },
   {
    "duration": 10,
    "start_time": "2022-08-23T14:27:36.330Z"
   },
   {
    "duration": 9,
    "start_time": "2022-08-23T14:27:43.442Z"
   },
   {
    "duration": 10,
    "start_time": "2022-08-23T14:27:52.089Z"
   },
   {
    "duration": 11,
    "start_time": "2022-08-23T14:27:56.416Z"
   },
   {
    "duration": 5,
    "start_time": "2022-08-23T14:29:23.881Z"
   },
   {
    "duration": 6,
    "start_time": "2022-08-23T14:29:24.772Z"
   },
   {
    "duration": 7,
    "start_time": "2022-08-23T14:29:27.380Z"
   },
   {
    "duration": 60,
    "start_time": "2022-08-23T14:30:52.895Z"
   },
   {
    "duration": 15,
    "start_time": "2022-08-23T14:31:08.844Z"
   },
   {
    "duration": 343,
    "start_time": "2022-08-23T14:31:10.452Z"
   },
   {
    "duration": 232,
    "start_time": "2022-08-23T14:31:48.913Z"
   },
   {
    "duration": 13,
    "start_time": "2022-08-23T14:32:12.863Z"
   },
   {
    "duration": 15,
    "start_time": "2022-08-23T14:32:14.942Z"
   },
   {
    "duration": 15,
    "start_time": "2022-08-23T14:32:15.364Z"
   },
   {
    "duration": 4,
    "start_time": "2022-08-23T14:32:15.757Z"
   },
   {
    "duration": 15,
    "start_time": "2022-08-23T14:32:15.953Z"
   },
   {
    "duration": 15,
    "start_time": "2022-08-23T14:32:16.842Z"
   },
   {
    "duration": 146,
    "start_time": "2022-08-23T14:32:17.637Z"
   },
   {
    "duration": 19,
    "start_time": "2022-08-23T14:32:18.390Z"
   },
   {
    "duration": 15,
    "start_time": "2022-08-23T14:32:18.814Z"
   },
   {
    "duration": 15,
    "start_time": "2022-08-23T14:32:19.245Z"
   },
   {
    "duration": 15,
    "start_time": "2022-08-23T14:32:19.716Z"
   },
   {
    "duration": 15,
    "start_time": "2022-08-23T14:32:20.120Z"
   },
   {
    "duration": 14,
    "start_time": "2022-08-23T14:32:20.561Z"
   },
   {
    "duration": 53,
    "start_time": "2022-08-23T14:34:22.326Z"
   },
   {
    "duration": 14,
    "start_time": "2022-08-23T14:37:19.587Z"
   },
   {
    "duration": 15,
    "start_time": "2022-08-23T14:37:22.886Z"
   },
   {
    "duration": 161,
    "start_time": "2022-08-23T14:37:52.079Z"
   },
   {
    "duration": 16,
    "start_time": "2022-08-23T14:37:59.461Z"
   },
   {
    "duration": 62,
    "start_time": "2022-08-23T14:43:07.819Z"
   },
   {
    "duration": 81,
    "start_time": "2022-08-23T14:43:47.990Z"
   },
   {
    "duration": 15,
    "start_time": "2022-08-23T14:43:56.728Z"
   },
   {
    "duration": 18,
    "start_time": "2022-08-23T14:43:58.931Z"
   },
   {
    "duration": 324,
    "start_time": "2022-08-23T14:45:00.752Z"
   },
   {
    "duration": 54,
    "start_time": "2022-08-23T14:46:47.779Z"
   },
   {
    "duration": 4,
    "start_time": "2022-08-23T14:46:53.256Z"
   },
   {
    "duration": 6,
    "start_time": "2022-08-23T14:47:18.035Z"
   },
   {
    "duration": 4,
    "start_time": "2022-08-23T14:47:45.049Z"
   },
   {
    "duration": 7,
    "start_time": "2022-08-23T14:47:54.956Z"
   },
   {
    "duration": 6,
    "start_time": "2022-08-23T14:48:36.113Z"
   },
   {
    "duration": 6,
    "start_time": "2022-08-23T14:48:52.069Z"
   },
   {
    "duration": 5,
    "start_time": "2022-08-23T14:49:22.096Z"
   },
   {
    "duration": 7,
    "start_time": "2022-08-23T14:49:31.477Z"
   },
   {
    "duration": 9,
    "start_time": "2022-08-23T14:51:29.688Z"
   },
   {
    "duration": 16,
    "start_time": "2022-08-23T14:51:48.282Z"
   },
   {
    "duration": 29,
    "start_time": "2022-08-23T14:52:33.355Z"
   },
   {
    "duration": 5,
    "start_time": "2022-08-23T14:53:42.413Z"
   },
   {
    "duration": 7,
    "start_time": "2022-08-23T14:54:00.579Z"
   },
   {
    "duration": 8,
    "start_time": "2022-08-23T14:54:06.281Z"
   },
   {
    "duration": 9,
    "start_time": "2022-08-23T14:54:32.509Z"
   },
   {
    "duration": 9,
    "start_time": "2022-08-23T14:54:43.315Z"
   },
   {
    "duration": 12,
    "start_time": "2022-08-23T14:55:07.096Z"
   },
   {
    "duration": 8,
    "start_time": "2022-08-23T14:55:45.092Z"
   },
   {
    "duration": 10,
    "start_time": "2022-08-23T14:55:52.171Z"
   },
   {
    "duration": 10,
    "start_time": "2022-08-23T14:56:29.541Z"
   },
   {
    "duration": 25,
    "start_time": "2022-08-23T14:57:38.728Z"
   },
   {
    "duration": 25,
    "start_time": "2022-08-23T14:57:52.121Z"
   },
   {
    "duration": 25,
    "start_time": "2022-08-23T14:58:20.613Z"
   },
   {
    "duration": 167,
    "start_time": "2022-08-23T14:59:05.768Z"
   },
   {
    "duration": 54,
    "start_time": "2022-08-23T14:59:44.794Z"
   },
   {
    "duration": 88,
    "start_time": "2022-08-23T14:59:57.012Z"
   },
   {
    "duration": 57,
    "start_time": "2022-08-23T15:00:07.382Z"
   },
   {
    "duration": 52,
    "start_time": "2022-08-23T15:00:10.710Z"
   },
   {
    "duration": 174,
    "start_time": "2022-08-23T15:00:17.424Z"
   },
   {
    "duration": 161,
    "start_time": "2022-08-23T15:00:22.545Z"
   },
   {
    "duration": 35,
    "start_time": "2022-08-23T15:00:42.149Z"
   },
   {
    "duration": 170,
    "start_time": "2022-08-23T15:00:51.653Z"
   },
   {
    "duration": 159,
    "start_time": "2022-08-23T15:01:07.771Z"
   },
   {
    "duration": 235,
    "start_time": "2022-08-23T15:01:19.136Z"
   },
   {
    "duration": 197,
    "start_time": "2022-08-23T15:01:29.244Z"
   },
   {
    "duration": 35,
    "start_time": "2022-08-23T15:01:45.752Z"
   },
   {
    "duration": 32,
    "start_time": "2022-08-23T15:01:59.629Z"
   },
   {
    "duration": 31,
    "start_time": "2022-08-23T15:02:19.426Z"
   },
   {
    "duration": 34,
    "start_time": "2022-08-23T15:02:28.112Z"
   },
   {
    "duration": 203,
    "start_time": "2022-08-23T15:02:37.375Z"
   },
   {
    "duration": 84,
    "start_time": "2022-08-23T15:07:01.075Z"
   },
   {
    "duration": 23,
    "start_time": "2022-08-23T15:07:02.714Z"
   },
   {
    "duration": 2887,
    "start_time": "2022-08-23T15:07:10.374Z"
   },
   {
    "duration": 28,
    "start_time": "2022-08-23T15:08:13.316Z"
   },
   {
    "duration": 93,
    "start_time": "2022-08-23T15:08:28.469Z"
   },
   {
    "duration": 67,
    "start_time": "2022-08-23T15:09:02.030Z"
   },
   {
    "duration": 251,
    "start_time": "2022-08-23T15:09:19.110Z"
   },
   {
    "duration": 248,
    "start_time": "2022-08-23T15:09:59.040Z"
   },
   {
    "duration": 26,
    "start_time": "2022-08-23T15:10:12.972Z"
   },
   {
    "duration": 264,
    "start_time": "2022-08-23T15:10:20.165Z"
   },
   {
    "duration": 27,
    "start_time": "2022-08-23T15:10:29.771Z"
   },
   {
    "duration": 49,
    "start_time": "2022-08-23T15:19:13.128Z"
   },
   {
    "duration": 632,
    "start_time": "2022-08-24T11:04:21.242Z"
   },
   {
    "duration": 116,
    "start_time": "2022-08-24T11:04:21.876Z"
   },
   {
    "duration": 76,
    "start_time": "2022-08-24T11:04:21.993Z"
   },
   {
    "duration": 9,
    "start_time": "2022-08-24T11:04:22.071Z"
   },
   {
    "duration": 1863,
    "start_time": "2022-08-24T11:04:22.081Z"
   },
   {
    "duration": 9,
    "start_time": "2022-08-24T11:04:23.947Z"
   },
   {
    "duration": 14,
    "start_time": "2022-08-24T11:04:23.957Z"
   },
   {
    "duration": 102,
    "start_time": "2022-08-24T11:04:23.973Z"
   },
   {
    "duration": 33,
    "start_time": "2022-08-24T11:04:24.077Z"
   },
   {
    "duration": 7,
    "start_time": "2022-08-24T11:04:24.112Z"
   },
   {
    "duration": 4546,
    "start_time": "2022-08-24T11:04:24.120Z"
   },
   {
    "duration": 7,
    "start_time": "2022-08-24T11:04:28.667Z"
   },
   {
    "duration": 11,
    "start_time": "2022-08-24T11:04:28.676Z"
   },
   {
    "duration": 14,
    "start_time": "2022-08-24T11:04:28.688Z"
   },
   {
    "duration": 9,
    "start_time": "2022-08-24T11:04:28.704Z"
   },
   {
    "duration": 7,
    "start_time": "2022-08-24T11:04:28.714Z"
   },
   {
    "duration": 2,
    "start_time": "2022-08-24T11:04:28.722Z"
   },
   {
    "duration": 7,
    "start_time": "2022-08-24T11:04:28.725Z"
   },
   {
    "duration": 4,
    "start_time": "2022-08-24T11:04:28.734Z"
   },
   {
    "duration": 14,
    "start_time": "2022-08-24T11:04:28.739Z"
   },
   {
    "duration": 9,
    "start_time": "2022-08-24T11:04:28.754Z"
   },
   {
    "duration": 8,
    "start_time": "2022-08-24T11:04:28.765Z"
   },
   {
    "duration": 139,
    "start_time": "2022-08-24T11:04:28.775Z"
   },
   {
    "duration": 13,
    "start_time": "2022-08-24T11:04:28.915Z"
   },
   {
    "duration": 331,
    "start_time": "2022-08-24T11:04:28.929Z"
   },
   {
    "duration": 171,
    "start_time": "2022-08-24T11:04:29.261Z"
   },
   {
    "duration": 11,
    "start_time": "2022-08-24T11:04:29.434Z"
   },
   {
    "duration": 14,
    "start_time": "2022-08-24T11:04:29.448Z"
   },
   {
    "duration": 12,
    "start_time": "2022-08-24T11:04:29.463Z"
   },
   {
    "duration": 25,
    "start_time": "2022-08-24T11:04:29.476Z"
   },
   {
    "duration": 20,
    "start_time": "2022-08-24T11:04:29.503Z"
   },
   {
    "duration": 13,
    "start_time": "2022-08-24T11:04:29.525Z"
   },
   {
    "duration": 219,
    "start_time": "2022-08-24T11:04:29.539Z"
   },
   {
    "duration": 12,
    "start_time": "2022-08-24T11:04:29.760Z"
   },
   {
    "duration": 27,
    "start_time": "2022-08-24T11:04:29.774Z"
   },
   {
    "duration": 13,
    "start_time": "2022-08-24T11:04:29.802Z"
   },
   {
    "duration": 13,
    "start_time": "2022-08-24T11:04:29.816Z"
   },
   {
    "duration": 13,
    "start_time": "2022-08-24T11:04:29.830Z"
   },
   {
    "duration": 12,
    "start_time": "2022-08-24T11:04:29.844Z"
   },
   {
    "duration": 170,
    "start_time": "2022-08-24T11:04:29.858Z"
   },
   {
    "duration": 10,
    "start_time": "2022-08-24T11:04:30.030Z"
   },
   {
    "duration": 87,
    "start_time": "2022-08-24T11:04:30.042Z"
   },
   {
    "duration": 17,
    "start_time": "2022-08-24T11:04:30.130Z"
   },
   {
    "duration": 2331,
    "start_time": "2022-08-24T11:04:30.148Z"
   },
   {
    "duration": 34,
    "start_time": "2022-08-24T11:04:32.481Z"
   },
   {
    "duration": 650,
    "start_time": "2022-08-24T11:05:07.370Z"
   },
   {
    "duration": 124,
    "start_time": "2022-08-24T11:05:08.022Z"
   },
   {
    "duration": 76,
    "start_time": "2022-08-24T11:05:08.147Z"
   },
   {
    "duration": 9,
    "start_time": "2022-08-24T11:05:08.225Z"
   },
   {
    "duration": 2066,
    "start_time": "2022-08-24T11:05:08.236Z"
   },
   {
    "duration": 12,
    "start_time": "2022-08-24T11:05:10.304Z"
   },
   {
    "duration": 34,
    "start_time": "2022-08-24T11:05:10.317Z"
   },
   {
    "duration": 123,
    "start_time": "2022-08-24T11:05:10.353Z"
   },
   {
    "duration": 38,
    "start_time": "2022-08-24T11:05:10.478Z"
   },
   {
    "duration": 7,
    "start_time": "2022-08-24T11:05:10.519Z"
   },
   {
    "duration": 4981,
    "start_time": "2022-08-24T11:05:10.528Z"
   },
   {
    "duration": 7,
    "start_time": "2022-08-24T11:05:15.510Z"
   },
   {
    "duration": 11,
    "start_time": "2022-08-24T11:05:15.519Z"
   },
   {
    "duration": 4,
    "start_time": "2022-08-24T11:05:15.531Z"
   },
   {
    "duration": 13,
    "start_time": "2022-08-24T11:05:15.537Z"
   },
   {
    "duration": 8,
    "start_time": "2022-08-24T11:05:15.552Z"
   },
   {
    "duration": 4,
    "start_time": "2022-08-24T11:05:15.562Z"
   },
   {
    "duration": 8,
    "start_time": "2022-08-24T11:05:15.568Z"
   },
   {
    "duration": 23,
    "start_time": "2022-08-24T11:05:15.578Z"
   },
   {
    "duration": 8,
    "start_time": "2022-08-24T11:05:15.602Z"
   },
   {
    "duration": 6,
    "start_time": "2022-08-24T11:05:15.611Z"
   },
   {
    "duration": 9,
    "start_time": "2022-08-24T11:05:15.619Z"
   },
   {
    "duration": 139,
    "start_time": "2022-08-24T11:05:15.629Z"
   },
   {
    "duration": 13,
    "start_time": "2022-08-24T11:05:15.770Z"
   },
   {
    "duration": 318,
    "start_time": "2022-08-24T11:05:15.784Z"
   },
   {
    "duration": 169,
    "start_time": "2022-08-24T11:05:16.103Z"
   },
   {
    "duration": 12,
    "start_time": "2022-08-24T11:05:16.273Z"
   },
   {
    "duration": 14,
    "start_time": "2022-08-24T11:05:16.299Z"
   },
   {
    "duration": 13,
    "start_time": "2022-08-24T11:05:16.314Z"
   },
   {
    "duration": 4,
    "start_time": "2022-08-24T11:05:16.328Z"
   },
   {
    "duration": 19,
    "start_time": "2022-08-24T11:05:16.333Z"
   },
   {
    "duration": 13,
    "start_time": "2022-08-24T11:05:16.353Z"
   },
   {
    "duration": 243,
    "start_time": "2022-08-24T11:05:16.367Z"
   },
   {
    "duration": 14,
    "start_time": "2022-08-24T11:05:16.612Z"
   },
   {
    "duration": 14,
    "start_time": "2022-08-24T11:05:16.628Z"
   },
   {
    "duration": 13,
    "start_time": "2022-08-24T11:05:16.643Z"
   },
   {
    "duration": 45,
    "start_time": "2022-08-24T11:05:16.658Z"
   },
   {
    "duration": 13,
    "start_time": "2022-08-24T11:05:16.704Z"
   },
   {
    "duration": 13,
    "start_time": "2022-08-24T11:05:16.718Z"
   },
   {
    "duration": 158,
    "start_time": "2022-08-24T11:05:16.732Z"
   },
   {
    "duration": 14,
    "start_time": "2022-08-24T11:05:16.891Z"
   },
   {
    "duration": 66,
    "start_time": "2022-08-24T11:05:16.907Z"
   },
   {
    "duration": 38,
    "start_time": "2022-08-24T11:05:16.974Z"
   },
   {
    "duration": 2289,
    "start_time": "2022-08-24T11:05:17.015Z"
   },
   {
    "duration": 23,
    "start_time": "2022-08-24T11:05:19.306Z"
   },
   {
    "duration": 15,
    "start_time": "2022-08-24T11:37:31.376Z"
   },
   {
    "duration": 135,
    "start_time": "2022-08-24T11:39:35.989Z"
   },
   {
    "duration": 14,
    "start_time": "2022-08-24T11:40:33.568Z"
   },
   {
    "duration": 204,
    "start_time": "2022-08-24T11:40:37.708Z"
   },
   {
    "duration": 62,
    "start_time": "2022-08-24T13:45:55.235Z"
   },
   {
    "duration": 111,
    "start_time": "2022-08-24T13:46:04.823Z"
   },
   {
    "duration": 54,
    "start_time": "2022-08-24T13:46:09.215Z"
   },
   {
    "duration": 86,
    "start_time": "2022-08-24T13:46:28.411Z"
   },
   {
    "duration": 102,
    "start_time": "2022-08-24T13:46:34.975Z"
   },
   {
    "duration": 41,
    "start_time": "2022-08-24T13:48:02.304Z"
   },
   {
    "duration": 841,
    "start_time": "2022-08-24T13:48:09.778Z"
   },
   {
    "duration": 386,
    "start_time": "2022-08-24T13:48:11.243Z"
   },
   {
    "duration": 102,
    "start_time": "2022-08-24T13:48:11.631Z"
   },
   {
    "duration": 10,
    "start_time": "2022-08-24T13:48:12.974Z"
   },
   {
    "duration": 61,
    "start_time": "2022-08-24T13:48:13.891Z"
   },
   {
    "duration": 2075,
    "start_time": "2022-08-24T13:49:50.995Z"
   },
   {
    "duration": 1969,
    "start_time": "2022-08-24T13:50:17.518Z"
   },
   {
    "duration": 15,
    "start_time": "2022-08-24T13:50:22.569Z"
   },
   {
    "duration": 14,
    "start_time": "2022-08-24T13:50:23.273Z"
   },
   {
    "duration": 121,
    "start_time": "2022-08-24T13:50:23.890Z"
   },
   {
    "duration": 33,
    "start_time": "2022-08-24T13:50:25.655Z"
   },
   {
    "duration": 7,
    "start_time": "2022-08-24T13:50:26.760Z"
   },
   {
    "duration": 4910,
    "start_time": "2022-08-24T13:50:29.390Z"
   },
   {
    "duration": 8,
    "start_time": "2022-08-24T13:50:35.641Z"
   },
   {
    "duration": 12,
    "start_time": "2022-08-24T13:50:41.741Z"
   },
   {
    "duration": 5,
    "start_time": "2022-08-24T13:50:44.722Z"
   },
   {
    "duration": 6,
    "start_time": "2022-08-24T13:50:45.632Z"
   },
   {
    "duration": 8,
    "start_time": "2022-08-24T13:50:47.434Z"
   },
   {
    "duration": 10,
    "start_time": "2022-08-24T13:51:12.875Z"
   },
   {
    "duration": 9,
    "start_time": "2022-08-24T13:51:24.650Z"
   },
   {
    "duration": 9,
    "start_time": "2022-08-24T13:51:32.854Z"
   },
   {
    "duration": 9,
    "start_time": "2022-08-24T13:51:41.507Z"
   },
   {
    "duration": 6,
    "start_time": "2022-08-24T13:51:46.891Z"
   },
   {
    "duration": 7,
    "start_time": "2022-08-24T13:51:48.455Z"
   },
   {
    "duration": 8,
    "start_time": "2022-08-24T13:52:13.791Z"
   },
   {
    "duration": 3,
    "start_time": "2022-08-24T13:52:27.285Z"
   },
   {
    "duration": 129,
    "start_time": "2022-08-24T13:52:27.827Z"
   },
   {
    "duration": 68,
    "start_time": "2022-08-24T13:52:28.460Z"
   },
   {
    "duration": 10,
    "start_time": "2022-08-24T13:52:29.437Z"
   },
   {
    "duration": 2090,
    "start_time": "2022-08-24T13:52:30.133Z"
   },
   {
    "duration": 9,
    "start_time": "2022-08-24T13:52:33.648Z"
   },
   {
    "duration": 23,
    "start_time": "2022-08-24T13:52:34.260Z"
   },
   {
    "duration": 121,
    "start_time": "2022-08-24T13:52:34.430Z"
   },
   {
    "duration": 24,
    "start_time": "2022-08-24T13:52:35.289Z"
   },
   {
    "duration": 9,
    "start_time": "2022-08-24T13:52:35.659Z"
   },
   {
    "duration": 5071,
    "start_time": "2022-08-24T13:52:35.918Z"
   },
   {
    "duration": 14,
    "start_time": "2022-08-24T13:52:40.992Z"
   },
   {
    "duration": 21,
    "start_time": "2022-08-24T13:52:41.008Z"
   },
   {
    "duration": 5,
    "start_time": "2022-08-24T13:52:42.709Z"
   },
   {
    "duration": 6,
    "start_time": "2022-08-24T13:52:43.794Z"
   },
   {
    "duration": 8,
    "start_time": "2022-08-24T13:52:45.155Z"
   },
   {
    "duration": 9,
    "start_time": "2022-08-24T13:53:04.004Z"
   },
   {
    "duration": 10,
    "start_time": "2022-08-24T13:53:13.851Z"
   },
   {
    "duration": 10,
    "start_time": "2022-08-24T13:55:35.520Z"
   },
   {
    "duration": 11,
    "start_time": "2022-08-24T13:55:42.837Z"
   },
   {
    "duration": 8,
    "start_time": "2022-08-24T13:55:48.038Z"
   },
   {
    "duration": 9,
    "start_time": "2022-08-24T13:57:13.770Z"
   },
   {
    "duration": 11,
    "start_time": "2022-08-24T14:00:52.932Z"
   },
   {
    "duration": 9,
    "start_time": "2022-08-24T14:00:55.729Z"
   },
   {
    "duration": 17,
    "start_time": "2022-08-24T14:00:58.398Z"
   },
   {
    "duration": 12,
    "start_time": "2022-08-24T14:00:59.201Z"
   },
   {
    "duration": 6,
    "start_time": "2022-08-24T14:00:59.917Z"
   },
   {
    "duration": 12,
    "start_time": "2022-08-24T14:01:00.896Z"
   },
   {
    "duration": 5,
    "start_time": "2022-08-24T14:01:47.570Z"
   },
   {
    "duration": 11,
    "start_time": "2022-08-24T14:01:51.485Z"
   },
   {
    "duration": 6,
    "start_time": "2022-08-24T14:01:52.014Z"
   },
   {
    "duration": 6,
    "start_time": "2022-08-24T14:02:11.967Z"
   },
   {
    "duration": 10,
    "start_time": "2022-08-24T14:02:15.009Z"
   },
   {
    "duration": 7,
    "start_time": "2022-08-24T14:29:25.085Z"
   },
   {
    "duration": 7,
    "start_time": "2022-08-24T14:29:38.518Z"
   },
   {
    "duration": 7,
    "start_time": "2022-08-24T14:31:14.133Z"
   },
   {
    "duration": 8,
    "start_time": "2022-08-24T14:31:41.253Z"
   },
   {
    "duration": 11,
    "start_time": "2022-08-24T14:31:57.208Z"
   },
   {
    "duration": 7,
    "start_time": "2022-08-24T14:33:29.027Z"
   },
   {
    "duration": 9,
    "start_time": "2022-08-24T14:33:37.715Z"
   },
   {
    "duration": 8,
    "start_time": "2022-08-24T14:33:49.518Z"
   },
   {
    "duration": 7,
    "start_time": "2022-08-24T14:33:55.918Z"
   },
   {
    "duration": 10,
    "start_time": "2022-08-24T14:34:03.918Z"
   },
   {
    "duration": 7,
    "start_time": "2022-08-24T14:34:24.020Z"
   },
   {
    "duration": 7,
    "start_time": "2022-08-24T14:34:28.614Z"
   },
   {
    "duration": 5,
    "start_time": "2022-08-24T14:35:22.747Z"
   },
   {
    "duration": 14,
    "start_time": "2022-08-24T14:35:42.588Z"
   },
   {
    "duration": 115,
    "start_time": "2022-08-24T14:35:52.871Z"
   },
   {
    "duration": 9,
    "start_time": "2022-08-24T14:38:04.115Z"
   },
   {
    "duration": 6,
    "start_time": "2022-08-24T14:38:12.119Z"
   },
   {
    "duration": 5,
    "start_time": "2022-08-24T14:38:19.268Z"
   },
   {
    "duration": 8,
    "start_time": "2022-08-24T14:38:19.826Z"
   },
   {
    "duration": 6,
    "start_time": "2022-08-24T14:38:20.380Z"
   },
   {
    "duration": 4,
    "start_time": "2022-08-24T14:38:30.768Z"
   },
   {
    "duration": 123,
    "start_time": "2022-08-24T14:38:31.520Z"
   },
   {
    "duration": 71,
    "start_time": "2022-08-24T14:38:31.768Z"
   },
   {
    "duration": 11,
    "start_time": "2022-08-24T14:38:32.514Z"
   },
   {
    "duration": 1950,
    "start_time": "2022-08-24T14:38:33.012Z"
   },
   {
    "duration": 10,
    "start_time": "2022-08-24T14:38:36.912Z"
   },
   {
    "duration": 14,
    "start_time": "2022-08-24T14:38:37.559Z"
   },
   {
    "duration": 100,
    "start_time": "2022-08-24T14:38:37.783Z"
   },
   {
    "duration": 31,
    "start_time": "2022-08-24T14:38:38.695Z"
   },
   {
    "duration": 7,
    "start_time": "2022-08-24T14:38:39.531Z"
   },
   {
    "duration": 5750,
    "start_time": "2022-08-24T14:38:39.958Z"
   },
   {
    "duration": 11,
    "start_time": "2022-08-24T14:38:45.710Z"
   },
   {
    "duration": 9,
    "start_time": "2022-08-24T14:38:49.183Z"
   },
   {
    "duration": 6,
    "start_time": "2022-08-24T14:38:50.319Z"
   },
   {
    "duration": 6,
    "start_time": "2022-08-24T14:38:51.234Z"
   },
   {
    "duration": 5,
    "start_time": "2022-08-24T14:38:51.751Z"
   },
   {
    "duration": 23,
    "start_time": "2022-08-24T14:38:52.193Z"
   },
   {
    "duration": 5,
    "start_time": "2022-08-24T14:38:52.815Z"
   },
   {
    "duration": 5,
    "start_time": "2022-08-24T14:39:15.193Z"
   },
   {
    "duration": 5,
    "start_time": "2022-08-24T14:39:19.349Z"
   },
   {
    "duration": 5,
    "start_time": "2022-08-24T14:39:21.792Z"
   },
   {
    "duration": 11,
    "start_time": "2022-08-24T14:39:25.299Z"
   },
   {
    "duration": 7,
    "start_time": "2022-08-24T14:39:26.175Z"
   },
   {
    "duration": 5,
    "start_time": "2022-08-24T14:39:26.650Z"
   },
   {
    "duration": 6,
    "start_time": "2022-08-24T14:39:27.116Z"
   },
   {
    "duration": 6,
    "start_time": "2022-08-24T14:39:37.227Z"
   },
   {
    "duration": 6,
    "start_time": "2022-08-24T14:39:47.977Z"
   },
   {
    "duration": 6,
    "start_time": "2022-08-24T14:39:48.917Z"
   },
   {
    "duration": 5,
    "start_time": "2022-08-24T14:39:49.618Z"
   },
   {
    "duration": 6,
    "start_time": "2022-08-24T14:39:50.059Z"
   },
   {
    "duration": 6,
    "start_time": "2022-08-24T14:40:08.570Z"
   },
   {
    "duration": 137,
    "start_time": "2022-08-24T14:40:38.098Z"
   },
   {
    "duration": 7,
    "start_time": "2022-08-24T14:40:57.320Z"
   },
   {
    "duration": 6,
    "start_time": "2022-08-24T14:41:01.487Z"
   },
   {
    "duration": 7,
    "start_time": "2022-08-24T14:41:22.216Z"
   },
   {
    "duration": 6,
    "start_time": "2022-08-24T14:41:32.259Z"
   },
   {
    "duration": 40,
    "start_time": "2022-08-24T14:41:57.512Z"
   },
   {
    "duration": 7,
    "start_time": "2022-08-24T14:42:33.872Z"
   },
   {
    "duration": 5,
    "start_time": "2022-08-24T14:42:36.215Z"
   },
   {
    "duration": 38,
    "start_time": "2022-08-24T14:42:37.818Z"
   },
   {
    "duration": 28,
    "start_time": "2022-08-24T14:43:57.425Z"
   },
   {
    "duration": 7,
    "start_time": "2022-08-24T14:44:41.586Z"
   },
   {
    "duration": 6,
    "start_time": "2022-08-24T14:44:43.561Z"
   },
   {
    "duration": 32,
    "start_time": "2022-08-24T14:44:45.619Z"
   },
   {
    "duration": 42,
    "start_time": "2022-08-24T14:45:12.687Z"
   },
   {
    "duration": 7,
    "start_time": "2022-08-24T14:45:57.315Z"
   },
   {
    "duration": 8,
    "start_time": "2022-08-24T14:46:50.724Z"
   },
   {
    "duration": 7,
    "start_time": "2022-08-24T14:46:51.258Z"
   },
   {
    "duration": 6,
    "start_time": "2022-08-24T14:46:51.715Z"
   },
   {
    "duration": 7,
    "start_time": "2022-08-24T14:46:52.215Z"
   },
   {
    "duration": 5,
    "start_time": "2022-08-24T14:47:16.712Z"
   },
   {
    "duration": 5,
    "start_time": "2022-08-24T14:47:18.716Z"
   },
   {
    "duration": 7,
    "start_time": "2022-08-24T14:47:20.467Z"
   },
   {
    "duration": 55,
    "start_time": "2022-08-24T14:47:23.929Z"
   },
   {
    "duration": 38,
    "start_time": "2022-08-24T14:47:32.459Z"
   },
   {
    "duration": 40,
    "start_time": "2022-08-24T14:47:39.031Z"
   },
   {
    "duration": 7,
    "start_time": "2022-08-24T14:50:02.083Z"
   },
   {
    "duration": 117,
    "start_time": "2022-08-24T14:51:00.423Z"
   },
   {
    "duration": 126,
    "start_time": "2022-08-24T14:51:04.511Z"
   },
   {
    "duration": 5,
    "start_time": "2022-08-24T14:51:16.315Z"
   },
   {
    "duration": 6,
    "start_time": "2022-08-24T14:51:18.572Z"
   },
   {
    "duration": 85,
    "start_time": "2022-08-24T14:51:27.943Z"
   },
   {
    "duration": 6,
    "start_time": "2022-08-24T14:51:31.663Z"
   },
   {
    "duration": 6,
    "start_time": "2022-08-24T14:51:36.138Z"
   },
   {
    "duration": 52,
    "start_time": "2022-08-24T14:51:42.083Z"
   },
   {
    "duration": 7,
    "start_time": "2022-08-24T15:36:32.954Z"
   },
   {
    "duration": 6,
    "start_time": "2022-08-24T15:36:33.431Z"
   },
   {
    "duration": 39,
    "start_time": "2022-08-24T15:36:34.339Z"
   },
   {
    "duration": 4,
    "start_time": "2022-08-24T15:37:11.881Z"
   },
   {
    "duration": 118,
    "start_time": "2022-08-24T15:37:12.568Z"
   },
   {
    "duration": 634,
    "start_time": "2022-08-24T15:37:21.943Z"
   },
   {
    "duration": 139,
    "start_time": "2022-08-24T15:37:22.579Z"
   },
   {
    "duration": 71,
    "start_time": "2022-08-24T15:37:22.720Z"
   },
   {
    "duration": 9,
    "start_time": "2022-08-24T15:37:22.793Z"
   },
   {
    "duration": 1983,
    "start_time": "2022-08-24T15:37:22.803Z"
   },
   {
    "duration": 15,
    "start_time": "2022-08-24T15:37:24.789Z"
   },
   {
    "duration": 27,
    "start_time": "2022-08-24T15:37:24.807Z"
   },
   {
    "duration": 127,
    "start_time": "2022-08-24T15:37:24.836Z"
   },
   {
    "duration": 42,
    "start_time": "2022-08-24T15:37:24.965Z"
   },
   {
    "duration": 13,
    "start_time": "2022-08-24T15:37:25.011Z"
   },
   {
    "duration": 5122,
    "start_time": "2022-08-24T15:37:25.026Z"
   },
   {
    "duration": 9,
    "start_time": "2022-08-24T15:37:30.151Z"
   },
   {
    "duration": 21,
    "start_time": "2022-08-24T15:37:30.162Z"
   },
   {
    "duration": 38,
    "start_time": "2022-08-24T15:37:30.185Z"
   },
   {
    "duration": 21,
    "start_time": "2022-08-24T15:37:30.228Z"
   },
   {
    "duration": 22,
    "start_time": "2022-08-24T15:37:30.250Z"
   },
   {
    "duration": 45,
    "start_time": "2022-08-24T15:37:30.274Z"
   },
   {
    "duration": 15,
    "start_time": "2022-08-24T15:37:30.322Z"
   },
   {
    "duration": 15,
    "start_time": "2022-08-24T15:37:30.339Z"
   },
   {
    "duration": 22,
    "start_time": "2022-08-24T15:37:30.357Z"
   },
   {
    "duration": 41,
    "start_time": "2022-08-24T15:37:30.381Z"
   },
   {
    "duration": 35,
    "start_time": "2022-08-24T15:37:30.424Z"
   },
   {
    "duration": 80,
    "start_time": "2022-08-24T15:37:30.461Z"
   },
   {
    "duration": 157,
    "start_time": "2022-08-24T15:37:30.543Z"
   },
   {
    "duration": 15,
    "start_time": "2022-08-24T15:37:30.701Z"
   },
   {
    "duration": 44,
    "start_time": "2022-08-24T15:37:30.718Z"
   },
   {
    "duration": 188,
    "start_time": "2022-08-24T15:37:30.764Z"
   },
   {
    "duration": 14,
    "start_time": "2022-08-24T15:37:30.957Z"
   },
   {
    "duration": 470,
    "start_time": "2022-08-24T15:37:30.974Z"
   },
   {
    "duration": 284,
    "start_time": "2022-08-24T15:37:31.446Z"
   },
   {
    "duration": 18,
    "start_time": "2022-08-24T15:37:31.732Z"
   },
   {
    "duration": 42,
    "start_time": "2022-08-24T15:37:31.756Z"
   },
   {
    "duration": 20,
    "start_time": "2022-08-24T15:37:31.804Z"
   },
   {
    "duration": 21,
    "start_time": "2022-08-24T15:37:31.829Z"
   },
   {
    "duration": 31,
    "start_time": "2022-08-24T15:37:31.852Z"
   },
   {
    "duration": 35,
    "start_time": "2022-08-24T15:37:31.884Z"
   },
   {
    "duration": 142,
    "start_time": "2022-08-24T15:37:31.921Z"
   },
   {
    "duration": 16,
    "start_time": "2022-08-24T15:37:32.064Z"
   },
   {
    "duration": 37,
    "start_time": "2022-08-24T15:37:32.082Z"
   },
   {
    "duration": 17,
    "start_time": "2022-08-24T15:37:32.121Z"
   },
   {
    "duration": 20,
    "start_time": "2022-08-24T15:37:32.140Z"
   },
   {
    "duration": 41,
    "start_time": "2022-08-24T15:37:32.162Z"
   },
   {
    "duration": 16,
    "start_time": "2022-08-24T15:37:32.211Z"
   },
   {
    "duration": 165,
    "start_time": "2022-08-24T15:37:32.229Z"
   },
   {
    "duration": 15,
    "start_time": "2022-08-24T15:37:32.404Z"
   },
   {
    "duration": 77,
    "start_time": "2022-08-24T15:37:32.420Z"
   },
   {
    "duration": 23,
    "start_time": "2022-08-24T15:37:32.500Z"
   },
   {
    "duration": 2668,
    "start_time": "2022-08-24T15:37:32.524Z"
   },
   {
    "duration": 27,
    "start_time": "2022-08-24T15:37:35.203Z"
   },
   {
    "duration": 749,
    "start_time": "2022-08-24T15:38:16.823Z"
   },
   {
    "duration": 172,
    "start_time": "2022-08-24T15:38:17.574Z"
   },
   {
    "duration": 94,
    "start_time": "2022-08-24T15:38:17.748Z"
   },
   {
    "duration": 12,
    "start_time": "2022-08-24T15:38:17.845Z"
   },
   {
    "duration": 2144,
    "start_time": "2022-08-24T15:38:17.860Z"
   },
   {
    "duration": 19,
    "start_time": "2022-08-24T15:38:20.006Z"
   },
   {
    "duration": 29,
    "start_time": "2022-08-24T15:38:20.027Z"
   },
   {
    "duration": 147,
    "start_time": "2022-08-24T15:38:20.058Z"
   },
   {
    "duration": 33,
    "start_time": "2022-08-24T15:38:20.207Z"
   },
   {
    "duration": 9,
    "start_time": "2022-08-24T15:38:20.242Z"
   },
   {
    "duration": 5283,
    "start_time": "2022-08-24T15:38:20.253Z"
   },
   {
    "duration": 7,
    "start_time": "2022-08-24T15:38:25.538Z"
   },
   {
    "duration": 19,
    "start_time": "2022-08-24T15:38:25.547Z"
   },
   {
    "duration": 5,
    "start_time": "2022-08-24T15:38:25.569Z"
   },
   {
    "duration": 11,
    "start_time": "2022-08-24T15:38:25.575Z"
   },
   {
    "duration": 34,
    "start_time": "2022-08-24T15:38:25.587Z"
   },
   {
    "duration": 7,
    "start_time": "2022-08-24T15:38:25.623Z"
   },
   {
    "duration": 26,
    "start_time": "2022-08-24T15:38:25.631Z"
   },
   {
    "duration": 8,
    "start_time": "2022-08-24T15:38:25.659Z"
   },
   {
    "duration": 6,
    "start_time": "2022-08-24T15:38:25.669Z"
   },
   {
    "duration": 9,
    "start_time": "2022-08-24T15:38:25.677Z"
   },
   {
    "duration": 25,
    "start_time": "2022-08-24T15:38:25.688Z"
   },
   {
    "duration": 49,
    "start_time": "2022-08-24T15:38:25.714Z"
   },
   {
    "duration": 154,
    "start_time": "2022-08-24T15:38:25.764Z"
   },
   {
    "duration": 8,
    "start_time": "2022-08-24T15:38:25.919Z"
   },
   {
    "duration": 11,
    "start_time": "2022-08-24T15:38:25.929Z"
   },
   {
    "duration": 175,
    "start_time": "2022-08-24T15:38:25.942Z"
   },
   {
    "duration": 14,
    "start_time": "2022-08-24T15:38:26.119Z"
   },
   {
    "duration": 426,
    "start_time": "2022-08-24T15:38:26.134Z"
   },
   {
    "duration": 188,
    "start_time": "2022-08-24T15:38:26.562Z"
   },
   {
    "duration": 15,
    "start_time": "2022-08-24T15:38:26.752Z"
   },
   {
    "duration": 41,
    "start_time": "2022-08-24T15:38:26.769Z"
   },
   {
    "duration": 15,
    "start_time": "2022-08-24T15:38:26.815Z"
   },
   {
    "duration": 4,
    "start_time": "2022-08-24T15:38:26.832Z"
   },
   {
    "duration": 18,
    "start_time": "2022-08-24T15:38:26.838Z"
   },
   {
    "duration": 18,
    "start_time": "2022-08-24T15:38:26.857Z"
   },
   {
    "duration": 178,
    "start_time": "2022-08-24T15:38:26.879Z"
   },
   {
    "duration": 21,
    "start_time": "2022-08-24T15:38:27.059Z"
   },
   {
    "duration": 36,
    "start_time": "2022-08-24T15:38:27.082Z"
   },
   {
    "duration": 21,
    "start_time": "2022-08-24T15:38:27.121Z"
   },
   {
    "duration": 14,
    "start_time": "2022-08-24T15:38:27.145Z"
   },
   {
    "duration": 14,
    "start_time": "2022-08-24T15:38:27.160Z"
   },
   {
    "duration": 34,
    "start_time": "2022-08-24T15:38:27.176Z"
   },
   {
    "duration": 171,
    "start_time": "2022-08-24T15:38:27.212Z"
   },
   {
    "duration": 17,
    "start_time": "2022-08-24T15:38:27.384Z"
   },
   {
    "duration": 69,
    "start_time": "2022-08-24T15:38:27.402Z"
   },
   {
    "duration": 41,
    "start_time": "2022-08-24T15:38:27.474Z"
   },
   {
    "duration": 2692,
    "start_time": "2022-08-24T15:38:27.517Z"
   },
   {
    "duration": 27,
    "start_time": "2022-08-24T15:38:30.213Z"
   },
   {
    "duration": 6,
    "start_time": "2022-08-24T15:40:12.722Z"
   },
   {
    "duration": 11,
    "start_time": "2022-08-24T15:40:42.770Z"
   },
   {
    "duration": 172,
    "start_time": "2022-08-24T15:41:11.013Z"
   },
   {
    "duration": 2775,
    "start_time": "2022-08-24T15:41:28.377Z"
   },
   {
    "duration": 122,
    "start_time": "2022-08-24T15:41:49.349Z"
   },
   {
    "duration": 151,
    "start_time": "2022-08-24T15:42:10.326Z"
   },
   {
    "duration": 130,
    "start_time": "2022-08-24T15:42:20.150Z"
   },
   {
    "duration": 170,
    "start_time": "2022-08-24T15:42:31.445Z"
   },
   {
    "duration": 171,
    "start_time": "2022-08-24T15:42:42.524Z"
   },
   {
    "duration": 5,
    "start_time": "2022-08-24T15:43:01.880Z"
   },
   {
    "duration": 6,
    "start_time": "2022-08-24T15:43:06.285Z"
   },
   {
    "duration": 160,
    "start_time": "2022-08-24T15:43:31.268Z"
   },
   {
    "duration": 151,
    "start_time": "2022-08-24T15:43:37.691Z"
   },
   {
    "duration": 37,
    "start_time": "2022-08-24T15:43:52.535Z"
   },
   {
    "duration": 28,
    "start_time": "2022-08-24T15:43:57.283Z"
   },
   {
    "duration": 27,
    "start_time": "2022-08-24T15:46:11.744Z"
   },
   {
    "duration": 5,
    "start_time": "2022-08-24T15:47:57.426Z"
   },
   {
    "duration": 77,
    "start_time": "2022-08-24T15:48:13.364Z"
   },
   {
    "duration": 27,
    "start_time": "2022-08-24T15:48:24.801Z"
   },
   {
    "duration": 7,
    "start_time": "2022-08-24T15:48:28.057Z"
   },
   {
    "duration": 12,
    "start_time": "2022-08-24T15:48:30.154Z"
   },
   {
    "duration": 9,
    "start_time": "2022-08-24T15:49:01.523Z"
   },
   {
    "duration": 176,
    "start_time": "2022-08-24T15:49:24.644Z"
   },
   {
    "duration": 5,
    "start_time": "2022-08-24T15:49:49.761Z"
   },
   {
    "duration": 6,
    "start_time": "2022-08-24T15:50:02.474Z"
   },
   {
    "duration": 6,
    "start_time": "2022-08-24T15:50:20.116Z"
   },
   {
    "duration": 7,
    "start_time": "2022-08-24T15:50:24.778Z"
   },
   {
    "duration": 5,
    "start_time": "2022-08-24T15:50:54.634Z"
   },
   {
    "duration": 136,
    "start_time": "2022-08-24T15:51:10.355Z"
   },
   {
    "duration": 117,
    "start_time": "2022-08-24T15:51:18.236Z"
   },
   {
    "duration": 174,
    "start_time": "2022-08-24T15:52:10.581Z"
   },
   {
    "duration": 7,
    "start_time": "2022-08-24T15:55:38.716Z"
   },
   {
    "duration": 9,
    "start_time": "2022-08-24T15:56:13.768Z"
   },
   {
    "duration": 9,
    "start_time": "2022-08-24T15:56:20.398Z"
   },
   {
    "duration": 7,
    "start_time": "2022-08-24T15:56:28.649Z"
   },
   {
    "duration": 129,
    "start_time": "2022-08-24T15:56:29.419Z"
   },
   {
    "duration": 131,
    "start_time": "2022-08-24T15:56:43.726Z"
   },
   {
    "duration": 12,
    "start_time": "2022-08-24T15:56:49.350Z"
   },
   {
    "duration": 571,
    "start_time": "2022-08-24T15:57:08.342Z"
   },
   {
    "duration": 170,
    "start_time": "2022-08-24T15:57:24.588Z"
   },
   {
    "duration": 154,
    "start_time": "2022-08-24T15:59:48.984Z"
   },
   {
    "duration": 9,
    "start_time": "2022-08-24T16:00:08.526Z"
   },
   {
    "duration": 9,
    "start_time": "2022-08-24T16:00:24.076Z"
   },
   {
    "duration": 7,
    "start_time": "2022-08-24T16:00:32.816Z"
   },
   {
    "duration": 130,
    "start_time": "2022-08-24T16:00:45.611Z"
   },
   {
    "duration": 8,
    "start_time": "2022-08-24T16:00:54.371Z"
   },
   {
    "duration": 8,
    "start_time": "2022-08-24T16:00:58.734Z"
   },
   {
    "duration": 161,
    "start_time": "2022-08-24T16:03:23.515Z"
   },
   {
    "duration": 7,
    "start_time": "2022-08-24T16:03:26.269Z"
   },
   {
    "duration": 10,
    "start_time": "2022-08-24T16:03:36.552Z"
   },
   {
    "duration": 131,
    "start_time": "2022-08-24T16:03:50.385Z"
   },
   {
    "duration": 128,
    "start_time": "2022-08-24T16:04:00.371Z"
   },
   {
    "duration": 8,
    "start_time": "2022-08-24T16:04:04.280Z"
   },
   {
    "duration": 7,
    "start_time": "2022-08-24T16:04:12.819Z"
   },
   {
    "duration": 7,
    "start_time": "2022-08-24T16:04:17.091Z"
   },
   {
    "duration": 14,
    "start_time": "2022-08-24T16:05:44.169Z"
   },
   {
    "duration": 16,
    "start_time": "2022-08-24T16:06:07.862Z"
   },
   {
    "duration": 13,
    "start_time": "2022-08-24T16:06:13.430Z"
   },
   {
    "duration": 652,
    "start_time": "2022-08-24T16:06:23.985Z"
   },
   {
    "duration": 114,
    "start_time": "2022-08-24T16:06:24.639Z"
   },
   {
    "duration": 75,
    "start_time": "2022-08-24T16:06:24.755Z"
   },
   {
    "duration": 9,
    "start_time": "2022-08-24T16:06:24.832Z"
   },
   {
    "duration": 1883,
    "start_time": "2022-08-24T16:06:24.843Z"
   },
   {
    "duration": 14,
    "start_time": "2022-08-24T16:06:26.728Z"
   },
   {
    "duration": 37,
    "start_time": "2022-08-24T16:06:26.744Z"
   },
   {
    "duration": 137,
    "start_time": "2022-08-24T16:06:26.783Z"
   },
   {
    "duration": 28,
    "start_time": "2022-08-24T16:06:26.922Z"
   },
   {
    "duration": 7,
    "start_time": "2022-08-24T16:06:26.952Z"
   },
   {
    "duration": 5070,
    "start_time": "2022-08-24T16:06:26.961Z"
   },
   {
    "duration": 6,
    "start_time": "2022-08-24T16:06:32.032Z"
   },
   {
    "duration": 14,
    "start_time": "2022-08-24T16:06:32.040Z"
   },
   {
    "duration": 4,
    "start_time": "2022-08-24T16:06:32.057Z"
   },
   {
    "duration": 10,
    "start_time": "2022-08-24T16:06:32.063Z"
   },
   {
    "duration": 31,
    "start_time": "2022-08-24T16:06:32.074Z"
   },
   {
    "duration": 21,
    "start_time": "2022-08-24T16:06:32.106Z"
   },
   {
    "duration": 7,
    "start_time": "2022-08-24T16:06:32.129Z"
   },
   {
    "duration": 130,
    "start_time": "2022-08-24T16:06:32.138Z"
   },
   {
    "duration": 5,
    "start_time": "2022-08-24T16:06:32.270Z"
   },
   {
    "duration": 20,
    "start_time": "2022-08-24T16:06:32.276Z"
   },
   {
    "duration": 142,
    "start_time": "2022-08-24T16:06:32.298Z"
   },
   {
    "duration": 5,
    "start_time": "2022-08-24T16:06:32.442Z"
   },
   {
    "duration": 35,
    "start_time": "2022-08-24T16:06:32.448Z"
   },
   {
    "duration": 159,
    "start_time": "2022-08-24T16:06:32.485Z"
   },
   {
    "duration": 5,
    "start_time": "2022-08-24T16:06:32.646Z"
   },
   {
    "duration": 9,
    "start_time": "2022-08-24T16:06:32.652Z"
   },
   {
    "duration": 19,
    "start_time": "2022-08-24T16:06:32.663Z"
   },
   {
    "duration": 146,
    "start_time": "2022-08-24T16:06:32.684Z"
   },
   {
    "duration": 145,
    "start_time": "2022-08-24T16:06:32.831Z"
   },
   {
    "duration": 26,
    "start_time": "2022-08-24T16:06:32.978Z"
   },
   {
    "duration": 430,
    "start_time": "2022-08-24T16:06:33.006Z"
   },
   {
    "duration": 183,
    "start_time": "2022-08-24T16:06:33.437Z"
   },
   {
    "duration": 19,
    "start_time": "2022-08-24T16:06:33.621Z"
   },
   {
    "duration": 14,
    "start_time": "2022-08-24T16:06:33.641Z"
   },
   {
    "duration": 18,
    "start_time": "2022-08-24T16:06:33.657Z"
   },
   {
    "duration": 25,
    "start_time": "2022-08-24T16:06:33.676Z"
   },
   {
    "duration": 16,
    "start_time": "2022-08-24T16:06:33.704Z"
   },
   {
    "duration": 13,
    "start_time": "2022-08-24T16:06:33.721Z"
   },
   {
    "duration": 156,
    "start_time": "2022-08-24T16:06:33.735Z"
   },
   {
    "duration": 17,
    "start_time": "2022-08-24T16:06:33.903Z"
   },
   {
    "duration": 26,
    "start_time": "2022-08-24T16:06:33.923Z"
   },
   {
    "duration": 13,
    "start_time": "2022-08-24T16:06:33.951Z"
   },
   {
    "duration": 14,
    "start_time": "2022-08-24T16:06:33.966Z"
   },
   {
    "duration": 31,
    "start_time": "2022-08-24T16:06:33.982Z"
   },
   {
    "duration": 19,
    "start_time": "2022-08-24T16:06:34.015Z"
   },
   {
    "duration": 151,
    "start_time": "2022-08-24T16:06:34.036Z"
   },
   {
    "duration": 19,
    "start_time": "2022-08-24T16:06:34.189Z"
   },
   {
    "duration": 77,
    "start_time": "2022-08-24T16:06:34.209Z"
   },
   {
    "duration": 17,
    "start_time": "2022-08-24T16:06:34.287Z"
   },
   {
    "duration": 2514,
    "start_time": "2022-08-24T16:06:34.305Z"
   },
   {
    "duration": 25,
    "start_time": "2022-08-24T16:06:36.820Z"
   },
   {
    "duration": 4,
    "start_time": "2022-08-24T16:08:13.832Z"
   },
   {
    "duration": 168,
    "start_time": "2022-08-24T16:08:28.132Z"
   },
   {
    "duration": 6,
    "start_time": "2022-08-24T16:08:38.447Z"
   },
   {
    "duration": 15,
    "start_time": "2022-08-24T16:08:56.113Z"
   },
   {
    "duration": 16,
    "start_time": "2022-08-24T16:09:04.617Z"
   },
   {
    "duration": 145,
    "start_time": "2022-08-24T16:09:31.248Z"
   },
   {
    "duration": 128,
    "start_time": "2022-08-24T16:09:43.418Z"
   },
   {
    "duration": 188,
    "start_time": "2022-08-24T16:09:56.296Z"
   },
   {
    "duration": 5,
    "start_time": "2022-08-24T16:10:54.354Z"
   },
   {
    "duration": 5,
    "start_time": "2022-08-24T16:12:09.504Z"
   },
   {
    "duration": 170,
    "start_time": "2022-08-24T16:12:11.388Z"
   },
   {
    "duration": 130,
    "start_time": "2022-08-24T16:12:57.095Z"
   },
   {
    "duration": 155,
    "start_time": "2022-08-24T16:13:09.594Z"
   },
   {
    "duration": 92,
    "start_time": "2022-08-24T16:13:20.402Z"
   },
   {
    "duration": 144,
    "start_time": "2022-08-24T16:13:24.203Z"
   },
   {
    "duration": 9,
    "start_time": "2022-08-24T16:13:38.938Z"
   },
   {
    "duration": 10,
    "start_time": "2022-08-24T16:13:50.879Z"
   },
   {
    "duration": 72,
    "start_time": "2022-08-24T16:14:02.274Z"
   },
   {
    "duration": 142,
    "start_time": "2022-08-24T16:14:15.259Z"
   },
   {
    "duration": 185,
    "start_time": "2022-08-24T16:14:46.811Z"
   },
   {
    "duration": 382,
    "start_time": "2022-08-24T16:15:02.105Z"
   },
   {
    "duration": 2420,
    "start_time": "2022-08-24T16:15:44.817Z"
   },
   {
    "duration": 5,
    "start_time": "2022-08-24T16:17:19.470Z"
   },
   {
    "duration": 229,
    "start_time": "2022-08-24T16:17:26.487Z"
   },
   {
    "duration": 922,
    "start_time": "2022-08-24T16:17:36.638Z"
   },
   {
    "duration": 116,
    "start_time": "2022-08-24T16:17:37.561Z"
   },
   {
    "duration": 73,
    "start_time": "2022-08-24T16:17:37.678Z"
   },
   {
    "duration": 9,
    "start_time": "2022-08-24T16:17:37.752Z"
   },
   {
    "duration": 1878,
    "start_time": "2022-08-24T16:17:37.764Z"
   },
   {
    "duration": 10,
    "start_time": "2022-08-24T16:17:39.644Z"
   },
   {
    "duration": 13,
    "start_time": "2022-08-24T16:17:39.656Z"
   },
   {
    "duration": 95,
    "start_time": "2022-08-24T16:17:39.671Z"
   },
   {
    "duration": 37,
    "start_time": "2022-08-24T16:17:39.768Z"
   },
   {
    "duration": 7,
    "start_time": "2022-08-24T16:17:39.806Z"
   },
   {
    "duration": 4783,
    "start_time": "2022-08-24T16:17:39.814Z"
   },
   {
    "duration": 6,
    "start_time": "2022-08-24T16:17:44.599Z"
   },
   {
    "duration": 21,
    "start_time": "2022-08-24T16:17:44.606Z"
   },
   {
    "duration": 4,
    "start_time": "2022-08-24T16:17:44.630Z"
   },
   {
    "duration": 10,
    "start_time": "2022-08-24T16:17:44.635Z"
   },
   {
    "duration": 9,
    "start_time": "2022-08-24T16:17:44.646Z"
   },
   {
    "duration": 6,
    "start_time": "2022-08-24T16:17:44.657Z"
   },
   {
    "duration": 9,
    "start_time": "2022-08-24T16:17:44.664Z"
   },
   {
    "duration": 147,
    "start_time": "2022-08-24T16:17:44.675Z"
   },
   {
    "duration": 5,
    "start_time": "2022-08-24T16:17:44.824Z"
   },
   {
    "duration": 10,
    "start_time": "2022-08-24T16:17:44.830Z"
   },
   {
    "duration": 136,
    "start_time": "2022-08-24T16:17:44.842Z"
   },
   {
    "duration": 5,
    "start_time": "2022-08-24T16:17:44.979Z"
   },
   {
    "duration": 29,
    "start_time": "2022-08-24T16:17:45.000Z"
   },
   {
    "duration": 146,
    "start_time": "2022-08-24T16:17:45.030Z"
   },
   {
    "duration": 5,
    "start_time": "2022-08-24T16:17:45.178Z"
   },
   {
    "duration": 17,
    "start_time": "2022-08-24T16:17:45.185Z"
   },
   {
    "duration": 5,
    "start_time": "2022-08-24T16:17:45.203Z"
   },
   {
    "duration": 135,
    "start_time": "2022-08-24T16:17:45.210Z"
   },
   {
    "duration": 5,
    "start_time": "2022-08-24T16:17:45.347Z"
   },
   {
    "duration": 15,
    "start_time": "2022-08-24T16:17:45.354Z"
   },
   {
    "duration": 6,
    "start_time": "2022-08-24T16:17:45.370Z"
   },
   {
    "duration": 378,
    "start_time": "2022-08-24T16:17:45.378Z"
   },
   {
    "duration": 12,
    "start_time": "2022-08-24T16:17:45.758Z"
   },
   {
    "duration": 315,
    "start_time": "2022-08-24T16:17:45.771Z"
   },
   {
    "duration": 177,
    "start_time": "2022-08-24T16:17:46.087Z"
   },
   {
    "duration": 14,
    "start_time": "2022-08-24T16:17:46.265Z"
   },
   {
    "duration": 25,
    "start_time": "2022-08-24T16:17:46.280Z"
   },
   {
    "duration": 14,
    "start_time": "2022-08-24T16:17:46.307Z"
   },
   {
    "duration": 15,
    "start_time": "2022-08-24T16:17:46.323Z"
   },
   {
    "duration": 14,
    "start_time": "2022-08-24T16:17:46.342Z"
   },
   {
    "duration": 185,
    "start_time": "2022-08-24T16:17:46.358Z"
   },
   {
    "duration": 16,
    "start_time": "2022-08-24T16:17:46.546Z"
   },
   {
    "duration": 15,
    "start_time": "2022-08-24T16:17:46.565Z"
   },
   {
    "duration": 17,
    "start_time": "2022-08-24T16:17:46.601Z"
   },
   {
    "duration": 15,
    "start_time": "2022-08-24T16:17:46.620Z"
   },
   {
    "duration": 16,
    "start_time": "2022-08-24T16:17:46.637Z"
   },
   {
    "duration": 13,
    "start_time": "2022-08-24T16:17:46.655Z"
   },
   {
    "duration": 188,
    "start_time": "2022-08-24T16:17:46.670Z"
   },
   {
    "duration": 9,
    "start_time": "2022-08-24T16:17:46.859Z"
   },
   {
    "duration": 86,
    "start_time": "2022-08-24T16:17:46.870Z"
   },
   {
    "duration": 19,
    "start_time": "2022-08-24T16:17:46.958Z"
   },
   {
    "duration": 2494,
    "start_time": "2022-08-24T16:17:46.979Z"
   },
   {
    "duration": 38,
    "start_time": "2022-08-24T16:17:49.475Z"
   },
   {
    "duration": 23,
    "start_time": "2022-08-24T16:18:45.194Z"
   },
   {
    "duration": 23,
    "start_time": "2022-08-24T16:18:50.886Z"
   },
   {
    "duration": 206,
    "start_time": "2022-08-24T16:19:10.862Z"
   },
   {
    "duration": 78,
    "start_time": "2022-08-24T16:19:36.325Z"
   },
   {
    "duration": 186,
    "start_time": "2022-08-24T16:19:40.381Z"
   },
   {
    "duration": 238,
    "start_time": "2022-08-24T16:19:50.731Z"
   },
   {
    "duration": 201,
    "start_time": "2022-08-24T16:19:57.703Z"
   },
   {
    "duration": 172,
    "start_time": "2022-08-24T16:20:10.810Z"
   },
   {
    "duration": 24,
    "start_time": "2022-08-24T16:20:38.159Z"
   },
   {
    "duration": 185,
    "start_time": "2022-08-24T16:20:47.305Z"
   },
   {
    "duration": 30,
    "start_time": "2022-08-24T16:21:07.692Z"
   },
   {
    "duration": 37,
    "start_time": "2022-08-24T16:21:13.791Z"
   },
   {
    "duration": 140,
    "start_time": "2022-08-24T16:21:33.307Z"
   },
   {
    "duration": 24,
    "start_time": "2022-08-24T16:21:43.130Z"
   },
   {
    "duration": 22,
    "start_time": "2022-08-24T16:22:06.556Z"
   },
   {
    "duration": 30,
    "start_time": "2022-08-24T16:22:27.477Z"
   },
   {
    "duration": 28,
    "start_time": "2022-08-24T16:22:45.204Z"
   },
   {
    "duration": 23,
    "start_time": "2022-08-24T16:22:55.673Z"
   },
   {
    "duration": 21,
    "start_time": "2022-08-24T16:23:03.689Z"
   },
   {
    "duration": 212,
    "start_time": "2022-08-24T16:23:10.079Z"
   },
   {
    "duration": 155,
    "start_time": "2022-08-24T16:23:17.667Z"
   },
   {
    "duration": 30,
    "start_time": "2022-08-24T16:25:13.364Z"
   },
   {
    "duration": 24,
    "start_time": "2022-08-24T16:25:23.610Z"
   },
   {
    "duration": 32,
    "start_time": "2022-08-24T16:26:42.981Z"
   },
   {
    "duration": 591,
    "start_time": "2022-08-24T16:27:02.826Z"
   },
   {
    "duration": 111,
    "start_time": "2022-08-24T16:27:03.419Z"
   },
   {
    "duration": 74,
    "start_time": "2022-08-24T16:27:03.532Z"
   },
   {
    "duration": 9,
    "start_time": "2022-08-24T16:27:03.607Z"
   },
   {
    "duration": 1880,
    "start_time": "2022-08-24T16:27:03.618Z"
   },
   {
    "duration": 14,
    "start_time": "2022-08-24T16:27:05.500Z"
   },
   {
    "duration": 22,
    "start_time": "2022-08-24T16:27:05.516Z"
   },
   {
    "duration": 138,
    "start_time": "2022-08-24T16:27:05.540Z"
   },
   {
    "duration": 38,
    "start_time": "2022-08-24T16:27:05.680Z"
   },
   {
    "duration": 8,
    "start_time": "2022-08-24T16:27:05.719Z"
   },
   {
    "duration": 5125,
    "start_time": "2022-08-24T16:27:05.729Z"
   },
   {
    "duration": 7,
    "start_time": "2022-08-24T16:27:10.856Z"
   },
   {
    "duration": 27,
    "start_time": "2022-08-24T16:27:10.865Z"
   },
   {
    "duration": 7,
    "start_time": "2022-08-24T16:27:10.895Z"
   },
   {
    "duration": 11,
    "start_time": "2022-08-24T16:27:10.903Z"
   },
   {
    "duration": 4,
    "start_time": "2022-08-24T16:27:10.916Z"
   },
   {
    "duration": 7,
    "start_time": "2022-08-24T16:27:10.921Z"
   },
   {
    "duration": 6,
    "start_time": "2022-08-24T16:27:10.929Z"
   },
   {
    "duration": 151,
    "start_time": "2022-08-24T16:27:10.937Z"
   },
   {
    "duration": 13,
    "start_time": "2022-08-24T16:27:11.090Z"
   },
   {
    "duration": 7,
    "start_time": "2022-08-24T16:27:11.104Z"
   },
   {
    "duration": 177,
    "start_time": "2022-08-24T16:27:11.113Z"
   },
   {
    "duration": 10,
    "start_time": "2022-08-24T16:27:11.292Z"
   },
   {
    "duration": 37,
    "start_time": "2022-08-24T16:27:11.304Z"
   },
   {
    "duration": 175,
    "start_time": "2022-08-24T16:27:11.343Z"
   },
   {
    "duration": 6,
    "start_time": "2022-08-24T16:27:11.521Z"
   },
   {
    "duration": 15,
    "start_time": "2022-08-24T16:27:11.528Z"
   },
   {
    "duration": 20,
    "start_time": "2022-08-24T16:27:11.544Z"
   },
   {
    "duration": 134,
    "start_time": "2022-08-24T16:27:11.566Z"
   },
   {
    "duration": 5,
    "start_time": "2022-08-24T16:27:11.702Z"
   },
   {
    "duration": 13,
    "start_time": "2022-08-24T16:27:11.709Z"
   },
   {
    "duration": 6,
    "start_time": "2022-08-24T16:27:11.724Z"
   },
   {
    "duration": 375,
    "start_time": "2022-08-24T16:27:11.731Z"
   },
   {
    "duration": 14,
    "start_time": "2022-08-24T16:27:12.108Z"
   },
   {
    "duration": 335,
    "start_time": "2022-08-24T16:27:12.123Z"
   },
   {
    "duration": 175,
    "start_time": "2022-08-24T16:27:12.460Z"
   },
   {
    "duration": 14,
    "start_time": "2022-08-24T16:27:12.637Z"
   },
   {
    "duration": 16,
    "start_time": "2022-08-24T16:27:12.653Z"
   },
   {
    "duration": 32,
    "start_time": "2022-08-24T16:27:12.670Z"
   },
   {
    "duration": 15,
    "start_time": "2022-08-24T16:27:12.704Z"
   },
   {
    "duration": 14,
    "start_time": "2022-08-24T16:27:12.722Z"
   },
   {
    "duration": 155,
    "start_time": "2022-08-24T16:27:12.738Z"
   },
   {
    "duration": 16,
    "start_time": "2022-08-24T16:27:12.899Z"
   },
   {
    "duration": 14,
    "start_time": "2022-08-24T16:27:12.916Z"
   },
   {
    "duration": 13,
    "start_time": "2022-08-24T16:27:12.932Z"
   },
   {
    "duration": 17,
    "start_time": "2022-08-24T16:27:12.947Z"
   },
   {
    "duration": 45,
    "start_time": "2022-08-24T16:27:12.966Z"
   },
   {
    "duration": 17,
    "start_time": "2022-08-24T16:27:13.013Z"
   },
   {
    "duration": 88,
    "start_time": "2022-08-24T16:27:13.031Z"
   },
   {
    "duration": 0,
    "start_time": "2022-08-24T16:27:13.121Z"
   },
   {
    "duration": 0,
    "start_time": "2022-08-24T16:27:13.122Z"
   },
   {
    "duration": 0,
    "start_time": "2022-08-24T16:27:13.123Z"
   },
   {
    "duration": 0,
    "start_time": "2022-08-24T16:27:13.124Z"
   },
   {
    "duration": 0,
    "start_time": "2022-08-24T16:27:13.125Z"
   },
   {
    "duration": 23,
    "start_time": "2022-08-24T16:27:35.440Z"
   },
   {
    "duration": 1031,
    "start_time": "2022-08-24T16:27:41.509Z"
   },
   {
    "duration": 126,
    "start_time": "2022-08-24T16:27:59.041Z"
   },
   {
    "duration": 146,
    "start_time": "2022-08-24T16:28:42.086Z"
   },
   {
    "duration": 139,
    "start_time": "2022-08-24T16:29:02.308Z"
   },
   {
    "duration": 126,
    "start_time": "2022-08-24T16:29:12.445Z"
   },
   {
    "duration": 155,
    "start_time": "2022-08-24T16:29:19.695Z"
   },
   {
    "duration": 100,
    "start_time": "2022-08-24T16:29:50.230Z"
   },
   {
    "duration": 144,
    "start_time": "2022-08-24T16:30:31.020Z"
   },
   {
    "duration": 139,
    "start_time": "2022-08-24T16:30:44.687Z"
   },
   {
    "duration": 1058,
    "start_time": "2022-08-24T16:30:52.910Z"
   },
   {
    "duration": 975,
    "start_time": "2022-08-24T16:31:16.368Z"
   },
   {
    "duration": 1874,
    "start_time": "2022-08-24T16:31:24.017Z"
   },
   {
    "duration": 153,
    "start_time": "2022-08-24T16:31:38.842Z"
   },
   {
    "duration": 187,
    "start_time": "2022-08-24T16:32:17.055Z"
   },
   {
    "duration": 296,
    "start_time": "2022-08-24T16:33:56.660Z"
   },
   {
    "duration": 8,
    "start_time": "2022-08-24T16:35:24.709Z"
   },
   {
    "duration": 67,
    "start_time": "2022-08-24T16:35:30.333Z"
   },
   {
    "duration": 17,
    "start_time": "2022-08-24T16:35:33.713Z"
   },
   {
    "duration": 2328,
    "start_time": "2022-08-24T16:35:36.519Z"
   },
   {
    "duration": 32,
    "start_time": "2022-08-24T16:35:41.477Z"
   },
   {
    "duration": 6,
    "start_time": "2022-08-24T16:38:07.523Z"
   },
   {
    "duration": 5,
    "start_time": "2022-08-24T16:38:07.975Z"
   },
   {
    "duration": 9,
    "start_time": "2022-08-24T16:38:08.391Z"
   },
   {
    "duration": 151,
    "start_time": "2022-08-24T16:38:09.044Z"
   },
   {
    "duration": 5,
    "start_time": "2022-08-24T16:38:12.180Z"
   },
   {
    "duration": 6,
    "start_time": "2022-08-24T16:38:13.476Z"
   },
   {
    "duration": 788,
    "start_time": "2022-08-24T16:38:22.554Z"
   },
   {
    "duration": 109,
    "start_time": "2022-08-24T16:38:23.344Z"
   },
   {
    "duration": 76,
    "start_time": "2022-08-24T16:38:23.455Z"
   },
   {
    "duration": 10,
    "start_time": "2022-08-24T16:38:23.533Z"
   },
   {
    "duration": 1793,
    "start_time": "2022-08-24T16:38:23.545Z"
   },
   {
    "duration": 9,
    "start_time": "2022-08-24T16:38:25.340Z"
   },
   {
    "duration": 12,
    "start_time": "2022-08-24T16:38:25.351Z"
   },
   {
    "duration": 98,
    "start_time": "2022-08-24T16:38:25.364Z"
   },
   {
    "duration": 37,
    "start_time": "2022-08-24T16:38:25.464Z"
   },
   {
    "duration": 8,
    "start_time": "2022-08-24T16:38:25.503Z"
   },
   {
    "duration": 4601,
    "start_time": "2022-08-24T16:38:25.513Z"
   },
   {
    "duration": 6,
    "start_time": "2022-08-24T16:38:30.116Z"
   },
   {
    "duration": 17,
    "start_time": "2022-08-24T16:38:30.123Z"
   },
   {
    "duration": 4,
    "start_time": "2022-08-24T16:38:30.141Z"
   },
   {
    "duration": 16,
    "start_time": "2022-08-24T16:38:30.146Z"
   },
   {
    "duration": 8,
    "start_time": "2022-08-24T16:38:30.164Z"
   },
   {
    "duration": 17,
    "start_time": "2022-08-24T16:38:30.174Z"
   },
   {
    "duration": 18,
    "start_time": "2022-08-24T16:38:30.192Z"
   },
   {
    "duration": 130,
    "start_time": "2022-08-24T16:38:30.212Z"
   },
   {
    "duration": 5,
    "start_time": "2022-08-24T16:38:30.343Z"
   },
   {
    "duration": 21,
    "start_time": "2022-08-24T16:38:30.350Z"
   },
   {
    "duration": 150,
    "start_time": "2022-08-24T16:38:30.373Z"
   },
   {
    "duration": 5,
    "start_time": "2022-08-24T16:38:30.525Z"
   },
   {
    "duration": 50,
    "start_time": "2022-08-24T16:38:30.531Z"
   },
   {
    "duration": 181,
    "start_time": "2022-08-24T16:38:30.583Z"
   },
   {
    "duration": 5,
    "start_time": "2022-08-24T16:38:30.766Z"
   },
   {
    "duration": 17,
    "start_time": "2022-08-24T16:38:30.773Z"
   },
   {
    "duration": 18,
    "start_time": "2022-08-24T16:38:30.801Z"
   },
   {
    "duration": 143,
    "start_time": "2022-08-24T16:38:30.821Z"
   },
   {
    "duration": 5,
    "start_time": "2022-08-24T16:38:30.965Z"
   },
   {
    "duration": 37,
    "start_time": "2022-08-24T16:38:30.972Z"
   },
   {
    "duration": 20,
    "start_time": "2022-08-24T16:38:31.011Z"
   },
   {
    "duration": 379,
    "start_time": "2022-08-24T16:38:31.034Z"
   },
   {
    "duration": 14,
    "start_time": "2022-08-24T16:38:31.415Z"
   },
   {
    "duration": 386,
    "start_time": "2022-08-24T16:38:31.431Z"
   },
   {
    "duration": 168,
    "start_time": "2022-08-24T16:38:31.819Z"
   },
   {
    "duration": 20,
    "start_time": "2022-08-24T16:38:31.990Z"
   },
   {
    "duration": 14,
    "start_time": "2022-08-24T16:38:32.011Z"
   },
   {
    "duration": 17,
    "start_time": "2022-08-24T16:38:32.026Z"
   },
   {
    "duration": 15,
    "start_time": "2022-08-24T16:38:32.045Z"
   },
   {
    "duration": 39,
    "start_time": "2022-08-24T16:38:32.062Z"
   },
   {
    "duration": 142,
    "start_time": "2022-08-24T16:38:32.103Z"
   },
   {
    "duration": 14,
    "start_time": "2022-08-24T16:38:32.247Z"
   },
   {
    "duration": 20,
    "start_time": "2022-08-24T16:38:32.263Z"
   },
   {
    "duration": 23,
    "start_time": "2022-08-24T16:38:32.285Z"
   },
   {
    "duration": 14,
    "start_time": "2022-08-24T16:38:32.310Z"
   },
   {
    "duration": 18,
    "start_time": "2022-08-24T16:38:32.325Z"
   },
   {
    "duration": 16,
    "start_time": "2022-08-24T16:38:32.344Z"
   },
   {
    "duration": 98,
    "start_time": "2022-08-24T16:38:32.362Z"
   },
   {
    "duration": 0,
    "start_time": "2022-08-24T16:38:32.462Z"
   },
   {
    "duration": 0,
    "start_time": "2022-08-24T16:38:32.464Z"
   },
   {
    "duration": 0,
    "start_time": "2022-08-24T16:38:32.465Z"
   },
   {
    "duration": 0,
    "start_time": "2022-08-24T16:38:32.467Z"
   },
   {
    "duration": 0,
    "start_time": "2022-08-24T16:38:32.468Z"
   },
   {
    "duration": 155,
    "start_time": "2022-08-24T16:38:43.777Z"
   },
   {
    "duration": 9,
    "start_time": "2022-08-24T16:38:58.284Z"
   },
   {
    "duration": 68,
    "start_time": "2022-08-24T16:38:59.029Z"
   },
   {
    "duration": 17,
    "start_time": "2022-08-24T16:39:00.921Z"
   },
   {
    "duration": 2349,
    "start_time": "2022-08-24T16:39:01.489Z"
   },
   {
    "duration": 27,
    "start_time": "2022-08-24T16:39:03.840Z"
   },
   {
    "duration": 4,
    "start_time": "2022-08-24T16:39:59.824Z"
   },
   {
    "duration": 8,
    "start_time": "2022-08-24T16:40:37.001Z"
   },
   {
    "duration": 256,
    "start_time": "2022-08-24T16:40:40.524Z"
   },
   {
    "duration": 154,
    "start_time": "2022-08-24T16:40:49.584Z"
   },
   {
    "duration": 242,
    "start_time": "2022-08-24T16:40:55.864Z"
   },
   {
    "duration": 4,
    "start_time": "2022-08-24T16:41:20.304Z"
   },
   {
    "duration": 6,
    "start_time": "2022-08-24T16:41:20.731Z"
   },
   {
    "duration": 239,
    "start_time": "2022-08-24T16:41:21.163Z"
   },
   {
    "duration": 553,
    "start_time": "2022-08-24T16:41:32.152Z"
   },
   {
    "duration": 108,
    "start_time": "2022-08-24T16:41:32.707Z"
   },
   {
    "duration": 67,
    "start_time": "2022-08-24T16:41:32.817Z"
   },
   {
    "duration": 21,
    "start_time": "2022-08-24T16:41:32.886Z"
   },
   {
    "duration": 1826,
    "start_time": "2022-08-24T16:41:32.908Z"
   },
   {
    "duration": 9,
    "start_time": "2022-08-24T16:41:34.736Z"
   },
   {
    "duration": 13,
    "start_time": "2022-08-24T16:41:34.746Z"
   },
   {
    "duration": 96,
    "start_time": "2022-08-24T16:41:34.761Z"
   },
   {
    "duration": 26,
    "start_time": "2022-08-24T16:41:34.858Z"
   },
   {
    "duration": 15,
    "start_time": "2022-08-24T16:41:34.887Z"
   },
   {
    "duration": 4530,
    "start_time": "2022-08-24T16:41:34.904Z"
   },
   {
    "duration": 6,
    "start_time": "2022-08-24T16:41:39.435Z"
   },
   {
    "duration": 9,
    "start_time": "2022-08-24T16:41:39.442Z"
   },
   {
    "duration": 3,
    "start_time": "2022-08-24T16:41:39.453Z"
   },
   {
    "duration": 9,
    "start_time": "2022-08-24T16:41:39.457Z"
   },
   {
    "duration": 3,
    "start_time": "2022-08-24T16:41:39.468Z"
   },
   {
    "duration": 27,
    "start_time": "2022-08-24T16:41:39.473Z"
   },
   {
    "duration": 4,
    "start_time": "2022-08-24T16:41:39.501Z"
   },
   {
    "duration": 130,
    "start_time": "2022-08-24T16:41:39.507Z"
   },
   {
    "duration": 4,
    "start_time": "2022-08-24T16:41:39.639Z"
   },
   {
    "duration": 7,
    "start_time": "2022-08-24T16:41:39.645Z"
   },
   {
    "duration": 132,
    "start_time": "2022-08-24T16:41:39.654Z"
   },
   {
    "duration": 4,
    "start_time": "2022-08-24T16:41:39.788Z"
   },
   {
    "duration": 24,
    "start_time": "2022-08-24T16:41:39.800Z"
   },
   {
    "duration": 136,
    "start_time": "2022-08-24T16:41:39.826Z"
   },
   {
    "duration": 5,
    "start_time": "2022-08-24T16:41:39.964Z"
   },
   {
    "duration": 8,
    "start_time": "2022-08-24T16:41:39.970Z"
   },
   {
    "duration": 20,
    "start_time": "2022-08-24T16:41:39.982Z"
   },
   {
    "duration": 141,
    "start_time": "2022-08-24T16:41:40.003Z"
   },
   {
    "duration": 4,
    "start_time": "2022-08-24T16:41:40.146Z"
   },
   {
    "duration": 9,
    "start_time": "2022-08-24T16:41:40.151Z"
   },
   {
    "duration": 6,
    "start_time": "2022-08-24T16:41:40.162Z"
   },
   {
    "duration": 7,
    "start_time": "2022-08-24T16:41:40.169Z"
   },
   {
    "duration": 360,
    "start_time": "2022-08-24T16:41:40.177Z"
   },
   {
    "duration": 11,
    "start_time": "2022-08-24T16:41:40.539Z"
   },
   {
    "duration": 305,
    "start_time": "2022-08-24T16:41:40.552Z"
   },
   {
    "duration": 170,
    "start_time": "2022-08-24T16:41:40.859Z"
   },
   {
    "duration": 13,
    "start_time": "2022-08-24T16:41:41.031Z"
   },
   {
    "duration": 15,
    "start_time": "2022-08-24T16:41:41.046Z"
   },
   {
    "duration": 19,
    "start_time": "2022-08-24T16:41:41.062Z"
   },
   {
    "duration": 15,
    "start_time": "2022-08-24T16:41:41.101Z"
   },
   {
    "duration": 15,
    "start_time": "2022-08-24T16:41:41.118Z"
   },
   {
    "duration": 157,
    "start_time": "2022-08-24T16:41:41.134Z"
   },
   {
    "duration": 15,
    "start_time": "2022-08-24T16:41:41.293Z"
   },
   {
    "duration": 12,
    "start_time": "2022-08-24T16:41:41.310Z"
   },
   {
    "duration": 13,
    "start_time": "2022-08-24T16:41:41.324Z"
   },
   {
    "duration": 14,
    "start_time": "2022-08-24T16:41:41.338Z"
   },
   {
    "duration": 48,
    "start_time": "2022-08-24T16:41:41.353Z"
   },
   {
    "duration": 16,
    "start_time": "2022-08-24T16:41:41.402Z"
   },
   {
    "duration": 207,
    "start_time": "2022-08-24T16:41:41.420Z"
   },
   {
    "duration": 8,
    "start_time": "2022-08-24T16:41:41.629Z"
   },
   {
    "duration": 78,
    "start_time": "2022-08-24T16:41:41.638Z"
   },
   {
    "duration": 16,
    "start_time": "2022-08-24T16:41:41.718Z"
   },
   {
    "duration": 2338,
    "start_time": "2022-08-24T16:41:41.735Z"
   },
   {
    "duration": 37,
    "start_time": "2022-08-24T16:41:44.075Z"
   },
   {
    "duration": 6,
    "start_time": "2022-08-24T16:43:07.765Z"
   },
   {
    "duration": 259,
    "start_time": "2022-08-24T16:43:11.187Z"
   },
   {
    "duration": 5,
    "start_time": "2022-08-24T16:43:33.721Z"
   },
   {
    "duration": 212,
    "start_time": "2022-08-24T16:43:36.010Z"
   },
   {
    "duration": 6,
    "start_time": "2022-08-24T16:45:13.000Z"
   },
   {
    "duration": 241,
    "start_time": "2022-08-24T16:45:14.679Z"
   },
   {
    "duration": 2,
    "start_time": "2022-08-24T16:45:46.578Z"
   },
   {
    "duration": 116,
    "start_time": "2022-08-24T16:45:49.491Z"
   },
   {
    "duration": 5,
    "start_time": "2022-08-24T16:46:08.508Z"
   },
   {
    "duration": 351,
    "start_time": "2022-08-24T16:46:11.019Z"
   },
   {
    "duration": 4,
    "start_time": "2022-08-24T16:46:29.991Z"
   },
   {
    "duration": 269,
    "start_time": "2022-08-24T16:46:33.736Z"
   },
   {
    "duration": 255,
    "start_time": "2022-08-24T16:46:38.291Z"
   },
   {
    "duration": 246,
    "start_time": "2022-08-24T16:47:00.574Z"
   },
   {
    "duration": 145,
    "start_time": "2022-08-24T16:47:23.531Z"
   },
   {
    "duration": 149,
    "start_time": "2022-08-24T16:47:31.634Z"
   },
   {
    "duration": 72,
    "start_time": "2022-08-24T16:47:56.481Z"
   },
   {
    "duration": 7,
    "start_time": "2022-08-24T16:48:01.929Z"
   },
   {
    "duration": 8,
    "start_time": "2022-08-24T16:48:16.180Z"
   },
   {
    "duration": 13,
    "start_time": "2022-08-24T16:48:20.702Z"
   },
   {
    "duration": 7,
    "start_time": "2022-08-24T16:48:26.071Z"
   },
   {
    "duration": 7,
    "start_time": "2022-08-24T16:48:34.986Z"
   },
   {
    "duration": 2,
    "start_time": "2022-08-24T16:48:43.188Z"
   },
   {
    "duration": 139,
    "start_time": "2022-08-24T16:50:26.496Z"
   },
   {
    "duration": 18,
    "start_time": "2022-08-24T16:51:02.627Z"
   },
   {
    "duration": 15,
    "start_time": "2022-08-24T16:51:17.309Z"
   },
   {
    "duration": 7,
    "start_time": "2022-08-24T16:53:15.536Z"
   },
   {
    "duration": 655,
    "start_time": "2022-08-24T16:54:15.539Z"
   },
   {
    "duration": 113,
    "start_time": "2022-08-24T16:54:16.196Z"
   },
   {
    "duration": 67,
    "start_time": "2022-08-24T16:54:16.311Z"
   },
   {
    "duration": 8,
    "start_time": "2022-08-24T16:54:16.380Z"
   },
   {
    "duration": 1817,
    "start_time": "2022-08-24T16:54:16.401Z"
   },
   {
    "duration": 9,
    "start_time": "2022-08-24T16:54:18.220Z"
   },
   {
    "duration": 14,
    "start_time": "2022-08-24T16:54:18.231Z"
   },
   {
    "duration": 112,
    "start_time": "2022-08-24T16:54:18.246Z"
   },
   {
    "duration": 41,
    "start_time": "2022-08-24T16:54:18.359Z"
   },
   {
    "duration": 7,
    "start_time": "2022-08-24T16:54:18.402Z"
   },
   {
    "duration": 4577,
    "start_time": "2022-08-24T16:54:18.411Z"
   },
   {
    "duration": 15,
    "start_time": "2022-08-24T16:54:22.990Z"
   },
   {
    "duration": 36,
    "start_time": "2022-08-24T16:54:23.007Z"
   },
   {
    "duration": 6,
    "start_time": "2022-08-24T16:54:23.047Z"
   },
   {
    "duration": 28,
    "start_time": "2022-08-24T16:54:23.055Z"
   },
   {
    "duration": 9,
    "start_time": "2022-08-24T16:54:23.085Z"
   },
   {
    "duration": 25,
    "start_time": "2022-08-24T16:54:23.095Z"
   },
   {
    "duration": 11,
    "start_time": "2022-08-24T16:54:23.122Z"
   },
   {
    "duration": 133,
    "start_time": "2022-08-24T16:54:23.134Z"
   },
   {
    "duration": 5,
    "start_time": "2022-08-24T16:54:23.268Z"
   },
   {
    "duration": 8,
    "start_time": "2022-08-24T16:54:23.274Z"
   },
   {
    "duration": 137,
    "start_time": "2022-08-24T16:54:23.283Z"
   },
   {
    "duration": 4,
    "start_time": "2022-08-24T16:54:23.422Z"
   },
   {
    "duration": 32,
    "start_time": "2022-08-24T16:54:23.429Z"
   },
   {
    "duration": 149,
    "start_time": "2022-08-24T16:54:23.462Z"
   },
   {
    "duration": 6,
    "start_time": "2022-08-24T16:54:23.613Z"
   },
   {
    "duration": 8,
    "start_time": "2022-08-24T16:54:23.620Z"
   },
   {
    "duration": 26,
    "start_time": "2022-08-24T16:54:23.629Z"
   },
   {
    "duration": 116,
    "start_time": "2022-08-24T16:54:23.657Z"
   },
   {
    "duration": 5,
    "start_time": "2022-08-24T16:54:23.775Z"
   },
   {
    "duration": 21,
    "start_time": "2022-08-24T16:54:23.782Z"
   },
   {
    "duration": 11,
    "start_time": "2022-08-24T16:54:23.805Z"
   },
   {
    "duration": 20,
    "start_time": "2022-08-24T16:54:23.817Z"
   },
   {
    "duration": 138,
    "start_time": "2022-08-24T16:54:23.838Z"
   },
   {
    "duration": 3,
    "start_time": "2022-08-24T16:54:23.978Z"
   },
   {
    "duration": 18,
    "start_time": "2022-08-24T16:54:23.982Z"
   },
   {
    "duration": 422,
    "start_time": "2022-08-24T16:54:24.001Z"
   },
   {
    "duration": 161,
    "start_time": "2022-08-24T16:54:24.424Z"
   },
   {
    "duration": 20,
    "start_time": "2022-08-24T16:54:24.586Z"
   },
   {
    "duration": 13,
    "start_time": "2022-08-24T16:54:24.607Z"
   },
   {
    "duration": 13,
    "start_time": "2022-08-24T16:54:24.624Z"
   },
   {
    "duration": 19,
    "start_time": "2022-08-24T16:54:24.639Z"
   },
   {
    "duration": 164,
    "start_time": "2022-08-24T16:54:24.659Z"
   },
   {
    "duration": 15,
    "start_time": "2022-08-24T16:54:24.824Z"
   },
   {
    "duration": 12,
    "start_time": "2022-08-24T16:54:24.840Z"
   },
   {
    "duration": 14,
    "start_time": "2022-08-24T16:54:24.853Z"
   },
   {
    "duration": 41,
    "start_time": "2022-08-24T16:54:24.869Z"
   },
   {
    "duration": 18,
    "start_time": "2022-08-24T16:54:24.913Z"
   },
   {
    "duration": 17,
    "start_time": "2022-08-24T16:54:24.932Z"
   },
   {
    "duration": 181,
    "start_time": "2022-08-24T16:54:24.950Z"
   },
   {
    "duration": 7,
    "start_time": "2022-08-24T16:54:25.133Z"
   },
   {
    "duration": 79,
    "start_time": "2022-08-24T16:54:25.142Z"
   },
   {
    "duration": 16,
    "start_time": "2022-08-24T16:54:25.223Z"
   },
   {
    "duration": 2362,
    "start_time": "2022-08-24T16:54:25.240Z"
   },
   {
    "duration": 23,
    "start_time": "2022-08-24T16:54:27.604Z"
   },
   {
    "duration": 20,
    "start_time": "2022-08-24T16:57:12.936Z"
   },
   {
    "duration": 17,
    "start_time": "2022-08-24T16:57:25.589Z"
   },
   {
    "duration": 16,
    "start_time": "2022-08-24T16:57:35.020Z"
   },
   {
    "duration": 34,
    "start_time": "2022-08-24T16:57:39.578Z"
   },
   {
    "duration": 5,
    "start_time": "2022-08-24T16:59:45.301Z"
   },
   {
    "duration": 9,
    "start_time": "2022-08-24T17:00:07.018Z"
   },
   {
    "duration": 6,
    "start_time": "2022-08-24T17:00:20.316Z"
   },
   {
    "duration": 2,
    "start_time": "2022-08-24T17:00:33.417Z"
   },
   {
    "duration": 182,
    "start_time": "2022-08-24T17:03:10.499Z"
   },
   {
    "duration": 85,
    "start_time": "2022-08-24T17:05:13.844Z"
   },
   {
    "duration": 62,
    "start_time": "2022-08-24T17:17:52.769Z"
   },
   {
    "duration": 40,
    "start_time": "2022-08-24T17:18:33.074Z"
   },
   {
    "duration": 802,
    "start_time": "2022-08-24T17:18:44.619Z"
   },
   {
    "duration": 350,
    "start_time": "2022-08-24T17:18:45.423Z"
   },
   {
    "duration": 80,
    "start_time": "2022-08-24T17:18:46.358Z"
   },
   {
    "duration": 12,
    "start_time": "2022-08-24T17:18:46.975Z"
   },
   {
    "duration": 2027,
    "start_time": "2022-08-24T17:18:47.355Z"
   },
   {
    "duration": 10,
    "start_time": "2022-08-24T17:18:49.385Z"
   },
   {
    "duration": 13,
    "start_time": "2022-08-24T17:18:49.496Z"
   },
   {
    "duration": 118,
    "start_time": "2022-08-24T17:18:49.697Z"
   },
   {
    "duration": 28,
    "start_time": "2022-08-24T17:18:50.296Z"
   },
   {
    "duration": 8,
    "start_time": "2022-08-24T17:18:50.745Z"
   },
   {
    "duration": 4769,
    "start_time": "2022-08-24T17:18:50.924Z"
   },
   {
    "duration": 9,
    "start_time": "2022-08-24T17:18:55.695Z"
   },
   {
    "duration": 17,
    "start_time": "2022-08-24T17:18:55.705Z"
   },
   {
    "duration": 5,
    "start_time": "2022-08-24T17:18:55.725Z"
   },
   {
    "duration": 11,
    "start_time": "2022-08-24T17:18:55.731Z"
   },
   {
    "duration": 6,
    "start_time": "2022-08-24T17:18:56.256Z"
   },
   {
    "duration": 6,
    "start_time": "2022-08-24T17:18:57.273Z"
   },
   {
    "duration": 5,
    "start_time": "2022-08-24T17:18:57.937Z"
   },
   {
    "duration": 131,
    "start_time": "2022-08-24T17:18:58.337Z"
   },
   {
    "duration": 5,
    "start_time": "2022-08-24T17:19:00.381Z"
   },
   {
    "duration": 5,
    "start_time": "2022-08-24T17:19:00.568Z"
   },
   {
    "duration": 126,
    "start_time": "2022-08-24T17:19:00.805Z"
   },
   {
    "duration": 5,
    "start_time": "2022-08-24T17:19:01.694Z"
   },
   {
    "duration": 219,
    "start_time": "2022-08-24T17:19:27.827Z"
   },
   {
    "duration": 116,
    "start_time": "2022-08-24T17:19:38.306Z"
   },
   {
    "duration": 255,
    "start_time": "2022-08-24T17:19:59.503Z"
   },
   {
    "duration": 5,
    "start_time": "2022-08-24T17:20:00.620Z"
   },
   {
    "duration": 5,
    "start_time": "2022-08-24T17:20:01.035Z"
   },
   {
    "duration": 9,
    "start_time": "2022-08-24T17:20:01.562Z"
   },
   {
    "duration": 124,
    "start_time": "2022-08-24T17:20:02.541Z"
   },
   {
    "duration": 5,
    "start_time": "2022-08-24T17:20:06.007Z"
   },
   {
    "duration": 7,
    "start_time": "2022-08-24T17:20:06.523Z"
   },
   {
    "duration": 169,
    "start_time": "2022-08-24T17:20:07.086Z"
   },
   {
    "duration": 129,
    "start_time": "2022-08-24T17:20:18.428Z"
   },
   {
    "duration": 5,
    "start_time": "2022-08-24T17:20:20.338Z"
   },
   {
    "duration": 3,
    "start_time": "2022-08-24T17:20:22.150Z"
   },
   {
    "duration": 122,
    "start_time": "2022-08-24T17:20:22.555Z"
   },
   {
    "duration": 3,
    "start_time": "2022-08-24T17:20:23.431Z"
   },
   {
    "duration": 121,
    "start_time": "2022-08-24T17:20:54.474Z"
   },
   {
    "duration": 3,
    "start_time": "2022-08-24T17:20:54.640Z"
   },
   {
    "duration": 12,
    "start_time": "2022-08-24T17:20:55.357Z"
   },
   {
    "duration": 328,
    "start_time": "2022-08-24T17:20:55.719Z"
   },
   {
    "duration": 161,
    "start_time": "2022-08-24T17:20:57.041Z"
   },
   {
    "duration": 12,
    "start_time": "2022-08-24T17:21:22.517Z"
   },
   {
    "duration": 14,
    "start_time": "2022-08-24T17:21:23.204Z"
   },
   {
    "duration": 15,
    "start_time": "2022-08-24T17:21:24.036Z"
   },
   {
    "duration": 15,
    "start_time": "2022-08-24T17:21:25.151Z"
   },
   {
    "duration": 126,
    "start_time": "2022-08-24T17:21:25.719Z"
   },
   {
    "duration": 14,
    "start_time": "2022-08-24T17:21:26.355Z"
   },
   {
    "duration": 15,
    "start_time": "2022-08-24T17:21:26.972Z"
   },
   {
    "duration": 14,
    "start_time": "2022-08-24T17:21:27.387Z"
   },
   {
    "duration": 14,
    "start_time": "2022-08-24T17:21:27.817Z"
   },
   {
    "duration": 15,
    "start_time": "2022-08-24T17:21:28.231Z"
   },
   {
    "duration": 14,
    "start_time": "2022-08-24T17:21:28.635Z"
   },
   {
    "duration": 220,
    "start_time": "2022-08-24T17:21:29.480Z"
   },
   {
    "duration": 7,
    "start_time": "2022-08-24T17:21:29.922Z"
   },
   {
    "duration": 3,
    "start_time": "2022-08-24T17:21:30.989Z"
   },
   {
    "duration": 77,
    "start_time": "2022-08-24T17:21:31.765Z"
   },
   {
    "duration": 18,
    "start_time": "2022-08-24T17:21:32.699Z"
   },
   {
    "duration": 2290,
    "start_time": "2022-08-24T17:21:33.263Z"
   },
   {
    "duration": 24,
    "start_time": "2022-08-24T17:21:37.436Z"
   },
   {
    "duration": 4,
    "start_time": "2022-08-24T17:22:57.377Z"
   },
   {
    "duration": 4,
    "start_time": "2022-08-24T17:23:07.808Z"
   },
   {
    "duration": 6,
    "start_time": "2022-08-24T17:23:11.514Z"
   },
   {
    "duration": 4,
    "start_time": "2022-08-24T17:23:26.099Z"
   },
   {
    "duration": 5,
    "start_time": "2022-08-24T17:23:28.277Z"
   },
   {
    "duration": 902,
    "start_time": "2022-08-24T17:23:49.080Z"
   },
   {
    "duration": 909,
    "start_time": "2022-08-24T17:24:03.634Z"
   },
   {
    "duration": 3,
    "start_time": "2022-08-24T17:24:27.494Z"
   },
   {
    "duration": 5,
    "start_time": "2022-08-24T17:24:29.782Z"
   },
   {
    "duration": 4,
    "start_time": "2022-08-24T17:24:53.905Z"
   },
   {
    "duration": 5,
    "start_time": "2022-08-24T17:25:08.836Z"
   },
   {
    "duration": 3,
    "start_time": "2022-08-24T17:25:12.861Z"
   },
   {
    "duration": 9,
    "start_time": "2022-08-24T17:25:28.607Z"
   },
   {
    "duration": 4,
    "start_time": "2022-08-24T17:25:46.618Z"
   },
   {
    "duration": 181,
    "start_time": "2022-08-24T17:25:48.634Z"
   },
   {
    "duration": 4,
    "start_time": "2022-08-24T17:26:08.105Z"
   },
   {
    "duration": 4,
    "start_time": "2022-08-24T17:30:19.758Z"
   },
   {
    "duration": 8,
    "start_time": "2022-08-24T17:30:44.127Z"
   },
   {
    "duration": 13,
    "start_time": "2022-08-24T17:30:51.485Z"
   },
   {
    "duration": 22,
    "start_time": "2022-08-24T17:30:52.057Z"
   },
   {
    "duration": 11,
    "start_time": "2022-08-24T17:31:03.757Z"
   },
   {
    "duration": 25,
    "start_time": "2022-08-24T17:31:05.706Z"
   },
   {
    "duration": 8,
    "start_time": "2022-08-24T17:31:43.679Z"
   },
   {
    "duration": 1081,
    "start_time": "2022-08-24T17:31:51.013Z"
   },
   {
    "duration": 11,
    "start_time": "2022-08-24T17:32:00.439Z"
   },
   {
    "duration": 873,
    "start_time": "2022-08-24T17:32:01.716Z"
   },
   {
    "duration": 4,
    "start_time": "2022-08-24T17:32:10.626Z"
   },
   {
    "duration": 272,
    "start_time": "2022-08-24T17:32:30.589Z"
   },
   {
    "duration": 8,
    "start_time": "2022-08-24T17:33:57.368Z"
   },
   {
    "duration": 8,
    "start_time": "2022-08-24T17:33:59.534Z"
   },
   {
    "duration": 10,
    "start_time": "2022-08-24T17:46:32.375Z"
   },
   {
    "duration": 5,
    "start_time": "2022-08-24T17:46:36.129Z"
   },
   {
    "duration": 5,
    "start_time": "2022-08-24T17:46:36.763Z"
   },
   {
    "duration": 4,
    "start_time": "2022-08-24T17:46:51.220Z"
   },
   {
    "duration": 4,
    "start_time": "2022-08-24T17:47:34.096Z"
   },
   {
    "duration": 5,
    "start_time": "2022-08-24T17:47:38.421Z"
   },
   {
    "duration": 13,
    "start_time": "2022-08-24T17:52:07.396Z"
   },
   {
    "duration": 5,
    "start_time": "2022-08-24T17:52:09.963Z"
   },
   {
    "duration": 6,
    "start_time": "2022-08-24T17:52:41.736Z"
   },
   {
    "duration": 5,
    "start_time": "2022-08-24T17:56:19.367Z"
   },
   {
    "duration": 5,
    "start_time": "2022-08-24T17:56:22.042Z"
   },
   {
    "duration": 4,
    "start_time": "2022-08-24T17:56:34.353Z"
   },
   {
    "duration": 6,
    "start_time": "2022-08-24T18:01:50.420Z"
   },
   {
    "duration": 139,
    "start_time": "2022-08-24T18:01:53.480Z"
   },
   {
    "duration": 4,
    "start_time": "2022-08-24T18:02:06.952Z"
   },
   {
    "duration": 7,
    "start_time": "2022-08-24T18:02:07.428Z"
   },
   {
    "duration": 130,
    "start_time": "2022-08-24T18:02:07.816Z"
   },
   {
    "duration": 5,
    "start_time": "2022-08-24T18:03:07.979Z"
   },
   {
    "duration": 158,
    "start_time": "2022-08-24T18:03:11.681Z"
   },
   {
    "duration": 7,
    "start_time": "2022-08-24T18:03:21.800Z"
   },
   {
    "duration": 174,
    "start_time": "2022-08-24T18:03:25.516Z"
   },
   {
    "duration": 5,
    "start_time": "2022-08-24T18:03:30.676Z"
   },
   {
    "duration": 3,
    "start_time": "2022-08-24T18:03:31.450Z"
   },
   {
    "duration": 149,
    "start_time": "2022-08-24T18:03:31.668Z"
   },
   {
    "duration": 15,
    "start_time": "2022-08-24T18:06:59.752Z"
   },
   {
    "duration": 28,
    "start_time": "2022-08-24T18:07:04.600Z"
   },
   {
    "duration": 154,
    "start_time": "2022-08-24T18:07:17.364Z"
   },
   {
    "duration": 29,
    "start_time": "2022-08-24T18:07:28.044Z"
   },
   {
    "duration": 162,
    "start_time": "2022-08-24T18:07:54.652Z"
   },
   {
    "duration": 280,
    "start_time": "2022-08-24T18:08:05.944Z"
   },
   {
    "duration": 24,
    "start_time": "2022-08-24T18:08:13.635Z"
   },
   {
    "duration": 22,
    "start_time": "2022-08-24T18:08:29.919Z"
   },
   {
    "duration": 28,
    "start_time": "2022-08-24T18:11:08.357Z"
   },
   {
    "duration": 32,
    "start_time": "2022-08-24T18:11:19.101Z"
   },
   {
    "duration": 26,
    "start_time": "2022-08-24T18:11:32.023Z"
   },
   {
    "duration": 28,
    "start_time": "2022-08-24T18:11:39.592Z"
   },
   {
    "duration": 30,
    "start_time": "2022-08-24T18:11:41.191Z"
   },
   {
    "duration": 30,
    "start_time": "2022-08-24T18:11:52.244Z"
   },
   {
    "duration": 21,
    "start_time": "2022-08-24T18:11:58.418Z"
   },
   {
    "duration": 4,
    "start_time": "2022-08-24T18:12:11.155Z"
   },
   {
    "duration": 169,
    "start_time": "2022-08-24T18:12:11.595Z"
   },
   {
    "duration": 114,
    "start_time": "2022-08-24T18:12:12.032Z"
   },
   {
    "duration": 9,
    "start_time": "2022-08-24T18:12:12.857Z"
   },
   {
    "duration": 1979,
    "start_time": "2022-08-24T18:12:13.475Z"
   },
   {
    "duration": 13,
    "start_time": "2022-08-24T18:12:15.915Z"
   },
   {
    "duration": 22,
    "start_time": "2022-08-24T18:12:16.187Z"
   },
   {
    "duration": 124,
    "start_time": "2022-08-24T18:12:16.470Z"
   },
   {
    "duration": 37,
    "start_time": "2022-08-24T18:12:17.323Z"
   },
   {
    "duration": 9,
    "start_time": "2022-08-24T18:12:17.882Z"
   },
   {
    "duration": 5310,
    "start_time": "2022-08-24T18:12:18.119Z"
   },
   {
    "duration": 7,
    "start_time": "2022-08-24T18:12:23.431Z"
   },
   {
    "duration": 11,
    "start_time": "2022-08-24T18:12:23.439Z"
   },
   {
    "duration": 6,
    "start_time": "2022-08-24T18:12:24.037Z"
   },
   {
    "duration": 7,
    "start_time": "2022-08-24T18:12:24.529Z"
   },
   {
    "duration": 5,
    "start_time": "2022-08-24T18:12:24.833Z"
   },
   {
    "duration": 5,
    "start_time": "2022-08-24T18:12:25.219Z"
   },
   {
    "duration": 5,
    "start_time": "2022-08-24T18:12:25.535Z"
   },
   {
    "duration": 143,
    "start_time": "2022-08-24T18:12:25.919Z"
   },
   {
    "duration": 6,
    "start_time": "2022-08-24T18:12:27.924Z"
   },
   {
    "duration": 8,
    "start_time": "2022-08-24T18:12:28.318Z"
   },
   {
    "duration": 142,
    "start_time": "2022-08-24T18:12:28.550Z"
   },
   {
    "duration": 5,
    "start_time": "2022-08-24T18:12:29.045Z"
   },
   {
    "duration": 30,
    "start_time": "2022-08-24T18:12:29.799Z"
   },
   {
    "duration": 151,
    "start_time": "2022-08-24T18:12:33.160Z"
   },
   {
    "duration": 8,
    "start_time": "2022-08-24T18:12:34.601Z"
   },
   {
    "duration": 5,
    "start_time": "2022-08-24T18:12:35.062Z"
   },
   {
    "duration": 6,
    "start_time": "2022-08-24T18:12:35.528Z"
   },
   {
    "duration": 295,
    "start_time": "2022-08-24T18:12:36.100Z"
   },
   {
    "duration": 5,
    "start_time": "2022-08-24T18:12:37.070Z"
   },
   {
    "duration": 7,
    "start_time": "2022-08-24T18:12:37.270Z"
   },
   {
    "duration": 167,
    "start_time": "2022-08-24T18:12:37.468Z"
   },
   {
    "duration": 6,
    "start_time": "2022-08-24T18:12:38.520Z"
   },
   {
    "duration": 4,
    "start_time": "2022-08-24T18:12:38.784Z"
   },
   {
    "duration": 170,
    "start_time": "2022-08-24T18:12:39.244Z"
   },
   {
    "duration": 7,
    "start_time": "2022-08-24T18:13:21.390Z"
   },
   {
    "duration": 158,
    "start_time": "2022-08-24T18:13:23.800Z"
   },
   {
    "duration": 16,
    "start_time": "2022-08-24T18:13:32.592Z"
   },
   {
    "duration": 4,
    "start_time": "2022-08-24T18:13:38.821Z"
   },
   {
    "duration": 13,
    "start_time": "2022-08-24T18:13:42.819Z"
   },
   {
    "duration": 338,
    "start_time": "2022-08-24T18:13:43.436Z"
   },
   {
    "duration": 201,
    "start_time": "2022-08-24T18:13:44.886Z"
   },
   {
    "duration": 18,
    "start_time": "2022-08-24T18:13:45.748Z"
   },
   {
    "duration": 3,
    "start_time": "2022-08-24T18:14:12.658Z"
   },
   {
    "duration": 137,
    "start_time": "2022-08-24T18:14:14.721Z"
   },
   {
    "duration": 163,
    "start_time": "2022-08-24T18:14:21.463Z"
   },
   {
    "duration": 4,
    "start_time": "2022-08-24T18:14:21.689Z"
   },
   {
    "duration": 12,
    "start_time": "2022-08-24T18:14:22.474Z"
   },
   {
    "duration": 439,
    "start_time": "2022-08-24T18:14:23.005Z"
   },
   {
    "duration": 168,
    "start_time": "2022-08-24T18:14:24.628Z"
   },
   {
    "duration": 3,
    "start_time": "2022-08-24T18:14:46.362Z"
   },
   {
    "duration": 144,
    "start_time": "2022-08-24T18:14:46.543Z"
   },
   {
    "duration": 99,
    "start_time": "2022-08-24T18:14:46.737Z"
   },
   {
    "duration": 10,
    "start_time": "2022-08-24T18:14:47.260Z"
   },
   {
    "duration": 2238,
    "start_time": "2022-08-24T18:14:47.647Z"
   },
   {
    "duration": 28,
    "start_time": "2022-08-24T18:14:49.888Z"
   },
   {
    "duration": 19,
    "start_time": "2022-08-24T18:14:49.919Z"
   },
   {
    "duration": 131,
    "start_time": "2022-08-24T18:14:49.940Z"
   },
   {
    "duration": 40,
    "start_time": "2022-08-24T18:14:50.415Z"
   },
   {
    "duration": 10,
    "start_time": "2022-08-24T18:14:50.795Z"
   },
   {
    "duration": 5430,
    "start_time": "2022-08-24T18:14:51.010Z"
   },
   {
    "duration": 7,
    "start_time": "2022-08-24T18:14:56.442Z"
   },
   {
    "duration": 12,
    "start_time": "2022-08-24T18:14:56.451Z"
   },
   {
    "duration": 6,
    "start_time": "2022-08-24T18:14:56.465Z"
   },
   {
    "duration": 35,
    "start_time": "2022-08-24T18:14:56.472Z"
   },
   {
    "duration": 8,
    "start_time": "2022-08-24T18:14:56.515Z"
   },
   {
    "duration": 7,
    "start_time": "2022-08-24T18:14:56.524Z"
   },
   {
    "duration": 11,
    "start_time": "2022-08-24T18:14:56.532Z"
   },
   {
    "duration": 173,
    "start_time": "2022-08-24T18:14:56.544Z"
   },
   {
    "duration": 5,
    "start_time": "2022-08-24T18:14:58.554Z"
   },
   {
    "duration": 6,
    "start_time": "2022-08-24T18:14:58.733Z"
   },
   {
    "duration": 143,
    "start_time": "2022-08-24T18:14:58.917Z"
   },
   {
    "duration": 5,
    "start_time": "2022-08-24T18:14:59.119Z"
   },
   {
    "duration": 25,
    "start_time": "2022-08-24T18:14:59.513Z"
   },
   {
    "duration": 148,
    "start_time": "2022-08-24T18:15:01.748Z"
   },
   {
    "duration": 5,
    "start_time": "2022-08-24T18:15:02.178Z"
   },
   {
    "duration": 5,
    "start_time": "2022-08-24T18:15:02.374Z"
   },
   {
    "duration": 7,
    "start_time": "2022-08-24T18:15:02.573Z"
   },
   {
    "duration": 151,
    "start_time": "2022-08-24T18:15:02.779Z"
   },
   {
    "duration": 6,
    "start_time": "2022-08-24T18:15:03.419Z"
   },
   {
    "duration": 6,
    "start_time": "2022-08-24T18:15:03.642Z"
   },
   {
    "duration": 197,
    "start_time": "2022-08-24T18:15:03.831Z"
   },
   {
    "duration": 4,
    "start_time": "2022-08-24T18:15:04.735Z"
   },
   {
    "duration": 3,
    "start_time": "2022-08-24T18:15:05.046Z"
   },
   {
    "duration": 134,
    "start_time": "2022-08-24T18:15:05.262Z"
   },
   {
    "duration": 3,
    "start_time": "2022-08-24T18:15:05.471Z"
   },
   {
    "duration": 12,
    "start_time": "2022-08-24T18:15:06.150Z"
   },
   {
    "duration": 382,
    "start_time": "2022-08-24T18:15:06.825Z"
   },
   {
    "duration": 377,
    "start_time": "2022-08-24T18:15:07.896Z"
   },
   {
    "duration": 20,
    "start_time": "2022-08-24T18:15:12.290Z"
   },
   {
    "duration": 15,
    "start_time": "2022-08-24T18:15:13.181Z"
   },
   {
    "duration": 14,
    "start_time": "2022-08-24T18:15:13.629Z"
   },
   {
    "duration": 25,
    "start_time": "2022-08-24T18:15:14.506Z"
   },
   {
    "duration": 140,
    "start_time": "2022-08-24T18:15:15.182Z"
   },
   {
    "duration": 23,
    "start_time": "2022-08-24T18:15:15.852Z"
   },
   {
    "duration": 21,
    "start_time": "2022-08-24T18:15:16.475Z"
   },
   {
    "duration": 17,
    "start_time": "2022-08-24T18:15:16.918Z"
   },
   {
    "duration": 21,
    "start_time": "2022-08-24T18:15:17.900Z"
   },
   {
    "duration": 15,
    "start_time": "2022-08-24T18:15:18.118Z"
   },
   {
    "duration": 16,
    "start_time": "2022-08-24T18:15:18.673Z"
   },
   {
    "duration": 210,
    "start_time": "2022-08-24T18:15:19.620Z"
   },
   {
    "duration": 7,
    "start_time": "2022-08-24T18:15:20.219Z"
   },
   {
    "duration": 2,
    "start_time": "2022-08-24T18:15:20.561Z"
   },
   {
    "duration": 111,
    "start_time": "2022-08-24T18:15:21.652Z"
   },
   {
    "duration": 27,
    "start_time": "2022-08-24T18:15:33.919Z"
   },
   {
    "duration": 2566,
    "start_time": "2022-08-24T18:15:34.019Z"
   },
   {
    "duration": 43,
    "start_time": "2022-08-24T18:15:36.587Z"
   },
   {
    "duration": 25,
    "start_time": "2022-08-24T18:17:56.466Z"
   },
   {
    "duration": 37,
    "start_time": "2022-08-24T18:18:39.061Z"
   },
   {
    "duration": 27,
    "start_time": "2022-08-24T18:19:00.633Z"
   },
   {
    "duration": 227,
    "start_time": "2022-08-24T18:19:12.834Z"
   },
   {
    "duration": 34,
    "start_time": "2022-08-24T18:19:26.928Z"
   },
   {
    "duration": 35,
    "start_time": "2022-08-24T18:19:38.056Z"
   },
   {
    "duration": 55,
    "start_time": "2022-08-24T18:24:29.635Z"
   },
   {
    "duration": 707,
    "start_time": "2022-08-24T18:24:37.330Z"
   },
   {
    "duration": 120,
    "start_time": "2022-08-24T18:24:38.039Z"
   },
   {
    "duration": 74,
    "start_time": "2022-08-24T18:24:38.160Z"
   },
   {
    "duration": 10,
    "start_time": "2022-08-24T18:24:38.236Z"
   },
   {
    "duration": 2021,
    "start_time": "2022-08-24T18:24:38.618Z"
   },
   {
    "duration": 11,
    "start_time": "2022-08-24T18:24:40.641Z"
   },
   {
    "duration": 14,
    "start_time": "2022-08-24T18:24:40.654Z"
   },
   {
    "duration": 121,
    "start_time": "2022-08-24T18:24:40.773Z"
   },
   {
    "duration": 33,
    "start_time": "2022-08-24T18:24:41.338Z"
   },
   {
    "duration": 8,
    "start_time": "2022-08-24T18:24:41.720Z"
   },
   {
    "duration": 4902,
    "start_time": "2022-08-24T18:24:41.916Z"
   },
   {
    "duration": 7,
    "start_time": "2022-08-24T18:24:46.821Z"
   },
   {
    "duration": 8,
    "start_time": "2022-08-24T18:24:46.830Z"
   },
   {
    "duration": 5,
    "start_time": "2022-08-24T18:24:46.840Z"
   },
   {
    "duration": 9,
    "start_time": "2022-08-24T18:24:46.846Z"
   },
   {
    "duration": 7,
    "start_time": "2022-08-24T18:24:46.857Z"
   },
   {
    "duration": 6,
    "start_time": "2022-08-24T18:24:47.530Z"
   },
   {
    "duration": 6,
    "start_time": "2022-08-24T18:24:47.744Z"
   },
   {
    "duration": 148,
    "start_time": "2022-08-24T18:24:47.887Z"
   },
   {
    "duration": 6,
    "start_time": "2022-08-24T18:24:48.815Z"
   },
   {
    "duration": 5,
    "start_time": "2022-08-24T18:24:49.292Z"
   },
   {
    "duration": 152,
    "start_time": "2022-08-24T18:24:49.299Z"
   },
   {
    "duration": 5,
    "start_time": "2022-08-24T18:24:49.452Z"
   },
   {
    "duration": 28,
    "start_time": "2022-08-24T18:24:49.752Z"
   },
   {
    "duration": 147,
    "start_time": "2022-08-24T18:24:51.876Z"
   },
   {
    "duration": 6,
    "start_time": "2022-08-24T18:24:52.259Z"
   },
   {
    "duration": 5,
    "start_time": "2022-08-24T18:24:52.454Z"
   },
   {
    "duration": 7,
    "start_time": "2022-08-24T18:24:52.656Z"
   },
   {
    "duration": 129,
    "start_time": "2022-08-24T18:24:52.866Z"
   },
   {
    "duration": 5,
    "start_time": "2022-08-24T18:24:53.483Z"
   },
   {
    "duration": 6,
    "start_time": "2022-08-24T18:24:53.666Z"
   },
   {
    "duration": 156,
    "start_time": "2022-08-24T18:24:53.857Z"
   },
   {
    "duration": 4,
    "start_time": "2022-08-24T18:24:54.612Z"
   },
   {
    "duration": 4,
    "start_time": "2022-08-24T18:24:54.802Z"
   },
   {
    "duration": 235,
    "start_time": "2022-08-24T18:24:55.037Z"
   },
   {
    "duration": 3,
    "start_time": "2022-08-24T18:24:55.274Z"
   },
   {
    "duration": 13,
    "start_time": "2022-08-24T18:24:55.835Z"
   },
   {
    "duration": 329,
    "start_time": "2022-08-24T18:24:56.229Z"
   },
   {
    "duration": 169,
    "start_time": "2022-08-24T18:24:57.426Z"
   },
   {
    "duration": 19,
    "start_time": "2022-08-24T18:24:58.064Z"
   },
   {
    "duration": 23,
    "start_time": "2022-08-24T18:24:58.977Z"
   },
   {
    "duration": 20,
    "start_time": "2022-08-24T18:24:59.485Z"
   },
   {
    "duration": 18,
    "start_time": "2022-08-24T18:25:00.076Z"
   },
   {
    "duration": 136,
    "start_time": "2022-08-24T18:25:00.715Z"
   },
   {
    "duration": 15,
    "start_time": "2022-08-24T18:25:01.328Z"
   },
   {
    "duration": 14,
    "start_time": "2022-08-24T18:25:02.184Z"
   },
   {
    "duration": 20,
    "start_time": "2022-08-24T18:25:02.585Z"
   },
   {
    "duration": 22,
    "start_time": "2022-08-24T18:25:03.017Z"
   },
   {
    "duration": 23,
    "start_time": "2022-08-24T18:25:03.418Z"
   },
   {
    "duration": 24,
    "start_time": "2022-08-24T18:25:03.822Z"
   },
   {
    "duration": 169,
    "start_time": "2022-08-24T18:25:04.654Z"
   },
   {
    "duration": 7,
    "start_time": "2022-08-24T18:25:05.166Z"
   },
   {
    "duration": 4,
    "start_time": "2022-08-24T18:25:05.619Z"
   },
   {
    "duration": 65,
    "start_time": "2022-08-24T18:25:06.206Z"
   },
   {
    "duration": 19,
    "start_time": "2022-08-24T18:25:06.926Z"
   },
   {
    "duration": 2753,
    "start_time": "2022-08-24T18:25:07.326Z"
   },
   {
    "duration": 29,
    "start_time": "2022-08-24T18:25:10.970Z"
   },
   {
    "duration": 58,
    "start_time": "2022-08-24T18:25:48.172Z"
   },
   {
    "duration": 24,
    "start_time": "2022-08-24T18:25:57.915Z"
   },
   {
    "duration": 23,
    "start_time": "2022-08-24T18:31:24.113Z"
   },
   {
    "duration": 4,
    "start_time": "2022-08-24T18:32:58.654Z"
   },
   {
    "duration": 4,
    "start_time": "2022-08-24T18:33:17.024Z"
   },
   {
    "duration": 71,
    "start_time": "2022-08-24T18:34:59.467Z"
   },
   {
    "duration": 4,
    "start_time": "2022-08-24T18:35:37.443Z"
   },
   {
    "duration": 3,
    "start_time": "2022-08-24T18:35:54.740Z"
   },
   {
    "duration": 4,
    "start_time": "2022-08-24T18:36:07.817Z"
   },
   {
    "duration": 5,
    "start_time": "2022-08-24T18:36:24.101Z"
   },
   {
    "duration": 3,
    "start_time": "2022-08-24T18:36:40.162Z"
   },
   {
    "duration": 3,
    "start_time": "2022-08-24T18:36:50.779Z"
   },
   {
    "duration": 140,
    "start_time": "2022-08-24T18:36:51.514Z"
   },
   {
    "duration": 91,
    "start_time": "2022-08-24T18:36:52.177Z"
   },
   {
    "duration": 3,
    "start_time": "2022-08-24T18:36:53.453Z"
   },
   {
    "duration": 14,
    "start_time": "2022-08-24T18:36:54.319Z"
   },
   {
    "duration": 2211,
    "start_time": "2022-08-24T18:36:55.065Z"
   },
   {
    "duration": 13,
    "start_time": "2022-08-24T18:36:58.971Z"
   },
   {
    "duration": 13,
    "start_time": "2022-08-24T18:36:59.135Z"
   },
   {
    "duration": 147,
    "start_time": "2022-08-24T18:36:59.577Z"
   },
   {
    "duration": 29,
    "start_time": "2022-08-24T18:37:00.125Z"
   },
   {
    "duration": 11,
    "start_time": "2022-08-24T18:37:00.500Z"
   },
   {
    "duration": 5648,
    "start_time": "2022-08-24T18:37:00.676Z"
   },
   {
    "duration": 7,
    "start_time": "2022-08-24T18:37:06.327Z"
   },
   {
    "duration": 47,
    "start_time": "2022-08-24T18:37:06.335Z"
   },
   {
    "duration": 7,
    "start_time": "2022-08-24T18:37:06.385Z"
   },
   {
    "duration": 35,
    "start_time": "2022-08-24T18:37:06.394Z"
   },
   {
    "duration": 8,
    "start_time": "2022-08-24T18:37:06.431Z"
   },
   {
    "duration": 11,
    "start_time": "2022-08-24T18:37:06.442Z"
   },
   {
    "duration": 18,
    "start_time": "2022-08-24T18:37:06.455Z"
   },
   {
    "duration": 154,
    "start_time": "2022-08-24T18:37:06.475Z"
   },
   {
    "duration": 7,
    "start_time": "2022-08-24T18:37:07.612Z"
   },
   {
    "duration": 9,
    "start_time": "2022-08-24T18:37:07.777Z"
   },
   {
    "duration": 181,
    "start_time": "2022-08-24T18:37:07.957Z"
   },
   {
    "duration": 7,
    "start_time": "2022-08-24T18:37:08.149Z"
   },
   {
    "duration": 39,
    "start_time": "2022-08-24T18:37:08.531Z"
   },
   {
    "duration": 223,
    "start_time": "2022-08-24T18:37:10.823Z"
   },
   {
    "duration": 8,
    "start_time": "2022-08-24T18:37:11.215Z"
   },
   {
    "duration": 8,
    "start_time": "2022-08-24T18:37:11.819Z"
   },
   {
    "duration": 9,
    "start_time": "2022-08-24T18:37:12.128Z"
   },
   {
    "duration": 131,
    "start_time": "2022-08-24T18:37:12.344Z"
   },
   {
    "duration": 4,
    "start_time": "2022-08-24T18:37:12.972Z"
   },
   {
    "duration": 7,
    "start_time": "2022-08-24T18:37:13.167Z"
   },
   {
    "duration": 154,
    "start_time": "2022-08-24T18:37:13.379Z"
   },
   {
    "duration": 4,
    "start_time": "2022-08-24T18:37:14.238Z"
   },
   {
    "duration": 8,
    "start_time": "2022-08-24T18:37:14.404Z"
   },
   {
    "duration": 136,
    "start_time": "2022-08-24T18:37:14.616Z"
   },
   {
    "duration": 2,
    "start_time": "2022-08-24T18:37:14.777Z"
   },
   {
    "duration": 13,
    "start_time": "2022-08-24T18:37:15.360Z"
   },
   {
    "duration": 498,
    "start_time": "2022-08-24T18:37:15.773Z"
   },
   {
    "duration": 202,
    "start_time": "2022-08-24T18:37:16.921Z"
   },
   {
    "duration": 19,
    "start_time": "2022-08-24T18:37:17.776Z"
   },
   {
    "duration": 16,
    "start_time": "2022-08-24T18:37:18.875Z"
   },
   {
    "duration": 16,
    "start_time": "2022-08-24T18:37:19.265Z"
   },
   {
    "duration": 16,
    "start_time": "2022-08-24T18:37:20.149Z"
   },
   {
    "duration": 142,
    "start_time": "2022-08-24T18:37:20.719Z"
   },
   {
    "duration": 15,
    "start_time": "2022-08-24T18:37:21.265Z"
   },
   {
    "duration": 25,
    "start_time": "2022-08-24T18:37:21.826Z"
   },
   {
    "duration": 21,
    "start_time": "2022-08-24T18:37:22.228Z"
   },
   {
    "duration": 24,
    "start_time": "2022-08-24T18:37:22.599Z"
   },
   {
    "duration": 21,
    "start_time": "2022-08-24T18:37:22.998Z"
   },
   {
    "duration": 22,
    "start_time": "2022-08-24T18:37:23.426Z"
   },
   {
    "duration": 197,
    "start_time": "2022-08-24T18:37:24.268Z"
   },
   {
    "duration": 7,
    "start_time": "2022-08-24T18:37:24.651Z"
   },
   {
    "duration": 3,
    "start_time": "2022-08-24T18:37:24.868Z"
   },
   {
    "duration": 74,
    "start_time": "2022-08-24T18:37:37.393Z"
   },
   {
    "duration": 18,
    "start_time": "2022-08-24T18:37:38.277Z"
   },
   {
    "duration": 2757,
    "start_time": "2022-08-24T18:37:38.774Z"
   },
   {
    "duration": 42,
    "start_time": "2022-08-24T18:37:41.534Z"
   },
   {
    "duration": 24,
    "start_time": "2022-08-24T18:37:49.624Z"
   },
   {
    "duration": 4,
    "start_time": "2022-08-24T18:37:50.784Z"
   },
   {
    "duration": 38,
    "start_time": "2022-08-24T18:46:08.718Z"
   },
   {
    "duration": 28,
    "start_time": "2022-08-24T18:46:57.216Z"
   },
   {
    "duration": 24,
    "start_time": "2022-08-24T18:48:02.832Z"
   },
   {
    "duration": 40,
    "start_time": "2022-08-24T18:49:08.139Z"
   },
   {
    "duration": 23,
    "start_time": "2022-08-24T18:50:15.951Z"
   },
   {
    "duration": 23,
    "start_time": "2022-08-24T18:50:32.334Z"
   },
   {
    "duration": 25,
    "start_time": "2022-08-24T18:53:55.126Z"
   },
   {
    "duration": 21,
    "start_time": "2022-08-24T18:54:15.539Z"
   },
   {
    "duration": 733,
    "start_time": "2022-08-24T20:38:44.631Z"
   },
   {
    "duration": 339,
    "start_time": "2022-08-24T20:38:45.366Z"
   },
   {
    "duration": 69,
    "start_time": "2022-08-24T20:38:45.707Z"
   },
   {
    "duration": 3,
    "start_time": "2022-08-24T20:38:45.786Z"
   },
   {
    "duration": 12,
    "start_time": "2022-08-24T20:38:45.790Z"
   },
   {
    "duration": 2003,
    "start_time": "2022-08-24T20:38:45.803Z"
   },
   {
    "duration": 9,
    "start_time": "2022-08-24T20:38:47.808Z"
   },
   {
    "duration": 14,
    "start_time": "2022-08-24T20:38:47.819Z"
   },
   {
    "duration": 108,
    "start_time": "2022-08-24T20:38:47.835Z"
   },
   {
    "duration": 29,
    "start_time": "2022-08-24T20:38:47.945Z"
   },
   {
    "duration": 17,
    "start_time": "2022-08-24T20:38:47.975Z"
   },
   {
    "duration": 5147,
    "start_time": "2022-08-24T20:38:47.993Z"
   },
   {
    "duration": 5,
    "start_time": "2022-08-24T20:38:53.142Z"
   },
   {
    "duration": 10,
    "start_time": "2022-08-24T20:38:53.149Z"
   },
   {
    "duration": 3,
    "start_time": "2022-08-24T20:38:53.160Z"
   },
   {
    "duration": 22,
    "start_time": "2022-08-24T20:38:53.165Z"
   },
   {
    "duration": 4,
    "start_time": "2022-08-24T20:38:53.189Z"
   },
   {
    "duration": 7,
    "start_time": "2022-08-24T20:38:53.194Z"
   },
   {
    "duration": 5,
    "start_time": "2022-08-24T20:38:53.203Z"
   },
   {
    "duration": 148,
    "start_time": "2022-08-24T20:38:53.210Z"
   },
   {
    "duration": 5,
    "start_time": "2022-08-24T20:38:53.360Z"
   },
   {
    "duration": 21,
    "start_time": "2022-08-24T20:38:53.367Z"
   },
   {
    "duration": 137,
    "start_time": "2022-08-24T20:38:53.390Z"
   },
   {
    "duration": 5,
    "start_time": "2022-08-24T20:38:53.529Z"
   },
   {
    "duration": 30,
    "start_time": "2022-08-24T20:38:53.536Z"
   },
   {
    "duration": 161,
    "start_time": "2022-08-24T20:38:53.568Z"
   },
   {
    "duration": 5,
    "start_time": "2022-08-24T20:38:53.731Z"
   },
   {
    "duration": 10,
    "start_time": "2022-08-24T20:38:53.740Z"
   },
   {
    "duration": 12,
    "start_time": "2022-08-24T20:38:53.752Z"
   },
   {
    "duration": 155,
    "start_time": "2022-08-24T20:38:53.766Z"
   },
   {
    "duration": 4,
    "start_time": "2022-08-24T20:38:53.922Z"
   },
   {
    "duration": 7,
    "start_time": "2022-08-24T20:38:53.928Z"
   },
   {
    "duration": 162,
    "start_time": "2022-08-24T20:38:53.936Z"
   },
   {
    "duration": 4,
    "start_time": "2022-08-24T20:38:54.100Z"
   },
   {
    "duration": 8,
    "start_time": "2022-08-24T20:38:54.105Z"
   },
   {
    "duration": 227,
    "start_time": "2022-08-24T20:38:54.114Z"
   },
   {
    "duration": 2,
    "start_time": "2022-08-24T20:38:54.343Z"
   },
   {
    "duration": 20,
    "start_time": "2022-08-24T20:38:54.347Z"
   },
   {
    "duration": 322,
    "start_time": "2022-08-24T20:38:54.368Z"
   },
   {
    "duration": 173,
    "start_time": "2022-08-24T20:38:54.692Z"
   },
   {
    "duration": 21,
    "start_time": "2022-08-24T20:38:54.866Z"
   },
   {
    "duration": 15,
    "start_time": "2022-08-24T20:38:54.888Z"
   },
   {
    "duration": 14,
    "start_time": "2022-08-24T20:38:54.905Z"
   },
   {
    "duration": 18,
    "start_time": "2022-08-24T20:38:54.921Z"
   },
   {
    "duration": 166,
    "start_time": "2022-08-24T20:38:54.941Z"
   },
   {
    "duration": 14,
    "start_time": "2022-08-24T20:38:55.109Z"
   },
   {
    "duration": 14,
    "start_time": "2022-08-24T20:38:55.124Z"
   },
   {
    "duration": 17,
    "start_time": "2022-08-24T20:38:55.140Z"
   },
   {
    "duration": 36,
    "start_time": "2022-08-24T20:38:55.158Z"
   },
   {
    "duration": 13,
    "start_time": "2022-08-24T20:38:55.196Z"
   },
   {
    "duration": 13,
    "start_time": "2022-08-24T20:38:55.211Z"
   },
   {
    "duration": 183,
    "start_time": "2022-08-24T20:38:55.225Z"
   },
   {
    "duration": 6,
    "start_time": "2022-08-24T20:38:55.409Z"
   },
   {
    "duration": 79,
    "start_time": "2022-08-24T20:38:55.417Z"
   },
   {
    "duration": 16,
    "start_time": "2022-08-24T20:38:55.498Z"
   },
   {
    "duration": 2549,
    "start_time": "2022-08-24T20:38:55.516Z"
   },
   {
    "duration": 35,
    "start_time": "2022-08-24T20:38:58.066Z"
   },
   {
    "duration": 21,
    "start_time": "2022-08-24T20:38:58.102Z"
   },
   {
    "duration": 3,
    "start_time": "2022-08-24T20:38:58.124Z"
   },
   {
    "duration": 139,
    "start_time": "2022-08-24T20:39:32.265Z"
   },
   {
    "duration": 21,
    "start_time": "2022-08-24T20:40:04.642Z"
   },
   {
    "duration": 81,
    "start_time": "2022-08-24T20:40:35.001Z"
   },
   {
    "duration": 25,
    "start_time": "2022-08-24T20:40:43.339Z"
   },
   {
    "duration": 142,
    "start_time": "2022-08-24T20:41:05.464Z"
   },
   {
    "duration": 157,
    "start_time": "2022-08-24T20:41:19.967Z"
   },
   {
    "duration": 140,
    "start_time": "2022-08-24T20:42:00.169Z"
   },
   {
    "duration": 22,
    "start_time": "2022-08-24T20:48:11.125Z"
   },
   {
    "duration": 20,
    "start_time": "2022-08-24T20:48:15.787Z"
   },
   {
    "duration": 24,
    "start_time": "2022-08-24T20:49:47.324Z"
   },
   {
    "duration": 20,
    "start_time": "2022-08-24T20:49:59.978Z"
   },
   {
    "duration": 640,
    "start_time": "2022-08-25T18:48:32.501Z"
   },
   {
    "duration": 363,
    "start_time": "2022-08-25T18:48:33.143Z"
   },
   {
    "duration": 62,
    "start_time": "2022-08-25T18:48:33.508Z"
   },
   {
    "duration": 3,
    "start_time": "2022-08-25T18:48:33.572Z"
   },
   {
    "duration": 13,
    "start_time": "2022-08-25T18:48:33.577Z"
   },
   {
    "duration": 1670,
    "start_time": "2022-08-25T18:48:33.592Z"
   },
   {
    "duration": 11,
    "start_time": "2022-08-25T18:48:35.263Z"
   },
   {
    "duration": 40,
    "start_time": "2022-08-25T18:48:35.275Z"
   },
   {
    "duration": 92,
    "start_time": "2022-08-25T18:48:35.316Z"
   },
   {
    "duration": 27,
    "start_time": "2022-08-25T18:48:35.412Z"
   },
   {
    "duration": 9,
    "start_time": "2022-08-25T18:48:35.440Z"
   },
   {
    "duration": 4464,
    "start_time": "2022-08-25T18:48:35.451Z"
   },
   {
    "duration": 5,
    "start_time": "2022-08-25T18:48:39.916Z"
   },
   {
    "duration": 10,
    "start_time": "2022-08-25T18:48:39.923Z"
   },
   {
    "duration": 4,
    "start_time": "2022-08-25T18:48:39.934Z"
   },
   {
    "duration": 6,
    "start_time": "2022-08-25T18:48:39.940Z"
   },
   {
    "duration": 4,
    "start_time": "2022-08-25T18:48:39.947Z"
   },
   {
    "duration": 5,
    "start_time": "2022-08-25T18:48:39.952Z"
   },
   {
    "duration": 6,
    "start_time": "2022-08-25T18:48:39.958Z"
   },
   {
    "duration": 146,
    "start_time": "2022-08-25T18:48:39.965Z"
   },
   {
    "duration": 5,
    "start_time": "2022-08-25T18:48:40.112Z"
   },
   {
    "duration": 7,
    "start_time": "2022-08-25T18:48:40.118Z"
   },
   {
    "duration": 121,
    "start_time": "2022-08-25T18:48:40.126Z"
   },
   {
    "duration": 4,
    "start_time": "2022-08-25T18:48:40.249Z"
   },
   {
    "duration": 28,
    "start_time": "2022-08-25T18:48:40.254Z"
   },
   {
    "duration": 149,
    "start_time": "2022-08-25T18:48:40.284Z"
   },
   {
    "duration": 5,
    "start_time": "2022-08-25T18:48:40.435Z"
   },
   {
    "duration": 8,
    "start_time": "2022-08-25T18:48:40.443Z"
   },
   {
    "duration": 6,
    "start_time": "2022-08-25T18:48:40.453Z"
   },
   {
    "duration": 126,
    "start_time": "2022-08-25T18:48:40.460Z"
   },
   {
    "duration": 4,
    "start_time": "2022-08-25T18:48:40.588Z"
   },
   {
    "duration": 6,
    "start_time": "2022-08-25T18:48:40.593Z"
   },
   {
    "duration": 131,
    "start_time": "2022-08-25T18:48:40.611Z"
   },
   {
    "duration": 4,
    "start_time": "2022-08-25T18:48:40.743Z"
   },
   {
    "duration": 4,
    "start_time": "2022-08-25T18:48:40.748Z"
   },
   {
    "duration": 196,
    "start_time": "2022-08-25T18:48:40.754Z"
   },
   {
    "duration": 2,
    "start_time": "2022-08-25T18:48:40.952Z"
   },
   {
    "duration": 13,
    "start_time": "2022-08-25T18:48:40.955Z"
   },
   {
    "duration": 337,
    "start_time": "2022-08-25T18:48:40.969Z"
   },
   {
    "duration": 159,
    "start_time": "2022-08-25T18:48:41.307Z"
   },
   {
    "duration": 11,
    "start_time": "2022-08-25T18:48:41.468Z"
   },
   {
    "duration": 13,
    "start_time": "2022-08-25T18:48:41.480Z"
   },
   {
    "duration": 27,
    "start_time": "2022-08-25T18:48:41.494Z"
   },
   {
    "duration": 12,
    "start_time": "2022-08-25T18:48:41.522Z"
   },
   {
    "duration": 136,
    "start_time": "2022-08-25T18:48:41.536Z"
   },
   {
    "duration": 13,
    "start_time": "2022-08-25T18:48:41.674Z"
   },
   {
    "duration": 27,
    "start_time": "2022-08-25T18:48:41.688Z"
   },
   {
    "duration": 14,
    "start_time": "2022-08-25T18:48:41.716Z"
   },
   {
    "duration": 12,
    "start_time": "2022-08-25T18:48:41.732Z"
   },
   {
    "duration": 13,
    "start_time": "2022-08-25T18:48:41.745Z"
   },
   {
    "duration": 12,
    "start_time": "2022-08-25T18:48:41.759Z"
   },
   {
    "duration": 169,
    "start_time": "2022-08-25T18:48:41.772Z"
   },
   {
    "duration": 5,
    "start_time": "2022-08-25T18:48:41.943Z"
   },
   {
    "duration": 81,
    "start_time": "2022-08-25T18:48:41.949Z"
   },
   {
    "duration": 15,
    "start_time": "2022-08-25T18:48:42.031Z"
   },
   {
    "duration": 2296,
    "start_time": "2022-08-25T18:48:42.047Z"
   },
   {
    "duration": 22,
    "start_time": "2022-08-25T18:48:44.344Z"
   },
   {
    "duration": 21,
    "start_time": "2022-08-25T18:48:44.367Z"
   },
   {
    "duration": 147,
    "start_time": "2022-08-25T18:48:44.390Z"
   },
   {
    "duration": 3,
    "start_time": "2022-08-25T18:48:44.538Z"
   },
   {
    "duration": 18,
    "start_time": "2022-08-25T18:49:11.831Z"
   },
   {
    "duration": 93,
    "start_time": "2022-08-25T18:49:15.600Z"
   },
   {
    "duration": 14,
    "start_time": "2022-08-25T18:53:34.807Z"
   },
   {
    "duration": 52,
    "start_time": "2022-08-27T17:33:37.821Z"
   },
   {
    "duration": 9,
    "start_time": "2022-08-27T17:33:44.804Z"
   },
   {
    "duration": 1025,
    "start_time": "2022-08-27T17:36:25.327Z"
   },
   {
    "duration": 216,
    "start_time": "2022-08-27T17:36:27.289Z"
   },
   {
    "duration": 87,
    "start_time": "2022-08-27T17:36:27.789Z"
   },
   {
    "duration": 4,
    "start_time": "2022-08-27T17:36:29.154Z"
   },
   {
    "duration": 14,
    "start_time": "2022-08-27T17:36:29.691Z"
   },
   {
    "duration": 2621,
    "start_time": "2022-08-27T17:36:30.688Z"
   },
   {
    "duration": 11,
    "start_time": "2022-08-27T17:36:34.089Z"
   },
   {
    "duration": 28,
    "start_time": "2022-08-27T17:36:34.492Z"
   },
   {
    "duration": 173,
    "start_time": "2022-08-27T17:36:34.838Z"
   },
   {
    "duration": 41,
    "start_time": "2022-08-27T17:36:36.033Z"
   },
   {
    "duration": 9,
    "start_time": "2022-08-27T17:36:36.594Z"
   },
   {
    "duration": 6780,
    "start_time": "2022-08-27T17:36:36.839Z"
   },
   {
    "duration": 8,
    "start_time": "2022-08-27T17:36:43.621Z"
   },
   {
    "duration": 13,
    "start_time": "2022-08-27T17:36:50.948Z"
   },
   {
    "duration": 5,
    "start_time": "2022-08-27T17:36:51.653Z"
   },
   {
    "duration": 8,
    "start_time": "2022-08-27T17:36:52.407Z"
   },
   {
    "duration": 5,
    "start_time": "2022-08-27T17:36:52.890Z"
   },
   {
    "duration": 6,
    "start_time": "2022-08-27T17:36:53.172Z"
   },
   {
    "duration": 6,
    "start_time": "2022-08-27T17:36:53.449Z"
   },
   {
    "duration": 188,
    "start_time": "2022-08-27T17:36:53.835Z"
   },
   {
    "duration": 7,
    "start_time": "2022-08-27T17:36:56.152Z"
   },
   {
    "duration": 8,
    "start_time": "2022-08-27T17:36:56.437Z"
   },
   {
    "duration": 226,
    "start_time": "2022-08-27T17:36:56.666Z"
   },
   {
    "duration": 8,
    "start_time": "2022-08-27T17:36:56.979Z"
   },
   {
    "duration": 45,
    "start_time": "2022-08-27T17:36:58.626Z"
   },
   {
    "duration": 163,
    "start_time": "2022-08-27T17:37:17.292Z"
   },
   {
    "duration": 7,
    "start_time": "2022-08-27T17:37:18.300Z"
   },
   {
    "duration": 7,
    "start_time": "2022-08-27T17:37:18.792Z"
   },
   {
    "duration": 8,
    "start_time": "2022-08-27T17:37:19.294Z"
   },
   {
    "duration": 180,
    "start_time": "2022-08-27T17:37:19.929Z"
   },
   {
    "duration": 5,
    "start_time": "2022-08-27T17:37:21.510Z"
   },
   {
    "duration": 9,
    "start_time": "2022-08-27T17:37:21.820Z"
   },
   {
    "duration": 174,
    "start_time": "2022-08-27T17:37:22.577Z"
   },
   {
    "duration": 5,
    "start_time": "2022-08-27T17:37:54.054Z"
   },
   {
    "duration": 3,
    "start_time": "2022-08-27T17:37:54.531Z"
   },
   {
    "duration": 264,
    "start_time": "2022-08-27T17:37:55.143Z"
   },
   {
    "duration": 2,
    "start_time": "2022-08-27T17:37:57.520Z"
   },
   {
    "duration": 13,
    "start_time": "2022-08-27T17:37:59.341Z"
   },
   {
    "duration": 391,
    "start_time": "2022-08-27T17:38:01.556Z"
   },
   {
    "duration": 198,
    "start_time": "2022-08-27T17:38:18.080Z"
   },
   {
    "duration": 206,
    "start_time": "2022-08-27T17:39:10.736Z"
   },
   {
    "duration": 13,
    "start_time": "2022-08-27T17:39:13.131Z"
   },
   {
    "duration": 174,
    "start_time": "2022-08-27T17:39:24.055Z"
   },
   {
    "duration": 180,
    "start_time": "2022-08-27T17:39:32.910Z"
   },
   {
    "duration": 83,
    "start_time": "2022-08-27T17:39:43.929Z"
   },
   {
    "duration": 171,
    "start_time": "2022-08-27T17:39:47.908Z"
   },
   {
    "duration": 264,
    "start_time": "2022-08-27T17:40:00.395Z"
   },
   {
    "duration": 246,
    "start_time": "2022-08-27T17:40:21.890Z"
   },
   {
    "duration": 166,
    "start_time": "2022-08-27T17:40:27.652Z"
   },
   {
    "duration": 153,
    "start_time": "2022-08-27T17:40:40.498Z"
   },
   {
    "duration": 136,
    "start_time": "2022-08-27T17:45:00.341Z"
   },
   {
    "duration": 147,
    "start_time": "2022-08-27T17:45:25.527Z"
   },
   {
    "duration": 252,
    "start_time": "2022-08-27T17:45:30.319Z"
   },
   {
    "duration": 151,
    "start_time": "2022-08-27T17:45:42.932Z"
   },
   {
    "duration": 145,
    "start_time": "2022-08-27T17:46:08.570Z"
   },
   {
    "duration": 157,
    "start_time": "2022-08-27T17:46:31.716Z"
   },
   {
    "duration": 167,
    "start_time": "2022-08-27T17:46:56.162Z"
   },
   {
    "duration": 245,
    "start_time": "2022-08-27T17:47:21.473Z"
   },
   {
    "duration": 156,
    "start_time": "2022-08-27T17:47:37.001Z"
   },
   {
    "duration": 141,
    "start_time": "2022-08-27T17:47:50.532Z"
   },
   {
    "duration": 165,
    "start_time": "2022-08-27T17:48:00.155Z"
   },
   {
    "duration": 160,
    "start_time": "2022-08-27T17:48:09.644Z"
   },
   {
    "duration": 159,
    "start_time": "2022-08-27T17:48:19.431Z"
   },
   {
    "duration": 163,
    "start_time": "2022-08-27T17:48:25.365Z"
   },
   {
    "duration": 178,
    "start_time": "2022-08-27T17:48:31.862Z"
   },
   {
    "duration": 164,
    "start_time": "2022-08-27T17:49:02.091Z"
   },
   {
    "duration": 169,
    "start_time": "2022-08-27T17:49:04.696Z"
   },
   {
    "duration": 7,
    "start_time": "2022-08-27T17:49:05.769Z"
   },
   {
    "duration": 69,
    "start_time": "2022-08-27T17:49:15.089Z"
   },
   {
    "duration": 19,
    "start_time": "2022-08-27T17:49:16.183Z"
   },
   {
    "duration": 2732,
    "start_time": "2022-08-27T17:49:17.015Z"
   },
   {
    "duration": 37,
    "start_time": "2022-08-27T17:49:19.749Z"
   },
   {
    "duration": 24,
    "start_time": "2022-08-27T17:49:20.391Z"
   },
   {
    "duration": 157,
    "start_time": "2022-08-27T17:49:21.213Z"
   },
   {
    "duration": 2,
    "start_time": "2022-08-27T17:49:22.160Z"
   },
   {
    "duration": 83,
    "start_time": "2022-08-27T18:09:05.336Z"
   },
   {
    "duration": 7,
    "start_time": "2022-08-27T18:20:30.899Z"
   },
   {
    "duration": 10,
    "start_time": "2022-08-27T18:20:46.564Z"
   },
   {
    "duration": 8,
    "start_time": "2022-08-27T18:20:50.388Z"
   },
   {
    "duration": 7,
    "start_time": "2022-08-27T18:20:58.809Z"
   },
   {
    "duration": 7,
    "start_time": "2022-08-27T18:21:07.857Z"
   },
   {
    "duration": 133,
    "start_time": "2022-08-27T18:21:23.502Z"
   },
   {
    "duration": 621,
    "start_time": "2022-08-27T18:25:24.805Z"
   },
   {
    "duration": 131,
    "start_time": "2022-08-27T18:25:25.428Z"
   },
   {
    "duration": 73,
    "start_time": "2022-08-27T18:25:25.562Z"
   },
   {
    "duration": 3,
    "start_time": "2022-08-27T18:25:25.638Z"
   },
   {
    "duration": 26,
    "start_time": "2022-08-27T18:25:25.642Z"
   },
   {
    "duration": 1995,
    "start_time": "2022-08-27T18:25:25.670Z"
   },
   {
    "duration": 10,
    "start_time": "2022-08-27T18:25:27.666Z"
   },
   {
    "duration": 15,
    "start_time": "2022-08-27T18:25:27.678Z"
   },
   {
    "duration": 131,
    "start_time": "2022-08-27T18:25:27.695Z"
   },
   {
    "duration": 41,
    "start_time": "2022-08-27T18:25:27.828Z"
   },
   {
    "duration": 8,
    "start_time": "2022-08-27T18:25:27.870Z"
   },
   {
    "duration": 5060,
    "start_time": "2022-08-27T18:25:27.880Z"
   },
   {
    "duration": 6,
    "start_time": "2022-08-27T18:25:32.942Z"
   },
   {
    "duration": 22,
    "start_time": "2022-08-27T18:25:32.949Z"
   },
   {
    "duration": 5,
    "start_time": "2022-08-27T18:25:32.972Z"
   },
   {
    "duration": 8,
    "start_time": "2022-08-27T18:25:32.978Z"
   },
   {
    "duration": 6,
    "start_time": "2022-08-27T18:25:32.988Z"
   },
   {
    "duration": 7,
    "start_time": "2022-08-27T18:25:32.995Z"
   },
   {
    "duration": 7,
    "start_time": "2022-08-27T18:25:33.004Z"
   },
   {
    "duration": 159,
    "start_time": "2022-08-27T18:25:33.013Z"
   },
   {
    "duration": 4,
    "start_time": "2022-08-27T18:25:33.174Z"
   },
   {
    "duration": 8,
    "start_time": "2022-08-27T18:25:33.179Z"
   },
   {
    "duration": 142,
    "start_time": "2022-08-27T18:25:33.189Z"
   },
   {
    "duration": 4,
    "start_time": "2022-08-27T18:25:33.332Z"
   },
   {
    "duration": 38,
    "start_time": "2022-08-27T18:25:33.338Z"
   },
   {
    "duration": 174,
    "start_time": "2022-08-27T18:25:33.378Z"
   },
   {
    "duration": 6,
    "start_time": "2022-08-27T18:25:33.554Z"
   },
   {
    "duration": 9,
    "start_time": "2022-08-27T18:25:33.565Z"
   },
   {
    "duration": 9,
    "start_time": "2022-08-27T18:25:33.576Z"
   },
   {
    "duration": 126,
    "start_time": "2022-08-27T18:25:33.586Z"
   },
   {
    "duration": 4,
    "start_time": "2022-08-27T18:25:33.714Z"
   },
   {
    "duration": 14,
    "start_time": "2022-08-27T18:25:33.719Z"
   },
   {
    "duration": 172,
    "start_time": "2022-08-27T18:25:33.734Z"
   },
   {
    "duration": 3,
    "start_time": "2022-08-27T18:25:33.908Z"
   },
   {
    "duration": 5,
    "start_time": "2022-08-27T18:25:33.913Z"
   },
   {
    "duration": 219,
    "start_time": "2022-08-27T18:25:33.919Z"
   },
   {
    "duration": 3,
    "start_time": "2022-08-27T18:25:34.139Z"
   },
   {
    "duration": 35,
    "start_time": "2022-08-27T18:25:34.143Z"
   },
   {
    "duration": 564,
    "start_time": "2022-08-27T18:25:34.179Z"
   },
   {
    "duration": 58,
    "start_time": "2022-08-27T18:28:39.737Z"
   },
   {
    "duration": 688,
    "start_time": "2022-08-27T18:28:48.867Z"
   },
   {
    "duration": 133,
    "start_time": "2022-08-27T18:28:49.651Z"
   },
   {
    "duration": 81,
    "start_time": "2022-08-27T18:28:49.857Z"
   },
   {
    "duration": 3,
    "start_time": "2022-08-27T18:28:50.718Z"
   },
   {
    "duration": 9,
    "start_time": "2022-08-27T18:28:50.906Z"
   },
   {
    "duration": 2305,
    "start_time": "2022-08-27T18:28:51.320Z"
   },
   {
    "duration": 11,
    "start_time": "2022-08-27T18:28:53.628Z"
   },
   {
    "duration": 34,
    "start_time": "2022-08-27T18:28:53.641Z"
   },
   {
    "duration": 113,
    "start_time": "2022-08-27T18:28:53.716Z"
   },
   {
    "duration": 31,
    "start_time": "2022-08-27T18:28:54.078Z"
   },
   {
    "duration": 7,
    "start_time": "2022-08-27T18:28:54.335Z"
   },
   {
    "duration": 5529,
    "start_time": "2022-08-27T18:28:54.482Z"
   },
   {
    "duration": 7,
    "start_time": "2022-08-27T18:29:00.013Z"
   },
   {
    "duration": 21,
    "start_time": "2022-08-27T18:29:00.022Z"
   },
   {
    "duration": 4,
    "start_time": "2022-08-27T18:29:23.858Z"
   },
   {
    "duration": 6,
    "start_time": "2022-08-27T18:29:24.930Z"
   },
   {
    "duration": 5,
    "start_time": "2022-08-27T18:29:25.612Z"
   },
   {
    "duration": 5,
    "start_time": "2022-08-27T18:29:25.950Z"
   },
   {
    "duration": 5,
    "start_time": "2022-08-27T18:29:39.911Z"
   },
   {
    "duration": 143,
    "start_time": "2022-08-27T18:29:40.511Z"
   },
   {
    "duration": 6,
    "start_time": "2022-08-27T18:29:42.728Z"
   },
   {
    "duration": 6,
    "start_time": "2022-08-27T18:29:43.030Z"
   },
   {
    "duration": 139,
    "start_time": "2022-08-27T18:29:43.542Z"
   },
   {
    "duration": 5,
    "start_time": "2022-08-27T18:29:49.739Z"
   },
   {
    "duration": 36,
    "start_time": "2022-08-27T18:29:50.658Z"
   },
   {
    "duration": 173,
    "start_time": "2022-08-27T18:29:53.959Z"
   },
   {
    "duration": 5,
    "start_time": "2022-08-27T18:29:54.709Z"
   },
   {
    "duration": 5,
    "start_time": "2022-08-27T18:29:55.257Z"
   },
   {
    "duration": 9,
    "start_time": "2022-08-27T18:29:55.665Z"
   },
   {
    "duration": 159,
    "start_time": "2022-08-27T18:29:56.057Z"
   },
   {
    "duration": 5,
    "start_time": "2022-08-27T18:29:57.080Z"
   },
   {
    "duration": 12,
    "start_time": "2022-08-27T18:29:57.268Z"
   },
   {
    "duration": 162,
    "start_time": "2022-08-27T18:29:57.580Z"
   },
   {
    "duration": 4,
    "start_time": "2022-08-27T18:29:59.215Z"
   },
   {
    "duration": 2,
    "start_time": "2022-08-27T18:29:59.482Z"
   },
   {
    "duration": 231,
    "start_time": "2022-08-27T18:29:59.703Z"
   },
   {
    "duration": 3,
    "start_time": "2022-08-27T18:29:59.936Z"
   },
   {
    "duration": 13,
    "start_time": "2022-08-27T18:30:00.987Z"
   },
   {
    "duration": 367,
    "start_time": "2022-08-27T18:30:01.965Z"
   },
   {
    "duration": 484,
    "start_time": "2022-08-27T18:30:47.033Z"
   },
   {
    "duration": 521,
    "start_time": "2022-08-27T18:30:54.924Z"
   },
   {
    "duration": 368,
    "start_time": "2022-08-27T18:31:13.062Z"
   },
   {
    "duration": 355,
    "start_time": "2022-08-27T18:31:28.337Z"
   },
   {
    "duration": 55,
    "start_time": "2022-08-27T19:02:30.829Z"
   },
   {
    "duration": 755,
    "start_time": "2022-08-27T19:02:36.180Z"
   },
   {
    "duration": 191,
    "start_time": "2022-08-27T19:02:36.938Z"
   },
   {
    "duration": 79,
    "start_time": "2022-08-27T19:02:37.130Z"
   },
   {
    "duration": 3,
    "start_time": "2022-08-27T19:02:37.211Z"
   },
   {
    "duration": 12,
    "start_time": "2022-08-27T19:02:37.216Z"
   },
   {
    "duration": 2235,
    "start_time": "2022-08-27T19:02:37.230Z"
   },
   {
    "duration": 18,
    "start_time": "2022-08-27T19:02:39.467Z"
   },
   {
    "duration": 19,
    "start_time": "2022-08-27T19:02:39.488Z"
   },
   {
    "duration": 139,
    "start_time": "2022-08-27T19:02:39.509Z"
   },
   {
    "duration": 46,
    "start_time": "2022-08-27T19:02:39.650Z"
   },
   {
    "duration": 9,
    "start_time": "2022-08-27T19:02:39.698Z"
   },
   {
    "duration": 6077,
    "start_time": "2022-08-27T19:02:39.708Z"
   },
   {
    "duration": 7,
    "start_time": "2022-08-27T19:02:45.787Z"
   },
   {
    "duration": 9,
    "start_time": "2022-08-27T19:02:45.797Z"
   },
   {
    "duration": 5,
    "start_time": "2022-08-27T19:02:45.807Z"
   },
   {
    "duration": 9,
    "start_time": "2022-08-27T19:02:45.814Z"
   },
   {
    "duration": 5,
    "start_time": "2022-08-27T19:02:45.824Z"
   },
   {
    "duration": 40,
    "start_time": "2022-08-27T19:02:45.831Z"
   },
   {
    "duration": 5,
    "start_time": "2022-08-27T19:02:45.882Z"
   },
   {
    "duration": 161,
    "start_time": "2022-08-27T19:02:45.889Z"
   },
   {
    "duration": 6,
    "start_time": "2022-08-27T19:02:46.052Z"
   },
   {
    "duration": 10,
    "start_time": "2022-08-27T19:02:46.068Z"
   },
   {
    "duration": 149,
    "start_time": "2022-08-27T19:02:46.081Z"
   },
   {
    "duration": 5,
    "start_time": "2022-08-27T19:02:46.231Z"
   },
   {
    "duration": 45,
    "start_time": "2022-08-27T19:02:46.238Z"
   },
   {
    "duration": 168,
    "start_time": "2022-08-27T19:02:46.285Z"
   },
   {
    "duration": 5,
    "start_time": "2022-08-27T19:02:46.455Z"
   },
   {
    "duration": 15,
    "start_time": "2022-08-27T19:02:46.468Z"
   },
   {
    "duration": 18,
    "start_time": "2022-08-27T19:02:46.489Z"
   },
   {
    "duration": 138,
    "start_time": "2022-08-27T19:02:46.509Z"
   },
   {
    "duration": 11,
    "start_time": "2022-08-27T19:02:46.649Z"
   },
   {
    "duration": 31,
    "start_time": "2022-08-27T19:02:46.668Z"
   },
   {
    "duration": 190,
    "start_time": "2022-08-27T19:02:46.700Z"
   },
   {
    "duration": 5,
    "start_time": "2022-08-27T19:02:46.892Z"
   },
   {
    "duration": 7,
    "start_time": "2022-08-27T19:02:46.900Z"
   },
   {
    "duration": 293,
    "start_time": "2022-08-27T19:02:46.909Z"
   },
   {
    "duration": 3,
    "start_time": "2022-08-27T19:02:47.203Z"
   },
   {
    "duration": 18,
    "start_time": "2022-08-27T19:02:47.207Z"
   },
   {
    "duration": 381,
    "start_time": "2022-08-27T19:02:47.226Z"
   },
   {
    "duration": 679,
    "start_time": "2022-08-27T19:04:47.415Z"
   },
   {
    "duration": 133,
    "start_time": "2022-08-27T19:04:48.096Z"
   },
   {
    "duration": 93,
    "start_time": "2022-08-27T19:04:48.230Z"
   },
   {
    "duration": 4,
    "start_time": "2022-08-27T19:04:48.324Z"
   },
   {
    "duration": 13,
    "start_time": "2022-08-27T19:04:48.329Z"
   },
   {
    "duration": 2324,
    "start_time": "2022-08-27T19:04:48.343Z"
   },
   {
    "duration": 14,
    "start_time": "2022-08-27T19:04:50.671Z"
   },
   {
    "duration": 21,
    "start_time": "2022-08-27T19:04:50.687Z"
   },
   {
    "duration": 141,
    "start_time": "2022-08-27T19:04:50.710Z"
   },
   {
    "duration": 44,
    "start_time": "2022-08-27T19:04:50.853Z"
   },
   {
    "duration": 9,
    "start_time": "2022-08-27T19:04:50.899Z"
   },
   {
    "duration": 6165,
    "start_time": "2022-08-27T19:04:50.910Z"
   },
   {
    "duration": 8,
    "start_time": "2022-08-27T19:04:57.077Z"
   },
   {
    "duration": 16,
    "start_time": "2022-08-27T19:04:57.089Z"
   },
   {
    "duration": 5,
    "start_time": "2022-08-27T19:04:57.107Z"
   },
   {
    "duration": 9,
    "start_time": "2022-08-27T19:04:57.114Z"
   },
   {
    "duration": 6,
    "start_time": "2022-08-27T19:04:57.125Z"
   },
   {
    "duration": 47,
    "start_time": "2022-08-27T19:04:57.133Z"
   },
   {
    "duration": 5,
    "start_time": "2022-08-27T19:04:57.182Z"
   },
   {
    "duration": 169,
    "start_time": "2022-08-27T19:04:57.189Z"
   },
   {
    "duration": 7,
    "start_time": "2022-08-27T19:04:57.360Z"
   },
   {
    "duration": 22,
    "start_time": "2022-08-27T19:04:57.369Z"
   },
   {
    "duration": 163,
    "start_time": "2022-08-27T19:04:57.393Z"
   },
   {
    "duration": 13,
    "start_time": "2022-08-27T19:04:57.559Z"
   },
   {
    "duration": 41,
    "start_time": "2022-08-27T19:04:57.573Z"
   },
   {
    "duration": 174,
    "start_time": "2022-08-27T19:04:57.616Z"
   },
   {
    "duration": 6,
    "start_time": "2022-08-27T19:04:57.792Z"
   },
   {
    "duration": 17,
    "start_time": "2022-08-27T19:04:57.801Z"
   },
   {
    "duration": 16,
    "start_time": "2022-08-27T19:04:57.819Z"
   },
   {
    "duration": 174,
    "start_time": "2022-08-27T19:04:57.837Z"
   },
   {
    "duration": 5,
    "start_time": "2022-08-27T19:04:58.013Z"
   },
   {
    "duration": 14,
    "start_time": "2022-08-27T19:04:58.020Z"
   },
   {
    "duration": 192,
    "start_time": "2022-08-27T19:04:58.037Z"
   },
   {
    "duration": 5,
    "start_time": "2022-08-27T19:04:58.230Z"
   },
   {
    "duration": 7,
    "start_time": "2022-08-27T19:04:58.236Z"
   },
   {
    "duration": 267,
    "start_time": "2022-08-27T19:04:58.245Z"
   },
   {
    "duration": 3,
    "start_time": "2022-08-27T19:04:58.514Z"
   },
   {
    "duration": 17,
    "start_time": "2022-08-27T19:04:58.518Z"
   },
   {
    "duration": 389,
    "start_time": "2022-08-27T19:04:58.537Z"
   },
   {
    "duration": 4,
    "start_time": "2022-08-27T19:04:58.928Z"
   },
   {
    "duration": 179,
    "start_time": "2022-08-27T19:04:58.936Z"
   },
   {
    "duration": 198,
    "start_time": "2022-08-27T19:04:59.117Z"
   },
   {
    "duration": 172,
    "start_time": "2022-08-27T19:04:59.318Z"
   },
   {
    "duration": 186,
    "start_time": "2022-08-27T19:04:59.493Z"
   },
   {
    "duration": 153,
    "start_time": "2022-08-27T19:04:59.685Z"
   },
   {
    "duration": 179,
    "start_time": "2022-08-27T19:04:59.840Z"
   },
   {
    "duration": 176,
    "start_time": "2022-08-27T19:05:00.020Z"
   },
   {
    "duration": 230,
    "start_time": "2022-08-27T19:05:00.198Z"
   },
   {
    "duration": 170,
    "start_time": "2022-08-27T19:05:00.430Z"
   },
   {
    "duration": 184,
    "start_time": "2022-08-27T19:05:00.602Z"
   },
   {
    "duration": 192,
    "start_time": "2022-08-27T19:05:00.788Z"
   },
   {
    "duration": 199,
    "start_time": "2022-08-27T19:05:00.981Z"
   },
   {
    "duration": 7,
    "start_time": "2022-08-27T19:05:01.184Z"
   },
   {
    "duration": 95,
    "start_time": "2022-08-27T19:05:01.193Z"
   },
   {
    "duration": 20,
    "start_time": "2022-08-27T19:05:01.291Z"
   },
   {
    "duration": 2944,
    "start_time": "2022-08-27T19:05:01.313Z"
   },
   {
    "duration": 42,
    "start_time": "2022-08-27T19:05:04.260Z"
   },
   {
    "duration": 35,
    "start_time": "2022-08-27T19:05:04.304Z"
   },
   {
    "duration": 210,
    "start_time": "2022-08-27T19:05:04.341Z"
   },
   {
    "duration": 4,
    "start_time": "2022-08-27T19:05:04.554Z"
   },
   {
    "duration": 8,
    "start_time": "2022-08-27T19:06:24.620Z"
   },
   {
    "duration": 4,
    "start_time": "2022-08-27T19:08:47.382Z"
   },
   {
    "duration": 6,
    "start_time": "2022-08-27T19:08:50.214Z"
   },
   {
    "duration": 156,
    "start_time": "2022-08-27T19:08:57.884Z"
   },
   {
    "duration": 163,
    "start_time": "2022-08-27T19:09:12.758Z"
   },
   {
    "duration": 6,
    "start_time": "2022-08-27T19:15:03.586Z"
   },
   {
    "duration": 5,
    "start_time": "2022-08-27T19:15:22.286Z"
   },
   {
    "duration": 7,
    "start_time": "2022-08-27T19:15:50.804Z"
   },
   {
    "duration": 9,
    "start_time": "2022-08-27T19:16:10.398Z"
   },
   {
    "duration": 565,
    "start_time": "2022-08-28T20:44:07.217Z"
   },
   {
    "duration": 105,
    "start_time": "2022-08-28T20:44:07.784Z"
   },
   {
    "duration": 60,
    "start_time": "2022-08-28T20:44:07.890Z"
   },
   {
    "duration": 3,
    "start_time": "2022-08-28T20:44:07.952Z"
   },
   {
    "duration": 12,
    "start_time": "2022-08-28T20:44:07.957Z"
   },
   {
    "duration": 1605,
    "start_time": "2022-08-28T20:44:07.970Z"
   },
   {
    "duration": 8,
    "start_time": "2022-08-28T20:44:09.577Z"
   },
   {
    "duration": 23,
    "start_time": "2022-08-28T20:44:09.587Z"
   },
   {
    "duration": 104,
    "start_time": "2022-08-28T20:44:09.611Z"
   },
   {
    "duration": 24,
    "start_time": "2022-08-28T20:44:09.717Z"
   },
   {
    "duration": 6,
    "start_time": "2022-08-28T20:44:09.743Z"
   },
   {
    "duration": 4270,
    "start_time": "2022-08-28T20:44:09.750Z"
   },
   {
    "duration": 5,
    "start_time": "2022-08-28T20:44:14.022Z"
   },
   {
    "duration": 8,
    "start_time": "2022-08-28T20:44:14.029Z"
   },
   {
    "duration": 3,
    "start_time": "2022-08-28T20:44:14.038Z"
   },
   {
    "duration": 8,
    "start_time": "2022-08-28T20:44:14.043Z"
   },
   {
    "duration": 4,
    "start_time": "2022-08-28T20:44:14.053Z"
   },
   {
    "duration": 6,
    "start_time": "2022-08-28T20:44:14.059Z"
   },
   {
    "duration": 33,
    "start_time": "2022-08-28T20:44:14.066Z"
   },
   {
    "duration": 120,
    "start_time": "2022-08-28T20:44:14.100Z"
   },
   {
    "duration": 5,
    "start_time": "2022-08-28T20:44:14.221Z"
   },
   {
    "duration": 5,
    "start_time": "2022-08-28T20:44:14.228Z"
   },
   {
    "duration": 131,
    "start_time": "2022-08-28T20:44:14.234Z"
   },
   {
    "duration": 4,
    "start_time": "2022-08-28T20:44:14.367Z"
   },
   {
    "duration": 38,
    "start_time": "2022-08-28T20:44:14.373Z"
   },
   {
    "duration": 152,
    "start_time": "2022-08-28T20:44:14.413Z"
   },
   {
    "duration": 6,
    "start_time": "2022-08-28T20:44:14.567Z"
   },
   {
    "duration": 8,
    "start_time": "2022-08-28T20:44:14.574Z"
   },
   {
    "duration": 14,
    "start_time": "2022-08-28T20:44:14.584Z"
   },
   {
    "duration": 129,
    "start_time": "2022-08-28T20:44:14.600Z"
   },
   {
    "duration": 4,
    "start_time": "2022-08-28T20:44:14.730Z"
   },
   {
    "duration": 6,
    "start_time": "2022-08-28T20:44:14.735Z"
   },
   {
    "duration": 134,
    "start_time": "2022-08-28T20:44:14.742Z"
   },
   {
    "duration": 4,
    "start_time": "2022-08-28T20:44:14.877Z"
   },
   {
    "duration": 16,
    "start_time": "2022-08-28T20:44:14.882Z"
   },
   {
    "duration": 187,
    "start_time": "2022-08-28T20:44:14.899Z"
   },
   {
    "duration": 2,
    "start_time": "2022-08-28T20:44:15.088Z"
   },
   {
    "duration": 9,
    "start_time": "2022-08-28T20:44:15.098Z"
   },
   {
    "duration": 314,
    "start_time": "2022-08-28T20:44:15.108Z"
   },
   {
    "duration": 4,
    "start_time": "2022-08-28T20:44:15.423Z"
   },
   {
    "duration": 5,
    "start_time": "2022-08-28T20:44:15.431Z"
   },
   {
    "duration": 135,
    "start_time": "2022-08-28T20:44:15.437Z"
   },
   {
    "duration": 133,
    "start_time": "2022-08-28T20:44:15.574Z"
   },
   {
    "duration": 144,
    "start_time": "2022-08-28T20:44:15.708Z"
   },
   {
    "duration": 147,
    "start_time": "2022-08-28T20:44:15.853Z"
   },
   {
    "duration": 137,
    "start_time": "2022-08-28T20:44:16.002Z"
   },
   {
    "duration": 124,
    "start_time": "2022-08-28T20:44:16.140Z"
   },
   {
    "duration": 140,
    "start_time": "2022-08-28T20:44:16.265Z"
   },
   {
    "duration": 162,
    "start_time": "2022-08-28T20:44:16.406Z"
   },
   {
    "duration": 123,
    "start_time": "2022-08-28T20:44:16.569Z"
   },
   {
    "duration": 128,
    "start_time": "2022-08-28T20:44:16.693Z"
   },
   {
    "duration": 138,
    "start_time": "2022-08-28T20:44:16.822Z"
   },
   {
    "duration": 141,
    "start_time": "2022-08-28T20:44:16.961Z"
   },
   {
    "duration": 136,
    "start_time": "2022-08-28T20:44:17.104Z"
   },
   {
    "duration": 6,
    "start_time": "2022-08-28T20:44:17.241Z"
   },
   {
    "duration": 83,
    "start_time": "2022-08-28T20:44:17.248Z"
   },
   {
    "duration": 14,
    "start_time": "2022-08-28T20:44:17.333Z"
   },
   {
    "duration": 2159,
    "start_time": "2022-08-28T20:44:17.348Z"
   },
   {
    "duration": 22,
    "start_time": "2022-08-28T20:44:19.508Z"
   },
   {
    "duration": 21,
    "start_time": "2022-08-28T20:44:19.531Z"
   },
   {
    "duration": 139,
    "start_time": "2022-08-28T20:44:19.554Z"
   },
   {
    "duration": 3,
    "start_time": "2022-08-28T20:44:19.698Z"
   },
   {
    "duration": 779,
    "start_time": "2022-08-29T06:23:44.135Z"
   },
   {
    "duration": 358,
    "start_time": "2022-08-29T06:23:44.916Z"
   },
   {
    "duration": 71,
    "start_time": "2022-08-29T06:23:45.276Z"
   },
   {
    "duration": 4,
    "start_time": "2022-08-29T06:23:45.349Z"
   },
   {
    "duration": 31,
    "start_time": "2022-08-29T06:23:45.354Z"
   },
   {
    "duration": 1867,
    "start_time": "2022-08-29T06:23:45.387Z"
   },
   {
    "duration": 11,
    "start_time": "2022-08-29T06:23:47.256Z"
   },
   {
    "duration": 19,
    "start_time": "2022-08-29T06:23:47.268Z"
   },
   {
    "duration": 122,
    "start_time": "2022-08-29T06:23:47.289Z"
   },
   {
    "duration": 30,
    "start_time": "2022-08-29T06:23:47.414Z"
   },
   {
    "duration": 16,
    "start_time": "2022-08-29T06:23:47.445Z"
   },
   {
    "duration": 5080,
    "start_time": "2022-08-29T06:23:47.462Z"
   },
   {
    "duration": 7,
    "start_time": "2022-08-29T06:23:52.543Z"
   },
   {
    "duration": 10,
    "start_time": "2022-08-29T06:23:52.551Z"
   },
   {
    "duration": 4,
    "start_time": "2022-08-29T06:23:52.563Z"
   },
   {
    "duration": 25,
    "start_time": "2022-08-29T06:23:52.568Z"
   },
   {
    "duration": 7,
    "start_time": "2022-08-29T06:23:52.594Z"
   },
   {
    "duration": 9,
    "start_time": "2022-08-29T06:23:52.602Z"
   },
   {
    "duration": 7,
    "start_time": "2022-08-29T06:23:52.613Z"
   },
   {
    "duration": 145,
    "start_time": "2022-08-29T06:23:52.621Z"
   },
   {
    "duration": 5,
    "start_time": "2022-08-29T06:23:52.768Z"
   },
   {
    "duration": 15,
    "start_time": "2022-08-29T06:23:52.774Z"
   },
   {
    "duration": 138,
    "start_time": "2022-08-29T06:23:52.790Z"
   },
   {
    "duration": 5,
    "start_time": "2022-08-29T06:23:52.930Z"
   },
   {
    "duration": 28,
    "start_time": "2022-08-29T06:23:52.936Z"
   },
   {
    "duration": 156,
    "start_time": "2022-08-29T06:23:52.966Z"
   },
   {
    "duration": 6,
    "start_time": "2022-08-29T06:23:53.124Z"
   },
   {
    "duration": 19,
    "start_time": "2022-08-29T06:23:53.133Z"
   },
   {
    "duration": 11,
    "start_time": "2022-08-29T06:23:53.154Z"
   },
   {
    "duration": 135,
    "start_time": "2022-08-29T06:23:53.166Z"
   },
   {
    "duration": 4,
    "start_time": "2022-08-29T06:23:53.303Z"
   },
   {
    "duration": 8,
    "start_time": "2022-08-29T06:23:53.309Z"
   },
   {
    "duration": 253,
    "start_time": "2022-08-29T06:23:53.319Z"
   },
   {
    "duration": 13,
    "start_time": "2022-08-29T06:23:53.574Z"
   },
   {
    "duration": 7,
    "start_time": "2022-08-29T06:23:53.589Z"
   },
   {
    "duration": 134,
    "start_time": "2022-08-29T06:23:53.597Z"
   },
   {
    "duration": 3,
    "start_time": "2022-08-29T06:23:53.733Z"
   },
   {
    "duration": 15,
    "start_time": "2022-08-29T06:23:53.737Z"
   },
   {
    "duration": 338,
    "start_time": "2022-08-29T06:23:53.754Z"
   },
   {
    "duration": 3,
    "start_time": "2022-08-29T06:23:54.094Z"
   },
   {
    "duration": 8,
    "start_time": "2022-08-29T06:23:54.099Z"
   },
   {
    "duration": 146,
    "start_time": "2022-08-29T06:23:54.109Z"
   },
   {
    "duration": 149,
    "start_time": "2022-08-29T06:23:54.258Z"
   },
   {
    "duration": 166,
    "start_time": "2022-08-29T06:23:54.409Z"
   },
   {
    "duration": 146,
    "start_time": "2022-08-29T06:23:54.577Z"
   },
   {
    "duration": 173,
    "start_time": "2022-08-29T06:23:54.724Z"
   },
   {
    "duration": 145,
    "start_time": "2022-08-29T06:23:54.899Z"
   },
   {
    "duration": 213,
    "start_time": "2022-08-29T06:23:55.045Z"
   },
   {
    "duration": 148,
    "start_time": "2022-08-29T06:23:55.260Z"
   },
   {
    "duration": 140,
    "start_time": "2022-08-29T06:23:55.410Z"
   },
   {
    "duration": 141,
    "start_time": "2022-08-29T06:23:55.552Z"
   },
   {
    "duration": 161,
    "start_time": "2022-08-29T06:23:55.695Z"
   },
   {
    "duration": 170,
    "start_time": "2022-08-29T06:23:55.858Z"
   },
   {
    "duration": 168,
    "start_time": "2022-08-29T06:23:56.030Z"
   },
   {
    "duration": 7,
    "start_time": "2022-08-29T06:23:56.200Z"
   },
   {
    "duration": 102,
    "start_time": "2022-08-29T06:23:56.209Z"
   },
   {
    "duration": 21,
    "start_time": "2022-08-29T06:23:56.313Z"
   },
   {
    "duration": 2505,
    "start_time": "2022-08-29T06:23:56.336Z"
   },
   {
    "duration": 24,
    "start_time": "2022-08-29T06:23:58.843Z"
   },
   {
    "duration": 36,
    "start_time": "2022-08-29T06:23:58.869Z"
   },
   {
    "duration": 162,
    "start_time": "2022-08-29T06:23:58.907Z"
   },
   {
    "duration": 3,
    "start_time": "2022-08-29T06:23:59.071Z"
   },
   {
    "duration": 7,
    "start_time": "2022-08-29T06:33:16.250Z"
   },
   {
    "duration": 127,
    "start_time": "2022-08-29T06:33:19.437Z"
   },
   {
    "duration": 15,
    "start_time": "2022-08-29T06:33:25.619Z"
   },
   {
    "duration": 88,
    "start_time": "2022-08-29T06:33:30.955Z"
   },
   {
    "duration": 127,
    "start_time": "2022-08-29T06:37:00.304Z"
   },
   {
    "duration": 49,
    "start_time": "2022-08-29T07:10:27.024Z"
   },
   {
    "duration": 822,
    "start_time": "2022-08-29T07:10:34.085Z"
   },
   {
    "duration": 327,
    "start_time": "2022-08-29T07:10:34.908Z"
   },
   {
    "duration": 67,
    "start_time": "2022-08-29T07:10:35.617Z"
   },
   {
    "duration": 3,
    "start_time": "2022-08-29T07:10:36.828Z"
   },
   {
    "duration": 8,
    "start_time": "2022-08-29T07:10:37.345Z"
   },
   {
    "duration": 1721,
    "start_time": "2022-08-29T07:10:38.238Z"
   },
   {
    "duration": 9,
    "start_time": "2022-08-29T07:10:41.069Z"
   },
   {
    "duration": 12,
    "start_time": "2022-08-29T07:10:41.264Z"
   },
   {
    "duration": 95,
    "start_time": "2022-08-29T07:10:41.527Z"
   },
   {
    "duration": 26,
    "start_time": "2022-08-29T07:10:42.333Z"
   },
   {
    "duration": 7,
    "start_time": "2022-08-29T07:10:42.872Z"
   },
   {
    "duration": 4404,
    "start_time": "2022-08-29T07:10:43.122Z"
   },
   {
    "duration": 5,
    "start_time": "2022-08-29T07:10:47.528Z"
   },
   {
    "duration": 15,
    "start_time": "2022-08-29T07:10:47.534Z"
   },
   {
    "duration": 6,
    "start_time": "2022-08-29T07:10:47.551Z"
   },
   {
    "duration": 10,
    "start_time": "2022-08-29T07:10:47.558Z"
   },
   {
    "duration": 14,
    "start_time": "2022-08-29T07:10:47.569Z"
   },
   {
    "duration": 5,
    "start_time": "2022-08-29T07:10:47.730Z"
   },
   {
    "duration": 4,
    "start_time": "2022-08-29T07:10:47.968Z"
   },
   {
    "duration": 116,
    "start_time": "2022-08-29T07:10:48.479Z"
   },
   {
    "duration": 5,
    "start_time": "2022-08-29T07:10:49.957Z"
   },
   {
    "duration": 4,
    "start_time": "2022-08-29T07:10:50.248Z"
   },
   {
    "duration": 113,
    "start_time": "2022-08-29T07:10:50.503Z"
   },
   {
    "duration": 4,
    "start_time": "2022-08-29T07:10:50.765Z"
   },
   {
    "duration": 25,
    "start_time": "2022-08-29T07:10:51.443Z"
   },
   {
    "duration": 129,
    "start_time": "2022-08-29T07:10:54.712Z"
   },
   {
    "duration": 5,
    "start_time": "2022-08-29T07:10:56.163Z"
   },
   {
    "duration": 5,
    "start_time": "2022-08-29T07:10:56.509Z"
   },
   {
    "duration": 6,
    "start_time": "2022-08-29T07:10:56.796Z"
   },
   {
    "duration": 108,
    "start_time": "2022-08-29T07:10:57.162Z"
   },
   {
    "duration": 4,
    "start_time": "2022-08-29T07:10:58.593Z"
   },
   {
    "duration": 5,
    "start_time": "2022-08-29T07:10:59.304Z"
   },
   {
    "duration": 124,
    "start_time": "2022-08-29T07:11:01.988Z"
   },
   {
    "duration": 4,
    "start_time": "2022-08-29T07:11:07.183Z"
   },
   {
    "duration": 3,
    "start_time": "2022-08-29T07:11:07.439Z"
   },
   {
    "duration": 216,
    "start_time": "2022-08-29T07:11:08.084Z"
   },
   {
    "duration": 2,
    "start_time": "2022-08-29T07:11:08.638Z"
   },
   {
    "duration": 9,
    "start_time": "2022-08-29T07:11:10.154Z"
   },
   {
    "duration": 316,
    "start_time": "2022-08-29T07:11:11.073Z"
   },
   {
    "duration": 5,
    "start_time": "2022-08-29T07:11:15.130Z"
   },
   {
    "duration": 6,
    "start_time": "2022-08-29T07:11:17.146Z"
   },
   {
    "duration": 131,
    "start_time": "2022-08-29T07:11:17.513Z"
   },
   {
    "duration": 121,
    "start_time": "2022-08-29T07:11:20.209Z"
   },
   {
    "duration": 111,
    "start_time": "2022-08-29T07:11:21.551Z"
   },
   {
    "duration": 108,
    "start_time": "2022-08-29T07:11:27.375Z"
   },
   {
    "duration": 130,
    "start_time": "2022-08-29T07:12:07.301Z"
   },
   {
    "duration": 194,
    "start_time": "2022-08-29T07:12:21.632Z"
   },
   {
    "duration": 3,
    "start_time": "2022-08-29T07:19:03.081Z"
   },
   {
    "duration": 106,
    "start_time": "2022-08-29T07:19:03.086Z"
   },
   {
    "duration": 134,
    "start_time": "2022-08-29T07:19:03.193Z"
   },
   {
    "duration": 4,
    "start_time": "2022-08-29T07:19:03.328Z"
   },
   {
    "duration": 10,
    "start_time": "2022-08-29T07:19:03.334Z"
   },
   {
    "duration": 1610,
    "start_time": "2022-08-29T07:19:03.345Z"
   },
   {
    "duration": 9,
    "start_time": "2022-08-29T07:19:04.957Z"
   },
   {
    "duration": 18,
    "start_time": "2022-08-29T07:19:04.967Z"
   },
   {
    "duration": 102,
    "start_time": "2022-08-29T07:19:04.986Z"
   },
   {
    "duration": 31,
    "start_time": "2022-08-29T07:19:05.090Z"
   },
   {
    "duration": 6,
    "start_time": "2022-08-29T07:19:05.122Z"
   },
   {
    "duration": 4450,
    "start_time": "2022-08-29T07:19:05.130Z"
   },
   {
    "duration": 6,
    "start_time": "2022-08-29T07:19:09.581Z"
   },
   {
    "duration": 9,
    "start_time": "2022-08-29T07:19:09.589Z"
   },
   {
    "duration": 12,
    "start_time": "2022-08-29T07:19:09.600Z"
   },
   {
    "duration": 11,
    "start_time": "2022-08-29T07:19:09.614Z"
   },
   {
    "duration": 5,
    "start_time": "2022-08-29T07:19:09.626Z"
   },
   {
    "duration": 4,
    "start_time": "2022-08-29T07:19:09.633Z"
   },
   {
    "duration": 5,
    "start_time": "2022-08-29T07:19:09.639Z"
   },
   {
    "duration": 136,
    "start_time": "2022-08-29T07:19:09.646Z"
   },
   {
    "duration": 4,
    "start_time": "2022-08-29T07:19:09.784Z"
   },
   {
    "duration": 6,
    "start_time": "2022-08-29T07:19:09.789Z"
   },
   {
    "duration": 192,
    "start_time": "2022-08-29T07:19:09.796Z"
   },
   {
    "duration": 4,
    "start_time": "2022-08-29T07:19:09.990Z"
   },
   {
    "duration": 30,
    "start_time": "2022-08-29T07:19:09.995Z"
   },
   {
    "duration": 142,
    "start_time": "2022-08-29T07:19:10.027Z"
   },
   {
    "duration": 5,
    "start_time": "2022-08-29T07:19:10.171Z"
   },
   {
    "duration": 13,
    "start_time": "2022-08-29T07:19:10.178Z"
   },
   {
    "duration": 20,
    "start_time": "2022-08-29T07:19:10.193Z"
   },
   {
    "duration": 143,
    "start_time": "2022-08-29T07:19:10.215Z"
   },
   {
    "duration": 4,
    "start_time": "2022-08-29T07:19:10.360Z"
   },
   {
    "duration": 9,
    "start_time": "2022-08-29T07:19:10.365Z"
   },
   {
    "duration": 150,
    "start_time": "2022-08-29T07:19:10.375Z"
   },
   {
    "duration": 4,
    "start_time": "2022-08-29T07:19:10.527Z"
   },
   {
    "duration": 4,
    "start_time": "2022-08-29T07:19:10.532Z"
   },
   {
    "duration": 129,
    "start_time": "2022-08-29T07:19:10.537Z"
   },
   {
    "duration": 2,
    "start_time": "2022-08-29T07:19:10.667Z"
   },
   {
    "duration": 14,
    "start_time": "2022-08-29T07:19:10.670Z"
   },
   {
    "duration": 326,
    "start_time": "2022-08-29T07:19:10.685Z"
   },
   {
    "duration": 4,
    "start_time": "2022-08-29T07:19:11.012Z"
   },
   {
    "duration": 6,
    "start_time": "2022-08-29T07:19:11.019Z"
   },
   {
    "duration": 141,
    "start_time": "2022-08-29T07:19:11.026Z"
   },
   {
    "duration": 123,
    "start_time": "2022-08-29T07:19:11.168Z"
   },
   {
    "duration": 112,
    "start_time": "2022-08-29T07:19:11.293Z"
   },
   {
    "duration": 180,
    "start_time": "2022-08-29T07:19:11.406Z"
   },
   {
    "duration": 141,
    "start_time": "2022-08-29T07:19:11.587Z"
   },
   {
    "duration": 132,
    "start_time": "2022-08-29T07:19:11.729Z"
   },
   {
    "duration": 133,
    "start_time": "2022-08-29T07:19:11.863Z"
   },
   {
    "duration": 140,
    "start_time": "2022-08-29T07:19:11.998Z"
   },
   {
    "duration": 130,
    "start_time": "2022-08-29T07:19:12.140Z"
   },
   {
    "duration": 125,
    "start_time": "2022-08-29T07:19:12.272Z"
   },
   {
    "duration": 167,
    "start_time": "2022-08-29T07:19:12.398Z"
   },
   {
    "duration": 178,
    "start_time": "2022-08-29T07:19:12.567Z"
   },
   {
    "duration": 166,
    "start_time": "2022-08-29T07:19:12.746Z"
   },
   {
    "duration": 159,
    "start_time": "2022-08-29T07:19:12.913Z"
   },
   {
    "duration": 7,
    "start_time": "2022-08-29T07:19:13.073Z"
   },
   {
    "duration": 83,
    "start_time": "2022-08-29T07:19:13.082Z"
   },
   {
    "duration": 15,
    "start_time": "2022-08-29T07:19:13.166Z"
   },
   {
    "duration": 2221,
    "start_time": "2022-08-29T07:19:13.183Z"
   },
   {
    "duration": 25,
    "start_time": "2022-08-29T07:19:15.405Z"
   },
   {
    "duration": 23,
    "start_time": "2022-08-29T07:19:15.432Z"
   },
   {
    "duration": 147,
    "start_time": "2022-08-29T07:19:15.457Z"
   },
   {
    "duration": 7,
    "start_time": "2022-08-29T07:19:15.605Z"
   },
   {
    "duration": 106,
    "start_time": "2022-08-29T07:23:20.986Z"
   },
   {
    "duration": 109,
    "start_time": "2022-08-29T07:23:37.622Z"
   },
   {
    "duration": 221,
    "start_time": "2022-08-29T07:24:12.002Z"
   },
   {
    "duration": 106,
    "start_time": "2022-08-29T07:24:47.805Z"
   },
   {
    "duration": 97,
    "start_time": "2022-08-29T07:25:20.932Z"
   },
   {
    "duration": 119,
    "start_time": "2022-08-29T07:25:46.756Z"
   },
   {
    "duration": 109,
    "start_time": "2022-08-29T07:25:54.089Z"
   },
   {
    "duration": 103,
    "start_time": "2022-08-29T07:26:21.796Z"
   },
   {
    "duration": 118,
    "start_time": "2022-08-29T07:27:30.559Z"
   },
   {
    "duration": 111,
    "start_time": "2022-08-29T07:27:50.557Z"
   },
   {
    "duration": 1161,
    "start_time": "2022-08-29T07:28:25.232Z"
   },
   {
    "duration": 96,
    "start_time": "2022-08-29T07:28:32.006Z"
   },
   {
    "duration": 1165,
    "start_time": "2022-08-29T07:29:11.022Z"
   },
   {
    "duration": 129,
    "start_time": "2022-08-29T07:29:19.797Z"
   },
   {
    "duration": 114,
    "start_time": "2022-08-29T07:29:46.327Z"
   },
   {
    "duration": 180,
    "start_time": "2022-08-29T07:30:14.731Z"
   },
   {
    "duration": 10,
    "start_time": "2022-08-29T07:31:11.644Z"
   },
   {
    "duration": 6,
    "start_time": "2022-08-29T07:36:34.502Z"
   },
   {
    "duration": 5,
    "start_time": "2022-08-29T07:36:41.766Z"
   },
   {
    "duration": 127,
    "start_time": "2022-08-29T07:37:20.187Z"
   },
   {
    "duration": 15,
    "start_time": "2022-08-29T07:38:28.248Z"
   },
   {
    "duration": 16,
    "start_time": "2022-08-29T07:39:18.601Z"
   },
   {
    "duration": 10,
    "start_time": "2022-08-29T07:40:07.816Z"
   },
   {
    "duration": 8,
    "start_time": "2022-08-29T07:40:13.548Z"
   },
   {
    "duration": 16,
    "start_time": "2022-08-29T07:52:18.537Z"
   },
   {
    "duration": 2329,
    "start_time": "2022-08-29T07:53:31.453Z"
   },
   {
    "duration": 13,
    "start_time": "2022-08-29T07:54:56.365Z"
   },
   {
    "duration": 1998,
    "start_time": "2022-08-29T07:55:31.016Z"
   },
   {
    "duration": 1789,
    "start_time": "2022-08-29T08:02:09.606Z"
   },
   {
    "duration": 22002,
    "start_time": "2022-08-29T08:02:19.203Z"
   },
   {
    "duration": 2098,
    "start_time": "2022-08-29T08:03:49.506Z"
   },
   {
    "duration": 2555,
    "start_time": "2022-08-29T08:04:20.270Z"
   },
   {
    "duration": 71,
    "start_time": "2022-08-29T08:06:29.563Z"
   },
   {
    "duration": 1814,
    "start_time": "2022-08-29T08:06:40.347Z"
   },
   {
    "duration": 1726,
    "start_time": "2022-08-29T08:12:43.598Z"
   },
   {
    "duration": 15,
    "start_time": "2022-08-29T08:13:05.836Z"
   },
   {
    "duration": 2345,
    "start_time": "2022-08-29T08:13:21.276Z"
   },
   {
    "duration": 161,
    "start_time": "2022-08-29T08:17:21.126Z"
   },
   {
    "duration": 146,
    "start_time": "2022-08-29T08:17:41.675Z"
   },
   {
    "duration": 117,
    "start_time": "2022-08-29T08:18:33.161Z"
   },
   {
    "duration": 115,
    "start_time": "2022-08-29T08:18:55.799Z"
   },
   {
    "duration": 165,
    "start_time": "2022-08-29T08:19:41.007Z"
   },
   {
    "duration": 168,
    "start_time": "2022-08-29T08:19:59.521Z"
   },
   {
    "duration": 140,
    "start_time": "2022-08-29T08:20:05.768Z"
   },
   {
    "duration": 149,
    "start_time": "2022-08-29T08:21:29.575Z"
   },
   {
    "duration": 148,
    "start_time": "2022-08-29T08:21:47.166Z"
   },
   {
    "duration": 11,
    "start_time": "2022-08-29T08:21:55.024Z"
   },
   {
    "duration": 156,
    "start_time": "2022-08-29T08:22:02.891Z"
   },
   {
    "duration": 124,
    "start_time": "2022-08-29T08:22:16.391Z"
   },
   {
    "duration": 125,
    "start_time": "2022-08-29T08:22:50.711Z"
   },
   {
    "duration": 209,
    "start_time": "2022-08-29T08:23:04.098Z"
   },
   {
    "duration": 120,
    "start_time": "2022-08-29T08:23:10.911Z"
   },
   {
    "duration": 114,
    "start_time": "2022-08-29T08:23:16.692Z"
   },
   {
    "duration": 197,
    "start_time": "2022-08-29T08:23:47.866Z"
   },
   {
    "duration": 199,
    "start_time": "2022-08-29T08:24:06.049Z"
   },
   {
    "duration": 117,
    "start_time": "2022-08-29T08:24:14.610Z"
   },
   {
    "duration": 111,
    "start_time": "2022-08-29T08:24:28.857Z"
   },
   {
    "duration": 124,
    "start_time": "2022-08-29T08:25:01.413Z"
   },
   {
    "duration": 109,
    "start_time": "2022-08-29T08:25:23.337Z"
   },
   {
    "duration": 193,
    "start_time": "2022-08-29T08:26:51.752Z"
   },
   {
    "duration": 148,
    "start_time": "2022-08-29T08:33:22.427Z"
   },
   {
    "duration": 209,
    "start_time": "2022-08-29T08:34:15.904Z"
   },
   {
    "duration": 135,
    "start_time": "2022-08-29T08:34:33.121Z"
   },
   {
    "duration": 227,
    "start_time": "2022-08-29T08:34:46.213Z"
   },
   {
    "duration": 8,
    "start_time": "2022-08-29T08:43:32.658Z"
   },
   {
    "duration": 7,
    "start_time": "2022-08-29T08:43:46.624Z"
   },
   {
    "duration": 14,
    "start_time": "2022-08-29T08:43:53.068Z"
   },
   {
    "duration": 122,
    "start_time": "2022-08-29T08:44:07.206Z"
   },
   {
    "duration": 122,
    "start_time": "2022-08-29T08:44:15.638Z"
   },
   {
    "duration": 200,
    "start_time": "2022-08-29T08:44:24.976Z"
   },
   {
    "duration": 17,
    "start_time": "2022-08-29T08:44:32.483Z"
   },
   {
    "duration": 18,
    "start_time": "2022-08-29T08:44:45.953Z"
   },
   {
    "duration": 14,
    "start_time": "2022-08-29T08:44:55.215Z"
   },
   {
    "duration": 13,
    "start_time": "2022-08-29T08:45:24.031Z"
   },
   {
    "duration": 12,
    "start_time": "2022-08-29T08:45:31.101Z"
   },
   {
    "duration": 12,
    "start_time": "2022-08-29T08:49:27.222Z"
   },
   {
    "duration": 108,
    "start_time": "2022-08-29T08:50:09.759Z"
   },
   {
    "duration": 11,
    "start_time": "2022-08-29T08:52:21.152Z"
   },
   {
    "duration": 15,
    "start_time": "2022-08-29T08:52:29.700Z"
   },
   {
    "duration": 12,
    "start_time": "2022-08-29T08:53:43.883Z"
   },
   {
    "duration": 18,
    "start_time": "2022-08-29T08:54:21.925Z"
   },
   {
    "duration": 13,
    "start_time": "2022-08-29T08:54:29.909Z"
   },
   {
    "duration": 15,
    "start_time": "2022-08-29T08:54:43.714Z"
   },
   {
    "duration": 12,
    "start_time": "2022-08-29T08:54:57.824Z"
   },
   {
    "duration": 13,
    "start_time": "2022-08-29T08:55:21.222Z"
   },
   {
    "duration": 11,
    "start_time": "2022-08-29T08:55:29.910Z"
   },
   {
    "duration": 11,
    "start_time": "2022-08-29T08:55:56.595Z"
   },
   {
    "duration": 12,
    "start_time": "2022-08-29T08:56:24.336Z"
   },
   {
    "duration": 12,
    "start_time": "2022-08-29T08:56:48.944Z"
   },
   {
    "duration": 13,
    "start_time": "2022-08-29T08:56:58.973Z"
   },
   {
    "duration": 14,
    "start_time": "2022-08-29T08:57:18.401Z"
   },
   {
    "duration": 48,
    "start_time": "2022-08-29T08:58:36.634Z"
   },
   {
    "duration": 11,
    "start_time": "2022-08-29T08:59:09.592Z"
   },
   {
    "duration": 13,
    "start_time": "2022-08-29T08:59:17.853Z"
   },
   {
    "duration": 12,
    "start_time": "2022-08-29T08:59:25.476Z"
   },
   {
    "duration": 56,
    "start_time": "2022-08-29T09:00:10.943Z"
   },
   {
    "duration": 14,
    "start_time": "2022-08-29T09:01:16.830Z"
   },
   {
    "duration": 14,
    "start_time": "2022-08-29T09:01:46.591Z"
   },
   {
    "duration": 13,
    "start_time": "2022-08-29T09:02:12.309Z"
   },
   {
    "duration": 11,
    "start_time": "2022-08-29T09:03:24.787Z"
   },
   {
    "duration": 14,
    "start_time": "2022-08-29T09:03:40.831Z"
   },
   {
    "duration": 589,
    "start_time": "2022-08-29T09:07:23.677Z"
   },
   {
    "duration": 113,
    "start_time": "2022-08-29T09:07:24.268Z"
   },
   {
    "duration": 66,
    "start_time": "2022-08-29T09:07:24.382Z"
   },
   {
    "duration": 4,
    "start_time": "2022-08-29T09:07:24.449Z"
   },
   {
    "duration": 9,
    "start_time": "2022-08-29T09:07:24.456Z"
   },
   {
    "duration": 1728,
    "start_time": "2022-08-29T09:07:24.467Z"
   },
   {
    "duration": 9,
    "start_time": "2022-08-29T09:07:26.196Z"
   },
   {
    "duration": 18,
    "start_time": "2022-08-29T09:07:26.206Z"
   },
   {
    "duration": 93,
    "start_time": "2022-08-29T09:07:26.226Z"
   },
   {
    "duration": 27,
    "start_time": "2022-08-29T09:07:26.320Z"
   },
   {
    "duration": 18,
    "start_time": "2022-08-29T09:07:26.349Z"
   },
   {
    "duration": 4371,
    "start_time": "2022-08-29T09:07:26.368Z"
   },
   {
    "duration": 7,
    "start_time": "2022-08-29T09:07:30.741Z"
   },
   {
    "duration": 17,
    "start_time": "2022-08-29T09:07:30.751Z"
   },
   {
    "duration": 10,
    "start_time": "2022-08-29T09:07:30.770Z"
   },
   {
    "duration": 26,
    "start_time": "2022-08-29T09:07:30.782Z"
   },
   {
    "duration": 14,
    "start_time": "2022-08-29T09:07:30.810Z"
   },
   {
    "duration": 9,
    "start_time": "2022-08-29T09:07:30.825Z"
   },
   {
    "duration": 17,
    "start_time": "2022-08-29T09:07:30.836Z"
   },
   {
    "duration": 130,
    "start_time": "2022-08-29T09:07:30.854Z"
   },
   {
    "duration": 5,
    "start_time": "2022-08-29T09:07:30.985Z"
   },
   {
    "duration": 14,
    "start_time": "2022-08-29T09:07:30.991Z"
   },
   {
    "duration": 130,
    "start_time": "2022-08-29T09:07:31.006Z"
   },
   {
    "duration": 4,
    "start_time": "2022-08-29T09:07:31.137Z"
   },
   {
    "duration": 44,
    "start_time": "2022-08-29T09:07:31.143Z"
   },
   {
    "duration": 138,
    "start_time": "2022-08-29T09:07:31.189Z"
   },
   {
    "duration": 6,
    "start_time": "2022-08-29T09:07:31.329Z"
   },
   {
    "duration": 34,
    "start_time": "2022-08-29T09:07:31.337Z"
   },
   {
    "duration": 16,
    "start_time": "2022-08-29T09:07:31.372Z"
   },
   {
    "duration": 127,
    "start_time": "2022-08-29T09:07:31.389Z"
   },
   {
    "duration": 4,
    "start_time": "2022-08-29T09:07:31.518Z"
   },
   {
    "duration": 14,
    "start_time": "2022-08-29T09:07:31.523Z"
   },
   {
    "duration": 138,
    "start_time": "2022-08-29T09:07:31.539Z"
   },
   {
    "duration": 4,
    "start_time": "2022-08-29T09:07:31.679Z"
   },
   {
    "duration": 16,
    "start_time": "2022-08-29T09:07:31.684Z"
   },
   {
    "duration": 199,
    "start_time": "2022-08-29T09:07:31.702Z"
   },
   {
    "duration": 2,
    "start_time": "2022-08-29T09:07:31.902Z"
   },
   {
    "duration": 12,
    "start_time": "2022-08-29T09:07:31.910Z"
   },
   {
    "duration": 332,
    "start_time": "2022-08-29T09:07:31.923Z"
   },
   {
    "duration": 3,
    "start_time": "2022-08-29T09:07:32.257Z"
   },
   {
    "duration": 8,
    "start_time": "2022-08-29T09:07:32.263Z"
   },
   {
    "duration": 132,
    "start_time": "2022-08-29T09:07:32.273Z"
   },
   {
    "duration": 137,
    "start_time": "2022-08-29T09:07:32.410Z"
   },
   {
    "duration": 147,
    "start_time": "2022-08-29T09:07:32.548Z"
   },
   {
    "duration": 198,
    "start_time": "2022-08-29T09:07:32.697Z"
   },
   {
    "duration": 115,
    "start_time": "2022-08-29T09:07:32.897Z"
   },
   {
    "duration": 152,
    "start_time": "2022-08-29T09:07:33.014Z"
   },
   {
    "duration": 120,
    "start_time": "2022-08-29T09:07:33.168Z"
   },
   {
    "duration": 259,
    "start_time": "2022-08-29T09:07:33.289Z"
   },
   {
    "duration": 113,
    "start_time": "2022-08-29T09:07:33.549Z"
   },
   {
    "duration": 127,
    "start_time": "2022-08-29T09:07:33.663Z"
   },
   {
    "duration": 127,
    "start_time": "2022-08-29T09:07:33.791Z"
   },
   {
    "duration": 105,
    "start_time": "2022-08-29T09:07:33.919Z"
   },
   {
    "duration": 121,
    "start_time": "2022-08-29T09:07:34.026Z"
   },
   {
    "duration": 119,
    "start_time": "2022-08-29T09:07:34.148Z"
   },
   {
    "duration": 125,
    "start_time": "2022-08-29T09:07:34.268Z"
   },
   {
    "duration": 151,
    "start_time": "2022-08-29T09:07:34.395Z"
   },
   {
    "duration": 6,
    "start_time": "2022-08-29T09:07:34.547Z"
   },
   {
    "duration": 13,
    "start_time": "2022-08-29T09:07:34.554Z"
   },
   {
    "duration": 1834,
    "start_time": "2022-08-29T09:07:34.569Z"
   },
   {
    "duration": 16,
    "start_time": "2022-08-29T09:07:36.404Z"
   },
   {
    "duration": 11,
    "start_time": "2022-08-29T09:07:36.421Z"
   },
   {
    "duration": 13,
    "start_time": "2022-08-29T09:07:36.433Z"
   },
   {
    "duration": 12,
    "start_time": "2022-08-29T09:07:36.448Z"
   },
   {
    "duration": 14,
    "start_time": "2022-08-29T09:07:36.461Z"
   },
   {
    "duration": 56,
    "start_time": "2022-08-29T09:07:36.476Z"
   },
   {
    "duration": 19,
    "start_time": "2022-08-29T09:07:36.534Z"
   },
   {
    "duration": 140,
    "start_time": "2022-08-29T09:07:36.555Z"
   },
   {
    "duration": 2,
    "start_time": "2022-08-29T09:07:36.697Z"
   },
   {
    "duration": 16,
    "start_time": "2022-08-29T09:08:18.415Z"
   },
   {
    "duration": 16,
    "start_time": "2022-08-29T09:08:34.214Z"
   },
   {
    "duration": 15,
    "start_time": "2022-08-29T09:08:41.883Z"
   },
   {
    "duration": 25,
    "start_time": "2022-08-29T09:13:41.116Z"
   },
   {
    "duration": 87,
    "start_time": "2022-08-29T09:14:03.818Z"
   },
   {
    "duration": 19,
    "start_time": "2022-08-29T09:14:17.802Z"
   },
   {
    "duration": 22,
    "start_time": "2022-08-29T09:14:30.540Z"
   },
   {
    "duration": 18,
    "start_time": "2022-08-29T09:15:00.206Z"
   },
   {
    "duration": 14,
    "start_time": "2022-08-29T09:15:51.829Z"
   },
   {
    "duration": 12,
    "start_time": "2022-08-29T09:16:16.410Z"
   },
   {
    "duration": 16,
    "start_time": "2022-08-29T09:16:36.751Z"
   },
   {
    "duration": 32,
    "start_time": "2022-08-29T09:17:18.167Z"
   },
   {
    "duration": 16,
    "start_time": "2022-08-29T09:17:43.022Z"
   },
   {
    "duration": 15,
    "start_time": "2022-08-29T09:17:50.010Z"
   },
   {
    "duration": 645,
    "start_time": "2022-08-29T09:28:05.286Z"
   },
   {
    "duration": 120,
    "start_time": "2022-08-29T09:28:05.933Z"
   },
   {
    "duration": 65,
    "start_time": "2022-08-29T09:28:06.054Z"
   },
   {
    "duration": 3,
    "start_time": "2022-08-29T09:28:06.121Z"
   },
   {
    "duration": 13,
    "start_time": "2022-08-29T09:28:06.125Z"
   },
   {
    "duration": 1708,
    "start_time": "2022-08-29T09:28:06.139Z"
   },
   {
    "duration": 10,
    "start_time": "2022-08-29T09:28:07.848Z"
   },
   {
    "duration": 14,
    "start_time": "2022-08-29T09:28:07.859Z"
   },
   {
    "duration": 101,
    "start_time": "2022-08-29T09:28:07.874Z"
   },
   {
    "duration": 36,
    "start_time": "2022-08-29T09:28:07.978Z"
   },
   {
    "duration": 7,
    "start_time": "2022-08-29T09:28:08.016Z"
   },
   {
    "duration": 4427,
    "start_time": "2022-08-29T09:28:08.025Z"
   },
   {
    "duration": 5,
    "start_time": "2022-08-29T09:28:12.454Z"
   },
   {
    "duration": 30,
    "start_time": "2022-08-29T09:28:12.461Z"
   },
   {
    "duration": 20,
    "start_time": "2022-08-29T09:28:12.493Z"
   },
   {
    "duration": 37,
    "start_time": "2022-08-29T09:28:12.515Z"
   },
   {
    "duration": 20,
    "start_time": "2022-08-29T09:28:12.554Z"
   },
   {
    "duration": 21,
    "start_time": "2022-08-29T09:28:12.576Z"
   },
   {
    "duration": 18,
    "start_time": "2022-08-29T09:28:12.599Z"
   },
   {
    "duration": 165,
    "start_time": "2022-08-29T09:28:12.619Z"
   },
   {
    "duration": 6,
    "start_time": "2022-08-29T09:28:12.786Z"
   },
   {
    "duration": 18,
    "start_time": "2022-08-29T09:28:12.794Z"
   },
   {
    "duration": 119,
    "start_time": "2022-08-29T09:28:12.814Z"
   },
   {
    "duration": 3,
    "start_time": "2022-08-29T09:28:12.935Z"
   },
   {
    "duration": 25,
    "start_time": "2022-08-29T09:28:12.940Z"
   },
   {
    "duration": 136,
    "start_time": "2022-08-29T09:28:12.966Z"
   },
   {
    "duration": 9,
    "start_time": "2022-08-29T09:28:13.104Z"
   },
   {
    "duration": 4,
    "start_time": "2022-08-29T09:28:13.118Z"
   },
   {
    "duration": 9,
    "start_time": "2022-08-29T09:28:13.123Z"
   },
   {
    "duration": 138,
    "start_time": "2022-08-29T09:28:13.134Z"
   },
   {
    "duration": 4,
    "start_time": "2022-08-29T09:28:13.273Z"
   },
   {
    "duration": 7,
    "start_time": "2022-08-29T09:28:13.278Z"
   },
   {
    "duration": 139,
    "start_time": "2022-08-29T09:28:13.286Z"
   },
   {
    "duration": 4,
    "start_time": "2022-08-29T09:28:13.427Z"
   },
   {
    "duration": 17,
    "start_time": "2022-08-29T09:28:13.432Z"
   },
   {
    "duration": 194,
    "start_time": "2022-08-29T09:28:13.451Z"
   },
   {
    "duration": 2,
    "start_time": "2022-08-29T09:28:13.647Z"
   },
   {
    "duration": 12,
    "start_time": "2022-08-29T09:28:13.650Z"
   },
   {
    "duration": 339,
    "start_time": "2022-08-29T09:28:13.663Z"
   },
   {
    "duration": 4,
    "start_time": "2022-08-29T09:28:14.003Z"
   },
   {
    "duration": 8,
    "start_time": "2022-08-29T09:28:14.008Z"
   },
   {
    "duration": 135,
    "start_time": "2022-08-29T09:28:14.017Z"
   },
   {
    "duration": 122,
    "start_time": "2022-08-29T09:28:14.154Z"
   },
   {
    "duration": 111,
    "start_time": "2022-08-29T09:28:14.278Z"
   },
   {
    "duration": 156,
    "start_time": "2022-08-29T09:28:14.391Z"
   },
   {
    "duration": 119,
    "start_time": "2022-08-29T09:28:14.548Z"
   },
   {
    "duration": 151,
    "start_time": "2022-08-29T09:28:14.668Z"
   },
   {
    "duration": 123,
    "start_time": "2022-08-29T09:28:14.820Z"
   },
   {
    "duration": 253,
    "start_time": "2022-08-29T09:28:14.944Z"
   },
   {
    "duration": 112,
    "start_time": "2022-08-29T09:28:15.199Z"
   },
   {
    "duration": 123,
    "start_time": "2022-08-29T09:28:15.312Z"
   },
   {
    "duration": 119,
    "start_time": "2022-08-29T09:28:15.437Z"
   },
   {
    "duration": 105,
    "start_time": "2022-08-29T09:28:15.557Z"
   },
   {
    "duration": 128,
    "start_time": "2022-08-29T09:28:15.664Z"
   },
   {
    "duration": 125,
    "start_time": "2022-08-29T09:28:15.794Z"
   },
   {
    "duration": 123,
    "start_time": "2022-08-29T09:28:15.921Z"
   },
   {
    "duration": 154,
    "start_time": "2022-08-29T09:28:16.045Z"
   },
   {
    "duration": 10,
    "start_time": "2022-08-29T09:28:16.201Z"
   },
   {
    "duration": 14,
    "start_time": "2022-08-29T09:28:16.212Z"
   },
   {
    "duration": 1869,
    "start_time": "2022-08-29T09:28:16.228Z"
   },
   {
    "duration": 25,
    "start_time": "2022-08-29T09:28:18.098Z"
   },
   {
    "duration": 12,
    "start_time": "2022-08-29T09:28:18.125Z"
   },
   {
    "duration": 52,
    "start_time": "2022-08-29T09:28:18.138Z"
   },
   {
    "duration": 22,
    "start_time": "2022-08-29T09:28:18.192Z"
   },
   {
    "duration": 29,
    "start_time": "2022-08-29T09:28:18.215Z"
   },
   {
    "duration": 35,
    "start_time": "2022-08-29T09:28:18.246Z"
   },
   {
    "duration": 21,
    "start_time": "2022-08-29T09:28:18.282Z"
   },
   {
    "duration": 129,
    "start_time": "2022-08-29T09:28:18.305Z"
   },
   {
    "duration": 2,
    "start_time": "2022-08-29T09:28:18.436Z"
   },
   {
    "duration": 107,
    "start_time": "2022-08-29T09:29:02.137Z"
   },
   {
    "duration": 578,
    "start_time": "2022-08-29T17:33:42.417Z"
   },
   {
    "duration": 105,
    "start_time": "2022-08-29T17:33:42.997Z"
   },
   {
    "duration": 74,
    "start_time": "2022-08-29T17:33:43.104Z"
   },
   {
    "duration": 3,
    "start_time": "2022-08-29T17:33:43.180Z"
   },
   {
    "duration": 10,
    "start_time": "2022-08-29T17:33:43.185Z"
   },
   {
    "duration": 1685,
    "start_time": "2022-08-29T17:33:43.196Z"
   },
   {
    "duration": 8,
    "start_time": "2022-08-29T17:33:44.883Z"
   },
   {
    "duration": 16,
    "start_time": "2022-08-29T17:33:44.892Z"
   },
   {
    "duration": 114,
    "start_time": "2022-08-29T17:33:44.910Z"
   },
   {
    "duration": 32,
    "start_time": "2022-08-29T17:33:45.025Z"
   },
   {
    "duration": 6,
    "start_time": "2022-08-29T17:33:45.058Z"
   },
   {
    "duration": 4755,
    "start_time": "2022-08-29T17:33:45.066Z"
   },
   {
    "duration": 5,
    "start_time": "2022-08-29T17:33:49.823Z"
   },
   {
    "duration": 7,
    "start_time": "2022-08-29T17:33:49.831Z"
   },
   {
    "duration": 16,
    "start_time": "2022-08-29T17:33:49.840Z"
   },
   {
    "duration": 6,
    "start_time": "2022-08-29T17:33:49.858Z"
   },
   {
    "duration": 4,
    "start_time": "2022-08-29T17:33:49.865Z"
   },
   {
    "duration": 5,
    "start_time": "2022-08-29T17:33:49.870Z"
   },
   {
    "duration": 8,
    "start_time": "2022-08-29T17:33:49.876Z"
   },
   {
    "duration": 137,
    "start_time": "2022-08-29T17:33:49.885Z"
   },
   {
    "duration": 5,
    "start_time": "2022-08-29T17:33:50.023Z"
   },
   {
    "duration": 7,
    "start_time": "2022-08-29T17:33:50.030Z"
   },
   {
    "duration": 126,
    "start_time": "2022-08-29T17:33:50.039Z"
   },
   {
    "duration": 4,
    "start_time": "2022-08-29T17:33:50.167Z"
   },
   {
    "duration": 27,
    "start_time": "2022-08-29T17:33:50.172Z"
   },
   {
    "duration": 140,
    "start_time": "2022-08-29T17:33:50.200Z"
   },
   {
    "duration": 13,
    "start_time": "2022-08-29T17:33:50.342Z"
   },
   {
    "duration": 4,
    "start_time": "2022-08-29T17:33:50.356Z"
   },
   {
    "duration": 7,
    "start_time": "2022-08-29T17:33:50.362Z"
   },
   {
    "duration": 142,
    "start_time": "2022-08-29T17:33:50.370Z"
   },
   {
    "duration": 4,
    "start_time": "2022-08-29T17:33:50.513Z"
   },
   {
    "duration": 8,
    "start_time": "2022-08-29T17:33:50.519Z"
   },
   {
    "duration": 158,
    "start_time": "2022-08-29T17:33:50.529Z"
   },
   {
    "duration": 3,
    "start_time": "2022-08-29T17:33:50.689Z"
   },
   {
    "duration": 6,
    "start_time": "2022-08-29T17:33:50.694Z"
   },
   {
    "duration": 222,
    "start_time": "2022-08-29T17:33:50.701Z"
   },
   {
    "duration": 2,
    "start_time": "2022-08-29T17:33:50.924Z"
   },
   {
    "duration": 17,
    "start_time": "2022-08-29T17:33:50.928Z"
   },
   {
    "duration": 352,
    "start_time": "2022-08-29T17:33:50.946Z"
   },
   {
    "duration": 4,
    "start_time": "2022-08-29T17:33:51.300Z"
   },
   {
    "duration": 6,
    "start_time": "2022-08-29T17:33:51.309Z"
   },
   {
    "duration": 163,
    "start_time": "2022-08-29T17:33:51.316Z"
   },
   {
    "duration": 146,
    "start_time": "2022-08-29T17:33:51.481Z"
   },
   {
    "duration": 121,
    "start_time": "2022-08-29T17:33:51.628Z"
   },
   {
    "duration": 160,
    "start_time": "2022-08-29T17:33:51.751Z"
   },
   {
    "duration": 122,
    "start_time": "2022-08-29T17:33:51.913Z"
   },
   {
    "duration": 155,
    "start_time": "2022-08-29T17:33:52.037Z"
   },
   {
    "duration": 128,
    "start_time": "2022-08-29T17:33:52.194Z"
   },
   {
    "duration": 265,
    "start_time": "2022-08-29T17:33:52.323Z"
   },
   {
    "duration": 106,
    "start_time": "2022-08-29T17:33:52.589Z"
   },
   {
    "duration": 125,
    "start_time": "2022-08-29T17:33:52.697Z"
   },
   {
    "duration": 115,
    "start_time": "2022-08-29T17:33:52.823Z"
   },
   {
    "duration": 105,
    "start_time": "2022-08-29T17:33:52.940Z"
   },
   {
    "duration": 114,
    "start_time": "2022-08-29T17:33:53.046Z"
   },
   {
    "duration": 120,
    "start_time": "2022-08-29T17:33:53.162Z"
   },
   {
    "duration": 126,
    "start_time": "2022-08-29T17:33:53.283Z"
   },
   {
    "duration": 159,
    "start_time": "2022-08-29T17:33:53.410Z"
   },
   {
    "duration": 6,
    "start_time": "2022-08-29T17:33:53.570Z"
   },
   {
    "duration": 14,
    "start_time": "2022-08-29T17:33:53.577Z"
   },
   {
    "duration": 1880,
    "start_time": "2022-08-29T17:33:53.592Z"
   },
   {
    "duration": 15,
    "start_time": "2022-08-29T17:33:55.474Z"
   },
   {
    "duration": 11,
    "start_time": "2022-08-29T17:33:55.491Z"
   },
   {
    "duration": 12,
    "start_time": "2022-08-29T17:33:55.504Z"
   },
   {
    "duration": 40,
    "start_time": "2022-08-29T17:33:55.518Z"
   },
   {
    "duration": 13,
    "start_time": "2022-08-29T17:33:55.560Z"
   },
   {
    "duration": 21,
    "start_time": "2022-08-29T17:33:55.575Z"
   },
   {
    "duration": 19,
    "start_time": "2022-08-29T17:33:55.597Z"
   },
   {
    "duration": 150,
    "start_time": "2022-08-29T17:33:55.617Z"
   },
   {
    "duration": 3,
    "start_time": "2022-08-29T17:33:55.768Z"
   }
  ],
  "kernelspec": {
   "display_name": "Python 3 (ipykernel)",
   "language": "python",
   "name": "python3"
  },
  "language_info": {
   "codemirror_mode": {
    "name": "ipython",
    "version": 3
   },
   "file_extension": ".py",
   "mimetype": "text/x-python",
   "name": "python",
   "nbconvert_exporter": "python",
   "pygments_lexer": "ipython3",
   "version": "3.9.8"
  },
  "toc": {
   "base_numbering": 1,
   "nav_menu": {},
   "number_sections": true,
   "sideBar": true,
   "skip_h1_title": true,
   "title_cell": "Table of Contents",
   "title_sidebar": "Contents",
   "toc_cell": false,
   "toc_position": {},
   "toc_section_display": true,
   "toc_window_display": false
  }
 },
 "nbformat": 4,
 "nbformat_minor": 2
}
